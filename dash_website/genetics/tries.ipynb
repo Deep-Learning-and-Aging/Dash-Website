{
 "cells": [
  {
   "cell_type": "code",
   "execution_count": 1,
   "metadata": {},
   "outputs": [],
   "source": [
    "import pandas as pd \n",
    "import numpy as np\n",
    "from dash_website.utils.graphs.add_line_and_annotation import add_line_and_annotation\n",
    "from dash_website.correlation_between import CUSTOM_ORDER\n",
    "\n",
    "order_by = \"custom\"\n",
    "data_genetics_heritability = pd.read_feather(f\"../../all_data/genetics/heritability/heritability.feather\").to_dict()"
   ]
  },
  {
   "cell_type": "code",
   "execution_count": 31,
   "metadata": {},
   "outputs": [
    {
     "data": {
      "application/vnd.plotly.v1+json": {
       "config": {
        "plotlyServerURL": "https://plot.ly"
       },
       "data": [
        {
         "error_y": {
          "array": [
           0.00874,
           0.22711,
           0.0258,
           0.02026,
           0.01742,
           0.01248,
           0.00908,
           0.00874,
           0.00394,
           0.00249,
           0.07286,
           0.00394,
           0.06992,
           0.03643,
           0.02851,
           0.01896,
           0.0187,
           0.01514,
           0.01863,
           0.01763,
           0.01655,
           0.01614,
           0.01683,
           0.01611,
           0.00219,
           0.00874,
           0.00952,
           0.00474,
           0.00347,
           0.00202
          ],
          "type": "data"
         },
         "marker": {
          "color": "indianred"
         },
         "name": "Heritability",
         "type": "bar",
         "x": [
          5,
          15,
          25,
          35,
          45,
          55,
          65,
          75,
          85,
          95,
          105,
          115,
          125,
          135,
          145,
          155,
          165,
          175,
          185,
          195,
          205,
          215,
          225,
          235,
          245,
          255,
          265,
          275,
          285,
          295
         ],
         "y": [
          0.124556,
          0.200518,
          0.35914,
          0.292504,
          0.390608,
          0.28243,
          0.259839,
          0.235864,
          0.141424,
          0.302696,
          0.325738,
          0.171833,
          0.286387,
          0.351699,
          0.217725,
          0.379117,
          0.263319,
          0.222676,
          0.22144,
          0.348833,
          0.328861,
          0.276972,
          0.253273,
          0.30665,
          0.220735,
          0.123365,
          0.255124,
          0.105166,
          0.262295,
          0.180777
         ]
        }
       ],
       "layout": {
        "annotations": [
         {
          "font": {
           "size": 10
          },
          "showarrow": false,
          "text": "*instances1.5x",
          "textangle": 90,
          "x": 5,
          "xref": "x",
          "y": -0.375,
          "yref": "y"
         },
         {
          "font": {
           "size": 8
          },
          "showarrow": false,
          "text": "*",
          "textangle": 90,
          "x": 5,
          "xref": "x",
          "y": -0.125,
          "yref": "y"
         },
         {
          "font": {
           "size": 10
          },
          "showarrow": false,
          "text": "*instances23",
          "textangle": 90,
          "x": 15,
          "xref": "x",
          "y": -0.375,
          "yref": "y"
         },
         {
          "font": {
           "size": 8
          },
          "showarrow": false,
          "text": "*",
          "textangle": 90,
          "x": 15,
          "xref": "x",
          "y": -0.125,
          "yref": "y"
         },
         {
          "font": {
           "size": 10
          },
          "showarrow": false,
          "text": "Brain",
          "textangle": 90,
          "x": 35,
          "xref": "x",
          "y": -0.375,
          "yref": "y"
         },
         {
          "font": {
           "size": 8
          },
          "showarrow": false,
          "text": "*",
          "textangle": 90,
          "x": 25,
          "xref": "x",
          "y": -0.125,
          "yref": "y"
         },
         {
          "font": {
           "size": 8
          },
          "showarrow": false,
          "text": "Cognitive",
          "textangle": 90,
          "x": 35,
          "xref": "x",
          "y": -0.125,
          "yref": "y"
         },
         {
          "font": {
           "size": 8
          },
          "showarrow": false,
          "text": "MRI",
          "textangle": 90,
          "x": 45,
          "xref": "x",
          "y": -0.125,
          "yref": "y"
         },
         {
          "font": {
           "size": 10
          },
          "showarrow": false,
          "text": "Eyes",
          "textangle": 90,
          "x": 65,
          "xref": "x",
          "y": -0.375,
          "yref": "y"
         },
         {
          "font": {
           "size": 8
          },
          "showarrow": false,
          "text": "*",
          "textangle": 90,
          "x": 55,
          "xref": "x",
          "y": -0.125,
          "yref": "y"
         },
         {
          "font": {
           "size": 8
          },
          "showarrow": false,
          "text": "Fundus",
          "textangle": 90,
          "x": 65,
          "xref": "x",
          "y": -0.125,
          "yref": "y"
         },
         {
          "font": {
           "size": 8
          },
          "showarrow": false,
          "text": "OCT",
          "textangle": 90,
          "x": 75,
          "xref": "x",
          "y": -0.125,
          "yref": "y"
         },
         {
          "font": {
           "size": 10
          },
          "showarrow": false,
          "text": "Hearing",
          "textangle": 90,
          "x": 85,
          "xref": "x",
          "y": -0.375,
          "yref": "y"
         },
         {
          "font": {
           "size": 8
          },
          "showarrow": false,
          "text": "*",
          "textangle": 90,
          "x": 85,
          "xref": "x",
          "y": -0.125,
          "yref": "y"
         },
         {
          "font": {
           "size": 10
          },
          "showarrow": false,
          "text": "Lungs",
          "textangle": 90,
          "x": 95,
          "xref": "x",
          "y": -0.375,
          "yref": "y"
         },
         {
          "font": {
           "size": 8
          },
          "showarrow": false,
          "text": "*",
          "textangle": 90,
          "x": 95,
          "xref": "x",
          "y": -0.125,
          "yref": "y"
         },
         {
          "font": {
           "size": 10
          },
          "showarrow": false,
          "text": "Arterial",
          "textangle": 90,
          "x": 115,
          "xref": "x",
          "y": -0.375,
          "yref": "y"
         },
         {
          "font": {
           "size": 8
          },
          "showarrow": false,
          "text": "*",
          "textangle": 90,
          "x": 105,
          "xref": "x",
          "y": -0.125,
          "yref": "y"
         },
         {
          "font": {
           "size": 8
          },
          "showarrow": false,
          "text": "PulseWaveAnalysis",
          "textangle": 90,
          "x": 115,
          "xref": "x",
          "y": -0.125,
          "yref": "y"
         },
         {
          "font": {
           "size": 8
          },
          "showarrow": false,
          "text": "Carotids",
          "textangle": 90,
          "x": 125,
          "xref": "x",
          "y": -0.125,
          "yref": "y"
         },
         {
          "font": {
           "size": 10
          },
          "showarrow": false,
          "text": "Heart",
          "textangle": 90,
          "x": 145,
          "xref": "x",
          "y": -0.375,
          "yref": "y"
         },
         {
          "font": {
           "size": 8
          },
          "showarrow": false,
          "text": "*",
          "textangle": 90,
          "x": 135,
          "xref": "x",
          "y": -0.125,
          "yref": "y"
         },
         {
          "font": {
           "size": 8
          },
          "showarrow": false,
          "text": "ECG",
          "textangle": 90,
          "x": 145,
          "xref": "x",
          "y": -0.125,
          "yref": "y"
         },
         {
          "font": {
           "size": 8
          },
          "showarrow": false,
          "text": "MRI",
          "textangle": 90,
          "x": 155,
          "xref": "x",
          "y": -0.125,
          "yref": "y"
         },
         {
          "font": {
           "size": 10
          },
          "showarrow": false,
          "text": "Abdomen",
          "textangle": 90,
          "x": 175,
          "xref": "x",
          "y": -0.375,
          "yref": "y"
         },
         {
          "font": {
           "size": 8
          },
          "showarrow": false,
          "text": "*",
          "textangle": 90,
          "x": 165,
          "xref": "x",
          "y": -0.125,
          "yref": "y"
         },
         {
          "font": {
           "size": 8
          },
          "showarrow": false,
          "text": "Liver",
          "textangle": 90,
          "x": 175,
          "xref": "x",
          "y": -0.125,
          "yref": "y"
         },
         {
          "font": {
           "size": 8
          },
          "showarrow": false,
          "text": "Pancreas",
          "textangle": 90,
          "x": 185,
          "xref": "x",
          "y": -0.125,
          "yref": "y"
         },
         {
          "font": {
           "size": 10
          },
          "showarrow": false,
          "text": "Musculoskeletal",
          "textangle": 90,
          "x": 220,
          "xref": "x",
          "y": -0.375,
          "yref": "y"
         },
         {
          "font": {
           "size": 8
          },
          "showarrow": false,
          "text": "*",
          "textangle": 90,
          "x": 195,
          "xref": "x",
          "y": -0.125,
          "yref": "y"
         },
         {
          "font": {
           "size": 8
          },
          "showarrow": false,
          "text": "Spine",
          "textangle": 90,
          "x": 205,
          "xref": "x",
          "y": -0.125,
          "yref": "y"
         },
         {
          "font": {
           "size": 8
          },
          "showarrow": false,
          "text": "Hips",
          "textangle": 90,
          "x": 215,
          "xref": "x",
          "y": -0.125,
          "yref": "y"
         },
         {
          "font": {
           "size": 8
          },
          "showarrow": false,
          "text": "Knees",
          "textangle": 90,
          "x": 225,
          "xref": "x",
          "y": -0.125,
          "yref": "y"
         },
         {
          "font": {
           "size": 8
          },
          "showarrow": false,
          "text": "FullBody",
          "textangle": 90,
          "x": 235,
          "xref": "x",
          "y": -0.125,
          "yref": "y"
         },
         {
          "font": {
           "size": 8
          },
          "showarrow": false,
          "text": "Scalars",
          "textangle": 90,
          "x": 245,
          "xref": "x",
          "y": -0.125,
          "yref": "y"
         },
         {
          "font": {
           "size": 10
          },
          "showarrow": false,
          "text": "PhysicalActivity",
          "textangle": 90,
          "x": 255,
          "xref": "x",
          "y": -0.375,
          "yref": "y"
         },
         {
          "font": {
           "size": 8
          },
          "showarrow": false,
          "text": "*",
          "textangle": 90,
          "x": 255,
          "xref": "x",
          "y": -0.125,
          "yref": "y"
         },
         {
          "font": {
           "size": 10
          },
          "showarrow": false,
          "text": "Biochemistry",
          "textangle": 90,
          "x": 275,
          "xref": "x",
          "y": -0.375,
          "yref": "y"
         },
         {
          "font": {
           "size": 8
          },
          "showarrow": false,
          "text": "*",
          "textangle": 90,
          "x": 265,
          "xref": "x",
          "y": -0.125,
          "yref": "y"
         },
         {
          "font": {
           "size": 8
          },
          "showarrow": false,
          "text": "Urine",
          "textangle": 90,
          "x": 275,
          "xref": "x",
          "y": -0.125,
          "yref": "y"
         },
         {
          "font": {
           "size": 8
          },
          "showarrow": false,
          "text": "Blood",
          "textangle": 90,
          "x": 285,
          "xref": "x",
          "y": -0.125,
          "yref": "y"
         },
         {
          "font": {
           "size": 10
          },
          "showarrow": false,
          "text": "BloodCells",
          "textangle": 90,
          "x": 295,
          "xref": "x",
          "y": -0.375,
          "yref": "y"
         },
         {
          "font": {
           "size": 8
          },
          "showarrow": false,
          "text": "*",
          "textangle": 90,
          "x": 295,
          "xref": "x",
          "y": -0.125,
          "yref": "y"
         }
        ],
        "shapes": [
         {
          "line": {
           "color": "Black",
           "width": 0.5
          },
          "type": "line",
          "x0": 0,
          "x1": 0,
          "xref": "x",
          "y0": -0.25,
          "y1": -0.5,
          "yref": "y"
         },
         {
          "line": {
           "color": "Black",
           "width": 0.5
          },
          "type": "line",
          "x0": 0,
          "x1": 0,
          "xref": "x",
          "y0": 0,
          "y1": -0.25,
          "yref": "y"
         },
         {
          "line": {
           "color": "Black",
           "width": 0.5
          },
          "type": "line",
          "x0": 10,
          "x1": 10,
          "xref": "x",
          "y0": -0.25,
          "y1": -0.5,
          "yref": "y"
         },
         {
          "line": {
           "color": "Black",
           "width": 0.5
          },
          "type": "line",
          "x0": 10,
          "x1": 10,
          "xref": "x",
          "y0": 0,
          "y1": -0.25,
          "yref": "y"
         },
         {
          "line": {
           "color": "Black",
           "width": 0.5
          },
          "type": "line",
          "x0": 20,
          "x1": 20,
          "xref": "x",
          "y0": -0.25,
          "y1": -0.5,
          "yref": "y"
         },
         {
          "line": {
           "color": "Black",
           "width": 0.5
          },
          "type": "line",
          "x0": 20,
          "x1": 20,
          "xref": "x",
          "y0": 0,
          "y1": -0.25,
          "yref": "y"
         },
         {
          "line": {
           "color": "Black",
           "width": 0.5
          },
          "type": "line",
          "x0": 30,
          "x1": 30,
          "xref": "x",
          "y0": 0,
          "y1": -0.25,
          "yref": "y"
         },
         {
          "line": {
           "color": "Black",
           "width": 0.5
          },
          "type": "line",
          "x0": 40,
          "x1": 40,
          "xref": "x",
          "y0": 0,
          "y1": -0.25,
          "yref": "y"
         },
         {
          "line": {
           "color": "Black",
           "width": 0.5
          },
          "type": "line",
          "x0": 50,
          "x1": 50,
          "xref": "x",
          "y0": -0.25,
          "y1": -0.5,
          "yref": "y"
         },
         {
          "line": {
           "color": "Black",
           "width": 0.5
          },
          "type": "line",
          "x0": 50,
          "x1": 50,
          "xref": "x",
          "y0": 0,
          "y1": -0.25,
          "yref": "y"
         },
         {
          "line": {
           "color": "Black",
           "width": 0.5
          },
          "type": "line",
          "x0": 60,
          "x1": 60,
          "xref": "x",
          "y0": 0,
          "y1": -0.25,
          "yref": "y"
         },
         {
          "line": {
           "color": "Black",
           "width": 0.5
          },
          "type": "line",
          "x0": 70,
          "x1": 70,
          "xref": "x",
          "y0": 0,
          "y1": -0.25,
          "yref": "y"
         },
         {
          "line": {
           "color": "Black",
           "width": 0.5
          },
          "type": "line",
          "x0": 80,
          "x1": 80,
          "xref": "x",
          "y0": -0.25,
          "y1": -0.5,
          "yref": "y"
         },
         {
          "line": {
           "color": "Black",
           "width": 0.5
          },
          "type": "line",
          "x0": 80,
          "x1": 80,
          "xref": "x",
          "y0": 0,
          "y1": -0.25,
          "yref": "y"
         },
         {
          "line": {
           "color": "Black",
           "width": 0.5
          },
          "type": "line",
          "x0": 90,
          "x1": 90,
          "xref": "x",
          "y0": -0.25,
          "y1": -0.5,
          "yref": "y"
         },
         {
          "line": {
           "color": "Black",
           "width": 0.5
          },
          "type": "line",
          "x0": 90,
          "x1": 90,
          "xref": "x",
          "y0": 0,
          "y1": -0.25,
          "yref": "y"
         },
         {
          "line": {
           "color": "Black",
           "width": 0.5
          },
          "type": "line",
          "x0": 100,
          "x1": 100,
          "xref": "x",
          "y0": -0.25,
          "y1": -0.5,
          "yref": "y"
         },
         {
          "line": {
           "color": "Black",
           "width": 0.5
          },
          "type": "line",
          "x0": 100,
          "x1": 100,
          "xref": "x",
          "y0": 0,
          "y1": -0.25,
          "yref": "y"
         },
         {
          "line": {
           "color": "Black",
           "width": 0.5
          },
          "type": "line",
          "x0": 110,
          "x1": 110,
          "xref": "x",
          "y0": 0,
          "y1": -0.25,
          "yref": "y"
         },
         {
          "line": {
           "color": "Black",
           "width": 0.5
          },
          "type": "line",
          "x0": 120,
          "x1": 120,
          "xref": "x",
          "y0": 0,
          "y1": -0.25,
          "yref": "y"
         },
         {
          "line": {
           "color": "Black",
           "width": 0.5
          },
          "type": "line",
          "x0": 130,
          "x1": 130,
          "xref": "x",
          "y0": -0.25,
          "y1": -0.5,
          "yref": "y"
         },
         {
          "line": {
           "color": "Black",
           "width": 0.5
          },
          "type": "line",
          "x0": 130,
          "x1": 130,
          "xref": "x",
          "y0": 0,
          "y1": -0.25,
          "yref": "y"
         },
         {
          "line": {
           "color": "Black",
           "width": 0.5
          },
          "type": "line",
          "x0": 140,
          "x1": 140,
          "xref": "x",
          "y0": 0,
          "y1": -0.25,
          "yref": "y"
         },
         {
          "line": {
           "color": "Black",
           "width": 0.5
          },
          "type": "line",
          "x0": 150,
          "x1": 150,
          "xref": "x",
          "y0": 0,
          "y1": -0.25,
          "yref": "y"
         },
         {
          "line": {
           "color": "Black",
           "width": 0.5
          },
          "type": "line",
          "x0": 160,
          "x1": 160,
          "xref": "x",
          "y0": -0.25,
          "y1": -0.5,
          "yref": "y"
         },
         {
          "line": {
           "color": "Black",
           "width": 0.5
          },
          "type": "line",
          "x0": 160,
          "x1": 160,
          "xref": "x",
          "y0": 0,
          "y1": -0.25,
          "yref": "y"
         },
         {
          "line": {
           "color": "Black",
           "width": 0.5
          },
          "type": "line",
          "x0": 170,
          "x1": 170,
          "xref": "x",
          "y0": 0,
          "y1": -0.25,
          "yref": "y"
         },
         {
          "line": {
           "color": "Black",
           "width": 0.5
          },
          "type": "line",
          "x0": 180,
          "x1": 180,
          "xref": "x",
          "y0": 0,
          "y1": -0.25,
          "yref": "y"
         },
         {
          "line": {
           "color": "Black",
           "width": 0.5
          },
          "type": "line",
          "x0": 190,
          "x1": 190,
          "xref": "x",
          "y0": -0.25,
          "y1": -0.5,
          "yref": "y"
         },
         {
          "line": {
           "color": "Black",
           "width": 0.5
          },
          "type": "line",
          "x0": 190,
          "x1": 190,
          "xref": "x",
          "y0": 0,
          "y1": -0.25,
          "yref": "y"
         },
         {
          "line": {
           "color": "Black",
           "width": 0.5
          },
          "type": "line",
          "x0": 200,
          "x1": 200,
          "xref": "x",
          "y0": 0,
          "y1": -0.25,
          "yref": "y"
         },
         {
          "line": {
           "color": "Black",
           "width": 0.5
          },
          "type": "line",
          "x0": 210,
          "x1": 210,
          "xref": "x",
          "y0": 0,
          "y1": -0.25,
          "yref": "y"
         },
         {
          "line": {
           "color": "Black",
           "width": 0.5
          },
          "type": "line",
          "x0": 220,
          "x1": 220,
          "xref": "x",
          "y0": 0,
          "y1": -0.25,
          "yref": "y"
         },
         {
          "line": {
           "color": "Black",
           "width": 0.5
          },
          "type": "line",
          "x0": 230,
          "x1": 230,
          "xref": "x",
          "y0": 0,
          "y1": -0.25,
          "yref": "y"
         },
         {
          "line": {
           "color": "Black",
           "width": 0.5
          },
          "type": "line",
          "x0": 240,
          "x1": 240,
          "xref": "x",
          "y0": 0,
          "y1": -0.25,
          "yref": "y"
         },
         {
          "line": {
           "color": "Black",
           "width": 0.5
          },
          "type": "line",
          "x0": 250,
          "x1": 250,
          "xref": "x",
          "y0": -0.25,
          "y1": -0.5,
          "yref": "y"
         },
         {
          "line": {
           "color": "Black",
           "width": 0.5
          },
          "type": "line",
          "x0": 250,
          "x1": 250,
          "xref": "x",
          "y0": 0,
          "y1": -0.25,
          "yref": "y"
         },
         {
          "line": {
           "color": "Black",
           "width": 0.5
          },
          "type": "line",
          "x0": 260,
          "x1": 260,
          "xref": "x",
          "y0": -0.25,
          "y1": -0.5,
          "yref": "y"
         },
         {
          "line": {
           "color": "Black",
           "width": 0.5
          },
          "type": "line",
          "x0": 260,
          "x1": 260,
          "xref": "x",
          "y0": 0,
          "y1": -0.25,
          "yref": "y"
         },
         {
          "line": {
           "color": "Black",
           "width": 0.5
          },
          "type": "line",
          "x0": 270,
          "x1": 270,
          "xref": "x",
          "y0": 0,
          "y1": -0.25,
          "yref": "y"
         },
         {
          "line": {
           "color": "Black",
           "width": 0.5
          },
          "type": "line",
          "x0": 280,
          "x1": 280,
          "xref": "x",
          "y0": 0,
          "y1": -0.25,
          "yref": "y"
         },
         {
          "line": {
           "color": "Black",
           "width": 0.5
          },
          "type": "line",
          "x0": 290,
          "x1": 290,
          "xref": "x",
          "y0": -0.25,
          "y1": -0.5,
          "yref": "y"
         },
         {
          "line": {
           "color": "Black",
           "width": 0.5
          },
          "type": "line",
          "x0": 290,
          "x1": 290,
          "xref": "x",
          "y0": 0,
          "y1": -0.25,
          "yref": "y"
         },
         {
          "line": {
           "color": "Black",
           "width": 0.5
          },
          "type": "line",
          "x0": 300,
          "x1": 300,
          "xref": "x",
          "y0": 0,
          "y1": -0.5,
          "yref": "y"
         }
        ],
        "template": {
         "data": {
          "bar": [
           {
            "error_x": {
             "color": "#2a3f5f"
            },
            "error_y": {
             "color": "#2a3f5f"
            },
            "marker": {
             "line": {
              "color": "#E5ECF6",
              "width": 0.5
             }
            },
            "type": "bar"
           }
          ],
          "barpolar": [
           {
            "marker": {
             "line": {
              "color": "#E5ECF6",
              "width": 0.5
             }
            },
            "type": "barpolar"
           }
          ],
          "carpet": [
           {
            "aaxis": {
             "endlinecolor": "#2a3f5f",
             "gridcolor": "white",
             "linecolor": "white",
             "minorgridcolor": "white",
             "startlinecolor": "#2a3f5f"
            },
            "baxis": {
             "endlinecolor": "#2a3f5f",
             "gridcolor": "white",
             "linecolor": "white",
             "minorgridcolor": "white",
             "startlinecolor": "#2a3f5f"
            },
            "type": "carpet"
           }
          ],
          "choropleth": [
           {
            "colorbar": {
             "outlinewidth": 0,
             "ticks": ""
            },
            "type": "choropleth"
           }
          ],
          "contour": [
           {
            "colorbar": {
             "outlinewidth": 0,
             "ticks": ""
            },
            "colorscale": [
             [
              0,
              "#0d0887"
             ],
             [
              0.1111111111111111,
              "#46039f"
             ],
             [
              0.2222222222222222,
              "#7201a8"
             ],
             [
              0.3333333333333333,
              "#9c179e"
             ],
             [
              0.4444444444444444,
              "#bd3786"
             ],
             [
              0.5555555555555556,
              "#d8576b"
             ],
             [
              0.6666666666666666,
              "#ed7953"
             ],
             [
              0.7777777777777778,
              "#fb9f3a"
             ],
             [
              0.8888888888888888,
              "#fdca26"
             ],
             [
              1,
              "#f0f921"
             ]
            ],
            "type": "contour"
           }
          ],
          "contourcarpet": [
           {
            "colorbar": {
             "outlinewidth": 0,
             "ticks": ""
            },
            "type": "contourcarpet"
           }
          ],
          "heatmap": [
           {
            "colorbar": {
             "outlinewidth": 0,
             "ticks": ""
            },
            "colorscale": [
             [
              0,
              "#0d0887"
             ],
             [
              0.1111111111111111,
              "#46039f"
             ],
             [
              0.2222222222222222,
              "#7201a8"
             ],
             [
              0.3333333333333333,
              "#9c179e"
             ],
             [
              0.4444444444444444,
              "#bd3786"
             ],
             [
              0.5555555555555556,
              "#d8576b"
             ],
             [
              0.6666666666666666,
              "#ed7953"
             ],
             [
              0.7777777777777778,
              "#fb9f3a"
             ],
             [
              0.8888888888888888,
              "#fdca26"
             ],
             [
              1,
              "#f0f921"
             ]
            ],
            "type": "heatmap"
           }
          ],
          "heatmapgl": [
           {
            "colorbar": {
             "outlinewidth": 0,
             "ticks": ""
            },
            "colorscale": [
             [
              0,
              "#0d0887"
             ],
             [
              0.1111111111111111,
              "#46039f"
             ],
             [
              0.2222222222222222,
              "#7201a8"
             ],
             [
              0.3333333333333333,
              "#9c179e"
             ],
             [
              0.4444444444444444,
              "#bd3786"
             ],
             [
              0.5555555555555556,
              "#d8576b"
             ],
             [
              0.6666666666666666,
              "#ed7953"
             ],
             [
              0.7777777777777778,
              "#fb9f3a"
             ],
             [
              0.8888888888888888,
              "#fdca26"
             ],
             [
              1,
              "#f0f921"
             ]
            ],
            "type": "heatmapgl"
           }
          ],
          "histogram": [
           {
            "marker": {
             "colorbar": {
              "outlinewidth": 0,
              "ticks": ""
             }
            },
            "type": "histogram"
           }
          ],
          "histogram2d": [
           {
            "colorbar": {
             "outlinewidth": 0,
             "ticks": ""
            },
            "colorscale": [
             [
              0,
              "#0d0887"
             ],
             [
              0.1111111111111111,
              "#46039f"
             ],
             [
              0.2222222222222222,
              "#7201a8"
             ],
             [
              0.3333333333333333,
              "#9c179e"
             ],
             [
              0.4444444444444444,
              "#bd3786"
             ],
             [
              0.5555555555555556,
              "#d8576b"
             ],
             [
              0.6666666666666666,
              "#ed7953"
             ],
             [
              0.7777777777777778,
              "#fb9f3a"
             ],
             [
              0.8888888888888888,
              "#fdca26"
             ],
             [
              1,
              "#f0f921"
             ]
            ],
            "type": "histogram2d"
           }
          ],
          "histogram2dcontour": [
           {
            "colorbar": {
             "outlinewidth": 0,
             "ticks": ""
            },
            "colorscale": [
             [
              0,
              "#0d0887"
             ],
             [
              0.1111111111111111,
              "#46039f"
             ],
             [
              0.2222222222222222,
              "#7201a8"
             ],
             [
              0.3333333333333333,
              "#9c179e"
             ],
             [
              0.4444444444444444,
              "#bd3786"
             ],
             [
              0.5555555555555556,
              "#d8576b"
             ],
             [
              0.6666666666666666,
              "#ed7953"
             ],
             [
              0.7777777777777778,
              "#fb9f3a"
             ],
             [
              0.8888888888888888,
              "#fdca26"
             ],
             [
              1,
              "#f0f921"
             ]
            ],
            "type": "histogram2dcontour"
           }
          ],
          "mesh3d": [
           {
            "colorbar": {
             "outlinewidth": 0,
             "ticks": ""
            },
            "type": "mesh3d"
           }
          ],
          "parcoords": [
           {
            "line": {
             "colorbar": {
              "outlinewidth": 0,
              "ticks": ""
             }
            },
            "type": "parcoords"
           }
          ],
          "pie": [
           {
            "automargin": true,
            "type": "pie"
           }
          ],
          "scatter": [
           {
            "marker": {
             "colorbar": {
              "outlinewidth": 0,
              "ticks": ""
             }
            },
            "type": "scatter"
           }
          ],
          "scatter3d": [
           {
            "line": {
             "colorbar": {
              "outlinewidth": 0,
              "ticks": ""
             }
            },
            "marker": {
             "colorbar": {
              "outlinewidth": 0,
              "ticks": ""
             }
            },
            "type": "scatter3d"
           }
          ],
          "scattercarpet": [
           {
            "marker": {
             "colorbar": {
              "outlinewidth": 0,
              "ticks": ""
             }
            },
            "type": "scattercarpet"
           }
          ],
          "scattergeo": [
           {
            "marker": {
             "colorbar": {
              "outlinewidth": 0,
              "ticks": ""
             }
            },
            "type": "scattergeo"
           }
          ],
          "scattergl": [
           {
            "marker": {
             "colorbar": {
              "outlinewidth": 0,
              "ticks": ""
             }
            },
            "type": "scattergl"
           }
          ],
          "scattermapbox": [
           {
            "marker": {
             "colorbar": {
              "outlinewidth": 0,
              "ticks": ""
             }
            },
            "type": "scattermapbox"
           }
          ],
          "scatterpolar": [
           {
            "marker": {
             "colorbar": {
              "outlinewidth": 0,
              "ticks": ""
             }
            },
            "type": "scatterpolar"
           }
          ],
          "scatterpolargl": [
           {
            "marker": {
             "colorbar": {
              "outlinewidth": 0,
              "ticks": ""
             }
            },
            "type": "scatterpolargl"
           }
          ],
          "scatterternary": [
           {
            "marker": {
             "colorbar": {
              "outlinewidth": 0,
              "ticks": ""
             }
            },
            "type": "scatterternary"
           }
          ],
          "surface": [
           {
            "colorbar": {
             "outlinewidth": 0,
             "ticks": ""
            },
            "colorscale": [
             [
              0,
              "#0d0887"
             ],
             [
              0.1111111111111111,
              "#46039f"
             ],
             [
              0.2222222222222222,
              "#7201a8"
             ],
             [
              0.3333333333333333,
              "#9c179e"
             ],
             [
              0.4444444444444444,
              "#bd3786"
             ],
             [
              0.5555555555555556,
              "#d8576b"
             ],
             [
              0.6666666666666666,
              "#ed7953"
             ],
             [
              0.7777777777777778,
              "#fb9f3a"
             ],
             [
              0.8888888888888888,
              "#fdca26"
             ],
             [
              1,
              "#f0f921"
             ]
            ],
            "type": "surface"
           }
          ],
          "table": [
           {
            "cells": {
             "fill": {
              "color": "#EBF0F8"
             },
             "line": {
              "color": "white"
             }
            },
            "header": {
             "fill": {
              "color": "#C8D4E3"
             },
             "line": {
              "color": "white"
             }
            },
            "type": "table"
           }
          ]
         },
         "layout": {
          "annotationdefaults": {
           "arrowcolor": "#2a3f5f",
           "arrowhead": 0,
           "arrowwidth": 1
          },
          "autotypenumbers": "strict",
          "coloraxis": {
           "colorbar": {
            "outlinewidth": 0,
            "ticks": ""
           }
          },
          "colorscale": {
           "diverging": [
            [
             0,
             "#8e0152"
            ],
            [
             0.1,
             "#c51b7d"
            ],
            [
             0.2,
             "#de77ae"
            ],
            [
             0.3,
             "#f1b6da"
            ],
            [
             0.4,
             "#fde0ef"
            ],
            [
             0.5,
             "#f7f7f7"
            ],
            [
             0.6,
             "#e6f5d0"
            ],
            [
             0.7,
             "#b8e186"
            ],
            [
             0.8,
             "#7fbc41"
            ],
            [
             0.9,
             "#4d9221"
            ],
            [
             1,
             "#276419"
            ]
           ],
           "sequential": [
            [
             0,
             "#0d0887"
            ],
            [
             0.1111111111111111,
             "#46039f"
            ],
            [
             0.2222222222222222,
             "#7201a8"
            ],
            [
             0.3333333333333333,
             "#9c179e"
            ],
            [
             0.4444444444444444,
             "#bd3786"
            ],
            [
             0.5555555555555556,
             "#d8576b"
            ],
            [
             0.6666666666666666,
             "#ed7953"
            ],
            [
             0.7777777777777778,
             "#fb9f3a"
            ],
            [
             0.8888888888888888,
             "#fdca26"
            ],
            [
             1,
             "#f0f921"
            ]
           ],
           "sequentialminus": [
            [
             0,
             "#0d0887"
            ],
            [
             0.1111111111111111,
             "#46039f"
            ],
            [
             0.2222222222222222,
             "#7201a8"
            ],
            [
             0.3333333333333333,
             "#9c179e"
            ],
            [
             0.4444444444444444,
             "#bd3786"
            ],
            [
             0.5555555555555556,
             "#d8576b"
            ],
            [
             0.6666666666666666,
             "#ed7953"
            ],
            [
             0.7777777777777778,
             "#fb9f3a"
            ],
            [
             0.8888888888888888,
             "#fdca26"
            ],
            [
             1,
             "#f0f921"
            ]
           ]
          },
          "colorway": [
           "#636efa",
           "#EF553B",
           "#00cc96",
           "#ab63fa",
           "#FFA15A",
           "#19d3f3",
           "#FF6692",
           "#B6E880",
           "#FF97FF",
           "#FECB52"
          ],
          "font": {
           "color": "#2a3f5f"
          },
          "geo": {
           "bgcolor": "white",
           "lakecolor": "white",
           "landcolor": "#E5ECF6",
           "showlakes": true,
           "showland": true,
           "subunitcolor": "white"
          },
          "hoverlabel": {
           "align": "left"
          },
          "hovermode": "closest",
          "mapbox": {
           "style": "light"
          },
          "paper_bgcolor": "white",
          "plot_bgcolor": "#E5ECF6",
          "polar": {
           "angularaxis": {
            "gridcolor": "white",
            "linecolor": "white",
            "ticks": ""
           },
           "bgcolor": "#E5ECF6",
           "radialaxis": {
            "gridcolor": "white",
            "linecolor": "white",
            "ticks": ""
           }
          },
          "scene": {
           "xaxis": {
            "backgroundcolor": "#E5ECF6",
            "gridcolor": "white",
            "gridwidth": 2,
            "linecolor": "white",
            "showbackground": true,
            "ticks": "",
            "zerolinecolor": "white"
           },
           "yaxis": {
            "backgroundcolor": "#E5ECF6",
            "gridcolor": "white",
            "gridwidth": 2,
            "linecolor": "white",
            "showbackground": true,
            "ticks": "",
            "zerolinecolor": "white"
           },
           "zaxis": {
            "backgroundcolor": "#E5ECF6",
            "gridcolor": "white",
            "gridwidth": 2,
            "linecolor": "white",
            "showbackground": true,
            "ticks": "",
            "zerolinecolor": "white"
           }
          },
          "shapedefaults": {
           "line": {
            "color": "#2a3f5f"
           }
          },
          "ternary": {
           "aaxis": {
            "gridcolor": "white",
            "linecolor": "white",
            "ticks": ""
           },
           "baxis": {
            "gridcolor": "white",
            "linecolor": "white",
            "ticks": ""
           },
           "bgcolor": "#E5ECF6",
           "caxis": {
            "gridcolor": "white",
            "linecolor": "white",
            "ticks": ""
           }
          },
          "title": {
           "x": 0.05
          },
          "xaxis": {
           "automargin": true,
           "gridcolor": "white",
           "linecolor": "white",
           "ticks": "",
           "title": {
            "standoff": 15
           },
           "zerolinecolor": "white",
           "zerolinewidth": 2
          },
          "yaxis": {
           "automargin": true,
           "gridcolor": "white",
           "linecolor": "white",
           "ticks": "",
           "title": {
            "standoff": 15
           },
           "zerolinecolor": "white",
           "zerolinewidth": 2
          }
         }
        },
        "xaxis": {
         "showgrid": false,
         "showticklabels": false,
         "ticktext": [
          "*instances1.5x - *",
          "*instances23 - *",
          "Brain - *",
          "Brain - Cognitive",
          "Brain - MRI",
          "Eyes - *",
          "Eyes - Fundus",
          "Eyes - OCT",
          "Hearing - *",
          "Lungs - *",
          "Arterial - *",
          "Arterial - PulseWaveAnalysis",
          "Arterial - Carotids",
          "Heart - *",
          "Heart - ECG",
          "Heart - MRI",
          "Abdomen - *",
          "Abdomen - Liver",
          "Abdomen - Pancreas",
          "Musculoskeletal - *",
          "Musculoskeletal - Spine",
          "Musculoskeletal - Hips",
          "Musculoskeletal - Knees",
          "Musculoskeletal - FullBody",
          "Musculoskeletal - Scalars",
          "PhysicalActivity - *",
          "Biochemistry - *",
          "Biochemistry - Urine",
          "Biochemistry - Blood",
          "BloodCells - *"
         ],
         "tickvals": [
          5,
          15,
          25,
          35,
          45,
          55,
          65,
          75,
          85,
          95,
          105,
          115,
          125,
          135,
          145,
          155,
          165,
          175,
          185,
          195,
          205,
          215,
          225,
          235,
          245,
          255,
          265,
          275,
          285,
          295
         ],
         "zeroline": false
        },
        "yaxis": {
         "showgrid": false,
         "zeroline": false
        }
       }
      },
      "text/html": "<div>                            <div id=\"6e660f60-0d8d-4ee9-827c-60f90e3f36fa\" class=\"plotly-graph-div\" style=\"height:525px; width:100%;\"></div>            <script type=\"text/javascript\">                require([\"plotly\"], function(Plotly) {                    window.PLOTLYENV=window.PLOTLYENV || {};                                    if (document.getElementById(\"6e660f60-0d8d-4ee9-827c-60f90e3f36fa\")) {                    Plotly.newPlot(                        \"6e660f60-0d8d-4ee9-827c-60f90e3f36fa\",                        [{\"error_y\": {\"array\": [0.00874, 0.22711, 0.0258, 0.02026, 0.01742, 0.01248, 0.00908, 0.00874, 0.00394, 0.00249, 0.07286, 0.00394, 0.06992, 0.03643, 0.02851, 0.01896, 0.0187, 0.01514, 0.01863, 0.01763, 0.01655, 0.01614, 0.01683, 0.01611, 0.00219, 0.00874, 0.00952, 0.00474, 0.00347, 0.00202], \"type\": \"data\"}, \"marker\": {\"color\": \"indianred\"}, \"name\": \"Heritability\", \"type\": \"bar\", \"x\": [5, 15, 25, 35, 45, 55, 65, 75, 85, 95, 105, 115, 125, 135, 145, 155, 165, 175, 185, 195, 205, 215, 225, 235, 245, 255, 265, 275, 285, 295], \"y\": [0.124556, 0.200518, 0.35914, 0.292504, 0.390608, 0.28243, 0.259839, 0.235864, 0.141424, 0.302696, 0.325738, 0.171833, 0.286387, 0.351699, 0.217725, 0.379117, 0.263319, 0.222676, 0.22144, 0.348833, 0.328861, 0.276972, 0.253273, 0.30665, 0.220735, 0.123365, 0.255124, 0.105166, 0.262295, 0.180777]}],                        {\"annotations\": [{\"font\": {\"size\": 10}, \"showarrow\": false, \"text\": \"*instances1.5x\", \"textangle\": 90, \"x\": 5.0, \"xref\": \"x\", \"y\": -0.375, \"yref\": \"y\"}, {\"font\": {\"size\": 8}, \"showarrow\": false, \"text\": \"*\", \"textangle\": 90, \"x\": 5.0, \"xref\": \"x\", \"y\": -0.125, \"yref\": \"y\"}, {\"font\": {\"size\": 10}, \"showarrow\": false, \"text\": \"*instances23\", \"textangle\": 90, \"x\": 15.0, \"xref\": \"x\", \"y\": -0.375, \"yref\": \"y\"}, {\"font\": {\"size\": 8}, \"showarrow\": false, \"text\": \"*\", \"textangle\": 90, \"x\": 15.0, \"xref\": \"x\", \"y\": -0.125, \"yref\": \"y\"}, {\"font\": {\"size\": 10}, \"showarrow\": false, \"text\": \"Brain\", \"textangle\": 90, \"x\": 35.0, \"xref\": \"x\", \"y\": -0.375, \"yref\": \"y\"}, {\"font\": {\"size\": 8}, \"showarrow\": false, \"text\": \"*\", \"textangle\": 90, \"x\": 25.0, \"xref\": \"x\", \"y\": -0.125, \"yref\": \"y\"}, {\"font\": {\"size\": 8}, \"showarrow\": false, \"text\": \"Cognitive\", \"textangle\": 90, \"x\": 35.0, \"xref\": \"x\", \"y\": -0.125, \"yref\": \"y\"}, {\"font\": {\"size\": 8}, \"showarrow\": false, \"text\": \"MRI\", \"textangle\": 90, \"x\": 45.0, \"xref\": \"x\", \"y\": -0.125, \"yref\": \"y\"}, {\"font\": {\"size\": 10}, \"showarrow\": false, \"text\": \"Eyes\", \"textangle\": 90, \"x\": 65.0, \"xref\": \"x\", \"y\": -0.375, \"yref\": \"y\"}, {\"font\": {\"size\": 8}, \"showarrow\": false, \"text\": \"*\", \"textangle\": 90, \"x\": 55.0, \"xref\": \"x\", \"y\": -0.125, \"yref\": \"y\"}, {\"font\": {\"size\": 8}, \"showarrow\": false, \"text\": \"Fundus\", \"textangle\": 90, \"x\": 65.0, \"xref\": \"x\", \"y\": -0.125, \"yref\": \"y\"}, {\"font\": {\"size\": 8}, \"showarrow\": false, \"text\": \"OCT\", \"textangle\": 90, \"x\": 75.0, \"xref\": \"x\", \"y\": -0.125, \"yref\": \"y\"}, {\"font\": {\"size\": 10}, \"showarrow\": false, \"text\": \"Hearing\", \"textangle\": 90, \"x\": 85.0, \"xref\": \"x\", \"y\": -0.375, \"yref\": \"y\"}, {\"font\": {\"size\": 8}, \"showarrow\": false, \"text\": \"*\", \"textangle\": 90, \"x\": 85.0, \"xref\": \"x\", \"y\": -0.125, \"yref\": \"y\"}, {\"font\": {\"size\": 10}, \"showarrow\": false, \"text\": \"Lungs\", \"textangle\": 90, \"x\": 95.0, \"xref\": \"x\", \"y\": -0.375, \"yref\": \"y\"}, {\"font\": {\"size\": 8}, \"showarrow\": false, \"text\": \"*\", \"textangle\": 90, \"x\": 95.0, \"xref\": \"x\", \"y\": -0.125, \"yref\": \"y\"}, {\"font\": {\"size\": 10}, \"showarrow\": false, \"text\": \"Arterial\", \"textangle\": 90, \"x\": 115.0, \"xref\": \"x\", \"y\": -0.375, \"yref\": \"y\"}, {\"font\": {\"size\": 8}, \"showarrow\": false, \"text\": \"*\", \"textangle\": 90, \"x\": 105.0, \"xref\": \"x\", \"y\": -0.125, \"yref\": \"y\"}, {\"font\": {\"size\": 8}, \"showarrow\": false, \"text\": \"PulseWaveAnalysis\", \"textangle\": 90, \"x\": 115.0, \"xref\": \"x\", \"y\": -0.125, \"yref\": \"y\"}, {\"font\": {\"size\": 8}, \"showarrow\": false, \"text\": \"Carotids\", \"textangle\": 90, \"x\": 125.0, \"xref\": \"x\", \"y\": -0.125, \"yref\": \"y\"}, {\"font\": {\"size\": 10}, \"showarrow\": false, \"text\": \"Heart\", \"textangle\": 90, \"x\": 145.0, \"xref\": \"x\", \"y\": -0.375, \"yref\": \"y\"}, {\"font\": {\"size\": 8}, \"showarrow\": false, \"text\": \"*\", \"textangle\": 90, \"x\": 135.0, \"xref\": \"x\", \"y\": -0.125, \"yref\": \"y\"}, {\"font\": {\"size\": 8}, \"showarrow\": false, \"text\": \"ECG\", \"textangle\": 90, \"x\": 145.0, \"xref\": \"x\", \"y\": -0.125, \"yref\": \"y\"}, {\"font\": {\"size\": 8}, \"showarrow\": false, \"text\": \"MRI\", \"textangle\": 90, \"x\": 155.0, \"xref\": \"x\", \"y\": -0.125, \"yref\": \"y\"}, {\"font\": {\"size\": 10}, \"showarrow\": false, \"text\": \"Abdomen\", \"textangle\": 90, \"x\": 175.0, \"xref\": \"x\", \"y\": -0.375, \"yref\": \"y\"}, {\"font\": {\"size\": 8}, \"showarrow\": false, \"text\": \"*\", \"textangle\": 90, \"x\": 165.0, \"xref\": \"x\", \"y\": -0.125, \"yref\": \"y\"}, {\"font\": {\"size\": 8}, \"showarrow\": false, \"text\": \"Liver\", \"textangle\": 90, \"x\": 175.0, \"xref\": \"x\", \"y\": -0.125, \"yref\": \"y\"}, {\"font\": {\"size\": 8}, \"showarrow\": false, \"text\": \"Pancreas\", \"textangle\": 90, \"x\": 185.0, \"xref\": \"x\", \"y\": -0.125, \"yref\": \"y\"}, {\"font\": {\"size\": 10}, \"showarrow\": false, \"text\": \"Musculoskeletal\", \"textangle\": 90, \"x\": 220.0, \"xref\": \"x\", \"y\": -0.375, \"yref\": \"y\"}, {\"font\": {\"size\": 8}, \"showarrow\": false, \"text\": \"*\", \"textangle\": 90, \"x\": 195.0, \"xref\": \"x\", \"y\": -0.125, \"yref\": \"y\"}, {\"font\": {\"size\": 8}, \"showarrow\": false, \"text\": \"Spine\", \"textangle\": 90, \"x\": 205.0, \"xref\": \"x\", \"y\": -0.125, \"yref\": \"y\"}, {\"font\": {\"size\": 8}, \"showarrow\": false, \"text\": \"Hips\", \"textangle\": 90, \"x\": 215.0, \"xref\": \"x\", \"y\": -0.125, \"yref\": \"y\"}, {\"font\": {\"size\": 8}, \"showarrow\": false, \"text\": \"Knees\", \"textangle\": 90, \"x\": 225.0, \"xref\": \"x\", \"y\": -0.125, \"yref\": \"y\"}, {\"font\": {\"size\": 8}, \"showarrow\": false, \"text\": \"FullBody\", \"textangle\": 90, \"x\": 235.0, \"xref\": \"x\", \"y\": -0.125, \"yref\": \"y\"}, {\"font\": {\"size\": 8}, \"showarrow\": false, \"text\": \"Scalars\", \"textangle\": 90, \"x\": 245.0, \"xref\": \"x\", \"y\": -0.125, \"yref\": \"y\"}, {\"font\": {\"size\": 10}, \"showarrow\": false, \"text\": \"PhysicalActivity\", \"textangle\": 90, \"x\": 255.0, \"xref\": \"x\", \"y\": -0.375, \"yref\": \"y\"}, {\"font\": {\"size\": 8}, \"showarrow\": false, \"text\": \"*\", \"textangle\": 90, \"x\": 255.0, \"xref\": \"x\", \"y\": -0.125, \"yref\": \"y\"}, {\"font\": {\"size\": 10}, \"showarrow\": false, \"text\": \"Biochemistry\", \"textangle\": 90, \"x\": 275.0, \"xref\": \"x\", \"y\": -0.375, \"yref\": \"y\"}, {\"font\": {\"size\": 8}, \"showarrow\": false, \"text\": \"*\", \"textangle\": 90, \"x\": 265.0, \"xref\": \"x\", \"y\": -0.125, \"yref\": \"y\"}, {\"font\": {\"size\": 8}, \"showarrow\": false, \"text\": \"Urine\", \"textangle\": 90, \"x\": 275.0, \"xref\": \"x\", \"y\": -0.125, \"yref\": \"y\"}, {\"font\": {\"size\": 8}, \"showarrow\": false, \"text\": \"Blood\", \"textangle\": 90, \"x\": 285.0, \"xref\": \"x\", \"y\": -0.125, \"yref\": \"y\"}, {\"font\": {\"size\": 10}, \"showarrow\": false, \"text\": \"BloodCells\", \"textangle\": 90, \"x\": 295.0, \"xref\": \"x\", \"y\": -0.375, \"yref\": \"y\"}, {\"font\": {\"size\": 8}, \"showarrow\": false, \"text\": \"*\", \"textangle\": 90, \"x\": 295.0, \"xref\": \"x\", \"y\": -0.125, \"yref\": \"y\"}], \"shapes\": [{\"line\": {\"color\": \"Black\", \"width\": 0.5}, \"type\": \"line\", \"x0\": 0.0, \"x1\": 0.0, \"xref\": \"x\", \"y0\": -0.25, \"y1\": -0.5, \"yref\": \"y\"}, {\"line\": {\"color\": \"Black\", \"width\": 0.5}, \"type\": \"line\", \"x0\": 0.0, \"x1\": 0.0, \"xref\": \"x\", \"y0\": 0, \"y1\": -0.25, \"yref\": \"y\"}, {\"line\": {\"color\": \"Black\", \"width\": 0.5}, \"type\": \"line\", \"x0\": 10.0, \"x1\": 10.0, \"xref\": \"x\", \"y0\": -0.25, \"y1\": -0.5, \"yref\": \"y\"}, {\"line\": {\"color\": \"Black\", \"width\": 0.5}, \"type\": \"line\", \"x0\": 10.0, \"x1\": 10.0, \"xref\": \"x\", \"y0\": 0, \"y1\": -0.25, \"yref\": \"y\"}, {\"line\": {\"color\": \"Black\", \"width\": 0.5}, \"type\": \"line\", \"x0\": 20.0, \"x1\": 20.0, \"xref\": \"x\", \"y0\": -0.25, \"y1\": -0.5, \"yref\": \"y\"}, {\"line\": {\"color\": \"Black\", \"width\": 0.5}, \"type\": \"line\", \"x0\": 20.0, \"x1\": 20.0, \"xref\": \"x\", \"y0\": 0, \"y1\": -0.25, \"yref\": \"y\"}, {\"line\": {\"color\": \"Black\", \"width\": 0.5}, \"type\": \"line\", \"x0\": 30.0, \"x1\": 30.0, \"xref\": \"x\", \"y0\": 0, \"y1\": -0.25, \"yref\": \"y\"}, {\"line\": {\"color\": \"Black\", \"width\": 0.5}, \"type\": \"line\", \"x0\": 40.0, \"x1\": 40.0, \"xref\": \"x\", \"y0\": 0, \"y1\": -0.25, \"yref\": \"y\"}, {\"line\": {\"color\": \"Black\", \"width\": 0.5}, \"type\": \"line\", \"x0\": 50.0, \"x1\": 50.0, \"xref\": \"x\", \"y0\": -0.25, \"y1\": -0.5, \"yref\": \"y\"}, {\"line\": {\"color\": \"Black\", \"width\": 0.5}, \"type\": \"line\", \"x0\": 50.0, \"x1\": 50.0, \"xref\": \"x\", \"y0\": 0, \"y1\": -0.25, \"yref\": \"y\"}, {\"line\": {\"color\": \"Black\", \"width\": 0.5}, \"type\": \"line\", \"x0\": 60.0, \"x1\": 60.0, \"xref\": \"x\", \"y0\": 0, \"y1\": -0.25, \"yref\": \"y\"}, {\"line\": {\"color\": \"Black\", \"width\": 0.5}, \"type\": \"line\", \"x0\": 70.0, \"x1\": 70.0, \"xref\": \"x\", \"y0\": 0, \"y1\": -0.25, \"yref\": \"y\"}, {\"line\": {\"color\": \"Black\", \"width\": 0.5}, \"type\": \"line\", \"x0\": 80.0, \"x1\": 80.0, \"xref\": \"x\", \"y0\": -0.25, \"y1\": -0.5, \"yref\": \"y\"}, {\"line\": {\"color\": \"Black\", \"width\": 0.5}, \"type\": \"line\", \"x0\": 80.0, \"x1\": 80.0, \"xref\": \"x\", \"y0\": 0, \"y1\": -0.25, \"yref\": \"y\"}, {\"line\": {\"color\": \"Black\", \"width\": 0.5}, \"type\": \"line\", \"x0\": 90.0, \"x1\": 90.0, \"xref\": \"x\", \"y0\": -0.25, \"y1\": -0.5, \"yref\": \"y\"}, {\"line\": {\"color\": \"Black\", \"width\": 0.5}, \"type\": \"line\", \"x0\": 90.0, \"x1\": 90.0, \"xref\": \"x\", \"y0\": 0, \"y1\": -0.25, \"yref\": \"y\"}, {\"line\": {\"color\": \"Black\", \"width\": 0.5}, \"type\": \"line\", \"x0\": 100.0, \"x1\": 100.0, \"xref\": \"x\", \"y0\": -0.25, \"y1\": -0.5, \"yref\": \"y\"}, {\"line\": {\"color\": \"Black\", \"width\": 0.5}, \"type\": \"line\", \"x0\": 100.0, \"x1\": 100.0, \"xref\": \"x\", \"y0\": 0, \"y1\": -0.25, \"yref\": \"y\"}, {\"line\": {\"color\": \"Black\", \"width\": 0.5}, \"type\": \"line\", \"x0\": 110.0, \"x1\": 110.0, \"xref\": \"x\", \"y0\": 0, \"y1\": -0.25, \"yref\": \"y\"}, {\"line\": {\"color\": \"Black\", \"width\": 0.5}, \"type\": \"line\", \"x0\": 120.0, \"x1\": 120.0, \"xref\": \"x\", \"y0\": 0, \"y1\": -0.25, \"yref\": \"y\"}, {\"line\": {\"color\": \"Black\", \"width\": 0.5}, \"type\": \"line\", \"x0\": 130.0, \"x1\": 130.0, \"xref\": \"x\", \"y0\": -0.25, \"y1\": -0.5, \"yref\": \"y\"}, {\"line\": {\"color\": \"Black\", \"width\": 0.5}, \"type\": \"line\", \"x0\": 130.0, \"x1\": 130.0, \"xref\": \"x\", \"y0\": 0, \"y1\": -0.25, \"yref\": \"y\"}, {\"line\": {\"color\": \"Black\", \"width\": 0.5}, \"type\": \"line\", \"x0\": 140.0, \"x1\": 140.0, \"xref\": \"x\", \"y0\": 0, \"y1\": -0.25, \"yref\": \"y\"}, {\"line\": {\"color\": \"Black\", \"width\": 0.5}, \"type\": \"line\", \"x0\": 150.0, \"x1\": 150.0, \"xref\": \"x\", \"y0\": 0, \"y1\": -0.25, \"yref\": \"y\"}, {\"line\": {\"color\": \"Black\", \"width\": 0.5}, \"type\": \"line\", \"x0\": 160.0, \"x1\": 160.0, \"xref\": \"x\", \"y0\": -0.25, \"y1\": -0.5, \"yref\": \"y\"}, {\"line\": {\"color\": \"Black\", \"width\": 0.5}, \"type\": \"line\", \"x0\": 160.0, \"x1\": 160.0, \"xref\": \"x\", \"y0\": 0, \"y1\": -0.25, \"yref\": \"y\"}, {\"line\": {\"color\": \"Black\", \"width\": 0.5}, \"type\": \"line\", \"x0\": 170.0, \"x1\": 170.0, \"xref\": \"x\", \"y0\": 0, \"y1\": -0.25, \"yref\": \"y\"}, {\"line\": {\"color\": \"Black\", \"width\": 0.5}, \"type\": \"line\", \"x0\": 180.0, \"x1\": 180.0, \"xref\": \"x\", \"y0\": 0, \"y1\": -0.25, \"yref\": \"y\"}, {\"line\": {\"color\": \"Black\", \"width\": 0.5}, \"type\": \"line\", \"x0\": 190.0, \"x1\": 190.0, \"xref\": \"x\", \"y0\": -0.25, \"y1\": -0.5, \"yref\": \"y\"}, {\"line\": {\"color\": \"Black\", \"width\": 0.5}, \"type\": \"line\", \"x0\": 190.0, \"x1\": 190.0, \"xref\": \"x\", \"y0\": 0, \"y1\": -0.25, \"yref\": \"y\"}, {\"line\": {\"color\": \"Black\", \"width\": 0.5}, \"type\": \"line\", \"x0\": 200.0, \"x1\": 200.0, \"xref\": \"x\", \"y0\": 0, \"y1\": -0.25, \"yref\": \"y\"}, {\"line\": {\"color\": \"Black\", \"width\": 0.5}, \"type\": \"line\", \"x0\": 210.0, \"x1\": 210.0, \"xref\": \"x\", \"y0\": 0, \"y1\": -0.25, \"yref\": \"y\"}, {\"line\": {\"color\": \"Black\", \"width\": 0.5}, \"type\": \"line\", \"x0\": 220.0, \"x1\": 220.0, \"xref\": \"x\", \"y0\": 0, \"y1\": -0.25, \"yref\": \"y\"}, {\"line\": {\"color\": \"Black\", \"width\": 0.5}, \"type\": \"line\", \"x0\": 230.0, \"x1\": 230.0, \"xref\": \"x\", \"y0\": 0, \"y1\": -0.25, \"yref\": \"y\"}, {\"line\": {\"color\": \"Black\", \"width\": 0.5}, \"type\": \"line\", \"x0\": 240.0, \"x1\": 240.0, \"xref\": \"x\", \"y0\": 0, \"y1\": -0.25, \"yref\": \"y\"}, {\"line\": {\"color\": \"Black\", \"width\": 0.5}, \"type\": \"line\", \"x0\": 250.0, \"x1\": 250.0, \"xref\": \"x\", \"y0\": -0.25, \"y1\": -0.5, \"yref\": \"y\"}, {\"line\": {\"color\": \"Black\", \"width\": 0.5}, \"type\": \"line\", \"x0\": 250.0, \"x1\": 250.0, \"xref\": \"x\", \"y0\": 0, \"y1\": -0.25, \"yref\": \"y\"}, {\"line\": {\"color\": \"Black\", \"width\": 0.5}, \"type\": \"line\", \"x0\": 260.0, \"x1\": 260.0, \"xref\": \"x\", \"y0\": -0.25, \"y1\": -0.5, \"yref\": \"y\"}, {\"line\": {\"color\": \"Black\", \"width\": 0.5}, \"type\": \"line\", \"x0\": 260.0, \"x1\": 260.0, \"xref\": \"x\", \"y0\": 0, \"y1\": -0.25, \"yref\": \"y\"}, {\"line\": {\"color\": \"Black\", \"width\": 0.5}, \"type\": \"line\", \"x0\": 270.0, \"x1\": 270.0, \"xref\": \"x\", \"y0\": 0, \"y1\": -0.25, \"yref\": \"y\"}, {\"line\": {\"color\": \"Black\", \"width\": 0.5}, \"type\": \"line\", \"x0\": 280.0, \"x1\": 280.0, \"xref\": \"x\", \"y0\": 0, \"y1\": -0.25, \"yref\": \"y\"}, {\"line\": {\"color\": \"Black\", \"width\": 0.5}, \"type\": \"line\", \"x0\": 290.0, \"x1\": 290.0, \"xref\": \"x\", \"y0\": -0.25, \"y1\": -0.5, \"yref\": \"y\"}, {\"line\": {\"color\": \"Black\", \"width\": 0.5}, \"type\": \"line\", \"x0\": 290.0, \"x1\": 290.0, \"xref\": \"x\", \"y0\": 0, \"y1\": -0.25, \"yref\": \"y\"}, {\"line\": {\"color\": \"Black\", \"width\": 0.5}, \"type\": \"line\", \"x0\": 300.0, \"x1\": 300.0, \"xref\": \"x\", \"y0\": 0, \"y1\": -0.5, \"yref\": \"y\"}], \"template\": {\"data\": {\"bar\": [{\"error_x\": {\"color\": \"#2a3f5f\"}, \"error_y\": {\"color\": \"#2a3f5f\"}, \"marker\": {\"line\": {\"color\": \"#E5ECF6\", \"width\": 0.5}}, \"type\": \"bar\"}], \"barpolar\": [{\"marker\": {\"line\": {\"color\": \"#E5ECF6\", \"width\": 0.5}}, \"type\": \"barpolar\"}], \"carpet\": [{\"aaxis\": {\"endlinecolor\": \"#2a3f5f\", \"gridcolor\": \"white\", \"linecolor\": \"white\", \"minorgridcolor\": \"white\", \"startlinecolor\": \"#2a3f5f\"}, \"baxis\": {\"endlinecolor\": \"#2a3f5f\", \"gridcolor\": \"white\", \"linecolor\": \"white\", \"minorgridcolor\": \"white\", \"startlinecolor\": \"#2a3f5f\"}, \"type\": \"carpet\"}], \"choropleth\": [{\"colorbar\": {\"outlinewidth\": 0, \"ticks\": \"\"}, \"type\": \"choropleth\"}], \"contour\": [{\"colorbar\": {\"outlinewidth\": 0, \"ticks\": \"\"}, \"colorscale\": [[0.0, \"#0d0887\"], [0.1111111111111111, \"#46039f\"], [0.2222222222222222, \"#7201a8\"], [0.3333333333333333, \"#9c179e\"], [0.4444444444444444, \"#bd3786\"], [0.5555555555555556, \"#d8576b\"], [0.6666666666666666, \"#ed7953\"], [0.7777777777777778, \"#fb9f3a\"], [0.8888888888888888, \"#fdca26\"], [1.0, \"#f0f921\"]], \"type\": \"contour\"}], \"contourcarpet\": [{\"colorbar\": {\"outlinewidth\": 0, \"ticks\": \"\"}, \"type\": \"contourcarpet\"}], \"heatmap\": [{\"colorbar\": {\"outlinewidth\": 0, \"ticks\": \"\"}, \"colorscale\": [[0.0, \"#0d0887\"], [0.1111111111111111, \"#46039f\"], [0.2222222222222222, \"#7201a8\"], [0.3333333333333333, \"#9c179e\"], [0.4444444444444444, \"#bd3786\"], [0.5555555555555556, \"#d8576b\"], [0.6666666666666666, \"#ed7953\"], [0.7777777777777778, \"#fb9f3a\"], [0.8888888888888888, \"#fdca26\"], [1.0, \"#f0f921\"]], \"type\": \"heatmap\"}], \"heatmapgl\": [{\"colorbar\": {\"outlinewidth\": 0, \"ticks\": \"\"}, \"colorscale\": [[0.0, \"#0d0887\"], [0.1111111111111111, \"#46039f\"], [0.2222222222222222, \"#7201a8\"], [0.3333333333333333, \"#9c179e\"], [0.4444444444444444, \"#bd3786\"], [0.5555555555555556, \"#d8576b\"], [0.6666666666666666, \"#ed7953\"], [0.7777777777777778, \"#fb9f3a\"], [0.8888888888888888, \"#fdca26\"], [1.0, \"#f0f921\"]], \"type\": \"heatmapgl\"}], \"histogram\": [{\"marker\": {\"colorbar\": {\"outlinewidth\": 0, \"ticks\": \"\"}}, \"type\": \"histogram\"}], \"histogram2d\": [{\"colorbar\": {\"outlinewidth\": 0, \"ticks\": \"\"}, \"colorscale\": [[0.0, \"#0d0887\"], [0.1111111111111111, \"#46039f\"], [0.2222222222222222, \"#7201a8\"], [0.3333333333333333, \"#9c179e\"], [0.4444444444444444, \"#bd3786\"], [0.5555555555555556, \"#d8576b\"], [0.6666666666666666, \"#ed7953\"], [0.7777777777777778, \"#fb9f3a\"], [0.8888888888888888, \"#fdca26\"], [1.0, \"#f0f921\"]], \"type\": \"histogram2d\"}], \"histogram2dcontour\": [{\"colorbar\": {\"outlinewidth\": 0, \"ticks\": \"\"}, \"colorscale\": [[0.0, \"#0d0887\"], [0.1111111111111111, \"#46039f\"], [0.2222222222222222, \"#7201a8\"], [0.3333333333333333, \"#9c179e\"], [0.4444444444444444, \"#bd3786\"], [0.5555555555555556, \"#d8576b\"], [0.6666666666666666, \"#ed7953\"], [0.7777777777777778, \"#fb9f3a\"], [0.8888888888888888, \"#fdca26\"], [1.0, \"#f0f921\"]], \"type\": \"histogram2dcontour\"}], \"mesh3d\": [{\"colorbar\": {\"outlinewidth\": 0, \"ticks\": \"\"}, \"type\": \"mesh3d\"}], \"parcoords\": [{\"line\": {\"colorbar\": {\"outlinewidth\": 0, \"ticks\": \"\"}}, \"type\": \"parcoords\"}], \"pie\": [{\"automargin\": true, \"type\": \"pie\"}], \"scatter\": [{\"marker\": {\"colorbar\": {\"outlinewidth\": 0, \"ticks\": \"\"}}, \"type\": \"scatter\"}], \"scatter3d\": [{\"line\": {\"colorbar\": {\"outlinewidth\": 0, \"ticks\": \"\"}}, \"marker\": {\"colorbar\": {\"outlinewidth\": 0, \"ticks\": \"\"}}, \"type\": \"scatter3d\"}], \"scattercarpet\": [{\"marker\": {\"colorbar\": {\"outlinewidth\": 0, \"ticks\": \"\"}}, \"type\": \"scattercarpet\"}], \"scattergeo\": [{\"marker\": {\"colorbar\": {\"outlinewidth\": 0, \"ticks\": \"\"}}, \"type\": \"scattergeo\"}], \"scattergl\": [{\"marker\": {\"colorbar\": {\"outlinewidth\": 0, \"ticks\": \"\"}}, \"type\": \"scattergl\"}], \"scattermapbox\": [{\"marker\": {\"colorbar\": {\"outlinewidth\": 0, \"ticks\": \"\"}}, \"type\": \"scattermapbox\"}], \"scatterpolar\": [{\"marker\": {\"colorbar\": {\"outlinewidth\": 0, \"ticks\": \"\"}}, \"type\": \"scatterpolar\"}], \"scatterpolargl\": [{\"marker\": {\"colorbar\": {\"outlinewidth\": 0, \"ticks\": \"\"}}, \"type\": \"scatterpolargl\"}], \"scatterternary\": [{\"marker\": {\"colorbar\": {\"outlinewidth\": 0, \"ticks\": \"\"}}, \"type\": \"scatterternary\"}], \"surface\": [{\"colorbar\": {\"outlinewidth\": 0, \"ticks\": \"\"}, \"colorscale\": [[0.0, \"#0d0887\"], [0.1111111111111111, \"#46039f\"], [0.2222222222222222, \"#7201a8\"], [0.3333333333333333, \"#9c179e\"], [0.4444444444444444, \"#bd3786\"], [0.5555555555555556, \"#d8576b\"], [0.6666666666666666, \"#ed7953\"], [0.7777777777777778, \"#fb9f3a\"], [0.8888888888888888, \"#fdca26\"], [1.0, \"#f0f921\"]], \"type\": \"surface\"}], \"table\": [{\"cells\": {\"fill\": {\"color\": \"#EBF0F8\"}, \"line\": {\"color\": \"white\"}}, \"header\": {\"fill\": {\"color\": \"#C8D4E3\"}, \"line\": {\"color\": \"white\"}}, \"type\": \"table\"}]}, \"layout\": {\"annotationdefaults\": {\"arrowcolor\": \"#2a3f5f\", \"arrowhead\": 0, \"arrowwidth\": 1}, \"autotypenumbers\": \"strict\", \"coloraxis\": {\"colorbar\": {\"outlinewidth\": 0, \"ticks\": \"\"}}, \"colorscale\": {\"diverging\": [[0, \"#8e0152\"], [0.1, \"#c51b7d\"], [0.2, \"#de77ae\"], [0.3, \"#f1b6da\"], [0.4, \"#fde0ef\"], [0.5, \"#f7f7f7\"], [0.6, \"#e6f5d0\"], [0.7, \"#b8e186\"], [0.8, \"#7fbc41\"], [0.9, \"#4d9221\"], [1, \"#276419\"]], \"sequential\": [[0.0, \"#0d0887\"], [0.1111111111111111, \"#46039f\"], [0.2222222222222222, \"#7201a8\"], [0.3333333333333333, \"#9c179e\"], [0.4444444444444444, \"#bd3786\"], [0.5555555555555556, \"#d8576b\"], [0.6666666666666666, \"#ed7953\"], [0.7777777777777778, \"#fb9f3a\"], [0.8888888888888888, \"#fdca26\"], [1.0, \"#f0f921\"]], \"sequentialminus\": [[0.0, \"#0d0887\"], [0.1111111111111111, \"#46039f\"], [0.2222222222222222, \"#7201a8\"], [0.3333333333333333, \"#9c179e\"], [0.4444444444444444, \"#bd3786\"], [0.5555555555555556, \"#d8576b\"], [0.6666666666666666, \"#ed7953\"], [0.7777777777777778, \"#fb9f3a\"], [0.8888888888888888, \"#fdca26\"], [1.0, \"#f0f921\"]]}, \"colorway\": [\"#636efa\", \"#EF553B\", \"#00cc96\", \"#ab63fa\", \"#FFA15A\", \"#19d3f3\", \"#FF6692\", \"#B6E880\", \"#FF97FF\", \"#FECB52\"], \"font\": {\"color\": \"#2a3f5f\"}, \"geo\": {\"bgcolor\": \"white\", \"lakecolor\": \"white\", \"landcolor\": \"#E5ECF6\", \"showlakes\": true, \"showland\": true, \"subunitcolor\": \"white\"}, \"hoverlabel\": {\"align\": \"left\"}, \"hovermode\": \"closest\", \"mapbox\": {\"style\": \"light\"}, \"paper_bgcolor\": \"white\", \"plot_bgcolor\": \"#E5ECF6\", \"polar\": {\"angularaxis\": {\"gridcolor\": \"white\", \"linecolor\": \"white\", \"ticks\": \"\"}, \"bgcolor\": \"#E5ECF6\", \"radialaxis\": {\"gridcolor\": \"white\", \"linecolor\": \"white\", \"ticks\": \"\"}}, \"scene\": {\"xaxis\": {\"backgroundcolor\": \"#E5ECF6\", \"gridcolor\": \"white\", \"gridwidth\": 2, \"linecolor\": \"white\", \"showbackground\": true, \"ticks\": \"\", \"zerolinecolor\": \"white\"}, \"yaxis\": {\"backgroundcolor\": \"#E5ECF6\", \"gridcolor\": \"white\", \"gridwidth\": 2, \"linecolor\": \"white\", \"showbackground\": true, \"ticks\": \"\", \"zerolinecolor\": \"white\"}, \"zaxis\": {\"backgroundcolor\": \"#E5ECF6\", \"gridcolor\": \"white\", \"gridwidth\": 2, \"linecolor\": \"white\", \"showbackground\": true, \"ticks\": \"\", \"zerolinecolor\": \"white\"}}, \"shapedefaults\": {\"line\": {\"color\": \"#2a3f5f\"}}, \"ternary\": {\"aaxis\": {\"gridcolor\": \"white\", \"linecolor\": \"white\", \"ticks\": \"\"}, \"baxis\": {\"gridcolor\": \"white\", \"linecolor\": \"white\", \"ticks\": \"\"}, \"bgcolor\": \"#E5ECF6\", \"caxis\": {\"gridcolor\": \"white\", \"linecolor\": \"white\", \"ticks\": \"\"}}, \"title\": {\"x\": 0.05}, \"xaxis\": {\"automargin\": true, \"gridcolor\": \"white\", \"linecolor\": \"white\", \"ticks\": \"\", \"title\": {\"standoff\": 15}, \"zerolinecolor\": \"white\", \"zerolinewidth\": 2}, \"yaxis\": {\"automargin\": true, \"gridcolor\": \"white\", \"linecolor\": \"white\", \"ticks\": \"\", \"title\": {\"standoff\": 15}, \"zerolinecolor\": \"white\", \"zerolinewidth\": 2}}}, \"xaxis\": {\"showgrid\": false, \"showticklabels\": false, \"ticktext\": [\"*instances1.5x - *\", \"*instances23 - *\", \"Brain - *\", \"Brain - Cognitive\", \"Brain - MRI\", \"Eyes - *\", \"Eyes - Fundus\", \"Eyes - OCT\", \"Hearing - *\", \"Lungs - *\", \"Arterial - *\", \"Arterial - PulseWaveAnalysis\", \"Arterial - Carotids\", \"Heart - *\", \"Heart - ECG\", \"Heart - MRI\", \"Abdomen - *\", \"Abdomen - Liver\", \"Abdomen - Pancreas\", \"Musculoskeletal - *\", \"Musculoskeletal - Spine\", \"Musculoskeletal - Hips\", \"Musculoskeletal - Knees\", \"Musculoskeletal - FullBody\", \"Musculoskeletal - Scalars\", \"PhysicalActivity - *\", \"Biochemistry - *\", \"Biochemistry - Urine\", \"Biochemistry - Blood\", \"BloodCells - *\"], \"tickvals\": [5, 15, 25, 35, 45, 55, 65, 75, 85, 95, 105, 115, 125, 135, 145, 155, 165, 175, 185, 195, 205, 215, 225, 235, 245, 255, 265, 275, 285, 295], \"zeroline\": false}, \"yaxis\": {\"showgrid\": false, \"zeroline\": false}},                        {\"responsive\": true}                    ).then(function(){\n                            \nvar gd = document.getElementById('6e660f60-0d8d-4ee9-827c-60f90e3f36fa');\nvar x = new MutationObserver(function (mutations, observer) {{\n        var display = window.getComputedStyle(gd).display;\n        if (!display || display === 'none') {{\n            console.log([gd, 'removed!']);\n            Plotly.purge(gd);\n            observer.disconnect();\n        }}\n}});\n\n// Listen for the removal of the full notebook cells\nvar notebookContainer = gd.closest('#notebook-container');\nif (notebookContainer) {{\n    x.observe(notebookContainer, {childList: true});\n}}\n\n// Listen for the clearing of the current output cell\nvar outputEl = gd.closest('.output');\nif (outputEl) {{\n    x.observe(outputEl, {childList: true});\n}}\n\n                        })                };                });            </script>        </div>"
     },
     "metadata": {},
     "output_type": "display_data"
    }
   ],
   "source": [
    "import plotly.graph_objs as go\n",
    "\n",
    "heritability = pd.DataFrame(data_genetics_heritability).set_index([\"dimension\", \"subdimension\"])\n",
    "\n",
    "if order_by == \"h2\":\n",
    "    sorted_dimensions = heritability.sort_values(by=\"h2\", ascending=False).index\n",
    "    \n",
    "    sorted_heritability = heritability.loc[sorted_dimensions]\n",
    "\n",
    "    bars = go.Bar(\n",
    "                x=[\" - \".join(elem) for elem in sorted_dimensions.values], #[sorted_dimensions.get_level_values(\"dimension\"), sorted_dimensions.get_level_values(\"subdimension\")],\n",
    "                y=sorted_heritability[\"h2\"],\n",
    "                error_y={\"array\": sorted_heritability[\"h2_std\"], \"type\": \"data\"},\n",
    "                name=\"Heritability\",\n",
    "                marker_color=\"indianred\",\n",
    "            )\n",
    "    fig.update_layout(font={\"size\": 8})\n",
    "\n",
    "else:  # order_by == \"custom\"\n",
    "    sorted_dimensions = heritability.loc[pd.Index(CUSTOM_ORDER).drop([\"*\", \"*instances01\"])].index\n",
    "\n",
    "    sorted_heritability = heritability.loc[sorted_dimensions]\n",
    "\n",
    "    bars = go.Bar(\n",
    "                x=np.arange(5, 10 * sorted_heritability.shape[0] + 5, 10),\n",
    "                y=sorted_heritability[\"h2\"],\n",
    "                error_y={\"array\": sorted_heritability[\"h2_std\"], \"type\": \"data\"},\n",
    "                name=\"Heritability\",\n",
    "                marker_color=\"indianred\",\n",
    "            )\n",
    "\n",
    "    fig = go.Figure(bars)\n",
    "\n",
    "    fig.update_layout(\n",
    "        xaxis={\n",
    "            \"tickvals\": np.arange(5, 10 * sorted_heritability.shape[0] + 5, 10),                \n",
    "            \"ticktext\": [\" - \".join(elem) for elem in sorted_dimensions.values],\n",
    "            },\n",
    "    )\n",
    "\n",
    "    dimensions = (\n",
    "        sorted_heritability.index.to_frame()[[\"dimension\", \"subdimension\"]]\n",
    "        .reset_index(drop=True)\n",
    "    )\n",
    "    dimensions[\"position\"] = fig[\"layout\"][\"xaxis\"][\"tickvals\"]\n",
    "    dimensions.set_index([\"dimension\", \"subdimension\"], inplace=True)\n",
    "\n",
    "    lines = []\n",
    "    annotations = []\n",
    "\n",
    "    for dimension in dimensions.index.get_level_values(\"dimension\").drop_duplicates():\n",
    "        dimension_inner_margin = -0.25\n",
    "        dimension_outer_margin = -0.5\n",
    "\n",
    "        min_position = dimensions.loc[dimension].min()\n",
    "        max_position = dimensions.loc[dimension].max()\n",
    "\n",
    "        line, annotation = add_line_and_annotation(\n",
    "            dimension,\n",
    "            \"x\",\n",
    "            \"y\",\n",
    "            min_position,\n",
    "            max_position,\n",
    "            dimension_inner_margin,\n",
    "            dimension_outer_margin,\n",
    "            90,\n",
    "            10,\n",
    "        )\n",
    "\n",
    "        lines.append(line)\n",
    "        annotations.append(annotation)\n",
    "\n",
    "        for subdimension in dimensions.loc[dimension].index.get_level_values(\"subdimension\").drop_duplicates():\n",
    "            subdimension_inner_margin = 0\n",
    "            subdimension_outer_margin = -0.25\n",
    "\n",
    "            submin_position = dimensions.loc[(dimension, subdimension)].min()\n",
    "            submax_position = dimensions.loc[(dimension, subdimension)].max()\n",
    "\n",
    "            line, annotation = add_line_and_annotation(\n",
    "                subdimension,\n",
    "                \"x\",\n",
    "                \"y\",\n",
    "                submin_position,\n",
    "                submax_position,\n",
    "                subdimension_inner_margin,\n",
    "                subdimension_outer_margin,\n",
    "                90,\n",
    "                8,\n",
    "            )\n",
    "\n",
    "            lines.append(line)\n",
    "            annotations.append(annotation)\n",
    "\n",
    "    # The final top/right line\n",
    "    line, _ = add_line_and_annotation(\n",
    "        dimension,\n",
    "        \"x\",\n",
    "        \"y\",\n",
    "        min_position,\n",
    "        max_position,\n",
    "        0,\n",
    "        dimension_outer_margin,\n",
    "        0,\n",
    "        10,\n",
    "        final=True,\n",
    "    )\n",
    "\n",
    "    lines.append(line)\n",
    "\n",
    "    fig[\"layout\"][\"shapes\"] = lines\n",
    "    fig[\"layout\"][\"annotations\"] = annotations\n",
    "    fig.update_layout(xaxis={\"showticklabels\": False})\n",
    "\n",
    "fig.update_layout(\n",
    "    yaxis={\"showgrid\": False, \"zeroline\": False},\n",
    "    xaxis={\"showgrid\": False, \"zeroline\": False},\n",
    ")\n",
    "fig"
   ]
  }
 ],
 "metadata": {
  "kernelspec": {
   "display_name": "Python 3.9.4  ('env_container': venv)",
   "name": "pythonjvsc74a57bd0827f31c7a17f115185da69808fd256ce792d94cfeb61ab0a6e35bd7e2999d502"
  },
  "language_info": {
   "codemirror_mode": {
    "name": "ipython",
    "version": 3
   },
   "file_extension": ".py",
   "mimetype": "text/x-python",
   "name": "python",
   "nbconvert_exporter": "python",
   "pygments_lexer": "ipython3",
   "version": "3.9.4"
  },
  "metadata": {
   "interpreter": {
    "hash": "827f31c7a17f115185da69808fd256ce792d94cfeb61ab0a6e35bd7e2999d502"
   }
  },
  "orig_nbformat": 2
 },
 "nbformat": 4,
 "nbformat_minor": 2
}