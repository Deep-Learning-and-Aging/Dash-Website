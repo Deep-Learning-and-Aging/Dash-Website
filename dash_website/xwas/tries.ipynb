{
 "metadata": {
  "language_info": {
   "codemirror_mode": {
    "name": "ipython",
    "version": 3
   },
   "file_extension": ".py",
   "mimetype": "text/x-python",
   "name": "python",
   "nbconvert_exporter": "python",
   "pygments_lexer": "ipython3",
   "version": "3.7.7-final"
  },
  "orig_nbformat": 2,
  "kernelspec": {
   "name": "python3",
   "display_name": "Python 3.7.7 64-bit ('env_website')",
   "metadata": {
    "interpreter": {
     "hash": "c11bf2a122358a257f4887e4656fd266c9212bc31c6d2fa50cb5fb4a0c5b9dd8"
    }
   }
  }
 },
 "nbformat": 4,
 "nbformat_minor": 2,
 "cells": [
  {
   "cell_type": "code",
   "execution_count": 4,
   "metadata": {},
   "outputs": [
    {
     "output_type": "execute_result",
     "data": {
      "text/plain": [
       "        env_dataset       organ_1                  organ_2      corr  \\\n",
       "0           Alcohol  *instances01             *instances01  1.000000   \n",
       "1           Alcohol  *instances01           *instances1.5x  0.775026   \n",
       "2           Alcohol  *instances01             *instances23  0.200000   \n",
       "3           Alcohol  *instances01                  Abdomen  0.095238   \n",
       "4           Alcohol  *instances01             AbdomenLiver  0.238095   \n",
       "...             ...           ...                      ...       ...   \n",
       "96916  All_Diseases            \\*     MusculoskeletalKnees  0.131681   \n",
       "96917  All_Diseases            \\*  MusculoskeletalFullBody  0.435079   \n",
       "96918  All_Diseases            \\*   MusculoskeletalScalars  0.631990   \n",
       "96919  All_Diseases            \\*         PhysicalActivity  0.983776   \n",
       "96920  All_Diseases            \\*                       \\*  1.000000   \n",
       "\n",
       "       sample_size  \n",
       "0                2  \n",
       "1               18  \n",
       "2                4  \n",
       "3                8  \n",
       "4                8  \n",
       "...            ...  \n",
       "96916          242  \n",
       "96917          243  \n",
       "96918          541  \n",
       "96919          246  \n",
       "96920          239  \n",
       "\n",
       "[96921 rows x 5 columns]"
      ],
      "text/html": "<div>\n<style scoped>\n    .dataframe tbody tr th:only-of-type {\n        vertical-align: middle;\n    }\n\n    .dataframe tbody tr th {\n        vertical-align: top;\n    }\n\n    .dataframe thead th {\n        text-align: right;\n    }\n</style>\n<table border=\"1\" class=\"dataframe\">\n  <thead>\n    <tr style=\"text-align: right;\">\n      <th></th>\n      <th>env_dataset</th>\n      <th>organ_1</th>\n      <th>organ_2</th>\n      <th>corr</th>\n      <th>sample_size</th>\n    </tr>\n  </thead>\n  <tbody>\n    <tr>\n      <th>0</th>\n      <td>Alcohol</td>\n      <td>*instances01</td>\n      <td>*instances01</td>\n      <td>1.000000</td>\n      <td>2</td>\n    </tr>\n    <tr>\n      <th>1</th>\n      <td>Alcohol</td>\n      <td>*instances01</td>\n      <td>*instances1.5x</td>\n      <td>0.775026</td>\n      <td>18</td>\n    </tr>\n    <tr>\n      <th>2</th>\n      <td>Alcohol</td>\n      <td>*instances01</td>\n      <td>*instances23</td>\n      <td>0.200000</td>\n      <td>4</td>\n    </tr>\n    <tr>\n      <th>3</th>\n      <td>Alcohol</td>\n      <td>*instances01</td>\n      <td>Abdomen</td>\n      <td>0.095238</td>\n      <td>8</td>\n    </tr>\n    <tr>\n      <th>4</th>\n      <td>Alcohol</td>\n      <td>*instances01</td>\n      <td>AbdomenLiver</td>\n      <td>0.238095</td>\n      <td>8</td>\n    </tr>\n    <tr>\n      <th>...</th>\n      <td>...</td>\n      <td>...</td>\n      <td>...</td>\n      <td>...</td>\n      <td>...</td>\n    </tr>\n    <tr>\n      <th>96916</th>\n      <td>All_Diseases</td>\n      <td>\\*</td>\n      <td>MusculoskeletalKnees</td>\n      <td>0.131681</td>\n      <td>242</td>\n    </tr>\n    <tr>\n      <th>96917</th>\n      <td>All_Diseases</td>\n      <td>\\*</td>\n      <td>MusculoskeletalFullBody</td>\n      <td>0.435079</td>\n      <td>243</td>\n    </tr>\n    <tr>\n      <th>96918</th>\n      <td>All_Diseases</td>\n      <td>\\*</td>\n      <td>MusculoskeletalScalars</td>\n      <td>0.631990</td>\n      <td>541</td>\n    </tr>\n    <tr>\n      <th>96919</th>\n      <td>All_Diseases</td>\n      <td>\\*</td>\n      <td>PhysicalActivity</td>\n      <td>0.983776</td>\n      <td>246</td>\n    </tr>\n    <tr>\n      <th>96920</th>\n      <td>All_Diseases</td>\n      <td>\\*</td>\n      <td>\\*</td>\n      <td>1.000000</td>\n      <td>239</td>\n    </tr>\n  </tbody>\n</table>\n<p>96921 rows × 5 columns</p>\n</div>"
     },
     "metadata": {},
     "execution_count": 4
    }
   ],
   "source": [
    "import pandas as pd \n",
    "\n",
    "pd.read_csv(\"../../data/page6_LinearXWASCorrelations/correlations/Correlations_Union_Spearman.csv\", index_col=0)"
   ]
  }
 ]
}