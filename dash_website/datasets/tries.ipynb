{
 "cells": [
  {
   "cell_type": "code",
   "execution_count": 12,
   "metadata": {},
   "outputs": [],
   "source": [
    "import numpy as np \n",
    "\n",
    "\n",
    "page_15 = np.load(\"/home/theovincent/HMS/Dash-Website/all_data/page15_AttentionMapsTimeSeries/img/Age/Heart/ECG/TimeSeries/Female/middle/normal/Saliency_Age_Heart_ECG_TimeSeries_Female_middle_normal_0.npy\")"
   ]
  },
  {
   "cell_type": "code",
   "execution_count": 13,
   "metadata": {},
   "outputs": [],
   "source": [
    "page_9 = np.load(\"/home/theovincent/HMS/Dash-Website/all_data/page9_AttentionMaps/Images/Heart/ECG/TimeSeries/Female/middle/normal/Saliency_Age_Heart_ECG_TimeSeries_Female_middle_normal_0.npy\")"
   ]
  },
  {
   "cell_type": "code",
   "execution_count": 26,
   "metadata": {},
   "outputs": [
    {
     "data": {
      "text/plain": "array([0., 0., 0., ..., 0., 0., 0.], dtype=float32)"
     },
     "execution_count": 26,
     "metadata": {},
     "output_type": "execute_result"
    }
   ],
   "source": [
    "page_9[0, 0]"
   ]
  },
  {
   "cell_type": "code",
   "execution_count": 24,
   "metadata": {},
   "outputs": [
    {
     "data": {
      "text/plain": "array([-35.248497 , -34.231373 , -27.214247 , ...,   2.4926002,\n        -1.4652108,   1.5769782], dtype=float32)"
     },
     "execution_count": 24,
     "metadata": {},
     "output_type": "execute_result"
    }
   ],
   "source": [
    "page_15[0]"
   ]
  },
  {
   "cell_type": "code",
   "execution_count": 28,
   "metadata": {},
   "outputs": [
    {
     "data": {
      "text/plain": "1"
     },
     "execution_count": 28,
     "metadata": {},
     "output_type": "execute_result"
    }
   ],
   "source": [
    "int(np.round_(0.9))"
   ]
  }
 ],
 "metadata": {
  "kernelspec": {
   "display_name": "Python 3.8.5  ('env_website': venv)",
   "name": "pythonjvsc74a57bd090a2d2112265369b3cee75b3d17fea5658357118066bfd7e04cfa35ff7dbfd52"
  },
  "language_info": {
   "name": "python",
   "version": ""
  },
  "metadata": {
   "interpreter": {
    "hash": "90a2d2112265369b3cee75b3d17fea5658357118066bfd7e04cfa35ff7dbfd52"
   }
  },
  "orig_nbformat": 2
 },
 "nbformat": 4,
 "nbformat_minor": 2
}