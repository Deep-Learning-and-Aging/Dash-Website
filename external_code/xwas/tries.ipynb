{
 "metadata": {
  "language_info": {
   "codemirror_mode": {
    "name": "ipython",
    "version": 3
   },
   "file_extension": ".py",
   "mimetype": "text/x-python",
   "name": "python",
   "nbconvert_exporter": "python",
   "pygments_lexer": "ipython3",
   "version": "3.7.7-final"
  },
  "orig_nbformat": 2,
  "kernelspec": {
   "name": "python377jvsc74a57bd0c11bf2a122358a257f4887e4656fd266c9212bc31c6d2fa50cb5fb4a0c5b9dd8",
   "display_name": "Python 3.7.7 64-bit ('env_website')"
  }
 },
 "nbformat": 4,
 "nbformat_minor": 2,
 "cells": [
  {
   "cell_type": "code",
   "execution_count": 1,
   "metadata": {},
   "outputs": [],
   "source": [
    "import pandas as pd \n",
    "from dash_website import DIMENSIONS, MAIN_CATEGORIES_TO_CATEGORIES\n",
    "\n",
    "every_feature = pd.read_feather(\"../../data/xwas/multivariate_feature_importances/feature_importances.feather\").set_index([\"dimension\", \"category\"])\n",
    "\n",
    "for dimension in DIMENSIONS:\n",
    "    for category in pd.Index(MAIN_CATEGORIES_TO_CATEGORIES[\"All\"]).drop([\"Genetics\", \"Phenotypic\", \"PhysicalActivity\"]):\n",
    "        pass\n",
    "        # every_feature.loc[(dimension, category)].reset_index(drop=True).to_feather(f\"data/xwas/mutlivariate_feature_importances/dimension_category/features_{dimension}_{category}.feather\")"
   ]
  },
  {
   "cell_type": "code",
   "execution_count": 2,
   "metadata": {},
   "outputs": [
    {
     "output_type": "execute_result",
     "data": {
      "text/plain": [
       "                                                                              variable  \\\n",
       "dimension       category                                                                 \n",
       "Abdomen         Alcohol                                      Alcohol intake frequency.   \n",
       "                Alcohol                                 Average weekly red wine intake   \n",
       "                Alcohol                Average weekly champagne plus white wine intake   \n",
       "                Alcohol                          Average weekly beer plus cider intake   \n",
       "                Alcohol                                  Average weekly spirits intake   \n",
       "...                                                                                ...   \n",
       "set_instances23 medical_diagnoses_Z  Z95 Presence of cardiac and vascular implants ...   \n",
       "                medical_diagnoses_Z          Z96 Presence of other functional implants   \n",
       "                medical_diagnoses_Z                      Z97 Presence of other devices   \n",
       "                medical_diagnoses_Z                      Z98 Other postsurgical states   \n",
       "                medical_diagnoses_Z  Z99 Dependence on enabling machines and device...   \n",
       "\n",
       "                                     feature_importance    algorithm  \n",
       "dimension       category                                              \n",
       "Abdomen         Alcohol                       -0.000000  elastic_net  \n",
       "                Alcohol                       -0.122169  elastic_net  \n",
       "                Alcohol                       -0.123959  elastic_net  \n",
       "                Alcohol                       -0.125374  elastic_net  \n",
       "                Alcohol                       -0.089544  elastic_net  \n",
       "...                                                 ...          ...  \n",
       "set_instances23 medical_diagnoses_Z           -0.054229  correlation  \n",
       "                medical_diagnoses_Z           -0.010818  correlation  \n",
       "                medical_diagnoses_Z            0.028954  correlation  \n",
       "                medical_diagnoses_Z            0.018203  correlation  \n",
       "                medical_diagnoses_Z           -0.026078  correlation  \n",
       "\n",
       "[716528 rows x 3 columns]"
      ],
      "text/html": "<div>\n<style scoped>\n    .dataframe tbody tr th:only-of-type {\n        vertical-align: middle;\n    }\n\n    .dataframe tbody tr th {\n        vertical-align: top;\n    }\n\n    .dataframe thead th {\n        text-align: right;\n    }\n</style>\n<table border=\"1\" class=\"dataframe\">\n  <thead>\n    <tr style=\"text-align: right;\">\n      <th></th>\n      <th></th>\n      <th>variable</th>\n      <th>feature_importance</th>\n      <th>algorithm</th>\n    </tr>\n    <tr>\n      <th>dimension</th>\n      <th>category</th>\n      <th></th>\n      <th></th>\n      <th></th>\n    </tr>\n  </thead>\n  <tbody>\n    <tr>\n      <th rowspan=\"5\" valign=\"top\">Abdomen</th>\n      <th>Alcohol</th>\n      <td>Alcohol intake frequency.</td>\n      <td>-0.000000</td>\n      <td>elastic_net</td>\n    </tr>\n    <tr>\n      <th>Alcohol</th>\n      <td>Average weekly red wine intake</td>\n      <td>-0.122169</td>\n      <td>elastic_net</td>\n    </tr>\n    <tr>\n      <th>Alcohol</th>\n      <td>Average weekly champagne plus white wine intake</td>\n      <td>-0.123959</td>\n      <td>elastic_net</td>\n    </tr>\n    <tr>\n      <th>Alcohol</th>\n      <td>Average weekly beer plus cider intake</td>\n      <td>-0.125374</td>\n      <td>elastic_net</td>\n    </tr>\n    <tr>\n      <th>Alcohol</th>\n      <td>Average weekly spirits intake</td>\n      <td>-0.089544</td>\n      <td>elastic_net</td>\n    </tr>\n    <tr>\n      <th>...</th>\n      <th>...</th>\n      <td>...</td>\n      <td>...</td>\n      <td>...</td>\n    </tr>\n    <tr>\n      <th rowspan=\"5\" valign=\"top\">set_instances23</th>\n      <th>medical_diagnoses_Z</th>\n      <td>Z95 Presence of cardiac and vascular implants ...</td>\n      <td>-0.054229</td>\n      <td>correlation</td>\n    </tr>\n    <tr>\n      <th>medical_diagnoses_Z</th>\n      <td>Z96 Presence of other functional implants</td>\n      <td>-0.010818</td>\n      <td>correlation</td>\n    </tr>\n    <tr>\n      <th>medical_diagnoses_Z</th>\n      <td>Z97 Presence of other devices</td>\n      <td>0.028954</td>\n      <td>correlation</td>\n    </tr>\n    <tr>\n      <th>medical_diagnoses_Z</th>\n      <td>Z98 Other postsurgical states</td>\n      <td>0.018203</td>\n      <td>correlation</td>\n    </tr>\n    <tr>\n      <th>medical_diagnoses_Z</th>\n      <td>Z99 Dependence on enabling machines and device...</td>\n      <td>-0.026078</td>\n      <td>correlation</td>\n    </tr>\n  </tbody>\n</table>\n<p>716528 rows × 3 columns</p>\n</div>"
     },
     "metadata": {},
     "execution_count": 2
    }
   ],
   "source": [
    "every_feature"
   ]
  }
 ]
}