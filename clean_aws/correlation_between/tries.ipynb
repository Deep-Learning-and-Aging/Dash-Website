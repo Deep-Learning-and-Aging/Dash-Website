{
 "cells": [
  {
   "cell_type": "code",
   "execution_count": 1,
   "metadata": {},
   "outputs": [],
   "source": [
    "import pandas as pd\n",
    "\n",
    "DATA_TYPE_NAMING = {\n",
    "    \"instances\": \"all_samples_per_participant\",\n",
    "    \"eids\": \"average_per_participant\",\n",
    "    \"*\": \"all_possible_samples\",\n",
    "}\n",
    "COLUMNS_TO_TAKE = {\n",
    "    \"organ\": \"dimension\",\n",
    "    \"view\": \"subdimension\",\n",
    "    \"transformation\": \"sub_subdimension\",\n",
    "    \"architecture\": \"algorithm\",\n",
    "    \"R-Squared_all\": \"r2\",\n",
    "    \"R-Squared_sd_all\": \"r2_std\",\n",
    "}\n",
    "DICT_TO_CHANGE_DIMENSIONS = {\"ImmuneSystem\": \"BloodCells\"}\n",
    "\n",
    "\n",
    "if __name__ == \"__main__\":\n",
    "    for data_type in [\"instances\", \"eids\"]:\n",
    "        correlations_raw_ = pd.read_csv(\n",
    "            f\"../../all_data/page4_correlations/ResidualsCorrelations/ResidualsCorrelations_{data_type}_Age_test.csv\"\n",
    "        )\n",
    "        correlations_std_raw_ = pd.read_csv(\n",
    "            f\"../../all_data/page4_correlations/ResidualsCorrelations/ResidualsCorrelations_sd_{data_type}_Age_test.csv\"\n",
    "        )\n",
    "\n",
    "        correlations_raw = correlations_raw_.melt(\n",
    "            id_vars=[\"Unnamed: 0\"], value_vars=correlations_raw_.columns.drop(\"Unnamed: 0\")\n",
    "        )\n",
    "        correlations_raw.rename(\n",
    "            columns={\"Unnamed: 0\": \"dimensions_1\", \"variable\": \"dimensions_2\", \"value\": \"correlation\"}, inplace=True\n",
    "        )\n",
    "\n",
    "        correlations_std_raw = correlations_std_raw_.melt(\n",
    "            id_vars=[\"Unnamed: 0\"], value_vars=correlations_std_raw_.columns.drop(\"Unnamed: 0\")\n",
    "        )\n",
    "        correlations_std_raw.rename(\n",
    "            columns={\"Unnamed: 0\": \"dimensions_1\", \"variable\": \"dimensions_2\", \"value\": \"correlation\"}, inplace=True\n",
    "        )\n",
    "\n",
    "        correlations = pd.DataFrame(\n",
    "            None,\n",
    "            columns=[\n",
    "                \"dimension_1\",\n",
    "                \"subdimension_1\",\n",
    "                \"sub_subdimension_1\",\n",
    "                \"algorithm_1\",\n",
    "                \"r2_1\",\n",
    "                \"r2_std_1\",\n",
    "                \"dimension_2\",\n",
    "                \"subdimension_2\",\n",
    "                \"sub_subdimension_2\",\n",
    "                \"algorithm_2\",\n",
    "                \"r2_2\",\n",
    "                \"r2_std_2\",\n",
    "                \"correlation\",\n",
    "                \"correlation_std\",\n",
    "            ],\n",
    "        )\n",
    "\n",
    "        for dimension_index in [\"1\", \"2\"]:\n",
    "            split_residual = correlations_raw[f\"dimensions_{dimension_index}\"].str.split(\"_\")\n",
    "\n",
    "            correlations[f\"dimension_{dimension_index}\"] = split_residual.apply(\n",
    "                lambda list_information: list_information[0]\n",
    "            )\n",
    "            correlations[f\"subdimension_{dimension_index}\"] = split_residual.apply(\n",
    "                lambda list_information: list_information[1]\n",
    "            )\n",
    "            correlations[f\"sub_subdimension_{dimension_index}\"] = split_residual.apply(\n",
    "                lambda list_information: list_information[2]\n",
    "            )\n",
    "            correlations[f\"algorithm_{dimension_index}\"] = split_residual.apply(\n",
    "                lambda list_information: list_information[3]\n",
    "            )\n",
    "\n",
    "        correlations[\"correlation\"] = correlations_raw[\"correlation\"]\n",
    "        correlations[\"correlation_std\"] = correlations_std_raw[\"correlation\"]\n",
    "\n",
    "        scores_raw = pd.read_csv(\n",
    "            f\"../../all_data/page2_predictions/Performances/PERFORMANCES_withEnsembles_alphabetical_{data_type}_Age_test.csv\"\n",
    "        )[COLUMNS_TO_TAKE].rename(columns=COLUMNS_TO_TAKE)\n",
    "        scores_raw.set_index([\"dimension\", \"subdimension\", \"sub_subdimension\", \"algorithm\"], inplace=True)\n",
    "\n",
    "        correlations.set_index([\"dimension_1\", \"subdimension_1\", \"sub_subdimension_1\", \"algorithm_1\"], inplace=True)\n",
    "        correlations[[\"r2_1\", \"r2_std_1\"]] = scores_raw[[\"r2\", \"r2_std\"]]\n",
    "\n",
    "        correlations.reset_index(inplace=True)\n",
    "        correlations.set_index([\"dimension_2\", \"subdimension_2\", \"sub_subdimension_2\", \"algorithm_2\"], inplace=True)\n",
    "        correlations[[\"r2_2\", \"r2_std_2\"]] = scores_raw[[\"r2\", \"r2_std\"]]\n",
    "        \n",
    "\n",
    "        correlations.reset_index(inplace=True)# .to_feather(\n",
    "        #     f\"all_data/correlation_between_accelerated_aging_dimensions/all_dimensions_{DATA_TYPE_NAMING[data_type]}.feather\"\n",
    "        # )\n"
   ]
  },
  {
   "cell_type": "code",
   "execution_count": 2,
   "metadata": {},
   "outputs": [],
   "source": [
    "correlations.loc[(correlations[\"dimension_1\"] == \"Musculoskeletal\") & (correlations[\"sub_subdimension_1\"] == \"MRI\"), \"sub_subdimension_1\"] = \"DXA\""
   ]
  },
  {
   "cell_type": "code",
   "execution_count": 5,
   "metadata": {},
   "outputs": [],
   "source": [
    "correlations.loc[(correlations[\"dimension_2\"] == \"Musculoskeletal\") & (correlations[\"sub_subdimension_2\"] == \"MRI\"), \"sub_subdimension_2\"] = \"DXA\""
   ]
  },
  {
   "cell_type": "code",
   "execution_count": 6,
   "metadata": {},
   "outputs": [
    {
     "data": {
      "text/plain": "Series([], Name: sub_subdimension_2, dtype: object)"
     },
     "execution_count": 6,
     "metadata": {},
     "output_type": "execute_result"
    }
   ],
   "source": [
    "correlations.loc[(correlations[\"dimension_2\"] == \"Musculoskeletal\") & (correlations[\"sub_subdimension_2\"] == \"MRI\"), \"sub_subdimension_2\"]"
   ]
  },
  {
   "cell_type": "code",
   "execution_count": 12,
   "metadata": {},
   "outputs": [
    {
     "data": {
      "text/plain": "dimension_2           0\nsubdimension_2        0\nsub_subdimension_2    0\nalgorithm_2           0\ndimension_1           0\nsubdimension_1        0\nsub_subdimension_1    0\nalgorithm_1           0\nr2_1                  0\nr2_std_1              0\nr2_2                  0\nr2_std_2              0\ncorrelation           0\ncorrelation_std       0\ndtype: int64"
     },
     "execution_count": 12,
     "metadata": {},
     "output_type": "execute_result"
    }
   ],
   "source": [
    "(correlations.replace({\"ImmuneSystem\": \"BloodCells\"}) == \"ImmuneSystem\").sum()"
   ]
  }
 ],
 "metadata": {
  "kernelspec": {
   "display_name": "Python 3.8.5  ('env_website': venv)",
   "name": "pythonjvsc74a57bd090a2d2112265369b3cee75b3d17fea5658357118066bfd7e04cfa35ff7dbfd52"
  },
  "language_info": {
   "codemirror_mode": {
    "name": "ipython",
    "version": 3
   },
   "file_extension": ".py",
   "mimetype": "text/x-python",
   "name": "python",
   "nbconvert_exporter": "python",
   "pygments_lexer": "ipython3",
   "version": "3.8.5"
  },
  "metadata": {
   "interpreter": {
    "hash": "90a2d2112265369b3cee75b3d17fea5658357118066bfd7e04cfa35ff7dbfd52"
   }
  },
  "orig_nbformat": 2
 },
 "nbformat": 4,
 "nbformat_minor": 2
}