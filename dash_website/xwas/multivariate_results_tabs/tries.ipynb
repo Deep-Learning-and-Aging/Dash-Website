{
 "cells": [
  {
   "cell_type": "code",
   "execution_count": 6,
   "metadata": {},
   "outputs": [
    {
     "data": {
      "text/html": "<div>\n<style scoped>\n    .dataframe tbody tr th:only-of-type {\n        vertical-align: middle;\n    }\n\n    .dataframe tbody tr th {\n        vertical-align: top;\n    }\n\n    .dataframe thead th {\n        text-align: right;\n    }\n</style>\n<table border=\"1\" class=\"dataframe\">\n  <thead>\n    <tr style=\"text-align: right;\">\n      <th></th>\n      <th>category</th>\n      <th>dimension</th>\n      <th>std</th>\n      <th>r2</th>\n      <th>sample_size</th>\n      <th>algorithm</th>\n    </tr>\n  </thead>\n  <tbody>\n    <tr>\n      <th>0</th>\n      <td>BloodBiochemistry</td>\n      <td>*</td>\n      <td>0.016213</td>\n      <td>0.054293</td>\n      <td>51741</td>\n      <td>elastic_net</td>\n    </tr>\n    <tr>\n      <th>1</th>\n      <td>BloodBiochemistry</td>\n      <td>*instances01</td>\n      <td>0.052229</td>\n      <td>0.110567</td>\n      <td>4404</td>\n      <td>elastic_net</td>\n    </tr>\n    <tr>\n      <th>2</th>\n      <td>BloodBiochemistry</td>\n      <td>*instances1.5x</td>\n      <td>0.016442</td>\n      <td>0.056783</td>\n      <td>46158</td>\n      <td>elastic_net</td>\n    </tr>\n    <tr>\n      <th>3</th>\n      <td>BloodBiochemistry</td>\n      <td>*instances23</td>\n      <td>0.022658</td>\n      <td>0.028858</td>\n      <td>1620</td>\n      <td>elastic_net</td>\n    </tr>\n    <tr>\n      <th>4</th>\n      <td>BloodBiochemistry</td>\n      <td>Abdomen</td>\n      <td>0.007641</td>\n      <td>0.024696</td>\n      <td>31749</td>\n      <td>elastic_net</td>\n    </tr>\n    <tr>\n      <th>...</th>\n      <td>...</td>\n      <td>...</td>\n      <td>...</td>\n      <td>...</td>\n      <td>...</td>\n      <td>...</td>\n    </tr>\n    <tr>\n      <th>8211</th>\n      <td>medical_diagnoses_Z</td>\n      <td>MusculoskeletalHips</td>\n      <td>0.012997</td>\n      <td>0.020127</td>\n      <td>42146</td>\n      <td>neural_network</td>\n    </tr>\n    <tr>\n      <th>8212</th>\n      <td>medical_diagnoses_Z</td>\n      <td>MusculoskeletalKnees</td>\n      <td>0.007758</td>\n      <td>0.014189</td>\n      <td>39809</td>\n      <td>neural_network</td>\n    </tr>\n    <tr>\n      <th>8213</th>\n      <td>medical_diagnoses_Z</td>\n      <td>MusculoskeletalFullBody</td>\n      <td>0.006136</td>\n      <td>0.022943</td>\n      <td>42164</td>\n      <td>neural_network</td>\n    </tr>\n    <tr>\n      <th>8214</th>\n      <td>medical_diagnoses_Z</td>\n      <td>MusculoskeletalScalars</td>\n      <td>0.004127</td>\n      <td>0.064822</td>\n      <td>486642</td>\n      <td>neural_network</td>\n    </tr>\n    <tr>\n      <th>8215</th>\n      <td>medical_diagnoses_Z</td>\n      <td>PhysicalActivity</td>\n      <td>0.012948</td>\n      <td>0.064513</td>\n      <td>77269</td>\n      <td>neural_network</td>\n    </tr>\n  </tbody>\n</table>\n<p>8216 rows × 6 columns</p>\n</div>",
      "text/plain": "                 category                dimension       std        r2  \\\n0       BloodBiochemistry                        *  0.016213  0.054293   \n1       BloodBiochemistry             *instances01  0.052229  0.110567   \n2       BloodBiochemistry           *instances1.5x  0.016442  0.056783   \n3       BloodBiochemistry             *instances23  0.022658  0.028858   \n4       BloodBiochemistry                  Abdomen  0.007641  0.024696   \n...                   ...                      ...       ...       ...   \n8211  medical_diagnoses_Z      MusculoskeletalHips  0.012997  0.020127   \n8212  medical_diagnoses_Z     MusculoskeletalKnees  0.007758  0.014189   \n8213  medical_diagnoses_Z  MusculoskeletalFullBody  0.006136  0.022943   \n8214  medical_diagnoses_Z   MusculoskeletalScalars  0.004127  0.064822   \n8215  medical_diagnoses_Z         PhysicalActivity  0.012948  0.064513   \n\n      sample_size       algorithm  \n0           51741     elastic_net  \n1            4404     elastic_net  \n2           46158     elastic_net  \n3            1620     elastic_net  \n4           31749     elastic_net  \n...           ...             ...  \n8211        42146  neural_network  \n8212        39809  neural_network  \n8213        42164  neural_network  \n8214       486642  neural_network  \n8215        77269  neural_network  \n\n[8216 rows x 6 columns]"
     },
     "execution_count": 6,
     "metadata": {},
     "output_type": "execute_result"
    }
   ],
   "source": [
    "import pandas as pd \n",
    "\n",
    "pd.read_feather(\"../../../all_data/xwas/multivariate_results/scores.feather\")"
   ]
  }
 ],
 "metadata": {
  "kernelspec": {
   "display_name": "Python 3.9.4  ('env_container': venv)",
   "name": "pythonjvsc74a57bd0827f31c7a17f115185da69808fd256ce792d94cfeb61ab0a6e35bd7e2999d502"
  },
  "language_info": {
   "codemirror_mode": {
    "name": "ipython",
    "version": 3
   },
   "file_extension": ".py",
   "mimetype": "text/x-python",
   "name": "python",
   "nbconvert_exporter": "python",
   "pygments_lexer": "ipython3",
   "version": "3.9.4"
  },
  "metadata": {
   "interpreter": {
    "hash": "827f31c7a17f115185da69808fd256ce792d94cfeb61ab0a6e35bd7e2999d502"
   }
  },
  "orig_nbformat": 2
 },
 "nbformat": 4,
 "nbformat_minor": 2
}