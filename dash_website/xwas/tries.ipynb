{
 "metadata": {
  "language_info": {
   "codemirror_mode": {
    "name": "ipython",
    "version": 3
   },
   "file_extension": ".py",
   "mimetype": "text/x-python",
   "name": "python",
   "nbconvert_exporter": "python",
   "pygments_lexer": "ipython3",
   "version": "3.7.7-final"
  },
  "orig_nbformat": 2,
  "kernelspec": {
   "name": "python3",
   "display_name": "Python 3.7.7 64-bit ('env_website')",
   "metadata": {
    "interpreter": {
     "hash": "c11bf2a122358a257f4887e4656fd266c9212bc31c6d2fa50cb5fb4a0c5b9dd8"
    }
   }
  }
 },
 "nbformat": 4,
 "nbformat_minor": 2,
 "cells": [
  {
   "cell_type": "code",
   "execution_count": 10,
   "metadata": {},
   "outputs": [],
   "source": [
    "import pandas as pd \n",
    "from dash_website import MAIN_CATEGORIES_TO_CATEGORIES\n",
    "from dash_website.xwas.univariate_results_tabs import ITEMS_LEGEND\n",
    "import plotly.graph_objects as go\n",
    "\n",
    "\n",
    "summary = pd.read_feather(\"../../data/xwas/univariate_results/summary.feather\").set_index([\"dimension\", \"category\"])\n",
    "summary.columns = pd.MultiIndex.from_tuples(\n",
    "    list(map(eval, summary.columns.tolist())), names=[\"category\", \"variable\"]\n",
    ")\n",
    "item = \"significant\"\n",
    "main_category = list(MAIN_CATEGORIES_TO_CATEGORIES.keys())[-1]"
   ]
  },
  {
   "cell_type": "code",
   "execution_count": 11,
   "metadata": {},
   "outputs": [
    {
     "output_type": "display_data",
     "data": {
      "application/vnd.plotly.v1+json": {
       "config": {
        "plotlyServerURL": "https://plot.ly"
       },
       "data": [
        {
         "customdata": [
          [
           3,
           9,
           4,
           2,
           4
          ],
          [
           2,
           8,
           6,
           1,
           5
          ],
          [
           1,
           4,
           3,
           1,
           4
          ],
          [
           2,
           0,
           2,
           1,
           1
          ],
          [
           2,
           0,
           2,
           1,
           1
          ],
          [
           6,
           13,
           10,
           6,
           5
          ],
          [
           3,
           7,
           11,
           4,
           4
          ],
          [
           6,
           11,
           20,
           6,
           6
          ],
          [
           5,
           10,
           11,
           0,
           5
          ],
          [
           4,
           3,
           7,
           2,
           5
          ],
          [
           6,
           6,
           7,
           3,
           3
          ],
          [
           3,
           7,
           7,
           3,
           5
          ],
          [
           2,
           2,
           10,
           4,
           4
          ],
          [
           5,
           6,
           14,
           5,
           5
          ],
          [
           0,
           3,
           8,
           1,
           5
          ],
          [
           1,
           7,
           9,
           3,
           3
          ],
          [
           7,
           15,
           28,
           5,
           5
          ],
          [
           2,
           8,
           6,
           3,
           2
          ],
          [
           1,
           0,
           1,
           1,
           3
          ],
          [
           2,
           8,
           8,
           2,
           4
          ],
          [
           1,
           11,
           18,
           2,
           5
          ],
          [
           6,
           10,
           29,
           5,
           7
          ],
          [
           3,
           8,
           10,
           3,
           3
          ],
          [
           3,
           6,
           10,
           3,
           5
          ],
          [
           3,
           5,
           8,
           2,
           4
          ],
          [
           2,
           6,
           5,
           1,
           0
          ],
          [
           5,
           14,
           31,
           5,
           7
          ],
          [
           3,
           4,
           6,
           3,
           3
          ],
          [
           3,
           12,
           13,
           4,
           4
          ],
          [
           3,
           12,
           13,
           4,
           4
          ],
          [
           4,
           0,
           7,
           2,
           1
          ],
          [
           3,
           12,
           13,
           4,
           4
          ],
          [
           1,
           0,
           2,
           1,
           1
          ]
         ],
         "hovertemplate": "X main category: %{x}<br>Aging dimension: %{y}<br>significant variables: %{customdata} ~ %{z} % of the variables<br><extra></extra>",
         "type": "heatmap",
         "x": [
          "Education",
          "Employment",
          "Household",
          "OtherSociodemographics",
          "SocialSupport"
         ],
         "y": [
          "Abdomen",
          "AbdomenLiver",
          "AbdomenPancreas",
          "Arterial",
          "ArterialCarotids",
          "ArterialPulseWaveAnalysis",
          "Biochemistry",
          "BiochemistryBlood",
          "BiochemistryUrine",
          "Brain",
          "BrainCognitive",
          "BrainMRI",
          "Eyes",
          "EyesAll",
          "EyesFundus",
          "EyesOCT",
          "Hearing",
          "Heart",
          "HeartECG",
          "HeartMRI",
          "ImmuneSystem",
          "Lungs",
          "Musculoskeletal",
          "MusculoskeletalFullBody",
          "MusculoskeletalHips",
          "MusculoskeletalKnees",
          "MusculoskeletalScalars",
          "MusculoskeletalSpine",
          "PhysicalActivity",
          "set",
          "set_instances01",
          "set_instances1.5x",
          "set_instances23"
         ],
         "z": [
          [
           37,
           39,
           9,
           28,
           44
          ],
          [
           25,
           34,
           13,
           14,
           55
          ],
          [
           12,
           17,
           6,
           14,
           44
          ],
          [
           25,
           0,
           4,
           14,
           11
          ],
          [
           25,
           0,
           4,
           14,
           11
          ],
          [
           75,
           56,
           22,
           85,
           55
          ],
          [
           37,
           33,
           25,
           57,
           44
          ],
          [
           75,
           50,
           45,
           85,
           66
          ],
          [
           62,
           43,
           25,
           0,
           55
          ],
          [
           50,
           13,
           15,
           28,
           55
          ],
          [
           75,
           26,
           15,
           42,
           33
          ],
          [
           37,
           30,
           15,
           42,
           55
          ],
          [
           25,
           8,
           22,
           57,
           44
          ],
          [
           62,
           26,
           31,
           71,
           55
          ],
          [
           0,
           13,
           18,
           14,
           55
          ],
          [
           12,
           30,
           20,
           42,
           33
          ],
          [
           87,
           65,
           63,
           71,
           55
          ],
          [
           25,
           34,
           13,
           42,
           22
          ],
          [
           12,
           0,
           2,
           14,
           33
          ],
          [
           25,
           34,
           18,
           28,
           44
          ],
          [
           12,
           47,
           40,
           28,
           55
          ],
          [
           75,
           43,
           65,
           71,
           77
          ],
          [
           37,
           34,
           22,
           42,
           33
          ],
          [
           37,
           26,
           22,
           42,
           55
          ],
          [
           37,
           21,
           18,
           28,
           44
          ],
          [
           25,
           26,
           11,
           14,
           0
          ],
          [
           62,
           60,
           70,
           71,
           77
          ],
          [
           37,
           17,
           13,
           42,
           33
          ],
          [
           37,
           57,
           32,
           57,
           50
          ],
          [
           37,
           57,
           30,
           57,
           44
          ],
          [
           50,
           0,
           16,
           28,
           12
          ],
          [
           37,
           57,
           32,
           57,
           50
          ],
          [
           12,
           0,
           5,
           14,
           11
          ]
         ]
        }
       ],
       "layout": {
        "height": 990,
        "template": {
         "data": {
          "bar": [
           {
            "error_x": {
             "color": "#2a3f5f"
            },
            "error_y": {
             "color": "#2a3f5f"
            },
            "marker": {
             "line": {
              "color": "#E5ECF6",
              "width": 0.5
             }
            },
            "type": "bar"
           }
          ],
          "barpolar": [
           {
            "marker": {
             "line": {
              "color": "#E5ECF6",
              "width": 0.5
             }
            },
            "type": "barpolar"
           }
          ],
          "carpet": [
           {
            "aaxis": {
             "endlinecolor": "#2a3f5f",
             "gridcolor": "white",
             "linecolor": "white",
             "minorgridcolor": "white",
             "startlinecolor": "#2a3f5f"
            },
            "baxis": {
             "endlinecolor": "#2a3f5f",
             "gridcolor": "white",
             "linecolor": "white",
             "minorgridcolor": "white",
             "startlinecolor": "#2a3f5f"
            },
            "type": "carpet"
           }
          ],
          "choropleth": [
           {
            "colorbar": {
             "outlinewidth": 0,
             "ticks": ""
            },
            "type": "choropleth"
           }
          ],
          "contour": [
           {
            "colorbar": {
             "outlinewidth": 0,
             "ticks": ""
            },
            "colorscale": [
             [
              0,
              "#0d0887"
             ],
             [
              0.1111111111111111,
              "#46039f"
             ],
             [
              0.2222222222222222,
              "#7201a8"
             ],
             [
              0.3333333333333333,
              "#9c179e"
             ],
             [
              0.4444444444444444,
              "#bd3786"
             ],
             [
              0.5555555555555556,
              "#d8576b"
             ],
             [
              0.6666666666666666,
              "#ed7953"
             ],
             [
              0.7777777777777778,
              "#fb9f3a"
             ],
             [
              0.8888888888888888,
              "#fdca26"
             ],
             [
              1,
              "#f0f921"
             ]
            ],
            "type": "contour"
           }
          ],
          "contourcarpet": [
           {
            "colorbar": {
             "outlinewidth": 0,
             "ticks": ""
            },
            "type": "contourcarpet"
           }
          ],
          "heatmap": [
           {
            "colorbar": {
             "outlinewidth": 0,
             "ticks": ""
            },
            "colorscale": [
             [
              0,
              "#0d0887"
             ],
             [
              0.1111111111111111,
              "#46039f"
             ],
             [
              0.2222222222222222,
              "#7201a8"
             ],
             [
              0.3333333333333333,
              "#9c179e"
             ],
             [
              0.4444444444444444,
              "#bd3786"
             ],
             [
              0.5555555555555556,
              "#d8576b"
             ],
             [
              0.6666666666666666,
              "#ed7953"
             ],
             [
              0.7777777777777778,
              "#fb9f3a"
             ],
             [
              0.8888888888888888,
              "#fdca26"
             ],
             [
              1,
              "#f0f921"
             ]
            ],
            "type": "heatmap"
           }
          ],
          "heatmapgl": [
           {
            "colorbar": {
             "outlinewidth": 0,
             "ticks": ""
            },
            "colorscale": [
             [
              0,
              "#0d0887"
             ],
             [
              0.1111111111111111,
              "#46039f"
             ],
             [
              0.2222222222222222,
              "#7201a8"
             ],
             [
              0.3333333333333333,
              "#9c179e"
             ],
             [
              0.4444444444444444,
              "#bd3786"
             ],
             [
              0.5555555555555556,
              "#d8576b"
             ],
             [
              0.6666666666666666,
              "#ed7953"
             ],
             [
              0.7777777777777778,
              "#fb9f3a"
             ],
             [
              0.8888888888888888,
              "#fdca26"
             ],
             [
              1,
              "#f0f921"
             ]
            ],
            "type": "heatmapgl"
           }
          ],
          "histogram": [
           {
            "marker": {
             "colorbar": {
              "outlinewidth": 0,
              "ticks": ""
             }
            },
            "type": "histogram"
           }
          ],
          "histogram2d": [
           {
            "colorbar": {
             "outlinewidth": 0,
             "ticks": ""
            },
            "colorscale": [
             [
              0,
              "#0d0887"
             ],
             [
              0.1111111111111111,
              "#46039f"
             ],
             [
              0.2222222222222222,
              "#7201a8"
             ],
             [
              0.3333333333333333,
              "#9c179e"
             ],
             [
              0.4444444444444444,
              "#bd3786"
             ],
             [
              0.5555555555555556,
              "#d8576b"
             ],
             [
              0.6666666666666666,
              "#ed7953"
             ],
             [
              0.7777777777777778,
              "#fb9f3a"
             ],
             [
              0.8888888888888888,
              "#fdca26"
             ],
             [
              1,
              "#f0f921"
             ]
            ],
            "type": "histogram2d"
           }
          ],
          "histogram2dcontour": [
           {
            "colorbar": {
             "outlinewidth": 0,
             "ticks": ""
            },
            "colorscale": [
             [
              0,
              "#0d0887"
             ],
             [
              0.1111111111111111,
              "#46039f"
             ],
             [
              0.2222222222222222,
              "#7201a8"
             ],
             [
              0.3333333333333333,
              "#9c179e"
             ],
             [
              0.4444444444444444,
              "#bd3786"
             ],
             [
              0.5555555555555556,
              "#d8576b"
             ],
             [
              0.6666666666666666,
              "#ed7953"
             ],
             [
              0.7777777777777778,
              "#fb9f3a"
             ],
             [
              0.8888888888888888,
              "#fdca26"
             ],
             [
              1,
              "#f0f921"
             ]
            ],
            "type": "histogram2dcontour"
           }
          ],
          "mesh3d": [
           {
            "colorbar": {
             "outlinewidth": 0,
             "ticks": ""
            },
            "type": "mesh3d"
           }
          ],
          "parcoords": [
           {
            "line": {
             "colorbar": {
              "outlinewidth": 0,
              "ticks": ""
             }
            },
            "type": "parcoords"
           }
          ],
          "pie": [
           {
            "automargin": true,
            "type": "pie"
           }
          ],
          "scatter": [
           {
            "marker": {
             "colorbar": {
              "outlinewidth": 0,
              "ticks": ""
             }
            },
            "type": "scatter"
           }
          ],
          "scatter3d": [
           {
            "line": {
             "colorbar": {
              "outlinewidth": 0,
              "ticks": ""
             }
            },
            "marker": {
             "colorbar": {
              "outlinewidth": 0,
              "ticks": ""
             }
            },
            "type": "scatter3d"
           }
          ],
          "scattercarpet": [
           {
            "marker": {
             "colorbar": {
              "outlinewidth": 0,
              "ticks": ""
             }
            },
            "type": "scattercarpet"
           }
          ],
          "scattergeo": [
           {
            "marker": {
             "colorbar": {
              "outlinewidth": 0,
              "ticks": ""
             }
            },
            "type": "scattergeo"
           }
          ],
          "scattergl": [
           {
            "marker": {
             "colorbar": {
              "outlinewidth": 0,
              "ticks": ""
             }
            },
            "type": "scattergl"
           }
          ],
          "scattermapbox": [
           {
            "marker": {
             "colorbar": {
              "outlinewidth": 0,
              "ticks": ""
             }
            },
            "type": "scattermapbox"
           }
          ],
          "scatterpolar": [
           {
            "marker": {
             "colorbar": {
              "outlinewidth": 0,
              "ticks": ""
             }
            },
            "type": "scatterpolar"
           }
          ],
          "scatterpolargl": [
           {
            "marker": {
             "colorbar": {
              "outlinewidth": 0,
              "ticks": ""
             }
            },
            "type": "scatterpolargl"
           }
          ],
          "scatterternary": [
           {
            "marker": {
             "colorbar": {
              "outlinewidth": 0,
              "ticks": ""
             }
            },
            "type": "scatterternary"
           }
          ],
          "surface": [
           {
            "colorbar": {
             "outlinewidth": 0,
             "ticks": ""
            },
            "colorscale": [
             [
              0,
              "#0d0887"
             ],
             [
              0.1111111111111111,
              "#46039f"
             ],
             [
              0.2222222222222222,
              "#7201a8"
             ],
             [
              0.3333333333333333,
              "#9c179e"
             ],
             [
              0.4444444444444444,
              "#bd3786"
             ],
             [
              0.5555555555555556,
              "#d8576b"
             ],
             [
              0.6666666666666666,
              "#ed7953"
             ],
             [
              0.7777777777777778,
              "#fb9f3a"
             ],
             [
              0.8888888888888888,
              "#fdca26"
             ],
             [
              1,
              "#f0f921"
             ]
            ],
            "type": "surface"
           }
          ],
          "table": [
           {
            "cells": {
             "fill": {
              "color": "#EBF0F8"
             },
             "line": {
              "color": "white"
             }
            },
            "header": {
             "fill": {
              "color": "#C8D4E3"
             },
             "line": {
              "color": "white"
             }
            },
            "type": "table"
           }
          ]
         },
         "layout": {
          "annotationdefaults": {
           "arrowcolor": "#2a3f5f",
           "arrowhead": 0,
           "arrowwidth": 1
          },
          "autotypenumbers": "strict",
          "coloraxis": {
           "colorbar": {
            "outlinewidth": 0,
            "ticks": ""
           }
          },
          "colorscale": {
           "diverging": [
            [
             0,
             "#8e0152"
            ],
            [
             0.1,
             "#c51b7d"
            ],
            [
             0.2,
             "#de77ae"
            ],
            [
             0.3,
             "#f1b6da"
            ],
            [
             0.4,
             "#fde0ef"
            ],
            [
             0.5,
             "#f7f7f7"
            ],
            [
             0.6,
             "#e6f5d0"
            ],
            [
             0.7,
             "#b8e186"
            ],
            [
             0.8,
             "#7fbc41"
            ],
            [
             0.9,
             "#4d9221"
            ],
            [
             1,
             "#276419"
            ]
           ],
           "sequential": [
            [
             0,
             "#0d0887"
            ],
            [
             0.1111111111111111,
             "#46039f"
            ],
            [
             0.2222222222222222,
             "#7201a8"
            ],
            [
             0.3333333333333333,
             "#9c179e"
            ],
            [
             0.4444444444444444,
             "#bd3786"
            ],
            [
             0.5555555555555556,
             "#d8576b"
            ],
            [
             0.6666666666666666,
             "#ed7953"
            ],
            [
             0.7777777777777778,
             "#fb9f3a"
            ],
            [
             0.8888888888888888,
             "#fdca26"
            ],
            [
             1,
             "#f0f921"
            ]
           ],
           "sequentialminus": [
            [
             0,
             "#0d0887"
            ],
            [
             0.1111111111111111,
             "#46039f"
            ],
            [
             0.2222222222222222,
             "#7201a8"
            ],
            [
             0.3333333333333333,
             "#9c179e"
            ],
            [
             0.4444444444444444,
             "#bd3786"
            ],
            [
             0.5555555555555556,
             "#d8576b"
            ],
            [
             0.6666666666666666,
             "#ed7953"
            ],
            [
             0.7777777777777778,
             "#fb9f3a"
            ],
            [
             0.8888888888888888,
             "#fdca26"
            ],
            [
             1,
             "#f0f921"
            ]
           ]
          },
          "colorway": [
           "#636efa",
           "#EF553B",
           "#00cc96",
           "#ab63fa",
           "#FFA15A",
           "#19d3f3",
           "#FF6692",
           "#B6E880",
           "#FF97FF",
           "#FECB52"
          ],
          "font": {
           "color": "#2a3f5f"
          },
          "geo": {
           "bgcolor": "white",
           "lakecolor": "white",
           "landcolor": "#E5ECF6",
           "showlakes": true,
           "showland": true,
           "subunitcolor": "white"
          },
          "hoverlabel": {
           "align": "left"
          },
          "hovermode": "closest",
          "mapbox": {
           "style": "light"
          },
          "paper_bgcolor": "white",
          "plot_bgcolor": "#E5ECF6",
          "polar": {
           "angularaxis": {
            "gridcolor": "white",
            "linecolor": "white",
            "ticks": ""
           },
           "bgcolor": "#E5ECF6",
           "radialaxis": {
            "gridcolor": "white",
            "linecolor": "white",
            "ticks": ""
           }
          },
          "scene": {
           "xaxis": {
            "backgroundcolor": "#E5ECF6",
            "gridcolor": "white",
            "gridwidth": 2,
            "linecolor": "white",
            "showbackground": true,
            "ticks": "",
            "zerolinecolor": "white"
           },
           "yaxis": {
            "backgroundcolor": "#E5ECF6",
            "gridcolor": "white",
            "gridwidth": 2,
            "linecolor": "white",
            "showbackground": true,
            "ticks": "",
            "zerolinecolor": "white"
           },
           "zaxis": {
            "backgroundcolor": "#E5ECF6",
            "gridcolor": "white",
            "gridwidth": 2,
            "linecolor": "white",
            "showbackground": true,
            "ticks": "",
            "zerolinecolor": "white"
           }
          },
          "shapedefaults": {
           "line": {
            "color": "#2a3f5f"
           }
          },
          "ternary": {
           "aaxis": {
            "gridcolor": "white",
            "linecolor": "white",
            "ticks": ""
           },
           "baxis": {
            "gridcolor": "white",
            "linecolor": "white",
            "ticks": ""
           },
           "bgcolor": "#E5ECF6",
           "caxis": {
            "gridcolor": "white",
            "linecolor": "white",
            "ticks": ""
           }
          },
          "title": {
           "x": 0.05
          },
          "xaxis": {
           "automargin": true,
           "gridcolor": "white",
           "linecolor": "white",
           "ticks": "",
           "title": {
            "standoff": 15
           },
           "zerolinecolor": "white",
           "zerolinewidth": 2
          },
          "yaxis": {
           "automargin": true,
           "gridcolor": "white",
           "linecolor": "white",
           "ticks": "",
           "title": {
            "standoff": 15
           },
           "zerolinecolor": "white",
           "zerolinewidth": 2
          }
         }
        },
        "title": {
         "text": "Percentage of significant variables"
        },
        "width": 500,
        "xaxis": {
         "tickangle": 90,
         "title": {
          "text": "X subcategory"
         }
        },
        "yaxis": {
         "title": {
          "text": "Aging dimension"
         }
        }
       }
      }
     },
     "metadata": {}
    }
   ],
   "source": [
    "summary_item_percentage = (\n",
    "    100\n",
    "    * summary.reset_index().pivot(\n",
    "        index=[(\"dimension\", \"\")], columns=[(\"category\", \"\")], values=(item, \"percentage\")\n",
    "    )\n",
    ").astype(int)\n",
    "summary_item_percentage_category = summary_item_percentage[MAIN_CATEGORIES_TO_CATEGORIES[main_category]]\n",
    "summary_item_percentage_category.index.name = \"dimension\"\n",
    "summary_item_percentage_category.columns.name = \"category\"\n",
    "\n",
    "summary_item_number = summary.reset_index().pivot(\n",
    "    index=[(\"dimension\", \"\")], columns=[(\"category\", \"\")], values=(item, \"number\")\n",
    ")\n",
    "summary_item_number_category = summary_item_number[MAIN_CATEGORIES_TO_CATEGORIES[main_category]]\n",
    "summary_item_percentage_category.index.name = \"dimension\"\n",
    "summary_item_percentage_category.columns.name = \"category\"\n",
    "\n",
    "hovertemplate = \"<br>\".join(\n",
    "    [\n",
    "        \"X main category: %{x}\",\n",
    "        \"Aging dimension: %{y}\",\n",
    "        f\"{ITEMS_LEGEND[item]}: \" + \"%{customdata} ~ %{z} % of the variables\",\n",
    "        \"<extra></extra>\",\n",
    "    ]\n",
    ")\n",
    "\n",
    "heatmap = go.Heatmap(\n",
    "    z=summary_item_percentage_category,\n",
    "    x=summary_item_percentage_category.columns,\n",
    "    y=summary_item_percentage_category.index,\n",
    "    customdata=summary_item_number_category,\n",
    "    hovertemplate=hovertemplate,\n",
    ")\n",
    "\n",
    "fig = go.Figure(heatmap)\n",
    "fig.update_layout(\n",
    "    {\n",
    "        \"title\": f\"Percentage of {ITEMS_LEGEND[item]}\",\n",
    "        \"xaxis\": {\"title\": \"X subcategory\", \"tickangle\": 90},\n",
    "        \"yaxis\": {\"title\": \"Aging dimension\"},\n",
    "        \"width\": max(30 * summary_item_percentage_category.shape[1], 500),\n",
    "        \"height\": 30 * summary_item_percentage_category.shape[0],\n",
    "    }\n",
    ")"
   ]
  }
 ]
}