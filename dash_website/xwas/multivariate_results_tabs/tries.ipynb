{
 "cells": [
  {
   "cell_type": "code",
   "execution_count": 2,
   "metadata": {},
   "outputs": [
    {
     "data": {
      "text/plain": "0                  LungsSpirometry\n4           MusculoskeletalScalars\n6             BloodCellsBloodCount\n19       ArterialPulseWaveAnalysis\n21               BiochemistryBlood\n88                         EyesOCT\n142                     EyesFundus\n194                       BrainMRI\n352                           Eyes\n365           MusculoskeletalSpine\n367                Musculoskeletal\n368        MusculoskeletalFullBody\n418              BiochemistryUrine\n969                        Abdomen\n971                   AbdomenLiver\n1014                  Biochemistry\n1127                      HeartMRI\n1144                         Heart\n2629            HearingHearingTest\n2954                *instances1.5x\n2955              PhysicalActivity\n3586                BrainCognitive\n6453          MusculoskeletalKnees\n7003           MusculoskeletalHips\n10755                        Brain\nName: dimension, dtype: object"
     },
     "execution_count": 2,
     "metadata": {},
     "output_type": "execute_result"
    }
   ],
   "source": [
    "from dash_website.utils.aws_loader import load_feather, upload_file\n",
    "from dash_website import MAIN_CATEGORIES_TO_CATEGORIES\n",
    "\n",
    "load_feather(\"genetics/gwas/size_effects.feather\")[\"dimension\"].drop_duplicates()"
   ]
  }
 ],
 "metadata": {
  "kernelspec": {
   "display_name": "Python 3.9.4  ('env_container': venv)",
   "name": "pythonjvsc74a57bd0827f31c7a17f115185da69808fd256ce792d94cfeb61ab0a6e35bd7e2999d502"
  },
  "language_info": {
   "name": "python",
   "version": ""
  },
  "metadata": {
   "interpreter": {
    "hash": "827f31c7a17f115185da69808fd256ce792d94cfeb61ab0a6e35bd7e2999d502"
   }
  },
  "orig_nbformat": 2
 },
 "nbformat": 4,
 "nbformat_minor": 2
}