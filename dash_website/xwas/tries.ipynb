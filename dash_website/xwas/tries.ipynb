{
 "cells": [
  {
   "cell_type": "code",
   "execution_count": 6,
   "metadata": {},
   "outputs": [],
   "source": [
    "import pandas as pd\n",
    "import numpy as np\n",
    "\n",
    "subset_method = \"union\"\n",
    "correlation_type = \"pearson\"\n",
    "data_category = pd.read_feather(\"../../all_data/xwas/univariate_correlations/correlations/categories/correlations_UrineBiochemistry.feather\").to_dict()"
   ]
  },
  {
   "cell_type": "code",
   "execution_count": null,
   "metadata": {},
   "outputs": [
    {
     "data": {
      "text/plain": "MultiIndex([('union',          'pearson'),\n            ('union', 'number_variables')],\n           names=['subset_method', 'correlation_type'])"
     },
     "execution_count": 17,
     "metadata": {},
     "output_type": "execute_result"
    }
   ],
   "source": [
    "correlations_raw = pd.DataFrame(data_category).set_index([\"dimension_1\", \"subdimension_1\", \"r2_1\", \"r2_std_1\", \"dimension_2\", \"subdimension_2\", \"r2_2\", \"r2_std_2\"])\n",
    "correlations_raw.columns = pd.MultiIndex.from_tuples(\n",
    "    list(map(eval, correlations_raw.columns.tolist())), names=[\"subset_method\", \"correlation_type\"]\n",
    ")\n",
    "correlations = correlations_raw[[(subset_method, correlation_type), (subset_method, \"number_variables\")]]\n",
    "correlations.columns = [\"correlation\", \"number_variables\"]\n",
    "correlations.reset_index(inplace=True)"
   ]
  },
  {
   "cell_type": "code",
   "execution_count": 14,
   "metadata": {},
   "outputs": [
    {
     "data": {
      "text/html": "<div>\n<style scoped>\n    .dataframe tbody tr th:only-of-type {\n        vertical-align: middle;\n    }\n\n    .dataframe tbody tr th {\n        vertical-align: top;\n    }\n\n    .dataframe thead th {\n        text-align: right;\n    }\n</style>\n<table border=\"1\" class=\"dataframe\">\n  <thead>\n    <tr style=\"text-align: right;\">\n      <th></th>\n      <th>dimension_1</th>\n      <th>subdimension_1</th>\n      <th>r2_1</th>\n      <th>r2_std_1</th>\n      <th>dimension_2</th>\n      <th>subdimension_2</th>\n      <th>r2_2</th>\n      <th>r2_std_2</th>\n      <th>correlation</th>\n      <th>number_variables</th>\n    </tr>\n  </thead>\n  <tbody>\n    <tr>\n      <th>0</th>\n      <td>Abdomen</td>\n      <td>*</td>\n      <td>0.763341</td>\n      <td>0.002007</td>\n      <td>Abdomen</td>\n      <td>*</td>\n      <td>0.763341</td>\n      <td>0.002007</td>\n      <td>NaN</td>\n      <td>1.0</td>\n    </tr>\n    <tr>\n      <th>1</th>\n      <td>Abdomen</td>\n      <td>*</td>\n      <td>0.763341</td>\n      <td>0.002007</td>\n      <td>Abdomen</td>\n      <td>Liver</td>\n      <td>0.714937</td>\n      <td>0.002142</td>\n      <td>NaN</td>\n      <td>1.0</td>\n    </tr>\n    <tr>\n      <th>2</th>\n      <td>Abdomen</td>\n      <td>*</td>\n      <td>0.763341</td>\n      <td>0.002007</td>\n      <td>Abdomen</td>\n      <td>Pancreas</td>\n      <td>0.702804</td>\n      <td>0.002529</td>\n      <td>1.000000</td>\n      <td>2.0</td>\n    </tr>\n    <tr>\n      <th>3</th>\n      <td>Abdomen</td>\n      <td>*</td>\n      <td>0.763341</td>\n      <td>0.002007</td>\n      <td>Arterial</td>\n      <td>*</td>\n      <td>0.671142</td>\n      <td>0.006004</td>\n      <td>-1.000000</td>\n      <td>2.0</td>\n    </tr>\n    <tr>\n      <th>4</th>\n      <td>Abdomen</td>\n      <td>*</td>\n      <td>0.763341</td>\n      <td>0.002007</td>\n      <td>Arterial</td>\n      <td>Carotids</td>\n      <td>0.648211</td>\n      <td>0.005648</td>\n      <td>NaN</td>\n      <td>1.0</td>\n    </tr>\n    <tr>\n      <th>...</th>\n      <td>...</td>\n      <td>...</td>\n      <td>...</td>\n      <td>...</td>\n      <td>...</td>\n      <td>...</td>\n      <td>...</td>\n      <td>...</td>\n      <td>...</td>\n      <td>...</td>\n    </tr>\n    <tr>\n      <th>1084</th>\n      <td>*instances23</td>\n      <td>*</td>\n      <td>0.900849</td>\n      <td>0.003993</td>\n      <td>PhysicalActivity</td>\n      <td>*</td>\n      <td>0.635326</td>\n      <td>0.001947</td>\n      <td>NaN</td>\n      <td>1.0</td>\n    </tr>\n    <tr>\n      <th>1085</th>\n      <td>*instances23</td>\n      <td>*</td>\n      <td>0.900849</td>\n      <td>0.003993</td>\n      <td>*</td>\n      <td>*</td>\n      <td>0.660751</td>\n      <td>0.001829</td>\n      <td>0.914919</td>\n      <td>4.0</td>\n    </tr>\n    <tr>\n      <th>1086</th>\n      <td>*instances23</td>\n      <td>*</td>\n      <td>0.900849</td>\n      <td>0.003993</td>\n      <td>*instances01</td>\n      <td>*</td>\n      <td>0.869851</td>\n      <td>0.003602</td>\n      <td>1.000000</td>\n      <td>2.0</td>\n    </tr>\n    <tr>\n      <th>1087</th>\n      <td>*instances23</td>\n      <td>*</td>\n      <td>0.900849</td>\n      <td>0.003993</td>\n      <td>*instances1.5x</td>\n      <td>*</td>\n      <td>0.635053</td>\n      <td>0.001931</td>\n      <td>NaN</td>\n      <td>1.0</td>\n    </tr>\n    <tr>\n      <th>1088</th>\n      <td>*instances23</td>\n      <td>*</td>\n      <td>0.900849</td>\n      <td>0.003993</td>\n      <td>*instances23</td>\n      <td>*</td>\n      <td>0.900849</td>\n      <td>0.003993</td>\n      <td>NaN</td>\n      <td>0.0</td>\n    </tr>\n  </tbody>\n</table>\n<p>1089 rows × 10 columns</p>\n</div>",
      "text/plain": "       dimension_1 subdimension_1      r2_1  r2_std_1       dimension_2  \\\n0          Abdomen              *  0.763341  0.002007           Abdomen   \n1          Abdomen              *  0.763341  0.002007           Abdomen   \n2          Abdomen              *  0.763341  0.002007           Abdomen   \n3          Abdomen              *  0.763341  0.002007          Arterial   \n4          Abdomen              *  0.763341  0.002007          Arterial   \n...            ...            ...       ...       ...               ...   \n1084  *instances23              *  0.900849  0.003993  PhysicalActivity   \n1085  *instances23              *  0.900849  0.003993                 *   \n1086  *instances23              *  0.900849  0.003993      *instances01   \n1087  *instances23              *  0.900849  0.003993    *instances1.5x   \n1088  *instances23              *  0.900849  0.003993      *instances23   \n\n     subdimension_2      r2_2  r2_std_2  correlation  number_variables  \n0                 *  0.763341  0.002007          NaN               1.0  \n1             Liver  0.714937  0.002142          NaN               1.0  \n2          Pancreas  0.702804  0.002529     1.000000               2.0  \n3                 *  0.671142  0.006004    -1.000000               2.0  \n4          Carotids  0.648211  0.005648          NaN               1.0  \n...             ...       ...       ...          ...               ...  \n1084              *  0.635326  0.001947          NaN               1.0  \n1085              *  0.660751  0.001829     0.914919               4.0  \n1086              *  0.869851  0.003602     1.000000               2.0  \n1087              *  0.635053  0.001931          NaN               1.0  \n1088              *  0.900849  0.003993          NaN               0.0  \n\n[1089 rows x 10 columns]"
     },
     "execution_count": 14,
     "metadata": {},
     "output_type": "execute_result"
    }
   ],
   "source": [
    "correlations"
   ]
  },
  {
   "cell_type": "code",
   "execution_count": 15,
   "metadata": {},
   "outputs": [],
   "source": [
    "table_correlations = correlations.pivot(\n",
    "    index=[\"dimension_1\", \"subdimension_1\"],\n",
    "    columns=[\"dimension_2\", \"subdimension_2\"],\n",
    "    values=\"correlation\",\n",
    ")\n",
    "\n",
    "customdata_list = []\n",
    "for customdata_item in [\"r2_1\", \"r2_std_1\", \"r2_2\", \"r2_std_2\", \"number_variables\"]:\n",
    "    customdata_list.append(\n",
    "        correlations.pivot(\n",
    "            index=[\"dimension_1\", \"subdimension_1\"],\n",
    "            columns=[\"dimension_2\", \"subdimension_2\"],\n",
    "            values=customdata_item,\n",
    "        ).values\n",
    "    )\n",
    "stacked_customdata = list(map(list, np.dstack(customdata_list)))\n"
   ]
  }
 ],
 "metadata": {
  "kernelspec": {
   "display_name": "Python 3.9.4  ('env_container': venv)",
   "name": "pythonjvsc74a57bd0827f31c7a17f115185da69808fd256ce792d94cfeb61ab0a6e35bd7e2999d502"
  },
  "language_info": {
   "codemirror_mode": {
    "name": "ipython",
    "version": 3
   },
   "file_extension": ".py",
   "mimetype": "text/x-python",
   "name": "python",
   "nbconvert_exporter": "python",
   "pygments_lexer": "ipython3",
   "version": "3.9.4"
  },
  "metadata": {
   "interpreter": {
    "hash": "827f31c7a17f115185da69808fd256ce792d94cfeb61ab0a6e35bd7e2999d502"
   }
  },
  "orig_nbformat": 2
 },
 "nbformat": 4,
 "nbformat_minor": 2
}