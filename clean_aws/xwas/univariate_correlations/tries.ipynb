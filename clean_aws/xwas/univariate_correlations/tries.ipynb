{
 "cells": [
  {
   "cell_type": "code",
   "execution_count": 7,
   "metadata": {},
   "outputs": [],
   "source": [
    "import pandas as pd \n",
    "from dash_website import MAIN_CATEGORIES_TO_CATEGORIES, CATEGORIES\n",
    "\n",
    "\n",
    "CATEGORIES = [f\"All_{main_category}\" for main_category in CATEGORIES] + MAIN_CATEGORIES_TO_CATEGORIES[\"All\"]\n",
    "\n",
    "if __name__ == \"__main__\":\n",
    "    squeezed_dimensions = (\n",
    "        pd.read_csv(f\"../../../all_data/page2_predictions/Performances/PERFORMANCES_bestmodels_alphabetical_instances_Age_test.csv\")[\n",
    "            [\"organ\", \"view\", \"R-Squared_all\", \"R-Squared_sd_all\"]\n",
    "        ]\n",
    "        .rename(columns={\"organ\": \"dimension\", \"view\": \"subdimension\", \"R-Squared_all\": \"r2\", \"R-Squared_sd_all\": \"r2_std\"})\n",
    "        .replace({\"ImmuneSystem\": \"BloodCells\"})\n",
    "        .set_index(\"dimension\")\n",
    "    )\n",
    "    squeezed_dimensions.loc[\"Lungs\", \"subdimension\"] = \"*\"\n",
    "    squeezed_dimensions.loc[\"Hearing\", \"subdimension\"] = \"*\"\n",
    "    squeezed_dimensions.reset_index(inplace=True)\n",
    "    squeezed_dimensions[\"squeezed_dimensions\"] = squeezed_dimensions[\"dimension\"] + squeezed_dimensions[\n",
    "        \"subdimension\"\n",
    "    ].replace(\"*\", \"\")\n",
    "    squeezed_dimensions[\"squeezed_dimensions\"].replace(\n",
    "        {\n",
    "            \"*\": \"set\",\n",
    "            \"*instances01\": \"set_instances01\",\n",
    "            \"*instances1.5x\": \"set_instances1.5x\",\n",
    "            \"*instances23\": \"set_instances23\",\n",
    "        },\n",
    "        inplace=True,\n",
    "    )\n",
    "    squeezed_dimensions.set_index(\"squeezed_dimensions\", inplace=True)\n",
    "\n",
    "    every_correlation = pd.read_feather(f\"../../../all_data/xwas/univariate_correlations/correlations/correlations.feather\").set_index(\"category\")\n",
    "    for category in [CATEGORIES[0]]:\n",
    "        correlations = every_correlation.loc[category].reset_index(drop=True).rename(columns={\"dimension_1\": \"dimensions_1\", \"dimension_2\": \"dimensions_2\"})\n",
    "\n",
    "        for idx_dimension in [\"1\", \"2\"]:\n",
    "            correlations.set_index(f\"dimensions_{idx_dimension}\", inplace=True)\n",
    "            correlations[f\"dimension_{idx_dimension}\"] = squeezed_dimensions[\"dimension\"]\n",
    "            correlations[f\"subdimension_{idx_dimension}\"] = squeezed_dimensions[\"subdimension\"]\n",
    "            correlations[f\"r2_{idx_dimension}\"] = squeezed_dimensions[\"r2\"]\n",
    "            correlations[f\"r2_std_{idx_dimension}\"] = squeezed_dimensions[\"r2_std\"]\n",
    "            correlations.reset_index(inplace=True)\n"
   ]
  }
 ],
 "metadata": {
  "kernelspec": {
   "display_name": "Python 3.9.4  ('env_container': venv)",
   "name": "pythonjvsc74a57bd0827f31c7a17f115185da69808fd256ce792d94cfeb61ab0a6e35bd7e2999d502"
  },
  "language_info": {
   "codemirror_mode": {
    "name": "ipython",
    "version": 3
   },
   "file_extension": ".py",
   "mimetype": "text/x-python",
   "name": "python",
   "nbconvert_exporter": "python",
   "pygments_lexer": "ipython3",
   "version": "3.9.4"
  },
  "metadata": {
   "interpreter": {
    "hash": "827f31c7a17f115185da69808fd256ce792d94cfeb61ab0a6e35bd7e2999d502"
   }
  },
  "orig_nbformat": 2
 },
 "nbformat": 4,
 "nbformat_minor": 2
}