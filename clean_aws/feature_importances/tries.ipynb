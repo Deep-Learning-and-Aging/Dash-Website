{
 "cells": [
  {
   "cell_type": "code",
   "execution_count": 26,
   "metadata": {},
   "outputs": [],
   "source": [
    "import pandas as pd\n",
    "\n",
    "COLUMNS_TO_TAKE = {\n",
    "    \"organ\": \"dimension\",\n",
    "    \"view\": \"subdimension\",\n",
    "    \"transformation\": \"sub_subdimension\",\n",
    "    \"architecture\": \"algorithm\",\n",
    "    \"N_all\": \"sample_size\",\n",
    "    \"RMSE_all\": \"rmse\",\n",
    "    \"RMSE_sd_all\": \"rmse_std\",\n",
    "    \"R-Squared_all\": \"r2\",\n",
    "    \"R-Squared_sd_all\": \"r2_std\",\n",
    "}\n",
    "\n",
    "DATA_TYPE_NAMING = {\"instances\": \"all_samples\", \"eids\": \"average_per_participant\"}\n",
    "ALGORITHMS_NAMING = {\"ElasticNet\": \"elastic_net\", \"LightGBM\": \"ligth_gbm\", \"NeuralNetwork\": \"neural_network\"}\n",
    "\n",
    "\n",
    "for data_type in [\"instances\"]:  # [\"eids\", \"instances\"]:\n",
    "    scores_raw = pd.read_csv(\n",
    "        f\"../../all_data/page2_predictions/Performances/PERFORMANCES_tuned_alphabetical_{data_type}_Age_test.csv\"\n",
    "    )\n",
    "    scores = scores_raw[COLUMNS_TO_TAKE.keys()].rename(columns=COLUMNS_TO_TAKE)\n",
    "    scores.drop(index=scores.index[~scores[\"algorithm\"].isin(ALGORITHMS_NAMING.keys())]).replace(ALGORITHMS_NAMING).to_feather(\n",
    "            f\"all_data/feature_importances/scores_{DATA_TYPE_NAMING[data_type]}.feather\"\n",
    "        )\n"
   ]
  },
  {
   "cell_type": "code",
   "execution_count": 27,
   "metadata": {},
   "outputs": [
    {
     "data": {
      "text/html": "<div>\n<style scoped>\n    .dataframe tbody tr th:only-of-type {\n        vertical-align: middle;\n    }\n\n    .dataframe tbody tr th {\n        vertical-align: top;\n    }\n\n    .dataframe thead th {\n        text-align: right;\n    }\n</style>\n<table border=\"1\" class=\"dataframe\">\n  <thead>\n    <tr style=\"text-align: right;\">\n      <th></th>\n      <th>dimension</th>\n      <th>subdimension</th>\n      <th>sub_subdimension</th>\n      <th>algorithm</th>\n      <th>sample_size</th>\n      <th>rmse</th>\n      <th>rmse_std</th>\n      <th>r2</th>\n      <th>r2_std</th>\n    </tr>\n  </thead>\n  <tbody>\n    <tr>\n      <th>8</th>\n      <td>Arterial</td>\n      <td>All</td>\n      <td>Scalars</td>\n      <td>elastic_net</td>\n      <td>40122</td>\n      <td>6.370140</td>\n      <td>0.020417</td>\n      <td>0.313152</td>\n      <td>0.003667</td>\n    </tr>\n    <tr>\n      <th>9</th>\n      <td>Arterial</td>\n      <td>All</td>\n      <td>Scalars</td>\n      <td>ligth_gbm</td>\n      <td>40122</td>\n      <td>6.111340</td>\n      <td>0.019676</td>\n      <td>0.367827</td>\n      <td>0.003843</td>\n    </tr>\n    <tr>\n      <th>10</th>\n      <td>Arterial</td>\n      <td>All</td>\n      <td>Scalars</td>\n      <td>neural_network</td>\n      <td>40122</td>\n      <td>6.184166</td>\n      <td>0.023159</td>\n      <td>0.352671</td>\n      <td>0.004504</td>\n    </tr>\n    <tr>\n      <th>11</th>\n      <td>Arterial</td>\n      <td>BloodPressure</td>\n      <td>Scalars</td>\n      <td>elastic_net</td>\n      <td>565926</td>\n      <td>7.439871</td>\n      <td>0.005899</td>\n      <td>0.201763</td>\n      <td>0.000865</td>\n    </tr>\n    <tr>\n      <th>12</th>\n      <td>Arterial</td>\n      <td>BloodPressure</td>\n      <td>Scalars</td>\n      <td>ligth_gbm</td>\n      <td>565926</td>\n      <td>7.345113</td>\n      <td>0.005908</td>\n      <td>0.221967</td>\n      <td>0.000937</td>\n    </tr>\n    <tr>\n      <th>...</th>\n      <td>...</td>\n      <td>...</td>\n      <td>...</td>\n      <td>...</td>\n      <td>...</td>\n      <td>...</td>\n      <td>...</td>\n      <td>...</td>\n      <td>...</td>\n    </tr>\n    <tr>\n      <th>181</th>\n      <td>Musculoskeletal</td>\n      <td>Scalars</td>\n      <td>Impedance</td>\n      <td>ligth_gbm</td>\n      <td>561408</td>\n      <td>8.173086</td>\n      <td>0.006304</td>\n      <td>0.041806</td>\n      <td>0.000523</td>\n    </tr>\n    <tr>\n      <th>182</th>\n      <td>Musculoskeletal</td>\n      <td>Scalars</td>\n      <td>Impedance</td>\n      <td>neural_network</td>\n      <td>561408</td>\n      <td>8.175931</td>\n      <td>0.006273</td>\n      <td>0.041139</td>\n      <td>0.000541</td>\n    </tr>\n    <tr>\n      <th>196</th>\n      <td>PhysicalActivity</td>\n      <td>FullWeek</td>\n      <td>Scalars</td>\n      <td>elastic_net</td>\n      <td>99862</td>\n      <td>5.338102</td>\n      <td>0.011903</td>\n      <td>0.556438</td>\n      <td>0.001885</td>\n    </tr>\n    <tr>\n      <th>197</th>\n      <td>PhysicalActivity</td>\n      <td>FullWeek</td>\n      <td>Scalars</td>\n      <td>ligth_gbm</td>\n      <td>99862</td>\n      <td>5.107452</td>\n      <td>0.011890</td>\n      <td>0.593941</td>\n      <td>0.001831</td>\n    </tr>\n    <tr>\n      <th>198</th>\n      <td>PhysicalActivity</td>\n      <td>FullWeek</td>\n      <td>Scalars</td>\n      <td>neural_network</td>\n      <td>99862</td>\n      <td>5.649251</td>\n      <td>0.014445</td>\n      <td>0.503222</td>\n      <td>0.002408</td>\n    </tr>\n  </tbody>\n</table>\n<p>123 rows × 9 columns</p>\n</div>",
      "text/plain": "            dimension   subdimension sub_subdimension       algorithm  \\\n8            Arterial            All          Scalars     elastic_net   \n9            Arterial            All          Scalars       ligth_gbm   \n10           Arterial            All          Scalars  neural_network   \n11           Arterial  BloodPressure          Scalars     elastic_net   \n12           Arterial  BloodPressure          Scalars       ligth_gbm   \n..                ...            ...              ...             ...   \n181   Musculoskeletal        Scalars        Impedance       ligth_gbm   \n182   Musculoskeletal        Scalars        Impedance  neural_network   \n196  PhysicalActivity       FullWeek          Scalars     elastic_net   \n197  PhysicalActivity       FullWeek          Scalars       ligth_gbm   \n198  PhysicalActivity       FullWeek          Scalars  neural_network   \n\n     sample_size      rmse  rmse_std        r2    r2_std  \n8          40122  6.370140  0.020417  0.313152  0.003667  \n9          40122  6.111340  0.019676  0.367827  0.003843  \n10         40122  6.184166  0.023159  0.352671  0.004504  \n11        565926  7.439871  0.005899  0.201763  0.000865  \n12        565926  7.345113  0.005908  0.221967  0.000937  \n..           ...       ...       ...       ...       ...  \n181       561408  8.173086  0.006304  0.041806  0.000523  \n182       561408  8.175931  0.006273  0.041139  0.000541  \n196        99862  5.338102  0.011903  0.556438  0.001885  \n197        99862  5.107452  0.011890  0.593941  0.001831  \n198        99862  5.649251  0.014445  0.503222  0.002408  \n\n[123 rows x 9 columns]"
     },
     "execution_count": 27,
     "metadata": {},
     "output_type": "execute_result"
    }
   ],
   "source": [
    "a.sort_values(by=[\"dimension\", \"subdimension\", \"sub_subdimension\"])"
   ]
  }
 ],
 "metadata": {
  "kernelspec": {
   "display_name": "Python 3.8.5  ('env_website': venv)",
   "name": "pythonjvsc74a57bd090a2d2112265369b3cee75b3d17fea5658357118066bfd7e04cfa35ff7dbfd52"
  },
  "language_info": {
   "codemirror_mode": {
    "name": "ipython",
    "version": 3
   },
   "file_extension": ".py",
   "mimetype": "text/x-python",
   "name": "python",
   "nbconvert_exporter": "python",
   "pygments_lexer": "ipython3",
   "version": "3.8.5"
  },
  "metadata": {
   "interpreter": {
    "hash": "90a2d2112265369b3cee75b3d17fea5658357118066bfd7e04cfa35ff7dbfd52"
   }
  },
  "orig_nbformat": 2
 },
 "nbformat": 4,
 "nbformat_minor": 2
}