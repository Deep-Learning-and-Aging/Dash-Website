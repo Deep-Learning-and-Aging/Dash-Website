{
 "metadata": {
  "language_info": {
   "codemirror_mode": {
    "name": "ipython",
    "version": 3
   },
   "file_extension": ".py",
   "mimetype": "text/x-python",
   "name": "python",
   "nbconvert_exporter": "python",
   "pygments_lexer": "ipython3",
   "version": "3.7.7-final"
  },
  "orig_nbformat": 2,
  "kernelspec": {
   "name": "python377jvsc74a57bd0c11bf2a122358a257f4887e4656fd266c9212bc31c6d2fa50cb5fb4a0c5b9dd8",
   "display_name": "Python 3.7.7 64-bit ('env_website')"
  }
 },
 "nbformat": 4,
 "nbformat_minor": 2,
 "cells": [
  {
   "cell_type": "code",
   "execution_count": 19,
   "metadata": {},
   "outputs": [
    {
     "output_type": "execute_result",
     "data": {
      "text/plain": [
       "['This website presents the results of our publication “Analyzing the multidimensionality of biological aging with the tools of deep learning across diverse image-based and physiological indicators yields robust age predictors” which can be found at www.biorxiv/XXTODO.\\n',\n",
       " '\\n',\n",
       " 'We analyzed 676,787 samples from 502,211 UK Biobank participants aged 37-82 years with the tools of deep learning to build a total of 331 chronological age predictors on different data modalities such as videos (e.g heart magnetic resonance imaging [MRI] videos), images (e.g brain, liver and pancreas MRIs, full body X-rays, eye fundus and optical coherence tomography [OCT] images, carotid ultrasound images), time-series (e.g electrocardiograms [ECGs], pulse wave analysis, wrist accelerometer data) and scalar data (e.g blood biomarkers, anthropometric measures) to characterize the multiple dimensions of aging. We combined these age predictors into 28 ensemble models based on specific organ systems. We then defined accelerated agers as participants whose predicted age was greater than their chronological age and computed the phenotypic correlation between these 28 definitions of accelerated aging. We estimated the shared genetic and environmental architecture, or correlation, between different aging dimensions and we performed genome wide association studies [GWASs] on the 28 accelerated aging dimensions to estimate the heritability of these phenotypes and identify single nucleotide polymorphisms [SNPs]. Then we performed a data driven search to identify biomarkers, phenotypes and environmental variables associated with the different dimensions of accelerated aging. Overall, we show that most dimensions of aging are complex traits with both genetic and non-genetic correlates. These dimensions are weakly correlated with each other, highlighting the multidimensionality of the aging process.']"
      ]
     },
     "metadata": {},
     "execution_count": 19
    }
   ],
   "source": [
    "import pandas as pd \n",
    "path = \"../../data/introduction/introduction.txt\"\n",
    "\n",
    "with open(path, \"r\", encoding=\"utf8\") as f:\n",
    "    lines = f.readlines()\n",
    "lines"
   ]
  }
 ]
}