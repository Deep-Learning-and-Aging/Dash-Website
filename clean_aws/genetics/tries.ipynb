{
 "cells": [
  {
   "cell_type": "code",
   "execution_count": 1,
   "metadata": {},
   "outputs": [
    {
     "data": {
      "text/html": "<div>\n<style scoped>\n    .dataframe tbody tr th:only-of-type {\n        vertical-align: middle;\n    }\n\n    .dataframe tbody tr th {\n        vertical-align: top;\n    }\n\n    .dataframe thead th {\n        text-align: right;\n    }\n</style>\n<table border=\"1\" class=\"dataframe\">\n  <thead>\n    <tr style=\"text-align: right;\">\n      <th></th>\n      <th>h2</th>\n      <th>h2_std</th>\n      <th>dimension</th>\n      <th>subdimension</th>\n    </tr>\n  </thead>\n  <tbody>\n    <tr>\n      <th>0</th>\n      <td>0.124556</td>\n      <td>0.00874</td>\n      <td>*instances1.5x</td>\n      <td>*</td>\n    </tr>\n    <tr>\n      <th>1</th>\n      <td>0.200518</td>\n      <td>0.22711</td>\n      <td>*instances23</td>\n      <td>*</td>\n    </tr>\n    <tr>\n      <th>2</th>\n      <td>0.359140</td>\n      <td>0.02580</td>\n      <td>Brain</td>\n      <td>*</td>\n    </tr>\n    <tr>\n      <th>3</th>\n      <td>0.292504</td>\n      <td>0.02026</td>\n      <td>Brain</td>\n      <td>Cognitive</td>\n    </tr>\n    <tr>\n      <th>4</th>\n      <td>0.390608</td>\n      <td>0.01742</td>\n      <td>Brain</td>\n      <td>MRI</td>\n    </tr>\n    <tr>\n      <th>5</th>\n      <td>0.282430</td>\n      <td>0.01248</td>\n      <td>Eyes</td>\n      <td>*</td>\n    </tr>\n    <tr>\n      <th>6</th>\n      <td>0.259839</td>\n      <td>0.00908</td>\n      <td>Eyes</td>\n      <td>Fundus</td>\n    </tr>\n    <tr>\n      <th>7</th>\n      <td>0.235864</td>\n      <td>0.00874</td>\n      <td>Eyes</td>\n      <td>OCT</td>\n    </tr>\n    <tr>\n      <th>8</th>\n      <td>0.141424</td>\n      <td>0.00394</td>\n      <td>Hearing</td>\n      <td>*</td>\n    </tr>\n    <tr>\n      <th>9</th>\n      <td>0.302696</td>\n      <td>0.00249</td>\n      <td>Lungs</td>\n      <td>*</td>\n    </tr>\n    <tr>\n      <th>10</th>\n      <td>0.325738</td>\n      <td>0.07286</td>\n      <td>Arterial</td>\n      <td>*</td>\n    </tr>\n    <tr>\n      <th>11</th>\n      <td>0.171833</td>\n      <td>0.00394</td>\n      <td>Arterial</td>\n      <td>PulseWaveAnalysis</td>\n    </tr>\n    <tr>\n      <th>12</th>\n      <td>0.286387</td>\n      <td>0.06992</td>\n      <td>Arterial</td>\n      <td>Carotids</td>\n    </tr>\n    <tr>\n      <th>13</th>\n      <td>0.351699</td>\n      <td>0.03643</td>\n      <td>Heart</td>\n      <td>*</td>\n    </tr>\n    <tr>\n      <th>14</th>\n      <td>0.217725</td>\n      <td>0.02851</td>\n      <td>Heart</td>\n      <td>ECG</td>\n    </tr>\n    <tr>\n      <th>15</th>\n      <td>0.379117</td>\n      <td>0.01896</td>\n      <td>Heart</td>\n      <td>MRI</td>\n    </tr>\n    <tr>\n      <th>16</th>\n      <td>0.263319</td>\n      <td>0.01870</td>\n      <td>Abdomen</td>\n      <td>*</td>\n    </tr>\n    <tr>\n      <th>17</th>\n      <td>0.222676</td>\n      <td>0.01514</td>\n      <td>Abdomen</td>\n      <td>Liver</td>\n    </tr>\n    <tr>\n      <th>18</th>\n      <td>0.221440</td>\n      <td>0.01863</td>\n      <td>Abdomen</td>\n      <td>Pancreas</td>\n    </tr>\n    <tr>\n      <th>19</th>\n      <td>0.348833</td>\n      <td>0.01763</td>\n      <td>Musculoskeletal</td>\n      <td>*</td>\n    </tr>\n    <tr>\n      <th>20</th>\n      <td>0.328861</td>\n      <td>0.01655</td>\n      <td>Musculoskeletal</td>\n      <td>Spine</td>\n    </tr>\n    <tr>\n      <th>21</th>\n      <td>0.276972</td>\n      <td>0.01614</td>\n      <td>Musculoskeletal</td>\n      <td>Hips</td>\n    </tr>\n    <tr>\n      <th>22</th>\n      <td>0.253273</td>\n      <td>0.01683</td>\n      <td>Musculoskeletal</td>\n      <td>Knees</td>\n    </tr>\n    <tr>\n      <th>23</th>\n      <td>0.306650</td>\n      <td>0.01611</td>\n      <td>Musculoskeletal</td>\n      <td>FullBody</td>\n    </tr>\n    <tr>\n      <th>24</th>\n      <td>0.220735</td>\n      <td>0.00219</td>\n      <td>Musculoskeletal</td>\n      <td>Scalars</td>\n    </tr>\n    <tr>\n      <th>25</th>\n      <td>0.123365</td>\n      <td>0.00874</td>\n      <td>PhysicalActivity</td>\n      <td>*</td>\n    </tr>\n    <tr>\n      <th>26</th>\n      <td>0.255124</td>\n      <td>0.00952</td>\n      <td>Biochemistry</td>\n      <td>*</td>\n    </tr>\n    <tr>\n      <th>27</th>\n      <td>0.105166</td>\n      <td>0.00474</td>\n      <td>Biochemistry</td>\n      <td>Urine</td>\n    </tr>\n    <tr>\n      <th>28</th>\n      <td>0.262295</td>\n      <td>0.00347</td>\n      <td>Biochemistry</td>\n      <td>Blood</td>\n    </tr>\n    <tr>\n      <th>29</th>\n      <td>0.180777</td>\n      <td>0.00202</td>\n      <td>BloodCells</td>\n      <td>*</td>\n    </tr>\n  </tbody>\n</table>\n</div>",
      "text/plain": "          h2   h2_std         dimension       subdimension\n0   0.124556  0.00874    *instances1.5x                  *\n1   0.200518  0.22711      *instances23                  *\n2   0.359140  0.02580             Brain                  *\n3   0.292504  0.02026             Brain          Cognitive\n4   0.390608  0.01742             Brain                MRI\n5   0.282430  0.01248              Eyes                  *\n6   0.259839  0.00908              Eyes             Fundus\n7   0.235864  0.00874              Eyes                OCT\n8   0.141424  0.00394           Hearing                  *\n9   0.302696  0.00249             Lungs                  *\n10  0.325738  0.07286          Arterial                  *\n11  0.171833  0.00394          Arterial  PulseWaveAnalysis\n12  0.286387  0.06992          Arterial           Carotids\n13  0.351699  0.03643             Heart                  *\n14  0.217725  0.02851             Heart                ECG\n15  0.379117  0.01896             Heart                MRI\n16  0.263319  0.01870           Abdomen                  *\n17  0.222676  0.01514           Abdomen              Liver\n18  0.221440  0.01863           Abdomen           Pancreas\n19  0.348833  0.01763   Musculoskeletal                  *\n20  0.328861  0.01655   Musculoskeletal              Spine\n21  0.276972  0.01614   Musculoskeletal               Hips\n22  0.253273  0.01683   Musculoskeletal              Knees\n23  0.306650  0.01611   Musculoskeletal           FullBody\n24  0.220735  0.00219   Musculoskeletal            Scalars\n25  0.123365  0.00874  PhysicalActivity                  *\n26  0.255124  0.00952      Biochemistry                  *\n27  0.105166  0.00474      Biochemistry              Urine\n28  0.262295  0.00347      Biochemistry              Blood\n29  0.180777  0.00202        BloodCells                  *"
     },
     "execution_count": 1,
     "metadata": {},
     "output_type": "execute_result"
    }
   ],
   "source": [
    "import pandas as pd \n",
    "\n",
    "COLUMNS_TO_TAKE = {\n",
    "    \"organ\": \"dimension\",\n",
    "    \"view\": \"subdimension\",\n",
    "    \"R-Squared_all\": \"r2\",\n",
    "    \"R-Squared_sd_all\": \"r2_std\",\n",
    "}\n",
    "DICT_TO_CHANGE_DIMENSIONS = {\"ImmuneSystem\": \"BloodCells\"}\n",
    "\n",
    "scores_raw = (\n",
    "    pd.read_csv(\n",
    "        f\"../../all_data/page2_predictions/Performances/PERFORMANCES_bestmodels_alphabetical_instances_Age_test.csv\"\n",
    "    )[COLUMNS_TO_TAKE]\n",
    "    .rename(columns=COLUMNS_TO_TAKE)\n",
    "    .set_index(\"dimension\")\n",
    ")\n",
    "\n",
    "ensembles_scores_raw = (\n",
    "    pd.read_csv(\n",
    "        f\"../../all_data/page2_predictions/Performances/PERFORMANCES_withEnsembles_alphabetical_instances_Age_test.csv\"\n",
    "    )[COLUMNS_TO_TAKE]\n",
    "    .rename(columns=COLUMNS_TO_TAKE)\n",
    "    .set_index([\"dimension\", \"subdimension\"])\n",
    ")\n",
    "ensembles_scores_raw[\"subdimension\"] = ensembles_scores_raw.index.get_level_values(\"subdimension\")\n",
    "\n",
    "for dimension_to_correct in [\"Hearing\", \"Lungs\"]:\n",
    "    scores_raw.loc[dimension_to_correct, [\"subdimension\", \"r2\", \"r2_std\"]] = ensembles_scores_raw.loc[\n",
    "        (dimension_to_correct, \"*\"), [\"subdimension\", \"r2\", \"r2_std\"]\n",
    "    ].values[0]\n",
    "\n",
    "scores = scores_raw.reset_index()\n",
    "scores[\"squeezed_dimensions\"] = scores[\"dimension\"] + scores[\"subdimension\"].replace(\"*\", \"\")\n",
    "scores.set_index(\"squeezed_dimensions\", inplace=True)\n",
    "\n",
    "\n",
    "heritability = pd.read_csv(\"../../all_data/page11_GWASHeritability/Heritability/GWAS_heritabilities_Age.csv\").rename(columns={\"Organ\": \"squeezed_dimensions\", \"h2_sd\": \"h2_std\"})\n",
    "heritability.drop(index=heritability[\"squeezed_dimensions\"][heritability[\"squeezed_dimensions\"].isna()].index, inplace=True)\n",
    "heritability.set_index(\"squeezed_dimensions\", inplace=True)\n",
    "\n",
    "heritability[f\"dimension\"] = scores[\"dimension\"]\n",
    "heritability[f\"subdimension\"] = scores[\"subdimension\"]\n",
    "\n",
    "heritability.reset_index(drop=True).replace(DICT_TO_CHANGE_DIMENSIONS)"
   ]
  }
 ],
 "metadata": {
  "kernelspec": {
   "display_name": "Python 3.9.4  ('env_container': venv)",
   "name": "pythonjvsc74a57bd0827f31c7a17f115185da69808fd256ce792d94cfeb61ab0a6e35bd7e2999d502"
  },
  "language_info": {
   "codemirror_mode": {
    "name": "ipython",
    "version": 3
   },
   "file_extension": ".py",
   "mimetype": "text/x-python",
   "name": "python",
   "nbconvert_exporter": "python",
   "pygments_lexer": "ipython3",
   "version": "3.9.4"
  },
  "metadata": {
   "interpreter": {
    "hash": "827f31c7a17f115185da69808fd256ce792d94cfeb61ab0a6e35bd7e2999d502"
   }
  },
  "orig_nbformat": 2
 },
 "nbformat": 4,
 "nbformat_minor": 2
}