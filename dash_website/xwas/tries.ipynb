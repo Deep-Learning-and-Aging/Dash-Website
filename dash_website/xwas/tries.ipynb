{
 "metadata": {
  "language_info": {
   "codemirror_mode": {
    "name": "ipython",
    "version": 3
   },
   "file_extension": ".py",
   "mimetype": "text/x-python",
   "name": "python",
   "nbconvert_exporter": "python",
   "pygments_lexer": "ipython3",
   "version": "3.7.7-final"
  },
  "orig_nbformat": 2,
  "kernelspec": {
   "name": "python3",
   "display_name": "Python 3.7.7 64-bit ('env_website')",
   "metadata": {
    "interpreter": {
     "hash": "c11bf2a122358a257f4887e4656fd266c9212bc31c6d2fa50cb5fb4a0c5b9dd8"
    }
   }
  }
 },
 "nbformat": 4,
 "nbformat_minor": 2,
 "cells": [
  {
   "cell_type": "code",
   "execution_count": 17,
   "metadata": {},
   "outputs": [
    {
     "output_type": "execute_result",
     "data": {
      "text/plain": [
       "                                                                             p_value  \\\n",
       "category            variable                                                           \n",
       "Alcohol             Alcohol intake frequency.                           8.471062e-15   \n",
       "                    Average weekly red wine intake                      1.261667e-16   \n",
       "                    Average weekly champagne plus white wine intake     2.510791e-16   \n",
       "                    Average weekly beer plus cider intake               1.640160e-15   \n",
       "                    Average weekly spirits intake                       2.763600e-13   \n",
       "...                                                                              ...   \n",
       "medical_diagnoses_Z Z95 Presence of cardiac and vascular implants a...  1.652516e-03   \n",
       "                    Z96 Presence of other functional implants           7.375200e-02   \n",
       "                    Z97 Presence of other devices                       4.440071e-01   \n",
       "                    Z98 Other postsurgical states                       1.069124e-02   \n",
       "                    Z99 Dependence on enabling machines and devices...  5.179713e-01   \n",
       "\n",
       "                                                                        correlation  \\\n",
       "category            variable                                                          \n",
       "Alcohol             Alcohol intake frequency.                              0.040497   \n",
       "                    Average weekly red wine intake                        -0.043196   \n",
       "                    Average weekly champagne plus white wine intake       -0.042765   \n",
       "                    Average weekly beer plus cider intake                 -0.041572   \n",
       "                    Average weekly spirits intake                         -0.038129   \n",
       "...                                                                             ...   \n",
       "medical_diagnoses_Z Z95 Presence of cardiac and vascular implants a...    -0.016424   \n",
       "                    Z96 Presence of other functional implants             -0.009334   \n",
       "                    Z97 Presence of other devices                         -0.003996   \n",
       "                    Z98 Other postsurgical states                         -0.013324   \n",
       "                    Z99 Dependence on enabling machines and devices...     0.003375   \n",
       "\n",
       "                                                                        sample_size  \n",
       "category            variable                                                         \n",
       "Alcohol             Alcohol intake frequency.                               36693.0  \n",
       "                    Average weekly red wine intake                          36686.0  \n",
       "                    Average weekly champagne plus white wine intake         36688.0  \n",
       "                    Average weekly beer plus cider intake                   36688.0  \n",
       "                    Average weekly spirits intake                           36685.0  \n",
       "...                                                                             ...  \n",
       "medical_diagnoses_Z Z95 Presence of cardiac and vascular implants a...      36700.0  \n",
       "                    Z96 Presence of other functional implants               36700.0  \n",
       "                    Z97 Presence of other devices                           36700.0  \n",
       "                    Z98 Other postsurgical states                           36700.0  \n",
       "                    Z99 Dependence on enabling machines and devices...      36700.0  \n",
       "\n",
       "[5832 rows x 3 columns]"
      ],
      "text/html": "<div>\n<style scoped>\n    .dataframe tbody tr th:only-of-type {\n        vertical-align: middle;\n    }\n\n    .dataframe tbody tr th {\n        vertical-align: top;\n    }\n\n    .dataframe thead th {\n        text-align: right;\n    }\n</style>\n<table border=\"1\" class=\"dataframe\">\n  <thead>\n    <tr style=\"text-align: right;\">\n      <th></th>\n      <th></th>\n      <th>p_value</th>\n      <th>correlation</th>\n      <th>sample_size</th>\n    </tr>\n    <tr>\n      <th>category</th>\n      <th>variable</th>\n      <th></th>\n      <th></th>\n      <th></th>\n    </tr>\n  </thead>\n  <tbody>\n    <tr>\n      <th rowspan=\"5\" valign=\"top\">Alcohol</th>\n      <th>Alcohol intake frequency.</th>\n      <td>8.471062e-15</td>\n      <td>0.040497</td>\n      <td>36693.0</td>\n    </tr>\n    <tr>\n      <th>Average weekly red wine intake</th>\n      <td>1.261667e-16</td>\n      <td>-0.043196</td>\n      <td>36686.0</td>\n    </tr>\n    <tr>\n      <th>Average weekly champagne plus white wine intake</th>\n      <td>2.510791e-16</td>\n      <td>-0.042765</td>\n      <td>36688.0</td>\n    </tr>\n    <tr>\n      <th>Average weekly beer plus cider intake</th>\n      <td>1.640160e-15</td>\n      <td>-0.041572</td>\n      <td>36688.0</td>\n    </tr>\n    <tr>\n      <th>Average weekly spirits intake</th>\n      <td>2.763600e-13</td>\n      <td>-0.038129</td>\n      <td>36685.0</td>\n    </tr>\n    <tr>\n      <th>...</th>\n      <th>...</th>\n      <td>...</td>\n      <td>...</td>\n      <td>...</td>\n    </tr>\n    <tr>\n      <th rowspan=\"5\" valign=\"top\">medical_diagnoses_Z</th>\n      <th>Z95 Presence of cardiac and vascular implants and grafts</th>\n      <td>1.652516e-03</td>\n      <td>-0.016424</td>\n      <td>36700.0</td>\n    </tr>\n    <tr>\n      <th>Z96 Presence of other functional implants</th>\n      <td>7.375200e-02</td>\n      <td>-0.009334</td>\n      <td>36700.0</td>\n    </tr>\n    <tr>\n      <th>Z97 Presence of other devices</th>\n      <td>4.440071e-01</td>\n      <td>-0.003996</td>\n      <td>36700.0</td>\n    </tr>\n    <tr>\n      <th>Z98 Other postsurgical states</th>\n      <td>1.069124e-02</td>\n      <td>-0.013324</td>\n      <td>36700.0</td>\n    </tr>\n    <tr>\n      <th>Z99 Dependence on enabling machines and devices, not elsewhere classified</th>\n      <td>5.179713e-01</td>\n      <td>0.003375</td>\n      <td>36700.0</td>\n    </tr>\n  </tbody>\n</table>\n<p>5832 rows × 3 columns</p>\n</div>"
     },
     "metadata": {},
     "execution_count": 17
    }
   ],
   "source": [
    "import pandas as pd \n",
    "import numpy as np\n",
    "\n",
    "from dash_website import MAIN_CATEGORIES_TO_CATEGORIES, DIMENSIONS\n",
    "\n",
    "all_correlations = pd.read_feather(\"../../data/xwas/univariate_results/linear_correlations_Abdomen.feather\").set_index(\"index\")\n",
    "all_correlations.index = pd.MultiIndex.from_tuples(list(map(eval, all_correlations.index.tolist())), names=[\"category\", \"variable\"])\n",
    "\n",
    "category = \"FamilyHistory\"\n",
    "# category = \"All\"\n",
    "main_category = \"Biomarkers\"\n",
    "all_correlations"
   ]
  },
  {
   "cell_type": "code",
   "execution_count": null,
   "metadata": {},
   "outputs": [],
   "source": [
    "correlations = pd.DataFrame(pd.read_feather(\"../../data/xwas/univariate_results/linear_correlations_Abdomen.feather\").to_dict.set_index(\"index\")\n",
    "correlations.index = pd.MultiIndex.from_tuples(\n",
    "    list(map(eval, correlations.index.tolist())), names=[\"category\", \"variable\"]\n",
    ")"
   ]
  },
  {
   "cell_type": "code",
   "execution_count": 14,
   "metadata": {},
   "outputs": [],
   "source": [
    "if category == \"All\":\n",
    "    correlations = all_correlations.loc[all_correlations.index.get_level_values(0).isin(MAIN_CATEGORIES_TO_CATEGORIES[main_category])].copy()\n",
    "else:\n",
    "    correlations = all_correlations.loc[all_correlations.index.get_level_values(0).isin([category])].copy()\n",
    "\n",
    "correlations.drop(index=correlations.index[(correlations[\"sample_size\"] < 10)], inplace=True)\n",
    "\n",
    "correlations[\"neg_log_p_value\"] = - np.log10(correlations[\"p_value\"])\n",
    "correlations[\"category\"] = correlations.index.get_level_values(0)\n",
    "correlations[\"variable\"] = correlations.index.get_level_values(1)"
   ]
  },
  {
   "cell_type": "code",
   "execution_count": 15,
   "metadata": {},
   "outputs": [
    {
     "output_type": "display_data",
     "data": {
      "application/vnd.plotly.v1+json": {
       "config": {
        "plotlyServerURL": "https://plot.ly"
       },
       "data": [
        {
         "customdata": [
          [
           "Illnesses of father.Stroke",
           0.3897744752325573,
           34
          ],
          [
           "Illnesses of father.Lung cancer",
           0.9365226987341688,
           4991
          ],
          [
           "Illnesses of father.Bowel cancer",
           0.8866297471556894,
           5107
          ],
          [
           "Illnesses of father.Chronic bronchitis/emphysema",
           0.1622940683852223,
           723
          ],
          [
           "Illnesses of father.High blood pressure",
           0.3449297087922144,
           761
          ],
          [
           "Illnesses of father.Diabetes",
           0.1285243153975984,
           2170
          ],
          [
           "Illnesses of father.Alzheimer's disease/dementia",
           0.0500822575366374,
           7714
          ],
          [
           "Illnesses of father.Parkinson's disease",
           0.3400850159827497,
           13231
          ],
          [
           "Illnesses of father.Severe depression",
           0.9020303779886076,
           35490
          ],
          [
           "Illnesses of father.Prostate cancer",
           0.6717183131518448,
           36196
          ],
          [
           "Illnesses of mother.Stroke",
           0.973039314616678,
           82
          ],
          [
           "Illnesses of mother.Lung cancer",
           0.7804134856161582,
           5323
          ],
          [
           "Illnesses of mother.Bowel cancer",
           0.1219077461219498,
           5102
          ],
          [
           "Illnesses of mother.Breast cancer",
           0.929381044101426,
           5103
          ],
          [
           "Illnesses of mother.Chronic bronchitis/emphysema",
           0.9729642753956622,
           1015
          ],
          [
           "Illnesses of mother.High blood pressure",
           0.0121866163311962,
           970
          ],
          [
           "Illnesses of mother.Diabetes",
           0.7434174718118458,
           4076
          ],
          [
           "Illnesses of mother.Alzheimer's disease/dementia",
           0.6700600086564665,
           12678
          ],
          [
           "Illnesses of mother.Parkinson's disease",
           0.757427170372718,
           35713
          ],
          [
           "Illnesses of mother.Severe depression",
           0.5493092749118276,
           36321
          ],
          [
           "Illnesses of siblings.None of the above1",
           0.5703193122909062,
           445
          ],
          [
           "Illnesses of siblings.Prefer not to answer1",
           0.6174981573395866,
           32399
          ],
          [
           "Illnesses of siblings.Do not know1",
           0.0166658830569408,
           5742
          ],
          [
           "Illnesses of siblings.Stroke",
           0.6310766628458357,
           13
          ],
          [
           "Illnesses of siblings.Lung cancer",
           0.0852600961278178,
           58
          ],
          [
           "Illnesses of siblings.Bowel cancer",
           0.1737278419289413,
           58
          ],
          [
           "Illnesses of siblings.Breast cancer",
           0.5355810080753951,
           298
          ],
          [
           "Illnesses of siblings.Chronic bronchitis/emphysema",
           0.7888811372973814,
           292
          ],
          [
           "Illnesses of siblings.High blood pressure",
           0.4529415650987727,
           445
          ],
          [
           "Illnesses of siblings.Diabetes",
           0.6560396023911007,
           1700
          ],
          [
           "Illnesses of siblings.Alzheimer's disease/dementia",
           0.7242420880479108,
           4618
          ],
          [
           "Illnesses of siblings.Parkinson's disease",
           0.6659557147149477,
           5256
          ],
          [
           "Illnesses of siblings.Severe depression",
           0.3922274505944042,
           32394
          ],
          [
           "Illnesses of siblings.Prostate cancer",
           0.6448050293139194,
           32399
          ],
          [
           "Illnesses of siblings.Do not know2",
           0.4107471987376586,
           252
          ],
          [
           "Illnesses of siblings.None of the above2",
           0.0403187187831303,
           40
          ],
          [
           "Illnesses of siblings.Prefer not to answer2",
           0.4442871802022204,
           5742
          ],
          [
           "Illnesses of adopted siblings.None of the above1",
           0.4759200557615248,
           44
          ],
          [
           "Illnesses of adopted siblings.Prefer not to answer1",
           1,
           36495
          ],
          [
           "Illnesses of adopted siblings.Do not know1",
           0.1835761807153718,
           65
          ],
          [
           "Illnesses of adopted siblings.Stroke",
           0.391995124325451,
           5017
          ],
          [
           "Illnesses of adopted siblings.Lung cancer",
           1,
           2414
          ],
          [
           "Illnesses of adopted siblings.Bowel cancer",
           0.7959823398902747,
           4717
          ],
          [
           "Illnesses of adopted siblings.Breast cancer",
           0.281865396040511,
           2431
          ],
          [
           "Illnesses of adopted siblings.Chronic bronchitis/emphysema",
           0.3007884312718152,
           12
          ],
          [
           "Illnesses of adopted siblings.High blood pressure",
           0.3535529731232369,
           65
          ],
          [
           "Illnesses of adopted siblings.Diabetes",
           0.2937331166769409,
           234
          ],
          [
           "Illnesses of adopted siblings.Alzheimer's disease/dementia",
           0.3029619611819774,
           5214
          ],
          [
           "Illnesses of adopted siblings.Parkinson's disease",
           0.5782003069682449,
           5214
          ],
          [
           "Illnesses of adopted siblings.Severe depression",
           0.0029363603448637,
           267
          ],
          [
           "Illnesses of adopted siblings.Prostate cancer",
           0.6579339460033963,
           5214
          ],
          [
           "Illnesses of adopted siblings.Do not know2",
           0.3874330876797452,
           27
          ],
          [
           "Illnesses of adopted siblings.None of the above2",
           0.9966913978026084,
           11
          ],
          [
           "Illnesses of adopted siblings.Prefer not to answer2",
           1,
           36480
          ],
          [
           "Illnesses of adopted father.Stroke",
           0.5033908240622416,
           37
          ],
          [
           "Illnesses of adopted father.Lung cancer",
           0.6795009782935072,
           5056
          ],
          [
           "Illnesses of adopted father.Bowel cancer",
           0.0313742581211679,
           5078
          ],
          [
           "Illnesses of adopted father.Chronic bronchitis/emphysema",
           0.0771563212510987,
           95
          ],
          [
           "Illnesses of adopted father.Diabetes",
           0.2710399139589908,
           120
          ],
          [
           "Illnesses of adopted father.Alzheimer's disease/dementia",
           0.0880021869673965,
           123
          ],
          [
           "Illnesses of adopted father.Parkinson's disease",
           0.6530296574625254,
           5063
          ],
          [
           "Illnesses of adopted father.Severe depression",
           0.950181834732479,
           5236
          ],
          [
           "Illnesses of adopted father.Prostate cancer",
           0.2395994923683203,
           5331
          ],
          [
           "Illnesses of adopted mother.Lung cancer",
           0.804085012900171,
           5090
          ],
          [
           "Illnesses of adopted mother.Bowel cancer",
           0.8771104115905994,
           5006
          ],
          [
           "Illnesses of adopted mother.Breast cancer",
           0.6766915415145465,
           4991
          ],
          [
           "Illnesses of adopted mother.Chronic bronchitis/emphysema",
           0.609840458467681,
           5001
          ],
          [
           "Illnesses of adopted mother.High blood pressure",
           0.3759737723773861,
           71
          ],
          [
           "Illnesses of adopted mother.Diabetes",
           0.629092867575413,
           5069
          ],
          [
           "Illnesses of adopted mother.Alzheimer's disease/dementia",
           0.6986139026540243,
           172
          ],
          [
           "Illnesses of adopted mother.Parkinson's disease",
           0.6458056936956647,
           5259
          ],
          [
           "Illnesses of adopted mother.Severe depression",
           0.3120630067302719,
           5328
          ],
          [
           "Illnesses of father.None of the above",
           0.4397299526070701,
           2380
          ],
          [
           "Illnesses of adopted father.None of the above",
           0.8646343728671906,
           18
          ],
          [
           "Illnesses of adopted mother.None of the above",
           0.4442873630528986,
           22
          ],
          [
           "Illnesses of mother.None of the above",
           0.059416981001102,
           2383
          ],
          [
           "Illnesses of father.Prefer not to answer",
           0.3997405505469688,
           5696
          ],
          [
           "Illnesses of adopted father.Prefer not to answer",
           0.926634796759386,
           9451
          ],
          [
           "Illnesses of adopted mother.Prefer not to answer",
           0.166166872934015,
           9450
          ],
          [
           "Illnesses of mother.Prefer not to answer",
           0.0756409326877875,
           7839
          ],
          [
           "Illnesses of father.Do not know",
           0.6907518183051191,
           5008
          ],
          [
           "Illnesses of adopted father.Do not know",
           0.8434475541288747,
           18
          ],
          [
           "Illnesses of adopted mother.Do not know",
           0.0025746910503683,
           28
          ],
          [
           "Illnesses of mother.Do not know",
           0.2456247624323287,
           5014
          ]
         ],
         "hovertemplate": "Variable: %{customdata[0]}<br>Partial Correlation: %{x:.3f}<br>p-value: %{customdata[1]:.3E}<br>Samples size: %{customdata[2]}",
         "legendgroup": "FamilyHistory",
         "marker": {
          "color": "#636efa",
          "symbol": "circle"
         },
         "mode": "markers",
         "name": "FamilyHistory",
         "orientation": "v",
         "showlegend": true,
         "type": "scatter",
         "x": [
          0.1523275414884022,
          -0.0011275924826013,
          -0.0019954979447351,
          -0.0520245931406559,
          -0.0342832886063715,
          0.0326387220995557,
          -0.0223084174067521,
          -0.0082943884087072,
          0.0006534454130875,
          0.002227592771264,
          -0.0037903919122098,
          0.0038219426406229,
          -0.0216582703380785,
          0.0012409174475118,
          -0.0010650829135365,
          0.0804583246232476,
          0.0051286203739932,
          -0.0037843597795105,
          -0.001634424982985,
          0.0031420528953755,
          0.0269769125106795,
          -0.0027745847258796,
          -0.0315920762919445,
          0.1472982012501157,
          -0.2279482984779597,
          -0.181080395607059,
          -0.0360269602679037,
          0.0157362177893072,
          -0.0356670582321424,
          -0.0108098738540366,
          0.0051929027279621,
          0.0059560594132783,
          0.0047538459499903,
          0.002561195505335,
          -0.0520412423507537,
          0.3256374959724712,
          0.010097141155244,
          -0.1103178593426266,
          null,
          0.167023860417432,
          -0.0120877791258274,
          null,
          -0.0037655243078981,
          -0.0218347018682049,
          -0.3261869566507996,
          -0.1169430705261594,
          0.0689259525726182,
          -0.0142684533674396,
          -0.0077019204848579,
          0.1813645760162817,
          -0.006133243884489,
          0.1732666096251109,
          -0.0014210963657836,
          null,
          -0.1135505839340232,
          -0.0058116819819045,
          -0.0302038953025543,
          -0.1822252543778807,
          -0.1012785156146655,
          -0.1544801651326726,
          -0.0063195191832265,
          -0.0008636423819065,
          -0.0161091412926502,
          -0.0034778427103769,
          0.0021860775706714,
          -0.0059037584498713,
          0.0072177375845918,
          -0.1066635195788957,
          -0.0067856544409055,
          -0.029733413222751,
          -0.0063390510433651,
          -0.0138518672874621,
          0.0158450966010332,
          -0.043269793878923,
          0.1719075971596246,
          0.0386222112888468,
          0.0111597016839609,
          0.0009472876832893,
          -0.0142446565572261,
          -0.0200666409909215,
          0.0056231001352518,
          0.0501166956913246,
          -0.5473343310160186,
          0.0163996624850608
         ],
         "xaxis": "x",
         "y": [
          0.4091866044913812,
          0.028481692057531725,
          0.05225770185594457,
          0.7896973527223937,
          0.46226939824244834,
          0.8910147007839175,
          1.3003161028486123,
          0.4684125024964602,
          0.04477883632649659,
          0.17281281130771567,
          0.011869612171374779,
          0.10767523456444948,
          0.9139686980638342,
          0.03180618975052799,
          0.011903105552164927,
          1.9141168614594726,
          0.12876723632301126,
          0.1738863013867235,
          0.1206591199554925,
          0.26018306799298563,
          0.2438819219807952,
          0.20936433403338747,
          1.77817166990647,
          0.19991787969636027,
          1.0692541820365609,
          0.7601305751790224,
          0.27117483164937745,
          0.10298842810188547,
          0.34395782357682303,
          0.18306994327556597,
          0.14011624053000274,
          0.1765546499504119,
          0.4064620148893248,
          0.19057158380413697,
          0.38642538973568996,
          1.3944932770153429,
          0.3523362180392538,
          0.32246599319865465,
          0,
          0.7361836698393543,
          0.4067193347441367,
          0,
          0.09909656765590494,
          0.5499582381798896,
          0.5217388713098883,
          0.4515455063040659,
          0.5320470865747172,
          0.5186118965334079,
          0.23792168209708098,
          2.5321906496472977,
          0.18181770566599906,
          0.4118032922820914,
          0.001439290011338001,
          0,
          0.29809470514732017,
          0.16780991366707773,
          1.5034265347600626,
          1.1126284873323922,
          0.5669667492151688,
          1.0555065349399384,
          0.18506709471291663,
          0.02219327653821576,
          0.620514106407396,
          0.09469803249330765,
          0.05694573374189753,
          0.1696092520617008,
          0.2147837667426994,
          0.424842450043248,
          0.20128523865889802,
          0.15576277600462946,
          0.18989813037846015,
          0.5057577113895763,
          0.356813951007711,
          0.06316750341973963,
          0.35233603930120383,
          1.2260894186358775,
          0.3982217937326055,
          0.033091395308296245,
          0.7794555529703897,
          1.121243124741565,
          0.1606779631919935,
          0.07394191682180698,
          2.5892748765917504,
          0.6097278523288588
         ],
         "yaxis": "y"
        }
       ],
       "layout": {
        "legend": {
         "title": {
          "text": "Categories:"
         },
         "tracegroupgap": 0
        },
        "template": {
         "data": {
          "bar": [
           {
            "error_x": {
             "color": "#2a3f5f"
            },
            "error_y": {
             "color": "#2a3f5f"
            },
            "marker": {
             "line": {
              "color": "#E5ECF6",
              "width": 0.5
             }
            },
            "type": "bar"
           }
          ],
          "barpolar": [
           {
            "marker": {
             "line": {
              "color": "#E5ECF6",
              "width": 0.5
             }
            },
            "type": "barpolar"
           }
          ],
          "carpet": [
           {
            "aaxis": {
             "endlinecolor": "#2a3f5f",
             "gridcolor": "white",
             "linecolor": "white",
             "minorgridcolor": "white",
             "startlinecolor": "#2a3f5f"
            },
            "baxis": {
             "endlinecolor": "#2a3f5f",
             "gridcolor": "white",
             "linecolor": "white",
             "minorgridcolor": "white",
             "startlinecolor": "#2a3f5f"
            },
            "type": "carpet"
           }
          ],
          "choropleth": [
           {
            "colorbar": {
             "outlinewidth": 0,
             "ticks": ""
            },
            "type": "choropleth"
           }
          ],
          "contour": [
           {
            "colorbar": {
             "outlinewidth": 0,
             "ticks": ""
            },
            "colorscale": [
             [
              0,
              "#0d0887"
             ],
             [
              0.1111111111111111,
              "#46039f"
             ],
             [
              0.2222222222222222,
              "#7201a8"
             ],
             [
              0.3333333333333333,
              "#9c179e"
             ],
             [
              0.4444444444444444,
              "#bd3786"
             ],
             [
              0.5555555555555556,
              "#d8576b"
             ],
             [
              0.6666666666666666,
              "#ed7953"
             ],
             [
              0.7777777777777778,
              "#fb9f3a"
             ],
             [
              0.8888888888888888,
              "#fdca26"
             ],
             [
              1,
              "#f0f921"
             ]
            ],
            "type": "contour"
           }
          ],
          "contourcarpet": [
           {
            "colorbar": {
             "outlinewidth": 0,
             "ticks": ""
            },
            "type": "contourcarpet"
           }
          ],
          "heatmap": [
           {
            "colorbar": {
             "outlinewidth": 0,
             "ticks": ""
            },
            "colorscale": [
             [
              0,
              "#0d0887"
             ],
             [
              0.1111111111111111,
              "#46039f"
             ],
             [
              0.2222222222222222,
              "#7201a8"
             ],
             [
              0.3333333333333333,
              "#9c179e"
             ],
             [
              0.4444444444444444,
              "#bd3786"
             ],
             [
              0.5555555555555556,
              "#d8576b"
             ],
             [
              0.6666666666666666,
              "#ed7953"
             ],
             [
              0.7777777777777778,
              "#fb9f3a"
             ],
             [
              0.8888888888888888,
              "#fdca26"
             ],
             [
              1,
              "#f0f921"
             ]
            ],
            "type": "heatmap"
           }
          ],
          "heatmapgl": [
           {
            "colorbar": {
             "outlinewidth": 0,
             "ticks": ""
            },
            "colorscale": [
             [
              0,
              "#0d0887"
             ],
             [
              0.1111111111111111,
              "#46039f"
             ],
             [
              0.2222222222222222,
              "#7201a8"
             ],
             [
              0.3333333333333333,
              "#9c179e"
             ],
             [
              0.4444444444444444,
              "#bd3786"
             ],
             [
              0.5555555555555556,
              "#d8576b"
             ],
             [
              0.6666666666666666,
              "#ed7953"
             ],
             [
              0.7777777777777778,
              "#fb9f3a"
             ],
             [
              0.8888888888888888,
              "#fdca26"
             ],
             [
              1,
              "#f0f921"
             ]
            ],
            "type": "heatmapgl"
           }
          ],
          "histogram": [
           {
            "marker": {
             "colorbar": {
              "outlinewidth": 0,
              "ticks": ""
             }
            },
            "type": "histogram"
           }
          ],
          "histogram2d": [
           {
            "colorbar": {
             "outlinewidth": 0,
             "ticks": ""
            },
            "colorscale": [
             [
              0,
              "#0d0887"
             ],
             [
              0.1111111111111111,
              "#46039f"
             ],
             [
              0.2222222222222222,
              "#7201a8"
             ],
             [
              0.3333333333333333,
              "#9c179e"
             ],
             [
              0.4444444444444444,
              "#bd3786"
             ],
             [
              0.5555555555555556,
              "#d8576b"
             ],
             [
              0.6666666666666666,
              "#ed7953"
             ],
             [
              0.7777777777777778,
              "#fb9f3a"
             ],
             [
              0.8888888888888888,
              "#fdca26"
             ],
             [
              1,
              "#f0f921"
             ]
            ],
            "type": "histogram2d"
           }
          ],
          "histogram2dcontour": [
           {
            "colorbar": {
             "outlinewidth": 0,
             "ticks": ""
            },
            "colorscale": [
             [
              0,
              "#0d0887"
             ],
             [
              0.1111111111111111,
              "#46039f"
             ],
             [
              0.2222222222222222,
              "#7201a8"
             ],
             [
              0.3333333333333333,
              "#9c179e"
             ],
             [
              0.4444444444444444,
              "#bd3786"
             ],
             [
              0.5555555555555556,
              "#d8576b"
             ],
             [
              0.6666666666666666,
              "#ed7953"
             ],
             [
              0.7777777777777778,
              "#fb9f3a"
             ],
             [
              0.8888888888888888,
              "#fdca26"
             ],
             [
              1,
              "#f0f921"
             ]
            ],
            "type": "histogram2dcontour"
           }
          ],
          "mesh3d": [
           {
            "colorbar": {
             "outlinewidth": 0,
             "ticks": ""
            },
            "type": "mesh3d"
           }
          ],
          "parcoords": [
           {
            "line": {
             "colorbar": {
              "outlinewidth": 0,
              "ticks": ""
             }
            },
            "type": "parcoords"
           }
          ],
          "pie": [
           {
            "automargin": true,
            "type": "pie"
           }
          ],
          "scatter": [
           {
            "marker": {
             "colorbar": {
              "outlinewidth": 0,
              "ticks": ""
             }
            },
            "type": "scatter"
           }
          ],
          "scatter3d": [
           {
            "line": {
             "colorbar": {
              "outlinewidth": 0,
              "ticks": ""
             }
            },
            "marker": {
             "colorbar": {
              "outlinewidth": 0,
              "ticks": ""
             }
            },
            "type": "scatter3d"
           }
          ],
          "scattercarpet": [
           {
            "marker": {
             "colorbar": {
              "outlinewidth": 0,
              "ticks": ""
             }
            },
            "type": "scattercarpet"
           }
          ],
          "scattergeo": [
           {
            "marker": {
             "colorbar": {
              "outlinewidth": 0,
              "ticks": ""
             }
            },
            "type": "scattergeo"
           }
          ],
          "scattergl": [
           {
            "marker": {
             "colorbar": {
              "outlinewidth": 0,
              "ticks": ""
             }
            },
            "type": "scattergl"
           }
          ],
          "scattermapbox": [
           {
            "marker": {
             "colorbar": {
              "outlinewidth": 0,
              "ticks": ""
             }
            },
            "type": "scattermapbox"
           }
          ],
          "scatterpolar": [
           {
            "marker": {
             "colorbar": {
              "outlinewidth": 0,
              "ticks": ""
             }
            },
            "type": "scatterpolar"
           }
          ],
          "scatterpolargl": [
           {
            "marker": {
             "colorbar": {
              "outlinewidth": 0,
              "ticks": ""
             }
            },
            "type": "scatterpolargl"
           }
          ],
          "scatterternary": [
           {
            "marker": {
             "colorbar": {
              "outlinewidth": 0,
              "ticks": ""
             }
            },
            "type": "scatterternary"
           }
          ],
          "surface": [
           {
            "colorbar": {
             "outlinewidth": 0,
             "ticks": ""
            },
            "colorscale": [
             [
              0,
              "#0d0887"
             ],
             [
              0.1111111111111111,
              "#46039f"
             ],
             [
              0.2222222222222222,
              "#7201a8"
             ],
             [
              0.3333333333333333,
              "#9c179e"
             ],
             [
              0.4444444444444444,
              "#bd3786"
             ],
             [
              0.5555555555555556,
              "#d8576b"
             ],
             [
              0.6666666666666666,
              "#ed7953"
             ],
             [
              0.7777777777777778,
              "#fb9f3a"
             ],
             [
              0.8888888888888888,
              "#fdca26"
             ],
             [
              1,
              "#f0f921"
             ]
            ],
            "type": "surface"
           }
          ],
          "table": [
           {
            "cells": {
             "fill": {
              "color": "#EBF0F8"
             },
             "line": {
              "color": "white"
             }
            },
            "header": {
             "fill": {
              "color": "#C8D4E3"
             },
             "line": {
              "color": "white"
             }
            },
            "type": "table"
           }
          ]
         },
         "layout": {
          "annotationdefaults": {
           "arrowcolor": "#2a3f5f",
           "arrowhead": 0,
           "arrowwidth": 1
          },
          "autotypenumbers": "strict",
          "coloraxis": {
           "colorbar": {
            "outlinewidth": 0,
            "ticks": ""
           }
          },
          "colorscale": {
           "diverging": [
            [
             0,
             "#8e0152"
            ],
            [
             0.1,
             "#c51b7d"
            ],
            [
             0.2,
             "#de77ae"
            ],
            [
             0.3,
             "#f1b6da"
            ],
            [
             0.4,
             "#fde0ef"
            ],
            [
             0.5,
             "#f7f7f7"
            ],
            [
             0.6,
             "#e6f5d0"
            ],
            [
             0.7,
             "#b8e186"
            ],
            [
             0.8,
             "#7fbc41"
            ],
            [
             0.9,
             "#4d9221"
            ],
            [
             1,
             "#276419"
            ]
           ],
           "sequential": [
            [
             0,
             "#0d0887"
            ],
            [
             0.1111111111111111,
             "#46039f"
            ],
            [
             0.2222222222222222,
             "#7201a8"
            ],
            [
             0.3333333333333333,
             "#9c179e"
            ],
            [
             0.4444444444444444,
             "#bd3786"
            ],
            [
             0.5555555555555556,
             "#d8576b"
            ],
            [
             0.6666666666666666,
             "#ed7953"
            ],
            [
             0.7777777777777778,
             "#fb9f3a"
            ],
            [
             0.8888888888888888,
             "#fdca26"
            ],
            [
             1,
             "#f0f921"
            ]
           ],
           "sequentialminus": [
            [
             0,
             "#0d0887"
            ],
            [
             0.1111111111111111,
             "#46039f"
            ],
            [
             0.2222222222222222,
             "#7201a8"
            ],
            [
             0.3333333333333333,
             "#9c179e"
            ],
            [
             0.4444444444444444,
             "#bd3786"
            ],
            [
             0.5555555555555556,
             "#d8576b"
            ],
            [
             0.6666666666666666,
             "#ed7953"
            ],
            [
             0.7777777777777778,
             "#fb9f3a"
            ],
            [
             0.8888888888888888,
             "#fdca26"
            ],
            [
             1,
             "#f0f921"
            ]
           ]
          },
          "colorway": [
           "#636efa",
           "#EF553B",
           "#00cc96",
           "#ab63fa",
           "#FFA15A",
           "#19d3f3",
           "#FF6692",
           "#B6E880",
           "#FF97FF",
           "#FECB52"
          ],
          "font": {
           "color": "#2a3f5f"
          },
          "geo": {
           "bgcolor": "white",
           "lakecolor": "white",
           "landcolor": "#E5ECF6",
           "showlakes": true,
           "showland": true,
           "subunitcolor": "white"
          },
          "hoverlabel": {
           "align": "left"
          },
          "hovermode": "closest",
          "mapbox": {
           "style": "light"
          },
          "paper_bgcolor": "white",
          "plot_bgcolor": "#E5ECF6",
          "polar": {
           "angularaxis": {
            "gridcolor": "white",
            "linecolor": "white",
            "ticks": ""
           },
           "bgcolor": "#E5ECF6",
           "radialaxis": {
            "gridcolor": "white",
            "linecolor": "white",
            "ticks": ""
           }
          },
          "scene": {
           "xaxis": {
            "backgroundcolor": "#E5ECF6",
            "gridcolor": "white",
            "gridwidth": 2,
            "linecolor": "white",
            "showbackground": true,
            "ticks": "",
            "zerolinecolor": "white"
           },
           "yaxis": {
            "backgroundcolor": "#E5ECF6",
            "gridcolor": "white",
            "gridwidth": 2,
            "linecolor": "white",
            "showbackground": true,
            "ticks": "",
            "zerolinecolor": "white"
           },
           "zaxis": {
            "backgroundcolor": "#E5ECF6",
            "gridcolor": "white",
            "gridwidth": 2,
            "linecolor": "white",
            "showbackground": true,
            "ticks": "",
            "zerolinecolor": "white"
           }
          },
          "shapedefaults": {
           "line": {
            "color": "#2a3f5f"
           }
          },
          "ternary": {
           "aaxis": {
            "gridcolor": "white",
            "linecolor": "white",
            "ticks": ""
           },
           "baxis": {
            "gridcolor": "white",
            "linecolor": "white",
            "ticks": ""
           },
           "bgcolor": "#E5ECF6",
           "caxis": {
            "gridcolor": "white",
            "linecolor": "white",
            "ticks": ""
           }
          },
          "title": {
           "x": 0.05
          },
          "xaxis": {
           "automargin": true,
           "gridcolor": "white",
           "linecolor": "white",
           "ticks": "",
           "title": {
            "standoff": 15
           },
           "zerolinecolor": "white",
           "zerolinewidth": 2
          },
          "yaxis": {
           "automargin": true,
           "gridcolor": "white",
           "linecolor": "white",
           "ticks": "",
           "title": {
            "standoff": 15
           },
           "zerolinecolor": "white",
           "zerolinewidth": 2
          }
         }
        },
        "title": {
         "text": "Volcano plot"
        },
        "xaxis": {
         "anchor": "y",
         "domain": [
          0,
          1
         ],
         "title": {
          "text": "Partial Correlation"
         }
        },
        "yaxis": {
         "anchor": "x",
         "domain": [
          0,
          1
         ],
         "title": {
          "text": "-log(p-value)"
         }
        }
       }
      }
     },
     "metadata": {}
    }
   ],
   "source": [
    "import plotly.express as px\n",
    "\n",
    "fig = px.scatter(correlations, x=\"correlation\", y=\"neg_log_p_value\", custom_data=[\"variable\", \"p_value\", \"sample_size\"], color=\"category\", labels={\"correlation\": \"Partial Correlation\", \"neg_log_p_value\": \"-log(p-value)\", \"category\": \"Categories:\"}, title=\"Volcano plot\")\n",
    "fig.update_traces(\n",
    "    hovertemplate=\"<br>\".join([\n",
    "        \"Variable: %{customdata[0]}\",\n",
    "        \"Partial Correlation: %{x:.3f}\",\n",
    "        \"p-value: %{customdata[1]:.3E}\",\n",
    "        \"Samples size: %{customdata[2]}\",\n",
    "    ])\n",
    ")\n",
    "fig.show()"
   ]
  },
  {
   "cell_type": "code",
   "execution_count": 8,
   "metadata": {},
   "outputs": [
    {
     "output_type": "display_data",
     "data": {
      "application/vnd.plotly.v1+json": {
       "config": {
        "plotlyServerURL": "https://plot.ly"
       },
       "data": [
        {
         "customdata": [
          [
           "Illnesses of father.Stroke",
           0.3897744752325573,
           34
          ],
          [
           "Illnesses of father.Lung cancer",
           0.9365226987341688,
           4991
          ],
          [
           "Illnesses of father.Bowel cancer",
           0.8866297471556894,
           5107
          ],
          [
           "Illnesses of father.Chronic bronchitis/emphysema",
           0.1622940683852223,
           723
          ],
          [
           "Illnesses of father.High blood pressure",
           0.3449297087922144,
           761
          ],
          [
           "Illnesses of father.Diabetes",
           0.1285243153975984,
           2170
          ],
          [
           "Illnesses of father.Alzheimer's disease/dementia",
           0.0500822575366374,
           7714
          ],
          [
           "Illnesses of father.Parkinson's disease",
           0.3400850159827497,
           13231
          ],
          [
           "Illnesses of father.Severe depression",
           0.9020303779886076,
           35490
          ],
          [
           "Illnesses of father.Prostate cancer",
           0.6717183131518448,
           36196
          ],
          [
           "Illnesses of mother.Stroke",
           0.973039314616678,
           82
          ],
          [
           "Illnesses of mother.Lung cancer",
           0.7804134856161582,
           5323
          ],
          [
           "Illnesses of mother.Bowel cancer",
           0.1219077461219498,
           5102
          ],
          [
           "Illnesses of mother.Breast cancer",
           0.929381044101426,
           5103
          ],
          [
           "Illnesses of mother.Chronic bronchitis/emphysema",
           0.9729642753956622,
           1015
          ],
          [
           "Illnesses of mother.High blood pressure",
           0.0121866163311962,
           970
          ],
          [
           "Illnesses of mother.Diabetes",
           0.7434174718118458,
           4076
          ],
          [
           "Illnesses of mother.Alzheimer's disease/dementia",
           0.6700600086564665,
           12678
          ],
          [
           "Illnesses of mother.Parkinson's disease",
           0.757427170372718,
           35713
          ],
          [
           "Illnesses of mother.Severe depression",
           0.5493092749118276,
           36321
          ],
          [
           "Illnesses of siblings.None of the above1",
           0.5703193122909062,
           445
          ],
          [
           "Illnesses of siblings.Prefer not to answer1",
           0.6174981573395866,
           32399
          ],
          [
           "Illnesses of siblings.Do not know1",
           0.0166658830569408,
           5742
          ],
          [
           "Illnesses of siblings.Stroke",
           0.6310766628458357,
           13
          ],
          [
           "Illnesses of siblings.Lung cancer",
           0.0852600961278178,
           58
          ],
          [
           "Illnesses of siblings.Bowel cancer",
           0.1737278419289413,
           58
          ],
          [
           "Illnesses of siblings.Breast cancer",
           0.5355810080753951,
           298
          ],
          [
           "Illnesses of siblings.Chronic bronchitis/emphysema",
           0.7888811372973814,
           292
          ],
          [
           "Illnesses of siblings.High blood pressure",
           0.4529415650987727,
           445
          ],
          [
           "Illnesses of siblings.Diabetes",
           0.6560396023911007,
           1700
          ],
          [
           "Illnesses of siblings.Alzheimer's disease/dementia",
           0.7242420880479108,
           4618
          ],
          [
           "Illnesses of siblings.Parkinson's disease",
           0.6659557147149477,
           5256
          ],
          [
           "Illnesses of siblings.Severe depression",
           0.3922274505944042,
           32394
          ],
          [
           "Illnesses of siblings.Prostate cancer",
           0.6448050293139194,
           32399
          ],
          [
           "Illnesses of siblings.Do not know2",
           0.4107471987376586,
           252
          ],
          [
           "Illnesses of siblings.None of the above2",
           0.0403187187831303,
           40
          ],
          [
           "Illnesses of siblings.Prefer not to answer2",
           0.4442871802022204,
           5742
          ],
          [
           "Illnesses of adopted siblings.None of the above1",
           0.4759200557615248,
           44
          ],
          [
           "Illnesses of adopted siblings.Prefer not to answer1",
           1,
           36495
          ],
          [
           "Illnesses of adopted siblings.Do not know1",
           0.1835761807153718,
           65
          ],
          [
           "Illnesses of adopted siblings.Stroke",
           0.391995124325451,
           5017
          ],
          [
           "Illnesses of adopted siblings.Lung cancer",
           1,
           2414
          ],
          [
           "Illnesses of adopted siblings.Bowel cancer",
           0.7959823398902747,
           4717
          ],
          [
           "Illnesses of adopted siblings.Breast cancer",
           0.281865396040511,
           2431
          ],
          [
           "Illnesses of adopted siblings.Chronic bronchitis/emphysema",
           0.3007884312718152,
           12
          ],
          [
           "Illnesses of adopted siblings.High blood pressure",
           0.3535529731232369,
           65
          ],
          [
           "Illnesses of adopted siblings.Diabetes",
           0.2937331166769409,
           234
          ],
          [
           "Illnesses of adopted siblings.Alzheimer's disease/dementia",
           0.3029619611819774,
           5214
          ],
          [
           "Illnesses of adopted siblings.Parkinson's disease",
           0.5782003069682449,
           5214
          ],
          [
           "Illnesses of adopted siblings.Severe depression",
           0.0029363603448637,
           267
          ],
          [
           "Illnesses of adopted siblings.Prostate cancer",
           0.6579339460033963,
           5214
          ],
          [
           "Illnesses of adopted siblings.Do not know2",
           0.3874330876797452,
           27
          ],
          [
           "Illnesses of adopted siblings.None of the above2",
           0.9966913978026084,
           11
          ],
          [
           "Illnesses of adopted siblings.Prefer not to answer2",
           1,
           36480
          ],
          [
           "Illnesses of adopted father.Stroke",
           0.5033908240622416,
           37
          ],
          [
           "Illnesses of adopted father.Lung cancer",
           0.6795009782935072,
           5056
          ],
          [
           "Illnesses of adopted father.Bowel cancer",
           0.0313742581211679,
           5078
          ],
          [
           "Illnesses of adopted father.Chronic bronchitis/emphysema",
           0.0771563212510987,
           95
          ],
          [
           "Illnesses of adopted father.Diabetes",
           0.2710399139589908,
           120
          ],
          [
           "Illnesses of adopted father.Alzheimer's disease/dementia",
           0.0880021869673965,
           123
          ],
          [
           "Illnesses of adopted father.Parkinson's disease",
           0.6530296574625254,
           5063
          ],
          [
           "Illnesses of adopted father.Severe depression",
           0.950181834732479,
           5236
          ],
          [
           "Illnesses of adopted father.Prostate cancer",
           0.2395994923683203,
           5331
          ],
          [
           "Illnesses of adopted mother.Lung cancer",
           0.804085012900171,
           5090
          ],
          [
           "Illnesses of adopted mother.Bowel cancer",
           0.8771104115905994,
           5006
          ],
          [
           "Illnesses of adopted mother.Breast cancer",
           0.6766915415145465,
           4991
          ],
          [
           "Illnesses of adopted mother.Chronic bronchitis/emphysema",
           0.609840458467681,
           5001
          ],
          [
           "Illnesses of adopted mother.High blood pressure",
           0.3759737723773861,
           71
          ],
          [
           "Illnesses of adopted mother.Diabetes",
           0.629092867575413,
           5069
          ],
          [
           "Illnesses of adopted mother.Alzheimer's disease/dementia",
           0.6986139026540243,
           172
          ],
          [
           "Illnesses of adopted mother.Parkinson's disease",
           0.6458056936956647,
           5259
          ],
          [
           "Illnesses of adopted mother.Severe depression",
           0.3120630067302719,
           5328
          ],
          [
           "Illnesses of father.None of the above",
           0.4397299526070701,
           2380
          ],
          [
           "Illnesses of adopted father.None of the above",
           0.8646343728671906,
           18
          ],
          [
           "Illnesses of adopted mother.None of the above",
           0.4442873630528986,
           22
          ],
          [
           "Illnesses of mother.None of the above",
           0.059416981001102,
           2383
          ],
          [
           "Illnesses of father.Prefer not to answer",
           0.3997405505469688,
           5696
          ],
          [
           "Illnesses of adopted father.Prefer not to answer",
           0.926634796759386,
           9451
          ],
          [
           "Illnesses of adopted mother.Prefer not to answer",
           0.166166872934015,
           9450
          ],
          [
           "Illnesses of mother.Prefer not to answer",
           0.0756409326877875,
           7839
          ],
          [
           "Illnesses of father.Do not know",
           0.6907518183051191,
           5008
          ],
          [
           "Illnesses of adopted father.Do not know",
           0.8434475541288747,
           18
          ],
          [
           "Illnesses of adopted mother.Do not know",
           0.0025746910503683,
           28
          ],
          [
           "Illnesses of mother.Do not know",
           0.2456247624323287,
           5014
          ]
         ],
         "hovertemplate": "Variable: %{customdata[0]}<br>Partial Correlation: %{x:.3f}<br>p-value: %{customdata[1]:.3E}<br>Samples size: %{customdata[2]}",
         "legendgroup": "FamilyHistory",
         "marker": {
          "color": "#636efa",
          "symbol": "circle"
         },
         "mode": "markers",
         "name": "FamilyHistory",
         "orientation": "v",
         "showlegend": true,
         "type": "scatter",
         "x": [
          0.1523275414884022,
          -0.0011275924826013,
          -0.0019954979447351,
          -0.0520245931406559,
          -0.0342832886063715,
          0.0326387220995557,
          -0.0223084174067521,
          -0.0082943884087072,
          0.0006534454130875,
          0.002227592771264,
          -0.0037903919122098,
          0.0038219426406229,
          -0.0216582703380785,
          0.0012409174475118,
          -0.0010650829135365,
          0.0804583246232476,
          0.0051286203739932,
          -0.0037843597795105,
          -0.001634424982985,
          0.0031420528953755,
          0.0269769125106795,
          -0.0027745847258796,
          -0.0315920762919445,
          0.1472982012501157,
          -0.2279482984779597,
          -0.181080395607059,
          -0.0360269602679037,
          0.0157362177893072,
          -0.0356670582321424,
          -0.0108098738540366,
          0.0051929027279621,
          0.0059560594132783,
          0.0047538459499903,
          0.002561195505335,
          -0.0520412423507537,
          0.3256374959724712,
          0.010097141155244,
          -0.1103178593426266,
          null,
          0.167023860417432,
          -0.0120877791258274,
          null,
          -0.0037655243078981,
          -0.0218347018682049,
          -0.3261869566507996,
          -0.1169430705261594,
          0.0689259525726182,
          -0.0142684533674396,
          -0.0077019204848579,
          0.1813645760162817,
          -0.006133243884489,
          0.1732666096251109,
          -0.0014210963657836,
          null,
          -0.1135505839340232,
          -0.0058116819819045,
          -0.0302038953025543,
          -0.1822252543778807,
          -0.1012785156146655,
          -0.1544801651326726,
          -0.0063195191832265,
          -0.0008636423819065,
          -0.0161091412926502,
          -0.0034778427103769,
          0.0021860775706714,
          -0.0059037584498713,
          0.0072177375845918,
          -0.1066635195788957,
          -0.0067856544409055,
          -0.029733413222751,
          -0.0063390510433651,
          -0.0138518672874621,
          0.0158450966010332,
          -0.043269793878923,
          0.1719075971596246,
          0.0386222112888468,
          0.0111597016839609,
          0.0009472876832893,
          -0.0142446565572261,
          -0.0200666409909215,
          0.0056231001352518,
          0.0501166956913246,
          -0.5473343310160186,
          0.0163996624850608
         ],
         "xaxis": "x",
         "y": [
          0.4091866044913812,
          0.028481692057531725,
          0.05225770185594457,
          0.7896973527223937,
          0.46226939824244834,
          0.8910147007839175,
          1.3003161028486123,
          0.4684125024964602,
          0.04477883632649659,
          0.17281281130771567,
          0.011869612171374779,
          0.10767523456444948,
          0.9139686980638342,
          0.03180618975052799,
          0.011903105552164927,
          1.9141168614594726,
          0.12876723632301126,
          0.1738863013867235,
          0.1206591199554925,
          0.26018306799298563,
          0.2438819219807952,
          0.20936433403338747,
          1.77817166990647,
          0.19991787969636027,
          1.0692541820365609,
          0.7601305751790224,
          0.27117483164937745,
          0.10298842810188547,
          0.34395782357682303,
          0.18306994327556597,
          0.14011624053000274,
          0.1765546499504119,
          0.4064620148893248,
          0.19057158380413697,
          0.38642538973568996,
          1.3944932770153429,
          0.3523362180392538,
          0.32246599319865465,
          0,
          0.7361836698393543,
          0.4067193347441367,
          0,
          0.09909656765590494,
          0.5499582381798896,
          0.5217388713098883,
          0.4515455063040659,
          0.5320470865747172,
          0.5186118965334079,
          0.23792168209708098,
          2.5321906496472977,
          0.18181770566599906,
          0.4118032922820914,
          0.001439290011338001,
          0,
          0.29809470514732017,
          0.16780991366707773,
          1.5034265347600626,
          1.1126284873323922,
          0.5669667492151688,
          1.0555065349399384,
          0.18506709471291663,
          0.02219327653821576,
          0.620514106407396,
          0.09469803249330765,
          0.05694573374189753,
          0.1696092520617008,
          0.2147837667426994,
          0.424842450043248,
          0.20128523865889802,
          0.15576277600462946,
          0.18989813037846015,
          0.5057577113895763,
          0.356813951007711,
          0.06316750341973963,
          0.35233603930120383,
          1.2260894186358775,
          0.3982217937326055,
          0.033091395308296245,
          0.7794555529703897,
          1.121243124741565,
          0.1606779631919935,
          0.07394191682180698,
          2.5892748765917504,
          0.6097278523288588
         ],
         "yaxis": "y"
        },
        {
         "mode": "lines",
         "name": "No Correction",
         "type": "scatter",
         "x": [
          -0.6535206733907526,
          0.4318238383472052
         ],
         "y": [
          1.3010299956639813,
          1.3010299956639813
         ]
        },
        {
         "mode": "lines",
         "name": "With Bonferoni Correction",
         "type": "scatter",
         "x": [
          -0.6535206733907526,
          0.4318238383472052
         ],
         "y": [
          3.225309281725863,
          3.225309281725863
         ]
        }
       ],
       "layout": {
        "legend": {
         "title": {
          "text": "Categories:"
         },
         "tracegroupgap": 0
        },
        "template": {
         "data": {
          "bar": [
           {
            "error_x": {
             "color": "#2a3f5f"
            },
            "error_y": {
             "color": "#2a3f5f"
            },
            "marker": {
             "line": {
              "color": "#E5ECF6",
              "width": 0.5
             }
            },
            "type": "bar"
           }
          ],
          "barpolar": [
           {
            "marker": {
             "line": {
              "color": "#E5ECF6",
              "width": 0.5
             }
            },
            "type": "barpolar"
           }
          ],
          "carpet": [
           {
            "aaxis": {
             "endlinecolor": "#2a3f5f",
             "gridcolor": "white",
             "linecolor": "white",
             "minorgridcolor": "white",
             "startlinecolor": "#2a3f5f"
            },
            "baxis": {
             "endlinecolor": "#2a3f5f",
             "gridcolor": "white",
             "linecolor": "white",
             "minorgridcolor": "white",
             "startlinecolor": "#2a3f5f"
            },
            "type": "carpet"
           }
          ],
          "choropleth": [
           {
            "colorbar": {
             "outlinewidth": 0,
             "ticks": ""
            },
            "type": "choropleth"
           }
          ],
          "contour": [
           {
            "colorbar": {
             "outlinewidth": 0,
             "ticks": ""
            },
            "colorscale": [
             [
              0,
              "#0d0887"
             ],
             [
              0.1111111111111111,
              "#46039f"
             ],
             [
              0.2222222222222222,
              "#7201a8"
             ],
             [
              0.3333333333333333,
              "#9c179e"
             ],
             [
              0.4444444444444444,
              "#bd3786"
             ],
             [
              0.5555555555555556,
              "#d8576b"
             ],
             [
              0.6666666666666666,
              "#ed7953"
             ],
             [
              0.7777777777777778,
              "#fb9f3a"
             ],
             [
              0.8888888888888888,
              "#fdca26"
             ],
             [
              1,
              "#f0f921"
             ]
            ],
            "type": "contour"
           }
          ],
          "contourcarpet": [
           {
            "colorbar": {
             "outlinewidth": 0,
             "ticks": ""
            },
            "type": "contourcarpet"
           }
          ],
          "heatmap": [
           {
            "colorbar": {
             "outlinewidth": 0,
             "ticks": ""
            },
            "colorscale": [
             [
              0,
              "#0d0887"
             ],
             [
              0.1111111111111111,
              "#46039f"
             ],
             [
              0.2222222222222222,
              "#7201a8"
             ],
             [
              0.3333333333333333,
              "#9c179e"
             ],
             [
              0.4444444444444444,
              "#bd3786"
             ],
             [
              0.5555555555555556,
              "#d8576b"
             ],
             [
              0.6666666666666666,
              "#ed7953"
             ],
             [
              0.7777777777777778,
              "#fb9f3a"
             ],
             [
              0.8888888888888888,
              "#fdca26"
             ],
             [
              1,
              "#f0f921"
             ]
            ],
            "type": "heatmap"
           }
          ],
          "heatmapgl": [
           {
            "colorbar": {
             "outlinewidth": 0,
             "ticks": ""
            },
            "colorscale": [
             [
              0,
              "#0d0887"
             ],
             [
              0.1111111111111111,
              "#46039f"
             ],
             [
              0.2222222222222222,
              "#7201a8"
             ],
             [
              0.3333333333333333,
              "#9c179e"
             ],
             [
              0.4444444444444444,
              "#bd3786"
             ],
             [
              0.5555555555555556,
              "#d8576b"
             ],
             [
              0.6666666666666666,
              "#ed7953"
             ],
             [
              0.7777777777777778,
              "#fb9f3a"
             ],
             [
              0.8888888888888888,
              "#fdca26"
             ],
             [
              1,
              "#f0f921"
             ]
            ],
            "type": "heatmapgl"
           }
          ],
          "histogram": [
           {
            "marker": {
             "colorbar": {
              "outlinewidth": 0,
              "ticks": ""
             }
            },
            "type": "histogram"
           }
          ],
          "histogram2d": [
           {
            "colorbar": {
             "outlinewidth": 0,
             "ticks": ""
            },
            "colorscale": [
             [
              0,
              "#0d0887"
             ],
             [
              0.1111111111111111,
              "#46039f"
             ],
             [
              0.2222222222222222,
              "#7201a8"
             ],
             [
              0.3333333333333333,
              "#9c179e"
             ],
             [
              0.4444444444444444,
              "#bd3786"
             ],
             [
              0.5555555555555556,
              "#d8576b"
             ],
             [
              0.6666666666666666,
              "#ed7953"
             ],
             [
              0.7777777777777778,
              "#fb9f3a"
             ],
             [
              0.8888888888888888,
              "#fdca26"
             ],
             [
              1,
              "#f0f921"
             ]
            ],
            "type": "histogram2d"
           }
          ],
          "histogram2dcontour": [
           {
            "colorbar": {
             "outlinewidth": 0,
             "ticks": ""
            },
            "colorscale": [
             [
              0,
              "#0d0887"
             ],
             [
              0.1111111111111111,
              "#46039f"
             ],
             [
              0.2222222222222222,
              "#7201a8"
             ],
             [
              0.3333333333333333,
              "#9c179e"
             ],
             [
              0.4444444444444444,
              "#bd3786"
             ],
             [
              0.5555555555555556,
              "#d8576b"
             ],
             [
              0.6666666666666666,
              "#ed7953"
             ],
             [
              0.7777777777777778,
              "#fb9f3a"
             ],
             [
              0.8888888888888888,
              "#fdca26"
             ],
             [
              1,
              "#f0f921"
             ]
            ],
            "type": "histogram2dcontour"
           }
          ],
          "mesh3d": [
           {
            "colorbar": {
             "outlinewidth": 0,
             "ticks": ""
            },
            "type": "mesh3d"
           }
          ],
          "parcoords": [
           {
            "line": {
             "colorbar": {
              "outlinewidth": 0,
              "ticks": ""
             }
            },
            "type": "parcoords"
           }
          ],
          "pie": [
           {
            "automargin": true,
            "type": "pie"
           }
          ],
          "scatter": [
           {
            "marker": {
             "colorbar": {
              "outlinewidth": 0,
              "ticks": ""
             }
            },
            "type": "scatter"
           }
          ],
          "scatter3d": [
           {
            "line": {
             "colorbar": {
              "outlinewidth": 0,
              "ticks": ""
             }
            },
            "marker": {
             "colorbar": {
              "outlinewidth": 0,
              "ticks": ""
             }
            },
            "type": "scatter3d"
           }
          ],
          "scattercarpet": [
           {
            "marker": {
             "colorbar": {
              "outlinewidth": 0,
              "ticks": ""
             }
            },
            "type": "scattercarpet"
           }
          ],
          "scattergeo": [
           {
            "marker": {
             "colorbar": {
              "outlinewidth": 0,
              "ticks": ""
             }
            },
            "type": "scattergeo"
           }
          ],
          "scattergl": [
           {
            "marker": {
             "colorbar": {
              "outlinewidth": 0,
              "ticks": ""
             }
            },
            "type": "scattergl"
           }
          ],
          "scattermapbox": [
           {
            "marker": {
             "colorbar": {
              "outlinewidth": 0,
              "ticks": ""
             }
            },
            "type": "scattermapbox"
           }
          ],
          "scatterpolar": [
           {
            "marker": {
             "colorbar": {
              "outlinewidth": 0,
              "ticks": ""
             }
            },
            "type": "scatterpolar"
           }
          ],
          "scatterpolargl": [
           {
            "marker": {
             "colorbar": {
              "outlinewidth": 0,
              "ticks": ""
             }
            },
            "type": "scatterpolargl"
           }
          ],
          "scatterternary": [
           {
            "marker": {
             "colorbar": {
              "outlinewidth": 0,
              "ticks": ""
             }
            },
            "type": "scatterternary"
           }
          ],
          "surface": [
           {
            "colorbar": {
             "outlinewidth": 0,
             "ticks": ""
            },
            "colorscale": [
             [
              0,
              "#0d0887"
             ],
             [
              0.1111111111111111,
              "#46039f"
             ],
             [
              0.2222222222222222,
              "#7201a8"
             ],
             [
              0.3333333333333333,
              "#9c179e"
             ],
             [
              0.4444444444444444,
              "#bd3786"
             ],
             [
              0.5555555555555556,
              "#d8576b"
             ],
             [
              0.6666666666666666,
              "#ed7953"
             ],
             [
              0.7777777777777778,
              "#fb9f3a"
             ],
             [
              0.8888888888888888,
              "#fdca26"
             ],
             [
              1,
              "#f0f921"
             ]
            ],
            "type": "surface"
           }
          ],
          "table": [
           {
            "cells": {
             "fill": {
              "color": "#EBF0F8"
             },
             "line": {
              "color": "white"
             }
            },
            "header": {
             "fill": {
              "color": "#C8D4E3"
             },
             "line": {
              "color": "white"
             }
            },
            "type": "table"
           }
          ]
         },
         "layout": {
          "annotationdefaults": {
           "arrowcolor": "#2a3f5f",
           "arrowhead": 0,
           "arrowwidth": 1
          },
          "autotypenumbers": "strict",
          "coloraxis": {
           "colorbar": {
            "outlinewidth": 0,
            "ticks": ""
           }
          },
          "colorscale": {
           "diverging": [
            [
             0,
             "#8e0152"
            ],
            [
             0.1,
             "#c51b7d"
            ],
            [
             0.2,
             "#de77ae"
            ],
            [
             0.3,
             "#f1b6da"
            ],
            [
             0.4,
             "#fde0ef"
            ],
            [
             0.5,
             "#f7f7f7"
            ],
            [
             0.6,
             "#e6f5d0"
            ],
            [
             0.7,
             "#b8e186"
            ],
            [
             0.8,
             "#7fbc41"
            ],
            [
             0.9,
             "#4d9221"
            ],
            [
             1,
             "#276419"
            ]
           ],
           "sequential": [
            [
             0,
             "#0d0887"
            ],
            [
             0.1111111111111111,
             "#46039f"
            ],
            [
             0.2222222222222222,
             "#7201a8"
            ],
            [
             0.3333333333333333,
             "#9c179e"
            ],
            [
             0.4444444444444444,
             "#bd3786"
            ],
            [
             0.5555555555555556,
             "#d8576b"
            ],
            [
             0.6666666666666666,
             "#ed7953"
            ],
            [
             0.7777777777777778,
             "#fb9f3a"
            ],
            [
             0.8888888888888888,
             "#fdca26"
            ],
            [
             1,
             "#f0f921"
            ]
           ],
           "sequentialminus": [
            [
             0,
             "#0d0887"
            ],
            [
             0.1111111111111111,
             "#46039f"
            ],
            [
             0.2222222222222222,
             "#7201a8"
            ],
            [
             0.3333333333333333,
             "#9c179e"
            ],
            [
             0.4444444444444444,
             "#bd3786"
            ],
            [
             0.5555555555555556,
             "#d8576b"
            ],
            [
             0.6666666666666666,
             "#ed7953"
            ],
            [
             0.7777777777777778,
             "#fb9f3a"
            ],
            [
             0.8888888888888888,
             "#fdca26"
            ],
            [
             1,
             "#f0f921"
            ]
           ]
          },
          "colorway": [
           "#636efa",
           "#EF553B",
           "#00cc96",
           "#ab63fa",
           "#FFA15A",
           "#19d3f3",
           "#FF6692",
           "#B6E880",
           "#FF97FF",
           "#FECB52"
          ],
          "font": {
           "color": "#2a3f5f"
          },
          "geo": {
           "bgcolor": "white",
           "lakecolor": "white",
           "landcolor": "#E5ECF6",
           "showlakes": true,
           "showland": true,
           "subunitcolor": "white"
          },
          "hoverlabel": {
           "align": "left"
          },
          "hovermode": "closest",
          "mapbox": {
           "style": "light"
          },
          "paper_bgcolor": "white",
          "plot_bgcolor": "#E5ECF6",
          "polar": {
           "angularaxis": {
            "gridcolor": "white",
            "linecolor": "white",
            "ticks": ""
           },
           "bgcolor": "#E5ECF6",
           "radialaxis": {
            "gridcolor": "white",
            "linecolor": "white",
            "ticks": ""
           }
          },
          "scene": {
           "xaxis": {
            "backgroundcolor": "#E5ECF6",
            "gridcolor": "white",
            "gridwidth": 2,
            "linecolor": "white",
            "showbackground": true,
            "ticks": "",
            "zerolinecolor": "white"
           },
           "yaxis": {
            "backgroundcolor": "#E5ECF6",
            "gridcolor": "white",
            "gridwidth": 2,
            "linecolor": "white",
            "showbackground": true,
            "ticks": "",
            "zerolinecolor": "white"
           },
           "zaxis": {
            "backgroundcolor": "#E5ECF6",
            "gridcolor": "white",
            "gridwidth": 2,
            "linecolor": "white",
            "showbackground": true,
            "ticks": "",
            "zerolinecolor": "white"
           }
          },
          "shapedefaults": {
           "line": {
            "color": "#2a3f5f"
           }
          },
          "ternary": {
           "aaxis": {
            "gridcolor": "white",
            "linecolor": "white",
            "ticks": ""
           },
           "baxis": {
            "gridcolor": "white",
            "linecolor": "white",
            "ticks": ""
           },
           "bgcolor": "#E5ECF6",
           "caxis": {
            "gridcolor": "white",
            "linecolor": "white",
            "ticks": ""
           }
          },
          "title": {
           "x": 0.05
          },
          "xaxis": {
           "automargin": true,
           "gridcolor": "white",
           "linecolor": "white",
           "ticks": "",
           "title": {
            "standoff": 15
           },
           "zerolinecolor": "white",
           "zerolinewidth": 2
          },
          "yaxis": {
           "automargin": true,
           "gridcolor": "white",
           "linecolor": "white",
           "ticks": "",
           "title": {
            "standoff": 15
           },
           "zerolinecolor": "white",
           "zerolinewidth": 2
          }
         }
        },
        "title": {
         "text": "Volcano plot"
        },
        "xaxis": {
         "anchor": "y",
         "domain": [
          0,
          1
         ],
         "title": {
          "text": "Partial Correlation"
         }
        },
        "yaxis": {
         "anchor": "x",
         "domain": [
          0,
          1
         ],
         "title": {
          "text": "-log(p-value)"
         }
        }
       }
      }
     },
     "metadata": {}
    }
   ],
   "source": [
    "import plotly.graph_objects as go\n",
    "\n",
    "fig.add_trace(go.Scatter(x=[correlations[\"correlation\"].min() - correlations[\"correlation\"].std(), correlations[\"correlation\"].max() + correlations[\"correlation\"].std()], y=[-np.log10(0.05), -np.log10(0.05)], mode='lines', name = \"No Correction\"))\n",
    "\n",
    "fig.add_trace(go.Scatter(x=[correlations[\"correlation\"].min() - correlations[\"correlation\"].std(), correlations[\"correlation\"].max() + correlations[\"correlation\"].std()], y=[-np.log10(0.05 / correlations.shape[0]), -np.log10(0.05 / correlations.shape[0])], mode='lines', name = \"With Bonferoni Correction\"))"
   ]
  }
 ]
}