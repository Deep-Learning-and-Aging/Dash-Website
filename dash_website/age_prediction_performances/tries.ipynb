{
 "cells": [
  {
   "cell_type": "code",
   "execution_count": 51,
   "metadata": {},
   "outputs": [],
   "source": [
    "import pandas as pd \n",
    "import numpy as np \n",
    "from dash_website.utils.graphs.add_line_and_annotation import add_line_and_annotation\n",
    "from dash_website import CUSTOM_ORDER\n",
    "from dash_website.age_prediction_performances import SCORES\n",
    "\n",
    "\n",
    "sample_definition = \"average_per_participant\"\n",
    "dimensions_selection = \"custom_dimensions\" #\"all_dimensions\"  # \"without_ensemble_models\"\n",
    "selected_dimension = \"all\"\n",
    "metric = \"rmse\"\n",
    "\n",
    "data_scores = pd.read_feather(f\"../../all_data/age_prediction_performances/scores_{sample_definition}_{dimensions_selection}.feather\").to_dict()"
   ]
  },
  {
   "cell_type": "code",
   "execution_count": 54,
   "metadata": {},
   "outputs": [
    {
     "name": "stderr",
     "output_type": "stream",
     "text": [
      "<ipython-input-54-43ea2145446b>:85: PerformanceWarning:\n",
      "\n",
      "indexing past lexsort depth may impact performance.\n",
      "\n",
      "<ipython-input-54-43ea2145446b>:86: PerformanceWarning:\n",
      "\n",
      "indexing past lexsort depth may impact performance.\n",
      "\n",
      "<ipython-input-54-43ea2145446b>:102: PerformanceWarning:\n",
      "\n",
      "indexing past lexsort depth may impact performance.\n",
      "\n"
     ]
    },
    {
     "data": {
      "application/vnd.plotly.v1+json": {
       "config": {
        "plotlyServerURL": "https://plot.ly"
       },
       "data": [
        {
         "customdata": [
          [
           "0.0996471946307259",
           "216",
           "*"
          ],
          [
           "0.1436054578654563",
           "247",
           "*"
          ],
          [
           "0.0127784349238899",
           "77317",
           "*"
          ],
          [
           "0.0338997808111398",
           "2401",
           "*"
          ],
          [
           "0.0143262993527528",
           "34445",
           "*"
          ],
          [
           "0.0150392091128253",
           "43139",
           "*"
          ],
          [
           "0.015692701891834",
           "34524",
           "*"
          ],
          [
           "0.0328067183863045",
           "8009",
           "*"
          ],
          [
           "0.034983133943064",
           "8357",
           "*"
          ],
          [
           "0.009275768389468",
           "206535",
           "*"
          ],
          [
           "0.0153055305523999",
           "73992",
           "*"
          ],
          [
           "0.0086536753312037",
           "241155",
           "*"
          ],
          [
           "0.0112884959431969",
           "155603",
           "*"
          ],
          [
           "0.0181716147126482",
           "24159",
           "*"
          ],
          [
           "0.0222010548103827",
           "31720",
           "*"
          ],
          [
           "0.0147325596983539",
           "37402",
           "*"
          ],
          [
           "0.0109001999647103",
           "57230",
           "*"
          ],
          [
           "0.0143048302225366",
           "91360",
           "*"
          ],
          [
           "0.0117205304915814",
           "82365",
           "*"
          ],
          [
           "0.0118729152602091",
           "85364",
           "*"
          ],
          [
           "0.01023440923689",
           "201277",
           "*"
          ],
          [
           "0.016087279043694",
           "16709",
           "*"
          ],
          [
           "0.0253305913283625",
           "21793",
           "*"
          ],
          [
           "0.0116958493159964",
           "34091",
           "*"
          ],
          [
           "0.006230220893627",
           "471001",
           "*"
          ],
          [
           "0.0070423344195764",
           "381162",
           "*"
          ],
          [
           "0.0099057374389188",
           "37367",
           "*"
          ],
          [
           "0.010395931969897",
           "41092",
           "*"
          ],
          [
           "0.0151963423899122",
           "41076",
           "*"
          ],
          [
           "0.015687034156919",
           "38910",
           "*"
          ],
          [
           "0.0065978639179406",
           "441571",
           "*"
          ],
          [
           "0.0135532755101555",
           "40059",
           "*"
          ],
          [
           "0.0128161847855935",
           "77317",
           "*"
          ]
         ],
         "error_y": {
          "array": [
           0.0996471946307259,
           0.1436054578654563,
           0.0127784349238899,
           0.0338997808111398,
           0.0143262993527528,
           0.0150392091128253,
           0.015692701891834,
           0.0328067183863045,
           0.034983133943064,
           0.009275768389468,
           0.0153055305523999,
           0.0086536753312037,
           0.0112884959431969,
           0.0181716147126482,
           0.0222010548103827,
           0.0147325596983539,
           0.0109001999647103,
           0.0143048302225366,
           0.0117205304915814,
           0.0118729152602091,
           0.01023440923689,
           0.016087279043694,
           0.0253305913283625,
           0.0116958493159964,
           0.006230220893627,
           0.0070423344195764,
           0.0099057374389188,
           0.010395931969897,
           0.0151963423899122,
           0.015687034156919,
           0.0065978639179406,
           0.0135532755101555,
           0.0128161847855935
          ],
          "type": "data"
         },
         "hovertemplate": "%{x}, score: %{y:.3f} +- %{customdata[0]:.3f}, sample size: %{customdata[1]} <extra>%{customdata[2]}</extra>",
         "name": "*",
         "type": "bar",
         "x": [
          5,
          15,
          25,
          35,
          195,
          205,
          215,
          135,
          145,
          155,
          295,
          305,
          315,
          45,
          55,
          65,
          75,
          85,
          95,
          105,
          115,
          165,
          175,
          185,
          325,
          125,
          225,
          235,
          245,
          255,
          265,
          275,
          285
         ],
         "y": [
          2.397540405035996,
          3.3046325330790864,
          4.7426475131760535,
          2.245282693759264,
          3.703100611044447,
          4.076546682926011,
          4.139197311760378,
          4.237364540459791,
          4.47186902549316,
          6.302493745735654,
          5.8006229215274905,
          5.906254498048093,
          7.7102348558225025,
          3.5697395606101274,
          5.895552239099307,
          3.7326574642045567,
          3.3555241640166487,
          6.554844866531948,
          3.9877894335525768,
          4.465675483321699,
          6.970512826933957,
          2.8247349363047367,
          5.905205407108723,
          2.878553554109877,
          7.595316758273452,
          6.999896306149533,
          2.6645284698461498,
          2.8611586035354555,
          4.208769039920911,
          4.206793836699337,
          7.004382410589819,
          3.8164034395323263,
          4.756229494365955
         ]
        }
       ],
       "layout": {
        "annotations": [
         {
          "font": {
           "size": 13
          },
          "showarrow": false,
          "text": "*",
          "textangle": 90,
          "x": 5,
          "xref": "x",
          "y": -7.5,
          "yref": "y"
         },
         {
          "font": {
           "size": 8
          },
          "showarrow": false,
          "text": "*",
          "textangle": 90,
          "x": 5,
          "xref": "x",
          "y": -4.75,
          "yref": "y"
         },
         {
          "font": {
           "size": 5
          },
          "showarrow": false,
          "text": "*",
          "textangle": 90,
          "x": 5,
          "xref": "x",
          "y": -2.25,
          "yref": "y"
         },
         {
          "font": {
           "size": 13
          },
          "showarrow": false,
          "text": "*instances01",
          "textangle": 90,
          "x": 15,
          "xref": "x",
          "y": -7.5,
          "yref": "y"
         },
         {
          "font": {
           "size": 8
          },
          "showarrow": false,
          "text": "*",
          "textangle": 90,
          "x": 15,
          "xref": "x",
          "y": -4.75,
          "yref": "y"
         },
         {
          "font": {
           "size": 5
          },
          "showarrow": false,
          "text": "*",
          "textangle": 90,
          "x": 15,
          "xref": "x",
          "y": -2.25,
          "yref": "y"
         },
         {
          "font": {
           "size": 13
          },
          "showarrow": false,
          "text": "*instances1.5x",
          "textangle": 90,
          "x": 25,
          "xref": "x",
          "y": -7.5,
          "yref": "y"
         },
         {
          "font": {
           "size": 8
          },
          "showarrow": false,
          "text": "*",
          "textangle": 90,
          "x": 25,
          "xref": "x",
          "y": -4.75,
          "yref": "y"
         },
         {
          "font": {
           "size": 5
          },
          "showarrow": false,
          "text": "*",
          "textangle": 90,
          "x": 25,
          "xref": "x",
          "y": -2.25,
          "yref": "y"
         },
         {
          "font": {
           "size": 13
          },
          "showarrow": false,
          "text": "*instances23",
          "textangle": 90,
          "x": 35,
          "xref": "x",
          "y": -7.5,
          "yref": "y"
         },
         {
          "font": {
           "size": 8
          },
          "showarrow": false,
          "text": "*",
          "textangle": 90,
          "x": 35,
          "xref": "x",
          "y": -4.75,
          "yref": "y"
         },
         {
          "font": {
           "size": 5
          },
          "showarrow": false,
          "text": "*",
          "textangle": 90,
          "x": 35,
          "xref": "x",
          "y": -2.25,
          "yref": "y"
         },
         {
          "font": {
           "size": 13
          },
          "showarrow": false,
          "text": "Brain",
          "textangle": 90,
          "x": 55,
          "xref": "x",
          "y": -7.5,
          "yref": "y"
         },
         {
          "font": {
           "size": 8
          },
          "showarrow": false,
          "text": "*",
          "textangle": 90,
          "x": 45,
          "xref": "x",
          "y": -4.75,
          "yref": "y"
         },
         {
          "font": {
           "size": 5
          },
          "showarrow": false,
          "text": "*",
          "textangle": 90,
          "x": 45,
          "xref": "x",
          "y": -2.25,
          "yref": "y"
         },
         {
          "font": {
           "size": 8
          },
          "showarrow": false,
          "text": "Cognitive",
          "textangle": 90,
          "x": 55,
          "xref": "x",
          "y": -4.75,
          "yref": "y"
         },
         {
          "font": {
           "size": 5
          },
          "showarrow": false,
          "text": "*",
          "textangle": 90,
          "x": 55,
          "xref": "x",
          "y": -2.25,
          "yref": "y"
         },
         {
          "font": {
           "size": 8
          },
          "showarrow": false,
          "text": "MRI",
          "textangle": 90,
          "x": 65,
          "xref": "x",
          "y": -4.75,
          "yref": "y"
         },
         {
          "font": {
           "size": 5
          },
          "showarrow": false,
          "text": "*",
          "textangle": 90,
          "x": 65,
          "xref": "x",
          "y": -2.25,
          "yref": "y"
         },
         {
          "font": {
           "size": 13
          },
          "showarrow": false,
          "text": "Eyes",
          "textangle": 90,
          "x": 90,
          "xref": "x",
          "y": -7.5,
          "yref": "y"
         },
         {
          "font": {
           "size": 8
          },
          "showarrow": false,
          "text": "*",
          "textangle": 90,
          "x": 75,
          "xref": "x",
          "y": -4.75,
          "yref": "y"
         },
         {
          "font": {
           "size": 5
          },
          "showarrow": false,
          "text": "*",
          "textangle": 90,
          "x": 75,
          "xref": "x",
          "y": -2.25,
          "yref": "y"
         },
         {
          "font": {
           "size": 8
          },
          "showarrow": false,
          "text": "All",
          "textangle": 90,
          "x": 85,
          "xref": "x",
          "y": -4.75,
          "yref": "y"
         },
         {
          "font": {
           "size": 5
          },
          "showarrow": false,
          "text": "*",
          "textangle": 90,
          "x": 85,
          "xref": "x",
          "y": -2.25,
          "yref": "y"
         },
         {
          "font": {
           "size": 8
          },
          "showarrow": false,
          "text": "Fundus",
          "textangle": 90,
          "x": 95,
          "xref": "x",
          "y": -4.75,
          "yref": "y"
         },
         {
          "font": {
           "size": 5
          },
          "showarrow": false,
          "text": "Raw",
          "textangle": 90,
          "x": 95,
          "xref": "x",
          "y": -2.25,
          "yref": "y"
         },
         {
          "font": {
           "size": 8
          },
          "showarrow": false,
          "text": "OCT",
          "textangle": 90,
          "x": 105,
          "xref": "x",
          "y": -4.75,
          "yref": "y"
         },
         {
          "font": {
           "size": 5
          },
          "showarrow": false,
          "text": "Raw",
          "textangle": 90,
          "x": 105,
          "xref": "x",
          "y": -2.25,
          "yref": "y"
         },
         {
          "font": {
           "size": 13
          },
          "showarrow": false,
          "text": "Hearing",
          "textangle": 90,
          "x": 115,
          "xref": "x",
          "y": -7.5,
          "yref": "y"
         },
         {
          "font": {
           "size": 8
          },
          "showarrow": false,
          "text": "*",
          "textangle": 90,
          "x": 115,
          "xref": "x",
          "y": -4.75,
          "yref": "y"
         },
         {
          "font": {
           "size": 5
          },
          "showarrow": false,
          "text": "*",
          "textangle": 90,
          "x": 115,
          "xref": "x",
          "y": -2.25,
          "yref": "y"
         },
         {
          "font": {
           "size": 13
          },
          "showarrow": false,
          "text": "Lungs",
          "textangle": 90,
          "x": 125,
          "xref": "x",
          "y": -7.5,
          "yref": "y"
         },
         {
          "font": {
           "size": 8
          },
          "showarrow": false,
          "text": "*",
          "textangle": 90,
          "x": 125,
          "xref": "x",
          "y": -4.75,
          "yref": "y"
         },
         {
          "font": {
           "size": 5
          },
          "showarrow": false,
          "text": "*",
          "textangle": 90,
          "x": 125,
          "xref": "x",
          "y": -2.25,
          "yref": "y"
         },
         {
          "font": {
           "size": 13
          },
          "showarrow": false,
          "text": "Arterial",
          "textangle": 90,
          "x": 145,
          "xref": "x",
          "y": -7.5,
          "yref": "y"
         },
         {
          "font": {
           "size": 8
          },
          "showarrow": false,
          "text": "*",
          "textangle": 90,
          "x": 135,
          "xref": "x",
          "y": -4.75,
          "yref": "y"
         },
         {
          "font": {
           "size": 5
          },
          "showarrow": false,
          "text": "*",
          "textangle": 90,
          "x": 135,
          "xref": "x",
          "y": -2.25,
          "yref": "y"
         },
         {
          "font": {
           "size": 8
          },
          "showarrow": false,
          "text": "Carotids",
          "textangle": 90,
          "x": 145,
          "xref": "x",
          "y": -4.75,
          "yref": "y"
         },
         {
          "font": {
           "size": 5
          },
          "showarrow": false,
          "text": "*",
          "textangle": 90,
          "x": 145,
          "xref": "x",
          "y": -2.25,
          "yref": "y"
         },
         {
          "font": {
           "size": 8
          },
          "showarrow": false,
          "text": "PulseWaveAnalysis",
          "textangle": 90,
          "x": 155,
          "xref": "x",
          "y": -4.75,
          "yref": "y"
         },
         {
          "font": {
           "size": 5
          },
          "showarrow": false,
          "text": "*",
          "textangle": 90,
          "x": 155,
          "xref": "x",
          "y": -2.25,
          "yref": "y"
         },
         {
          "font": {
           "size": 13
          },
          "showarrow": false,
          "text": "Heart",
          "textangle": 90,
          "x": 175,
          "xref": "x",
          "y": -7.5,
          "yref": "y"
         },
         {
          "font": {
           "size": 8
          },
          "showarrow": false,
          "text": "*",
          "textangle": 90,
          "x": 165,
          "xref": "x",
          "y": -4.75,
          "yref": "y"
         },
         {
          "font": {
           "size": 5
          },
          "showarrow": false,
          "text": "*",
          "textangle": 90,
          "x": 165,
          "xref": "x",
          "y": -2.25,
          "yref": "y"
         },
         {
          "font": {
           "size": 8
          },
          "showarrow": false,
          "text": "ECG",
          "textangle": 90,
          "x": 175,
          "xref": "x",
          "y": -4.75,
          "yref": "y"
         },
         {
          "font": {
           "size": 5
          },
          "showarrow": false,
          "text": "*",
          "textangle": 90,
          "x": 175,
          "xref": "x",
          "y": -2.25,
          "yref": "y"
         },
         {
          "font": {
           "size": 8
          },
          "showarrow": false,
          "text": "MRI",
          "textangle": 90,
          "x": 185,
          "xref": "x",
          "y": -4.75,
          "yref": "y"
         },
         {
          "font": {
           "size": 5
          },
          "showarrow": false,
          "text": "*",
          "textangle": 90,
          "x": 185,
          "xref": "x",
          "y": -2.25,
          "yref": "y"
         },
         {
          "font": {
           "size": 13
          },
          "showarrow": false,
          "text": "Abdomen",
          "textangle": 90,
          "x": 205,
          "xref": "x",
          "y": -7.5,
          "yref": "y"
         },
         {
          "font": {
           "size": 8
          },
          "showarrow": false,
          "text": "*",
          "textangle": 90,
          "x": 195,
          "xref": "x",
          "y": -4.75,
          "yref": "y"
         },
         {
          "font": {
           "size": 5
          },
          "showarrow": false,
          "text": "*",
          "textangle": 90,
          "x": 195,
          "xref": "x",
          "y": -2.25,
          "yref": "y"
         },
         {
          "font": {
           "size": 8
          },
          "showarrow": false,
          "text": "Liver",
          "textangle": 90,
          "x": 205,
          "xref": "x",
          "y": -4.75,
          "yref": "y"
         },
         {
          "font": {
           "size": 5
          },
          "showarrow": false,
          "text": "*",
          "textangle": 90,
          "x": 205,
          "xref": "x",
          "y": -2.25,
          "yref": "y"
         },
         {
          "font": {
           "size": 8
          },
          "showarrow": false,
          "text": "Pancreas",
          "textangle": 90,
          "x": 215,
          "xref": "x",
          "y": -4.75,
          "yref": "y"
         },
         {
          "font": {
           "size": 5
          },
          "showarrow": false,
          "text": "*",
          "textangle": 90,
          "x": 215,
          "xref": "x",
          "y": -2.25,
          "yref": "y"
         },
         {
          "font": {
           "size": 13
          },
          "showarrow": false,
          "text": "Musculoskeletal",
          "textangle": 90,
          "x": 250,
          "xref": "x",
          "y": -7.5,
          "yref": "y"
         },
         {
          "font": {
           "size": 8
          },
          "showarrow": false,
          "text": "*",
          "textangle": 90,
          "x": 225,
          "xref": "x",
          "y": -4.75,
          "yref": "y"
         },
         {
          "font": {
           "size": 5
          },
          "showarrow": false,
          "text": "*",
          "textangle": 90,
          "x": 225,
          "xref": "x",
          "y": -2.25,
          "yref": "y"
         },
         {
          "font": {
           "size": 8
          },
          "showarrow": false,
          "text": "FullBody",
          "textangle": 90,
          "x": 235,
          "xref": "x",
          "y": -4.75,
          "yref": "y"
         },
         {
          "font": {
           "size": 5
          },
          "showarrow": false,
          "text": "*",
          "textangle": 90,
          "x": 235,
          "xref": "x",
          "y": -2.25,
          "yref": "y"
         },
         {
          "font": {
           "size": 8
          },
          "showarrow": false,
          "text": "Hips",
          "textangle": 90,
          "x": 245,
          "xref": "x",
          "y": -4.75,
          "yref": "y"
         },
         {
          "font": {
           "size": 5
          },
          "showarrow": false,
          "text": "*",
          "textangle": 90,
          "x": 245,
          "xref": "x",
          "y": -2.25,
          "yref": "y"
         },
         {
          "font": {
           "size": 8
          },
          "showarrow": false,
          "text": "Knees",
          "textangle": 90,
          "x": 255,
          "xref": "x",
          "y": -4.75,
          "yref": "y"
         },
         {
          "font": {
           "size": 5
          },
          "showarrow": false,
          "text": "*",
          "textangle": 90,
          "x": 255,
          "xref": "x",
          "y": -2.25,
          "yref": "y"
         },
         {
          "font": {
           "size": 8
          },
          "showarrow": false,
          "text": "Scalars",
          "textangle": 90,
          "x": 265,
          "xref": "x",
          "y": -4.75,
          "yref": "y"
         },
         {
          "font": {
           "size": 5
          },
          "showarrow": false,
          "text": "*",
          "textangle": 90,
          "x": 265,
          "xref": "x",
          "y": -2.25,
          "yref": "y"
         },
         {
          "font": {
           "size": 8
          },
          "showarrow": false,
          "text": "Spine",
          "textangle": 90,
          "x": 275,
          "xref": "x",
          "y": -4.75,
          "yref": "y"
         },
         {
          "font": {
           "size": 5
          },
          "showarrow": false,
          "text": "*",
          "textangle": 90,
          "x": 275,
          "xref": "x",
          "y": -2.25,
          "yref": "y"
         },
         {
          "font": {
           "size": 13
          },
          "showarrow": false,
          "text": "PhysicalActivity",
          "textangle": 90,
          "x": 285,
          "xref": "x",
          "y": -7.5,
          "yref": "y"
         },
         {
          "font": {
           "size": 8
          },
          "showarrow": false,
          "text": "*",
          "textangle": 90,
          "x": 285,
          "xref": "x",
          "y": -4.75,
          "yref": "y"
         },
         {
          "font": {
           "size": 5
          },
          "showarrow": false,
          "text": "*",
          "textangle": 90,
          "x": 285,
          "xref": "x",
          "y": -2.25,
          "yref": "y"
         },
         {
          "font": {
           "size": 13
          },
          "showarrow": false,
          "text": "Biochemistry",
          "textangle": 90,
          "x": 305,
          "xref": "x",
          "y": -7.5,
          "yref": "y"
         },
         {
          "font": {
           "size": 8
          },
          "showarrow": false,
          "text": "*",
          "textangle": 90,
          "x": 295,
          "xref": "x",
          "y": -4.75,
          "yref": "y"
         },
         {
          "font": {
           "size": 5
          },
          "showarrow": false,
          "text": "*",
          "textangle": 90,
          "x": 295,
          "xref": "x",
          "y": -2.25,
          "yref": "y"
         },
         {
          "font": {
           "size": 8
          },
          "showarrow": false,
          "text": "Blood",
          "textangle": 90,
          "x": 305,
          "xref": "x",
          "y": -4.75,
          "yref": "y"
         },
         {
          "font": {
           "size": 5
          },
          "showarrow": false,
          "text": "*",
          "textangle": 90,
          "x": 305,
          "xref": "x",
          "y": -2.25,
          "yref": "y"
         },
         {
          "font": {
           "size": 8
          },
          "showarrow": false,
          "text": "Urine",
          "textangle": 90,
          "x": 315,
          "xref": "x",
          "y": -4.75,
          "yref": "y"
         },
         {
          "font": {
           "size": 5
          },
          "showarrow": false,
          "text": "Scalars",
          "textangle": 90,
          "x": 315,
          "xref": "x",
          "y": -2.25,
          "yref": "y"
         },
         {
          "font": {
           "size": 13
          },
          "showarrow": false,
          "text": "BloodCells",
          "textangle": 90,
          "x": 325,
          "xref": "x",
          "y": -7.5,
          "yref": "y"
         },
         {
          "font": {
           "size": 8
          },
          "showarrow": false,
          "text": "BloodCount",
          "textangle": 90,
          "x": 325,
          "xref": "x",
          "y": -4.75,
          "yref": "y"
         },
         {
          "font": {
           "size": 5
          },
          "showarrow": false,
          "text": "Scalars",
          "textangle": 90,
          "x": 325,
          "xref": "x",
          "y": -2.25,
          "yref": "y"
         }
        ],
        "height": 800,
        "shapes": [
         {
          "line": {
           "color": "Black",
           "width": 0.5
          },
          "type": "line",
          "x0": 0,
          "x1": 0,
          "xref": "x",
          "y0": -6,
          "y1": -9,
          "yref": "y"
         },
         {
          "line": {
           "color": "Black",
           "width": 0.5
          },
          "type": "line",
          "x0": 0,
          "x1": 0,
          "xref": "x",
          "y0": -3.5,
          "y1": -6,
          "yref": "y"
         },
         {
          "line": {
           "color": "Black",
           "width": 0.5
          },
          "type": "line",
          "x0": 0,
          "x1": 0,
          "xref": "x",
          "y0": -1,
          "y1": -3.5,
          "yref": "y"
         },
         {
          "line": {
           "color": "Black",
           "width": 0.5
          },
          "type": "line",
          "x0": 10,
          "x1": 10,
          "xref": "x",
          "y0": -6,
          "y1": -9,
          "yref": "y"
         },
         {
          "line": {
           "color": "Black",
           "width": 0.5
          },
          "type": "line",
          "x0": 10,
          "x1": 10,
          "xref": "x",
          "y0": -3.5,
          "y1": -6,
          "yref": "y"
         },
         {
          "line": {
           "color": "Black",
           "width": 0.5
          },
          "type": "line",
          "x0": 10,
          "x1": 10,
          "xref": "x",
          "y0": -1,
          "y1": -3.5,
          "yref": "y"
         },
         {
          "line": {
           "color": "Black",
           "width": 0.5
          },
          "type": "line",
          "x0": 20,
          "x1": 20,
          "xref": "x",
          "y0": -6,
          "y1": -9,
          "yref": "y"
         },
         {
          "line": {
           "color": "Black",
           "width": 0.5
          },
          "type": "line",
          "x0": 20,
          "x1": 20,
          "xref": "x",
          "y0": -3.5,
          "y1": -6,
          "yref": "y"
         },
         {
          "line": {
           "color": "Black",
           "width": 0.5
          },
          "type": "line",
          "x0": 20,
          "x1": 20,
          "xref": "x",
          "y0": -1,
          "y1": -3.5,
          "yref": "y"
         },
         {
          "line": {
           "color": "Black",
           "width": 0.5
          },
          "type": "line",
          "x0": 30,
          "x1": 30,
          "xref": "x",
          "y0": -6,
          "y1": -9,
          "yref": "y"
         },
         {
          "line": {
           "color": "Black",
           "width": 0.5
          },
          "type": "line",
          "x0": 30,
          "x1": 30,
          "xref": "x",
          "y0": -3.5,
          "y1": -6,
          "yref": "y"
         },
         {
          "line": {
           "color": "Black",
           "width": 0.5
          },
          "type": "line",
          "x0": 30,
          "x1": 30,
          "xref": "x",
          "y0": -1,
          "y1": -3.5,
          "yref": "y"
         },
         {
          "line": {
           "color": "Black",
           "width": 0.5
          },
          "type": "line",
          "x0": 40,
          "x1": 40,
          "xref": "x",
          "y0": -6,
          "y1": -9,
          "yref": "y"
         },
         {
          "line": {
           "color": "Black",
           "width": 0.5
          },
          "type": "line",
          "x0": 40,
          "x1": 40,
          "xref": "x",
          "y0": -3.5,
          "y1": -6,
          "yref": "y"
         },
         {
          "line": {
           "color": "Black",
           "width": 0.5
          },
          "type": "line",
          "x0": 40,
          "x1": 40,
          "xref": "x",
          "y0": -1,
          "y1": -3.5,
          "yref": "y"
         },
         {
          "line": {
           "color": "Black",
           "width": 0.5
          },
          "type": "line",
          "x0": 50,
          "x1": 50,
          "xref": "x",
          "y0": -3.5,
          "y1": -6,
          "yref": "y"
         },
         {
          "line": {
           "color": "Black",
           "width": 0.5
          },
          "type": "line",
          "x0": 50,
          "x1": 50,
          "xref": "x",
          "y0": -1,
          "y1": -3.5,
          "yref": "y"
         },
         {
          "line": {
           "color": "Black",
           "width": 0.5
          },
          "type": "line",
          "x0": 60,
          "x1": 60,
          "xref": "x",
          "y0": -3.5,
          "y1": -6,
          "yref": "y"
         },
         {
          "line": {
           "color": "Black",
           "width": 0.5
          },
          "type": "line",
          "x0": 60,
          "x1": 60,
          "xref": "x",
          "y0": -1,
          "y1": -3.5,
          "yref": "y"
         },
         {
          "line": {
           "color": "Black",
           "width": 0.5
          },
          "type": "line",
          "x0": 70,
          "x1": 70,
          "xref": "x",
          "y0": -6,
          "y1": -9,
          "yref": "y"
         },
         {
          "line": {
           "color": "Black",
           "width": 0.5
          },
          "type": "line",
          "x0": 70,
          "x1": 70,
          "xref": "x",
          "y0": -3.5,
          "y1": -6,
          "yref": "y"
         },
         {
          "line": {
           "color": "Black",
           "width": 0.5
          },
          "type": "line",
          "x0": 70,
          "x1": 70,
          "xref": "x",
          "y0": -1,
          "y1": -3.5,
          "yref": "y"
         },
         {
          "line": {
           "color": "Black",
           "width": 0.5
          },
          "type": "line",
          "x0": 80,
          "x1": 80,
          "xref": "x",
          "y0": -3.5,
          "y1": -6,
          "yref": "y"
         },
         {
          "line": {
           "color": "Black",
           "width": 0.5
          },
          "type": "line",
          "x0": 80,
          "x1": 80,
          "xref": "x",
          "y0": -1,
          "y1": -3.5,
          "yref": "y"
         },
         {
          "line": {
           "color": "Black",
           "width": 0.5
          },
          "type": "line",
          "x0": 90,
          "x1": 90,
          "xref": "x",
          "y0": -3.5,
          "y1": -6,
          "yref": "y"
         },
         {
          "line": {
           "color": "Black",
           "width": 0.5
          },
          "type": "line",
          "x0": 90,
          "x1": 90,
          "xref": "x",
          "y0": -1,
          "y1": -3.5,
          "yref": "y"
         },
         {
          "line": {
           "color": "Black",
           "width": 0.5
          },
          "type": "line",
          "x0": 100,
          "x1": 100,
          "xref": "x",
          "y0": -3.5,
          "y1": -6,
          "yref": "y"
         },
         {
          "line": {
           "color": "Black",
           "width": 0.5
          },
          "type": "line",
          "x0": 100,
          "x1": 100,
          "xref": "x",
          "y0": -1,
          "y1": -3.5,
          "yref": "y"
         },
         {
          "line": {
           "color": "Black",
           "width": 0.5
          },
          "type": "line",
          "x0": 110,
          "x1": 110,
          "xref": "x",
          "y0": -6,
          "y1": -9,
          "yref": "y"
         },
         {
          "line": {
           "color": "Black",
           "width": 0.5
          },
          "type": "line",
          "x0": 110,
          "x1": 110,
          "xref": "x",
          "y0": -3.5,
          "y1": -6,
          "yref": "y"
         },
         {
          "line": {
           "color": "Black",
           "width": 0.5
          },
          "type": "line",
          "x0": 110,
          "x1": 110,
          "xref": "x",
          "y0": -1,
          "y1": -3.5,
          "yref": "y"
         },
         {
          "line": {
           "color": "Black",
           "width": 0.5
          },
          "type": "line",
          "x0": 120,
          "x1": 120,
          "xref": "x",
          "y0": -6,
          "y1": -9,
          "yref": "y"
         },
         {
          "line": {
           "color": "Black",
           "width": 0.5
          },
          "type": "line",
          "x0": 120,
          "x1": 120,
          "xref": "x",
          "y0": -3.5,
          "y1": -6,
          "yref": "y"
         },
         {
          "line": {
           "color": "Black",
           "width": 0.5
          },
          "type": "line",
          "x0": 120,
          "x1": 120,
          "xref": "x",
          "y0": -1,
          "y1": -3.5,
          "yref": "y"
         },
         {
          "line": {
           "color": "Black",
           "width": 0.5
          },
          "type": "line",
          "x0": 130,
          "x1": 130,
          "xref": "x",
          "y0": -6,
          "y1": -9,
          "yref": "y"
         },
         {
          "line": {
           "color": "Black",
           "width": 0.5
          },
          "type": "line",
          "x0": 130,
          "x1": 130,
          "xref": "x",
          "y0": -3.5,
          "y1": -6,
          "yref": "y"
         },
         {
          "line": {
           "color": "Black",
           "width": 0.5
          },
          "type": "line",
          "x0": 130,
          "x1": 130,
          "xref": "x",
          "y0": -1,
          "y1": -3.5,
          "yref": "y"
         },
         {
          "line": {
           "color": "Black",
           "width": 0.5
          },
          "type": "line",
          "x0": 140,
          "x1": 140,
          "xref": "x",
          "y0": -3.5,
          "y1": -6,
          "yref": "y"
         },
         {
          "line": {
           "color": "Black",
           "width": 0.5
          },
          "type": "line",
          "x0": 140,
          "x1": 140,
          "xref": "x",
          "y0": -1,
          "y1": -3.5,
          "yref": "y"
         },
         {
          "line": {
           "color": "Black",
           "width": 0.5
          },
          "type": "line",
          "x0": 150,
          "x1": 150,
          "xref": "x",
          "y0": -3.5,
          "y1": -6,
          "yref": "y"
         },
         {
          "line": {
           "color": "Black",
           "width": 0.5
          },
          "type": "line",
          "x0": 150,
          "x1": 150,
          "xref": "x",
          "y0": -1,
          "y1": -3.5,
          "yref": "y"
         },
         {
          "line": {
           "color": "Black",
           "width": 0.5
          },
          "type": "line",
          "x0": 160,
          "x1": 160,
          "xref": "x",
          "y0": -6,
          "y1": -9,
          "yref": "y"
         },
         {
          "line": {
           "color": "Black",
           "width": 0.5
          },
          "type": "line",
          "x0": 160,
          "x1": 160,
          "xref": "x",
          "y0": -3.5,
          "y1": -6,
          "yref": "y"
         },
         {
          "line": {
           "color": "Black",
           "width": 0.5
          },
          "type": "line",
          "x0": 160,
          "x1": 160,
          "xref": "x",
          "y0": -1,
          "y1": -3.5,
          "yref": "y"
         },
         {
          "line": {
           "color": "Black",
           "width": 0.5
          },
          "type": "line",
          "x0": 170,
          "x1": 170,
          "xref": "x",
          "y0": -3.5,
          "y1": -6,
          "yref": "y"
         },
         {
          "line": {
           "color": "Black",
           "width": 0.5
          },
          "type": "line",
          "x0": 170,
          "x1": 170,
          "xref": "x",
          "y0": -1,
          "y1": -3.5,
          "yref": "y"
         },
         {
          "line": {
           "color": "Black",
           "width": 0.5
          },
          "type": "line",
          "x0": 180,
          "x1": 180,
          "xref": "x",
          "y0": -3.5,
          "y1": -6,
          "yref": "y"
         },
         {
          "line": {
           "color": "Black",
           "width": 0.5
          },
          "type": "line",
          "x0": 180,
          "x1": 180,
          "xref": "x",
          "y0": -1,
          "y1": -3.5,
          "yref": "y"
         },
         {
          "line": {
           "color": "Black",
           "width": 0.5
          },
          "type": "line",
          "x0": 190,
          "x1": 190,
          "xref": "x",
          "y0": -6,
          "y1": -9,
          "yref": "y"
         },
         {
          "line": {
           "color": "Black",
           "width": 0.5
          },
          "type": "line",
          "x0": 190,
          "x1": 190,
          "xref": "x",
          "y0": -3.5,
          "y1": -6,
          "yref": "y"
         },
         {
          "line": {
           "color": "Black",
           "width": 0.5
          },
          "type": "line",
          "x0": 190,
          "x1": 190,
          "xref": "x",
          "y0": -1,
          "y1": -3.5,
          "yref": "y"
         },
         {
          "line": {
           "color": "Black",
           "width": 0.5
          },
          "type": "line",
          "x0": 200,
          "x1": 200,
          "xref": "x",
          "y0": -3.5,
          "y1": -6,
          "yref": "y"
         },
         {
          "line": {
           "color": "Black",
           "width": 0.5
          },
          "type": "line",
          "x0": 200,
          "x1": 200,
          "xref": "x",
          "y0": -1,
          "y1": -3.5,
          "yref": "y"
         },
         {
          "line": {
           "color": "Black",
           "width": 0.5
          },
          "type": "line",
          "x0": 210,
          "x1": 210,
          "xref": "x",
          "y0": -3.5,
          "y1": -6,
          "yref": "y"
         },
         {
          "line": {
           "color": "Black",
           "width": 0.5
          },
          "type": "line",
          "x0": 210,
          "x1": 210,
          "xref": "x",
          "y0": -1,
          "y1": -3.5,
          "yref": "y"
         },
         {
          "line": {
           "color": "Black",
           "width": 0.5
          },
          "type": "line",
          "x0": 220,
          "x1": 220,
          "xref": "x",
          "y0": -6,
          "y1": -9,
          "yref": "y"
         },
         {
          "line": {
           "color": "Black",
           "width": 0.5
          },
          "type": "line",
          "x0": 220,
          "x1": 220,
          "xref": "x",
          "y0": -3.5,
          "y1": -6,
          "yref": "y"
         },
         {
          "line": {
           "color": "Black",
           "width": 0.5
          },
          "type": "line",
          "x0": 220,
          "x1": 220,
          "xref": "x",
          "y0": -1,
          "y1": -3.5,
          "yref": "y"
         },
         {
          "line": {
           "color": "Black",
           "width": 0.5
          },
          "type": "line",
          "x0": 230,
          "x1": 230,
          "xref": "x",
          "y0": -3.5,
          "y1": -6,
          "yref": "y"
         },
         {
          "line": {
           "color": "Black",
           "width": 0.5
          },
          "type": "line",
          "x0": 230,
          "x1": 230,
          "xref": "x",
          "y0": -1,
          "y1": -3.5,
          "yref": "y"
         },
         {
          "line": {
           "color": "Black",
           "width": 0.5
          },
          "type": "line",
          "x0": 240,
          "x1": 240,
          "xref": "x",
          "y0": -3.5,
          "y1": -6,
          "yref": "y"
         },
         {
          "line": {
           "color": "Black",
           "width": 0.5
          },
          "type": "line",
          "x0": 240,
          "x1": 240,
          "xref": "x",
          "y0": -1,
          "y1": -3.5,
          "yref": "y"
         },
         {
          "line": {
           "color": "Black",
           "width": 0.5
          },
          "type": "line",
          "x0": 250,
          "x1": 250,
          "xref": "x",
          "y0": -3.5,
          "y1": -6,
          "yref": "y"
         },
         {
          "line": {
           "color": "Black",
           "width": 0.5
          },
          "type": "line",
          "x0": 250,
          "x1": 250,
          "xref": "x",
          "y0": -1,
          "y1": -3.5,
          "yref": "y"
         },
         {
          "line": {
           "color": "Black",
           "width": 0.5
          },
          "type": "line",
          "x0": 260,
          "x1": 260,
          "xref": "x",
          "y0": -3.5,
          "y1": -6,
          "yref": "y"
         },
         {
          "line": {
           "color": "Black",
           "width": 0.5
          },
          "type": "line",
          "x0": 260,
          "x1": 260,
          "xref": "x",
          "y0": -1,
          "y1": -3.5,
          "yref": "y"
         },
         {
          "line": {
           "color": "Black",
           "width": 0.5
          },
          "type": "line",
          "x0": 270,
          "x1": 270,
          "xref": "x",
          "y0": -3.5,
          "y1": -6,
          "yref": "y"
         },
         {
          "line": {
           "color": "Black",
           "width": 0.5
          },
          "type": "line",
          "x0": 270,
          "x1": 270,
          "xref": "x",
          "y0": -1,
          "y1": -3.5,
          "yref": "y"
         },
         {
          "line": {
           "color": "Black",
           "width": 0.5
          },
          "type": "line",
          "x0": 280,
          "x1": 280,
          "xref": "x",
          "y0": -6,
          "y1": -9,
          "yref": "y"
         },
         {
          "line": {
           "color": "Black",
           "width": 0.5
          },
          "type": "line",
          "x0": 280,
          "x1": 280,
          "xref": "x",
          "y0": -3.5,
          "y1": -6,
          "yref": "y"
         },
         {
          "line": {
           "color": "Black",
           "width": 0.5
          },
          "type": "line",
          "x0": 280,
          "x1": 280,
          "xref": "x",
          "y0": -1,
          "y1": -3.5,
          "yref": "y"
         },
         {
          "line": {
           "color": "Black",
           "width": 0.5
          },
          "type": "line",
          "x0": 290,
          "x1": 290,
          "xref": "x",
          "y0": -6,
          "y1": -9,
          "yref": "y"
         },
         {
          "line": {
           "color": "Black",
           "width": 0.5
          },
          "type": "line",
          "x0": 290,
          "x1": 290,
          "xref": "x",
          "y0": -3.5,
          "y1": -6,
          "yref": "y"
         },
         {
          "line": {
           "color": "Black",
           "width": 0.5
          },
          "type": "line",
          "x0": 290,
          "x1": 290,
          "xref": "x",
          "y0": -1,
          "y1": -3.5,
          "yref": "y"
         },
         {
          "line": {
           "color": "Black",
           "width": 0.5
          },
          "type": "line",
          "x0": 300,
          "x1": 300,
          "xref": "x",
          "y0": -3.5,
          "y1": -6,
          "yref": "y"
         },
         {
          "line": {
           "color": "Black",
           "width": 0.5
          },
          "type": "line",
          "x0": 300,
          "x1": 300,
          "xref": "x",
          "y0": -1,
          "y1": -3.5,
          "yref": "y"
         },
         {
          "line": {
           "color": "Black",
           "width": 0.5
          },
          "type": "line",
          "x0": 310,
          "x1": 310,
          "xref": "x",
          "y0": -3.5,
          "y1": -6,
          "yref": "y"
         },
         {
          "line": {
           "color": "Black",
           "width": 0.5
          },
          "type": "line",
          "x0": 310,
          "x1": 310,
          "xref": "x",
          "y0": -1,
          "y1": -3.5,
          "yref": "y"
         },
         {
          "line": {
           "color": "Black",
           "width": 0.5
          },
          "type": "line",
          "x0": 320,
          "x1": 320,
          "xref": "x",
          "y0": -6,
          "y1": -9,
          "yref": "y"
         },
         {
          "line": {
           "color": "Black",
           "width": 0.5
          },
          "type": "line",
          "x0": 320,
          "x1": 320,
          "xref": "x",
          "y0": -3.5,
          "y1": -6,
          "yref": "y"
         },
         {
          "line": {
           "color": "Black",
           "width": 0.5
          },
          "type": "line",
          "x0": 320,
          "x1": 320,
          "xref": "x",
          "y0": -1,
          "y1": -3.5,
          "yref": "y"
         },
         {
          "line": {
           "color": "Black",
           "width": 0.5
          },
          "type": "line",
          "x0": 330,
          "x1": 330,
          "xref": "x",
          "y0": -1,
          "y1": -9,
          "yref": "y"
         }
        ],
        "template": {
         "data": {
          "bar": [
           {
            "error_x": {
             "color": "#2a3f5f"
            },
            "error_y": {
             "color": "#2a3f5f"
            },
            "marker": {
             "line": {
              "color": "#E5ECF6",
              "width": 0.5
             }
            },
            "type": "bar"
           }
          ],
          "barpolar": [
           {
            "marker": {
             "line": {
              "color": "#E5ECF6",
              "width": 0.5
             }
            },
            "type": "barpolar"
           }
          ],
          "carpet": [
           {
            "aaxis": {
             "endlinecolor": "#2a3f5f",
             "gridcolor": "white",
             "linecolor": "white",
             "minorgridcolor": "white",
             "startlinecolor": "#2a3f5f"
            },
            "baxis": {
             "endlinecolor": "#2a3f5f",
             "gridcolor": "white",
             "linecolor": "white",
             "minorgridcolor": "white",
             "startlinecolor": "#2a3f5f"
            },
            "type": "carpet"
           }
          ],
          "choropleth": [
           {
            "colorbar": {
             "outlinewidth": 0,
             "ticks": ""
            },
            "type": "choropleth"
           }
          ],
          "contour": [
           {
            "colorbar": {
             "outlinewidth": 0,
             "ticks": ""
            },
            "colorscale": [
             [
              0,
              "#0d0887"
             ],
             [
              0.1111111111111111,
              "#46039f"
             ],
             [
              0.2222222222222222,
              "#7201a8"
             ],
             [
              0.3333333333333333,
              "#9c179e"
             ],
             [
              0.4444444444444444,
              "#bd3786"
             ],
             [
              0.5555555555555556,
              "#d8576b"
             ],
             [
              0.6666666666666666,
              "#ed7953"
             ],
             [
              0.7777777777777778,
              "#fb9f3a"
             ],
             [
              0.8888888888888888,
              "#fdca26"
             ],
             [
              1,
              "#f0f921"
             ]
            ],
            "type": "contour"
           }
          ],
          "contourcarpet": [
           {
            "colorbar": {
             "outlinewidth": 0,
             "ticks": ""
            },
            "type": "contourcarpet"
           }
          ],
          "heatmap": [
           {
            "colorbar": {
             "outlinewidth": 0,
             "ticks": ""
            },
            "colorscale": [
             [
              0,
              "#0d0887"
             ],
             [
              0.1111111111111111,
              "#46039f"
             ],
             [
              0.2222222222222222,
              "#7201a8"
             ],
             [
              0.3333333333333333,
              "#9c179e"
             ],
             [
              0.4444444444444444,
              "#bd3786"
             ],
             [
              0.5555555555555556,
              "#d8576b"
             ],
             [
              0.6666666666666666,
              "#ed7953"
             ],
             [
              0.7777777777777778,
              "#fb9f3a"
             ],
             [
              0.8888888888888888,
              "#fdca26"
             ],
             [
              1,
              "#f0f921"
             ]
            ],
            "type": "heatmap"
           }
          ],
          "heatmapgl": [
           {
            "colorbar": {
             "outlinewidth": 0,
             "ticks": ""
            },
            "colorscale": [
             [
              0,
              "#0d0887"
             ],
             [
              0.1111111111111111,
              "#46039f"
             ],
             [
              0.2222222222222222,
              "#7201a8"
             ],
             [
              0.3333333333333333,
              "#9c179e"
             ],
             [
              0.4444444444444444,
              "#bd3786"
             ],
             [
              0.5555555555555556,
              "#d8576b"
             ],
             [
              0.6666666666666666,
              "#ed7953"
             ],
             [
              0.7777777777777778,
              "#fb9f3a"
             ],
             [
              0.8888888888888888,
              "#fdca26"
             ],
             [
              1,
              "#f0f921"
             ]
            ],
            "type": "heatmapgl"
           }
          ],
          "histogram": [
           {
            "marker": {
             "colorbar": {
              "outlinewidth": 0,
              "ticks": ""
             }
            },
            "type": "histogram"
           }
          ],
          "histogram2d": [
           {
            "colorbar": {
             "outlinewidth": 0,
             "ticks": ""
            },
            "colorscale": [
             [
              0,
              "#0d0887"
             ],
             [
              0.1111111111111111,
              "#46039f"
             ],
             [
              0.2222222222222222,
              "#7201a8"
             ],
             [
              0.3333333333333333,
              "#9c179e"
             ],
             [
              0.4444444444444444,
              "#bd3786"
             ],
             [
              0.5555555555555556,
              "#d8576b"
             ],
             [
              0.6666666666666666,
              "#ed7953"
             ],
             [
              0.7777777777777778,
              "#fb9f3a"
             ],
             [
              0.8888888888888888,
              "#fdca26"
             ],
             [
              1,
              "#f0f921"
             ]
            ],
            "type": "histogram2d"
           }
          ],
          "histogram2dcontour": [
           {
            "colorbar": {
             "outlinewidth": 0,
             "ticks": ""
            },
            "colorscale": [
             [
              0,
              "#0d0887"
             ],
             [
              0.1111111111111111,
              "#46039f"
             ],
             [
              0.2222222222222222,
              "#7201a8"
             ],
             [
              0.3333333333333333,
              "#9c179e"
             ],
             [
              0.4444444444444444,
              "#bd3786"
             ],
             [
              0.5555555555555556,
              "#d8576b"
             ],
             [
              0.6666666666666666,
              "#ed7953"
             ],
             [
              0.7777777777777778,
              "#fb9f3a"
             ],
             [
              0.8888888888888888,
              "#fdca26"
             ],
             [
              1,
              "#f0f921"
             ]
            ],
            "type": "histogram2dcontour"
           }
          ],
          "mesh3d": [
           {
            "colorbar": {
             "outlinewidth": 0,
             "ticks": ""
            },
            "type": "mesh3d"
           }
          ],
          "parcoords": [
           {
            "line": {
             "colorbar": {
              "outlinewidth": 0,
              "ticks": ""
             }
            },
            "type": "parcoords"
           }
          ],
          "pie": [
           {
            "automargin": true,
            "type": "pie"
           }
          ],
          "scatter": [
           {
            "marker": {
             "colorbar": {
              "outlinewidth": 0,
              "ticks": ""
             }
            },
            "type": "scatter"
           }
          ],
          "scatter3d": [
           {
            "line": {
             "colorbar": {
              "outlinewidth": 0,
              "ticks": ""
             }
            },
            "marker": {
             "colorbar": {
              "outlinewidth": 0,
              "ticks": ""
             }
            },
            "type": "scatter3d"
           }
          ],
          "scattercarpet": [
           {
            "marker": {
             "colorbar": {
              "outlinewidth": 0,
              "ticks": ""
             }
            },
            "type": "scattercarpet"
           }
          ],
          "scattergeo": [
           {
            "marker": {
             "colorbar": {
              "outlinewidth": 0,
              "ticks": ""
             }
            },
            "type": "scattergeo"
           }
          ],
          "scattergl": [
           {
            "marker": {
             "colorbar": {
              "outlinewidth": 0,
              "ticks": ""
             }
            },
            "type": "scattergl"
           }
          ],
          "scattermapbox": [
           {
            "marker": {
             "colorbar": {
              "outlinewidth": 0,
              "ticks": ""
             }
            },
            "type": "scattermapbox"
           }
          ],
          "scatterpolar": [
           {
            "marker": {
             "colorbar": {
              "outlinewidth": 0,
              "ticks": ""
             }
            },
            "type": "scatterpolar"
           }
          ],
          "scatterpolargl": [
           {
            "marker": {
             "colorbar": {
              "outlinewidth": 0,
              "ticks": ""
             }
            },
            "type": "scatterpolargl"
           }
          ],
          "scatterternary": [
           {
            "marker": {
             "colorbar": {
              "outlinewidth": 0,
              "ticks": ""
             }
            },
            "type": "scatterternary"
           }
          ],
          "surface": [
           {
            "colorbar": {
             "outlinewidth": 0,
             "ticks": ""
            },
            "colorscale": [
             [
              0,
              "#0d0887"
             ],
             [
              0.1111111111111111,
              "#46039f"
             ],
             [
              0.2222222222222222,
              "#7201a8"
             ],
             [
              0.3333333333333333,
              "#9c179e"
             ],
             [
              0.4444444444444444,
              "#bd3786"
             ],
             [
              0.5555555555555556,
              "#d8576b"
             ],
             [
              0.6666666666666666,
              "#ed7953"
             ],
             [
              0.7777777777777778,
              "#fb9f3a"
             ],
             [
              0.8888888888888888,
              "#fdca26"
             ],
             [
              1,
              "#f0f921"
             ]
            ],
            "type": "surface"
           }
          ],
          "table": [
           {
            "cells": {
             "fill": {
              "color": "#EBF0F8"
             },
             "line": {
              "color": "white"
             }
            },
            "header": {
             "fill": {
              "color": "#C8D4E3"
             },
             "line": {
              "color": "white"
             }
            },
            "type": "table"
           }
          ]
         },
         "layout": {
          "annotationdefaults": {
           "arrowcolor": "#2a3f5f",
           "arrowhead": 0,
           "arrowwidth": 1
          },
          "autotypenumbers": "strict",
          "coloraxis": {
           "colorbar": {
            "outlinewidth": 0,
            "ticks": ""
           }
          },
          "colorscale": {
           "diverging": [
            [
             0,
             "#8e0152"
            ],
            [
             0.1,
             "#c51b7d"
            ],
            [
             0.2,
             "#de77ae"
            ],
            [
             0.3,
             "#f1b6da"
            ],
            [
             0.4,
             "#fde0ef"
            ],
            [
             0.5,
             "#f7f7f7"
            ],
            [
             0.6,
             "#e6f5d0"
            ],
            [
             0.7,
             "#b8e186"
            ],
            [
             0.8,
             "#7fbc41"
            ],
            [
             0.9,
             "#4d9221"
            ],
            [
             1,
             "#276419"
            ]
           ],
           "sequential": [
            [
             0,
             "#0d0887"
            ],
            [
             0.1111111111111111,
             "#46039f"
            ],
            [
             0.2222222222222222,
             "#7201a8"
            ],
            [
             0.3333333333333333,
             "#9c179e"
            ],
            [
             0.4444444444444444,
             "#bd3786"
            ],
            [
             0.5555555555555556,
             "#d8576b"
            ],
            [
             0.6666666666666666,
             "#ed7953"
            ],
            [
             0.7777777777777778,
             "#fb9f3a"
            ],
            [
             0.8888888888888888,
             "#fdca26"
            ],
            [
             1,
             "#f0f921"
            ]
           ],
           "sequentialminus": [
            [
             0,
             "#0d0887"
            ],
            [
             0.1111111111111111,
             "#46039f"
            ],
            [
             0.2222222222222222,
             "#7201a8"
            ],
            [
             0.3333333333333333,
             "#9c179e"
            ],
            [
             0.4444444444444444,
             "#bd3786"
            ],
            [
             0.5555555555555556,
             "#d8576b"
            ],
            [
             0.6666666666666666,
             "#ed7953"
            ],
            [
             0.7777777777777778,
             "#fb9f3a"
            ],
            [
             0.8888888888888888,
             "#fdca26"
            ],
            [
             1,
             "#f0f921"
            ]
           ]
          },
          "colorway": [
           "#636efa",
           "#EF553B",
           "#00cc96",
           "#ab63fa",
           "#FFA15A",
           "#19d3f3",
           "#FF6692",
           "#B6E880",
           "#FF97FF",
           "#FECB52"
          ],
          "font": {
           "color": "#2a3f5f"
          },
          "geo": {
           "bgcolor": "white",
           "lakecolor": "white",
           "landcolor": "#E5ECF6",
           "showlakes": true,
           "showland": true,
           "subunitcolor": "white"
          },
          "hoverlabel": {
           "align": "left"
          },
          "hovermode": "closest",
          "mapbox": {
           "style": "light"
          },
          "paper_bgcolor": "white",
          "plot_bgcolor": "#E5ECF6",
          "polar": {
           "angularaxis": {
            "gridcolor": "white",
            "linecolor": "white",
            "ticks": ""
           },
           "bgcolor": "#E5ECF6",
           "radialaxis": {
            "gridcolor": "white",
            "linecolor": "white",
            "ticks": ""
           }
          },
          "scene": {
           "xaxis": {
            "backgroundcolor": "#E5ECF6",
            "gridcolor": "white",
            "gridwidth": 2,
            "linecolor": "white",
            "showbackground": true,
            "ticks": "",
            "zerolinecolor": "white"
           },
           "yaxis": {
            "backgroundcolor": "#E5ECF6",
            "gridcolor": "white",
            "gridwidth": 2,
            "linecolor": "white",
            "showbackground": true,
            "ticks": "",
            "zerolinecolor": "white"
           },
           "zaxis": {
            "backgroundcolor": "#E5ECF6",
            "gridcolor": "white",
            "gridwidth": 2,
            "linecolor": "white",
            "showbackground": true,
            "ticks": "",
            "zerolinecolor": "white"
           }
          },
          "shapedefaults": {
           "line": {
            "color": "#2a3f5f"
           }
          },
          "ternary": {
           "aaxis": {
            "gridcolor": "white",
            "linecolor": "white",
            "ticks": ""
           },
           "baxis": {
            "gridcolor": "white",
            "linecolor": "white",
            "ticks": ""
           },
           "bgcolor": "#E5ECF6",
           "caxis": {
            "gridcolor": "white",
            "linecolor": "white",
            "ticks": ""
           }
          },
          "title": {
           "x": 0.05
          },
          "xaxis": {
           "automargin": true,
           "gridcolor": "white",
           "linecolor": "white",
           "ticks": "",
           "title": {
            "standoff": 15
           },
           "zerolinecolor": "white",
           "zerolinewidth": 2
          },
          "yaxis": {
           "automargin": true,
           "gridcolor": "white",
           "linecolor": "white",
           "ticks": "",
           "title": {
            "standoff": 15
           },
           "zerolinecolor": "white",
           "zerolinewidth": 2
          }
         }
        },
        "width": 2000,
        "xaxis": {
         "showgrid": false,
         "showticklabels": false,
         "ticktext": [
          "* - * - *",
          "*instances01 - * - *",
          "*instances1.5x - * - *",
          "*instances23 - * - *",
          "Brain - * - *",
          "Brain - Cognitive - *",
          "Brain - MRI - *",
          "Eyes - * - *",
          "Eyes - All - *",
          "Eyes - Fundus - Raw",
          "Eyes - OCT - Raw",
          "Hearing - * - *",
          "Lungs - * - *",
          "Arterial - * - *",
          "Arterial - Carotids - *",
          "Arterial - PulseWaveAnalysis - *",
          "Heart - * - *",
          "Heart - ECG - *",
          "Heart - MRI - *",
          "Abdomen - * - *",
          "Abdomen - Liver - *",
          "Abdomen - Pancreas - *",
          "Musculoskeletal - * - *",
          "Musculoskeletal - FullBody - *",
          "Musculoskeletal - Hips - *",
          "Musculoskeletal - Knees - *",
          "Musculoskeletal - Scalars - *",
          "Musculoskeletal - Spine - *",
          "PhysicalActivity - * - *",
          "Biochemistry - * - *",
          "Biochemistry - Blood - *",
          "Biochemistry - Urine - Scalars",
          "BloodCells - BloodCount - Scalars"
         ],
         "tickvals": [
          5,
          15,
          25,
          35,
          45,
          55,
          65,
          75,
          85,
          95,
          105,
          115,
          125,
          135,
          145,
          155,
          165,
          175,
          185,
          195,
          205,
          215,
          225,
          235,
          245,
          255,
          265,
          275,
          285,
          295,
          305,
          315,
          325
         ],
         "zeroline": false
        },
        "yaxis": {
         "showgrid": false,
         "title": {
          "text": "RMSE"
         },
         "zeroline": false
        }
       }
      },
      "text/html": "<div>                            <div id=\"6d7af5d5-18e2-42d0-a71a-68bb4772dbf7\" class=\"plotly-graph-div\" style=\"height:800px; width:2000px;\"></div>            <script type=\"text/javascript\">                require([\"plotly\"], function(Plotly) {                    window.PLOTLYENV=window.PLOTLYENV || {};                                    if (document.getElementById(\"6d7af5d5-18e2-42d0-a71a-68bb4772dbf7\")) {                    Plotly.newPlot(                        \"6d7af5d5-18e2-42d0-a71a-68bb4772dbf7\",                        [{\"customdata\": [[\"0.0996471946307259\", \"216\", \"*\"], [\"0.1436054578654563\", \"247\", \"*\"], [\"0.0127784349238899\", \"77317\", \"*\"], [\"0.0338997808111398\", \"2401\", \"*\"], [\"0.0143262993527528\", \"34445\", \"*\"], [\"0.0150392091128253\", \"43139\", \"*\"], [\"0.015692701891834\", \"34524\", \"*\"], [\"0.0328067183863045\", \"8009\", \"*\"], [\"0.034983133943064\", \"8357\", \"*\"], [\"0.009275768389468\", \"206535\", \"*\"], [\"0.0153055305523999\", \"73992\", \"*\"], [\"0.0086536753312037\", \"241155\", \"*\"], [\"0.0112884959431969\", \"155603\", \"*\"], [\"0.0181716147126482\", \"24159\", \"*\"], [\"0.0222010548103827\", \"31720\", \"*\"], [\"0.0147325596983539\", \"37402\", \"*\"], [\"0.0109001999647103\", \"57230\", \"*\"], [\"0.0143048302225366\", \"91360\", \"*\"], [\"0.0117205304915814\", \"82365\", \"*\"], [\"0.0118729152602091\", \"85364\", \"*\"], [\"0.01023440923689\", \"201277\", \"*\"], [\"0.016087279043694\", \"16709\", \"*\"], [\"0.0253305913283625\", \"21793\", \"*\"], [\"0.0116958493159964\", \"34091\", \"*\"], [\"0.006230220893627\", \"471001\", \"*\"], [\"0.0070423344195764\", \"381162\", \"*\"], [\"0.0099057374389188\", \"37367\", \"*\"], [\"0.010395931969897\", \"41092\", \"*\"], [\"0.0151963423899122\", \"41076\", \"*\"], [\"0.015687034156919\", \"38910\", \"*\"], [\"0.0065978639179406\", \"441571\", \"*\"], [\"0.0135532755101555\", \"40059\", \"*\"], [\"0.0128161847855935\", \"77317\", \"*\"]], \"error_y\": {\"array\": [0.0996471946307259, 0.1436054578654563, 0.0127784349238899, 0.0338997808111398, 0.0143262993527528, 0.0150392091128253, 0.015692701891834, 0.0328067183863045, 0.034983133943064, 0.009275768389468, 0.0153055305523999, 0.0086536753312037, 0.0112884959431969, 0.0181716147126482, 0.0222010548103827, 0.0147325596983539, 0.0109001999647103, 0.0143048302225366, 0.0117205304915814, 0.0118729152602091, 0.01023440923689, 0.016087279043694, 0.0253305913283625, 0.0116958493159964, 0.006230220893627, 0.0070423344195764, 0.0099057374389188, 0.010395931969897, 0.0151963423899122, 0.015687034156919, 0.0065978639179406, 0.0135532755101555, 0.0128161847855935], \"type\": \"data\"}, \"hovertemplate\": \"%{x}, score: %{y:.3f} +- %{customdata[0]:.3f}, sample size: %{customdata[1]} <extra>%{customdata[2]}</extra>\", \"name\": \"*\", \"type\": \"bar\", \"x\": [5, 15, 25, 35, 195, 205, 215, 135, 145, 155, 295, 305, 315, 45, 55, 65, 75, 85, 95, 105, 115, 165, 175, 185, 325, 125, 225, 235, 245, 255, 265, 275, 285], \"y\": [2.397540405035996, 3.3046325330790864, 4.7426475131760535, 2.245282693759264, 3.703100611044447, 4.076546682926011, 4.139197311760378, 4.237364540459791, 4.47186902549316, 6.302493745735654, 5.8006229215274905, 5.906254498048093, 7.7102348558225025, 3.5697395606101274, 5.895552239099307, 3.7326574642045567, 3.3555241640166487, 6.554844866531948, 3.9877894335525768, 4.465675483321699, 6.970512826933957, 2.8247349363047367, 5.905205407108723, 2.878553554109877, 7.595316758273452, 6.999896306149533, 2.6645284698461498, 2.8611586035354555, 4.208769039920911, 4.206793836699337, 7.004382410589819, 3.8164034395323263, 4.756229494365955]}],                        {\"annotations\": [{\"font\": {\"size\": 13}, \"showarrow\": false, \"text\": \"*\", \"textangle\": 90, \"x\": 5.0, \"xref\": \"x\", \"y\": -7.5, \"yref\": \"y\"}, {\"font\": {\"size\": 8}, \"showarrow\": false, \"text\": \"*\", \"textangle\": 90, \"x\": 5.0, \"xref\": \"x\", \"y\": -4.75, \"yref\": \"y\"}, {\"font\": {\"size\": 5}, \"showarrow\": false, \"text\": \"*\", \"textangle\": 90, \"x\": 5.0, \"xref\": \"x\", \"y\": -2.25, \"yref\": \"y\"}, {\"font\": {\"size\": 13}, \"showarrow\": false, \"text\": \"*instances01\", \"textangle\": 90, \"x\": 15.0, \"xref\": \"x\", \"y\": -7.5, \"yref\": \"y\"}, {\"font\": {\"size\": 8}, \"showarrow\": false, \"text\": \"*\", \"textangle\": 90, \"x\": 15.0, \"xref\": \"x\", \"y\": -4.75, \"yref\": \"y\"}, {\"font\": {\"size\": 5}, \"showarrow\": false, \"text\": \"*\", \"textangle\": 90, \"x\": 15.0, \"xref\": \"x\", \"y\": -2.25, \"yref\": \"y\"}, {\"font\": {\"size\": 13}, \"showarrow\": false, \"text\": \"*instances1.5x\", \"textangle\": 90, \"x\": 25.0, \"xref\": \"x\", \"y\": -7.5, \"yref\": \"y\"}, {\"font\": {\"size\": 8}, \"showarrow\": false, \"text\": \"*\", \"textangle\": 90, \"x\": 25.0, \"xref\": \"x\", \"y\": -4.75, \"yref\": \"y\"}, {\"font\": {\"size\": 5}, \"showarrow\": false, \"text\": \"*\", \"textangle\": 90, \"x\": 25.0, \"xref\": \"x\", \"y\": -2.25, \"yref\": \"y\"}, {\"font\": {\"size\": 13}, \"showarrow\": false, \"text\": \"*instances23\", \"textangle\": 90, \"x\": 35.0, \"xref\": \"x\", \"y\": -7.5, \"yref\": \"y\"}, {\"font\": {\"size\": 8}, \"showarrow\": false, \"text\": \"*\", \"textangle\": 90, \"x\": 35.0, \"xref\": \"x\", \"y\": -4.75, \"yref\": \"y\"}, {\"font\": {\"size\": 5}, \"showarrow\": false, \"text\": \"*\", \"textangle\": 90, \"x\": 35.0, \"xref\": \"x\", \"y\": -2.25, \"yref\": \"y\"}, {\"font\": {\"size\": 13}, \"showarrow\": false, \"text\": \"Brain\", \"textangle\": 90, \"x\": 55.0, \"xref\": \"x\", \"y\": -7.5, \"yref\": \"y\"}, {\"font\": {\"size\": 8}, \"showarrow\": false, \"text\": \"*\", \"textangle\": 90, \"x\": 45.0, \"xref\": \"x\", \"y\": -4.75, \"yref\": \"y\"}, {\"font\": {\"size\": 5}, \"showarrow\": false, \"text\": \"*\", \"textangle\": 90, \"x\": 45.0, \"xref\": \"x\", \"y\": -2.25, \"yref\": \"y\"}, {\"font\": {\"size\": 8}, \"showarrow\": false, \"text\": \"Cognitive\", \"textangle\": 90, \"x\": 55.0, \"xref\": \"x\", \"y\": -4.75, \"yref\": \"y\"}, {\"font\": {\"size\": 5}, \"showarrow\": false, \"text\": \"*\", \"textangle\": 90, \"x\": 55.0, \"xref\": \"x\", \"y\": -2.25, \"yref\": \"y\"}, {\"font\": {\"size\": 8}, \"showarrow\": false, \"text\": \"MRI\", \"textangle\": 90, \"x\": 65.0, \"xref\": \"x\", \"y\": -4.75, \"yref\": \"y\"}, {\"font\": {\"size\": 5}, \"showarrow\": false, \"text\": \"*\", \"textangle\": 90, \"x\": 65.0, \"xref\": \"x\", \"y\": -2.25, \"yref\": \"y\"}, {\"font\": {\"size\": 13}, \"showarrow\": false, \"text\": \"Eyes\", \"textangle\": 90, \"x\": 90.0, \"xref\": \"x\", \"y\": -7.5, \"yref\": \"y\"}, {\"font\": {\"size\": 8}, \"showarrow\": false, \"text\": \"*\", \"textangle\": 90, \"x\": 75.0, \"xref\": \"x\", \"y\": -4.75, \"yref\": \"y\"}, {\"font\": {\"size\": 5}, \"showarrow\": false, \"text\": \"*\", \"textangle\": 90, \"x\": 75.0, \"xref\": \"x\", \"y\": -2.25, \"yref\": \"y\"}, {\"font\": {\"size\": 8}, \"showarrow\": false, \"text\": \"All\", \"textangle\": 90, \"x\": 85.0, \"xref\": \"x\", \"y\": -4.75, \"yref\": \"y\"}, {\"font\": {\"size\": 5}, \"showarrow\": false, \"text\": \"*\", \"textangle\": 90, \"x\": 85.0, \"xref\": \"x\", \"y\": -2.25, \"yref\": \"y\"}, {\"font\": {\"size\": 8}, \"showarrow\": false, \"text\": \"Fundus\", \"textangle\": 90, \"x\": 95.0, \"xref\": \"x\", \"y\": -4.75, \"yref\": \"y\"}, {\"font\": {\"size\": 5}, \"showarrow\": false, \"text\": \"Raw\", \"textangle\": 90, \"x\": 95.0, \"xref\": \"x\", \"y\": -2.25, \"yref\": \"y\"}, {\"font\": {\"size\": 8}, \"showarrow\": false, \"text\": \"OCT\", \"textangle\": 90, \"x\": 105.0, \"xref\": \"x\", \"y\": -4.75, \"yref\": \"y\"}, {\"font\": {\"size\": 5}, \"showarrow\": false, \"text\": \"Raw\", \"textangle\": 90, \"x\": 105.0, \"xref\": \"x\", \"y\": -2.25, \"yref\": \"y\"}, {\"font\": {\"size\": 13}, \"showarrow\": false, \"text\": \"Hearing\", \"textangle\": 90, \"x\": 115.0, \"xref\": \"x\", \"y\": -7.5, \"yref\": \"y\"}, {\"font\": {\"size\": 8}, \"showarrow\": false, \"text\": \"*\", \"textangle\": 90, \"x\": 115.0, \"xref\": \"x\", \"y\": -4.75, \"yref\": \"y\"}, {\"font\": {\"size\": 5}, \"showarrow\": false, \"text\": \"*\", \"textangle\": 90, \"x\": 115.0, \"xref\": \"x\", \"y\": -2.25, \"yref\": \"y\"}, {\"font\": {\"size\": 13}, \"showarrow\": false, \"text\": \"Lungs\", \"textangle\": 90, \"x\": 125.0, \"xref\": \"x\", \"y\": -7.5, \"yref\": \"y\"}, {\"font\": {\"size\": 8}, \"showarrow\": false, \"text\": \"*\", \"textangle\": 90, \"x\": 125.0, \"xref\": \"x\", \"y\": -4.75, \"yref\": \"y\"}, {\"font\": {\"size\": 5}, \"showarrow\": false, \"text\": \"*\", \"textangle\": 90, \"x\": 125.0, \"xref\": \"x\", \"y\": -2.25, \"yref\": \"y\"}, {\"font\": {\"size\": 13}, \"showarrow\": false, \"text\": \"Arterial\", \"textangle\": 90, \"x\": 145.0, \"xref\": \"x\", \"y\": -7.5, \"yref\": \"y\"}, {\"font\": {\"size\": 8}, \"showarrow\": false, \"text\": \"*\", \"textangle\": 90, \"x\": 135.0, \"xref\": \"x\", \"y\": -4.75, \"yref\": \"y\"}, {\"font\": {\"size\": 5}, \"showarrow\": false, \"text\": \"*\", \"textangle\": 90, \"x\": 135.0, \"xref\": \"x\", \"y\": -2.25, \"yref\": \"y\"}, {\"font\": {\"size\": 8}, \"showarrow\": false, \"text\": \"Carotids\", \"textangle\": 90, \"x\": 145.0, \"xref\": \"x\", \"y\": -4.75, \"yref\": \"y\"}, {\"font\": {\"size\": 5}, \"showarrow\": false, \"text\": \"*\", \"textangle\": 90, \"x\": 145.0, \"xref\": \"x\", \"y\": -2.25, \"yref\": \"y\"}, {\"font\": {\"size\": 8}, \"showarrow\": false, \"text\": \"PulseWaveAnalysis\", \"textangle\": 90, \"x\": 155.0, \"xref\": \"x\", \"y\": -4.75, \"yref\": \"y\"}, {\"font\": {\"size\": 5}, \"showarrow\": false, \"text\": \"*\", \"textangle\": 90, \"x\": 155.0, \"xref\": \"x\", \"y\": -2.25, \"yref\": \"y\"}, {\"font\": {\"size\": 13}, \"showarrow\": false, \"text\": \"Heart\", \"textangle\": 90, \"x\": 175.0, \"xref\": \"x\", \"y\": -7.5, \"yref\": \"y\"}, {\"font\": {\"size\": 8}, \"showarrow\": false, \"text\": \"*\", \"textangle\": 90, \"x\": 165.0, \"xref\": \"x\", \"y\": -4.75, \"yref\": \"y\"}, {\"font\": {\"size\": 5}, \"showarrow\": false, \"text\": \"*\", \"textangle\": 90, \"x\": 165.0, \"xref\": \"x\", \"y\": -2.25, \"yref\": \"y\"}, {\"font\": {\"size\": 8}, \"showarrow\": false, \"text\": \"ECG\", \"textangle\": 90, \"x\": 175.0, \"xref\": \"x\", \"y\": -4.75, \"yref\": \"y\"}, {\"font\": {\"size\": 5}, \"showarrow\": false, \"text\": \"*\", \"textangle\": 90, \"x\": 175.0, \"xref\": \"x\", \"y\": -2.25, \"yref\": \"y\"}, {\"font\": {\"size\": 8}, \"showarrow\": false, \"text\": \"MRI\", \"textangle\": 90, \"x\": 185.0, \"xref\": \"x\", \"y\": -4.75, \"yref\": \"y\"}, {\"font\": {\"size\": 5}, \"showarrow\": false, \"text\": \"*\", \"textangle\": 90, \"x\": 185.0, \"xref\": \"x\", \"y\": -2.25, \"yref\": \"y\"}, {\"font\": {\"size\": 13}, \"showarrow\": false, \"text\": \"Abdomen\", \"textangle\": 90, \"x\": 205.0, \"xref\": \"x\", \"y\": -7.5, \"yref\": \"y\"}, {\"font\": {\"size\": 8}, \"showarrow\": false, \"text\": \"*\", \"textangle\": 90, \"x\": 195.0, \"xref\": \"x\", \"y\": -4.75, \"yref\": \"y\"}, {\"font\": {\"size\": 5}, \"showarrow\": false, \"text\": \"*\", \"textangle\": 90, \"x\": 195.0, \"xref\": \"x\", \"y\": -2.25, \"yref\": \"y\"}, {\"font\": {\"size\": 8}, \"showarrow\": false, \"text\": \"Liver\", \"textangle\": 90, \"x\": 205.0, \"xref\": \"x\", \"y\": -4.75, \"yref\": \"y\"}, {\"font\": {\"size\": 5}, \"showarrow\": false, \"text\": \"*\", \"textangle\": 90, \"x\": 205.0, \"xref\": \"x\", \"y\": -2.25, \"yref\": \"y\"}, {\"font\": {\"size\": 8}, \"showarrow\": false, \"text\": \"Pancreas\", \"textangle\": 90, \"x\": 215.0, \"xref\": \"x\", \"y\": -4.75, \"yref\": \"y\"}, {\"font\": {\"size\": 5}, \"showarrow\": false, \"text\": \"*\", \"textangle\": 90, \"x\": 215.0, \"xref\": \"x\", \"y\": -2.25, \"yref\": \"y\"}, {\"font\": {\"size\": 13}, \"showarrow\": false, \"text\": \"Musculoskeletal\", \"textangle\": 90, \"x\": 250.0, \"xref\": \"x\", \"y\": -7.5, \"yref\": \"y\"}, {\"font\": {\"size\": 8}, \"showarrow\": false, \"text\": \"*\", \"textangle\": 90, \"x\": 225.0, \"xref\": \"x\", \"y\": -4.75, \"yref\": \"y\"}, {\"font\": {\"size\": 5}, \"showarrow\": false, \"text\": \"*\", \"textangle\": 90, \"x\": 225.0, \"xref\": \"x\", \"y\": -2.25, \"yref\": \"y\"}, {\"font\": {\"size\": 8}, \"showarrow\": false, \"text\": \"FullBody\", \"textangle\": 90, \"x\": 235.0, \"xref\": \"x\", \"y\": -4.75, \"yref\": \"y\"}, {\"font\": {\"size\": 5}, \"showarrow\": false, \"text\": \"*\", \"textangle\": 90, \"x\": 235.0, \"xref\": \"x\", \"y\": -2.25, \"yref\": \"y\"}, {\"font\": {\"size\": 8}, \"showarrow\": false, \"text\": \"Hips\", \"textangle\": 90, \"x\": 245.0, \"xref\": \"x\", \"y\": -4.75, \"yref\": \"y\"}, {\"font\": {\"size\": 5}, \"showarrow\": false, \"text\": \"*\", \"textangle\": 90, \"x\": 245.0, \"xref\": \"x\", \"y\": -2.25, \"yref\": \"y\"}, {\"font\": {\"size\": 8}, \"showarrow\": false, \"text\": \"Knees\", \"textangle\": 90, \"x\": 255.0, \"xref\": \"x\", \"y\": -4.75, \"yref\": \"y\"}, {\"font\": {\"size\": 5}, \"showarrow\": false, \"text\": \"*\", \"textangle\": 90, \"x\": 255.0, \"xref\": \"x\", \"y\": -2.25, \"yref\": \"y\"}, {\"font\": {\"size\": 8}, \"showarrow\": false, \"text\": \"Scalars\", \"textangle\": 90, \"x\": 265.0, \"xref\": \"x\", \"y\": -4.75, \"yref\": \"y\"}, {\"font\": {\"size\": 5}, \"showarrow\": false, \"text\": \"*\", \"textangle\": 90, \"x\": 265.0, \"xref\": \"x\", \"y\": -2.25, \"yref\": \"y\"}, {\"font\": {\"size\": 8}, \"showarrow\": false, \"text\": \"Spine\", \"textangle\": 90, \"x\": 275.0, \"xref\": \"x\", \"y\": -4.75, \"yref\": \"y\"}, {\"font\": {\"size\": 5}, \"showarrow\": false, \"text\": \"*\", \"textangle\": 90, \"x\": 275.0, \"xref\": \"x\", \"y\": -2.25, \"yref\": \"y\"}, {\"font\": {\"size\": 13}, \"showarrow\": false, \"text\": \"PhysicalActivity\", \"textangle\": 90, \"x\": 285.0, \"xref\": \"x\", \"y\": -7.5, \"yref\": \"y\"}, {\"font\": {\"size\": 8}, \"showarrow\": false, \"text\": \"*\", \"textangle\": 90, \"x\": 285.0, \"xref\": \"x\", \"y\": -4.75, \"yref\": \"y\"}, {\"font\": {\"size\": 5}, \"showarrow\": false, \"text\": \"*\", \"textangle\": 90, \"x\": 285.0, \"xref\": \"x\", \"y\": -2.25, \"yref\": \"y\"}, {\"font\": {\"size\": 13}, \"showarrow\": false, \"text\": \"Biochemistry\", \"textangle\": 90, \"x\": 305.0, \"xref\": \"x\", \"y\": -7.5, \"yref\": \"y\"}, {\"font\": {\"size\": 8}, \"showarrow\": false, \"text\": \"*\", \"textangle\": 90, \"x\": 295.0, \"xref\": \"x\", \"y\": -4.75, \"yref\": \"y\"}, {\"font\": {\"size\": 5}, \"showarrow\": false, \"text\": \"*\", \"textangle\": 90, \"x\": 295.0, \"xref\": \"x\", \"y\": -2.25, \"yref\": \"y\"}, {\"font\": {\"size\": 8}, \"showarrow\": false, \"text\": \"Blood\", \"textangle\": 90, \"x\": 305.0, \"xref\": \"x\", \"y\": -4.75, \"yref\": \"y\"}, {\"font\": {\"size\": 5}, \"showarrow\": false, \"text\": \"*\", \"textangle\": 90, \"x\": 305.0, \"xref\": \"x\", \"y\": -2.25, \"yref\": \"y\"}, {\"font\": {\"size\": 8}, \"showarrow\": false, \"text\": \"Urine\", \"textangle\": 90, \"x\": 315.0, \"xref\": \"x\", \"y\": -4.75, \"yref\": \"y\"}, {\"font\": {\"size\": 5}, \"showarrow\": false, \"text\": \"Scalars\", \"textangle\": 90, \"x\": 315.0, \"xref\": \"x\", \"y\": -2.25, \"yref\": \"y\"}, {\"font\": {\"size\": 13}, \"showarrow\": false, \"text\": \"BloodCells\", \"textangle\": 90, \"x\": 325.0, \"xref\": \"x\", \"y\": -7.5, \"yref\": \"y\"}, {\"font\": {\"size\": 8}, \"showarrow\": false, \"text\": \"BloodCount\", \"textangle\": 90, \"x\": 325.0, \"xref\": \"x\", \"y\": -4.75, \"yref\": \"y\"}, {\"font\": {\"size\": 5}, \"showarrow\": false, \"text\": \"Scalars\", \"textangle\": 90, \"x\": 325.0, \"xref\": \"x\", \"y\": -2.25, \"yref\": \"y\"}], \"height\": 800, \"shapes\": [{\"line\": {\"color\": \"Black\", \"width\": 0.5}, \"type\": \"line\", \"x0\": 0.0, \"x1\": 0.0, \"xref\": \"x\", \"y0\": -6, \"y1\": -9, \"yref\": \"y\"}, {\"line\": {\"color\": \"Black\", \"width\": 0.5}, \"type\": \"line\", \"x0\": 0.0, \"x1\": 0.0, \"xref\": \"x\", \"y0\": -3.5, \"y1\": -6, \"yref\": \"y\"}, {\"line\": {\"color\": \"Black\", \"width\": 0.5}, \"type\": \"line\", \"x0\": 0.0, \"x1\": 0.0, \"xref\": \"x\", \"y0\": -1, \"y1\": -3.5, \"yref\": \"y\"}, {\"line\": {\"color\": \"Black\", \"width\": 0.5}, \"type\": \"line\", \"x0\": 10.0, \"x1\": 10.0, \"xref\": \"x\", \"y0\": -6, \"y1\": -9, \"yref\": \"y\"}, {\"line\": {\"color\": \"Black\", \"width\": 0.5}, \"type\": \"line\", \"x0\": 10.0, \"x1\": 10.0, \"xref\": \"x\", \"y0\": -3.5, \"y1\": -6, \"yref\": \"y\"}, {\"line\": {\"color\": \"Black\", \"width\": 0.5}, \"type\": \"line\", \"x0\": 10.0, \"x1\": 10.0, \"xref\": \"x\", \"y0\": -1, \"y1\": -3.5, \"yref\": \"y\"}, {\"line\": {\"color\": \"Black\", \"width\": 0.5}, \"type\": \"line\", \"x0\": 20.0, \"x1\": 20.0, \"xref\": \"x\", \"y0\": -6, \"y1\": -9, \"yref\": \"y\"}, {\"line\": {\"color\": \"Black\", \"width\": 0.5}, \"type\": \"line\", \"x0\": 20.0, \"x1\": 20.0, \"xref\": \"x\", \"y0\": -3.5, \"y1\": -6, \"yref\": \"y\"}, {\"line\": {\"color\": \"Black\", \"width\": 0.5}, \"type\": \"line\", \"x0\": 20.0, \"x1\": 20.0, \"xref\": \"x\", \"y0\": -1, \"y1\": -3.5, \"yref\": \"y\"}, {\"line\": {\"color\": \"Black\", \"width\": 0.5}, \"type\": \"line\", \"x0\": 30.0, \"x1\": 30.0, \"xref\": \"x\", \"y0\": -6, \"y1\": -9, \"yref\": \"y\"}, {\"line\": {\"color\": \"Black\", \"width\": 0.5}, \"type\": \"line\", \"x0\": 30.0, \"x1\": 30.0, \"xref\": \"x\", \"y0\": -3.5, \"y1\": -6, \"yref\": \"y\"}, {\"line\": {\"color\": \"Black\", \"width\": 0.5}, \"type\": \"line\", \"x0\": 30.0, \"x1\": 30.0, \"xref\": \"x\", \"y0\": -1, \"y1\": -3.5, \"yref\": \"y\"}, {\"line\": {\"color\": \"Black\", \"width\": 0.5}, \"type\": \"line\", \"x0\": 40.0, \"x1\": 40.0, \"xref\": \"x\", \"y0\": -6, \"y1\": -9, \"yref\": \"y\"}, {\"line\": {\"color\": \"Black\", \"width\": 0.5}, \"type\": \"line\", \"x0\": 40.0, \"x1\": 40.0, \"xref\": \"x\", \"y0\": -3.5, \"y1\": -6, \"yref\": \"y\"}, {\"line\": {\"color\": \"Black\", \"width\": 0.5}, \"type\": \"line\", \"x0\": 40.0, \"x1\": 40.0, \"xref\": \"x\", \"y0\": -1, \"y1\": -3.5, \"yref\": \"y\"}, {\"line\": {\"color\": \"Black\", \"width\": 0.5}, \"type\": \"line\", \"x0\": 50.0, \"x1\": 50.0, \"xref\": \"x\", \"y0\": -3.5, \"y1\": -6, \"yref\": \"y\"}, {\"line\": {\"color\": \"Black\", \"width\": 0.5}, \"type\": \"line\", \"x0\": 50.0, \"x1\": 50.0, \"xref\": \"x\", \"y0\": -1, \"y1\": -3.5, \"yref\": \"y\"}, {\"line\": {\"color\": \"Black\", \"width\": 0.5}, \"type\": \"line\", \"x0\": 60.0, \"x1\": 60.0, \"xref\": \"x\", \"y0\": -3.5, \"y1\": -6, \"yref\": \"y\"}, {\"line\": {\"color\": \"Black\", \"width\": 0.5}, \"type\": \"line\", \"x0\": 60.0, \"x1\": 60.0, \"xref\": \"x\", \"y0\": -1, \"y1\": -3.5, \"yref\": \"y\"}, {\"line\": {\"color\": \"Black\", \"width\": 0.5}, \"type\": \"line\", \"x0\": 70.0, \"x1\": 70.0, \"xref\": \"x\", \"y0\": -6, \"y1\": -9, \"yref\": \"y\"}, {\"line\": {\"color\": \"Black\", \"width\": 0.5}, \"type\": \"line\", \"x0\": 70.0, \"x1\": 70.0, \"xref\": \"x\", \"y0\": -3.5, \"y1\": -6, \"yref\": \"y\"}, {\"line\": {\"color\": \"Black\", \"width\": 0.5}, \"type\": \"line\", \"x0\": 70.0, \"x1\": 70.0, \"xref\": \"x\", \"y0\": -1, \"y1\": -3.5, \"yref\": \"y\"}, {\"line\": {\"color\": \"Black\", \"width\": 0.5}, \"type\": \"line\", \"x0\": 80.0, \"x1\": 80.0, \"xref\": \"x\", \"y0\": -3.5, \"y1\": -6, \"yref\": \"y\"}, {\"line\": {\"color\": \"Black\", \"width\": 0.5}, \"type\": \"line\", \"x0\": 80.0, \"x1\": 80.0, \"xref\": \"x\", \"y0\": -1, \"y1\": -3.5, \"yref\": \"y\"}, {\"line\": {\"color\": \"Black\", \"width\": 0.5}, \"type\": \"line\", \"x0\": 90.0, \"x1\": 90.0, \"xref\": \"x\", \"y0\": -3.5, \"y1\": -6, \"yref\": \"y\"}, {\"line\": {\"color\": \"Black\", \"width\": 0.5}, \"type\": \"line\", \"x0\": 90.0, \"x1\": 90.0, \"xref\": \"x\", \"y0\": -1, \"y1\": -3.5, \"yref\": \"y\"}, {\"line\": {\"color\": \"Black\", \"width\": 0.5}, \"type\": \"line\", \"x0\": 100.0, \"x1\": 100.0, \"xref\": \"x\", \"y0\": -3.5, \"y1\": -6, \"yref\": \"y\"}, {\"line\": {\"color\": \"Black\", \"width\": 0.5}, \"type\": \"line\", \"x0\": 100.0, \"x1\": 100.0, \"xref\": \"x\", \"y0\": -1, \"y1\": -3.5, \"yref\": \"y\"}, {\"line\": {\"color\": \"Black\", \"width\": 0.5}, \"type\": \"line\", \"x0\": 110.0, \"x1\": 110.0, \"xref\": \"x\", \"y0\": -6, \"y1\": -9, \"yref\": \"y\"}, {\"line\": {\"color\": \"Black\", \"width\": 0.5}, \"type\": \"line\", \"x0\": 110.0, \"x1\": 110.0, \"xref\": \"x\", \"y0\": -3.5, \"y1\": -6, \"yref\": \"y\"}, {\"line\": {\"color\": \"Black\", \"width\": 0.5}, \"type\": \"line\", \"x0\": 110.0, \"x1\": 110.0, \"xref\": \"x\", \"y0\": -1, \"y1\": -3.5, \"yref\": \"y\"}, {\"line\": {\"color\": \"Black\", \"width\": 0.5}, \"type\": \"line\", \"x0\": 120.0, \"x1\": 120.0, \"xref\": \"x\", \"y0\": -6, \"y1\": -9, \"yref\": \"y\"}, {\"line\": {\"color\": \"Black\", \"width\": 0.5}, \"type\": \"line\", \"x0\": 120.0, \"x1\": 120.0, \"xref\": \"x\", \"y0\": -3.5, \"y1\": -6, \"yref\": \"y\"}, {\"line\": {\"color\": \"Black\", \"width\": 0.5}, \"type\": \"line\", \"x0\": 120.0, \"x1\": 120.0, \"xref\": \"x\", \"y0\": -1, \"y1\": -3.5, \"yref\": \"y\"}, {\"line\": {\"color\": \"Black\", \"width\": 0.5}, \"type\": \"line\", \"x0\": 130.0, \"x1\": 130.0, \"xref\": \"x\", \"y0\": -6, \"y1\": -9, \"yref\": \"y\"}, {\"line\": {\"color\": \"Black\", \"width\": 0.5}, \"type\": \"line\", \"x0\": 130.0, \"x1\": 130.0, \"xref\": \"x\", \"y0\": -3.5, \"y1\": -6, \"yref\": \"y\"}, {\"line\": {\"color\": \"Black\", \"width\": 0.5}, \"type\": \"line\", \"x0\": 130.0, \"x1\": 130.0, \"xref\": \"x\", \"y0\": -1, \"y1\": -3.5, \"yref\": \"y\"}, {\"line\": {\"color\": \"Black\", \"width\": 0.5}, \"type\": \"line\", \"x0\": 140.0, \"x1\": 140.0, \"xref\": \"x\", \"y0\": -3.5, \"y1\": -6, \"yref\": \"y\"}, {\"line\": {\"color\": \"Black\", \"width\": 0.5}, \"type\": \"line\", \"x0\": 140.0, \"x1\": 140.0, \"xref\": \"x\", \"y0\": -1, \"y1\": -3.5, \"yref\": \"y\"}, {\"line\": {\"color\": \"Black\", \"width\": 0.5}, \"type\": \"line\", \"x0\": 150.0, \"x1\": 150.0, \"xref\": \"x\", \"y0\": -3.5, \"y1\": -6, \"yref\": \"y\"}, {\"line\": {\"color\": \"Black\", \"width\": 0.5}, \"type\": \"line\", \"x0\": 150.0, \"x1\": 150.0, \"xref\": \"x\", \"y0\": -1, \"y1\": -3.5, \"yref\": \"y\"}, {\"line\": {\"color\": \"Black\", \"width\": 0.5}, \"type\": \"line\", \"x0\": 160.0, \"x1\": 160.0, \"xref\": \"x\", \"y0\": -6, \"y1\": -9, \"yref\": \"y\"}, {\"line\": {\"color\": \"Black\", \"width\": 0.5}, \"type\": \"line\", \"x0\": 160.0, \"x1\": 160.0, \"xref\": \"x\", \"y0\": -3.5, \"y1\": -6, \"yref\": \"y\"}, {\"line\": {\"color\": \"Black\", \"width\": 0.5}, \"type\": \"line\", \"x0\": 160.0, \"x1\": 160.0, \"xref\": \"x\", \"y0\": -1, \"y1\": -3.5, \"yref\": \"y\"}, {\"line\": {\"color\": \"Black\", \"width\": 0.5}, \"type\": \"line\", \"x0\": 170.0, \"x1\": 170.0, \"xref\": \"x\", \"y0\": -3.5, \"y1\": -6, \"yref\": \"y\"}, {\"line\": {\"color\": \"Black\", \"width\": 0.5}, \"type\": \"line\", \"x0\": 170.0, \"x1\": 170.0, \"xref\": \"x\", \"y0\": -1, \"y1\": -3.5, \"yref\": \"y\"}, {\"line\": {\"color\": \"Black\", \"width\": 0.5}, \"type\": \"line\", \"x0\": 180.0, \"x1\": 180.0, \"xref\": \"x\", \"y0\": -3.5, \"y1\": -6, \"yref\": \"y\"}, {\"line\": {\"color\": \"Black\", \"width\": 0.5}, \"type\": \"line\", \"x0\": 180.0, \"x1\": 180.0, \"xref\": \"x\", \"y0\": -1, \"y1\": -3.5, \"yref\": \"y\"}, {\"line\": {\"color\": \"Black\", \"width\": 0.5}, \"type\": \"line\", \"x0\": 190.0, \"x1\": 190.0, \"xref\": \"x\", \"y0\": -6, \"y1\": -9, \"yref\": \"y\"}, {\"line\": {\"color\": \"Black\", \"width\": 0.5}, \"type\": \"line\", \"x0\": 190.0, \"x1\": 190.0, \"xref\": \"x\", \"y0\": -3.5, \"y1\": -6, \"yref\": \"y\"}, {\"line\": {\"color\": \"Black\", \"width\": 0.5}, \"type\": \"line\", \"x0\": 190.0, \"x1\": 190.0, \"xref\": \"x\", \"y0\": -1, \"y1\": -3.5, \"yref\": \"y\"}, {\"line\": {\"color\": \"Black\", \"width\": 0.5}, \"type\": \"line\", \"x0\": 200.0, \"x1\": 200.0, \"xref\": \"x\", \"y0\": -3.5, \"y1\": -6, \"yref\": \"y\"}, {\"line\": {\"color\": \"Black\", \"width\": 0.5}, \"type\": \"line\", \"x0\": 200.0, \"x1\": 200.0, \"xref\": \"x\", \"y0\": -1, \"y1\": -3.5, \"yref\": \"y\"}, {\"line\": {\"color\": \"Black\", \"width\": 0.5}, \"type\": \"line\", \"x0\": 210.0, \"x1\": 210.0, \"xref\": \"x\", \"y0\": -3.5, \"y1\": -6, \"yref\": \"y\"}, {\"line\": {\"color\": \"Black\", \"width\": 0.5}, \"type\": \"line\", \"x0\": 210.0, \"x1\": 210.0, \"xref\": \"x\", \"y0\": -1, \"y1\": -3.5, \"yref\": \"y\"}, {\"line\": {\"color\": \"Black\", \"width\": 0.5}, \"type\": \"line\", \"x0\": 220.0, \"x1\": 220.0, \"xref\": \"x\", \"y0\": -6, \"y1\": -9, \"yref\": \"y\"}, {\"line\": {\"color\": \"Black\", \"width\": 0.5}, \"type\": \"line\", \"x0\": 220.0, \"x1\": 220.0, \"xref\": \"x\", \"y0\": -3.5, \"y1\": -6, \"yref\": \"y\"}, {\"line\": {\"color\": \"Black\", \"width\": 0.5}, \"type\": \"line\", \"x0\": 220.0, \"x1\": 220.0, \"xref\": \"x\", \"y0\": -1, \"y1\": -3.5, \"yref\": \"y\"}, {\"line\": {\"color\": \"Black\", \"width\": 0.5}, \"type\": \"line\", \"x0\": 230.0, \"x1\": 230.0, \"xref\": \"x\", \"y0\": -3.5, \"y1\": -6, \"yref\": \"y\"}, {\"line\": {\"color\": \"Black\", \"width\": 0.5}, \"type\": \"line\", \"x0\": 230.0, \"x1\": 230.0, \"xref\": \"x\", \"y0\": -1, \"y1\": -3.5, \"yref\": \"y\"}, {\"line\": {\"color\": \"Black\", \"width\": 0.5}, \"type\": \"line\", \"x0\": 240.0, \"x1\": 240.0, \"xref\": \"x\", \"y0\": -3.5, \"y1\": -6, \"yref\": \"y\"}, {\"line\": {\"color\": \"Black\", \"width\": 0.5}, \"type\": \"line\", \"x0\": 240.0, \"x1\": 240.0, \"xref\": \"x\", \"y0\": -1, \"y1\": -3.5, \"yref\": \"y\"}, {\"line\": {\"color\": \"Black\", \"width\": 0.5}, \"type\": \"line\", \"x0\": 250.0, \"x1\": 250.0, \"xref\": \"x\", \"y0\": -3.5, \"y1\": -6, \"yref\": \"y\"}, {\"line\": {\"color\": \"Black\", \"width\": 0.5}, \"type\": \"line\", \"x0\": 250.0, \"x1\": 250.0, \"xref\": \"x\", \"y0\": -1, \"y1\": -3.5, \"yref\": \"y\"}, {\"line\": {\"color\": \"Black\", \"width\": 0.5}, \"type\": \"line\", \"x0\": 260.0, \"x1\": 260.0, \"xref\": \"x\", \"y0\": -3.5, \"y1\": -6, \"yref\": \"y\"}, {\"line\": {\"color\": \"Black\", \"width\": 0.5}, \"type\": \"line\", \"x0\": 260.0, \"x1\": 260.0, \"xref\": \"x\", \"y0\": -1, \"y1\": -3.5, \"yref\": \"y\"}, {\"line\": {\"color\": \"Black\", \"width\": 0.5}, \"type\": \"line\", \"x0\": 270.0, \"x1\": 270.0, \"xref\": \"x\", \"y0\": -3.5, \"y1\": -6, \"yref\": \"y\"}, {\"line\": {\"color\": \"Black\", \"width\": 0.5}, \"type\": \"line\", \"x0\": 270.0, \"x1\": 270.0, \"xref\": \"x\", \"y0\": -1, \"y1\": -3.5, \"yref\": \"y\"}, {\"line\": {\"color\": \"Black\", \"width\": 0.5}, \"type\": \"line\", \"x0\": 280.0, \"x1\": 280.0, \"xref\": \"x\", \"y0\": -6, \"y1\": -9, \"yref\": \"y\"}, {\"line\": {\"color\": \"Black\", \"width\": 0.5}, \"type\": \"line\", \"x0\": 280.0, \"x1\": 280.0, \"xref\": \"x\", \"y0\": -3.5, \"y1\": -6, \"yref\": \"y\"}, {\"line\": {\"color\": \"Black\", \"width\": 0.5}, \"type\": \"line\", \"x0\": 280.0, \"x1\": 280.0, \"xref\": \"x\", \"y0\": -1, \"y1\": -3.5, \"yref\": \"y\"}, {\"line\": {\"color\": \"Black\", \"width\": 0.5}, \"type\": \"line\", \"x0\": 290.0, \"x1\": 290.0, \"xref\": \"x\", \"y0\": -6, \"y1\": -9, \"yref\": \"y\"}, {\"line\": {\"color\": \"Black\", \"width\": 0.5}, \"type\": \"line\", \"x0\": 290.0, \"x1\": 290.0, \"xref\": \"x\", \"y0\": -3.5, \"y1\": -6, \"yref\": \"y\"}, {\"line\": {\"color\": \"Black\", \"width\": 0.5}, \"type\": \"line\", \"x0\": 290.0, \"x1\": 290.0, \"xref\": \"x\", \"y0\": -1, \"y1\": -3.5, \"yref\": \"y\"}, {\"line\": {\"color\": \"Black\", \"width\": 0.5}, \"type\": \"line\", \"x0\": 300.0, \"x1\": 300.0, \"xref\": \"x\", \"y0\": -3.5, \"y1\": -6, \"yref\": \"y\"}, {\"line\": {\"color\": \"Black\", \"width\": 0.5}, \"type\": \"line\", \"x0\": 300.0, \"x1\": 300.0, \"xref\": \"x\", \"y0\": -1, \"y1\": -3.5, \"yref\": \"y\"}, {\"line\": {\"color\": \"Black\", \"width\": 0.5}, \"type\": \"line\", \"x0\": 310.0, \"x1\": 310.0, \"xref\": \"x\", \"y0\": -3.5, \"y1\": -6, \"yref\": \"y\"}, {\"line\": {\"color\": \"Black\", \"width\": 0.5}, \"type\": \"line\", \"x0\": 310.0, \"x1\": 310.0, \"xref\": \"x\", \"y0\": -1, \"y1\": -3.5, \"yref\": \"y\"}, {\"line\": {\"color\": \"Black\", \"width\": 0.5}, \"type\": \"line\", \"x0\": 320.0, \"x1\": 320.0, \"xref\": \"x\", \"y0\": -6, \"y1\": -9, \"yref\": \"y\"}, {\"line\": {\"color\": \"Black\", \"width\": 0.5}, \"type\": \"line\", \"x0\": 320.0, \"x1\": 320.0, \"xref\": \"x\", \"y0\": -3.5, \"y1\": -6, \"yref\": \"y\"}, {\"line\": {\"color\": \"Black\", \"width\": 0.5}, \"type\": \"line\", \"x0\": 320.0, \"x1\": 320.0, \"xref\": \"x\", \"y0\": -1, \"y1\": -3.5, \"yref\": \"y\"}, {\"line\": {\"color\": \"Black\", \"width\": 0.5}, \"type\": \"line\", \"x0\": 330.0, \"x1\": 330.0, \"xref\": \"x\", \"y0\": -1, \"y1\": -9, \"yref\": \"y\"}], \"template\": {\"data\": {\"bar\": [{\"error_x\": {\"color\": \"#2a3f5f\"}, \"error_y\": {\"color\": \"#2a3f5f\"}, \"marker\": {\"line\": {\"color\": \"#E5ECF6\", \"width\": 0.5}}, \"type\": \"bar\"}], \"barpolar\": [{\"marker\": {\"line\": {\"color\": \"#E5ECF6\", \"width\": 0.5}}, \"type\": \"barpolar\"}], \"carpet\": [{\"aaxis\": {\"endlinecolor\": \"#2a3f5f\", \"gridcolor\": \"white\", \"linecolor\": \"white\", \"minorgridcolor\": \"white\", \"startlinecolor\": \"#2a3f5f\"}, \"baxis\": {\"endlinecolor\": \"#2a3f5f\", \"gridcolor\": \"white\", \"linecolor\": \"white\", \"minorgridcolor\": \"white\", \"startlinecolor\": \"#2a3f5f\"}, \"type\": \"carpet\"}], \"choropleth\": [{\"colorbar\": {\"outlinewidth\": 0, \"ticks\": \"\"}, \"type\": \"choropleth\"}], \"contour\": [{\"colorbar\": {\"outlinewidth\": 0, \"ticks\": \"\"}, \"colorscale\": [[0.0, \"#0d0887\"], [0.1111111111111111, \"#46039f\"], [0.2222222222222222, \"#7201a8\"], [0.3333333333333333, \"#9c179e\"], [0.4444444444444444, \"#bd3786\"], [0.5555555555555556, \"#d8576b\"], [0.6666666666666666, \"#ed7953\"], [0.7777777777777778, \"#fb9f3a\"], [0.8888888888888888, \"#fdca26\"], [1.0, \"#f0f921\"]], \"type\": \"contour\"}], \"contourcarpet\": [{\"colorbar\": {\"outlinewidth\": 0, \"ticks\": \"\"}, \"type\": \"contourcarpet\"}], \"heatmap\": [{\"colorbar\": {\"outlinewidth\": 0, \"ticks\": \"\"}, \"colorscale\": [[0.0, \"#0d0887\"], [0.1111111111111111, \"#46039f\"], [0.2222222222222222, \"#7201a8\"], [0.3333333333333333, \"#9c179e\"], [0.4444444444444444, \"#bd3786\"], [0.5555555555555556, \"#d8576b\"], [0.6666666666666666, \"#ed7953\"], [0.7777777777777778, \"#fb9f3a\"], [0.8888888888888888, \"#fdca26\"], [1.0, \"#f0f921\"]], \"type\": \"heatmap\"}], \"heatmapgl\": [{\"colorbar\": {\"outlinewidth\": 0, \"ticks\": \"\"}, \"colorscale\": [[0.0, \"#0d0887\"], [0.1111111111111111, \"#46039f\"], [0.2222222222222222, \"#7201a8\"], [0.3333333333333333, \"#9c179e\"], [0.4444444444444444, \"#bd3786\"], [0.5555555555555556, \"#d8576b\"], [0.6666666666666666, \"#ed7953\"], [0.7777777777777778, \"#fb9f3a\"], [0.8888888888888888, \"#fdca26\"], [1.0, \"#f0f921\"]], \"type\": \"heatmapgl\"}], \"histogram\": [{\"marker\": {\"colorbar\": {\"outlinewidth\": 0, \"ticks\": \"\"}}, \"type\": \"histogram\"}], \"histogram2d\": [{\"colorbar\": {\"outlinewidth\": 0, \"ticks\": \"\"}, \"colorscale\": [[0.0, \"#0d0887\"], [0.1111111111111111, \"#46039f\"], [0.2222222222222222, \"#7201a8\"], [0.3333333333333333, \"#9c179e\"], [0.4444444444444444, \"#bd3786\"], [0.5555555555555556, \"#d8576b\"], [0.6666666666666666, \"#ed7953\"], [0.7777777777777778, \"#fb9f3a\"], [0.8888888888888888, \"#fdca26\"], [1.0, \"#f0f921\"]], \"type\": \"histogram2d\"}], \"histogram2dcontour\": [{\"colorbar\": {\"outlinewidth\": 0, \"ticks\": \"\"}, \"colorscale\": [[0.0, \"#0d0887\"], [0.1111111111111111, \"#46039f\"], [0.2222222222222222, \"#7201a8\"], [0.3333333333333333, \"#9c179e\"], [0.4444444444444444, \"#bd3786\"], [0.5555555555555556, \"#d8576b\"], [0.6666666666666666, \"#ed7953\"], [0.7777777777777778, \"#fb9f3a\"], [0.8888888888888888, \"#fdca26\"], [1.0, \"#f0f921\"]], \"type\": \"histogram2dcontour\"}], \"mesh3d\": [{\"colorbar\": {\"outlinewidth\": 0, \"ticks\": \"\"}, \"type\": \"mesh3d\"}], \"parcoords\": [{\"line\": {\"colorbar\": {\"outlinewidth\": 0, \"ticks\": \"\"}}, \"type\": \"parcoords\"}], \"pie\": [{\"automargin\": true, \"type\": \"pie\"}], \"scatter\": [{\"marker\": {\"colorbar\": {\"outlinewidth\": 0, \"ticks\": \"\"}}, \"type\": \"scatter\"}], \"scatter3d\": [{\"line\": {\"colorbar\": {\"outlinewidth\": 0, \"ticks\": \"\"}}, \"marker\": {\"colorbar\": {\"outlinewidth\": 0, \"ticks\": \"\"}}, \"type\": \"scatter3d\"}], \"scattercarpet\": [{\"marker\": {\"colorbar\": {\"outlinewidth\": 0, \"ticks\": \"\"}}, \"type\": \"scattercarpet\"}], \"scattergeo\": [{\"marker\": {\"colorbar\": {\"outlinewidth\": 0, \"ticks\": \"\"}}, \"type\": \"scattergeo\"}], \"scattergl\": [{\"marker\": {\"colorbar\": {\"outlinewidth\": 0, \"ticks\": \"\"}}, \"type\": \"scattergl\"}], \"scattermapbox\": [{\"marker\": {\"colorbar\": {\"outlinewidth\": 0, \"ticks\": \"\"}}, \"type\": \"scattermapbox\"}], \"scatterpolar\": [{\"marker\": {\"colorbar\": {\"outlinewidth\": 0, \"ticks\": \"\"}}, \"type\": \"scatterpolar\"}], \"scatterpolargl\": [{\"marker\": {\"colorbar\": {\"outlinewidth\": 0, \"ticks\": \"\"}}, \"type\": \"scatterpolargl\"}], \"scatterternary\": [{\"marker\": {\"colorbar\": {\"outlinewidth\": 0, \"ticks\": \"\"}}, \"type\": \"scatterternary\"}], \"surface\": [{\"colorbar\": {\"outlinewidth\": 0, \"ticks\": \"\"}, \"colorscale\": [[0.0, \"#0d0887\"], [0.1111111111111111, \"#46039f\"], [0.2222222222222222, \"#7201a8\"], [0.3333333333333333, \"#9c179e\"], [0.4444444444444444, \"#bd3786\"], [0.5555555555555556, \"#d8576b\"], [0.6666666666666666, \"#ed7953\"], [0.7777777777777778, \"#fb9f3a\"], [0.8888888888888888, \"#fdca26\"], [1.0, \"#f0f921\"]], \"type\": \"surface\"}], \"table\": [{\"cells\": {\"fill\": {\"color\": \"#EBF0F8\"}, \"line\": {\"color\": \"white\"}}, \"header\": {\"fill\": {\"color\": \"#C8D4E3\"}, \"line\": {\"color\": \"white\"}}, \"type\": \"table\"}]}, \"layout\": {\"annotationdefaults\": {\"arrowcolor\": \"#2a3f5f\", \"arrowhead\": 0, \"arrowwidth\": 1}, \"autotypenumbers\": \"strict\", \"coloraxis\": {\"colorbar\": {\"outlinewidth\": 0, \"ticks\": \"\"}}, \"colorscale\": {\"diverging\": [[0, \"#8e0152\"], [0.1, \"#c51b7d\"], [0.2, \"#de77ae\"], [0.3, \"#f1b6da\"], [0.4, \"#fde0ef\"], [0.5, \"#f7f7f7\"], [0.6, \"#e6f5d0\"], [0.7, \"#b8e186\"], [0.8, \"#7fbc41\"], [0.9, \"#4d9221\"], [1, \"#276419\"]], \"sequential\": [[0.0, \"#0d0887\"], [0.1111111111111111, \"#46039f\"], [0.2222222222222222, \"#7201a8\"], [0.3333333333333333, \"#9c179e\"], [0.4444444444444444, \"#bd3786\"], [0.5555555555555556, \"#d8576b\"], [0.6666666666666666, \"#ed7953\"], [0.7777777777777778, \"#fb9f3a\"], [0.8888888888888888, \"#fdca26\"], [1.0, \"#f0f921\"]], \"sequentialminus\": [[0.0, \"#0d0887\"], [0.1111111111111111, \"#46039f\"], [0.2222222222222222, \"#7201a8\"], [0.3333333333333333, \"#9c179e\"], [0.4444444444444444, \"#bd3786\"], [0.5555555555555556, \"#d8576b\"], [0.6666666666666666, \"#ed7953\"], [0.7777777777777778, \"#fb9f3a\"], [0.8888888888888888, \"#fdca26\"], [1.0, \"#f0f921\"]]}, \"colorway\": [\"#636efa\", \"#EF553B\", \"#00cc96\", \"#ab63fa\", \"#FFA15A\", \"#19d3f3\", \"#FF6692\", \"#B6E880\", \"#FF97FF\", \"#FECB52\"], \"font\": {\"color\": \"#2a3f5f\"}, \"geo\": {\"bgcolor\": \"white\", \"lakecolor\": \"white\", \"landcolor\": \"#E5ECF6\", \"showlakes\": true, \"showland\": true, \"subunitcolor\": \"white\"}, \"hoverlabel\": {\"align\": \"left\"}, \"hovermode\": \"closest\", \"mapbox\": {\"style\": \"light\"}, \"paper_bgcolor\": \"white\", \"plot_bgcolor\": \"#E5ECF6\", \"polar\": {\"angularaxis\": {\"gridcolor\": \"white\", \"linecolor\": \"white\", \"ticks\": \"\"}, \"bgcolor\": \"#E5ECF6\", \"radialaxis\": {\"gridcolor\": \"white\", \"linecolor\": \"white\", \"ticks\": \"\"}}, \"scene\": {\"xaxis\": {\"backgroundcolor\": \"#E5ECF6\", \"gridcolor\": \"white\", \"gridwidth\": 2, \"linecolor\": \"white\", \"showbackground\": true, \"ticks\": \"\", \"zerolinecolor\": \"white\"}, \"yaxis\": {\"backgroundcolor\": \"#E5ECF6\", \"gridcolor\": \"white\", \"gridwidth\": 2, \"linecolor\": \"white\", \"showbackground\": true, \"ticks\": \"\", \"zerolinecolor\": \"white\"}, \"zaxis\": {\"backgroundcolor\": \"#E5ECF6\", \"gridcolor\": \"white\", \"gridwidth\": 2, \"linecolor\": \"white\", \"showbackground\": true, \"ticks\": \"\", \"zerolinecolor\": \"white\"}}, \"shapedefaults\": {\"line\": {\"color\": \"#2a3f5f\"}}, \"ternary\": {\"aaxis\": {\"gridcolor\": \"white\", \"linecolor\": \"white\", \"ticks\": \"\"}, \"baxis\": {\"gridcolor\": \"white\", \"linecolor\": \"white\", \"ticks\": \"\"}, \"bgcolor\": \"#E5ECF6\", \"caxis\": {\"gridcolor\": \"white\", \"linecolor\": \"white\", \"ticks\": \"\"}}, \"title\": {\"x\": 0.05}, \"xaxis\": {\"automargin\": true, \"gridcolor\": \"white\", \"linecolor\": \"white\", \"ticks\": \"\", \"title\": {\"standoff\": 15}, \"zerolinecolor\": \"white\", \"zerolinewidth\": 2}, \"yaxis\": {\"automargin\": true, \"gridcolor\": \"white\", \"linecolor\": \"white\", \"ticks\": \"\", \"title\": {\"standoff\": 15}, \"zerolinecolor\": \"white\", \"zerolinewidth\": 2}}}, \"width\": 2000, \"xaxis\": {\"showgrid\": false, \"showticklabels\": false, \"ticktext\": [\"* - * - *\", \"*instances01 - * - *\", \"*instances1.5x - * - *\", \"*instances23 - * - *\", \"Brain - * - *\", \"Brain - Cognitive - *\", \"Brain - MRI - *\", \"Eyes - * - *\", \"Eyes - All - *\", \"Eyes - Fundus - Raw\", \"Eyes - OCT - Raw\", \"Hearing - * - *\", \"Lungs - * - *\", \"Arterial - * - *\", \"Arterial - Carotids - *\", \"Arterial - PulseWaveAnalysis - *\", \"Heart - * - *\", \"Heart - ECG - *\", \"Heart - MRI - *\", \"Abdomen - * - *\", \"Abdomen - Liver - *\", \"Abdomen - Pancreas - *\", \"Musculoskeletal - * - *\", \"Musculoskeletal - FullBody - *\", \"Musculoskeletal - Hips - *\", \"Musculoskeletal - Knees - *\", \"Musculoskeletal - Scalars - *\", \"Musculoskeletal - Spine - *\", \"PhysicalActivity - * - *\", \"Biochemistry - * - *\", \"Biochemistry - Blood - *\", \"Biochemistry - Urine - Scalars\", \"BloodCells - BloodCount - Scalars\"], \"tickvals\": [5, 15, 25, 35, 45, 55, 65, 75, 85, 95, 105, 115, 125, 135, 145, 155, 165, 175, 185, 195, 205, 215, 225, 235, 245, 255, 265, 275, 285, 295, 305, 315, 325], \"zeroline\": false}, \"yaxis\": {\"showgrid\": false, \"title\": {\"text\": \"RMSE\"}, \"zeroline\": false}},                        {\"responsive\": true}                    ).then(function(){\n                            \nvar gd = document.getElementById('6d7af5d5-18e2-42d0-a71a-68bb4772dbf7');\nvar x = new MutationObserver(function (mutations, observer) {{\n        var display = window.getComputedStyle(gd).display;\n        if (!display || display === 'none') {{\n            console.log([gd, 'removed!']);\n            Plotly.purge(gd);\n            observer.disconnect();\n        }}\n}});\n\n// Listen for the removal of the full notebook cells\nvar notebookContainer = gd.closest('#notebook-container');\nif (notebookContainer) {{\n    x.observe(notebookContainer, {childList: true});\n}}\n\n// Listen for the clearing of the current output cell\nvar outputEl = gd.closest('.output');\nif (outputEl) {{\n    x.observe(outputEl, {childList: true});\n}}\n\n                        })                };                });            </script>        </div>"
     },
     "metadata": {},
     "output_type": "display_data"
    }
   ],
   "source": [
    "import plotly.graph_objs as go\n",
    "\n",
    "scores = pd.DataFrame(data_scores)\n",
    "\n",
    "scores.set_index([\"dimension\", \"subdimension\", \"sub_subdimension\"], inplace=True)\n",
    "\n",
    "if selected_dimension != \"all\":\n",
    "    scores = scores.loc[[selected_dimension]]\n",
    "    sorted_dimensions = scores.loc[[selected_dimension]].index.drop_duplicates()\n",
    "else:\n",
    "    if dimensions_selection != \"without_ensemble_models\":\n",
    "        sorted_dimensions = scores.loc[CUSTOM_ORDER].index.drop_duplicates()\n",
    "    else:\n",
    "        sorted_dimensions = scores.loc[pd.Index(CUSTOM_ORDER).drop([\"*\", \"*instances01\", \"*instances1.5x\", \"*instances23\"])].index.drop_duplicates()\n",
    "\n",
    "x_positions = pd.DataFrame(np.arange(5, 10 * len(sorted_dimensions) + 5, 10), index=sorted_dimensions, columns=[\"x_position\"])\n",
    "\n",
    "fig = go.Figure()\n",
    "fig.update_layout(\n",
    "    xaxis={\n",
    "        \"tickvals\": np.arange(5, 10 * len(sorted_dimensions) + 5, 10),\n",
    "        \"ticktext\": [\" - \".join(elem) for elem in sorted_dimensions.values],\n",
    "    },\n",
    ")\n",
    "\n",
    "algorithms = scores[\"algorithm\"].drop_duplicates()\n",
    "\n",
    "hovertemplate = \"%{x}, score: %{y:.3f} +- %{customdata[0]:.3f}, sample size: %{customdata[1]} <extra>%{customdata[2]}</extra>\"\n",
    "\n",
    "min_score = min(scores[metric].min(), 0)\n",
    "\n",
    "for algorithm in algorithms:\n",
    "    scores_algorithm = scores[scores[\"algorithm\"] == algorithm]\n",
    "    x_positions.loc[scores_algorithm.index]\n",
    "\n",
    "    customdata = np.dstack((scores_algorithm[f\"{metric}_std\"].values.flatten(), scores_algorithm[\"sample_size\"].values.flatten(), [algorithm] * len(scores_algorithm.index)))[0]\n",
    "    fig.add_bar(\n",
    "        x=x_positions.loc[scores_algorithm.index].values.flatten(),\n",
    "        y=scores_algorithm[metric],\n",
    "        error_y={\"array\": scores_algorithm[f\"{metric}_std\"], \"type\": \"data\"},\n",
    "        name=algorithm,\n",
    "        hovertemplate=hovertemplate,\n",
    "        customdata=customdata\n",
    "    )\n",
    "\n",
    "dimensions = sorted_dimensions.to_frame()[[\"dimension\", \"subdimension\", \"sub_subdimension\"]].reset_index(drop=True)\n",
    "dimensions[\"position\"] = fig[\"layout\"][\"xaxis\"][\"tickvals\"]\n",
    "dimensions.set_index([\"dimension\", \"subdimension\", \"sub_subdimension\"], inplace=True)\n",
    "\n",
    "lines = []\n",
    "annotations = []\n",
    "\n",
    "for dimension in dimensions.index.get_level_values(\"dimension\").drop_duplicates():\n",
    "    if metric == \"r2\":\n",
    "        dimension_inner_margin = min_score -0.6\n",
    "        dimension_outer_margin = min_score -0.9\n",
    "    else:\n",
    "        dimension_inner_margin = min_score -6\n",
    "        dimension_outer_margin = min_score -9\n",
    "\n",
    "    min_position = dimensions.loc[dimension].min()\n",
    "    max_position = dimensions.loc[dimension].max()\n",
    "\n",
    "    line, annotation = add_line_and_annotation(\n",
    "        dimension,\n",
    "        \"x\",\n",
    "        \"y\",\n",
    "        min_position,\n",
    "        max_position,\n",
    "        dimension_inner_margin,\n",
    "        dimension_outer_margin,\n",
    "        90,\n",
    "        13,\n",
    "    )\n",
    "\n",
    "    lines.append(line)\n",
    "    annotations.append(annotation)\n",
    "\n",
    "    for subdimension in dimensions.loc[dimension].index.get_level_values(\"subdimension\").drop_duplicates():\n",
    "        if metric == \"r2\":\n",
    "            subdimension_margin = min_score -0.35\n",
    "        else:\n",
    "            subdimension_margin = min_score -3.5       \n",
    "\n",
    "        submin_position = dimensions.loc[(dimension, subdimension)].min()\n",
    "        submax_position = dimensions.loc[(dimension, subdimension)].max()\n",
    "\n",
    "        line, annotation = add_line_and_annotation(\n",
    "            subdimension,\n",
    "            \"x\",\n",
    "            \"y\",\n",
    "            submin_position,\n",
    "            submax_position,\n",
    "            subdimension_margin,\n",
    "            dimension_inner_margin,\n",
    "            90,\n",
    "            8,\n",
    "        )\n",
    "\n",
    "        lines.append(line)\n",
    "        annotations.append(annotation)\n",
    "        for sub_subdimension in dimensions.loc[(dimension, subdimension)].index.get_level_values(\"sub_subdimension\").drop_duplicates():\n",
    "            if metric == \"r2\":\n",
    "                sub_subdimension_margin = min_score - 0.1\n",
    "            else:\n",
    "                sub_subdimension_margin = min_score - 1                 \n",
    "\n",
    "            sub_submin_position = dimensions.loc[(dimension, subdimension, sub_subdimension)].min()\n",
    "            sub_submax_position = dimensions.loc[(dimension, subdimension, sub_subdimension)].max()\n",
    "\n",
    "            line, annotation = add_line_and_annotation(\n",
    "                sub_subdimension,\n",
    "                \"x\",\n",
    "                \"y\",\n",
    "                sub_submin_position,\n",
    "                sub_submax_position,\n",
    "                sub_subdimension_margin,\n",
    "                subdimension_margin,\n",
    "                90,\n",
    "                5,\n",
    "            )\n",
    "\n",
    "            lines.append(line)\n",
    "            annotations.append(annotation)\n",
    "\n",
    "# The final top/right line\n",
    "line, _ = add_line_and_annotation(\n",
    "    dimension,\n",
    "    \"x\",\n",
    "    \"y\",\n",
    "    min_position,\n",
    "    max_position,\n",
    "    sub_subdimension_margin,\n",
    "    dimension_outer_margin,\n",
    "    0,\n",
    "    10,\n",
    "    final=True,\n",
    ")\n",
    "\n",
    "lines.append(line)\n",
    "\n",
    "fig[\"layout\"][\"shapes\"] = lines\n",
    "fig[\"layout\"][\"annotations\"] = annotations\n",
    "fig.update_layout(xaxis={\"showticklabels\": False})\n",
    "\n",
    "fig.update_layout(\n",
    "    yaxis={\"title\": SCORES[metric], \"showgrid\": False, \"zeroline\": False},\n",
    "    xaxis={\"showgrid\": False, \"zeroline\": False},\n",
    "    height=800,\n",
    "    width=2000,\n",
    ")\n",
    "\n",
    "fig.show()"
   ]
  }
 ],
 "metadata": {
  "kernelspec": {
   "display_name": "Python 3.9.4  ('env_container': venv)",
   "name": "pythonjvsc74a57bd0827f31c7a17f115185da69808fd256ce792d94cfeb61ab0a6e35bd7e2999d502"
  },
  "language_info": {
   "codemirror_mode": {
    "name": "ipython",
    "version": 3
   },
   "file_extension": ".py",
   "mimetype": "text/x-python",
   "name": "python",
   "nbconvert_exporter": "python",
   "pygments_lexer": "ipython3",
   "version": "3.9.4"
  },
  "metadata": {
   "interpreter": {
    "hash": "827f31c7a17f115185da69808fd256ce792d94cfeb61ab0a6e35bd7e2999d502"
   }
  },
  "orig_nbformat": 2
 },
 "nbformat": 4,
 "nbformat_minor": 2
}