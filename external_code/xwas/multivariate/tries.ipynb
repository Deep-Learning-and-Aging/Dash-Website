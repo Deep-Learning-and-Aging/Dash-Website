{
 "cells": [
  {
   "cell_type": "code",
   "execution_count": 3,
   "metadata": {},
   "outputs": [
    {
     "data": {
      "text/html": "<div>\n<style scoped>\n    .dataframe tbody tr th:only-of-type {\n        vertical-align: middle;\n    }\n\n    .dataframe tbody tr th {\n        vertical-align: top;\n    }\n\n    .dataframe thead th {\n        text-align: right;\n    }\n</style>\n<table border=\"1\" class=\"dataframe\">\n  <thead>\n    <tr style=\"text-align: right;\">\n      <th></th>\n      <th></th>\n      <th>r2</th>\n      <th>r2_std</th>\n    </tr>\n    <tr>\n      <th>dimension</th>\n      <th>subdimension</th>\n      <th></th>\n      <th></th>\n    </tr>\n  </thead>\n  <tbody>\n    <tr>\n      <th>*</th>\n      <th>*</th>\n      <td>0.660751</td>\n      <td>0.001829</td>\n    </tr>\n    <tr>\n      <th>*instances01</th>\n      <th>*</th>\n      <td>0.869851</td>\n      <td>0.003602</td>\n    </tr>\n    <tr>\n      <th>*instances1.5x</th>\n      <th>*</th>\n      <td>0.635053</td>\n      <td>0.001931</td>\n    </tr>\n    <tr>\n      <th>*instances23</th>\n      <th>*</th>\n      <td>0.900849</td>\n      <td>0.003993</td>\n    </tr>\n    <tr>\n      <th rowspan=\"3\" valign=\"top\">Abdomen</th>\n      <th>*</th>\n      <td>0.763341</td>\n      <td>0.002007</td>\n    </tr>\n    <tr>\n      <th>Liver</th>\n      <td>0.714937</td>\n      <td>0.002142</td>\n    </tr>\n    <tr>\n      <th>Pancreas</th>\n      <td>0.702804</td>\n      <td>0.002529</td>\n    </tr>\n    <tr>\n      <th rowspan=\"3\" valign=\"top\">Arterial</th>\n      <th>*</th>\n      <td>0.671142</td>\n      <td>0.006004</td>\n    </tr>\n    <tr>\n      <th>Carotids</th>\n      <td>0.648211</td>\n      <td>0.005648</td>\n    </tr>\n    <tr>\n      <th>PulseWaveAnalysis</th>\n      <td>0.412802</td>\n      <td>0.001641</td>\n    </tr>\n    <tr>\n      <th rowspan=\"3\" valign=\"top\">Biochemistry</th>\n      <th>*</th>\n      <td>0.507093</td>\n      <td>0.002615</td>\n    </tr>\n    <tr>\n      <th>Blood</th>\n      <td>0.485563</td>\n      <td>0.001488</td>\n    </tr>\n    <tr>\n      <th>Urine</th>\n      <td>0.104010</td>\n      <td>0.001485</td>\n    </tr>\n    <tr>\n      <th rowspan=\"3\" valign=\"top\">Brain</th>\n      <th>*</th>\n      <td>0.763918</td>\n      <td>0.002534</td>\n    </tr>\n    <tr>\n      <th>Cognitive</th>\n      <td>0.379313</td>\n      <td>0.003964</td>\n    </tr>\n    <tr>\n      <th>MRI</th>\n      <td>0.753348</td>\n      <td>0.002210</td>\n    </tr>\n    <tr>\n      <th rowspan=\"4\" valign=\"top\">Eyes</th>\n      <th>*</th>\n      <td>0.835619</td>\n      <td>0.001290</td>\n    </tr>\n    <tr>\n      <th>All</th>\n      <td>0.359178</td>\n      <td>0.002453</td>\n    </tr>\n    <tr>\n      <th>Fundus</th>\n      <td>0.766458</td>\n      <td>0.001525</td>\n    </tr>\n    <tr>\n      <th>OCT</th>\n      <td>0.708086</td>\n      <td>0.001670</td>\n    </tr>\n    <tr>\n      <th>Hearing</th>\n      <th>*</th>\n      <td>0.314416</td>\n      <td>0.001653</td>\n    </tr>\n    <tr>\n      <th rowspan=\"3\" valign=\"top\">Heart</th>\n      <th>*</th>\n      <td>0.856385</td>\n      <td>0.001892</td>\n    </tr>\n    <tr>\n      <th>ECG</th>\n      <td>0.375990</td>\n      <td>0.003780</td>\n    </tr>\n    <tr>\n      <th>MRI</th>\n      <td>0.853191</td>\n      <td>0.001420</td>\n    </tr>\n    <tr>\n      <th>BloodCells</th>\n      <th>*</th>\n      <td>0.124663</td>\n      <td>0.000862</td>\n    </tr>\n    <tr>\n      <th>Lungs</th>\n      <th>*</th>\n      <td>0.256392</td>\n      <td>0.001133</td>\n    </tr>\n    <tr>\n      <th rowspan=\"6\" valign=\"top\">Musculoskeletal</th>\n      <th>*</th>\n      <td>0.876383</td>\n      <td>0.001295</td>\n    </tr>\n    <tr>\n      <th>FullBody</th>\n      <td>0.857106</td>\n      <td>0.001225</td>\n    </tr>\n    <tr>\n      <th>Hips</th>\n      <td>0.690419</td>\n      <td>0.002571</td>\n    </tr>\n    <tr>\n      <th>Knees</th>\n      <td>0.690152</td>\n      <td>0.002681</td>\n    </tr>\n    <tr>\n      <th>Scalars</th>\n      <td>0.259435</td>\n      <td>0.001057</td>\n    </tr>\n    <tr>\n      <th>Spine</th>\n      <td>0.746145</td>\n      <td>0.002024</td>\n    </tr>\n    <tr>\n      <th>PhysicalActivity</th>\n      <th>*</th>\n      <td>0.635326</td>\n      <td>0.001947</td>\n    </tr>\n  </tbody>\n</table>\n</div>",
      "text/plain": "                                          r2    r2_std\ndimension        subdimension                         \n*                *                  0.660751  0.001829\n*instances01     *                  0.869851  0.003602\n*instances1.5x   *                  0.635053  0.001931\n*instances23     *                  0.900849  0.003993\nAbdomen          *                  0.763341  0.002007\n                 Liver              0.714937  0.002142\n                 Pancreas           0.702804  0.002529\nArterial         *                  0.671142  0.006004\n                 Carotids           0.648211  0.005648\n                 PulseWaveAnalysis  0.412802  0.001641\nBiochemistry     *                  0.507093  0.002615\n                 Blood              0.485563  0.001488\n                 Urine              0.104010  0.001485\nBrain            *                  0.763918  0.002534\n                 Cognitive          0.379313  0.003964\n                 MRI                0.753348  0.002210\nEyes             *                  0.835619  0.001290\n                 All                0.359178  0.002453\n                 Fundus             0.766458  0.001525\n                 OCT                0.708086  0.001670\nHearing          *                  0.314416  0.001653\nHeart            *                  0.856385  0.001892\n                 ECG                0.375990  0.003780\n                 MRI                0.853191  0.001420\nBloodCells       *                  0.124663  0.000862\nLungs            *                  0.256392  0.001133\nMusculoskeletal  *                  0.876383  0.001295\n                 FullBody           0.857106  0.001225\n                 Hips               0.690419  0.002571\n                 Knees              0.690152  0.002681\n                 Scalars            0.259435  0.001057\n                 Spine              0.746145  0.002024\nPhysicalActivity *                  0.635326  0.001947"
     },
     "execution_count": 3,
     "metadata": {},
     "output_type": "execute_result"
    }
   ],
   "source": [
    "import pandas as pd \n",
    "\n",
    "pd.read_feather(\"../../../all_data/xwas/squeezed_dimensions_participant_and_time_of_examination.feather\").set_index(\n",
    "    [\"squeezed_dimensions\"]\n",
    ").set_index([\"dimension\", \"subdimension\"])"
   ]
  }
 ],
 "metadata": {
  "kernelspec": {
   "display_name": "Python 3.9.4  ('env_container': venv)",
   "name": "pythonjvsc74a57bd0827f31c7a17f115185da69808fd256ce792d94cfeb61ab0a6e35bd7e2999d502"
  },
  "language_info": {
   "codemirror_mode": {
    "name": "ipython",
    "version": 3
   },
   "file_extension": ".py",
   "mimetype": "text/x-python",
   "name": "python",
   "nbconvert_exporter": "python",
   "pygments_lexer": "ipython3",
   "version": "3.9.4"
  },
  "metadata": {
   "interpreter": {
    "hash": "827f31c7a17f115185da69808fd256ce792d94cfeb61ab0a6e35bd7e2999d502"
   }
  },
  "orig_nbformat": 2
 },
 "nbformat": 4,
 "nbformat_minor": 2
}