{
 "cells": [
  {
   "cell_type": "code",
   "execution_count": 1,
   "metadata": {},
   "outputs": [],
   "source": [
    "TREE_CHOICES = {\n",
    "    \"Abdomen\": {\"Liver\": [\"Raw\", \"Contrast\"], \"Pancreas\": [\"Raw\", \"Contrast\"]},\n",
    "    \"Arterial\": {\"Carotids\": [\"CIMT120\", \"CIMT150\", \"LongAxis\", \"Mixed\", \"ShortAxis\"]},\n",
    "    \"Brain\": {\n",
    "        \"MRI\": [\n",
    "            \"SagittalRaw\",\n",
    "            \"SagittalReference\",\n",
    "            \"CoronalRaw\",\n",
    "            \"CoronalReference\",\n",
    "            \"TransverseRaw\",\n",
    "            \"TransverseReference\",\n",
    "        ]\n",
    "    },\n",
    "    \"Eyes\": {\"Fundus\": [\"Raw\"], \"OCT\": [\"Raw\"]},\n",
    "    \"Heart\": {\n",
    "        \"MRI\": [\n",
    "            \"2chambersRaw\",\n",
    "            \"2chambersContrast\",\n",
    "            \"3chambersRaw\",\n",
    "            \"3chambersContrast\",\n",
    "            \"4chambersRaw\",\n",
    "            \"4chambersContrast\",\n",
    "        ]\n",
    "    },\n",
    "    \"Musculoskeletal\": {\n",
    "        \"FullBody\": [\"Figure\", \"Flesh\", \"Mixed\", \"Skeleton\"],\n",
    "        \"Knees\": [\"DXA\"],\n",
    "        \"Hips\": [\"DXA\"],\n",
    "        \"Spine\": [\"Coronal\", \"Sagittal\"],\n",
    "    },\n",
    "    \"PhysicalActivity\": {\n",
    "        \"FullWeek\": [\n",
    "            \"GramianAngularField1minDifference\",\n",
    "            \"GramianAngularField1minSummation\",\n",
    "            \"MarkovTransitionField1min\",\n",
    "            \"RecurrencePlots1min\",\n",
    "        ]\n",
    "    },\n",
    "}"
   ]
  },
  {
   "cell_type": "code",
   "execution_count": 7,
   "metadata": {},
   "outputs": [
    {
     "data": {
      "text/plain": "'\"Abdomen\" \"Arterial\" \"Brain\" \"Eyes\" \"Heart\" \"Musculoskeletal\" \"PhysicalActivity\" '"
     },
     "execution_count": 7,
     "metadata": {},
     "output_type": "execute_result"
    }
   ],
   "source": [
    "dims = \"\"\n",
    "for dim in TREE_CHOICES.keys():\n",
    "    dims += f'\"{dim}\" '\n",
    "dims"
   ]
  }
 ],
 "metadata": {
  "kernelspec": {
   "display_name": "Python 3.7.7 64-bit ('env_website')",
   "name": "python377jvsc74a57bd0c11bf2a122358a257f4887e4656fd266c9212bc31c6d2fa50cb5fb4a0c5b9dd8"
  },
  "language_info": {
   "codemirror_mode": {
    "name": "ipython",
    "version": 3
   },
   "file_extension": ".py",
   "mimetype": "text/x-python",
   "name": "python",
   "nbconvert_exporter": "python",
   "pygments_lexer": "ipython3",
   "version": "3.7.7-final"
  },
  "orig_nbformat": 2
 },
 "nbformat": 4,
 "nbformat_minor": 2
}