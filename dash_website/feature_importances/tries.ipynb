{
 "cells": [
  {
   "cell_type": "code",
   "execution_count": 1,
   "metadata": {},
   "outputs": [],
   "source": [
    "import pandas as pd \n",
    "\n",
    "features = pd.read_feather(\"../../all_data/feature_importances/scalars/Arterial_All_Scalars.feather\").set_index(\"feature\")\n",
    "\n",
    "features.columns = pd.MultiIndex.from_tuples(\n",
    "    list(map(eval, features.columns.tolist())), names=[\"algorithm\", \"observation\"]\n",
    ")\n",
    "best_algorithm = \"light_gbm\"\n",
    "\n",
    "sorted_features = features.abs().sort_values(by=[(\"light_gbm\", \"mean\")], ascending=False).index"
   ]
  },
  {
   "cell_type": "code",
   "execution_count": 2,
   "metadata": {},
   "outputs": [],
   "source": [
    "from dash_website.feature_importances import BAR_PLOT_TABLE_COLUMNS\n",
    "\n",
    "table_features = pd.DataFrame(None, columns=BAR_PLOT_TABLE_COLUMNS.keys())\n",
    "\n",
    "table_features[\"feature\"] = sorted_features\n",
    "\n",
    "for algorithm in [\"correlation\", \"elastic_net\", \"light_gbm\", \"neural_network\"]:\n",
    "    table_features[f\"percentage_{algorithm}\"] = features.loc[sorted_features, (algorithm, \"mean\")].round(3).astype(str).values  + \" +- \" + features.loc[sorted_features, (algorithm, \"std\")].round(3).astype(str).values"
   ]
  },
  {
   "cell_type": "code",
   "execution_count": 3,
   "metadata": {},
   "outputs": [
    {
     "data": {
      "application/vnd.plotly.v1+json": {
       "config": {
        "plotlyServerURL": "https://plot.ly"
       },
       "data": [
        {
         "customdata": [
          0.0002825554697945513,
          null,
          0.0004580336107182146,
          0.0003743576308813727,
          0.00048496481161785566,
          null,
          0.0006720668858310094,
          0.0007396536707449658,
          0.00048360019260084423,
          0.0004594710488843068,
          0.0004838550291050009,
          0.0005075357754709757,
          0.00044202243543360397,
          null,
          0.0006564539449273801,
          null,
          null,
          0.0005737494735736348,
          0.000350771820838011,
          0.00047520753694658215,
          0.0006591708585318597,
          0.0005363550767746566,
          0.0005977874284947799,
          0.0006818683479724181,
          0.00046492468728272414,
          0.0006642399535307778,
          0.0005922426595112203,
          0.0005968516891255956,
          0.0003574397389671438,
          0.0004402303848388932,
          0.0006785304236970494,
          0.0005108304209859147,
          0.0005418032339664787,
          0.0005611837347777412,
          0.0004471155690859458,
          0.0005449504699767728,
          0.0004406008872457533,
          0.0005133217431206766,
          0.0005939885940076929,
          0.0005868978217991518,
          0.0006301846685825638,
          0.00047695376104666987,
          0.000596722726293301,
          0.000495025372150813,
          0.0005543179036200599,
          0.000799192924423244,
          0.00036918507584879156
         ],
         "error_x": {
          "array": [
           0.0002825554697945513,
           null,
           0.0004580336107182146,
           0.0003743576308813727,
           0.00048496481161785566,
           null,
           0.0006720668858310094,
           0.0007396536707449658,
           0.00048360019260084423,
           0.0004594710488843068,
           0.0004838550291050009,
           0.0005075357754709757,
           0.00044202243543360397,
           null,
           0.0006564539449273801,
           null,
           null,
           0.0005737494735736348,
           0.000350771820838011,
           0.00047520753694658215,
           0.0006591708585318597,
           0.0005363550767746566,
           0.0005977874284947799,
           0.0006818683479724181,
           0.00046492468728272414,
           0.0006642399535307778,
           0.0005922426595112203,
           0.0005968516891255956,
           0.0003574397389671438,
           0.0004402303848388932,
           0.0006785304236970494,
           0.0005108304209859147,
           0.0005418032339664787,
           0.0005611837347777412,
           0.0004471155690859458,
           0.0005449504699767728,
           0.0004406008872457533,
           0.0005133217431206766,
           0.0005939885940076929,
           0.0005868978217991518,
           0.0006301846685825638,
           0.00047695376104666987,
           0.000596722726293301,
           0.000495025372150813,
           0.0005543179036200599,
           0.000799192924423244,
           0.00036918507584879156
          ],
          "type": "data"
         },
         "hovertemplate": "Feature: %{y} <br>Percentage of overall feature importance: %{x:.3f} +- %{customdata:.3f}<br><extra></extra>",
         "name": "Correlation",
         "orientation": "h",
         "type": "bar",
         "x": [
          0.002862593210738077,
          0.0006373748621205383,
          0.005457650110787114,
          0.007409891348006528,
          0.0005620532467644451,
          0.002413772612957963,
          0.007158739268953699,
          0.007633358555854912,
          0.0062881260114090905,
          0.0027583714496656293,
          0.003498697834294864,
          0.004940527425269962,
          0.006451162270593351,
          0.0003147690121636923,
          0.002059722239896915,
          0.0008409579354842464,
          0.0023805399618136657,
          0.005125535104548443,
          0.009399127869360849,
          0.004574321920730245,
          0.004581529490926917,
          0.0011414739114195428,
          0.013535259118627303,
          0.013639954102216127,
          0.03470729473951719,
          0.05869676493884115,
          0.015528472279933144,
          0.05671060917233692,
          0.05422006447110651,
          0.06061779550392475,
          0.06092778768766584,
          0.051828302922648256,
          0.054200225539019015,
          0.060002267061139224,
          0.017932316519015615,
          0.02338812397324161,
          0.06606101893703767,
          0.06032367984798781,
          0.001521157082661468,
          0.0576870032431866,
          0.06500814314460389,
          0.0021542762702698,
          0.0007244309547945943,
          0.009151751053591086,
          0.05677170292970781,
          0.007820933953887011,
          0.008350368899278851
         ],
         "y": [
          "Other_ethnicity",
          "Do_not_know",
          "African",
          "Caribbean",
          "Asian_Other",
          "Bangladeshi",
          "Pakistani",
          "Asian",
          "Chinese",
          "White_and_Asian",
          "Mixed_Other",
          "White_and_Black_Caribbean",
          "Mixed",
          "nan",
          "Prefer_not_to_answer",
          "White_and_Black_African",
          "Black_Other",
          "Indian",
          "Black",
          "Irish",
          "White_Other",
          "Other",
          "White",
          "British",
          "Absence of notch position in the pulse waveform",
          "Minimum carotid IMT (intima-medial thickness) at 120 degrees ",
          "Sex",
          "Maximum carotid IMT (intima-medial thickness) at 210 degrees ",
          "Minimum carotid IMT (intima-medial thickness) at 210 degrees ",
          "Maximum carotid IMT (intima-medial thickness) at 150 degrees ",
          "Maximum carotid IMT (intima-medial thickness) at 120 degrees ",
          "Minimum carotid IMT (intima-medial thickness) at 240 degrees ",
          "Maximum carotid IMT (intima-medial thickness) at 240 degrees ",
          "Minimum carotid IMT (intima-medial thickness) at 150 degrees ",
          "Position of the shoulder on the pulse waveform",
          "Position of the pulse wave peak",
          "Mean carotid IMT (intima-medial thickness) at 150 degrees ",
          "Mean carotid IMT (intima-medial thickness) at 210 degrees ",
          "Position of pulse wave notch",
          "Mean carotid IMT (intima-medial thickness) at 240 degrees ",
          "Mean carotid IMT (intima-medial thickness) at 120 degrees ",
          "Pulse wave reflection index",
          "Pulse rate",
          "Diastolic blood pressure",
          "Systolic blood pressure",
          "Pulse wave Arterial Stiffness index",
          "Pulse wave peak to peak time"
         ]
        },
        {
         "customdata": [
          0,
          0.000023916380766481085,
          0.0000267510240298541,
          0.000034769012614907286,
          0.000047970517645007896,
          0.0000656516800573225,
          0.00007289295316544885,
          0,
          0.00005363000302735906,
          0.000035826564042689365,
          0.000021207344184653023,
          0.0000547837768018811,
          0.00005443898266625373,
          0.00007291587574212642,
          0.00007587600514116892,
          0.00006331551304102846,
          0.00001701460675119502,
          0.000058823150388865724,
          0.000048539771989533806,
          0.00007831507067296084,
          0,
          0.00006802719978388245,
          0.00010634528517921462,
          0.00011672458539419063,
          0.000048639426356630536,
          0.00004736872934140376,
          0.00006432633581854427,
          0.0001495578466456076,
          0.00015472261238768645,
          0.00012507082089996478,
          0.00012926005831331234,
          0.00009593295871595693,
          0.000038057588861674115,
          0.000030190690135705562,
          0.00011803597895359378,
          0.00013162698719976218,
          0.00011274150000562853,
          0.00024699094373267327,
          0.00010873313070041686,
          0.0001481117521859983,
          0.0001290590736544345,
          0.00007609654528345265,
          0.00014539181278125886,
          0.00005974787480826192,
          0.00006417684685278393,
          0.000038450481065577394,
          0.00003840058881421867
         ],
         "error_x": {
          "array": [
           0,
           0.000023916380766481085,
           0.0000267510240298541,
           0.000034769012614907286,
           0.000047970517645007896,
           0.0000656516800573225,
           0.00007289295316544885,
           0,
           0.00005363000302735906,
           0.000035826564042689365,
           0.000021207344184653023,
           0.0000547837768018811,
           0.00005443898266625373,
           0.00007291587574212642,
           0.00007587600514116892,
           0.00006331551304102846,
           0.00001701460675119502,
           0.000058823150388865724,
           0.000048539771989533806,
           0.00007831507067296084,
           0,
           0.00006802719978388245,
           0.00010634528517921462,
           0.00011672458539419063,
           0.000048639426356630536,
           0.00004736872934140376,
           0.00006432633581854427,
           0.0001495578466456076,
           0.00015472261238768645,
           0.00012507082089996478,
           0.00012926005831331234,
           0.00009593295871595693,
           0.000038057588861674115,
           0.000030190690135705562,
           0.00011803597895359378,
           0.00013162698719976218,
           0.00011274150000562853,
           0.00024699094373267327,
           0.00010873313070041686,
           0.0001481117521859983,
           0.0001290590736544345,
           0.00007609654528345265,
           0.00014539181278125886,
           0.00005974787480826192,
           0.00006417684685278393,
           0.000038450481065577394,
           0.00003840058881421867
          ],
          "type": "data"
         },
         "hovertemplate": "Feature: %{y} <br>Percentage of overall feature importance: %{x:.3f} +- %{customdata:.3f}<br><extra></extra>",
         "name": "Elastic Net",
         "orientation": "h",
         "type": "bar",
         "x": [
          0,
          0.0007625166592096634,
          0,
          0,
          0.003690913019654636,
          0.0033122556654196465,
          0.011312659123786394,
          0,
          0.006265009036600425,
          0,
          0,
          0.005031588356684892,
          0.0006482485875114089,
          0.0052951870303051835,
          0.007423142511667931,
          0.000971990011158966,
          0.0015844733066942894,
          0,
          0.01598059987845758,
          0.005836171919408126,
          0,
          0.003337873349452954,
          0.01587643397006063,
          0.011393539800469659,
          0.04649340022250954,
          0,
          0.03528260350815602,
          0.0070938175630662105,
          0.004191175170779785,
          0.0007739901498948615,
          0.012581403755895,
          0.005153356425464779,
          0,
          0,
          0.01129696898202591,
          0.051488964328755445,
          0.07051713128506762,
          0.037655916660433164,
          0.007152389636661377,
          0.02326165738953418,
          0.03522097771986462,
          0.017166433932615115,
          0.12467591424749602,
          0.188852877286481,
          0.2219311345840024,
          0.0003955691509526812,
          0.00009171577380181041
         ],
         "y": [
          "Other_ethnicity",
          "Do_not_know",
          "African",
          "Caribbean",
          "Asian_Other",
          "Bangladeshi",
          "Pakistani",
          "Asian",
          "Chinese",
          "White_and_Asian",
          "Mixed_Other",
          "White_and_Black_Caribbean",
          "Mixed",
          "nan",
          "Prefer_not_to_answer",
          "White_and_Black_African",
          "Black_Other",
          "Indian",
          "Black",
          "Irish",
          "White_Other",
          "Other",
          "White",
          "British",
          "Absence of notch position in the pulse waveform",
          "Minimum carotid IMT (intima-medial thickness) at 120 degrees ",
          "Sex",
          "Maximum carotid IMT (intima-medial thickness) at 210 degrees ",
          "Minimum carotid IMT (intima-medial thickness) at 210 degrees ",
          "Maximum carotid IMT (intima-medial thickness) at 150 degrees ",
          "Maximum carotid IMT (intima-medial thickness) at 120 degrees ",
          "Minimum carotid IMT (intima-medial thickness) at 240 degrees ",
          "Maximum carotid IMT (intima-medial thickness) at 240 degrees ",
          "Minimum carotid IMT (intima-medial thickness) at 150 degrees ",
          "Position of the shoulder on the pulse waveform",
          "Position of the pulse wave peak",
          "Mean carotid IMT (intima-medial thickness) at 150 degrees ",
          "Mean carotid IMT (intima-medial thickness) at 210 degrees ",
          "Position of pulse wave notch",
          "Mean carotid IMT (intima-medial thickness) at 240 degrees ",
          "Mean carotid IMT (intima-medial thickness) at 120 degrees ",
          "Pulse wave reflection index",
          "Pulse rate",
          "Diastolic blood pressure",
          "Systolic blood pressure",
          "Pulse wave Arterial Stiffness index",
          "Pulse wave peak to peak time"
         ]
        },
        {
         "customdata": [
          0,
          0,
          0,
          0,
          0,
          0,
          0,
          0,
          0,
          0,
          0,
          0,
          0,
          0,
          0,
          0,
          0,
          0.0001129828979650734,
          0.00012315233374178002,
          0.0002950948526019571,
          0.00024242561139636872,
          0.00011464858335460292,
          0.0002950948526019571,
          0.0002950948526019571,
          0.0006207700210634373,
          0.0005928605021989591,
          0.0006797592352621003,
          0.0013368789474144317,
          0.0019032581259701637,
          0.0015853122692673076,
          0.001256365077167715,
          0.0016159491556569838,
          0.0016401314191803352,
          0.00112736527986568,
          0.0016033863167846983,
          0.0020093087325917486,
          0.0016355013221872477,
          0.0026596580101617847,
          0.0018294098517101396,
          0.0009699630832588912,
          0.0030340663003402776,
          0.0012820073159171969,
          0.0015646082745126616,
          0.001404197648931031,
          0.0020411361566468125,
          0.0018216557332720903,
          0.002432479424167643
         ],
         "error_x": {
          "array": [
           0,
           0,
           0,
           0,
           0,
           0,
           0,
           0,
           0,
           0,
           0,
           0,
           0,
           0,
           0,
           0,
           0,
           0.0001129828979650734,
           0.00012315233374178002,
           0.0002950948526019571,
           0.00024242561139636872,
           0.00011464858335460292,
           0.0002950948526019571,
           0.0002950948526019571,
           0.0006207700210634373,
           0.0005928605021989591,
           0.0006797592352621003,
           0.0013368789474144317,
           0.0019032581259701637,
           0.0015853122692673076,
           0.001256365077167715,
           0.0016159491556569838,
           0.0016401314191803352,
           0.00112736527986568,
           0.0016033863167846983,
           0.0020093087325917486,
           0.0016355013221872477,
           0.0026596580101617847,
           0.0018294098517101396,
           0.0009699630832588912,
           0.0030340663003402776,
           0.0012820073159171969,
           0.0015646082745126616,
           0.001404197648931031,
           0.0020411361566468125,
           0.0018216557332720903,
           0.002432479424167643
          ],
          "type": "data"
         },
         "hovertemplate": "Feature: %{y} <br>Percentage of overall feature importance: %{x:.3f} +- %{customdata:.3f}<br><extra></extra>",
         "name": "Light GBM",
         "orientation": "h",
         "type": "bar",
         "x": [
          0,
          0,
          0,
          0,
          0,
          0,
          0,
          0,
          0,
          0,
          0,
          0,
          0,
          0,
          0,
          0,
          0,
          0.00021351553325496563,
          0.000747304366392643,
          0.001067577666275144,
          0.0011743354329026795,
          0.0019216397992953226,
          0.003950037365218286,
          0.005337888331376036,
          0.013131205295185178,
          0.019963702359346608,
          0.021778584392014497,
          0.022952919824917282,
          0.023273193124799783,
          0.023379950891427317,
          0.023913739724564998,
          0.024340770791075033,
          0.025621863990605353,
          0.02893135475605853,
          0.039393615885555636,
          0.04088822461834103,
          0.04569232411657949,
          0.04772072168250246,
          0.04942884594854281,
          0.051030212447955636,
          0.051243727981210706,
          0.062453293477100456,
          0.06597629977580871,
          0.06832497064161427,
          0.0708871570406748,
          0.08081562933703434,
          0.08444539340237013
         ],
         "y": [
          "Other_ethnicity",
          "Do_not_know",
          "African",
          "Caribbean",
          "Asian_Other",
          "Bangladeshi",
          "Pakistani",
          "Asian",
          "Chinese",
          "White_and_Asian",
          "Mixed_Other",
          "White_and_Black_Caribbean",
          "Mixed",
          "nan",
          "Prefer_not_to_answer",
          "White_and_Black_African",
          "Black_Other",
          "Indian",
          "Black",
          "Irish",
          "White_Other",
          "Other",
          "White",
          "British",
          "Absence of notch position in the pulse waveform",
          "Minimum carotid IMT (intima-medial thickness) at 120 degrees ",
          "Sex",
          "Maximum carotid IMT (intima-medial thickness) at 210 degrees ",
          "Minimum carotid IMT (intima-medial thickness) at 210 degrees ",
          "Maximum carotid IMT (intima-medial thickness) at 150 degrees ",
          "Maximum carotid IMT (intima-medial thickness) at 120 degrees ",
          "Minimum carotid IMT (intima-medial thickness) at 240 degrees ",
          "Maximum carotid IMT (intima-medial thickness) at 240 degrees ",
          "Minimum carotid IMT (intima-medial thickness) at 150 degrees ",
          "Position of the shoulder on the pulse waveform",
          "Position of the pulse wave peak",
          "Mean carotid IMT (intima-medial thickness) at 150 degrees ",
          "Mean carotid IMT (intima-medial thickness) at 210 degrees ",
          "Position of pulse wave notch",
          "Mean carotid IMT (intima-medial thickness) at 240 degrees ",
          "Mean carotid IMT (intima-medial thickness) at 120 degrees ",
          "Pulse wave reflection index",
          "Pulse rate",
          "Diastolic blood pressure",
          "Systolic blood pressure",
          "Pulse wave Arterial Stiffness index",
          "Pulse wave peak to peak time"
         ]
        },
        {
         "customdata": [
          0.0027318449180964766,
          0.003531596432209322,
          0.001429962501473901,
          0.0012908963662089572,
          0.000616948082739106,
          0.0009663956625422627,
          0.0001845029129684707,
          0.005201311608436129,
          0.00192901238148296,
          0.00036758284987549347,
          0.0001965060893329673,
          0.0003634993954460738,
          0.0006080711586503235,
          0.0014394379022147946,
          0.002668102511483897,
          0.001513614247233073,
          0.0007521142538188876,
          0.0023162124844319345,
          0.002960021573602087,
          0.003125501273932718,
          0.004019566071197608,
          0.004065838373057405,
          0.03156744743861189,
          0.009487521224079937,
          0.0005602105721072121,
          0.0003290764931425454,
          0.0012833413646490032,
          0.00023978296597989307,
          0.00013417698246817345,
          0.0004881327743179523,
          0.0003782980578768659,
          0.00019142755793048283,
          0.0002965404066165664,
          0.00030300913407914045,
          0.0006072206864352269,
          0.000954236533081591,
          0.0017152960991288614,
          0.0010031654609440437,
          0.0007288867512853627,
          0.0006144668099942605,
          0.001342180498459331,
          0.0008063225072783861,
          0.0017110884174377635,
          0.0033789316800335346,
          0.002625089450642846,
          0.013521235085963727,
          0.014897227683817996
         ],
         "error_x": {
          "array": [
           0.0027318449180964766,
           0.003531596432209322,
           0.001429962501473901,
           0.0012908963662089572,
           0.000616948082739106,
           0.0009663956625422627,
           0.0001845029129684707,
           0.005201311608436129,
           0.00192901238148296,
           0.00036758284987549347,
           0.0001965060893329673,
           0.0003634993954460738,
           0.0006080711586503235,
           0.0014394379022147946,
           0.002668102511483897,
           0.001513614247233073,
           0.0007521142538188876,
           0.0023162124844319345,
           0.002960021573602087,
           0.003125501273932718,
           0.004019566071197608,
           0.004065838373057405,
           0.03156744743861189,
           0.009487521224079937,
           0.0005602105721072121,
           0.0003290764931425454,
           0.0012833413646490032,
           0.00023978296597989307,
           0.00013417698246817345,
           0.0004881327743179523,
           0.0003782980578768659,
           0.00019142755793048283,
           0.0002965404066165664,
           0.00030300913407914045,
           0.0006072206864352269,
           0.000954236533081591,
           0.0017152960991288614,
           0.0010031654609440437,
           0.0007288867512853627,
           0.0006144668099942605,
           0.001342180498459331,
           0.0008063225072783861,
           0.0017110884174377635,
           0.0033789316800335346,
           0.002625089450642846,
           0.013521235085963727,
           0.014897227683817996
          ],
          "type": "data"
         },
         "hovertemplate": "Feature: %{y} <br>Percentage of overall feature importance: %{x:.3f} +- %{customdata:.3f}<br><extra></extra>",
         "name": "Neural Network",
         "orientation": "h",
         "type": "bar",
         "x": [
          0.009834328309485258,
          0.0010187171372887994,
          0.004378343211754559,
          0.004896329563412701,
          0.0012525241368141517,
          0.0006950759446570552,
          0.0011654516773816706,
          0.014917656945881841,
          0.004526670532515632,
          0.0007217800576033647,
          0.0008802782920555883,
          0.0005945535557869096,
          0.0032540658724096064,
          0.0014138227436424895,
          0.006142252957262294,
          0.0013990489892071114,
          0.00016362190064615645,
          0.007044384191028033,
          0.011374321818822482,
          0.008340092220094034,
          0.01882421317267906,
          0.013002586209334109,
          0.13692075833461245,
          0.04299666996826494,
          0.0069613329358618,
          0.0005794629248836328,
          0.023631800755482657,
          0.0012241456611242322,
          0.0013730740607878803,
          0.0018395517476940191,
          0.0017388061229975046,
          0.0006575238486411859,
          0.0009908621644339635,
          0.001138994164422013,
          0.005819808968790687,
          0.017343265969217942,
          0.021806507181622116,
          0.009864538498221416,
          0.003965529362321995,
          0.0038881989949505575,
          0.01075247408913443,
          0.01617325559378109,
          0.058081687420407556,
          0.08949436441175401,
          0.10784926458546076,
          0.1276306925473458,
          0.19143731024802244
         ],
         "y": [
          "Other_ethnicity",
          "Do_not_know",
          "African",
          "Caribbean",
          "Asian_Other",
          "Bangladeshi",
          "Pakistani",
          "Asian",
          "Chinese",
          "White_and_Asian",
          "Mixed_Other",
          "White_and_Black_Caribbean",
          "Mixed",
          "nan",
          "Prefer_not_to_answer",
          "White_and_Black_African",
          "Black_Other",
          "Indian",
          "Black",
          "Irish",
          "White_Other",
          "Other",
          "White",
          "British",
          "Absence of notch position in the pulse waveform",
          "Minimum carotid IMT (intima-medial thickness) at 120 degrees ",
          "Sex",
          "Maximum carotid IMT (intima-medial thickness) at 210 degrees ",
          "Minimum carotid IMT (intima-medial thickness) at 210 degrees ",
          "Maximum carotid IMT (intima-medial thickness) at 150 degrees ",
          "Maximum carotid IMT (intima-medial thickness) at 120 degrees ",
          "Minimum carotid IMT (intima-medial thickness) at 240 degrees ",
          "Maximum carotid IMT (intima-medial thickness) at 240 degrees ",
          "Minimum carotid IMT (intima-medial thickness) at 150 degrees ",
          "Position of the shoulder on the pulse waveform",
          "Position of the pulse wave peak",
          "Mean carotid IMT (intima-medial thickness) at 150 degrees ",
          "Mean carotid IMT (intima-medial thickness) at 210 degrees ",
          "Position of pulse wave notch",
          "Mean carotid IMT (intima-medial thickness) at 240 degrees ",
          "Mean carotid IMT (intima-medial thickness) at 120 degrees ",
          "Pulse wave reflection index",
          "Pulse rate",
          "Diastolic blood pressure",
          "Systolic blood pressure",
          "Pulse wave Arterial Stiffness index",
          "Pulse wave peak to peak time"
         ]
        }
       ],
       "layout": {
        "height": 1175,
        "template": {
         "data": {
          "bar": [
           {
            "error_x": {
             "color": "#2a3f5f"
            },
            "error_y": {
             "color": "#2a3f5f"
            },
            "marker": {
             "line": {
              "color": "#E5ECF6",
              "width": 0.5
             }
            },
            "type": "bar"
           }
          ],
          "barpolar": [
           {
            "marker": {
             "line": {
              "color": "#E5ECF6",
              "width": 0.5
             }
            },
            "type": "barpolar"
           }
          ],
          "carpet": [
           {
            "aaxis": {
             "endlinecolor": "#2a3f5f",
             "gridcolor": "white",
             "linecolor": "white",
             "minorgridcolor": "white",
             "startlinecolor": "#2a3f5f"
            },
            "baxis": {
             "endlinecolor": "#2a3f5f",
             "gridcolor": "white",
             "linecolor": "white",
             "minorgridcolor": "white",
             "startlinecolor": "#2a3f5f"
            },
            "type": "carpet"
           }
          ],
          "choropleth": [
           {
            "colorbar": {
             "outlinewidth": 0,
             "ticks": ""
            },
            "type": "choropleth"
           }
          ],
          "contour": [
           {
            "colorbar": {
             "outlinewidth": 0,
             "ticks": ""
            },
            "colorscale": [
             [
              0,
              "#0d0887"
             ],
             [
              0.1111111111111111,
              "#46039f"
             ],
             [
              0.2222222222222222,
              "#7201a8"
             ],
             [
              0.3333333333333333,
              "#9c179e"
             ],
             [
              0.4444444444444444,
              "#bd3786"
             ],
             [
              0.5555555555555556,
              "#d8576b"
             ],
             [
              0.6666666666666666,
              "#ed7953"
             ],
             [
              0.7777777777777778,
              "#fb9f3a"
             ],
             [
              0.8888888888888888,
              "#fdca26"
             ],
             [
              1,
              "#f0f921"
             ]
            ],
            "type": "contour"
           }
          ],
          "contourcarpet": [
           {
            "colorbar": {
             "outlinewidth": 0,
             "ticks": ""
            },
            "type": "contourcarpet"
           }
          ],
          "heatmap": [
           {
            "colorbar": {
             "outlinewidth": 0,
             "ticks": ""
            },
            "colorscale": [
             [
              0,
              "#0d0887"
             ],
             [
              0.1111111111111111,
              "#46039f"
             ],
             [
              0.2222222222222222,
              "#7201a8"
             ],
             [
              0.3333333333333333,
              "#9c179e"
             ],
             [
              0.4444444444444444,
              "#bd3786"
             ],
             [
              0.5555555555555556,
              "#d8576b"
             ],
             [
              0.6666666666666666,
              "#ed7953"
             ],
             [
              0.7777777777777778,
              "#fb9f3a"
             ],
             [
              0.8888888888888888,
              "#fdca26"
             ],
             [
              1,
              "#f0f921"
             ]
            ],
            "type": "heatmap"
           }
          ],
          "heatmapgl": [
           {
            "colorbar": {
             "outlinewidth": 0,
             "ticks": ""
            },
            "colorscale": [
             [
              0,
              "#0d0887"
             ],
             [
              0.1111111111111111,
              "#46039f"
             ],
             [
              0.2222222222222222,
              "#7201a8"
             ],
             [
              0.3333333333333333,
              "#9c179e"
             ],
             [
              0.4444444444444444,
              "#bd3786"
             ],
             [
              0.5555555555555556,
              "#d8576b"
             ],
             [
              0.6666666666666666,
              "#ed7953"
             ],
             [
              0.7777777777777778,
              "#fb9f3a"
             ],
             [
              0.8888888888888888,
              "#fdca26"
             ],
             [
              1,
              "#f0f921"
             ]
            ],
            "type": "heatmapgl"
           }
          ],
          "histogram": [
           {
            "marker": {
             "colorbar": {
              "outlinewidth": 0,
              "ticks": ""
             }
            },
            "type": "histogram"
           }
          ],
          "histogram2d": [
           {
            "colorbar": {
             "outlinewidth": 0,
             "ticks": ""
            },
            "colorscale": [
             [
              0,
              "#0d0887"
             ],
             [
              0.1111111111111111,
              "#46039f"
             ],
             [
              0.2222222222222222,
              "#7201a8"
             ],
             [
              0.3333333333333333,
              "#9c179e"
             ],
             [
              0.4444444444444444,
              "#bd3786"
             ],
             [
              0.5555555555555556,
              "#d8576b"
             ],
             [
              0.6666666666666666,
              "#ed7953"
             ],
             [
              0.7777777777777778,
              "#fb9f3a"
             ],
             [
              0.8888888888888888,
              "#fdca26"
             ],
             [
              1,
              "#f0f921"
             ]
            ],
            "type": "histogram2d"
           }
          ],
          "histogram2dcontour": [
           {
            "colorbar": {
             "outlinewidth": 0,
             "ticks": ""
            },
            "colorscale": [
             [
              0,
              "#0d0887"
             ],
             [
              0.1111111111111111,
              "#46039f"
             ],
             [
              0.2222222222222222,
              "#7201a8"
             ],
             [
              0.3333333333333333,
              "#9c179e"
             ],
             [
              0.4444444444444444,
              "#bd3786"
             ],
             [
              0.5555555555555556,
              "#d8576b"
             ],
             [
              0.6666666666666666,
              "#ed7953"
             ],
             [
              0.7777777777777778,
              "#fb9f3a"
             ],
             [
              0.8888888888888888,
              "#fdca26"
             ],
             [
              1,
              "#f0f921"
             ]
            ],
            "type": "histogram2dcontour"
           }
          ],
          "mesh3d": [
           {
            "colorbar": {
             "outlinewidth": 0,
             "ticks": ""
            },
            "type": "mesh3d"
           }
          ],
          "parcoords": [
           {
            "line": {
             "colorbar": {
              "outlinewidth": 0,
              "ticks": ""
             }
            },
            "type": "parcoords"
           }
          ],
          "pie": [
           {
            "automargin": true,
            "type": "pie"
           }
          ],
          "scatter": [
           {
            "marker": {
             "colorbar": {
              "outlinewidth": 0,
              "ticks": ""
             }
            },
            "type": "scatter"
           }
          ],
          "scatter3d": [
           {
            "line": {
             "colorbar": {
              "outlinewidth": 0,
              "ticks": ""
             }
            },
            "marker": {
             "colorbar": {
              "outlinewidth": 0,
              "ticks": ""
             }
            },
            "type": "scatter3d"
           }
          ],
          "scattercarpet": [
           {
            "marker": {
             "colorbar": {
              "outlinewidth": 0,
              "ticks": ""
             }
            },
            "type": "scattercarpet"
           }
          ],
          "scattergeo": [
           {
            "marker": {
             "colorbar": {
              "outlinewidth": 0,
              "ticks": ""
             }
            },
            "type": "scattergeo"
           }
          ],
          "scattergl": [
           {
            "marker": {
             "colorbar": {
              "outlinewidth": 0,
              "ticks": ""
             }
            },
            "type": "scattergl"
           }
          ],
          "scattermapbox": [
           {
            "marker": {
             "colorbar": {
              "outlinewidth": 0,
              "ticks": ""
             }
            },
            "type": "scattermapbox"
           }
          ],
          "scatterpolar": [
           {
            "marker": {
             "colorbar": {
              "outlinewidth": 0,
              "ticks": ""
             }
            },
            "type": "scatterpolar"
           }
          ],
          "scatterpolargl": [
           {
            "marker": {
             "colorbar": {
              "outlinewidth": 0,
              "ticks": ""
             }
            },
            "type": "scatterpolargl"
           }
          ],
          "scatterternary": [
           {
            "marker": {
             "colorbar": {
              "outlinewidth": 0,
              "ticks": ""
             }
            },
            "type": "scatterternary"
           }
          ],
          "surface": [
           {
            "colorbar": {
             "outlinewidth": 0,
             "ticks": ""
            },
            "colorscale": [
             [
              0,
              "#0d0887"
             ],
             [
              0.1111111111111111,
              "#46039f"
             ],
             [
              0.2222222222222222,
              "#7201a8"
             ],
             [
              0.3333333333333333,
              "#9c179e"
             ],
             [
              0.4444444444444444,
              "#bd3786"
             ],
             [
              0.5555555555555556,
              "#d8576b"
             ],
             [
              0.6666666666666666,
              "#ed7953"
             ],
             [
              0.7777777777777778,
              "#fb9f3a"
             ],
             [
              0.8888888888888888,
              "#fdca26"
             ],
             [
              1,
              "#f0f921"
             ]
            ],
            "type": "surface"
           }
          ],
          "table": [
           {
            "cells": {
             "fill": {
              "color": "#EBF0F8"
             },
             "line": {
              "color": "white"
             }
            },
            "header": {
             "fill": {
              "color": "#C8D4E3"
             },
             "line": {
              "color": "white"
             }
            },
            "type": "table"
           }
          ]
         },
         "layout": {
          "annotationdefaults": {
           "arrowcolor": "#2a3f5f",
           "arrowhead": 0,
           "arrowwidth": 1
          },
          "autotypenumbers": "strict",
          "coloraxis": {
           "colorbar": {
            "outlinewidth": 0,
            "ticks": ""
           }
          },
          "colorscale": {
           "diverging": [
            [
             0,
             "#8e0152"
            ],
            [
             0.1,
             "#c51b7d"
            ],
            [
             0.2,
             "#de77ae"
            ],
            [
             0.3,
             "#f1b6da"
            ],
            [
             0.4,
             "#fde0ef"
            ],
            [
             0.5,
             "#f7f7f7"
            ],
            [
             0.6,
             "#e6f5d0"
            ],
            [
             0.7,
             "#b8e186"
            ],
            [
             0.8,
             "#7fbc41"
            ],
            [
             0.9,
             "#4d9221"
            ],
            [
             1,
             "#276419"
            ]
           ],
           "sequential": [
            [
             0,
             "#0d0887"
            ],
            [
             0.1111111111111111,
             "#46039f"
            ],
            [
             0.2222222222222222,
             "#7201a8"
            ],
            [
             0.3333333333333333,
             "#9c179e"
            ],
            [
             0.4444444444444444,
             "#bd3786"
            ],
            [
             0.5555555555555556,
             "#d8576b"
            ],
            [
             0.6666666666666666,
             "#ed7953"
            ],
            [
             0.7777777777777778,
             "#fb9f3a"
            ],
            [
             0.8888888888888888,
             "#fdca26"
            ],
            [
             1,
             "#f0f921"
            ]
           ],
           "sequentialminus": [
            [
             0,
             "#0d0887"
            ],
            [
             0.1111111111111111,
             "#46039f"
            ],
            [
             0.2222222222222222,
             "#7201a8"
            ],
            [
             0.3333333333333333,
             "#9c179e"
            ],
            [
             0.4444444444444444,
             "#bd3786"
            ],
            [
             0.5555555555555556,
             "#d8576b"
            ],
            [
             0.6666666666666666,
             "#ed7953"
            ],
            [
             0.7777777777777778,
             "#fb9f3a"
            ],
            [
             0.8888888888888888,
             "#fdca26"
            ],
            [
             1,
             "#f0f921"
            ]
           ]
          },
          "colorway": [
           "#636efa",
           "#EF553B",
           "#00cc96",
           "#ab63fa",
           "#FFA15A",
           "#19d3f3",
           "#FF6692",
           "#B6E880",
           "#FF97FF",
           "#FECB52"
          ],
          "font": {
           "color": "#2a3f5f"
          },
          "geo": {
           "bgcolor": "white",
           "lakecolor": "white",
           "landcolor": "#E5ECF6",
           "showlakes": true,
           "showland": true,
           "subunitcolor": "white"
          },
          "hoverlabel": {
           "align": "left"
          },
          "hovermode": "closest",
          "mapbox": {
           "style": "light"
          },
          "paper_bgcolor": "white",
          "plot_bgcolor": "#E5ECF6",
          "polar": {
           "angularaxis": {
            "gridcolor": "white",
            "linecolor": "white",
            "ticks": ""
           },
           "bgcolor": "#E5ECF6",
           "radialaxis": {
            "gridcolor": "white",
            "linecolor": "white",
            "ticks": ""
           }
          },
          "scene": {
           "xaxis": {
            "backgroundcolor": "#E5ECF6",
            "gridcolor": "white",
            "gridwidth": 2,
            "linecolor": "white",
            "showbackground": true,
            "ticks": "",
            "zerolinecolor": "white"
           },
           "yaxis": {
            "backgroundcolor": "#E5ECF6",
            "gridcolor": "white",
            "gridwidth": 2,
            "linecolor": "white",
            "showbackground": true,
            "ticks": "",
            "zerolinecolor": "white"
           },
           "zaxis": {
            "backgroundcolor": "#E5ECF6",
            "gridcolor": "white",
            "gridwidth": 2,
            "linecolor": "white",
            "showbackground": true,
            "ticks": "",
            "zerolinecolor": "white"
           }
          },
          "shapedefaults": {
           "line": {
            "color": "#2a3f5f"
           }
          },
          "ternary": {
           "aaxis": {
            "gridcolor": "white",
            "linecolor": "white",
            "ticks": ""
           },
           "baxis": {
            "gridcolor": "white",
            "linecolor": "white",
            "ticks": ""
           },
           "bgcolor": "#E5ECF6",
           "caxis": {
            "gridcolor": "white",
            "linecolor": "white",
            "ticks": ""
           }
          },
          "title": {
           "x": 0.05
          },
          "xaxis": {
           "automargin": true,
           "gridcolor": "white",
           "linecolor": "white",
           "ticks": "",
           "title": {
            "standoff": 15
           },
           "zerolinecolor": "white",
           "zerolinewidth": 2
          },
          "yaxis": {
           "automargin": true,
           "gridcolor": "white",
           "linecolor": "white",
           "ticks": "",
           "title": {
            "standoff": 15
           },
           "zerolinecolor": "white",
           "zerolinewidth": 2
          }
         }
        },
        "width": 800,
        "xaxis": {
         "showgrid": false,
         "title": {
          "text": "Percentage of overall feature importance"
         }
        },
        "yaxis": {
         "showgrid": false,
         "title": {
          "text": "Features"
         }
        }
       }
      }
     },
     "metadata": {},
     "output_type": "display_data"
    }
   ],
   "source": [
    "import plotly.graph_objects as go\n",
    "from dash_website import ALGORITHMS_RENDERING\n",
    "\n",
    "fig = go.Figure()\n",
    "hovertemplate = \"Feature: %{y} <br>Percentage of overall feature importance: %{x:.3f} +- %{customdata:.3f}<br><extra></extra>\"\n",
    "\n",
    "for algorithm in [\"correlation\", \"elastic_net\", \"light_gbm\", \"neural_network\"]:\n",
    "    fig.add_bar(\n",
    "            name=ALGORITHMS_RENDERING[algorithm],\n",
    "            x=features.loc[sorted_features, (algorithm, \"mean\")].abs().values[::-1],\n",
    "            y=sorted_features[::-1],\n",
    "            error_x={\n",
    "                \"array\": features.loc[sorted_features, (algorithm, \"std\")].values[::-1],\n",
    "                \"type\": \"data\",\n",
    "            },\n",
    "            orientation=\"h\",\n",
    "            hovertemplate=hovertemplate,\n",
    "            customdata=features.loc[sorted_features, (algorithm, \"std\")].values[::-1]\n",
    "        )\n",
    "\n",
    "fig.update_layout(\n",
    "    {\n",
    "        \"width\": 800,\n",
    "        \"height\": int(25 * len(sorted_features)),\n",
    "        \"xaxis\": {\"title\": \"Percentage of overall feature importance\", \"showgrid\": False},\n",
    "        \"yaxis\": {\"title\": \"Features\", \"showgrid\": False},\n",
    "    }\n",
    ")\n",
    "fig.show()"
   ]
  },
  {
   "cell_type": "code",
   "execution_count": 8,
   "metadata": {},
   "outputs": [
    {
     "data": {
      "text/html": "<div>\n<style scoped>\n    .dataframe tbody tr th:only-of-type {\n        vertical-align: middle;\n    }\n\n    .dataframe tbody tr th {\n        vertical-align: top;\n    }\n\n    .dataframe thead th {\n        text-align: right;\n    }\n</style>\n<table border=\"1\" class=\"dataframe\">\n  <thead>\n    <tr style=\"text-align: right;\">\n      <th></th>\n      <th>index</th>\n      <th>percentage_correlation</th>\n      <th>percentage_elastic_net</th>\n      <th>percentage_light_gbm</th>\n      <th>percentage_neural_network</th>\n    </tr>\n  </thead>\n  <tbody>\n    <tr>\n      <th>0</th>\n      <td>Percentage Correlation</td>\n      <td>1.000</td>\n      <td>0.356</td>\n      <td>0.369</td>\n      <td>-0.104</td>\n    </tr>\n    <tr>\n      <th>1</th>\n      <td>Percentage Elastic Net</td>\n      <td>0.356</td>\n      <td>1.000</td>\n      <td>0.201</td>\n      <td>0.124</td>\n    </tr>\n    <tr>\n      <th>2</th>\n      <td>Percentage Light GBM</td>\n      <td>0.369</td>\n      <td>0.201</td>\n      <td>1.000</td>\n      <td>0.585</td>\n    </tr>\n    <tr>\n      <th>3</th>\n      <td>Percentage Neural Network</td>\n      <td>-0.104</td>\n      <td>0.124</td>\n      <td>0.585</td>\n      <td>1.000</td>\n    </tr>\n  </tbody>\n</table>\n</div>",
      "text/plain": "                       index  percentage_correlation  percentage_elastic_net  \\\n0     Percentage Correlation                   1.000                   0.356   \n1     Percentage Elastic Net                   0.356                   1.000   \n2       Percentage Light GBM                   0.369                   0.201   \n3  Percentage Neural Network                  -0.104                   0.124   \n\n   percentage_light_gbm  percentage_neural_network  \n0                 0.369                     -0.104  \n1                 0.201                      0.124  \n2                 1.000                      0.585  \n3                 0.585                      1.000  "
     },
     "execution_count": 8,
     "metadata": {},
     "output_type": "execute_result"
    }
   ],
   "source": [
    "from dash_website.feature_importances import FEATURES_CORRELATIONS_TABLE_COLUMNS\n",
    "correlation_type = \"pearson\"\n",
    "\n",
    "table_correlations_raw = pd.DataFrame(None, index=features.index, columns=pd.Index(FEATURES_CORRELATIONS_TABLE_COLUMNS.keys()).drop(\"index\"))\n",
    "\n",
    "for algorithm in [\"correlation\", \"elastic_net\", \"light_gbm\", \"neural_network\"]:\n",
    "    table_correlations_raw[f\"percentage_{algorithm}\"] = features[(algorithm, \"mean\")]\n",
    "\n",
    "table_correlations = (\n",
    "    table_correlations_raw.corr(method=correlation_type)\n",
    "    .round(3)\n",
    "    .rename(index=FEATURES_CORRELATIONS_TABLE_COLUMNS)\n",
    "    .reset_index()\n",
    ")\n",
    "table_correlations"
   ]
  }
 ],
 "metadata": {
  "kernelspec": {
   "display_name": "Python 3",
   "language": "python",
   "name": "python3"
  },
  "language_info": {
   "codemirror_mode": {
    "name": "ipython",
    "version": 3
   },
   "file_extension": ".py",
   "mimetype": "text/x-python",
   "name": "python",
   "nbconvert_exporter": "python",
   "pygments_lexer": "ipython3",
   "version": "3.8.5"
  },
  "orig_nbformat": 2
 },
 "nbformat": 4,
 "nbformat_minor": 2
}