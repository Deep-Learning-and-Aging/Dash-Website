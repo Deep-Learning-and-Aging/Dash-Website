{
 "cells": [
  {
   "cell_type": "code",
   "execution_count": 1,
   "metadata": {},
   "outputs": [],
   "source": [
    "import pandas as pd \n",
    "from dash_website import ALGORITHMS_RENDERING\n",
    "\n",
    "score_raw = pd.read_feather(\"../../all_data/feature_importances/scores_all_samples.feather\").set_index([\"dimension\", \"subdimension\", \"sub_subdimension\"]).round(3)\n",
    "score = score_raw.loc[(\"Arterial\", \"All\", \"Scalars\")].set_index(\"algorithm\")"
   ]
  },
  {
   "cell_type": "code",
   "execution_count": 3,
   "metadata": {},
   "outputs": [],
   "source": [
    "best_algorithm = score.sort_values(\"r2\", ascending=False).index[0]\n",
    "best_score = score.loc[best_algorithm]"
   ]
  },
  {
   "cell_type": "code",
   "execution_count": 4,
   "metadata": {},
   "outputs": [
    {
     "data": {
      "text/plain": "'The best algorithm is the Light GBM. The r² is 0.368 +- 0.004 with a RMSE of 6.111 +- 0.02 for a sample size of 40122 participants'"
     },
     "execution_count": 4,
     "metadata": {},
     "output_type": "execute_result"
    }
   ],
   "source": [
    "f\"The best algorithm is the {ALGORITHMS_RENDERING[best_algorithm]}. The r² is {best_score['r2']} +- {best_score['r2_std']} with a RMSE of {best_score['rmse']} +- {best_score['rmse_std']} for a sample size of {int(best_score['sample_size'])} participants\""
   ]
  },
  {
   "cell_type": "code",
   "execution_count": 11,
   "metadata": {},
   "outputs": [
    {
     "data": {
      "text/plain": "'The elastic_net has a r² of 0.313 +- 0.004. The neural_network has a r² of 0.353 +- 0.005. '"
     },
     "execution_count": 11,
     "metadata": {},
     "output_type": "execute_result"
    }
   ],
   "source": [
    "other_scores = score.drop(index=best_algorithm)\n",
    "sub_title = \"\"\n",
    "for other_algorithm in other_scores.index:\n",
    "    sub_title += f\"The {other_algorithm} has a r² of {other_scores.loc[other_algorithm, 'r2']} +- {other_scores.loc[other_algorithm, 'r2_std']}. \"\n",
    "sub_title"
   ]
  }
 ],
 "metadata": {
  "kernelspec": {
   "display_name": "Python 3",
   "language": "python",
   "name": "python3"
  },
  "language_info": {
   "codemirror_mode": {
    "name": "ipython",
    "version": 3
   },
   "file_extension": ".py",
   "mimetype": "text/x-python",
   "name": "python",
   "nbconvert_exporter": "python",
   "pygments_lexer": "ipython3",
   "version": "3.8.5"
  },
  "orig_nbformat": 2
 },
 "nbformat": 4,
 "nbformat_minor": 2
}