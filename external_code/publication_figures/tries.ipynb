{
 "cells": [
  {
   "cell_type": "code",
   "execution_count": 54,
   "metadata": {},
   "outputs": [],
   "source": [
    "import pandas as pd\n",
    "import numpy as np\n",
    "\n",
    "from dash_website.utils.aws_loader import load_feather\n",
    "from dash_website.utils.controls import get_drop_down, get_item_radio_items, get_options\n",
    "from dash_website.utils.graphs import add_line_and_annotation\n",
    "from dash_website import DOWNLOAD_CONFIG, CUSTOM_ORDER, ALGORITHMS_RENDERING\n",
    "from dash_website.age_prediction_performances import SAMPLE_DEFINITION, DIMENSIONS_SELECTION, SCORES, CUSTOM_DIMENSIONS\n",
    "\n",
    "metric = \"r2\"\n",
    "scores =  load_feather(f\"age_prediction_performances/scores_all_samples_per_participant.feather\").set_index([\"dimension\", \"subdimension\", \"sub_subdimension\"])\n",
    "\n",
    "scores = scores.loc[[(\"BloodCells\", \"BloodCount\", \"Scalars\"), (\"Biochemistry\", \"Blood\", \"Scalars\"), (\"Biochemistry\", \"Urine\", \"Scalars\")]]"
   ]
  },
  {
   "cell_type": "code",
   "execution_count": 62,
   "metadata": {},
   "outputs": [
    {
     "name": "stdout",
     "output_type": "stream",
     "text": [
      "Average R² = 0.21199999749660492 +- 0.17100000381469727\n"
     ]
    },
    {
     "data": {
      "application/vnd.plotly.v1+json": {
       "config": {
        "plotlyServerURL": "https://plot.ly",
        "toImageButtonOptions": {
         "format": "svg"
        }
       },
       "data": [
        {
         "customdata": [
          [
           "0.002",
           "489079",
           "*"
          ],
          [
           "0.004",
           "245147",
           "*"
          ],
          [
           "0.003",
           "158381",
           "*"
          ]
         ],
         "error_y": {
          "array": [
           0.0020000000949949026,
           0.004000000189989805,
           0.003000000026077032
          ],
          "type": "data"
         },
         "hovertemplate": "%{x}, score: %{y:.3f} +- %{customdata[0]:.3f}, sample size: %{customdata[1]} <extra>%{customdata[2]}</extra>",
         "name": "*",
         "type": "bar",
         "x": [
          5,
          15,
          25
         ],
         "y": [
          0.125,
          0.4860000014305115,
          0.10400000214576721
         ]
        },
        {
         "customdata": [
          [
           "0.004",
           "489079",
           "elastic_net"
          ],
          [
           "0.005",
           "245147",
           "elastic_net"
          ],
          [
           "0.003",
           "158381",
           "elastic_net"
          ]
         ],
         "error_y": {
          "array": [
           0.004000000189989805,
           0.004999999888241291,
           0.003000000026077032
          ],
          "type": "data"
         },
         "hovertemplate": "%{x}, score: %{y:.3f} +- %{customdata[0]:.3f}, sample size: %{customdata[1]} <extra>%{customdata[2]}</extra>",
         "name": "Elastic Net",
         "type": "bar",
         "x": [
          5,
          15,
          25
         ],
         "y": [
          0.057999998331069946,
          0.3019999861717224,
          0.08100000023841858
         ]
        },
        {
         "customdata": [
          [
           "0.002",
           "489079",
           "light_gbm"
          ],
          [
           "0.005",
           "245147",
           "light_gbm"
          ],
          [
           "0.003",
           "158381",
           "light_gbm"
          ]
         ],
         "error_y": {
          "array": [
           0.0020000000949949026,
           0.004999999888241291,
           0.003000000026077032
          ],
          "type": "data"
         },
         "hovertemplate": "%{x}, score: %{y:.3f} +- %{customdata[0]:.3f}, sample size: %{customdata[1]} <extra>%{customdata[2]}</extra>",
         "name": "Light GBM",
         "type": "bar",
         "x": [
          5,
          15,
          25
         ],
         "y": [
          0.12200000137090683,
          0.47600001096725464,
          0.10400000214576721
         ]
        },
        {
         "customdata": [
          [
           "0.003",
           "489079",
           "neural_network"
          ],
          [
           "0.004",
           "245147",
           "neural_network"
          ],
          [
           "0.003",
           "158381",
           "neural_network"
          ]
         ],
         "error_y": {
          "array": [
           0.003000000026077032,
           0.004000000189989805,
           0.003000000026077032
          ],
          "type": "data"
         },
         "hovertemplate": "%{x}, score: %{y:.3f} +- %{customdata[0]:.3f}, sample size: %{customdata[1]} <extra>%{customdata[2]}</extra>",
         "name": "Neural Network",
         "type": "bar",
         "x": [
          5,
          15,
          25
         ],
         "y": [
          0.11900000274181366,
          0.4740000069141388,
          0.09600000083446503
         ]
        }
       ],
       "layout": {
        "legend": {
         "font": {
          "size": 30
         },
         "orientation": "h",
         "y": -0.3
        },
        "margin": {
         "b": 0,
         "l": 0,
         "r": 0,
         "t": 0
        },
        "template": {
         "data": {
          "bar": [
           {
            "error_x": {
             "color": "#2a3f5f"
            },
            "error_y": {
             "color": "#2a3f5f"
            },
            "marker": {
             "line": {
              "color": "#E5ECF6",
              "width": 0.5
             }
            },
            "type": "bar"
           }
          ],
          "barpolar": [
           {
            "marker": {
             "line": {
              "color": "#E5ECF6",
              "width": 0.5
             }
            },
            "type": "barpolar"
           }
          ],
          "carpet": [
           {
            "aaxis": {
             "endlinecolor": "#2a3f5f",
             "gridcolor": "white",
             "linecolor": "white",
             "minorgridcolor": "white",
             "startlinecolor": "#2a3f5f"
            },
            "baxis": {
             "endlinecolor": "#2a3f5f",
             "gridcolor": "white",
             "linecolor": "white",
             "minorgridcolor": "white",
             "startlinecolor": "#2a3f5f"
            },
            "type": "carpet"
           }
          ],
          "choropleth": [
           {
            "colorbar": {
             "outlinewidth": 0,
             "ticks": ""
            },
            "type": "choropleth"
           }
          ],
          "contour": [
           {
            "colorbar": {
             "outlinewidth": 0,
             "ticks": ""
            },
            "colorscale": [
             [
              0,
              "#0d0887"
             ],
             [
              0.1111111111111111,
              "#46039f"
             ],
             [
              0.2222222222222222,
              "#7201a8"
             ],
             [
              0.3333333333333333,
              "#9c179e"
             ],
             [
              0.4444444444444444,
              "#bd3786"
             ],
             [
              0.5555555555555556,
              "#d8576b"
             ],
             [
              0.6666666666666666,
              "#ed7953"
             ],
             [
              0.7777777777777778,
              "#fb9f3a"
             ],
             [
              0.8888888888888888,
              "#fdca26"
             ],
             [
              1,
              "#f0f921"
             ]
            ],
            "type": "contour"
           }
          ],
          "contourcarpet": [
           {
            "colorbar": {
             "outlinewidth": 0,
             "ticks": ""
            },
            "type": "contourcarpet"
           }
          ],
          "heatmap": [
           {
            "colorbar": {
             "outlinewidth": 0,
             "ticks": ""
            },
            "colorscale": [
             [
              0,
              "#0d0887"
             ],
             [
              0.1111111111111111,
              "#46039f"
             ],
             [
              0.2222222222222222,
              "#7201a8"
             ],
             [
              0.3333333333333333,
              "#9c179e"
             ],
             [
              0.4444444444444444,
              "#bd3786"
             ],
             [
              0.5555555555555556,
              "#d8576b"
             ],
             [
              0.6666666666666666,
              "#ed7953"
             ],
             [
              0.7777777777777778,
              "#fb9f3a"
             ],
             [
              0.8888888888888888,
              "#fdca26"
             ],
             [
              1,
              "#f0f921"
             ]
            ],
            "type": "heatmap"
           }
          ],
          "heatmapgl": [
           {
            "colorbar": {
             "outlinewidth": 0,
             "ticks": ""
            },
            "colorscale": [
             [
              0,
              "#0d0887"
             ],
             [
              0.1111111111111111,
              "#46039f"
             ],
             [
              0.2222222222222222,
              "#7201a8"
             ],
             [
              0.3333333333333333,
              "#9c179e"
             ],
             [
              0.4444444444444444,
              "#bd3786"
             ],
             [
              0.5555555555555556,
              "#d8576b"
             ],
             [
              0.6666666666666666,
              "#ed7953"
             ],
             [
              0.7777777777777778,
              "#fb9f3a"
             ],
             [
              0.8888888888888888,
              "#fdca26"
             ],
             [
              1,
              "#f0f921"
             ]
            ],
            "type": "heatmapgl"
           }
          ],
          "histogram": [
           {
            "marker": {
             "colorbar": {
              "outlinewidth": 0,
              "ticks": ""
             }
            },
            "type": "histogram"
           }
          ],
          "histogram2d": [
           {
            "colorbar": {
             "outlinewidth": 0,
             "ticks": ""
            },
            "colorscale": [
             [
              0,
              "#0d0887"
             ],
             [
              0.1111111111111111,
              "#46039f"
             ],
             [
              0.2222222222222222,
              "#7201a8"
             ],
             [
              0.3333333333333333,
              "#9c179e"
             ],
             [
              0.4444444444444444,
              "#bd3786"
             ],
             [
              0.5555555555555556,
              "#d8576b"
             ],
             [
              0.6666666666666666,
              "#ed7953"
             ],
             [
              0.7777777777777778,
              "#fb9f3a"
             ],
             [
              0.8888888888888888,
              "#fdca26"
             ],
             [
              1,
              "#f0f921"
             ]
            ],
            "type": "histogram2d"
           }
          ],
          "histogram2dcontour": [
           {
            "colorbar": {
             "outlinewidth": 0,
             "ticks": ""
            },
            "colorscale": [
             [
              0,
              "#0d0887"
             ],
             [
              0.1111111111111111,
              "#46039f"
             ],
             [
              0.2222222222222222,
              "#7201a8"
             ],
             [
              0.3333333333333333,
              "#9c179e"
             ],
             [
              0.4444444444444444,
              "#bd3786"
             ],
             [
              0.5555555555555556,
              "#d8576b"
             ],
             [
              0.6666666666666666,
              "#ed7953"
             ],
             [
              0.7777777777777778,
              "#fb9f3a"
             ],
             [
              0.8888888888888888,
              "#fdca26"
             ],
             [
              1,
              "#f0f921"
             ]
            ],
            "type": "histogram2dcontour"
           }
          ],
          "mesh3d": [
           {
            "colorbar": {
             "outlinewidth": 0,
             "ticks": ""
            },
            "type": "mesh3d"
           }
          ],
          "parcoords": [
           {
            "line": {
             "colorbar": {
              "outlinewidth": 0,
              "ticks": ""
             }
            },
            "type": "parcoords"
           }
          ],
          "pie": [
           {
            "automargin": true,
            "type": "pie"
           }
          ],
          "scatter": [
           {
            "marker": {
             "colorbar": {
              "outlinewidth": 0,
              "ticks": ""
             }
            },
            "type": "scatter"
           }
          ],
          "scatter3d": [
           {
            "line": {
             "colorbar": {
              "outlinewidth": 0,
              "ticks": ""
             }
            },
            "marker": {
             "colorbar": {
              "outlinewidth": 0,
              "ticks": ""
             }
            },
            "type": "scatter3d"
           }
          ],
          "scattercarpet": [
           {
            "marker": {
             "colorbar": {
              "outlinewidth": 0,
              "ticks": ""
             }
            },
            "type": "scattercarpet"
           }
          ],
          "scattergeo": [
           {
            "marker": {
             "colorbar": {
              "outlinewidth": 0,
              "ticks": ""
             }
            },
            "type": "scattergeo"
           }
          ],
          "scattergl": [
           {
            "marker": {
             "colorbar": {
              "outlinewidth": 0,
              "ticks": ""
             }
            },
            "type": "scattergl"
           }
          ],
          "scattermapbox": [
           {
            "marker": {
             "colorbar": {
              "outlinewidth": 0,
              "ticks": ""
             }
            },
            "type": "scattermapbox"
           }
          ],
          "scatterpolar": [
           {
            "marker": {
             "colorbar": {
              "outlinewidth": 0,
              "ticks": ""
             }
            },
            "type": "scatterpolar"
           }
          ],
          "scatterpolargl": [
           {
            "marker": {
             "colorbar": {
              "outlinewidth": 0,
              "ticks": ""
             }
            },
            "type": "scatterpolargl"
           }
          ],
          "scatterternary": [
           {
            "marker": {
             "colorbar": {
              "outlinewidth": 0,
              "ticks": ""
             }
            },
            "type": "scatterternary"
           }
          ],
          "surface": [
           {
            "colorbar": {
             "outlinewidth": 0,
             "ticks": ""
            },
            "colorscale": [
             [
              0,
              "#0d0887"
             ],
             [
              0.1111111111111111,
              "#46039f"
             ],
             [
              0.2222222222222222,
              "#7201a8"
             ],
             [
              0.3333333333333333,
              "#9c179e"
             ],
             [
              0.4444444444444444,
              "#bd3786"
             ],
             [
              0.5555555555555556,
              "#d8576b"
             ],
             [
              0.6666666666666666,
              "#ed7953"
             ],
             [
              0.7777777777777778,
              "#fb9f3a"
             ],
             [
              0.8888888888888888,
              "#fdca26"
             ],
             [
              1,
              "#f0f921"
             ]
            ],
            "type": "surface"
           }
          ],
          "table": [
           {
            "cells": {
             "fill": {
              "color": "#EBF0F8"
             },
             "line": {
              "color": "white"
             }
            },
            "header": {
             "fill": {
              "color": "#C8D4E3"
             },
             "line": {
              "color": "white"
             }
            },
            "type": "table"
           }
          ]
         },
         "layout": {
          "annotationdefaults": {
           "arrowcolor": "#2a3f5f",
           "arrowhead": 0,
           "arrowwidth": 1
          },
          "autotypenumbers": "strict",
          "coloraxis": {
           "colorbar": {
            "outlinewidth": 0,
            "ticks": ""
           }
          },
          "colorscale": {
           "diverging": [
            [
             0,
             "#8e0152"
            ],
            [
             0.1,
             "#c51b7d"
            ],
            [
             0.2,
             "#de77ae"
            ],
            [
             0.3,
             "#f1b6da"
            ],
            [
             0.4,
             "#fde0ef"
            ],
            [
             0.5,
             "#f7f7f7"
            ],
            [
             0.6,
             "#e6f5d0"
            ],
            [
             0.7,
             "#b8e186"
            ],
            [
             0.8,
             "#7fbc41"
            ],
            [
             0.9,
             "#4d9221"
            ],
            [
             1,
             "#276419"
            ]
           ],
           "sequential": [
            [
             0,
             "#0d0887"
            ],
            [
             0.1111111111111111,
             "#46039f"
            ],
            [
             0.2222222222222222,
             "#7201a8"
            ],
            [
             0.3333333333333333,
             "#9c179e"
            ],
            [
             0.4444444444444444,
             "#bd3786"
            ],
            [
             0.5555555555555556,
             "#d8576b"
            ],
            [
             0.6666666666666666,
             "#ed7953"
            ],
            [
             0.7777777777777778,
             "#fb9f3a"
            ],
            [
             0.8888888888888888,
             "#fdca26"
            ],
            [
             1,
             "#f0f921"
            ]
           ],
           "sequentialminus": [
            [
             0,
             "#0d0887"
            ],
            [
             0.1111111111111111,
             "#46039f"
            ],
            [
             0.2222222222222222,
             "#7201a8"
            ],
            [
             0.3333333333333333,
             "#9c179e"
            ],
            [
             0.4444444444444444,
             "#bd3786"
            ],
            [
             0.5555555555555556,
             "#d8576b"
            ],
            [
             0.6666666666666666,
             "#ed7953"
            ],
            [
             0.7777777777777778,
             "#fb9f3a"
            ],
            [
             0.8888888888888888,
             "#fdca26"
            ],
            [
             1,
             "#f0f921"
            ]
           ]
          },
          "colorway": [
           "#636efa",
           "#EF553B",
           "#00cc96",
           "#ab63fa",
           "#FFA15A",
           "#19d3f3",
           "#FF6692",
           "#B6E880",
           "#FF97FF",
           "#FECB52"
          ],
          "font": {
           "color": "#2a3f5f"
          },
          "geo": {
           "bgcolor": "white",
           "lakecolor": "white",
           "landcolor": "#E5ECF6",
           "showlakes": true,
           "showland": true,
           "subunitcolor": "white"
          },
          "hoverlabel": {
           "align": "left"
          },
          "hovermode": "closest",
          "mapbox": {
           "style": "light"
          },
          "paper_bgcolor": "white",
          "plot_bgcolor": "#E5ECF6",
          "polar": {
           "angularaxis": {
            "gridcolor": "white",
            "linecolor": "white",
            "ticks": ""
           },
           "bgcolor": "#E5ECF6",
           "radialaxis": {
            "gridcolor": "white",
            "linecolor": "white",
            "ticks": ""
           }
          },
          "scene": {
           "xaxis": {
            "backgroundcolor": "#E5ECF6",
            "gridcolor": "white",
            "gridwidth": 2,
            "linecolor": "white",
            "showbackground": true,
            "ticks": "",
            "zerolinecolor": "white"
           },
           "yaxis": {
            "backgroundcolor": "#E5ECF6",
            "gridcolor": "white",
            "gridwidth": 2,
            "linecolor": "white",
            "showbackground": true,
            "ticks": "",
            "zerolinecolor": "white"
           },
           "zaxis": {
            "backgroundcolor": "#E5ECF6",
            "gridcolor": "white",
            "gridwidth": 2,
            "linecolor": "white",
            "showbackground": true,
            "ticks": "",
            "zerolinecolor": "white"
           }
          },
          "shapedefaults": {
           "line": {
            "color": "#2a3f5f"
           }
          },
          "ternary": {
           "aaxis": {
            "gridcolor": "white",
            "linecolor": "white",
            "ticks": ""
           },
           "baxis": {
            "gridcolor": "white",
            "linecolor": "white",
            "ticks": ""
           },
           "bgcolor": "#E5ECF6",
           "caxis": {
            "gridcolor": "white",
            "linecolor": "white",
            "ticks": ""
           }
          },
          "title": {
           "x": 0.05
          },
          "xaxis": {
           "automargin": true,
           "gridcolor": "white",
           "linecolor": "white",
           "ticks": "",
           "title": {
            "standoff": 15
           },
           "zerolinecolor": "white",
           "zerolinewidth": 2
          },
          "yaxis": {
           "automargin": true,
           "gridcolor": "white",
           "linecolor": "white",
           "ticks": "",
           "title": {
            "standoff": 15
           },
           "zerolinecolor": "white",
           "zerolinewidth": 2
          }
         }
        },
        "xaxis": {
         "showgrid": false,
         "tickfont": {
          "size": 25
         },
         "ticktext": [
          "Blood Cells",
          "Blood Biochemistry",
          "Urine Biochemistry"
         ],
         "tickvals": [
          5,
          15,
          25
         ],
         "zeroline": false
        },
        "yaxis": {
         "dtick": 0.1,
         "showgrid": false,
         "tickfont": {
          "size": 20
         },
         "title": {
          "font": {
           "size": 45
          },
          "text": "R²"
         },
         "zeroline": false
        }
       }
      },
      "text/html": "<div>                            <div id=\"5ab86f20-dbd3-4b53-846a-f839f1938a82\" class=\"plotly-graph-div\" style=\"height:525px; width:100%;\"></div>            <script type=\"text/javascript\">                require([\"plotly\"], function(Plotly) {                    window.PLOTLYENV=window.PLOTLYENV || {};                                    if (document.getElementById(\"5ab86f20-dbd3-4b53-846a-f839f1938a82\")) {                    Plotly.newPlot(                        \"5ab86f20-dbd3-4b53-846a-f839f1938a82\",                        [{\"customdata\": [[\"0.002\", \"489079\", \"*\"], [\"0.004\", \"245147\", \"*\"], [\"0.003\", \"158381\", \"*\"]], \"error_y\": {\"array\": [0.0020000000949949026, 0.004000000189989805, 0.003000000026077032], \"type\": \"data\"}, \"hovertemplate\": \"%{x}, score: %{y:.3f} +- %{customdata[0]:.3f}, sample size: %{customdata[1]} <extra>%{customdata[2]}</extra>\", \"name\": \"*\", \"type\": \"bar\", \"x\": [5, 15, 25], \"y\": [0.125, 0.4860000014305115, 0.10400000214576721]}, {\"customdata\": [[\"0.004\", \"489079\", \"elastic_net\"], [\"0.005\", \"245147\", \"elastic_net\"], [\"0.003\", \"158381\", \"elastic_net\"]], \"error_y\": {\"array\": [0.004000000189989805, 0.004999999888241291, 0.003000000026077032], \"type\": \"data\"}, \"hovertemplate\": \"%{x}, score: %{y:.3f} +- %{customdata[0]:.3f}, sample size: %{customdata[1]} <extra>%{customdata[2]}</extra>\", \"name\": \"Elastic Net\", \"type\": \"bar\", \"x\": [5, 15, 25], \"y\": [0.057999998331069946, 0.3019999861717224, 0.08100000023841858]}, {\"customdata\": [[\"0.002\", \"489079\", \"light_gbm\"], [\"0.005\", \"245147\", \"light_gbm\"], [\"0.003\", \"158381\", \"light_gbm\"]], \"error_y\": {\"array\": [0.0020000000949949026, 0.004999999888241291, 0.003000000026077032], \"type\": \"data\"}, \"hovertemplate\": \"%{x}, score: %{y:.3f} +- %{customdata[0]:.3f}, sample size: %{customdata[1]} <extra>%{customdata[2]}</extra>\", \"name\": \"Light GBM\", \"type\": \"bar\", \"x\": [5, 15, 25], \"y\": [0.12200000137090683, 0.47600001096725464, 0.10400000214576721]}, {\"customdata\": [[\"0.003\", \"489079\", \"neural_network\"], [\"0.004\", \"245147\", \"neural_network\"], [\"0.003\", \"158381\", \"neural_network\"]], \"error_y\": {\"array\": [0.003000000026077032, 0.004000000189989805, 0.003000000026077032], \"type\": \"data\"}, \"hovertemplate\": \"%{x}, score: %{y:.3f} +- %{customdata[0]:.3f}, sample size: %{customdata[1]} <extra>%{customdata[2]}</extra>\", \"name\": \"Neural Network\", \"type\": \"bar\", \"x\": [5, 15, 25], \"y\": [0.11900000274181366, 0.4740000069141388, 0.09600000083446503]}],                        {\"legend\": {\"font\": {\"size\": 30}, \"orientation\": \"h\", \"y\": -0.3}, \"margin\": {\"b\": 0, \"l\": 0, \"r\": 0, \"t\": 0}, \"template\": {\"data\": {\"bar\": [{\"error_x\": {\"color\": \"#2a3f5f\"}, \"error_y\": {\"color\": \"#2a3f5f\"}, \"marker\": {\"line\": {\"color\": \"#E5ECF6\", \"width\": 0.5}}, \"type\": \"bar\"}], \"barpolar\": [{\"marker\": {\"line\": {\"color\": \"#E5ECF6\", \"width\": 0.5}}, \"type\": \"barpolar\"}], \"carpet\": [{\"aaxis\": {\"endlinecolor\": \"#2a3f5f\", \"gridcolor\": \"white\", \"linecolor\": \"white\", \"minorgridcolor\": \"white\", \"startlinecolor\": \"#2a3f5f\"}, \"baxis\": {\"endlinecolor\": \"#2a3f5f\", \"gridcolor\": \"white\", \"linecolor\": \"white\", \"minorgridcolor\": \"white\", \"startlinecolor\": \"#2a3f5f\"}, \"type\": \"carpet\"}], \"choropleth\": [{\"colorbar\": {\"outlinewidth\": 0, \"ticks\": \"\"}, \"type\": \"choropleth\"}], \"contour\": [{\"colorbar\": {\"outlinewidth\": 0, \"ticks\": \"\"}, \"colorscale\": [[0.0, \"#0d0887\"], [0.1111111111111111, \"#46039f\"], [0.2222222222222222, \"#7201a8\"], [0.3333333333333333, \"#9c179e\"], [0.4444444444444444, \"#bd3786\"], [0.5555555555555556, \"#d8576b\"], [0.6666666666666666, \"#ed7953\"], [0.7777777777777778, \"#fb9f3a\"], [0.8888888888888888, \"#fdca26\"], [1.0, \"#f0f921\"]], \"type\": \"contour\"}], \"contourcarpet\": [{\"colorbar\": {\"outlinewidth\": 0, \"ticks\": \"\"}, \"type\": \"contourcarpet\"}], \"heatmap\": [{\"colorbar\": {\"outlinewidth\": 0, \"ticks\": \"\"}, \"colorscale\": [[0.0, \"#0d0887\"], [0.1111111111111111, \"#46039f\"], [0.2222222222222222, \"#7201a8\"], [0.3333333333333333, \"#9c179e\"], [0.4444444444444444, \"#bd3786\"], [0.5555555555555556, \"#d8576b\"], [0.6666666666666666, \"#ed7953\"], [0.7777777777777778, \"#fb9f3a\"], [0.8888888888888888, \"#fdca26\"], [1.0, \"#f0f921\"]], \"type\": \"heatmap\"}], \"heatmapgl\": [{\"colorbar\": {\"outlinewidth\": 0, \"ticks\": \"\"}, \"colorscale\": [[0.0, \"#0d0887\"], [0.1111111111111111, \"#46039f\"], [0.2222222222222222, \"#7201a8\"], [0.3333333333333333, \"#9c179e\"], [0.4444444444444444, \"#bd3786\"], [0.5555555555555556, \"#d8576b\"], [0.6666666666666666, \"#ed7953\"], [0.7777777777777778, \"#fb9f3a\"], [0.8888888888888888, \"#fdca26\"], [1.0, \"#f0f921\"]], \"type\": \"heatmapgl\"}], \"histogram\": [{\"marker\": {\"colorbar\": {\"outlinewidth\": 0, \"ticks\": \"\"}}, \"type\": \"histogram\"}], \"histogram2d\": [{\"colorbar\": {\"outlinewidth\": 0, \"ticks\": \"\"}, \"colorscale\": [[0.0, \"#0d0887\"], [0.1111111111111111, \"#46039f\"], [0.2222222222222222, \"#7201a8\"], [0.3333333333333333, \"#9c179e\"], [0.4444444444444444, \"#bd3786\"], [0.5555555555555556, \"#d8576b\"], [0.6666666666666666, \"#ed7953\"], [0.7777777777777778, \"#fb9f3a\"], [0.8888888888888888, \"#fdca26\"], [1.0, \"#f0f921\"]], \"type\": \"histogram2d\"}], \"histogram2dcontour\": [{\"colorbar\": {\"outlinewidth\": 0, \"ticks\": \"\"}, \"colorscale\": [[0.0, \"#0d0887\"], [0.1111111111111111, \"#46039f\"], [0.2222222222222222, \"#7201a8\"], [0.3333333333333333, \"#9c179e\"], [0.4444444444444444, \"#bd3786\"], [0.5555555555555556, \"#d8576b\"], [0.6666666666666666, \"#ed7953\"], [0.7777777777777778, \"#fb9f3a\"], [0.8888888888888888, \"#fdca26\"], [1.0, \"#f0f921\"]], \"type\": \"histogram2dcontour\"}], \"mesh3d\": [{\"colorbar\": {\"outlinewidth\": 0, \"ticks\": \"\"}, \"type\": \"mesh3d\"}], \"parcoords\": [{\"line\": {\"colorbar\": {\"outlinewidth\": 0, \"ticks\": \"\"}}, \"type\": \"parcoords\"}], \"pie\": [{\"automargin\": true, \"type\": \"pie\"}], \"scatter\": [{\"marker\": {\"colorbar\": {\"outlinewidth\": 0, \"ticks\": \"\"}}, \"type\": \"scatter\"}], \"scatter3d\": [{\"line\": {\"colorbar\": {\"outlinewidth\": 0, \"ticks\": \"\"}}, \"marker\": {\"colorbar\": {\"outlinewidth\": 0, \"ticks\": \"\"}}, \"type\": \"scatter3d\"}], \"scattercarpet\": [{\"marker\": {\"colorbar\": {\"outlinewidth\": 0, \"ticks\": \"\"}}, \"type\": \"scattercarpet\"}], \"scattergeo\": [{\"marker\": {\"colorbar\": {\"outlinewidth\": 0, \"ticks\": \"\"}}, \"type\": \"scattergeo\"}], \"scattergl\": [{\"marker\": {\"colorbar\": {\"outlinewidth\": 0, \"ticks\": \"\"}}, \"type\": \"scattergl\"}], \"scattermapbox\": [{\"marker\": {\"colorbar\": {\"outlinewidth\": 0, \"ticks\": \"\"}}, \"type\": \"scattermapbox\"}], \"scatterpolar\": [{\"marker\": {\"colorbar\": {\"outlinewidth\": 0, \"ticks\": \"\"}}, \"type\": \"scatterpolar\"}], \"scatterpolargl\": [{\"marker\": {\"colorbar\": {\"outlinewidth\": 0, \"ticks\": \"\"}}, \"type\": \"scatterpolargl\"}], \"scatterternary\": [{\"marker\": {\"colorbar\": {\"outlinewidth\": 0, \"ticks\": \"\"}}, \"type\": \"scatterternary\"}], \"surface\": [{\"colorbar\": {\"outlinewidth\": 0, \"ticks\": \"\"}, \"colorscale\": [[0.0, \"#0d0887\"], [0.1111111111111111, \"#46039f\"], [0.2222222222222222, \"#7201a8\"], [0.3333333333333333, \"#9c179e\"], [0.4444444444444444, \"#bd3786\"], [0.5555555555555556, \"#d8576b\"], [0.6666666666666666, \"#ed7953\"], [0.7777777777777778, \"#fb9f3a\"], [0.8888888888888888, \"#fdca26\"], [1.0, \"#f0f921\"]], \"type\": \"surface\"}], \"table\": [{\"cells\": {\"fill\": {\"color\": \"#EBF0F8\"}, \"line\": {\"color\": \"white\"}}, \"header\": {\"fill\": {\"color\": \"#C8D4E3\"}, \"line\": {\"color\": \"white\"}}, \"type\": \"table\"}]}, \"layout\": {\"annotationdefaults\": {\"arrowcolor\": \"#2a3f5f\", \"arrowhead\": 0, \"arrowwidth\": 1}, \"autotypenumbers\": \"strict\", \"coloraxis\": {\"colorbar\": {\"outlinewidth\": 0, \"ticks\": \"\"}}, \"colorscale\": {\"diverging\": [[0, \"#8e0152\"], [0.1, \"#c51b7d\"], [0.2, \"#de77ae\"], [0.3, \"#f1b6da\"], [0.4, \"#fde0ef\"], [0.5, \"#f7f7f7\"], [0.6, \"#e6f5d0\"], [0.7, \"#b8e186\"], [0.8, \"#7fbc41\"], [0.9, \"#4d9221\"], [1, \"#276419\"]], \"sequential\": [[0.0, \"#0d0887\"], [0.1111111111111111, \"#46039f\"], [0.2222222222222222, \"#7201a8\"], [0.3333333333333333, \"#9c179e\"], [0.4444444444444444, \"#bd3786\"], [0.5555555555555556, \"#d8576b\"], [0.6666666666666666, \"#ed7953\"], [0.7777777777777778, \"#fb9f3a\"], [0.8888888888888888, \"#fdca26\"], [1.0, \"#f0f921\"]], \"sequentialminus\": [[0.0, \"#0d0887\"], [0.1111111111111111, \"#46039f\"], [0.2222222222222222, \"#7201a8\"], [0.3333333333333333, \"#9c179e\"], [0.4444444444444444, \"#bd3786\"], [0.5555555555555556, \"#d8576b\"], [0.6666666666666666, \"#ed7953\"], [0.7777777777777778, \"#fb9f3a\"], [0.8888888888888888, \"#fdca26\"], [1.0, \"#f0f921\"]]}, \"colorway\": [\"#636efa\", \"#EF553B\", \"#00cc96\", \"#ab63fa\", \"#FFA15A\", \"#19d3f3\", \"#FF6692\", \"#B6E880\", \"#FF97FF\", \"#FECB52\"], \"font\": {\"color\": \"#2a3f5f\"}, \"geo\": {\"bgcolor\": \"white\", \"lakecolor\": \"white\", \"landcolor\": \"#E5ECF6\", \"showlakes\": true, \"showland\": true, \"subunitcolor\": \"white\"}, \"hoverlabel\": {\"align\": \"left\"}, \"hovermode\": \"closest\", \"mapbox\": {\"style\": \"light\"}, \"paper_bgcolor\": \"white\", \"plot_bgcolor\": \"#E5ECF6\", \"polar\": {\"angularaxis\": {\"gridcolor\": \"white\", \"linecolor\": \"white\", \"ticks\": \"\"}, \"bgcolor\": \"#E5ECF6\", \"radialaxis\": {\"gridcolor\": \"white\", \"linecolor\": \"white\", \"ticks\": \"\"}}, \"scene\": {\"xaxis\": {\"backgroundcolor\": \"#E5ECF6\", \"gridcolor\": \"white\", \"gridwidth\": 2, \"linecolor\": \"white\", \"showbackground\": true, \"ticks\": \"\", \"zerolinecolor\": \"white\"}, \"yaxis\": {\"backgroundcolor\": \"#E5ECF6\", \"gridcolor\": \"white\", \"gridwidth\": 2, \"linecolor\": \"white\", \"showbackground\": true, \"ticks\": \"\", \"zerolinecolor\": \"white\"}, \"zaxis\": {\"backgroundcolor\": \"#E5ECF6\", \"gridcolor\": \"white\", \"gridwidth\": 2, \"linecolor\": \"white\", \"showbackground\": true, \"ticks\": \"\", \"zerolinecolor\": \"white\"}}, \"shapedefaults\": {\"line\": {\"color\": \"#2a3f5f\"}}, \"ternary\": {\"aaxis\": {\"gridcolor\": \"white\", \"linecolor\": \"white\", \"ticks\": \"\"}, \"baxis\": {\"gridcolor\": \"white\", \"linecolor\": \"white\", \"ticks\": \"\"}, \"bgcolor\": \"#E5ECF6\", \"caxis\": {\"gridcolor\": \"white\", \"linecolor\": \"white\", \"ticks\": \"\"}}, \"title\": {\"x\": 0.05}, \"xaxis\": {\"automargin\": true, \"gridcolor\": \"white\", \"linecolor\": \"white\", \"ticks\": \"\", \"title\": {\"standoff\": 15}, \"zerolinecolor\": \"white\", \"zerolinewidth\": 2}, \"yaxis\": {\"automargin\": true, \"gridcolor\": \"white\", \"linecolor\": \"white\", \"ticks\": \"\", \"title\": {\"standoff\": 15}, \"zerolinecolor\": \"white\", \"zerolinewidth\": 2}}}, \"xaxis\": {\"showgrid\": false, \"tickfont\": {\"size\": 25}, \"ticktext\": [\"Blood Cells\", \"Blood Biochemistry\", \"Urine Biochemistry\"], \"tickvals\": [5, 15, 25], \"zeroline\": false}, \"yaxis\": {\"dtick\": 0.1, \"showgrid\": false, \"tickfont\": {\"size\": 20}, \"title\": {\"font\": {\"size\": 45}, \"text\": \"R\\u00b2\"}, \"zeroline\": false}},                        {\"toImageButtonOptions\": {\"format\": \"svg\"}, \"responsive\": true}                    ).then(function(){\n                            \nvar gd = document.getElementById('5ab86f20-dbd3-4b53-846a-f839f1938a82');\nvar x = new MutationObserver(function (mutations, observer) {{\n        var display = window.getComputedStyle(gd).display;\n        if (!display || display === 'none') {{\n            console.log([gd, 'removed!']);\n            Plotly.purge(gd);\n            observer.disconnect();\n        }}\n}});\n\n// Listen for the removal of the full notebook cells\nvar notebookContainer = gd.closest('#notebook-container');\nif (notebookContainer) {{\n    x.observe(notebookContainer, {childList: true});\n}}\n\n// Listen for the clearing of the current output cell\nvar outputEl = gd.closest('.output');\nif (outputEl) {{\n    x.observe(outputEl, {childList: true});\n}}\n\n                        })                };                });            </script>        </div>"
     },
     "metadata": {},
     "output_type": "display_data"
    }
   ],
   "source": [
    "import plotly.graph_objs as go\n",
    "\n",
    "sorted_dimensions = scores.index.drop_duplicates()\n",
    "\n",
    "\n",
    "x_positions = pd.DataFrame(\n",
    "    np.arange(5, 10 * len(sorted_dimensions) + 5, 10), index=sorted_dimensions, columns=[\"x_position\"]\n",
    ")\n",
    "\n",
    "fig = go.Figure()\n",
    "fig.update_layout(\n",
    "    xaxis={\n",
    "        \"tickvals\": np.arange(5, 10 * len(sorted_dimensions) + 5, 10),\n",
    "        \"ticktext\": [\"Blood Cells\", \"Blood Biochemistry\", \"Urine Biochemistry\"],\n",
    "    }\n",
    ")\n",
    "\n",
    "algorithms = scores[\"algorithm\"].drop_duplicates()\n",
    "\n",
    "hovertemplate = (\n",
    "    \"%{x}, score: %{y:.3f} +- %{customdata[0]:.3f}, sample size: %{customdata[1]} <extra>%{customdata[2]}</extra>\"\n",
    ")\n",
    "\n",
    "min_score = min(scores[metric].min(), 0)\n",
    "\n",
    "for algorithm in algorithms:\n",
    "    scores_algorithm = scores[scores[\"algorithm\"] == algorithm]\n",
    "    x_positions.loc[scores_algorithm.index]\n",
    "\n",
    "    customdata = np.dstack(\n",
    "        (\n",
    "            scores_algorithm[f\"{metric}_std\"].values.flatten(),\n",
    "            scores_algorithm[\"sample_size\"].values.flatten(),\n",
    "            [algorithm] * len(scores_algorithm.index),\n",
    "        )\n",
    "    )[0]\n",
    "    fig.add_bar(\n",
    "        x=x_positions.loc[scores_algorithm.index].values.flatten(),\n",
    "        y=scores_algorithm[metric],\n",
    "        error_y={\"array\": scores_algorithm[f\"{metric}_std\"], \"type\": \"data\"},\n",
    "        name=ALGORITHMS_RENDERING[algorithm],\n",
    "        hovertemplate=hovertemplate,\n",
    "        customdata=customdata,\n",
    "    )\n",
    "\n",
    "\n",
    "fig.update_layout(\n",
    "    yaxis={\n",
    "        \"title\": SCORES[metric],\n",
    "        \"showgrid\": False,\n",
    "        \"zeroline\": False,\n",
    "        \"title_font\": {\"size\": 45},\n",
    "        \"dtick\": 1 if metric == \"rmse\" else 0.1,\n",
    "        \"tickfont_size\": 20,\n",
    "    },\n",
    "    xaxis={\"showgrid\": False, \"zeroline\": False, \"tickfont\":{\"size\": 25}},\n",
    "    # height=800,\n",
    "    # width=1000,\n",
    "    margin={\"l\": 0, \"r\": 0, \"b\": 0, \"t\": 0},\n",
    "    legend={\"orientation\": \"h\", \"y\":-0.3, \"font\": {\"size\": 30}},\n",
    ")\n",
    "\n",
    "print(f\"Average {SCORES[metric]} = {scores[metric].mean().round(3)} +- {scores[metric].std().round(3)}\")\n",
    "\n",
    "fig.show(config=DOWNLOAD_CONFIG)"
   ]
  },
  {
   "cell_type": "code",
   "execution_count": 7,
   "metadata": {},
   "outputs": [],
   "source": [
    "import plotly.graph_objs as go\n",
    "\n",
    "sorted_dimensions = scores.index.drop_duplicates()\n",
    "\n",
    "x_positions = pd.DataFrame(\n",
    "    np.arange(5, 10 * len(sorted_dimensions) + 5, 10), index=sorted_dimensions, columns=[\"x_position\"]\n",
    ")\n",
    "\n",
    "fig = go.Figure()\n",
    "fig.update_layout(\n",
    "    xaxis={\n",
    "        \"tickvals\": np.arange(5, 10 * len(sorted_dimensions) + 5, 10),\n",
    "        \"ticktext\": [\" - \".join(elem) for elem in sorted_dimensions.values],\n",
    "    }\n",
    ")\n",
    "\n",
    "algorithms = scores[\"algorithm\"].drop_duplicates()\n",
    "\n",
    "hovertemplate = (\n",
    "    \"%{x}, score: %{y:.3f} +- %{customdata[0]:.3f}, sample size: %{customdata[1]} <extra>%{customdata[2]}</extra>\"\n",
    ")\n",
    "\n",
    "min_score = min(scores[metric].min(), 0)\n",
    "\n",
    "for algorithm in algorithms:\n",
    "    scores_algorithm = scores[scores[\"algorithm\"] == algorithm]\n",
    "    x_positions.loc[scores_algorithm.index]\n",
    "\n",
    "    customdata = np.dstack(\n",
    "        (\n",
    "            scores_algorithm[f\"{metric}_std\"].values.flatten(),\n",
    "            scores_algorithm[\"sample_size\"].values.flatten(),\n",
    "            [algorithm] * len(scores_algorithm.index),\n",
    "        )\n",
    "    )[0]\n",
    "    fig.add_bar(\n",
    "        x=x_positions.loc[scores_algorithm.index].values.flatten(),\n",
    "        y=scores_algorithm[metric],\n",
    "        error_y={\"array\": scores_algorithm[f\"{metric}_std\"], \"type\": \"data\"},\n",
    "        name=ALGORITHMS_RENDERING[algorithm],\n",
    "        hovertemplate=hovertemplate,\n",
    "        customdata=customdata,\n",
    "    )\n",
    "\n",
    "dimensions = sorted_dimensions.to_frame()[[\"dimension\", \"subdimension\", \"sub_subdimension\"]].reset_index(drop=True)\n",
    "dimensions[\"position\"] = fig[\"layout\"][\"xaxis\"][\"tickvals\"]\n",
    "dimensions.set_index([\"dimension\", \"subdimension\", \"sub_subdimension\"], inplace=True)\n",
    "\n",
    "lines = []\n",
    "annotations = []\n",
    "\n",
    "if dimensions_selection == \"custom_dimensions\":\n",
    "    size_dimension = 18\n",
    "    size_subdimension = 15\n",
    "    if metric == \"rsme\":\n",
    "        dimension_outer_margin = min_score - 9\n",
    "        dimension_inner_margin = min_score - 5\n",
    "        subdimension_margin = min_score - 1\n",
    "        sub_subdimension_margin = min_score - 1\n",
    "    else:\n",
    "        dimension_outer_margin = min_score - 0.9\n",
    "        dimension_inner_margin = min_score - 0.5\n",
    "        subdimension_margin = min_score - 0.1\n",
    "        sub_subdimension_margin = min_score - 0.1\n",
    "\n",
    "else:\n",
    "    if selected_dimension == \"all\":\n",
    "        size_dimension = 15\n",
    "        size_subdimension = 12\n",
    "        size_sub_subdimension = 11\n",
    "    else:\n",
    "        size_dimension = 21\n",
    "        size_subdimension = 20\n",
    "        size_sub_subdimension = 20\n",
    "\n",
    "    if metric == \"rmse\":\n",
    "        dimension_outer_margin = min_score - 17\n",
    "        dimension_inner_margin = min_score - 13\n",
    "        subdimension_margin = min_score - 9\n",
    "        sub_subdimension_margin = min_score - 1\n",
    "    else:\n",
    "        dimension_outer_margin = min_score - 1.7\n",
    "        dimension_inner_margin = min_score - 1.3\n",
    "        subdimension_margin = min_score - 0.9\n",
    "        sub_subdimension_margin = min_score - 0.1\n",
    "\n",
    "for dimension in dimensions.index.get_level_values(\"dimension\").drop_duplicates():\n",
    "    min_position = dimensions.loc[dimension].min()\n",
    "    max_position = dimensions.loc[dimension].max()\n",
    "\n",
    "    line, annotation = add_line_and_annotation(\n",
    "        dimension,\n",
    "        \"x\",\n",
    "        \"y\",\n",
    "        min_position,\n",
    "        max_position,\n",
    "        dimension_inner_margin,\n",
    "        dimension_outer_margin,\n",
    "        90,\n",
    "        size_dimension,\n",
    "    )\n",
    "\n",
    "    lines.append(line)\n",
    "    annotations.append(annotation)\n",
    "\n",
    "    for subdimension in dimensions.loc[dimension].index.get_level_values(\"subdimension\").drop_duplicates():\n",
    "        submin_position = dimensions.loc[(dimension, subdimension)].min()\n",
    "        submax_position = dimensions.loc[(dimension, subdimension)].max()\n",
    "\n",
    "        line, annotation = add_line_and_annotation(\n",
    "            subdimension,\n",
    "            \"x\",\n",
    "            \"y\",\n",
    "            submin_position,\n",
    "            submax_position,\n",
    "            subdimension_margin,\n",
    "            dimension_inner_margin,\n",
    "            90,\n",
    "            size_subdimension,\n",
    "        )\n",
    "\n",
    "        lines.append(line)\n",
    "        annotations.append(annotation)\n",
    "\n",
    "        if dimensions_selection == \"custom_dimensions\":\n",
    "            continue\n",
    "\n",
    "        for sub_subdimension in (\n",
    "            dimensions.loc[(dimension, subdimension)].index.get_level_values(\"sub_subdimension\").drop_duplicates()\n",
    "        ):\n",
    "            sub_submin_position = dimensions.loc[(dimension, subdimension, sub_subdimension)].min()\n",
    "            sub_submax_position = dimensions.loc[(dimension, subdimension, sub_subdimension)].max()\n",
    "\n",
    "            line, annotation = add_line_and_annotation(\n",
    "                sub_subdimension,\n",
    "                \"x\",\n",
    "                \"y\",\n",
    "                sub_submin_position,\n",
    "                sub_submax_position,\n",
    "                sub_subdimension_margin,\n",
    "                subdimension_margin,\n",
    "                90,\n",
    "                size_sub_subdimension,\n",
    "            )\n",
    "\n",
    "            lines.append(line)\n",
    "            annotations.append(annotation)\n",
    "\n",
    "# The final top/right line\n",
    "line, _ = add_line_and_annotation(\n",
    "    dimension,\n",
    "    \"x\",\n",
    "    \"y\",\n",
    "    min_position,\n",
    "    max_position,\n",
    "    sub_subdimension_margin,\n",
    "    dimension_outer_margin,\n",
    "    0,\n",
    "    10,\n",
    "    final=True,\n",
    ")\n",
    "\n",
    "lines.append(line)\n",
    "\n",
    "fig[\"layout\"][\"shapes\"] = lines\n",
    "fig[\"layout\"][\"annotations\"] = annotations\n",
    "fig.update_layout(xaxis={\"showticklabels\": False})\n",
    "\n",
    "fig.update_layout(\n",
    "    yaxis={\n",
    "        \"title\": SCORES[metric],\n",
    "        \"showgrid\": False,\n",
    "        \"zeroline\": False,\n",
    "        \"title_font\": {\"size\": 45},\n",
    "        \"dtick\": 1 if metric == \"rmse\" else 0.1,\n",
    "        \"tickfont_size\": 20,\n",
    "    },\n",
    "    xaxis={\"showgrid\": False, \"zeroline\": False},\n",
    "    height=800,\n",
    "    margin={\"l\": 0, \"r\": 0, \"b\": 0, \"t\": 0},\n",
    "    legend={\"orientation\": \"h\", \"yanchor\": \"bottom\", \"font\": {\"size\": 30}},\n",
    ")\n",
    "\n",
    "print(f\"Average {SCORES[metric]} = {scores[metric].mean().round(3)} +- {scores[metric].std().round(3)}\")\n",
    "fig"
   ]
  }
 ],
 "metadata": {
  "kernelspec": {
   "display_name": "Python 3.9.5 64-bit ('env_container': venv)",
   "name": "pythonjvsc74a57bd0827f31c7a17f115185da69808fd256ce792d94cfeb61ab0a6e35bd7e2999d502"
  },
  "language_info": {
   "name": "python",
   "version": ""
  },
  "metadata": {
   "interpreter": {
    "hash": "827f31c7a17f115185da69808fd256ce792d94cfeb61ab0a6e35bd7e2999d502"
   }
  },
  "orig_nbformat": 3
 },
 "nbformat": 4,
 "nbformat_minor": 2
}