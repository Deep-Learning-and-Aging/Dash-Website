{
 "cells": [
  {
   "cell_type": "code",
   "execution_count": null,
   "metadata": {},
   "outputs": [
    {
     "name": "stderr",
     "output_type": "stream",
     "text": [
      "100%|██████████| 33/33 [03:15<00:00,  5.92s/it]\n",
      "100%|██████████| 33/33 [03:32<00:00,  6.45s/it]\n"
     ]
    }
   ],
   "source": [
    "from tqdm import tqdm\n",
    "\n",
    "from dash_website.utils.aws_loader import load_feather, upload_file\n",
    "from dash_website import RENAME_DIMENSIONS, CUSTOM_DIMENSIONS\n",
    "\n",
    "DIMENSIONS = list(\n",
    "                    map(\n",
    "                        lambda dimension: dimension.split(\"*\")[0] if dimension[0] != \"*\" else dimension[:-1],\n",
    "                        [\"\".join(dimensions[:2]) for dimensions in CUSTOM_DIMENSIONS],\n",
    "                    )\n",
    "                )\n",
    "for dimension in tqdm(DIMENSIONS):\n",
    "    correlations = load_feather(\n",
    "        f\"xwas/univariate_results/linear_correlations_{RENAME_DIMENSIONS.get(dimension, dimension)}.feather\"\n",
    "    )\n",
    "\n",
    "    correlations.drop(index=correlations.index[correlations[\"sample_size\"] < 10], inplace=True)\n",
    "\n",
    "    correlations.reset_index(drop=True).to_feather(\"tmp.feather\")\n",
    "    \n",
    "    # upload_file(\"tmp.feather\", f\"xwas/univariate_results/linear_correlations_{RENAME_DIMENSIONS.get(dimension, dimension)}.feather\")\n"
   ]
  }
 ],
 "metadata": {
  "kernelspec": {
   "display_name": "Python 3.9.5 64-bit ('env_container': venv)",
   "name": "pythonjvsc74a57bd0827f31c7a17f115185da69808fd256ce792d94cfeb61ab0a6e35bd7e2999d502"
  },
  "language_info": {
   "codemirror_mode": {
    "name": "ipython",
    "version": 3
   },
   "file_extension": ".py",
   "mimetype": "text/x-python",
   "name": "python",
   "nbconvert_exporter": "python",
   "pygments_lexer": "ipython3",
   "version": "3.9.5"
  },
  "metadata": {
   "interpreter": {
    "hash": "827f31c7a17f115185da69808fd256ce792d94cfeb61ab0a6e35bd7e2999d502"
   }
  },
  "orig_nbformat": 2
 },
 "nbformat": 4,
 "nbformat_minor": 2
}