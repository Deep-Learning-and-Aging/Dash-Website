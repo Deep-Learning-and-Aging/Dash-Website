{
 "metadata": {
  "language_info": {
   "codemirror_mode": {
    "name": "ipython",
    "version": 3
   },
   "file_extension": ".py",
   "mimetype": "text/x-python",
   "name": "python",
   "nbconvert_exporter": "python",
   "pygments_lexer": "ipython3",
   "version": "3.7.7-final"
  },
  "orig_nbformat": 2,
  "kernelspec": {
   "name": "python377jvsc74a57bd0c11bf2a122358a257f4887e4656fd266c9212bc31c6d2fa50cb5fb4a0c5b9dd8",
   "display_name": "Python 3.7.7 64-bit ('env_website')"
  }
 },
 "nbformat": 4,
 "nbformat_minor": 2,
 "cells": [
  {
   "cell_type": "code",
   "execution_count": 3,
   "metadata": {},
   "outputs": [],
   "source": [
    "import pandas as pd\n",
    "import numpy as np\n",
    "\n",
    "DICT_TO_CHANGE_DIMENSIONS = {\n",
    "    \"ImmuneSystem\": \"BloodCells\",\n",
    "    \"\\*\": \"set\",\n",
    "    \"*instances01\": \"set_instances01\",\n",
    "    \"*instances1.5x\": \"set_instances1.5x\",\n",
    "    \"*instances23\": \"set_instances23\",\n",
    "}\n",
    "DICT_TO_CHANGE_CATEGORIES = {\n",
    "    \"HeartSize\": \"HeartFunction\",\n",
    "    \"AnthropometryImpedance\": \"Impedance\",\n",
    "    \"AnthropometryBodySize\": \"Anthropometry\",\n",
    "    \"Claudification\": \"Claudication\",\n",
    "}\n",
    "\n",
    "CAMEL_TO_SNAKE = {\"ElasticNet\": \"elastic_net\", \"LightGbm\": \"light_gbm\", \"NeuralNetwork\": \"neural_network\"}\n",
    "\n",
    "\n",
    "\n",
    "list_scores = []\n",
    "\n",
    "for algorithm in CAMEL_TO_SNAKE.keys():\n",
    "    scores = pd.read_csv(f\"../data/page7_MultivariateXWASResults/Scores/Scores_{algorithm}_test.csv\", index_col=0).drop(\n",
    "        columns=\"subset\"\n",
    "    )\n",
    "    scores.rename(columns={\"env_dataset\": \"category\", \"organ\": \"dimension\"}, inplace=True)\n",
    "\n",
    "    scores_cleaned_dimension = scores.set_index(\"dimension\").rename(index=DICT_TO_CHANGE_DIMENSIONS).reset_index()\n",
    "\n",
    "    every_category = np.array(scores_cleaned_dimension[\"category\"].tolist())\n",
    "    category_to_split = ~scores_cleaned_dimension[\"category\"].str.startswith(\"medical_diagnoses\")\n",
    "\n",
    "    every_category[category_to_split] = list(\n",
    "        np.array(list(map(np.array, scores_cleaned_dimension[\"category\"][category_to_split].str.split(\"_\"))))[:, 1]\n",
    "    )\n",
    "\n",
    "    scores_cleaned_dimension[\"category\"] = every_category\n",
    "    scores_cleaned_dimension[\"algorithm\"] = CAMEL_TO_SNAKE[algorithm]\n",
    "\n",
    "    scores_cleaned = scores_cleaned_dimension.set_index(\"category\").rename(\n",
    "        index=DICT_TO_CHANGE_CATEGORIES\n",
    "    ).reset_index()\n",
    "    list_scores.append(scores_cleaned)\n",
    "\n",
    "scores = pd.concat(list_scores, ignore_index=True)"
   ]
  },
  {
   "cell_type": "code",
   "execution_count": 8,
   "metadata": {},
   "outputs": [
    {
     "output_type": "stream",
     "name": "stdout",
     "text": [
      "\nChange\n\nBloodBiochemistry\nCognitiveFluidIntelligence\nCognitiveMatrixPatternCompletion\nCognitiveNumericMemory\nCognitivePairedAssociativeLearning\nCognitivePairsMatching\nCognitiveProspectiveMemory\nCognitiveReactionTime\nCognitiveSymbolDigitSubstitution\nCognitiveTowerRearranging\nCognitiveTrailMaking\nGenetics\nPhenotypic\nPhysicalActivity\nPhysicalActivityQuestionnaire\nSmoking\nUrineBiochemistry\n"
     ]
    }
   ],
   "source": [
    "from dash_website import MAIN_CATEGORIES_TO_CATEGORIES\n",
    "\n",
    "for cat in scores[\"category\"].drop_duplicates().to_list():\n",
    "    if cat not in MAIN_CATEGORIES_TO_CATEGORIES[\"All\"]:\n",
    "        print(cat)\n",
    "print(\"\\nChange\\n\")\n",
    "for cat in MAIN_CATEGORIES_TO_CATEGORIES[\"All\"]:\n",
    "    if cat not in scores[\"category\"].drop_duplicates().to_list():\n",
    "        print(cat)"
   ]
  }
 ]
}