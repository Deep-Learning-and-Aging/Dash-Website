{
 "cells": [
  {
   "cell_type": "code",
   "execution_count": 1,
   "metadata": {},
   "outputs": [],
   "source": [
    "import pandas as pd \n",
    "\n",
    "DATA_TYPE_NAMING = {\"instances\": \"all_samples_per_participant\", \"eids\": \"average_per_participant\", \"*\": \"all_possible_samples\"}\n",
    "COLUMNS_TO_TAKE = {\n",
    "    \"organ\": \"dimension\",\n",
    "    \"view\": \"subdimension\",\n",
    "    \"transformation\": \"sub_subdimension\",\n",
    "    \"architecture\": \"algorithm\",\n",
    "    \"R-Squared_all\": \"r2\",\n",
    "    \"R-Squared_sd_all\": \"r2_std\",\n",
    "}\n",
    "\n",
    "data_type = \"instances\""
   ]
  },
  {
   "cell_type": "code",
   "execution_count": 2,
   "metadata": {},
   "outputs": [],
   "source": [
    "correlations_raw_ = pd.read_csv(f\"../../all_data/page4_correlations/ResidualsCorrelations/ResidualsCorrelations_{data_type}_Age_test.csv\")\n",
    "correlations_std_raw_ = pd.read_csv(f\"../../all_data/page4_correlations/ResidualsCorrelations/ResidualsCorrelations_sd_{data_type}_Age_test.csv\")\n",
    "\n",
    "correlations_raw = correlations_raw_.melt(id_vars=[\"Unnamed: 0\"], value_vars=correlations_raw_.columns.drop(\"Unnamed: 0\"))\n",
    "correlations_raw.rename(columns={\"Unnamed: 0\": \"dimensions_1\", \"variable\": \"dimensions_2\", \"value\": \"correlation\"}, inplace=True)\n",
    "\n",
    "correlations_std_raw = correlations_std_raw_.melt(id_vars=[\"Unnamed: 0\"], value_vars=correlations_std_raw_.columns.drop(\"Unnamed: 0\"))\n",
    "correlations_std_raw.rename(columns={\"Unnamed: 0\": \"dimensions_1\", \"variable\": \"dimensions_2\", \"value\": \"correlation\"}, inplace=True)"
   ]
  },
  {
   "cell_type": "code",
   "execution_count": 3,
   "metadata": {},
   "outputs": [],
   "source": [
    "correlations = pd.DataFrame(None, columns=[\"dimension_1\", \"subdimension_1\", \"sub_subdimension_1\", \"algorithm_1\", \"r2_1\", \"r2_std_1\", \"dimension_2\", \"subdimension_2\", \"sub_subdimension_2\", \"algorithm_2\", \"r2_2\", \"r2_std_2\", \"correlation\", \"correlation_std\"])"
   ]
  },
  {
   "cell_type": "code",
   "execution_count": 4,
   "metadata": {},
   "outputs": [],
   "source": [
    "for dimension_index in [\"1\", \"2\"]:\n",
    "    split_residual = correlations_raw[f\"dimensions_{dimension_index}\"].str.split(\"_\")\n",
    "\n",
    "    correlations[f\"dimension_{dimension_index}\"] = split_residual.apply(lambda list_information: list_information[0])\n",
    "    correlations[f\"subdimension_{dimension_index}\"] = split_residual.apply(lambda list_information: list_information[1])\n",
    "    correlations[f\"sub_subdimension_{dimension_index}\"] = split_residual.apply(lambda list_information: list_information[2])\n",
    "    correlations[f\"algorithm_{dimension_index}\"] = split_residual.apply(lambda list_information: list_information[3])\n",
    "\n",
    "correlations[\"correlation\"] = correlations_raw[\"correlation\"]\n",
    "correlations[\"correlation_std\"] = correlations_std_raw[\"correlation\"]"
   ]
  },
  {
   "cell_type": "code",
   "execution_count": 5,
   "metadata": {},
   "outputs": [],
   "source": [
    "scores_raw = pd.read_csv(\"../../all_data/page2_predictions/Performances/PERFORMANCES_withEnsembles_alphabetical_instances_Age_test.csv\")[COLUMNS_TO_TAKE].rename(columns=COLUMNS_TO_TAKE)\n",
    "scores_raw.set_index([\"dimension\", \"subdimension\", \"sub_subdimension\", \"algorithm\"], inplace=True)\n",
    "\n",
    "correlations.set_index([\"dimension_1\", \"subdimension_1\", \"sub_subdimension_1\", \"algorithm_1\"], inplace=True)\n",
    "correlations[[\"r2_1\", \"r2_std_1\"]] = scores_raw[[\"r2\", \"r2_std\"]]\n",
    "\n",
    "correlations.reset_index(inplace=True)\n",
    "correlations.set_index([\"dimension_2\", \"subdimension_2\", \"sub_subdimension_2\", \"algorithm_2\"], inplace=True)\n",
    "correlations[[\"r2_2\", \"r2_std_2\"]] = scores_raw[[\"r2\", \"r2_std\"]]"
   ]
  },
  {
   "cell_type": "code",
   "execution_count": 16,
   "metadata": {},
   "outputs": [],
   "source": [
    "correlations.reset_index().to_feather(f\"../../all_data/correlation_between_accelerated_aging_dimensions/all_models_{DATA_TYPE_NAMING[data_type]}.feather\")"
   ]
  }
 ],
 "metadata": {
  "kernelspec": {
   "display_name": "Python 3.8.5  ('env_website': venv)",
   "name": "pythonjvsc74a57bd090a2d2112265369b3cee75b3d17fea5658357118066bfd7e04cfa35ff7dbfd52"
  },
  "language_info": {
   "codemirror_mode": {
    "name": "ipython",
    "version": 3
   },
   "file_extension": ".py",
   "mimetype": "text/x-python",
   "name": "python",
   "nbconvert_exporter": "python",
   "pygments_lexer": "ipython3",
   "version": "3.8.5"
  },
  "metadata": {
   "interpreter": {
    "hash": "90a2d2112265369b3cee75b3d17fea5658357118066bfd7e04cfa35ff7dbfd52"
   }
  },
  "orig_nbformat": 2
 },
 "nbformat": 4,
 "nbformat_minor": 2
}