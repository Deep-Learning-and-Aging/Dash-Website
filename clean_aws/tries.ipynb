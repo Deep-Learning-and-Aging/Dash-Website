{
 "metadata": {
  "language_info": {
   "codemirror_mode": {
    "name": "ipython",
    "version": 3
   },
   "file_extension": ".py",
   "mimetype": "text/x-python",
   "name": "python",
   "nbconvert_exporter": "python",
   "pygments_lexer": "ipython3",
   "version": "3.7.7-final"
  },
  "orig_nbformat": 2,
  "kernelspec": {
   "name": "python3",
   "display_name": "Python 3.7.7 64-bit ('env_website')",
   "metadata": {
    "interpreter": {
     "hash": "c11bf2a122358a257f4887e4656fd266c9212bc31c6d2fa50cb5fb4a0c5b9dd8"
    }
   }
  }
 },
 "nbformat": 4,
 "nbformat_minor": 2,
 "cells": [
  {
   "cell_type": "code",
   "execution_count": 8,
   "metadata": {},
   "outputs": [],
   "source": [
    "from dash_website import DIMENSIONS, ALL_CATEGORIES\n",
    "import pandas as pd \n",
    "\n",
    "phenotypic_table = pd.read_csv(\"../data/page4_correlations/ResidualsCorrelations/ResidualsCorrelations_bestmodels___Age_test.csv\", index_col=0)"
   ]
  },
  {
   "cell_type": "code",
   "execution_count": 9,
   "metadata": {},
   "outputs": [],
   "source": [
    "list_indexes = []\n",
    "for dimension_1 in DIMENSIONS:\n",
    "    for dimension_2 in DIMENSIONS:\n",
    "        list_indexes.append([dimension_1, dimension_2])\n",
    "indexes = pd.MultiIndex.from_tuples(list_indexes, names=[\"dimension_1\", \"dimension_2\"])\n",
    "phenotypic = pd.DataFrame(None, index=indexes, columns=[\"correlation\"])"
   ]
  },
  {
   "cell_type": "code",
   "execution_count": 10,
   "metadata": {},
   "outputs": [],
   "source": [
    "phenotypic_raw = phenotypic_table.stack(dropna=False).rename(index={\"*\": \"set\", \"*instances01\": \"set_instances01\", \"*instances1.5x\": \"set_instances1.5x\", \"*instances23\": \"set_instances23\"})"
   ]
  },
  {
   "source": [
    "phenotypic_raw.index.names = [\"dimension_1\", \"dimension_2\"]\n",
    "phenotypic_raw.name = \"correlation\"\n",
    "phenotypic_raw"
   ],
   "cell_type": "code",
   "metadata": {},
   "execution_count": 11,
   "outputs": [
    {
     "output_type": "execute_result",
     "data": {
      "text/plain": [
       "dimension_1       dimension_2            \n",
       "set               set                        1.000000\n",
       "                  set_instances01            0.838413\n",
       "                  set_instances1.5x          0.998501\n",
       "                  set_instances23            0.774242\n",
       "                  Abdomen                    0.375136\n",
       "                                               ...   \n",
       "PhysicalActivity  MusculoskeletalHips        0.137794\n",
       "                  MusculoskeletalKnees       0.110722\n",
       "                  MusculoskeletalFullBody    0.159431\n",
       "                  MusculoskeletalScalars     0.125744\n",
       "                  PhysicalActivity           1.000000\n",
       "Name: correlation, Length: 1089, dtype: float64"
      ]
     },
     "metadata": {},
     "execution_count": 11
    }
   ]
  },
  {
   "cell_type": "code",
   "execution_count": 12,
   "metadata": {},
   "outputs": [],
   "source": [
    "phenotypic[\"correlation\"] = phenotypic_raw"
   ]
  },
  {
   "cell_type": "code",
   "execution_count": null,
   "metadata": {},
   "outputs": [],
   "source": []
  }
 ]
}