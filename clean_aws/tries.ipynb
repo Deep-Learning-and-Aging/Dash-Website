{
 "metadata": {
  "language_info": {
   "codemirror_mode": {
    "name": "ipython",
    "version": 3
   },
   "file_extension": ".py",
   "mimetype": "text/x-python",
   "name": "python",
   "nbconvert_exporter": "python",
   "pygments_lexer": "ipython3",
   "version": "3.7.7-final"
  },
  "orig_nbformat": 2,
  "kernelspec": {
   "name": "python3",
   "display_name": "Python 3.7.7 64-bit ('env_website')",
   "metadata": {
    "interpreter": {
     "hash": "c11bf2a122358a257f4887e4656fd266c9212bc31c6d2fa50cb5fb4a0c5b9dd8"
    }
   }
  }
 },
 "nbformat": 4,
 "nbformat_minor": 2,
 "cells": [
  {
   "cell_type": "code",
   "execution_count": 2,
   "metadata": {},
   "outputs": [],
   "source": [
    "from dash_website import DIMENSIONS, ALL_CATEGORIES\n",
    "import pandas as pd \n",
    "\n",
    "phenotypic_table = pd.read_csv(\"../data/page4_correlations/ResidualsCorrelations/ResidualsCorrelations_bestmodels___Age_test.csv\", index_col=0)"
   ]
  },
  {
   "cell_type": "code",
   "execution_count": 3,
   "metadata": {},
   "outputs": [],
   "source": [
    "phenotypic = phenotypic_table.stack(dropna=False).rename(index={\"*\": \"set\", \"*instances01\": \"set_instances01\", \"*instances1.5x\": \"set_instances1.5x\", \"*instances23\": \"set_instances23\"})"
   ]
  },
  {
   "source": [
    "phenotypic.index.names = [\"dimension_1\", \"dimension_2\"]\n",
    "phenotypic.name = \"correlation\"\n",
    "d = phenotypic.reset_index()"
   ],
   "cell_type": "code",
   "metadata": {},
   "execution_count": 4,
   "outputs": []
  },
  {
   "cell_type": "code",
   "execution_count": 5,
   "metadata": {},
   "outputs": [
    {
     "output_type": "execute_result",
     "data": {
      "text/plain": [
       "           dimension_1              dimension_2  correlation\n",
       "0                  set                      set     1.000000\n",
       "1                  set          set_instances01     0.838413\n",
       "2                  set        set_instances1.5x     0.998501\n",
       "3                  set          set_instances23     0.774242\n",
       "4                  set                  Abdomen     0.375136\n",
       "...                ...                      ...          ...\n",
       "1084  PhysicalActivity      MusculoskeletalHips     0.137794\n",
       "1085  PhysicalActivity     MusculoskeletalKnees     0.110722\n",
       "1086  PhysicalActivity  MusculoskeletalFullBody     0.159431\n",
       "1087  PhysicalActivity   MusculoskeletalScalars     0.125744\n",
       "1088  PhysicalActivity         PhysicalActivity     1.000000\n",
       "\n",
       "[1089 rows x 3 columns]"
      ],
      "text/html": "<div>\n<style scoped>\n    .dataframe tbody tr th:only-of-type {\n        vertical-align: middle;\n    }\n\n    .dataframe tbody tr th {\n        vertical-align: top;\n    }\n\n    .dataframe thead th {\n        text-align: right;\n    }\n</style>\n<table border=\"1\" class=\"dataframe\">\n  <thead>\n    <tr style=\"text-align: right;\">\n      <th></th>\n      <th>dimension_1</th>\n      <th>dimension_2</th>\n      <th>correlation</th>\n    </tr>\n  </thead>\n  <tbody>\n    <tr>\n      <th>0</th>\n      <td>set</td>\n      <td>set</td>\n      <td>1.000000</td>\n    </tr>\n    <tr>\n      <th>1</th>\n      <td>set</td>\n      <td>set_instances01</td>\n      <td>0.838413</td>\n    </tr>\n    <tr>\n      <th>2</th>\n      <td>set</td>\n      <td>set_instances1.5x</td>\n      <td>0.998501</td>\n    </tr>\n    <tr>\n      <th>3</th>\n      <td>set</td>\n      <td>set_instances23</td>\n      <td>0.774242</td>\n    </tr>\n    <tr>\n      <th>4</th>\n      <td>set</td>\n      <td>Abdomen</td>\n      <td>0.375136</td>\n    </tr>\n    <tr>\n      <th>...</th>\n      <td>...</td>\n      <td>...</td>\n      <td>...</td>\n    </tr>\n    <tr>\n      <th>1084</th>\n      <td>PhysicalActivity</td>\n      <td>MusculoskeletalHips</td>\n      <td>0.137794</td>\n    </tr>\n    <tr>\n      <th>1085</th>\n      <td>PhysicalActivity</td>\n      <td>MusculoskeletalKnees</td>\n      <td>0.110722</td>\n    </tr>\n    <tr>\n      <th>1086</th>\n      <td>PhysicalActivity</td>\n      <td>MusculoskeletalFullBody</td>\n      <td>0.159431</td>\n    </tr>\n    <tr>\n      <th>1087</th>\n      <td>PhysicalActivity</td>\n      <td>MusculoskeletalScalars</td>\n      <td>0.125744</td>\n    </tr>\n    <tr>\n      <th>1088</th>\n      <td>PhysicalActivity</td>\n      <td>PhysicalActivity</td>\n      <td>1.000000</td>\n    </tr>\n  </tbody>\n</table>\n<p>1089 rows × 3 columns</p>\n</div>"
     },
     "metadata": {},
     "execution_count": 5
    }
   ],
   "source": [
    "d"
   ]
  }
 ]
}