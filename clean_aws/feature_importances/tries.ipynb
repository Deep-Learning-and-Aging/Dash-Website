{
 "cells": [
  {
   "cell_type": "code",
   "execution_count": 4,
   "metadata": {},
   "outputs": [],
   "source": [
    "import pandas as pd\n",
    "\n",
    "COLUMNS_TO_TAKE = {\n",
    "    \"organ\": \"dimension\",\n",
    "    \"view\": \"subdimension\",\n",
    "    \"transformation\": \"sub_subdimension\",\n",
    "    \"architecture\": \"algorithm\",\n",
    "    \"N_all\": \"sample_size\",\n",
    "    \"RMSE_all\": \"rmse\",\n",
    "    \"RMSE_sd_all\": \"rmse_std\",\n",
    "    \"R-Squared_all\": \"r2\",\n",
    "    \"R-Squared_sd_all\": \"r2_std\",\n",
    "}\n",
    "\n",
    "DATA_TYPE_NAMING = {\"instances\": \"all_samples\", \"eids\": \"average_per_participant\"}\n",
    "ALGORITHMS_NAMING = {\"ElasticNet\": \"elastic_net\", \"LightGBM\": \"ligth_gbm\", \"NeuralNetwork\": \"neural_network\"}\n",
    "\n",
    "\n",
    "for data_type in [\"instances\"]:  # [\"eids\", \"instances\"]:\n",
    "    scores_raw = pd.read_csv(\n",
    "        f\"../../all_data/page2_predictions/Performances/PERFORMANCES_tuned_alphabetical_{data_type}_Age_test.csv\"\n",
    "    )\n",
    "    scores = scores_raw[COLUMNS_TO_TAKE.keys()].rename(columns=COLUMNS_TO_TAKE)\n",
    "    data = scores.drop(index=scores.index[~scores[\"algorithm\"].isin(ALGORITHMS_NAMING.keys())]).replace(ALGORITHMS_NAMING).replace({\"ImmuneSystem\": \"BloodCells\"})\n"
   ]
  },
  {
   "cell_type": "code",
   "execution_count": 8,
   "metadata": {},
   "outputs": [
    {
     "data": {
      "text/html": "<div>\n<style scoped>\n    .dataframe tbody tr th:only-of-type {\n        vertical-align: middle;\n    }\n\n    .dataframe tbody tr th {\n        vertical-align: top;\n    }\n\n    .dataframe thead th {\n        text-align: right;\n    }\n</style>\n<table border=\"1\" class=\"dataframe\">\n  <thead>\n    <tr style=\"text-align: right;\">\n      <th></th>\n      <th>subdimension</th>\n      <th>sub_subdimension</th>\n      <th>algorithm</th>\n      <th>sample_size</th>\n      <th>rmse</th>\n      <th>rmse_std</th>\n      <th>r2</th>\n      <th>r2_std</th>\n    </tr>\n    <tr>\n      <th>dimension</th>\n      <th></th>\n      <th></th>\n      <th></th>\n      <th></th>\n      <th></th>\n      <th></th>\n      <th></th>\n      <th></th>\n    </tr>\n  </thead>\n  <tbody>\n    <tr>\n      <th>BloodCells</th>\n      <td>BloodCount</td>\n      <td>Scalars</td>\n      <td>elastic_net</td>\n      <td>489079</td>\n      <td>7.877788</td>\n      <td>0.007034</td>\n      <td>0.058224</td>\n      <td>0.001037</td>\n    </tr>\n    <tr>\n      <th>BloodCells</th>\n      <td>BloodCount</td>\n      <td>Scalars</td>\n      <td>ligth_gbm</td>\n      <td>489079</td>\n      <td>7.606280</td>\n      <td>0.005834</td>\n      <td>0.122022</td>\n      <td>0.000905</td>\n    </tr>\n    <tr>\n      <th>BloodCells</th>\n      <td>BloodCount</td>\n      <td>Scalars</td>\n      <td>neural_network</td>\n      <td>489079</td>\n      <td>7.619174</td>\n      <td>0.006275</td>\n      <td>0.119043</td>\n      <td>0.000903</td>\n    </tr>\n  </tbody>\n</table>\n</div>",
      "text/plain": "           subdimension sub_subdimension       algorithm  sample_size  \\\ndimension                                                               \nBloodCells   BloodCount          Scalars     elastic_net       489079   \nBloodCells   BloodCount          Scalars       ligth_gbm       489079   \nBloodCells   BloodCount          Scalars  neural_network       489079   \n\n                rmse  rmse_std        r2    r2_std  \ndimension                                           \nBloodCells  7.877788  0.007034  0.058224  0.001037  \nBloodCells  7.606280  0.005834  0.122022  0.000905  \nBloodCells  7.619174  0.006275  0.119043  0.000903  "
     },
     "execution_count": 8,
     "metadata": {},
     "output_type": "execute_result"
    }
   ],
   "source": [
    "data.set_index([\"dimension\"]).loc[\"BloodCells\"]"
   ]
  }
 ],
 "metadata": {
  "kernelspec": {
   "display_name": "Python 3.8.5  ('env_website': venv)",
   "name": "pythonjvsc74a57bd090a2d2112265369b3cee75b3d17fea5658357118066bfd7e04cfa35ff7dbfd52"
  },
  "language_info": {
   "codemirror_mode": {
    "name": "ipython",
    "version": 3
   },
   "file_extension": ".py",
   "mimetype": "text/x-python",
   "name": "python",
   "nbconvert_exporter": "python",
   "pygments_lexer": "ipython3",
   "version": "3.8.5"
  },
  "metadata": {
   "interpreter": {
    "hash": "90a2d2112265369b3cee75b3d17fea5658357118066bfd7e04cfa35ff7dbfd52"
   }
  },
  "orig_nbformat": 2
 },
 "nbformat": 4,
 "nbformat_minor": 2
}