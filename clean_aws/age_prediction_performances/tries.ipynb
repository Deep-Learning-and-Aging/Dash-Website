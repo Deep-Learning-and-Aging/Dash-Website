{
 "cells": [
  {
   "cell_type": "code",
   "execution_count": 9,
   "metadata": {},
   "outputs": [],
   "source": [
    "from dash_website.utils.aws_loader import load_csv, upload_file\n",
    "import numpy as np\n",
    "\n",
    "\n",
    "SAMPLE_DEFINITION_NAMING = {\n",
    "    \"instances\": \"all_samples_per_participant\",\n",
    "    \"eids\": \"average_per_participant\",\n",
    "}\n",
    "COLUMNS_TO_TAKE = {\n",
    "    \"organ\": \"dimension\",\n",
    "    \"view\": \"subdimension\",\n",
    "    \"transformation\": \"sub_subdimension\",\n",
    "    \"architecture\": \"algorithm\",\n",
    "    \"N_all\": \"sample_size\",\n",
    "    \"R-Squared_str_all\": \"r2_and_std\",\n",
    "    \"C-Index_str_all\": \"c_index_and_std\",\n",
    "    \"RMSE_str_all\": \"rmse_and_std\",\n",
    "    \"C-Index-difference_str_all\": \"c_index_difference_and_std\"\n",
    "}\n",
    "DICT_TO_CHANGE_DIMENSIONS = {\"ImmuneSystem\": \"BloodCells\"}\n",
    "\n",
    "\n",
    "if __name__ == \"__main__\":\n",
    "    for sample_definition in [\"instances\", \"eids\"]:\n",
    "        scores = load_csv(\n",
    "            f\"page2_predictions/Performances/PERFORMANCES_withEnsembles_withCI_alphabetical_{sample_definition}_Age_test.csv\"\n",
    "        )[COLUMNS_TO_TAKE].rename(columns=COLUMNS_TO_TAKE)\n",
    "\n",
    "        for metric in [\"r2\", \"rmse\", \"c_index\", \"c_index_difference\"]:\n",
    "            scores[metric] = scores[f\"{metric}_and_std\"].str.split(\"+\", expand=True)[0].astype(np.float32)\n",
    "            scores[f\"{metric}_std\"] = scores[f\"{metric}_and_std\"].str.split(\"+\", expand=True)[1].str.split(\"-\", expand=True)[1].astype(np.float32)\n",
    "        \n",
    "            scores.drop(columns=f\"{metric}_and_std\", inplace=True)\n",
    "\n",
    "        scores.loc[\n",
    "            (scores[\"dimension\"] == \"Musculoskeletal\") & (scores[\"sub_subdimension\"] == \"MRI\"), \"sub_subdimension\"\n",
    "        ] = \"DXA\"\n",
    "        scores.replace(DICT_TO_CHANGE_DIMENSIONS).to_feather(\n",
    "            f\"all_data/age_prediction_performances/scores_{SAMPLE_DEFINITION_NAMING[sample_definition]}.feather\"\n",
    "        )\n",
    "        upload_file(f\"all_data/age_prediction_performances/scores_{SAMPLE_DEFINITION_NAMING[sample_definition]}.feather\", f\"age_prediction_performances/scores_{SAMPLE_DEFINITION_NAMING[sample_definition]}.feather\")"
   ]
  },
  {
   "cell_type": "code",
   "execution_count": 10,
   "metadata": {},
   "outputs": [
    {
     "data": {
      "text/plain": "dimension                  object\nsubdimension               object\nsub_subdimension           object\nalgorithm                  object\nsample_size                 int64\nr2                        float32\nr2_std                    float32\nrmse                      float32\nrmse_std                  float32\nc_index                   float32\nc_index_std               float32\nc_index_difference        float32\nc_index_difference_std    float32\ndtype: object"
     },
     "execution_count": 10,
     "metadata": {},
     "output_type": "execute_result"
    }
   ],
   "source": [
    "scores.dtypes"
   ]
  }
 ],
 "metadata": {
  "kernelspec": {
   "display_name": "Python 3.9.5 64-bit ('env_container': venv)",
   "name": "pythonjvsc74a57bd0827f31c7a17f115185da69808fd256ce792d94cfeb61ab0a6e35bd7e2999d502"
  },
  "language_info": {
   "codemirror_mode": {
    "name": "ipython",
    "version": 3
   },
   "file_extension": ".py",
   "mimetype": "text/x-python",
   "name": "python",
   "nbconvert_exporter": "python",
   "pygments_lexer": "ipython3",
   "version": "3.9.5"
  },
  "metadata": {
   "interpreter": {
    "hash": "827f31c7a17f115185da69808fd256ce792d94cfeb61ab0a6e35bd7e2999d502"
   }
  },
  "orig_nbformat": 2
 },
 "nbformat": 4,
 "nbformat_minor": 2
}