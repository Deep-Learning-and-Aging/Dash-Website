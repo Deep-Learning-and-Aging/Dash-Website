{
 "metadata": {
  "language_info": {
   "codemirror_mode": {
    "name": "ipython",
    "version": 3
   },
   "file_extension": ".py",
   "mimetype": "text/x-python",
   "name": "python",
   "nbconvert_exporter": "python",
   "pygments_lexer": "ipython3",
   "version": "3.7.7-final"
  },
  "orig_nbformat": 2,
  "kernelspec": {
   "name": "python3",
   "display_name": "Python 3.7.7 64-bit ('env_website')",
   "metadata": {
    "interpreter": {
     "hash": "c11bf2a122358a257f4887e4656fd266c9212bc31c6d2fa50cb5fb4a0c5b9dd8"
    }
   }
  }
 },
 "nbformat": 4,
 "nbformat_minor": 2,
 "cells": [
  {
   "cell_type": "code",
   "execution_count": 5,
   "metadata": {},
   "outputs": [
    {
     "output_type": "execute_result",
     "data": {
      "text/plain": [
       "category                                all                             \\\n",
       "variable                            pearson  spearman number_variables   \n",
       "dimension_1     dimension_2                                              \n",
       "Abdomen         Abdomen            1.000000  1.000000             29.0   \n",
       "                AbdomenLiver       0.983265  0.982759             29.0   \n",
       "                AbdomenPancreas    0.933456  0.953695             29.0   \n",
       "                Arterial           0.644851  0.685222             29.0   \n",
       "                ArterialCarotids   0.742109  0.764532             29.0   \n",
       "...                                     ...       ...              ...   \n",
       "set_instances23 PhysicalActivity   0.020009  0.081773             29.0   \n",
       "                set                0.022366  0.068966             29.0   \n",
       "                set_instances01    0.345231  0.355665             29.0   \n",
       "                set_instances1.5x  0.020006  0.081773             29.0   \n",
       "                set_instances23    1.000000  1.000000             29.0   \n",
       "\n",
       "category                              union                             \\\n",
       "variable                            pearson  spearman number_variables   \n",
       "dimension_1     dimension_2                                              \n",
       "Abdomen         Abdomen            1.000000  1.000000              7.0   \n",
       "                AbdomenLiver       0.998200  0.928571              8.0   \n",
       "                AbdomenPancreas    0.997305  0.964286              7.0   \n",
       "                Arterial           0.838076  0.738095              8.0   \n",
       "                ArterialCarotids   0.866123  0.738095              8.0   \n",
       "...                                     ...       ...              ...   \n",
       "set_instances23 PhysicalActivity   0.067483  0.168215             18.0   \n",
       "                set                0.101634  0.125000             15.0   \n",
       "                set_instances01    0.632796  0.200000              4.0   \n",
       "                set_instances1.5x  0.068265  0.168215             18.0   \n",
       "                set_instances23    1.000000  1.000000              3.0   \n",
       "\n",
       "category                          intersection                             \n",
       "variable                               pearson  spearman number_variables  \n",
       "dimension_1     dimension_2                                                \n",
       "Abdomen         Abdomen               1.000000  1.000000              7.0  \n",
       "                AbdomenLiver          0.997990  0.892857              7.0  \n",
       "                AbdomenPancreas       0.996394  0.942857              6.0  \n",
       "                Arterial             -0.103402 -0.600000              4.0  \n",
       "                ArterialCarotids      0.152766 -0.500000              3.0  \n",
       "...                                        ...       ...              ...  \n",
       "set_instances23 PhysicalActivity      0.076037 -0.500000              3.0  \n",
       "                set                   0.011150 -0.500000              3.0  \n",
       "                set_instances01            NaN       NaN              1.0  \n",
       "                set_instances1.5x     0.074571 -0.500000              3.0  \n",
       "                set_instances23       1.000000  1.000000              3.0  \n",
       "\n",
       "[1089 rows x 9 columns]"
      ],
      "text/html": "<div>\n<style scoped>\n    .dataframe tbody tr th:only-of-type {\n        vertical-align: middle;\n    }\n\n    .dataframe tbody tr th {\n        vertical-align: top;\n    }\n\n    .dataframe thead tr th {\n        text-align: left;\n    }\n\n    .dataframe thead tr:last-of-type th {\n        text-align: right;\n    }\n</style>\n<table border=\"1\" class=\"dataframe\">\n  <thead>\n    <tr>\n      <th></th>\n      <th>category</th>\n      <th colspan=\"3\" halign=\"left\">all</th>\n      <th colspan=\"3\" halign=\"left\">union</th>\n      <th colspan=\"3\" halign=\"left\">intersection</th>\n    </tr>\n    <tr>\n      <th></th>\n      <th>variable</th>\n      <th>pearson</th>\n      <th>spearman</th>\n      <th>number_variables</th>\n      <th>pearson</th>\n      <th>spearman</th>\n      <th>number_variables</th>\n      <th>pearson</th>\n      <th>spearman</th>\n      <th>number_variables</th>\n    </tr>\n    <tr>\n      <th>dimension_1</th>\n      <th>dimension_2</th>\n      <th></th>\n      <th></th>\n      <th></th>\n      <th></th>\n      <th></th>\n      <th></th>\n      <th></th>\n      <th></th>\n      <th></th>\n    </tr>\n  </thead>\n  <tbody>\n    <tr>\n      <th rowspan=\"5\" valign=\"top\">Abdomen</th>\n      <th>Abdomen</th>\n      <td>1.000000</td>\n      <td>1.000000</td>\n      <td>29.0</td>\n      <td>1.000000</td>\n      <td>1.000000</td>\n      <td>7.0</td>\n      <td>1.000000</td>\n      <td>1.000000</td>\n      <td>7.0</td>\n    </tr>\n    <tr>\n      <th>AbdomenLiver</th>\n      <td>0.983265</td>\n      <td>0.982759</td>\n      <td>29.0</td>\n      <td>0.998200</td>\n      <td>0.928571</td>\n      <td>8.0</td>\n      <td>0.997990</td>\n      <td>0.892857</td>\n      <td>7.0</td>\n    </tr>\n    <tr>\n      <th>AbdomenPancreas</th>\n      <td>0.933456</td>\n      <td>0.953695</td>\n      <td>29.0</td>\n      <td>0.997305</td>\n      <td>0.964286</td>\n      <td>7.0</td>\n      <td>0.996394</td>\n      <td>0.942857</td>\n      <td>6.0</td>\n    </tr>\n    <tr>\n      <th>Arterial</th>\n      <td>0.644851</td>\n      <td>0.685222</td>\n      <td>29.0</td>\n      <td>0.838076</td>\n      <td>0.738095</td>\n      <td>8.0</td>\n      <td>-0.103402</td>\n      <td>-0.600000</td>\n      <td>4.0</td>\n    </tr>\n    <tr>\n      <th>ArterialCarotids</th>\n      <td>0.742109</td>\n      <td>0.764532</td>\n      <td>29.0</td>\n      <td>0.866123</td>\n      <td>0.738095</td>\n      <td>8.0</td>\n      <td>0.152766</td>\n      <td>-0.500000</td>\n      <td>3.0</td>\n    </tr>\n    <tr>\n      <th>...</th>\n      <th>...</th>\n      <td>...</td>\n      <td>...</td>\n      <td>...</td>\n      <td>...</td>\n      <td>...</td>\n      <td>...</td>\n      <td>...</td>\n      <td>...</td>\n      <td>...</td>\n    </tr>\n    <tr>\n      <th rowspan=\"5\" valign=\"top\">set_instances23</th>\n      <th>PhysicalActivity</th>\n      <td>0.020009</td>\n      <td>0.081773</td>\n      <td>29.0</td>\n      <td>0.067483</td>\n      <td>0.168215</td>\n      <td>18.0</td>\n      <td>0.076037</td>\n      <td>-0.500000</td>\n      <td>3.0</td>\n    </tr>\n    <tr>\n      <th>set</th>\n      <td>0.022366</td>\n      <td>0.068966</td>\n      <td>29.0</td>\n      <td>0.101634</td>\n      <td>0.125000</td>\n      <td>15.0</td>\n      <td>0.011150</td>\n      <td>-0.500000</td>\n      <td>3.0</td>\n    </tr>\n    <tr>\n      <th>set_instances01</th>\n      <td>0.345231</td>\n      <td>0.355665</td>\n      <td>29.0</td>\n      <td>0.632796</td>\n      <td>0.200000</td>\n      <td>4.0</td>\n      <td>NaN</td>\n      <td>NaN</td>\n      <td>1.0</td>\n    </tr>\n    <tr>\n      <th>set_instances1.5x</th>\n      <td>0.020006</td>\n      <td>0.081773</td>\n      <td>29.0</td>\n      <td>0.068265</td>\n      <td>0.168215</td>\n      <td>18.0</td>\n      <td>0.074571</td>\n      <td>-0.500000</td>\n      <td>3.0</td>\n    </tr>\n    <tr>\n      <th>set_instances23</th>\n      <td>1.000000</td>\n      <td>1.000000</td>\n      <td>29.0</td>\n      <td>1.000000</td>\n      <td>1.000000</td>\n      <td>3.0</td>\n      <td>1.000000</td>\n      <td>1.000000</td>\n      <td>3.0</td>\n    </tr>\n  </tbody>\n</table>\n<p>1089 rows × 9 columns</p>\n</div>"
     },
     "metadata": {},
     "execution_count": 5
    }
   ],
   "source": [
    "import pandas as pd \n",
    "\n",
    "correlations = pd.read_feather(\"../../data/xwas/univariate_correlations/correlations.feather\").set_index([\"dimension_1\", \"dimension_2\", \"category\"])\n",
    "correlations.columns = pd.MultiIndex.from_tuples(\n",
    "    list(map(eval, correlations.columns.tolist())), names=[\"category\", \"variable\"]\n",
    ")\n",
    "main_category, category, subset_method, correlation_type = \"All\", \"Alcohol\", \"all\", \"pearson\"\n",
    "correlations.swaplevel().swaplevel(i=0, j=1).loc[\"Alcohol\"]"
   ]
  },
  {
   "cell_type": "code",
   "execution_count": 6,
   "metadata": {},
   "outputs": [],
   "source": [
    "matrix_correlations_2d = correlations[(subset_method, correlation_type)].swaplevel().swaplevel(i=0, j=1).loc[category]\n",
    "matrix_correlations_2d.name = \"correlation\"\n",
    "correlations_2d = pd.pivot_table(matrix_correlations_2d.to_frame(), values=\"correlation\", index=\"dimension_1\", columns=\"dimension_2\")"
   ]
  },
  {
   "cell_type": "code",
   "execution_count": 7,
   "metadata": {},
   "outputs": [
    {
     "output_type": "execute_result",
     "data": {
      "text/plain": [
       "            29.0      29.0   \n",
       "Arterial                      29.0          29.0             29.0      29.0   \n",
       "ArterialCarotids              29.0          29.0             29.0      29.0   \n",
       "ArterialPulseWaveAnalysis     29.0          29.0             29.0      29.0   \n",
       "Biochemistry                  29.0          29.0             29.0      29.0   \n",
       "BiochemistryBlood             29.0          29.0             29.0      29.0   \n",
       "BiochemistryUrine             29.0          29.0             29.0      29.0   \n",
       "Brain                         29.0          29.0             29.0      29.0   \n",
       "BrainCognitive                29.0          29.0             29.0      29.0   \n",
       "BrainMRI                      29.0          29.0             29.0      29.0   \n",
       "Eyes                          29.0          29.0             29.0      29.0   \n",
       "EyesAll                       29.0          29.0             29.0      29.0   \n",
       "EyesFundus                    29.0          29.0             29.0      29.0   \n",
       "EyesOCT                       29.0          29.0             29.0      29.0   \n",
       "Hearing                       29.0          29.0             29.0      29.0   \n",
       "Heart                         29.0          29.0             29.0      29.0   \n",
       "HeartECG                      29.0          29.0             29.0      29.0   \n",
       "HeartMRI                      29.0          29.0             29.0      29.0   \n",
       "ImmuneSystem                  29.0          29.0             29.0      29.0   \n",
       "Lungs                         29.0          29.0             29.0      29.0   \n",
       "Musculoskeletal               29.0          29.0             29.0      29.0   \n",
       "MusculoskeletalFullBody       29.0          29.0             29.0      29.0   \n",
       "MusculoskeletalHips           29.0          29.0             29.0      29.0   \n",
       "MusculoskeletalKnees          29.0          29.0             29.0      29.0   \n",
       "MusculoskeletalScalars        29.0          29.0             29.0      29.0   \n",
       "MusculoskeletalSpine          29.0          29.0             29.0      29.0   \n",
       "PhysicalActivity              29.0          29.0             29.0      29.0   \n",
       "set                           29.0          29.0             29.0      29.0   \n",
       "set_instances01               29.0          29.0             29.0      29.0   \n",
       "set_instances1.5x             29.0          29.0             29.0      29.0   \n",
       "set_instances23               29.0          29.0             29.0      29.0   \n",
       "\n",
       "dimension_2                ArterialCarotids  ArterialPulseWaveAnalysis  \\\n",
       "dimension_1                                                              \n",
       "Abdomen                                29.0                       29.0   \n",
       "AbdomenLiver                           29.0                       29.0   \n",
       "AbdomenPancreas                        29.0                       29.0   \n",
       "Arterial                               29.0                       29.0   \n",
       "ArterialCarotids                       29.0                       29.0   \n",
       "ArterialPulseWaveAnalysis              29.0                       29.0   \n",
       "Biochemistry                           29.0                       29.0   \n",
       "BiochemistryBlood                      29.0                       29.0   \n",
       "BiochemistryUrine                      29.0                       29.0   \n",
       "Brain                                  29.0                       29.0   \n",
       "BrainCognitive                         29.0                       29.0   \n",
       "BrainMRI                               29.0                       29.0   \n",
       "Eyes                                   29.0                       29.0   \n",
       "EyesAll                                29.0                       29.0   \n",
       "EyesFundus                             29.0                       29.0   \n",
       "EyesOCT                                29.0                       29.0   \n",
       "Hearing                                29.0                       29.0   \n",
       "Heart                                  29.0                       29.0   \n",
       "HeartECG                               29.0                       29.0   \n",
       "HeartMRI                               29.0                       29.0   \n",
       "ImmuneSystem                           29.0                       29.0   \n",
       "Lungs                                  29.0                       29.0   \n",
       "Musculoskeletal                        29.0                       29.0   \n",
       "MusculoskeletalFullBody                29.0                       29.0   \n",
       "MusculoskeletalHips                    29.0                       29.0   \n",
       "MusculoskeletalKnees                   29.0                       29.0   \n",
       "MusculoskeletalScalars                 29.0                       29.0   \n",
       "MusculoskeletalSpine                   29.0                       29.0   \n",
       "PhysicalActivity                       29.0                       29.0   \n",
       "set                                    29.0                       29.0   \n",
       "set_instances01                        29.0                       29.0   \n",
       "set_instances1.5x                      29.0                       29.0   \n",
       "set_instances23                        29.0                       29.0   \n",
       "\n",
       "dimension_2                Biochemistry  BiochemistryBlood  BiochemistryUrine  \\\n",
       "dimension_1                                                                     \n",
       "Abdomen                            29.0               29.0               29.0   \n",
       "AbdomenLiver                       29.0               29.0               29.0   \n",
       "AbdomenPancreas                    29.0               29.0               29.0   \n",
       "Arterial                           29.0               29.0               29.0   \n",
       "ArterialCarotids                   29.0               29.0               29.0   \n",
       "ArterialPulseWaveAnalysis          29.0               29.0               29.0   \n",
       "Biochemistry                       29.0               29.0               29.0   \n",
       "BiochemistryBlood                  29.0               29.0               29.0   \n",
       "BiochemistryUrine                  29.0               29.0               29.0   \n",
       "Brain                              29.0               29.0               29.0   \n",
       "BrainCognitive                     29.0               29.0               29.0   \n",
       "BrainMRI                           29.0               29.0               29.0   \n",
       "Eyes                               29.0               29.0               29.0   \n",
       "EyesAll                            29.0               29.0               29.0   \n",
       "EyesFundus                         29.0               29.0               29.0   \n",
       "EyesOCT                            29.0               29.0               29.0   \n",
       "Hearing                            29.0               29.0               29.0   \n",
       "Heart                              29.0               29.0               29.0   \n",
       "HeartECG                           29.0               29.0               29.0   \n",
       "HeartMRI                           29.0               29.0               29.0   \n",
       "ImmuneSystem                       29.0               29.0               29.0   \n",
       "Lungs                              29.0               29.0               29.0   \n",
       "Musculoskeletal                    29.0               29.0               29.0   \n",
       "MusculoskeletalFullBody            29.0               29.0               29.0   \n",
       "MusculoskeletalHips                29.0               29.0               29.0   \n",
       "MusculoskeletalKnees               29.0               29.0               29.0   \n",
       "MusculoskeletalScalars             29.0               29.0               29.0   \n",
       "MusculoskeletalSpine               29.0               29.0               29.0   \n",
       "PhysicalActivity                   29.0               29.0               29.0   \n",
       "set                                29.0               29.0               29.0   \n",
       "set_instances01                    29.0               29.0               29.0   \n",
       "set_instances1.5x                  29.0               29.0               29.0   \n",
       "set_instances23                    29.0               29.0               29.0   \n",
       "\n",
       "dimension_2                Brain  ...  MusculoskeletalFullBody  \\\n",
       "dimension_1                       ...                            \n",
       "Abdomen                     29.0  ...                     29.0   \n",
       "AbdomenLiver                29.0  ...                     29.0   \n",
       "AbdomenPancreas             29.0  ...                     29.0   \n",
       "Arterial                    29.0  ...                     29.0   \n",
       "ArterialCarotids            29.0  ...                     29.0   \n",
       "ArterialPulseWaveAnalysis   29.0  ...                     29.0   \n",
       "Biochemistry                29.0  ...                     29.0   \n",
       "BiochemistryBlood           29.0  ...                     29.0   \n",
       "BiochemistryUrine           29.0  ...                     29.0   \n",
       "Brain                       29.0  ...                     29.0   \n",
       "BrainCognitive              29.0  ...                     29.0   \n",
       "BrainMRI                    29.0  ...                     29.0   \n",
       "Eyes                        29.0  ...                     29.0   \n",
       "EyesAll                     29.0  ...                     29.0   \n",
       "EyesFundus                  29.0  ...                     29.0   \n",
       "EyesOCT                     29.0  ...                     29.0   \n",
       "Hearing                     29.0  ...                     29.0   \n",
       "Heart                       29.0  ...                     29.0   \n",
       "HeartECG                    29.0  ...                     29.0   \n",
       "HeartMRI                    29.0  ...                     29.0   \n",
       "ImmuneSystem                29.0  ...                     29.0   \n",
       "Lungs                       29.0  ...                     29.0   \n",
       "Musculoskeletal             29.0  ...                     29.0   \n",
       "MusculoskeletalFullBody     29.0  ...                     29.0   \n",
       "MusculoskeletalHips         29.0  ...                     29.0   \n",
       "MusculoskeletalKnees        29.0  ...                     29.0   \n",
       "MusculoskeletalScalars      29.0  ...                     29.0   \n",
       "MusculoskeletalSpine        29.0  ...                     29.0   \n",
       "PhysicalActivity            29.0  ...                     29.0   \n",
       "set                         29.0  ...                     29.0   \n",
       "set_instances01             29.0  ...                     29.0   \n",
       "set_instances1.5x           29.0  ...                     29.0   \n",
       "set_instances23             29.0  ...                     29.0   \n",
       "\n",
       "dimension_2                MusculoskeletalHips  MusculoskeletalKnees  \\\n",
       "dimension_1                                                            \n",
       "Abdomen                                   29.0                  29.0   \n",
       "AbdomenLiver                              29.0                  29.0   \n",
       "AbdomenPancreas                           29.0                  29.0   \n",
       "Arterial                                  29.0                  29.0   \n",
       "ArterialCarotids                          29.0                  29.0   \n",
       "ArterialPulseWaveAnalysis                 29.0                  29.0   \n",
       "Biochemistry                              29.0                  29.0   \n",
       "BiochemistryBlood                         29.0                  29.0   \n",
       "BiochemistryUrine                         29.0                  29.0   \n",
       "Brain                                     29.0                  29.0   \n",
       "BrainCognitive                            29.0                  29.0   \n",
       "BrainMRI                                  29.0                  29.0   \n",
       "Eyes                                      29.0                  29.0   \n",
       "EyesAll                                   29.0                  29.0   \n",
       "EyesFundus                                29.0                  29.0   \n",
       "EyesOCT                                   29.0                  29.0   \n",
       "Hearing                                   29.0                  29.0   \n",
       "Heart                                     29.0                  29.0   \n",
       "HeartECG                                  29.0                  29.0   \n",
       "HeartMRI                                  29.0                  29.0   \n",
       "ImmuneSystem                              29.0                  29.0   \n",
       "Lungs                                     29.0                  29.0   \n",
       "Musculoskeletal                           29.0                  29.0   \n",
       "MusculoskeletalFullBody                   29.0                  29.0   \n",
       "MusculoskeletalHips                       29.0                  29.0   \n",
       "MusculoskeletalKnees                      29.0                  29.0   \n",
       "MusculoskeletalScalars                    29.0                  29.0   \n",
       "MusculoskeletalSpine                      29.0                  29.0   \n",
       "PhysicalActivity                          29.0                  29.0   \n",
       "set                                       29.0                  29.0   \n",
       "set_instances01                           29.0                  29.0   \n",
       "set_instances1.5x                         29.0                  29.0   \n",
       "set_instances23                           29.0                  29.0   \n",
       "\n",
       "dimension_2                MusculoskeletalScalars  MusculoskeletalSpine  \\\n",
       "dimension_1                                                               \n",
       "Abdomen                                      29.0                  29.0   \n",
       "AbdomenLiver                                 29.0                  29.0   \n",
       "AbdomenPancreas                              29.0                  29.0   \n",
       "Arterial                                     29.0                  29.0   \n",
       "ArterialCarotids                             29.0                  29.0   \n",
       "ArterialPulseWaveAnalysis                    29.0                  29.0   \n",
       "Biochemistry                                 29.0                  29.0   \n",
       "BiochemistryBlood                            29.0                  29.0   \n",
       "BiochemistryUrine                            29.0                  29.0   \n",
       "Brain                                        29.0                  29.0   \n",
       "BrainCognitive                               29.0                  29.0   \n",
       "BrainMRI                                     29.0                  29.0   \n",
       "Eyes                                         29.0                  29.0   \n",
       "EyesAll                                      29.0                  29.0   \n",
       "EyesFundus                                   29.0                  29.0   \n",
       "EyesOCT                                      29.0                  29.0   \n",
       "Hearing                                      29.0                  29.0   \n",
       "Heart                                        29.0                  29.0   \n",
       "HeartECG                                     29.0                  29.0   \n",
       "HeartMRI                                     29.0                  29.0   \n",
       "ImmuneSystem                                 29.0                  29.0   \n",
       "Lungs                                        29.0                  29.0   \n",
       "Musculoskeletal                              29.0                  29.0   \n",
       "MusculoskeletalFullBody                      29.0                  29.0   \n",
       "MusculoskeletalHips                          29.0                  29.0   \n",
       "MusculoskeletalKnees                         29.0                  29.0   \n",
       "MusculoskeletalScalars                       29.0                  29.0   \n",
       "MusculoskeletalSpine                         29.0                  29.0   \n",
       "PhysicalActivity                             29.0                  29.0   \n",
       "set                                          29.0                  29.0   \n",
       "set_instances01                              29.0                  29.0   \n",
       "set_instances1.5x                            29.0                  29.0   \n",
       "set_instances23                              29.0                  29.0   \n",
       "\n",
       "dimension_2                PhysicalActivity   set  set_instances01  \\\n",
       "dimension_1                                                          \n",
       "Abdomen                                29.0  29.0             29.0   \n",
       "AbdomenLiver                           29.0  29.0             29.0   \n",
       "AbdomenPancreas                        29.0  29.0             29.0   \n",
       "Arterial                               29.0  29.0             29.0   \n",
       "ArterialCarotids                       29.0  29.0             29.0   \n",
       "ArterialPulseWaveAnalysis              29.0  29.0             29.0   \n",
       "Biochemistry                           29.0  29.0             29.0   \n",
       "BiochemistryBlood                      29.0  29.0             29.0   \n",
       "BiochemistryUrine                      29.0  29.0             29.0   \n",
       "Brain                                  29.0  29.0             29.0   \n",
       "BrainCognitive                         29.0  29.0             29.0   \n",
       "BrainMRI                               29.0  29.0             29.0   \n",
       "Eyes                                   29.0  29.0             29.0   \n",
       "EyesAll                                29.0  29.0             29.0   \n",
       "EyesFundus                             29.0  29.0             29.0   \n",
       "EyesOCT                                29.0  29.0             29.0   \n",
       "Hearing                                29.0  29.0             29.0   \n",
       "Heart                                  29.0  29.0             29.0   \n",
       "HeartECG                               29.0  29.0             29.0   \n",
       "HeartMRI                               29.0  29.0             29.0   \n",
       "ImmuneSystem                           29.0  29.0             29.0   \n",
       "Lungs                                  29.0  29.0             29.0   \n",
       "Musculoskeletal                        29.0  29.0             29.0   \n",
       "MusculoskeletalFullBody                29.0  29.0             29.0   \n",
       "MusculoskeletalHips                    29.0  29.0             29.0   \n",
       "MusculoskeletalKnees                   29.0  29.0             29.0   \n",
       "MusculoskeletalScalars                 29.0  29.0             29.0   \n",
       "MusculoskeletalSpine                   29.0  29.0             29.0   \n",
       "PhysicalActivity                       29.0  29.0             29.0   \n",
       "set                                    29.0  29.0             29.0   \n",
       "set_instances01                        29.0  29.0             29.0   \n",
       "set_instances1.5x                      29.0  29.0             29.0   \n",
       "set_instances23                        29.0  29.0             29.0   \n",
       "\n",
       "dimension_2                set_instances1.5x  set_instances23  \n",
       "dimension_1                                                    \n",
       "Abdomen                                 29.0             29.0  \n",
       "AbdomenLiver                            29.0             29.0  \n",
       "AbdomenPancreas                         29.0             29.0  \n",
       "Arterial                                29.0             29.0  \n",
       "ArterialCarotids                        29.0             29.0  \n",
       "ArterialPulseWaveAnalysis               29.0             29.0  \n",
       "Biochemistry                            29.0             29.0  \n",
       "BiochemistryBlood                       29.0             29.0  \n",
       "BiochemistryUrine                       29.0             29.0  \n",
       "Brain                                   29.0             29.0  \n",
       "BrainCognitive                          29.0             29.0  \n",
       "BrainMRI                                29.0             29.0  \n",
       "Eyes                                    29.0             29.0  \n",
       "EyesAll                                 29.0             29.0  \n",
       "EyesFundus                              29.0             29.0  \n",
       "EyesOCT                                 29.0             29.0  \n",
       "Hearing                                 29.0             29.0  \n",
       "Heart                                   29.0             29.0  \n",
       "HeartECG                                29.0             29.0  \n",
       "HeartMRI                                29.0             29.0  \n",
       "ImmuneSystem                            29.0             29.0  \n",
       "Lungs                                   29.0             29.0  \n",
       "Musculoskeletal                         29.0             29.0  \n",
       "MusculoskeletalFullBody                 29.0             29.0  \n",
       "MusculoskeletalHips                     29.0             29.0  \n",
       "MusculoskeletalKnees                    29.0             29.0  \n",
       "MusculoskeletalScalars                  29.0             29.0  \n",
       "MusculoskeletalSpine                    29.0             29.0  \n",
       "PhysicalActivity                        29.0             29.0  \n",
       "set                                     29.0             29.0  \n",
       "set_instances01                         29.0             29.0  \n",
       "set_instances1.5x                       29.0             29.0  \n",
       "set_instances23                         29.0             29.0  \n",
       "\n",
       "[33 rows x 33 columns]"
      ],
      "text/html": "<div>\n<style scoped>\n    .dataframe tbody tr th:only-of-type {\n        vertical-align: middle;\n    }\n\n    .dataframe tbody tr th {\n        vertical-align: top;\n    }\n\n    .dataframe thead th {\n        text-align: right;\n    }\n</style>\n<table border=\"1\" class=\"dataframe\">\n  <thead>\n    <tr style=\"text-align: right;\">\n      <th>dimension_2</th>\n      <th>Abdomen</th>\n      <th>AbdomenLiver</th>\n      <th>AbdomenPancreas</th>\n      <th>Arterial</th>\n      <th>ArterialCarotids</th>\n      <th>ArterialPulseWaveAnalysis</th>\n      <th>Biochemistry</th>\n      <th>BiochemistryBlood</th>\n      <th>BiochemistryUrine</th>\n      <th>Brain</th>\n      <th>...</th>\n      <th>MusculoskeletalFullBody</th>\n      <th>MusculoskeletalHips</th>\n      <th>MusculoskeletalKnees</th>\n      <th>MusculoskeletalScalars</th>\n      <th>MusculoskeletalSpine</th>\n      <th>PhysicalActivity</th>\n      <th>set</th>\n      <th>set_instances01</th>\n      <th>set_instances1.5x</th>\n      <th>set_instances23</th>\n    </tr>\n    <tr>\n      <th>dimension_1</th>\n      <th></th>\n      <th></th>\n      <th></th>\n      <th></th>\n      <th></th>\n      <th></th>\n      <th></th>\n      <th></th>\n      <th></th>\n      <th></th>\n      <th></th>\n      <th></th>\n      <th></th>\n      <th></th>\n      <th></th>\n      <th></th>\n      <th></th>\n      <th></th>\n      <th></th>\n      <th></th>\n      <th></th>\n    </tr>\n  </thead>\n  <tbody>\n    <tr>\n      <th>Abdomen</th>\n      <td>29.0</td>\n      <td>29.0</td>\n      <td>29.0</td>\n      <td>29.0</td>\n      <td>29.0</td>\n      <td>29.0</td>\n      <td>29.0</td>\n      <td>29.0</td>\n      <td>29.0</td>\n      <td>29.0</td>\n      <td>...</td>\n      <td>29.0</td>\n      <td>29.0</td>\n      <td>29.0</td>\n      <td>29.0</td>\n      <td>29.0</td>\n      <td>29.0</td>\n      <td>29.0</td>\n      <td>29.0</td>\n      <td>29.0</td>\n      <td>29.0</td>\n    </tr>\n    <tr>\n      <th>AbdomenLiver</th>\n      <td>29.0</td>\n      <td>29.0</td>\n      <td>29.0</td>\n      <td>29.0</td>\n      <td>29.0</td>\n      <td>29.0</td>\n      <td>29.0</td>\n      <td>29.0</td>\n      <td>29.0</td>\n      <td>29.0</td>\n      <td>...</td>\n      <td>29.0</td>\n      <td>29.0</td>\n      <td>29.0</td>\n      <td>29.0</td>\n      <td>29.0</td>\n      <td>29.0</td>\n      <td>29.0</td>\n      <td>29.0</td>\n      <td>29.0</td>\n      <td>29.0</td>\n    </tr>\n    <tr>\n      <th>AbdomenPancreas</th>\n      <td>29.0</td>\n      <td>29.0</td>\n      <td>29.0</td>\n      <td>29.0</td>\n      <td>29.0</td>\n      <td>29.0</td>\n      <td>29.0</td>\n      <td>29.0</td>\n      <td>29.0</td>\n      <td>29.0</td>\n      <td>...</td>\n      <td>29.0</td>\n      <td>29.0</td>\n      <td>29.0</td>\n      <td>29.0</td>\n      <td>29.0</td>\n      <td>29.0</td>\n      <td>29.0</td>\n      <td>29.0</td>\n      <td>29.0</td>\n      <td>29.0</td>\n    </tr>\n    <tr>\n      <th>Arterial</th>\n      <td>29.0</td>\n      <td>29.0</td>\n      <td>29.0</td>\n      <td>29.0</td>\n      <td>29.0</td>\n      <td>29.0</td>\n      <td>29.0</td>\n      <td>29.0</td>\n      <td>29.0</td>\n      <td>29.0</td>\n      <td>...</td>\n      <td>29.0</td>\n      <td>29.0</td>\n      <td>29.0</td>\n      <td>29.0</td>\n      <td>29.0</td>\n      <td>29.0</td>\n      <td>29.0</td>\n      <td>29.0</td>\n      <td>29.0</td>\n      <td>29.0</td>\n    </tr>\n    <tr>\n      <th>ArterialCarotids</th>\n      <td>29.0</td>\n      <td>29.0</td>\n      <td>29.0</td>\n      <td>29.0</td>\n      <td>29.0</td>\n      <td>29.0</td>\n      <td>29.0</td>\n      <td>29.0</td>\n      <td>29.0</td>\n      <td>29.0</td>\n      <td>...</td>\n      <td>29.0</td>\n      <td>29.0</td>\n      <td>29.0</td>\n      <td>29.0</td>\n      <td>29.0</td>\n      <td>29.0</td>\n      <td>29.0</td>\n      <td>29.0</td>\n      <td>29.0</td>\n      <td>29.0</td>\n    </tr>\n    <tr>\n      <th>ArterialPulseWaveAnalysis</th>\n      <td>29.0</td>\n      <td>29.0</td>\n      <td>29.0</td>\n      <td>29.0</td>\n      <td>29.0</td>\n      <td>29.0</td>\n      <td>29.0</td>\n      <td>29.0</td>\n      <td>29.0</td>\n      <td>29.0</td>\n      <td>...</td>\n      <td>29.0</td>\n      <td>29.0</td>\n      <td>29.0</td>\n      <td>29.0</td>\n      <td>29.0</td>\n      <td>29.0</td>\n      <td>29.0</td>\n      <td>29.0</td>\n      <td>29.0</td>\n      <td>29.0</td>\n    </tr>\n    <tr>\n      <th>Biochemistry</th>\n      <td>29.0</td>\n      <td>29.0</td>\n      <td>29.0</td>\n      <td>29.0</td>\n      <td>29.0</td>\n      <td>29.0</td>\n      <td>29.0</td>\n      <td>29.0</td>\n      <td>29.0</td>\n      <td>29.0</td>\n      <td>...</td>\n      <td>29.0</td>\n      <td>29.0</td>\n      <td>29.0</td>\n      <td>29.0</td>\n      <td>29.0</td>\n      <td>29.0</td>\n      <td>29.0</td>\n      <td>29.0</td>\n      <td>29.0</td>\n      <td>29.0</td>\n    </tr>\n    <tr>\n      <th>BiochemistryBlood</th>\n      <td>29.0</td>\n      <td>29.0</td>\n      <td>29.0</td>\n      <td>29.0</td>\n      <td>29.0</td>\n      <td>29.0</td>\n      <td>29.0</td>\n      <td>29.0</td>\n      <td>29.0</td>\n      <td>29.0</td>\n      <td>...</td>\n      <td>29.0</td>\n      <td>29.0</td>\n      <td>29.0</td>\n      <td>29.0</td>\n      <td>29.0</td>\n      <td>29.0</td>\n      <td>29.0</td>\n      <td>29.0</td>\n      <td>29.0</td>\n      <td>29.0</td>\n    </tr>\n    <tr>\n      <th>BiochemistryUrine</th>\n      <td>29.0</td>\n      <td>29.0</td>\n      <td>29.0</td>\n      <td>29.0</td>\n      <td>29.0</td>\n      <td>29.0</td>\n      <td>29.0</td>\n      <td>29.0</td>\n      <td>29.0</td>\n      <td>29.0</td>\n      <td>...</td>\n      <td>29.0</td>\n      <td>29.0</td>\n      <td>29.0</td>\n      <td>29.0</td>\n      <td>29.0</td>\n      <td>29.0</td>\n      <td>29.0</td>\n      <td>29.0</td>\n      <td>29.0</td>\n      <td>29.0</td>\n    </tr>\n    <tr>\n      <th>Brain</th>\n      <td>29.0</td>\n      <td>29.0</td>\n      <td>29.0</td>\n      <td>29.0</td>\n      <td>29.0</td>\n      <td>29.0</td>\n      <td>29.0</td>\n      <td>29.0</td>\n      <td>29.0</td>\n      <td>29.0</td>\n      <td>...</td>\n      <td>29.0</td>\n      <td>29.0</td>\n      <td>29.0</td>\n      <td>29.0</td>\n      <td>29.0</td>\n      <td>29.0</td>\n      <td>29.0</td>\n      <td>29.0</td>\n      <td>29.0</td>\n      <td>29.0</td>\n    </tr>\n    <tr>\n      <th>BrainCognitive</th>\n      <td>29.0</td>\n      <td>29.0</td>\n      <td>29.0</td>\n      <td>29.0</td>\n      <td>29.0</td>\n      <td>29.0</td>\n      <td>29.0</td>\n      <td>29.0</td>\n      <td>29.0</td>\n      <td>29.0</td>\n      <td>...</td>\n      <td>29.0</td>\n      <td>29.0</td>\n      <td>29.0</td>\n      <td>29.0</td>\n      <td>29.0</td>\n      <td>29.0</td>\n      <td>29.0</td>\n      <td>29.0</td>\n      <td>29.0</td>\n      <td>29.0</td>\n    </tr>\n    <tr>\n      <th>BrainMRI</th>\n      <td>29.0</td>\n      <td>29.0</td>\n      <td>29.0</td>\n      <td>29.0</td>\n      <td>29.0</td>\n      <td>29.0</td>\n      <td>29.0</td>\n      <td>29.0</td>\n      <td>29.0</td>\n      <td>29.0</td>\n      <td>...</td>\n      <td>29.0</td>\n      <td>29.0</td>\n      <td>29.0</td>\n      <td>29.0</td>\n      <td>29.0</td>\n      <td>29.0</td>\n      <td>29.0</td>\n      <td>29.0</td>\n      <td>29.0</td>\n      <td>29.0</td>\n    </tr>\n    <tr>\n      <th>Eyes</th>\n      <td>29.0</td>\n      <td>29.0</td>\n      <td>29.0</td>\n      <td>29.0</td>\n      <td>29.0</td>\n      <td>29.0</td>\n      <td>29.0</td>\n      <td>29.0</td>\n      <td>29.0</td>\n      <td>29.0</td>\n      <td>...</td>\n      <td>29.0</td>\n      <td>29.0</td>\n      <td>29.0</td>\n      <td>29.0</td>\n      <td>29.0</td>\n      <td>29.0</td>\n      <td>29.0</td>\n      <td>29.0</td>\n      <td>29.0</td>\n      <td>29.0</td>\n    </tr>\n    <tr>\n      <th>EyesAll</th>\n      <td>29.0</td>\n      <td>29.0</td>\n      <td>29.0</td>\n      <td>29.0</td>\n      <td>29.0</td>\n      <td>29.0</td>\n      <td>29.0</td>\n      <td>29.0</td>\n      <td>29.0</td>\n      <td>29.0</td>\n      <td>...</td>\n      <td>29.0</td>\n      <td>29.0</td>\n      <td>29.0</td>\n      <td>29.0</td>\n      <td>29.0</td>\n      <td>29.0</td>\n      <td>29.0</td>\n      <td>29.0</td>\n      <td>29.0</td>\n      <td>29.0</td>\n    </tr>\n    <tr>\n      <th>EyesFundus</th>\n      <td>29.0</td>\n      <td>29.0</td>\n      <td>29.0</td>\n      <td>29.0</td>\n      <td>29.0</td>\n      <td>29.0</td>\n      <td>29.0</td>\n      <td>29.0</td>\n      <td>29.0</td>\n      <td>29.0</td>\n      <td>...</td>\n      <td>29.0</td>\n      <td>29.0</td>\n      <td>29.0</td>\n      <td>29.0</td>\n      <td>29.0</td>\n      <td>29.0</td>\n      <td>29.0</td>\n      <td>29.0</td>\n      <td>29.0</td>\n      <td>29.0</td>\n    </tr>\n    <tr>\n      <th>EyesOCT</th>\n      <td>29.0</td>\n      <td>29.0</td>\n      <td>29.0</td>\n      <td>29.0</td>\n      <td>29.0</td>\n      <td>29.0</td>\n      <td>29.0</td>\n      <td>29.0</td>\n      <td>29.0</td>\n      <td>29.0</td>\n      <td>...</td>\n      <td>29.0</td>\n      <td>29.0</td>\n      <td>29.0</td>\n      <td>29.0</td>\n      <td>29.0</td>\n      <td>29.0</td>\n      <td>29.0</td>\n      <td>29.0</td>\n      <td>29.0</td>\n      <td>29.0</td>\n    </tr>\n    <tr>\n      <th>Hearing</th>\n      <td>29.0</td>\n      <td>29.0</td>\n      <td>29.0</td>\n      <td>29.0</td>\n      <td>29.0</td>\n      <td>29.0</td>\n      <td>29.0</td>\n      <td>29.0</td>\n      <td>29.0</td>\n      <td>29.0</td>\n      <td>...</td>\n      <td>29.0</td>\n      <td>29.0</td>\n      <td>29.0</td>\n      <td>29.0</td>\n      <td>29.0</td>\n      <td>29.0</td>\n      <td>29.0</td>\n      <td>29.0</td>\n      <td>29.0</td>\n      <td>29.0</td>\n    </tr>\n    <tr>\n      <th>Heart</th>\n      <td>29.0</td>\n      <td>29.0</td>\n      <td>29.0</td>\n      <td>29.0</td>\n      <td>29.0</td>\n      <td>29.0</td>\n      <td>29.0</td>\n      <td>29.0</td>\n      <td>29.0</td>\n      <td>29.0</td>\n      <td>...</td>\n      <td>29.0</td>\n      <td>29.0</td>\n      <td>29.0</td>\n      <td>29.0</td>\n      <td>29.0</td>\n      <td>29.0</td>\n      <td>29.0</td>\n      <td>29.0</td>\n      <td>29.0</td>\n      <td>29.0</td>\n    </tr>\n    <tr>\n      <th>HeartECG</th>\n      <td>29.0</td>\n      <td>29.0</td>\n      <td>29.0</td>\n      <td>29.0</td>\n      <td>29.0</td>\n      <td>29.0</td>\n      <td>29.0</td>\n      <td>29.0</td>\n      <td>29.0</td>\n      <td>29.0</td>\n      <td>...</td>\n      <td>29.0</td>\n      <td>29.0</td>\n      <td>29.0</td>\n      <td>29.0</td>\n      <td>29.0</td>\n      <td>29.0</td>\n      <td>29.0</td>\n      <td>29.0</td>\n      <td>29.0</td>\n      <td>29.0</td>\n    </tr>\n    <tr>\n      <th>HeartMRI</th>\n      <td>29.0</td>\n      <td>29.0</td>\n      <td>29.0</td>\n      <td>29.0</td>\n      <td>29.0</td>\n      <td>29.0</td>\n      <td>29.0</td>\n      <td>29.0</td>\n      <td>29.0</td>\n      <td>29.0</td>\n      <td>...</td>\n      <td>29.0</td>\n      <td>29.0</td>\n      <td>29.0</td>\n      <td>29.0</td>\n      <td>29.0</td>\n      <td>29.0</td>\n      <td>29.0</td>\n      <td>29.0</td>\n      <td>29.0</td>\n      <td>29.0</td>\n    </tr>\n    <tr>\n      <th>ImmuneSystem</th>\n      <td>29.0</td>\n      <td>29.0</td>\n      <td>29.0</td>\n      <td>29.0</td>\n      <td>29.0</td>\n      <td>29.0</td>\n      <td>29.0</td>\n      <td>29.0</td>\n      <td>29.0</td>\n      <td>29.0</td>\n      <td>...</td>\n      <td>29.0</td>\n      <td>29.0</td>\n      <td>29.0</td>\n      <td>29.0</td>\n      <td>29.0</td>\n      <td>29.0</td>\n      <td>29.0</td>\n      <td>29.0</td>\n      <td>29.0</td>\n      <td>29.0</td>\n    </tr>\n    <tr>\n      <th>Lungs</th>\n      <td>29.0</td>\n      <td>29.0</td>\n      <td>29.0</td>\n      <td>29.0</td>\n      <td>29.0</td>\n      <td>29.0</td>\n      <td>29.0</td>\n      <td>29.0</td>\n      <td>29.0</td>\n      <td>29.0</td>\n      <td>...</td>\n      <td>29.0</td>\n      <td>29.0</td>\n      <td>29.0</td>\n      <td>29.0</td>\n      <td>29.0</td>\n      <td>29.0</td>\n      <td>29.0</td>\n      <td>29.0</td>\n      <td>29.0</td>\n      <td>29.0</td>\n    </tr>\n    <tr>\n      <th>Musculoskeletal</th>\n      <td>29.0</td>\n      <td>29.0</td>\n      <td>29.0</td>\n      <td>29.0</td>\n      <td>29.0</td>\n      <td>29.0</td>\n      <td>29.0</td>\n      <td>29.0</td>\n      <td>29.0</td>\n      <td>29.0</td>\n      <td>...</td>\n      <td>29.0</td>\n      <td>29.0</td>\n      <td>29.0</td>\n      <td>29.0</td>\n      <td>29.0</td>\n      <td>29.0</td>\n      <td>29.0</td>\n      <td>29.0</td>\n      <td>29.0</td>\n      <td>29.0</td>\n    </tr>\n    <tr>\n      <th>MusculoskeletalFullBody</th>\n      <td>29.0</td>\n      <td>29.0</td>\n      <td>29.0</td>\n      <td>29.0</td>\n      <td>29.0</td>\n      <td>29.0</td>\n      <td>29.0</td>\n      <td>29.0</td>\n      <td>29.0</td>\n      <td>29.0</td>\n      <td>...</td>\n      <td>29.0</td>\n      <td>29.0</td>\n      <td>29.0</td>\n      <td>29.0</td>\n      <td>29.0</td>\n      <td>29.0</td>\n      <td>29.0</td>\n      <td>29.0</td>\n      <td>29.0</td>\n      <td>29.0</td>\n    </tr>\n    <tr>\n      <th>MusculoskeletalHips</th>\n      <td>29.0</td>\n      <td>29.0</td>\n      <td>29.0</td>\n      <td>29.0</td>\n      <td>29.0</td>\n      <td>29.0</td>\n      <td>29.0</td>\n      <td>29.0</td>\n      <td>29.0</td>\n      <td>29.0</td>\n      <td>...</td>\n      <td>29.0</td>\n      <td>29.0</td>\n      <td>29.0</td>\n      <td>29.0</td>\n      <td>29.0</td>\n      <td>29.0</td>\n      <td>29.0</td>\n      <td>29.0</td>\n      <td>29.0</td>\n      <td>29.0</td>\n    </tr>\n    <tr>\n      <th>MusculoskeletalKnees</th>\n      <td>29.0</td>\n      <td>29.0</td>\n      <td>29.0</td>\n      <td>29.0</td>\n      <td>29.0</td>\n      <td>29.0</td>\n      <td>29.0</td>\n      <td>29.0</td>\n      <td>29.0</td>\n      <td>29.0</td>\n      <td>...</td>\n      <td>29.0</td>\n      <td>29.0</td>\n      <td>29.0</td>\n      <td>29.0</td>\n      <td>29.0</td>\n      <td>29.0</td>\n      <td>29.0</td>\n      <td>29.0</td>\n      <td>29.0</td>\n      <td>29.0</td>\n    </tr>\n    <tr>\n      <th>MusculoskeletalScalars</th>\n      <td>29.0</td>\n      <td>29.0</td>\n      <td>29.0</td>\n      <td>29.0</td>\n      <td>29.0</td>\n      <td>29.0</td>\n      <td>29.0</td>\n      <td>29.0</td>\n      <td>29.0</td>\n      <td>29.0</td>\n      <td>...</td>\n      <td>29.0</td>\n      <td>29.0</td>\n      <td>29.0</td>\n      <td>29.0</td>\n      <td>29.0</td>\n      <td>29.0</td>\n      <td>29.0</td>\n      <td>29.0</td>\n      <td>29.0</td>\n      <td>29.0</td>\n    </tr>\n    <tr>\n      <th>MusculoskeletalSpine</th>\n      <td>29.0</td>\n      <td>29.0</td>\n      <td>29.0</td>\n      <td>29.0</td>\n      <td>29.0</td>\n      <td>29.0</td>\n      <td>29.0</td>\n      <td>29.0</td>\n      <td>29.0</td>\n      <td>29.0</td>\n      <td>...</td>\n      <td>29.0</td>\n      <td>29.0</td>\n      <td>29.0</td>\n      <td>29.0</td>\n      <td>29.0</td>\n      <td>29.0</td>\n      <td>29.0</td>\n      <td>29.0</td>\n      <td>29.0</td>\n      <td>29.0</td>\n    </tr>\n    <tr>\n      <th>PhysicalActivity</th>\n      <td>29.0</td>\n      <td>29.0</td>\n      <td>29.0</td>\n      <td>29.0</td>\n      <td>29.0</td>\n      <td>29.0</td>\n      <td>29.0</td>\n      <td>29.0</td>\n      <td>29.0</td>\n      <td>29.0</td>\n      <td>...</td>\n      <td>29.0</td>\n      <td>29.0</td>\n      <td>29.0</td>\n      <td>29.0</td>\n      <td>29.0</td>\n      <td>29.0</td>\n      <td>29.0</td>\n      <td>29.0</td>\n      <td>29.0</td>\n      <td>29.0</td>\n    </tr>\n    <tr>\n      <th>set</th>\n      <td>29.0</td>\n      <td>29.0</td>\n      <td>29.0</td>\n      <td>29.0</td>\n      <td>29.0</td>\n      <td>29.0</td>\n      <td>29.0</td>\n      <td>29.0</td>\n      <td>29.0</td>\n      <td>29.0</td>\n      <td>...</td>\n      <td>29.0</td>\n      <td>29.0</td>\n      <td>29.0</td>\n      <td>29.0</td>\n      <td>29.0</td>\n      <td>29.0</td>\n      <td>29.0</td>\n      <td>29.0</td>\n      <td>29.0</td>\n      <td>29.0</td>\n    </tr>\n    <tr>\n      <th>set_instances01</th>\n      <td>29.0</td>\n      <td>29.0</td>\n      <td>29.0</td>\n      <td>29.0</td>\n      <td>29.0</td>\n      <td>29.0</td>\n      <td>29.0</td>\n      <td>29.0</td>\n      <td>29.0</td>\n      <td>29.0</td>\n      <td>...</td>\n      <td>29.0</td>\n      <td>29.0</td>\n      <td>29.0</td>\n      <td>29.0</td>\n      <td>29.0</td>\n      <td>29.0</td>\n      <td>29.0</td>\n      <td>29.0</td>\n      <td>29.0</td>\n      <td>29.0</td>\n    </tr>\n    <tr>\n      <th>set_instances1.5x</th>\n      <td>29.0</td>\n      <td>29.0</td>\n      <td>29.0</td>\n      <td>29.0</td>\n      <td>29.0</td>\n      <td>29.0</td>\n      <td>29.0</td>\n      <td>29.0</td>\n      <td>29.0</td>\n      <td>29.0</td>\n      <td>...</td>\n      <td>29.0</td>\n      <td>29.0</td>\n      <td>29.0</td>\n      <td>29.0</td>\n      <td>29.0</td>\n      <td>29.0</td>\n      <td>29.0</td>\n      <td>29.0</td>\n      <td>29.0</td>\n      <td>29.0</td>\n    </tr>\n    <tr>\n      <th>set_instances23</th>\n      <td>29.0</td>\n      <td>29.0</td>\n      <td>29.0</td>\n      <td>29.0</td>\n      <td>29.0</td>\n      <td>29.0</td>\n      <td>29.0</td>\n      <td>29.0</td>\n      <td>29.0</td>\n      <td>29.0</td>\n      <td>...</td>\n      <td>29.0</td>\n      <td>29.0</td>\n      <td>29.0</td>\n      <td>29.0</td>\n      <td>29.0</td>\n      <td>29.0</td>\n      <td>29.0</td>\n      <td>29.0</td>\n      <td>29.0</td>\n      <td>29.0</td>\n    </tr>\n  </tbody>\n</table>\n<p>33 rows × 33 columns</p>\n</div>"
     },
     "metadata": {},
     "execution_count": 7
    }
   ],
   "source": [
    "matrix_number_variables_2d = correlations[(subset_method, \"number_variables\")].swaplevel().swaplevel(i=0, j=1).loc[category]\n",
    "matrix_number_variables_2d.name = \"number_variables\"\n",
    "number_variables_2d = pd.pivot_table(matrix_number_variables_2d.to_frame(), values=\"number_variables\", index=\"dimension_1\", columns=\"dimension_2\")\n",
    "number_variables_2d"
   ]
  },
  {
   "cell_type": "code",
   "execution_count": 9,
   "metadata": {},
   "outputs": [
    {
     "output_type": "stream",
     "name": "stderr",
     "text": [
      "c:\\Dossier\\HMS\\Dash-Website\\env_website\\lib\\site-packages\\plotly\\figure_factory\\_dendrogram.py:23: ClusterWarning:\n\nscipy.cluster: The symmetric non-negative hollow observation matrix looks suspiciously like an uncondensed distance matrix\n\n"
     ]
    },
    {
     "output_type": "display_data",
     "data": {
      "application/vnd.plotly.v1+json": {
       "config": {
        "plotlyServerURL": "https://plot.ly"
       },
       "data": [
        {
         "hoverinfo": "text",
         "marker": {
          "color": "rgb(61,153,112)"
         },
         "mode": "lines",
         "type": "scatter",
         "x": [
          25,
          25,
          35,
          35
         ],
         "xaxis": "x",
         "y": [
          0,
          0.006281089170063318,
          0.006281089170063318,
          0
         ],
         "yaxis": "y2"
        },
        {
         "hoverinfo": "text",
         "marker": {
          "color": "rgb(61,153,112)"
         },
         "mode": "lines",
         "type": "scatter",
         "x": [
          15,
          15,
          30,
          30
         ],
         "xaxis": "x",
         "y": [
          0,
          0.06704732422766076,
          0.06704732422766076,
          0.006281089170063318
         ],
         "yaxis": "y2"
        },
        {
         "hoverinfo": "text",
         "marker": {
          "color": "rgb(61,153,112)"
         },
         "mode": "lines",
         "type": "scatter",
         "x": [
          45,
          45,
          55,
          55
         ],
         "xaxis": "x",
         "y": [
          0,
          0.8145923256213303,
          0.8145923256213303,
          0
         ],
         "yaxis": "y2"
        },
        {
         "hoverinfo": "text",
         "marker": {
          "color": "rgb(61,153,112)"
         },
         "mode": "lines",
         "type": "scatter",
         "x": [
          22.5,
          22.5,
          50,
          50
         ],
         "xaxis": "x",
         "y": [
          0.06704732422766076,
          1.150147137438552,
          1.150147137438552,
          0.8145923256213303
         ],
         "yaxis": "y2"
        },
        {
         "hoverinfo": "text",
         "marker": {
          "color": "rgb(61,153,112)"
         },
         "mode": "lines",
         "type": "scatter",
         "x": [
          65,
          65,
          75,
          75
         ],
         "xaxis": "x",
         "y": [
          0,
          0.4177501941456178,
          0.4177501941456178,
          0
         ],
         "yaxis": "y2"
        },
        {
         "hoverinfo": "text",
         "marker": {
          "color": "rgb(61,153,112)"
         },
         "mode": "lines",
         "type": "scatter",
         "x": [
          85,
          85,
          95,
          95
         ],
         "xaxis": "x",
         "y": [
          0,
          0.5115866996170548,
          0.5115866996170548,
          0
         ],
         "yaxis": "y2"
        },
        {
         "hoverinfo": "text",
         "marker": {
          "color": "rgb(61,153,112)"
         },
         "mode": "lines",
         "type": "scatter",
         "x": [
          70,
          70,
          90,
          90
         ],
         "xaxis": "x",
         "y": [
          0.4177501941456178,
          0.6657614145133794,
          0.6657614145133794,
          0.5115866996170548
         ],
         "yaxis": "y2"
        },
        {
         "hoverinfo": "text",
         "marker": {
          "color": "rgb(61,153,112)"
         },
         "mode": "lines",
         "type": "scatter",
         "x": [
          105,
          105,
          115,
          115
         ],
         "xaxis": "x",
         "y": [
          0,
          0.7454455121372833,
          0.7454455121372833,
          0
         ],
         "yaxis": "y2"
        },
        {
         "hoverinfo": "text",
         "marker": {
          "color": "rgb(61,153,112)"
         },
         "mode": "lines",
         "type": "scatter",
         "x": [
          80,
          80,
          110,
          110
         ],
         "xaxis": "x",
         "y": [
          0.6657614145133794,
          1.3458244952830944,
          1.3458244952830944,
          0.7454455121372833
         ],
         "yaxis": "y2"
        },
        {
         "hoverinfo": "text",
         "marker": {
          "color": "rgb(61,153,112)"
         },
         "mode": "lines",
         "type": "scatter",
         "x": [
          36.25,
          36.25,
          95,
          95
         ],
         "xaxis": "x",
         "y": [
          1.150147137438552,
          1.445126851367462,
          1.445126851367462,
          1.3458244952830944
         ],
         "yaxis": "y2"
        },
        {
         "hoverinfo": "text",
         "marker": {
          "color": "rgb(255,65,54)"
         },
         "mode": "lines",
         "type": "scatter",
         "x": [
          135,
          135,
          145,
          145
         ],
         "xaxis": "x",
         "y": [
          0,
          0.7873807857890547,
          0.7873807857890547,
          0
         ],
         "yaxis": "y2"
        },
        {
         "hoverinfo": "text",
         "marker": {
          "color": "rgb(255,65,54)"
         },
         "mode": "lines",
         "type": "scatter",
         "x": [
          125,
          125,
          140,
          140
         ],
         "xaxis": "x",
         "y": [
          0,
          1.1948059218359943,
          1.1948059218359943,
          0.7873807857890547
         ],
         "yaxis": "y2"
        },
        {
         "hoverinfo": "text",
         "marker": {
          "color": "rgb(255,65,54)"
         },
         "mode": "lines",
         "type": "scatter",
         "x": [
          155,
          155,
          165,
          165
         ],
         "xaxis": "x",
         "y": [
          0,
          0.40558799345581753,
          0.40558799345581753,
          0
         ],
         "yaxis": "y2"
        },
        {
         "hoverinfo": "text",
         "marker": {
          "color": "rgb(255,65,54)"
         },
         "mode": "lines",
         "type": "scatter",
         "x": [
          175,
          175,
          185,
          185
         ],
         "xaxis": "x",
         "y": [
          0,
          0.598209484667849,
          0.598209484667849,
          0
         ],
         "yaxis": "y2"
        },
        {
         "hoverinfo": "text",
         "marker": {
          "color": "rgb(255,65,54)"
         },
         "mode": "lines",
         "type": "scatter",
         "x": [
          160,
          160,
          180,
          180
         ],
         "xaxis": "x",
         "y": [
          0.40558799345581753,
          0.8289443133269004,
          0.8289443133269004,
          0.598209484667849
         ],
         "yaxis": "y2"
        },
        {
         "hoverinfo": "text",
         "marker": {
          "color": "rgb(255,65,54)"
         },
         "mode": "lines",
         "type": "scatter",
         "x": [
          195,
          195,
          205,
          205
         ],
         "xaxis": "x",
         "y": [
          0,
          1.0380118006751016,
          1.0380118006751016,
          0
         ],
         "yaxis": "y2"
        },
        {
         "hoverinfo": "text",
         "marker": {
          "color": "rgb(255,65,54)"
         },
         "mode": "lines",
         "type": "scatter",
         "x": [
          170,
          170,
          200,
          200
         ],
         "xaxis": "x",
         "y": [
          0.8289443133269004,
          1.4580897219898459,
          1.4580897219898459,
          1.0380118006751016
         ],
         "yaxis": "y2"
        },
        {
         "hoverinfo": "text",
         "marker": {
          "color": "rgb(255,65,54)"
         },
         "mode": "lines",
         "type": "scatter",
         "x": [
          132.5,
          132.5,
          185,
          185
         ],
         "xaxis": "x",
         "y": [
          1.1948059218359943,
          1.6237629987522157,
          1.6237629987522157,
          1.4580897219898459
         ],
         "yaxis": "y2"
        },
        {
         "hoverinfo": "text",
         "marker": {
          "color": "rgb(255,65,54)"
         },
         "mode": "lines",
         "type": "scatter",
         "x": [
          235,
          235,
          245,
          245
         ],
         "xaxis": "x",
         "y": [
          0,
          0.4142685995476751,
          0.4142685995476751,
          0
         ],
         "yaxis": "y2"
        },
        {
         "hoverinfo": "text",
         "marker": {
          "color": "rgb(255,65,54)"
         },
         "mode": "lines",
         "type": "scatter",
         "x": [
          225,
          225,
          240,
          240
         ],
         "xaxis": "x",
         "y": [
          0,
          0.9842898271775128,
          0.9842898271775128,
          0.4142685995476751
         ],
         "yaxis": "y2"
        },
        {
         "hoverinfo": "text",
         "marker": {
          "color": "rgb(255,65,54)"
         },
         "mode": "lines",
         "type": "scatter",
         "x": [
          215,
          215,
          232.5,
          232.5
         ],
         "xaxis": "x",
         "y": [
          0,
          1.500758663861628,
          1.500758663861628,
          0.9842898271775128
         ],
         "yaxis": "y2"
        },
        {
         "hoverinfo": "text",
         "marker": {
          "color": "rgb(255,65,54)"
         },
         "mode": "lines",
         "type": "scatter",
         "x": [
          255,
          255,
          265,
          265
         ],
         "xaxis": "x",
         "y": [
          0,
          1.0771891786017949,
          1.0771891786017949,
          0
         ],
         "yaxis": "y2"
        },
        {
         "hoverinfo": "text",
         "marker": {
          "color": "rgb(255,65,54)"
         },
         "mode": "lines",
         "type": "scatter",
         "x": [
          275,
          275,
          285,
          285
         ],
         "xaxis": "x",
         "y": [
          0,
          0.4391220481836003,
          0.4391220481836003,
          0
         ],
         "yaxis": "y2"
        },
        {
         "hoverinfo": "text",
         "marker": {
          "color": "rgb(255,65,54)"
         },
         "mode": "lines",
         "type": "scatter",
         "x": [
          295,
          295,
          305,
          305
         ],
         "xaxis": "x",
         "y": [
          0,
          0.24290775800535158,
          0.24290775800535158,
          0
         ],
         "yaxis": "y2"
        },
        {
         "hoverinfo": "text",
         "marker": {
          "color": "rgb(255,65,54)"
         },
         "mode": "lines",
         "type": "scatter",
         "x": [
          315,
          315,
          325,
          325
         ],
         "xaxis": "x",
         "y": [
          0,
          0.6555641705578601,
          0.6555641705578601,
          0
         ],
         "yaxis": "y2"
        },
        {
         "hoverinfo": "text",
         "marker": {
          "color": "rgb(255,65,54)"
         },
         "mode": "lines",
         "type": "scatter",
         "x": [
          300,
          300,
          320,
          320
         ],
         "xaxis": "x",
         "y": [
          0.24290775800535158,
          0.9131385261689889,
          0.9131385261689889,
          0.6555641705578601
         ],
         "yaxis": "y2"
        },
        {
         "hoverinfo": "text",
         "marker": {
          "color": "rgb(255,65,54)"
         },
         "mode": "lines",
         "type": "scatter",
         "x": [
          280,
          280,
          310,
          310
         ],
         "xaxis": "x",
         "y": [
          0.4391220481836003,
          1.2676372689217417,
          1.2676372689217417,
          0.9131385261689889
         ],
         "yaxis": "y2"
        },
        {
         "hoverinfo": "text",
         "marker": {
          "color": "rgb(255,65,54)"
         },
         "mode": "lines",
         "type": "scatter",
         "x": [
          260,
          260,
          295,
          295
         ],
         "xaxis": "x",
         "y": [
          1.0771891786017949,
          1.5172236646037625,
          1.5172236646037625,
          1.2676372689217417
         ],
         "yaxis": "y2"
        },
        {
         "hoverinfo": "text",
         "marker": {
          "color": "rgb(255,65,54)"
         },
         "mode": "lines",
         "type": "scatter",
         "x": [
          223.75,
          223.75,
          277.5,
          277.5
         ],
         "xaxis": "x",
         "y": [
          1.500758663861628,
          1.844503902995179,
          1.844503902995179,
          1.5172236646037625
         ],
         "yaxis": "y2"
        },
        {
         "hoverinfo": "text",
         "marker": {
          "color": "rgb(255,65,54)"
         },
         "mode": "lines",
         "type": "scatter",
         "x": [
          158.75,
          158.75,
          250.625,
          250.625
         ],
         "xaxis": "x",
         "y": [
          1.6237629987522157,
          2.554872248490363,
          2.554872248490363,
          1.844503902995179
         ],
         "yaxis": "y2"
        },
        {
         "hoverinfo": "text",
         "marker": {
          "color": "rgb(0,116,217)"
         },
         "mode": "lines",
         "type": "scatter",
         "x": [
          65.625,
          65.625,
          204.6875,
          204.6875
         ],
         "xaxis": "x",
         "y": [
          1.445126851367462,
          3.5633676629942266,
          3.5633676629942266,
          2.554872248490363
         ],
         "yaxis": "y2"
        },
        {
         "hoverinfo": "text",
         "marker": {
          "color": "rgb(0,116,217)"
         },
         "mode": "lines",
         "type": "scatter",
         "x": [
          5,
          5,
          135.15625,
          135.15625
         ],
         "xaxis": "x",
         "y": [
          0,
          4.433113942671989,
          4.433113942671989,
          3.5633676629942266
         ],
         "yaxis": "y2"
        },
        {
         "colorscale": [
          [
           0,
           "rgba(255, 123, 123, 0.85)"
          ],
          [
           0.340255420505612,
           "rgba(255, 255, 255, 0.85)"
          ],
          [
           1,
           "rgba(0, 0, 255, 0.85)"
          ]
         ],
         "customdata": [
          [
           29,
           29,
           29,
           29,
           29,
           29,
           29,
           29,
           29,
           29,
           29,
           29,
           29,
           29,
           29,
           29,
           29,
           29,
           29,
           29,
           29,
           29,
           29,
           29,
           29,
           29,
           29,
           29,
           29,
           29,
           29,
           29,
           29
          ],
          [
           29,
           29,
           29,
           29,
           29,
           29,
           29,
           29,
           29,
           29,
           29,
           29,
           29,
           29,
           29,
           29,
           29,
           29,
           29,
           29,
           29,
           29,
           29,
           29,
           29,
           29,
           29,
           29,
           29,
           29,
           29,
           29,
           29
          ],
          [
           29,
           29,
           29,
           29,
           29,
           29,
           29,
           29,
           29,
           29,
           29,
           29,
           29,
           29,
           29,
           29,
           29,
           29,
           29,
           29,
           29,
           29,
           29,
           29,
           29,
           29,
           29,
           29,
           29,
           29,
           29,
           29,
           29
          ],
          [
           29,
           29,
           29,
           29,
           29,
           29,
           29,
           29,
           29,
           29,
           29,
           29,
           29,
           29,
           29,
           29,
           29,
           29,
           29,
           29,
           29,
           29,
           29,
           29,
           29,
           29,
           29,
           29,
           29,
           29,
           29,
           29,
           29
          ],
          [
           29,
           29,
           29,
           29,
           29,
           29,
           29,
           29,
           29,
           29,
           29,
           29,
           29,
           29,
           29,
           29,
           29,
           29,
           29,
           29,
           29,
           29,
           29,
           29,
           29,
           29,
           29,
           29,
           29,
           29,
           29,
           29,
           29
          ],
          [
           29,
           29,
           29,
           29,
           29,
           29,
           29,
           29,
           29,
           29,
           29,
           29,
           29,
           29,
           29,
           29,
           29,
           29,
           29,
           29,
           29,
           29,
           29,
           29,
           29,
           29,
           29,
           29,
           29,
           29,
           29,
           29,
           29
          ],
          [
           29,
           29,
           29,
           29,
           29,
           29,
           29,
           29,
           29,
           29,
           29,
           29,
           29,
           29,
           29,
           29,
           29,
           29,
           29,
           29,
           29,
           29,
           29,
           29,
           29,
           29,
           29,
           29,
           29,
           29,
           29,
           29,
           29
          ],
          [
           29,
           29,
           29,
           29,
           29,
           29,
           29,
           29,
           29,
           29,
           29,
           29,
           29,
           29,
           29,
           29,
           29,
           29,
           29,
           29,
           29,
           29,
           29,
           29,
           29,
           29,
           29,
           29,
           29,
           29,
           29,
           29,
           29
          ],
          [
           29,
           29,
           29,
           29,
           29,
           29,
           29,
           29,
           29,
           29,
           29,
           29,
           29,
           29,
           29,
           29,
           29,
           29,
           29,
           29,
           29,
           29,
           29,
           29,
           29,
           29,
           29,
           29,
           29,
           29,
           29,
           29,
           29
          ],
          [
           29,
           29,
           29,
           29,
           29,
           29,
           29,
           29,
           29,
           29,
           29,
           29,
           29,
           29,
           29,
           29,
           29,
           29,
           29,
           29,
           29,
           29,
           29,
           29,
           29,
           29,
           29,
           29,
           29,
           29,
           29,
           29,
           29
          ],
          [
           29,
           29,
           29,
           29,
           29,
           29,
           29,
           29,
           29,
           29,
           29,
           29,
           29,
           29,
           29,
           29,
           29,
           29,
           29,
           29,
           29,
           29,
           29,
           29,
           29,
           29,
           29,
           29,
           29,
           29,
           29,
           29,
           29
          ],
          [
           29,
           29,
           29,
           29,
           29,
           29,
           29,
           29,
           29,
           29,
           29,
           29,
           29,
           29,
           29,
           29,
           29,
           29,
           29,
           29,
           29,
           29,
           29,
           29,
           29,
           29,
           29,
           29,
           29,
           29,
           29,
           29,
           29
          ],
          [
           29,
           29,
           29,
           29,
           29,
           29,
           29,
           29,
           29,
           29,
           29,
           29,
           29,
           29,
           29,
           29,
           29,
           29,
           29,
           29,
           29,
           29,
           29,
           29,
           29,
           29,
           29,
           29,
           29,
           29,
           29,
           29,
           29
          ],
          [
           29,
           29,
           29,
           29,
           29,
           29,
           29,
           29,
           29,
           29,
           29,
           29,
           29,
           29,
           29,
           29,
           29,
           29,
           29,
           29,
           29,
           29,
           29,
           29,
           29,
           29,
           29,
           29,
           29,
           29,
           29,
           29,
           29
          ],
          [
           29,
           29,
           29,
           29,
           29,
           29,
           29,
           29,
           29,
           29,
           29,
           29,
           29,
           29,
           29,
           29,
           29,
           29,
           29,
           29,
           29,
           29,
           29,
           29,
           29,
           29,
           29,
           29,
           29,
           29,
           29,
           29,
           29
          ],
          [
           29,
           29,
           29,
           29,
           29,
           29,
           29,
           29,
           29,
           29,
           29,
           29,
           29,
           29,
           29,
           29,
           29,
           29,
           29,
           29,
           29,
           29,
           29,
           29,
           29,
           29,
           29,
           29,
           29,
           29,
           29,
           29,
           29
          ],
          [
           29,
           29,
           29,
           29,
           29,
           29,
           29,
           29,
           29,
           29,
           29,
           29,
           29,
           29,
           29,
           29,
           29,
           29,
           29,
           29,
           29,
           29,
           29,
           29,
           29,
           29,
           29,
           29,
           29,
           29,
           29,
           29,
           29
          ],
          [
           29,
           29,
           29,
           29,
           29,
           29,
           29,
           29,
           29,
           29,
           29,
           29,
           29,
           29,
           29,
           29,
           29,
           29,
           29,
           29,
           29,
           29,
           29,
           29,
           29,
           29,
           29,
           29,
           29,
           29,
           29,
           29,
           29
          ],
          [
           29,
           29,
           29,
           29,
           29,
           29,
           29,
           29,
           29,
           29,
           29,
           29,
           29,
           29,
           29,
           29,
           29,
           29,
           29,
           29,
           29,
           29,
           29,
           29,
           29,
           29,
           29,
           29,
           29,
           29,
           29,
           29,
           29
          ],
          [
           29,
           29,
           29,
           29,
           29,
           29,
           29,
           29,
           29,
           29,
           29,
           29,
           29,
           29,
           29,
           29,
           29,
           29,
           29,
           29,
           29,
           29,
           29,
           29,
           29,
           29,
           29,
           29,
           29,
           29,
           29,
           29,
           29
          ],
          [
           29,
           29,
           29,
           29,
           29,
           29,
           29,
           29,
           29,
           29,
           29,
           29,
           29,
           29,
           29,
           29,
           29,
           29,
           29,
           29,
           29,
           29,
           29,
           29,
           29,
           29,
           29,
           29,
           29,
           29,
           29,
           29,
           29
          ],
          [
           29,
           29,
           29,
           29,
           29,
           29,
           29,
           29,
           29,
           29,
           29,
           29,
           29,
           29,
           29,
           29,
           29,
           29,
           29,
           29,
           29,
           29,
           29,
           29,
           29,
           29,
           29,
           29,
           29,
           29,
           29,
           29,
           29
          ],
          [
           29,
           29,
           29,
           29,
           29,
           29,
           29,
           29,
           29,
           29,
           29,
           29,
           29,
           29,
           29,
           29,
           29,
           29,
           29,
           29,
           29,
           29,
           29,
           29,
           29,
           29,
           29,
           29,
           29,
           29,
           29,
           29,
           29
          ],
          [
           29,
           29,
           29,
           29,
           29,
           29,
           29,
           29,
           29,
           29,
           29,
           29,
           29,
           29,
           29,
           29,
           29,
           29,
           29,
           29,
           29,
           29,
           29,
           29,
           29,
           29,
           29,
           29,
           29,
           29,
           29,
           29,
           29
          ],
          [
           29,
           29,
           29,
           29,
           29,
           29,
           29,
           29,
           29,
           29,
           29,
           29,
           29,
           29,
           29,
           29,
           29,
           29,
           29,
           29,
           29,
           29,
           29,
           29,
           29,
           29,
           29,
           29,
           29,
           29,
           29,
           29,
           29
          ],
          [
           29,
           29,
           29,
           29,
           29,
           29,
           29,
           29,
           29,
           29,
           29,
           29,
           29,
           29,
           29,
           29,
           29,
           29,
           29,
           29,
           29,
           29,
           29,
           29,
           29,
           29,
           29,
           29,
           29,
           29,
           29,
           29,
           29
          ],
          [
           29,
           29,
           29,
           29,
           29,
           29,
           29,
           29,
           29,
           29,
           29,
           29,
           29,
           29,
           29,
           29,
           29,
           29,
           29,
           29,
           29,
           29,
           29,
           29,
           29,
           29,
           29,
           29,
           29,
           29,
           29,
           29,
           29
          ],
          [
           29,
           29,
           29,
           29,
           29,
           29,
           29,
           29,
           29,
           29,
           29,
           29,
           29,
           29,
           29,
           29,
           29,
           29,
           29,
           29,
           29,
           29,
           29,
           29,
           29,
           29,
           29,
           29,
           29,
           29,
           29,
           29,
           29
          ],
          [
           29,
           29,
           29,
           29,
           29,
           29,
           29,
           29,
           29,
           29,
           29,
           29,
           29,
           29,
           29,
           29,
           29,
           29,
           29,
           29,
           29,
           29,
           29,
           29,
           29,
           29,
           29,
           29,
           29,
           29,
           29,
           29,
           29
          ],
          [
           29,
           29,
           29,
           29,
           29,
           29,
           29,
           29,
           29,
           29,
           29,
           29,
           29,
           29,
           29,
           29,
           29,
           29,
           29,
           29,
           29,
           29,
           29,
           29,
           29,
           29,
           29,
           29,
           29,
           29,
           29,
           29,
           29
          ],
          [
           29,
           29,
           29,
           29,
           29,
           29,
           29,
           29,
           29,
           29,
           29,
           29,
           29,
           29,
           29,
           29,
           29,
           29,
           29,
           29,
           29,
           29,
           29,
           29,
           29,
           29,
           29,
           29,
           29,
           29,
           29,
           29,
           29
          ],
          [
           29,
           29,
           29,
           29,
           29,
           29,
           29,
           29,
           29,
           29,
           29,
           29,
           29,
           29,
           29,
           29,
           29,
           29,
           29,
           29,
           29,
           29,
           29,
           29,
           29,
           29,
           29,
           29,
           29,
           29,
           29,
           29,
           29
          ],
          [
           29,
           29,
           29,
           29,
           29,
           29,
           29,
           29,
           29,
           29,
           29,
           29,
           29,
           29,
           29,
           29,
           29,
           29,
           29,
           29,
           29,
           29,
           29,
           29,
           29,
           29,
           29,
           29,
           29,
           29,
           29,
           29,
           29
          ]
         ],
         "hovertemplate": "Correlation : %{z:.3f} <br>Organ x : %{x} <br>Organ y : %{y} <br>Number variables : %{customdata} <br><extra></extra>",
         "type": "heatmap",
         "x": [
          5,
          15,
          25,
          35,
          45,
          55,
          65,
          75,
          85,
          95,
          105,
          115,
          125,
          135,
          145,
          155,
          165,
          175,
          185,
          195,
          205,
          215,
          225,
          235,
          245,
          255,
          265,
          275,
          285,
          295,
          305,
          315,
          325
         ],
         "y": [
          5,
          15,
          25,
          35,
          45,
          55,
          65,
          75,
          85,
          95,
          105,
          115,
          125,
          135,
          145,
          155,
          165,
          175,
          185,
          195,
          205,
          215,
          225,
          235,
          245,
          255,
          265,
          275,
          285,
          295,
          305,
          315,
          325
         ],
         "z": [
          [
           1,
           -0.16215737624189164,
           -0.17765353354507266,
           -0.17533473712101294,
           0.003959736519996552,
           0.06046994017642707,
           -0.41709813373714977,
           -0.5157381069600836,
           -0.3508109037494107,
           -0.32254114074166595,
           0.05249646482533603,
           -0.16183929100302874,
           -0.26234419434407286,
           -0.25722882926007573,
           0.008718975775666217,
           0.01888189118136462,
           0.07754888296483,
           -0.08302573860605274,
           0.1128674662277163,
           0.2030163569693881,
           0.44899362074774757,
           0.15657111452202158,
           -0.12247719153833052,
           -0.07325879450648957,
           0.06594205191416232,
           0.35307037395223745,
           0.44980113874792715,
           0.4297773390827656,
           0.41436821290991244,
           0.47654803938664525,
           0.5051840030519933,
           0.35880352557933093,
           0.21955640170401763
          ],
          [
           -0.1621573762418916,
           1,
           0.9976848190380974,
           0.9977387240629478,
           0.9011018540281425,
           0.8609466626774306,
           0.8331803424031137,
           0.725913940907933,
           0.7364689876324256,
           0.8799188904976694,
           0.5912949465142993,
           0.75672551285128,
           0.5922512181672462,
           0.5848434926144103,
           0.5222066261518967,
           0.5389099790039854,
           0.47721170444158806,
           0.41724514841060045,
           0.36213423653031135,
           0.6592120533649518,
           0.4737941061370985,
           0.02236630633099127,
           0.24568801890112238,
           -0.06942003280237158,
           0.0038112935426536454,
           0.18367059368943256,
           0.37133660614102915,
           0.048223655315900685,
           -0.06538197657462991,
           0.20356068638018868,
           0.14991660531051393,
           0.30904219259180105,
           0.35705234017014903
          ],
          [
           -0.17765353354507263,
           0.9976848190380974,
           1,
           0.9999921134499447,
           0.8957226763462626,
           0.8483753464467635,
           0.8299974296502076,
           0.7202163459576896,
           0.7374630124615938,
           0.8787070866244272,
           0.590394616910983,
           0.7509828906111994,
           0.5971950670590981,
           0.5751049459298208,
           0.5154792355469187,
           0.5268302852555092,
           0.4611002049048618,
           0.4074400548870024,
           0.34361609676019417,
           0.6340239187916429,
           0.46100667520085603,
           0.02000850811547645,
           0.24445044245413913,
           -0.07102480664536416,
           -0.007740671734302679,
           0.15692520755268505,
           0.3773414861369698,
           0.03432109901784823,
           -0.08433292468506132,
           0.18849335297730116,
           0.1329569592071439,
           0.29802955316183144,
           0.347903414781034
          ],
          [
           -0.17533473712101294,
           0.9977387240629478,
           0.9999921134499448,
           1,
           0.8964841193603198,
           0.8499510061481297,
           0.829180497094624,
           0.7192671600200143,
           0.7378600946387179,
           0.8785917154469508,
           0.5912624407767835,
           0.7515269083348431,
           0.5964811919331325,
           0.5747148878651049,
           0.5164271873602362,
           0.5268725796348507,
           0.4614583618393696,
           0.4075105548171299,
           0.3435564046378248,
           0.6357449376659483,
           0.4631762820059609,
           0.020006132953661434,
           0.24414734505015628,
           -0.07097065941902769,
           -0.007138202119213323,
           0.15864685249860683,
           0.37845443995769257,
           0.03592599543488657,
           -0.08298800373887276,
           0.1903002914906088,
           0.13498629575310905,
           0.29912676321812615,
           0.3490084754709736
          ],
          [
           0.003959736519996552,
           0.9011018540281425,
           0.8957226763462627,
           0.8964841193603197,
           1,
           0.8777866067038422,
           0.8602519140190884,
           0.733550947069445,
           0.7410064976072752,
           0.86144029660364,
           0.6397158118654567,
           0.7329766131277733,
           0.6785647533809888,
           0.7245727540777536,
           0.6669198072760923,
           0.7365156697685222,
           0.6782127529219553,
           0.6099240124798179,
           0.5894872330537512,
           0.7716048513659085,
           0.7018783304208042,
           0.23512172180164875,
           0.4674503313363179,
           0.24259512929295238,
           0.3160140951705564,
           0.386345135687935,
           0.6047423190889554,
           0.3154558462698073,
           0.2301503173395379,
           0.5094625629181104,
           0.4658536450270365,
           0.5699338473870232,
           0.5768274178288317
          ],
          [
           0.06046994017642707,
           0.8609466626774306,
           0.8483753464467636,
           0.8499510061481297,
           0.8777866067038421,
           1,
           0.6989748087678386,
           0.5778012012817899,
           0.7383609781745223,
           0.7902140338987063,
           0.555106652131625,
           0.7089510198723225,
           0.45253586838284726,
           0.5370311532485481,
           0.557717448439209,
           0.48566421451978203,
           0.4961496563736423,
           0.40068392913425865,
           0.37827699075412063,
           0.8755307560827132,
           0.5856751502330767,
           0.09438987610350576,
           0.23186222964133713,
           0.003993491332531392,
           0.13039090513376023,
           0.48340853408830936,
           0.49062612060744715,
           0.2754117569507594,
           0.18975966782215453,
           0.3918902971859635,
           0.365440205012986,
           0.3872510397888819,
           0.5076546161161543
          ],
          [
           -0.41709813373714977,
           0.8331803424031137,
           0.8299974296502076,
           0.829180497094624,
           0.8602519140190884,
           0.6989748087678386,
           1,
           0.9498579459037355,
           0.8096981968736842,
           0.932492968808433,
           0.5338932996018606,
           0.7442986894181584,
           0.7303743918059044,
           0.8664791271906798,
           0.6296340700072202,
           0.6980671411033607,
           0.639540659627615,
           0.610312674743821,
           0.5560589588895306,
           0.6141982933279012,
           0.3817519107407813,
           0.24624807250632036,
           0.5593915406544675,
           0.32127397226659915,
           0.3144346835089975,
           0.23330110199364865,
           0.35970422271329583,
           0.14705603980251297,
           0.12934609433291516,
           0.25284483571356364,
           0.21081696894299343,
           0.3426138910115093,
           0.39441842728237836
          ],
          [
           -0.5157381069600836,
           0.725913940907933,
           0.7202163459576897,
           0.7192671600200143,
           0.7335509470694449,
           0.5778012012817898,
           0.9498579459037354,
           1,
           0.8583736052798219,
           0.9148739609510895,
           0.5865867263943784,
           0.7779459107114812,
           0.7173033328191881,
           0.9073605649450289,
           0.7187009964334726,
           0.6760247995484864,
           0.6221832266759073,
           0.6225101061127478,
           0.5099430019596937,
           0.5533715907790617,
           0.3241692074696132,
           0.2372484147859741,
           0.6336927978899358,
           0.41636315731735385,
           0.3905822595546035,
           0.2203853790442786,
           0.18942692350572196,
           0.19495525262302132,
           0.163560936102243,
           0.20900043877375926,
           0.1790763356014452,
           0.27462809668907817,
           0.31492028708610287
          ],
          [
           -0.3508109037494107,
           0.7364689876324255,
           0.7374630124615937,
           0.7378600946387179,
           0.7410064976072752,
           0.7383609781745223,
           0.8096981968736842,
           0.8583736052798219,
           1,
           0.9041320401109636,
           0.7439442903547371,
           0.8708861682179857,
           0.6314484981306875,
           0.7732634248197119,
           0.798981068318537,
           0.5769548234713073,
           0.5600980816655698,
           0.5077845772339289,
           0.3125093068925684,
           0.6906567966926134,
           0.4612576752006269,
           0.1392755929612937,
           0.5657747013813821,
           0.3256136977519859,
           0.3567812906609584,
           0.3760721779822071,
           0.1826606160394633,
           0.29885446026216606,
           0.1815467753075564,
           0.24517203579451405,
           0.226135194655321,
           0.22900299263751056,
           0.36362865558025204
          ],
          [
           -0.32254114074166595,
           0.8799188904976694,
           0.8787070866244272,
           0.8785917154469508,
           0.86144029660364,
           0.7902140338987064,
           0.9324929688084329,
           0.9148739609510894,
           0.9041320401109636,
           1,
           0.6897860269007866,
           0.8783894605466713,
           0.6765001963285712,
           0.8005859266147454,
           0.7266142967626879,
           0.61911154335247,
           0.5586604690252224,
           0.5410954559713842,
           0.42525307248718835,
           0.6686382642379092,
           0.42402494325885925,
           0.1520376772843375,
           0.47347272673345747,
           0.18474297795031513,
           0.20689838658345905,
           0.2626916842131977,
           0.3268286706443205,
           0.17244442656744893,
           0.08602678242390142,
           0.21553464841729597,
           0.17562615051514052,
           0.27462437860094874,
           0.30863962835077063
          ],
          [
           0.05249646482533602,
           0.5912949465142994,
           0.5903946169109832,
           0.5912624407767836,
           0.6397158118654567,
           0.5551066521316249,
           0.5338932996018606,
           0.5865867263943784,
           0.7439442903547371,
           0.6897860269007866,
           1,
           0.8695630848970338,
           0.5051046437966555,
           0.5472205673052212,
           0.7886047017264322,
           0.5102663083073741,
           0.47735864765492825,
           0.3158173605323458,
           0.19567952290412738,
           0.48198476346260005,
           0.5806637139966704,
           0.24997680763349936,
           0.47023897043543583,
           0.27370049991081435,
           0.31027967918446514,
           0.2560659360014587,
           0.14666318916848306,
           0.4141670728092239,
           0.21011605802548813,
           0.30563010691920317,
           0.3011199044544736,
           0.2663273140055031,
           0.1956081728450068
          ],
          [
           -0.16183929100302874,
           0.7567255128512799,
           0.7509828906111994,
           0.7515269083348431,
           0.7329766131277733,
           0.7089510198723225,
           0.7442986894181584,
           0.7779459107114812,
           0.8708861682179858,
           0.8783894605466713,
           0.8695630848970338,
           0.9999999999999998,
           0.4711092573087492,
           0.667457797972887,
           0.7805797429989418,
           0.4745786486749588,
           0.4687212833308725,
           0.2920678540248237,
           0.19047808141497297,
           0.5896579585008114,
           0.4415051002277884,
           0.14245005650403536,
           0.4072376479885541,
           0.14896581457401006,
           0.1994130147940857,
           0.2092450819804862,
           0.11975628315612347,
           0.20280244191606117,
           0.08431034677474014,
           0.14647090344063599,
           0.15953231208790222,
           0.10739290351768578,
           0.11861679877442353
          ],
          [
           -0.26234419434407286,
           0.5922512181672462,
           0.5971950670590981,
           0.5964811919331326,
           0.6785647533809888,
           0.4525358683828473,
           0.7303743918059045,
           0.717303332819188,
           0.6314484981306875,
           0.6765001963285712,
           0.5051046437966555,
           0.47110925730874925,
           1,
           0.7578919681480222,
           0.5545438165806694,
           0.7366426882450934,
           0.5648843404695358,
           0.7949135855960414,
           0.6349629454522643,
           0.46184109819943314,
           0.45354721200392695,
           0.20949436641698135,
           0.5286149366681272,
           0.46713833794070286,
           0.3695209895027433,
           0.31456468939262633,
           0.4394334713204442,
           0.3274596910725331,
           0.2323151243271641,
           0.38163883456973935,
           0.26574994790155254,
           0.5754568687671416,
           0.5298523943401653
          ],
          [
           -0.25722882926007573,
           0.5848434926144103,
           0.5751049459298208,
           0.5747148878651049,
           0.7245727540777535,
           0.5370311532485481,
           0.8664791271906799,
           0.9073605649450289,
           0.7732634248197118,
           0.8005859266147455,
           0.5472205673052212,
           0.667457797972887,
           0.7578919681480222,
           1,
           0.7562137012705217,
           0.7893705271817882,
           0.7497958124616411,
           0.7293417105629185,
           0.6926292913264902,
           0.6487592038180534,
           0.4727867702013087,
           0.45211817568162316,
           0.7672339020814468,
           0.6400712609231615,
           0.6147827924056963,
           0.4265325335240039,
           0.4373440244238296,
           0.4501827149793511,
           0.4649901947224094,
           0.45736568492713214,
           0.4363356887228077,
           0.48365052587607926,
           0.5408075588125956
          ],
          [
           0.008718975775666216,
           0.5222066261518966,
           0.5154792355469187,
           0.5164271873602361,
           0.6669198072760925,
           0.557717448439209,
           0.6296340700072202,
           0.7187009964334726,
           0.7989810683185371,
           0.7266142967626879,
           0.788604701726432,
           0.7805797429989417,
           0.5545438165806694,
           0.7562137012705217,
           0.9999999999999999,
           0.7542545873113061,
           0.7594038088582434,
           0.6266636515762535,
           0.5342732879815975,
           0.6652573720881353,
           0.6883369187042474,
           0.345230678709293,
           0.7747317116221416,
           0.5787899205647264,
           0.6443427671868749,
           0.4513578609970631,
           0.3402399357233281,
           0.6185969620441828,
           0.5197157363513529,
           0.6013099513691846,
           0.602961555978464,
           0.5307101676680076,
           0.42409164503172675
          ],
          [
           0.01888189118136462,
           0.5389099790039854,
           0.5268302852555091,
           0.5268725796348508,
           0.7365156697685222,
           0.48566421451978203,
           0.6980671411033608,
           0.6760247995484864,
           0.5769548234713073,
           0.61911154335247,
           0.5102663083073741,
           0.4745786486749588,
           0.7366426882450934,
           0.7893705271817881,
           0.7542545873113061,
           1,
           0.9396705527742372,
           0.7978562122998741,
           0.8737584735727194,
           0.6015200187413975,
           0.7421251948901744,
           0.49547872542229643,
           0.829003350545722,
           0.662314626440376,
           0.7022759876648992,
           0.3743646354717446,
           0.5395505811865481,
           0.5263748105165226,
           0.5165797877750916,
           0.7422450017979056,
           0.6852506119452434,
           0.8110245264475173,
           0.6279612706671264
          ],
          [
           0.07754888296483,
           0.477211704441588,
           0.4611002049048618,
           0.46145836183936956,
           0.6782127529219553,
           0.4961496563736423,
           0.639540659627615,
           0.6221832266759073,
           0.5600980816655698,
           0.5586604690252224,
           0.47735864765492825,
           0.46872128333087254,
           0.5648843404695358,
           0.7497958124616412,
           0.7594038088582435,
           0.9396705527742373,
           1,
           0.6979483482837736,
           0.8294999263674868,
           0.6793408092978407,
           0.7074062523866509,
           0.6004677628030475,
           0.8747276930055538,
           0.6907911424667501,
           0.7736203993360645,
           0.4825749180848174,
           0.5116338579232121,
           0.6332953776895027,
           0.6589645353468236,
           0.7882425011814873,
           0.7729685521345203,
           0.7635437731181322,
           0.658235693203612
          ],
          [
           -0.08302573860605274,
           0.4172451484106004,
           0.4074400548870024,
           0.4075105548171299,
           0.6099240124798179,
           0.4006839291342587,
           0.610312674743821,
           0.6225101061127478,
           0.5077845772339289,
           0.5410954559713842,
           0.31581736053234577,
           0.2920678540248237,
           0.7949135855960414,
           0.7293417105629185,
           0.6266636515762535,
           0.797856212299874,
           0.6979483482837737,
           1,
           0.8467263493077684,
           0.5828538602580013,
           0.5676297999926188,
           0.2961035884553779,
           0.644716550179804,
           0.6408911407079623,
           0.6274458823165088,
           0.5308834061126397,
           0.5648077979559245,
           0.591965107872099,
           0.5570352425569358,
           0.6841979983318214,
           0.5994306004857423,
           0.7928697219711955,
           0.6790793600005881
          ],
          [
           0.1128674662277163,
           0.3621342365303114,
           0.34361609676019417,
           0.3435564046378248,
           0.5894872330537512,
           0.37827699075412063,
           0.5560589588895306,
           0.5099430019596937,
           0.3125093068925684,
           0.4252530724871883,
           0.19567952290412738,
           0.19047808141497294,
           0.6349629454522643,
           0.6926292913264901,
           0.5342732879815975,
           0.8737584735727193,
           0.8294999263674868,
           0.8467263493077685,
           1,
           0.5799509385331922,
           0.5975190706245809,
           0.5079211526719921,
           0.6777511727605533,
           0.6374073444921708,
           0.6617705975092519,
           0.4431719097995413,
           0.6718204458233253,
           0.5600477689018512,
           0.6392524927580814,
           0.7895374392225029,
           0.7226522620124279,
           0.8858891391628341,
           0.682672640272772
          ],
          [
           0.20301635696938808,
           0.6592120533649518,
           0.6340239187916429,
           0.6357449376659483,
           0.7716048513659085,
           0.875530756082713,
           0.6141982933279012,
           0.5533715907790617,
           0.6906567966926134,
           0.6686382642379092,
           0.48198476346260005,
           0.5896579585008114,
           0.46184109819943314,
           0.6487592038180534,
           0.6652573720881352,
           0.6015200187413976,
           0.6793408092978406,
           0.5828538602580013,
           0.5799509385331922,
           0.9999999999999998,
           0.6421111177465372,
           0.258612721293708,
           0.45217969758868654,
           0.28148141484475986,
           0.42895565710780253,
           0.7892507883159771,
           0.5848767767105347,
           0.6017747497331124,
           0.5721324365082541,
           0.6396359120299882,
           0.6297902638002016,
           0.5685315189121165,
           0.7168572725837182
          ],
          [
           0.44899362074774757,
           0.47379410613709855,
           0.4610066752008561,
           0.46317628200596084,
           0.7018783304208042,
           0.5856751502330767,
           0.3817519107407813,
           0.3241692074696132,
           0.46125767520062677,
           0.4240249432588592,
           0.5806637139966704,
           0.4415051002277884,
           0.45354721200392695,
           0.47278677020130877,
           0.6883369187042474,
           0.7421251948901744,
           0.7074062523866509,
           0.5676297999926188,
           0.5975190706245809,
           0.6421111177465372,
           0.9999999999999999,
           0.3233023369327987,
           0.526776868661209,
           0.4428590937574128,
           0.5577269343614646,
           0.4768927246415914,
           0.5666930747268917,
           0.6165601798459898,
           0.5028809895180757,
           0.8235460324081492,
           0.8033380102371667,
           0.7910952427458752,
           0.6414806566902049
          ],
          [
           0.15657111452202158,
           0.022366306330991275,
           0.020008508115476446,
           0.02000613295366143,
           0.23512172180164878,
           0.09438987610350576,
           0.24624807250632033,
           0.2372484147859741,
           0.1392755929612937,
           0.1520376772843375,
           0.2499768076334994,
           0.1424500565040354,
           0.20949436641698138,
           0.45211817568162316,
           0.345230678709293,
           0.49547872542229643,
           0.6004677628030475,
           0.2961035884553779,
           0.5079211526719921,
           0.25861272129370805,
           0.3233023369327987,
           1,
           0.6107831288877742,
           0.6537435953173744,
           0.6434467329145418,
           0.26698832335766315,
           0.40457685698494333,
           0.5467376344189725,
           0.6158044369235519,
           0.524062350345073,
           0.5600196858426402,
           0.43211472062040257,
           0.3946914624070083
          ],
          [
           -0.12247719153833052,
           0.2456880189011224,
           0.24445044245413913,
           0.24414734505015628,
           0.46745033133631786,
           0.23186222964133713,
           0.5593915406544675,
           0.6336927978899358,
           0.5657747013813821,
           0.47347272673345747,
           0.4702389704354358,
           0.4072376479885541,
           0.5286149366681271,
           0.7672339020814468,
           0.7747317116221416,
           0.829003350545722,
           0.8747276930055539,
           0.644716550179804,
           0.6777511727605533,
           0.4521796975886865,
           0.526776868661209,
           0.6107831288877742,
           1,
           0.8598426660308214,
           0.877829107041561,
           0.3869342215422595,
           0.35039784468520785,
           0.639558167636338,
           0.6485993087337766,
           0.6412268291034992,
           0.6417385337205522,
           0.5833247389137763,
           0.5360705270698823
          ],
          [
           -0.07325879450648957,
           -0.06942003280237158,
           -0.07102480664536415,
           -0.07097065941902768,
           0.24259512929295238,
           0.003993491332531392,
           0.3212739722665991,
           0.4163631573173539,
           0.3256136977519859,
           0.1847429779503151,
           0.2737004999108143,
           0.14896581457401006,
           0.46713833794070286,
           0.6400712609231615,
           0.5787899205647264,
           0.6623146264403759,
           0.6907911424667501,
           0.6408911407079624,
           0.6374073444921708,
           0.28148141484475986,
           0.4428590937574128,
           0.6537435953173742,
           0.8598426660308216,
           1,
           0.9483508510168818,
           0.3948848912584249,
           0.3044380175911127,
           0.6899820304576052,
           0.7292615940178817,
           0.6448506379455741,
           0.6546809661123749,
           0.5812342598061795,
           0.5501159277656679
          ],
          [
           0.0659420519141623,
           0.003811293542653645,
           -0.007740671734302677,
           -0.007138202119213324,
           0.31601409517055634,
           0.13039090513376023,
           0.3144346835089975,
           0.3905822595546035,
           0.3567812906609584,
           0.20689838658345902,
           0.31027967918446514,
           0.1994130147940857,
           0.3695209895027433,
           0.6147827924056963,
           0.6443427671868749,
           0.7022759876648992,
           0.7736203993360645,
           0.6274458823165088,
           0.6617705975092519,
           0.4289556571078025,
           0.5577269343614645,
           0.6434467329145418,
           0.8778291070415609,
           0.9483508510168817,
           1,
           0.5038554348407454,
           0.33519317201841065,
           0.7543284606759464,
           0.7857400539132207,
           0.7421093789963489,
           0.7672323927105523,
           0.6274469955693229,
           0.6006797211596693
          ],
          [
           0.35307037395223745,
           0.18367059368943256,
           0.15692520755268505,
           0.15864685249860683,
           0.386345135687935,
           0.4834085340883093,
           0.23330110199364865,
           0.2203853790442786,
           0.3760721779822071,
           0.2626916842131977,
           0.2560659360014587,
           0.2092450819804862,
           0.3145646893926263,
           0.42653253352400383,
           0.4513578609970631,
           0.3743646354717446,
           0.4825749180848174,
           0.5308834061126397,
           0.44317190979954124,
           0.789250788315977,
           0.47689272464159144,
           0.26698832335766315,
           0.3869342215422595,
           0.39488489125842485,
           0.5038554348407454,
           1,
           0.5028478486251569,
           0.8031781462040333,
           0.7645993519414115,
           0.647156608487477,
           0.6448480279035176,
           0.5076556428169234,
           0.7503175041658008
          ],
          [
           0.44980113874792715,
           0.37133660614102915,
           0.3773414861369698,
           0.37845443995769257,
           0.6047423190889555,
           0.49062612060744715,
           0.35970422271329583,
           0.18942692350572196,
           0.1826606160394633,
           0.3268286706443205,
           0.14666318916848306,
           0.11975628315612345,
           0.4394334713204442,
           0.43734402442382964,
           0.3402399357233281,
           0.5395505811865481,
           0.5116338579232121,
           0.5648077979559245,
           0.6718204458233253,
           0.5848767767105347,
           0.5666930747268916,
           0.4045768569849433,
           0.35039784468520785,
           0.3044380175911127,
           0.33519317201841065,
           0.5028478486251569,
           0.9999999999999999,
           0.5233213824672359,
           0.5473235343375025,
           0.7024721528950272,
           0.6525383411732947,
           0.7360698546476626,
           0.7157796935014041
          ],
          [
           0.4297773390827656,
           0.048223655315900685,
           0.03432109901784823,
           0.03592599543488657,
           0.3154558462698073,
           0.27541175695075937,
           0.14705603980251297,
           0.19495525262302132,
           0.298854460262166,
           0.17244442656744893,
           0.4141670728092239,
           0.20280244191606117,
           0.3274596910725331,
           0.45018271497935103,
           0.6185969620441828,
           0.5263748105165226,
           0.6332953776895027,
           0.591965107872099,
           0.5600477689018512,
           0.6017747497331124,
           0.6165601798459899,
           0.5467376344189725,
           0.639558167636338,
           0.6899820304576051,
           0.7543284606759463,
           0.8031781462040332,
           0.523321382467236,
           1,
           0.9406658012366449,
           0.8328924837969359,
           0.8402849870495135,
           0.6860448320396506,
           0.7012062453549438
          ],
          [
           0.4143682129099124,
           -0.06538197657462991,
           -0.08433292468506132,
           -0.08298800373887276,
           0.2301503173395379,
           0.1897596678221545,
           0.12934609433291516,
           0.16356093610224304,
           0.1815467753075564,
           0.08602678242390142,
           0.21011605802548816,
           0.08431034677474014,
           0.23231512432716414,
           0.4649901947224094,
           0.519715736351353,
           0.5165797877750916,
           0.6589645353468236,
           0.5570352425569358,
           0.6392524927580815,
           0.5721324365082541,
           0.5028809895180757,
           0.615804436923552,
           0.6485993087337766,
           0.7292615940178817,
           0.7857400539132208,
           0.7645993519414115,
           0.5473235343375025,
           0.940665801236645,
           0.9999999999999999,
           0.8295226499231019,
           0.8556063722520688,
           0.6714845928136829,
           0.6766714149053329
          ],
          [
           0.4765480393866453,
           0.20356068638018868,
           0.18849335297730116,
           0.1903002914906088,
           0.5094625629181104,
           0.39189029718596347,
           0.2528448357135636,
           0.20900043877375923,
           0.24517203579451402,
           0.215534648417296,
           0.30563010691920317,
           0.14647090344063599,
           0.38163883456973935,
           0.4573656849271321,
           0.6013099513691846,
           0.7422450017979055,
           0.7882425011814873,
           0.6841979983318213,
           0.789537439222503,
           0.6396359120299882,
           0.823546032408149,
           0.524062350345073,
           0.6412268291034992,
           0.6448506379455741,
           0.7421093789963488,
           0.6471566084874769,
           0.7024721528950272,
           0.832892483796936,
           0.8295226499231019,
           1,
           0.9832648833181457,
           0.9334558050355204,
           0.7915176087321202
          ],
          [
           0.5051840030519933,
           0.14991660531051393,
           0.1329569592071439,
           0.13498629575310908,
           0.4658536450270366,
           0.365440205012986,
           0.21081696894299343,
           0.1790763356014452,
           0.22613519465532098,
           0.17562615051514052,
           0.30111990445447356,
           0.15953231208790222,
           0.26574994790155254,
           0.4363356887228077,
           0.602961555978464,
           0.6852506119452434,
           0.7729685521345203,
           0.5994306004857423,
           0.7226522620124279,
           0.6297902638002018,
           0.8033380102371666,
           0.5600196858426402,
           0.6417385337205522,
           0.6546809661123749,
           0.7672323927105522,
           0.6448480279035176,
           0.6525383411732947,
           0.8402849870495135,
           0.8556063722520688,
           0.9832648833181455,
           1,
           0.8642545351007742,
           0.7511642268413048
          ],
          [
           0.358803525579331,
           0.30904219259180105,
           0.2980295531618314,
           0.2991267632181262,
           0.5699338473870231,
           0.3872510397888819,
           0.34261389101150935,
           0.27462809668907817,
           0.22900299263751056,
           0.27462437860094874,
           0.2663273140055031,
           0.10739290351768578,
           0.5754568687671416,
           0.4836505258760793,
           0.5307101676680076,
           0.8110245264475173,
           0.763543773118132,
           0.7928697219711957,
           0.8858891391628342,
           0.5685315189121165,
           0.7910952427458751,
           0.4321147206204026,
           0.5833247389137762,
           0.5812342598061796,
           0.6274469955693229,
           0.5076556428169235,
           0.7360698546476625,
           0.6860448320396506,
           0.6714845928136829,
           0.9334558050355203,
           0.8642545351007742,
           1,
           0.7740793713453367
          ],
          [
           0.21955640170401763,
           0.35705234017014903,
           0.347903414781034,
           0.3490084754709736,
           0.5768274178288317,
           0.5076546161161541,
           0.3944184272823783,
           0.3149202870861028,
           0.36362865558025204,
           0.30863962835077063,
           0.1956081728450068,
           0.11861679877442353,
           0.5298523943401653,
           0.5408075588125956,
           0.4240916450317267,
           0.6279612706671264,
           0.658235693203612,
           0.679079360000588,
           0.682672640272772,
           0.7168572725837183,
           0.6414806566902049,
           0.39469146240700825,
           0.5360705270698823,
           0.5501159277656679,
           0.6006797211596693,
           0.7503175041658009,
           0.7157796935014041,
           0.7012062453549438,
           0.6766714149053328,
           0.7915176087321203,
           0.7511642268413048,
           0.7740793713453367,
           1
          ]
         ]
        }
       ],
       "layout": {
        "autosize": false,
        "height": 1100,
        "hovermode": "closest",
        "showlegend": false,
        "template": {
         "data": {
          "bar": [
           {
            "error_x": {
             "color": "#2a3f5f"
            },
            "error_y": {
             "color": "#2a3f5f"
            },
            "marker": {
             "line": {
              "color": "#E5ECF6",
              "width": 0.5
             }
            },
            "type": "bar"
           }
          ],
          "barpolar": [
           {
            "marker": {
             "line": {
              "color": "#E5ECF6",
              "width": 0.5
             }
            },
            "type": "barpolar"
           }
          ],
          "carpet": [
           {
            "aaxis": {
             "endlinecolor": "#2a3f5f",
             "gridcolor": "white",
             "linecolor": "white",
             "minorgridcolor": "white",
             "startlinecolor": "#2a3f5f"
            },
            "baxis": {
             "endlinecolor": "#2a3f5f",
             "gridcolor": "white",
             "linecolor": "white",
             "minorgridcolor": "white",
             "startlinecolor": "#2a3f5f"
            },
            "type": "carpet"
           }
          ],
          "choropleth": [
           {
            "colorbar": {
             "outlinewidth": 0,
             "ticks": ""
            },
            "type": "choropleth"
           }
          ],
          "contour": [
           {
            "colorbar": {
             "outlinewidth": 0,
             "ticks": ""
            },
            "colorscale": [
             [
              0,
              "#0d0887"
             ],
             [
              0.1111111111111111,
              "#46039f"
             ],
             [
              0.2222222222222222,
              "#7201a8"
             ],
             [
              0.3333333333333333,
              "#9c179e"
             ],
             [
              0.4444444444444444,
              "#bd3786"
             ],
             [
              0.5555555555555556,
              "#d8576b"
             ],
             [
              0.6666666666666666,
              "#ed7953"
             ],
             [
              0.7777777777777778,
              "#fb9f3a"
             ],
             [
              0.8888888888888888,
              "#fdca26"
             ],
             [
              1,
              "#f0f921"
             ]
            ],
            "type": "contour"
           }
          ],
          "contourcarpet": [
           {
            "colorbar": {
             "outlinewidth": 0,
             "ticks": ""
            },
            "type": "contourcarpet"
           }
          ],
          "heatmap": [
           {
            "colorbar": {
             "outlinewidth": 0,
             "ticks": ""
            },
            "colorscale": [
             [
              0,
              "#0d0887"
             ],
             [
              0.1111111111111111,
              "#46039f"
             ],
             [
              0.2222222222222222,
              "#7201a8"
             ],
             [
              0.3333333333333333,
              "#9c179e"
             ],
             [
              0.4444444444444444,
              "#bd3786"
             ],
             [
              0.5555555555555556,
              "#d8576b"
             ],
             [
              0.6666666666666666,
              "#ed7953"
             ],
             [
              0.7777777777777778,
              "#fb9f3a"
             ],
             [
              0.8888888888888888,
              "#fdca26"
             ],
             [
              1,
              "#f0f921"
             ]
            ],
            "type": "heatmap"
           }
          ],
          "heatmapgl": [
           {
            "colorbar": {
             "outlinewidth": 0,
             "ticks": ""
            },
            "colorscale": [
             [
              0,
              "#0d0887"
             ],
             [
              0.1111111111111111,
              "#46039f"
             ],
             [
              0.2222222222222222,
              "#7201a8"
             ],
             [
              0.3333333333333333,
              "#9c179e"
             ],
             [
              0.4444444444444444,
              "#bd3786"
             ],
             [
              0.5555555555555556,
              "#d8576b"
             ],
             [
              0.6666666666666666,
              "#ed7953"
             ],
             [
              0.7777777777777778,
              "#fb9f3a"
             ],
             [
              0.8888888888888888,
              "#fdca26"
             ],
             [
              1,
              "#f0f921"
             ]
            ],
            "type": "heatmapgl"
           }
          ],
          "histogram": [
           {
            "marker": {
             "colorbar": {
              "outlinewidth": 0,
              "ticks": ""
             }
            },
            "type": "histogram"
           }
          ],
          "histogram2d": [
           {
            "colorbar": {
             "outlinewidth": 0,
             "ticks": ""
            },
            "colorscale": [
             [
              0,
              "#0d0887"
             ],
             [
              0.1111111111111111,
              "#46039f"
             ],
             [
              0.2222222222222222,
              "#7201a8"
             ],
             [
              0.3333333333333333,
              "#9c179e"
             ],
             [
              0.4444444444444444,
              "#bd3786"
             ],
             [
              0.5555555555555556,
              "#d8576b"
             ],
             [
              0.6666666666666666,
              "#ed7953"
             ],
             [
              0.7777777777777778,
              "#fb9f3a"
             ],
             [
              0.8888888888888888,
              "#fdca26"
             ],
             [
              1,
              "#f0f921"
             ]
            ],
            "type": "histogram2d"
           }
          ],
          "histogram2dcontour": [
           {
            "colorbar": {
             "outlinewidth": 0,
             "ticks": ""
            },
            "colorscale": [
             [
              0,
              "#0d0887"
             ],
             [
              0.1111111111111111,
              "#46039f"
             ],
             [
              0.2222222222222222,
              "#7201a8"
             ],
             [
              0.3333333333333333,
              "#9c179e"
             ],
             [
              0.4444444444444444,
              "#bd3786"
             ],
             [
              0.5555555555555556,
              "#d8576b"
             ],
             [
              0.6666666666666666,
              "#ed7953"
             ],
             [
              0.7777777777777778,
              "#fb9f3a"
             ],
             [
              0.8888888888888888,
              "#fdca26"
             ],
             [
              1,
              "#f0f921"
             ]
            ],
            "type": "histogram2dcontour"
           }
          ],
          "mesh3d": [
           {
            "colorbar": {
             "outlinewidth": 0,
             "ticks": ""
            },
            "type": "mesh3d"
           }
          ],
          "parcoords": [
           {
            "line": {
             "colorbar": {
              "outlinewidth": 0,
              "ticks": ""
             }
            },
            "type": "parcoords"
           }
          ],
          "pie": [
           {
            "automargin": true,
            "type": "pie"
           }
          ],
          "scatter": [
           {
            "marker": {
             "colorbar": {
              "outlinewidth": 0,
              "ticks": ""
             }
            },
            "type": "scatter"
           }
          ],
          "scatter3d": [
           {
            "line": {
             "colorbar": {
              "outlinewidth": 0,
              "ticks": ""
             }
            },
            "marker": {
             "colorbar": {
              "outlinewidth": 0,
              "ticks": ""
             }
            },
            "type": "scatter3d"
           }
          ],
          "scattercarpet": [
           {
            "marker": {
             "colorbar": {
              "outlinewidth": 0,
              "ticks": ""
             }
            },
            "type": "scattercarpet"
           }
          ],
          "scattergeo": [
           {
            "marker": {
             "colorbar": {
              "outlinewidth": 0,
              "ticks": ""
             }
            },
            "type": "scattergeo"
           }
          ],
          "scattergl": [
           {
            "marker": {
             "colorbar": {
              "outlinewidth": 0,
              "ticks": ""
             }
            },
            "type": "scattergl"
           }
          ],
          "scattermapbox": [
           {
            "marker": {
             "colorbar": {
              "outlinewidth": 0,
              "ticks": ""
             }
            },
            "type": "scattermapbox"
           }
          ],
          "scatterpolar": [
           {
            "marker": {
             "colorbar": {
              "outlinewidth": 0,
              "ticks": ""
             }
            },
            "type": "scatterpolar"
           }
          ],
          "scatterpolargl": [
           {
            "marker": {
             "colorbar": {
              "outlinewidth": 0,
              "ticks": ""
             }
            },
            "type": "scatterpolargl"
           }
          ],
          "scatterternary": [
           {
            "marker": {
             "colorbar": {
              "outlinewidth": 0,
              "ticks": ""
             }
            },
            "type": "scatterternary"
           }
          ],
          "surface": [
           {
            "colorbar": {
             "outlinewidth": 0,
             "ticks": ""
            },
            "colorscale": [
             [
              0,
              "#0d0887"
             ],
             [
              0.1111111111111111,
              "#46039f"
             ],
             [
              0.2222222222222222,
              "#7201a8"
             ],
             [
              0.3333333333333333,
              "#9c179e"
             ],
             [
              0.4444444444444444,
              "#bd3786"
             ],
             [
              0.5555555555555556,
              "#d8576b"
             ],
             [
              0.6666666666666666,
              "#ed7953"
             ],
             [
              0.7777777777777778,
              "#fb9f3a"
             ],
             [
              0.8888888888888888,
              "#fdca26"
             ],
             [
              1,
              "#f0f921"
             ]
            ],
            "type": "surface"
           }
          ],
          "table": [
           {
            "cells": {
             "fill": {
              "color": "#EBF0F8"
             },
             "line": {
              "color": "white"
             }
            },
            "header": {
             "fill": {
              "color": "#C8D4E3"
             },
             "line": {
              "color": "white"
             }
            },
            "type": "table"
           }
          ]
         },
         "layout": {
          "annotationdefaults": {
           "arrowcolor": "#2a3f5f",
           "arrowhead": 0,
           "arrowwidth": 1
          },
          "autotypenumbers": "strict",
          "coloraxis": {
           "colorbar": {
            "outlinewidth": 0,
            "ticks": ""
           }
          },
          "colorscale": {
           "diverging": [
            [
             0,
             "#8e0152"
            ],
            [
             0.1,
             "#c51b7d"
            ],
            [
             0.2,
             "#de77ae"
            ],
            [
             0.3,
             "#f1b6da"
            ],
            [
             0.4,
             "#fde0ef"
            ],
            [
             0.5,
             "#f7f7f7"
            ],
            [
             0.6,
             "#e6f5d0"
            ],
            [
             0.7,
             "#b8e186"
            ],
            [
             0.8,
             "#7fbc41"
            ],
            [
             0.9,
             "#4d9221"
            ],
            [
             1,
             "#276419"
            ]
           ],
           "sequential": [
            [
             0,
             "#0d0887"
            ],
            [
             0.1111111111111111,
             "#46039f"
            ],
            [
             0.2222222222222222,
             "#7201a8"
            ],
            [
             0.3333333333333333,
             "#9c179e"
            ],
            [
             0.4444444444444444,
             "#bd3786"
            ],
            [
             0.5555555555555556,
             "#d8576b"
            ],
            [
             0.6666666666666666,
             "#ed7953"
            ],
            [
             0.7777777777777778,
             "#fb9f3a"
            ],
            [
             0.8888888888888888,
             "#fdca26"
            ],
            [
             1,
             "#f0f921"
            ]
           ],
           "sequentialminus": [
            [
             0,
             "#0d0887"
            ],
            [
             0.1111111111111111,
             "#46039f"
            ],
            [
             0.2222222222222222,
             "#7201a8"
            ],
            [
             0.3333333333333333,
             "#9c179e"
            ],
            [
             0.4444444444444444,
             "#bd3786"
            ],
            [
             0.5555555555555556,
             "#d8576b"
            ],
            [
             0.6666666666666666,
             "#ed7953"
            ],
            [
             0.7777777777777778,
             "#fb9f3a"
            ],
            [
             0.8888888888888888,
             "#fdca26"
            ],
            [
             1,
             "#f0f921"
            ]
           ]
          },
          "colorway": [
           "#636efa",
           "#EF553B",
           "#00cc96",
           "#ab63fa",
           "#FFA15A",
           "#19d3f3",
           "#FF6692",
           "#B6E880",
           "#FF97FF",
           "#FECB52"
          ],
          "font": {
           "color": "#2a3f5f"
          },
          "geo": {
           "bgcolor": "white",
           "lakecolor": "white",
           "landcolor": "#E5ECF6",
           "showlakes": true,
           "showland": true,
           "subunitcolor": "white"
          },
          "hoverlabel": {
           "align": "left"
          },
          "hovermode": "closest",
          "mapbox": {
           "style": "light"
          },
          "paper_bgcolor": "white",
          "plot_bgcolor": "#E5ECF6",
          "polar": {
           "angularaxis": {
            "gridcolor": "white",
            "linecolor": "white",
            "ticks": ""
           },
           "bgcolor": "#E5ECF6",
           "radialaxis": {
            "gridcolor": "white",
            "linecolor": "white",
            "ticks": ""
           }
          },
          "scene": {
           "xaxis": {
            "backgroundcolor": "#E5ECF6",
            "gridcolor": "white",
            "gridwidth": 2,
            "linecolor": "white",
            "showbackground": true,
            "ticks": "",
            "zerolinecolor": "white"
           },
           "yaxis": {
            "backgroundcolor": "#E5ECF6",
            "gridcolor": "white",
            "gridwidth": 2,
            "linecolor": "white",
            "showbackground": true,
            "ticks": "",
            "zerolinecolor": "white"
           },
           "zaxis": {
            "backgroundcolor": "#E5ECF6",
            "gridcolor": "white",
            "gridwidth": 2,
            "linecolor": "white",
            "showbackground": true,
            "ticks": "",
            "zerolinecolor": "white"
           }
          },
          "shapedefaults": {
           "line": {
            "color": "#2a3f5f"
           }
          },
          "ternary": {
           "aaxis": {
            "gridcolor": "white",
            "linecolor": "white",
            "ticks": ""
           },
           "baxis": {
            "gridcolor": "white",
            "linecolor": "white",
            "ticks": ""
           },
           "bgcolor": "#E5ECF6",
           "caxis": {
            "gridcolor": "white",
            "linecolor": "white",
            "ticks": ""
           }
          },
          "title": {
           "x": 0.05
          },
          "xaxis": {
           "automargin": true,
           "gridcolor": "white",
           "linecolor": "white",
           "ticks": "",
           "title": {
            "standoff": 15
           },
           "zerolinecolor": "white",
           "zerolinewidth": 2
          },
          "yaxis": {
           "automargin": true,
           "gridcolor": "white",
           "linecolor": "white",
           "ticks": "",
           "title": {
            "standoff": 15
           },
           "zerolinecolor": "white",
           "zerolinewidth": 2
          }
         }
        },
        "width": 1100,
        "xaxis": {
         "mirror": false,
         "rangemode": "tozero",
         "showgrid": false,
         "showline": true,
         "showticklabels": true,
         "tickmode": "array",
         "ticks": "outside",
         "ticktext": [
          "BiochemistryUrine",
          "set",
          "PhysicalActivity",
          "set_instances1.5x",
          "Biochemistry",
          "EyesOCT",
          "BiochemistryBlood",
          "Lungs",
          "EyesAll",
          "MusculoskeletalScalars",
          "BrainCognitive",
          "Hearing",
          "MusculoskeletalHips",
          "ArterialPulseWaveAnalysis",
          "set_instances01",
          "Musculoskeletal",
          "MusculoskeletalFullBody",
          "Heart",
          "HeartMRI",
          "Eyes",
          "MusculoskeletalKnees",
          "set_instances23",
          "MusculoskeletalSpine",
          "Arterial",
          "ArterialCarotids",
          "EyesFundus",
          "ImmuneSystem",
          "Brain",
          "BrainMRI",
          "Abdomen",
          "AbdomenLiver",
          "AbdomenPancreas",
          "HeartECG"
         ],
         "tickvals": [
          5,
          15,
          25,
          35,
          45,
          55,
          65,
          75,
          85,
          95,
          105,
          115,
          125,
          135,
          145,
          155,
          165,
          175,
          185,
          195,
          205,
          215,
          225,
          235,
          245,
          255,
          265,
          275,
          285,
          295,
          305,
          315,
          325
         ],
         "type": "linear",
         "zeroline": false
        },
        "yaxis": {
         "domain": [
          0,
          0.85
         ],
         "mirror": false,
         "rangemode": "tozero",
         "showgrid": false,
         "showline": true,
         "showticklabels": true,
         "ticks": "outside",
         "ticktext": [
          "BiochemistryUrine",
          "set",
          "PhysicalActivity",
          "set_instances1.5x",
          "Biochemistry",
          "EyesOCT",
          "BiochemistryBlood",
          "Lungs",
          "EyesAll",
          "MusculoskeletalScalars",
          "BrainCognitive",
          "Hearing",
          "MusculoskeletalHips",
          "ArterialPulseWaveAnalysis",
          "set_instances01",
          "Musculoskeletal",
          "MusculoskeletalFullBody",
          "Heart",
          "HeartMRI",
          "Eyes",
          "MusculoskeletalKnees",
          "set_instances23",
          "MusculoskeletalSpine",
          "Arterial",
          "ArterialCarotids",
          "EyesFundus",
          "ImmuneSystem",
          "Brain",
          "BrainMRI",
          "Abdomen",
          "AbdomenLiver",
          "AbdomenPancreas",
          "HeartECG"
         ],
         "tickvals": [
          5,
          15,
          25,
          35,
          45,
          55,
          65,
          75,
          85,
          95,
          105,
          115,
          125,
          135,
          145,
          155,
          165,
          175,
          185,
          195,
          205,
          215,
          225,
          235,
          245,
          255,
          265,
          275,
          285,
          295,
          305,
          315,
          325
         ],
         "type": "linear",
         "zeroline": false
        },
        "yaxis2": {
         "domain": [
          0.85,
          1
         ],
         "showgrid": false,
         "showticklabels": false,
         "zeroline": false
        }
       }
      }
     },
     "metadata": {}
    }
   ],
   "source": [
    "from dash_website.utils.graphs.dendrogram_heatmap import create_dendrogram_heatmap\n",
    "\n",
    "create_dendrogram_heatmap(correlations_2d, number_variables_2d)"
   ]
  }
 ]
}