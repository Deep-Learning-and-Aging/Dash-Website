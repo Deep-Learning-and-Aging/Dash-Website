{
 "cells": [
  {
   "cell_type": "code",
   "execution_count": 1,
   "metadata": {},
   "outputs": [],
   "source": [
    "import pandas as pd \n",
    "\n",
    "information_raw = pd.read_csv(\"../../all_data/page12_AttentionMapsVideos/AttentionMapsVideos/AttentionMaps-samples_Age_Heart_MRI_3chambersRaw.csv\")"
   ]
  },
  {
   "cell_type": "code",
   "execution_count": null,
   "metadata": {},
   "outputs": [],
   "source": [
    "columns_to_take = [\"id\", \"Sex\", \"Age\", \"aing_rate\", \"Pred\", ]"
   ]
  },
  {
   "cell_type": "code",
   "execution_count": 2,
   "metadata": {},
   "outputs": [
    {
     "data": {
      "text/html": "<div>\n<style scoped>\n    .dataframe tbody tr th:only-of-type {\n        vertical-align: middle;\n    }\n\n    .dataframe tbody tr th {\n        vertical-align: top;\n    }\n\n    .dataframe thead th {\n        text-align: right;\n    }\n</style>\n<table border=\"1\" class=\"dataframe\">\n  <thead>\n    <tr style=\"text-align: right;\">\n      <th></th>\n      <th>eid</th>\n      <th>Age</th>\n      <th>Pred</th>\n      <th>outer_fold</th>\n      <th>res</th>\n      <th>Sex</th>\n      <th>Corrected_Age</th>\n      <th>res_abs</th>\n      <th>aging_rate</th>\n      <th>id</th>\n      <th>Chamber</th>\n      <th>age_category</th>\n      <th>Gif</th>\n      <th>Picture</th>\n    </tr>\n  </thead>\n  <tbody>\n    <tr>\n      <th>0</th>\n      <td>2897530</td>\n      <td>75.0</td>\n      <td>63.370400</td>\n      <td>1.0</td>\n      <td>11.629600</td>\n      <td>0.0</td>\n      <td>65.755242</td>\n      <td>11.629600</td>\n      <td>accelerated</td>\n      <td>2897530_2</td>\n      <td>3</td>\n      <td>old</td>\n      <td>/n/groups/patel/JbProst/Heart/ActivationMap/Ag...</td>\n      <td>/n/groups/patel/JbProst/Heart/ActivationMap/Ag...</td>\n    </tr>\n    <tr>\n      <th>1</th>\n      <td>3814357</td>\n      <td>50.0</td>\n      <td>50.027400</td>\n      <td>1.0</td>\n      <td>-0.027400</td>\n      <td>0.0</td>\n      <td>47.820961</td>\n      <td>0.027400</td>\n      <td>normal</td>\n      <td>3814357_2</td>\n      <td>3</td>\n      <td>young</td>\n      <td>/n/groups/patel/JbProst/Heart/ActivationMap/Ag...</td>\n      <td>/n/groups/patel/JbProst/Heart/ActivationMap/Ag...</td>\n    </tr>\n    <tr>\n      <th>2</th>\n      <td>3868508</td>\n      <td>50.0</td>\n      <td>61.405487</td>\n      <td>1.0</td>\n      <td>-11.405487</td>\n      <td>1.0</td>\n      <td>59.199048</td>\n      <td>11.405487</td>\n      <td>decelerated</td>\n      <td>3868508_2</td>\n      <td>3</td>\n      <td>young</td>\n      <td>/n/groups/patel/JbProst/Heart/ActivationMap/Ag...</td>\n      <td>/n/groups/patel/JbProst/Heart/ActivationMap/Ag...</td>\n    </tr>\n    <tr>\n      <th>3</th>\n      <td>5068364</td>\n      <td>75.0</td>\n      <td>74.998990</td>\n      <td>1.0</td>\n      <td>0.001010</td>\n      <td>1.0</td>\n      <td>77.383832</td>\n      <td>0.001010</td>\n      <td>normal</td>\n      <td>5068364_2</td>\n      <td>3</td>\n      <td>old</td>\n      <td>/n/groups/patel/JbProst/Heart/ActivationMap/Ag...</td>\n      <td>/n/groups/patel/JbProst/Heart/ActivationMap/Ag...</td>\n    </tr>\n    <tr>\n      <th>4</th>\n      <td>5807748</td>\n      <td>63.0</td>\n      <td>62.980232</td>\n      <td>3.0</td>\n      <td>0.019768</td>\n      <td>1.0</td>\n      <td>62.560577</td>\n      <td>0.019768</td>\n      <td>normal</td>\n      <td>5807748_2</td>\n      <td>3</td>\n      <td>middle</td>\n      <td>/n/groups/patel/JbProst/Heart/ActivationMap/Ag...</td>\n      <td>/n/groups/patel/JbProst/Heart/ActivationMap/Ag...</td>\n    </tr>\n    <tr>\n      <th>5</th>\n      <td>1540424</td>\n      <td>75.0</td>\n      <td>62.681465</td>\n      <td>4.0</td>\n      <td>12.318535</td>\n      <td>1.0</td>\n      <td>65.066307</td>\n      <td>12.318535</td>\n      <td>accelerated</td>\n      <td>1540424_2</td>\n      <td>3</td>\n      <td>old</td>\n      <td>/n/groups/patel/JbProst/Heart/ActivationMap/Ag...</td>\n      <td>/n/groups/patel/JbProst/Heart/ActivationMap/Ag...</td>\n    </tr>\n    <tr>\n      <th>6</th>\n      <td>3364330</td>\n      <td>50.0</td>\n      <td>46.064790</td>\n      <td>6.0</td>\n      <td>3.935210</td>\n      <td>1.0</td>\n      <td>43.858351</td>\n      <td>3.935210</td>\n      <td>accelerated</td>\n      <td>3364330_2</td>\n      <td>3</td>\n      <td>young</td>\n      <td>/n/groups/patel/JbProst/Heart/ActivationMap/Ag...</td>\n      <td>/n/groups/patel/JbProst/Heart/ActivationMap/Ag...</td>\n    </tr>\n    <tr>\n      <th>7</th>\n      <td>3342811</td>\n      <td>63.0</td>\n      <td>63.001460</td>\n      <td>6.0</td>\n      <td>-0.001460</td>\n      <td>0.0</td>\n      <td>62.581805</td>\n      <td>0.001460</td>\n      <td>normal</td>\n      <td>3342811_2</td>\n      <td>3</td>\n      <td>middle</td>\n      <td>/n/groups/patel/JbProst/Heart/ActivationMap/Ag...</td>\n      <td>/n/groups/patel/JbProst/Heart/ActivationMap/Ag...</td>\n    </tr>\n    <tr>\n      <th>8</th>\n      <td>1243509</td>\n      <td>63.0</td>\n      <td>73.740470</td>\n      <td>7.0</td>\n      <td>-10.740470</td>\n      <td>1.0</td>\n      <td>73.320815</td>\n      <td>10.740470</td>\n      <td>decelerated</td>\n      <td>1243509_2</td>\n      <td>3</td>\n      <td>middle</td>\n      <td>/n/groups/patel/JbProst/Heart/ActivationMap/Ag...</td>\n      <td>/n/groups/patel/JbProst/Heart/ActivationMap/Ag...</td>\n    </tr>\n    <tr>\n      <th>9</th>\n      <td>4999240</td>\n      <td>75.0</td>\n      <td>80.568540</td>\n      <td>7.0</td>\n      <td>-5.568540</td>\n      <td>1.0</td>\n      <td>82.953382</td>\n      <td>5.568540</td>\n      <td>decelerated</td>\n      <td>4999240_2</td>\n      <td>3</td>\n      <td>old</td>\n      <td>/n/groups/patel/JbProst/Heart/ActivationMap/Ag...</td>\n      <td>/n/groups/patel/JbProst/Heart/ActivationMap/Ag...</td>\n    </tr>\n    <tr>\n      <th>10</th>\n      <td>5255033</td>\n      <td>50.0</td>\n      <td>44.660492</td>\n      <td>7.0</td>\n      <td>5.339508</td>\n      <td>0.0</td>\n      <td>42.454053</td>\n      <td>5.339508</td>\n      <td>accelerated</td>\n      <td>5255033_2</td>\n      <td>3</td>\n      <td>young</td>\n      <td>/n/groups/patel/JbProst/Heart/ActivationMap/Ag...</td>\n      <td>/n/groups/patel/JbProst/Heart/ActivationMap/Ag...</td>\n    </tr>\n    <tr>\n      <th>11</th>\n      <td>5321575</td>\n      <td>63.0</td>\n      <td>54.749855</td>\n      <td>7.0</td>\n      <td>8.250145</td>\n      <td>0.0</td>\n      <td>54.330200</td>\n      <td>8.250145</td>\n      <td>accelerated</td>\n      <td>5321575_2</td>\n      <td>3</td>\n      <td>middle</td>\n      <td>/n/groups/patel/JbProst/Heart/ActivationMap/Ag...</td>\n      <td>/n/groups/patel/JbProst/Heart/ActivationMap/Ag...</td>\n    </tr>\n    <tr>\n      <th>12</th>\n      <td>3877652</td>\n      <td>75.0</td>\n      <td>75.000710</td>\n      <td>7.0</td>\n      <td>-0.000710</td>\n      <td>0.0</td>\n      <td>77.385552</td>\n      <td>0.000710</td>\n      <td>normal</td>\n      <td>3877652_2</td>\n      <td>3</td>\n      <td>old</td>\n      <td>/n/groups/patel/JbProst/Heart/ActivationMap/Ag...</td>\n      <td>/n/groups/patel/JbProst/Heart/ActivationMap/Ag...</td>\n    </tr>\n    <tr>\n      <th>13</th>\n      <td>5364841</td>\n      <td>50.0</td>\n      <td>60.917027</td>\n      <td>7.0</td>\n      <td>-10.917027</td>\n      <td>0.0</td>\n      <td>58.710588</td>\n      <td>10.917027</td>\n      <td>decelerated</td>\n      <td>5364841_2</td>\n      <td>3</td>\n      <td>young</td>\n      <td>/n/groups/patel/JbProst/Heart/ActivationMap/Ag...</td>\n      <td>/n/groups/patel/JbProst/Heart/ActivationMap/Ag...</td>\n    </tr>\n    <tr>\n      <th>14</th>\n      <td>3139811</td>\n      <td>63.0</td>\n      <td>53.823627</td>\n      <td>8.0</td>\n      <td>9.176373</td>\n      <td>1.0</td>\n      <td>53.403972</td>\n      <td>9.176373</td>\n      <td>accelerated</td>\n      <td>3139811_2</td>\n      <td>3</td>\n      <td>middle</td>\n      <td>/n/groups/patel/JbProst/Heart/ActivationMap/Ag...</td>\n      <td>/n/groups/patel/JbProst/Heart/ActivationMap/Ag...</td>\n    </tr>\n    <tr>\n      <th>15</th>\n      <td>5460266</td>\n      <td>63.0</td>\n      <td>75.087770</td>\n      <td>9.0</td>\n      <td>-12.087770</td>\n      <td>0.0</td>\n      <td>74.668115</td>\n      <td>12.087770</td>\n      <td>decelerated</td>\n      <td>5460266_2</td>\n      <td>3</td>\n      <td>middle</td>\n      <td>/n/groups/patel/JbProst/Heart/ActivationMap/Ag...</td>\n      <td>/n/groups/patel/JbProst/Heart/ActivationMap/Ag...</td>\n    </tr>\n    <tr>\n      <th>16</th>\n      <td>4715169</td>\n      <td>50.0</td>\n      <td>49.998140</td>\n      <td>9.0</td>\n      <td>0.001860</td>\n      <td>1.0</td>\n      <td>47.791701</td>\n      <td>0.001860</td>\n      <td>normal</td>\n      <td>4715169_2</td>\n      <td>3</td>\n      <td>young</td>\n      <td>/n/groups/patel/JbProst/Heart/ActivationMap/Ag...</td>\n      <td>/n/groups/patel/JbProst/Heart/ActivationMap/Ag...</td>\n    </tr>\n    <tr>\n      <th>17</th>\n      <td>4493407</td>\n      <td>75.0</td>\n      <td>80.045395</td>\n      <td>9.0</td>\n      <td>-5.045395</td>\n      <td>0.0</td>\n      <td>82.430237</td>\n      <td>5.045395</td>\n      <td>decelerated</td>\n      <td>4493407_2</td>\n      <td>3</td>\n      <td>old</td>\n      <td>/n/groups/patel/JbProst/Heart/ActivationMap/Ag...</td>\n      <td>/n/groups/patel/JbProst/Heart/ActivationMap/Ag...</td>\n    </tr>\n  </tbody>\n</table>\n</div>",
      "text/plain": "        eid   Age       Pred  outer_fold        res  Sex  Corrected_Age  \\\n0   2897530  75.0  63.370400         1.0  11.629600  0.0      65.755242   \n1   3814357  50.0  50.027400         1.0  -0.027400  0.0      47.820961   \n2   3868508  50.0  61.405487         1.0 -11.405487  1.0      59.199048   \n3   5068364  75.0  74.998990         1.0   0.001010  1.0      77.383832   \n4   5807748  63.0  62.980232         3.0   0.019768  1.0      62.560577   \n5   1540424  75.0  62.681465         4.0  12.318535  1.0      65.066307   \n6   3364330  50.0  46.064790         6.0   3.935210  1.0      43.858351   \n7   3342811  63.0  63.001460         6.0  -0.001460  0.0      62.581805   \n8   1243509  63.0  73.740470         7.0 -10.740470  1.0      73.320815   \n9   4999240  75.0  80.568540         7.0  -5.568540  1.0      82.953382   \n10  5255033  50.0  44.660492         7.0   5.339508  0.0      42.454053   \n11  5321575  63.0  54.749855         7.0   8.250145  0.0      54.330200   \n12  3877652  75.0  75.000710         7.0  -0.000710  0.0      77.385552   \n13  5364841  50.0  60.917027         7.0 -10.917027  0.0      58.710588   \n14  3139811  63.0  53.823627         8.0   9.176373  1.0      53.403972   \n15  5460266  63.0  75.087770         9.0 -12.087770  0.0      74.668115   \n16  4715169  50.0  49.998140         9.0   0.001860  1.0      47.791701   \n17  4493407  75.0  80.045395         9.0  -5.045395  0.0      82.430237   \n\n      res_abs   aging_rate         id  Chamber age_category  \\\n0   11.629600  accelerated  2897530_2        3          old   \n1    0.027400       normal  3814357_2        3        young   \n2   11.405487  decelerated  3868508_2        3        young   \n3    0.001010       normal  5068364_2        3          old   \n4    0.019768       normal  5807748_2        3       middle   \n5   12.318535  accelerated  1540424_2        3          old   \n6    3.935210  accelerated  3364330_2        3        young   \n7    0.001460       normal  3342811_2        3       middle   \n8   10.740470  decelerated  1243509_2        3       middle   \n9    5.568540  decelerated  4999240_2        3          old   \n10   5.339508  accelerated  5255033_2        3        young   \n11   8.250145  accelerated  5321575_2        3       middle   \n12   0.000710       normal  3877652_2        3          old   \n13  10.917027  decelerated  5364841_2        3        young   \n14   9.176373  accelerated  3139811_2        3       middle   \n15  12.087770  decelerated  5460266_2        3       middle   \n16   0.001860       normal  4715169_2        3        young   \n17   5.045395  decelerated  4493407_2        3          old   \n\n                                                  Gif  \\\n0   /n/groups/patel/JbProst/Heart/ActivationMap/Ag...   \n1   /n/groups/patel/JbProst/Heart/ActivationMap/Ag...   \n2   /n/groups/patel/JbProst/Heart/ActivationMap/Ag...   \n3   /n/groups/patel/JbProst/Heart/ActivationMap/Ag...   \n4   /n/groups/patel/JbProst/Heart/ActivationMap/Ag...   \n5   /n/groups/patel/JbProst/Heart/ActivationMap/Ag...   \n6   /n/groups/patel/JbProst/Heart/ActivationMap/Ag...   \n7   /n/groups/patel/JbProst/Heart/ActivationMap/Ag...   \n8   /n/groups/patel/JbProst/Heart/ActivationMap/Ag...   \n9   /n/groups/patel/JbProst/Heart/ActivationMap/Ag...   \n10  /n/groups/patel/JbProst/Heart/ActivationMap/Ag...   \n11  /n/groups/patel/JbProst/Heart/ActivationMap/Ag...   \n12  /n/groups/patel/JbProst/Heart/ActivationMap/Ag...   \n13  /n/groups/patel/JbProst/Heart/ActivationMap/Ag...   \n14  /n/groups/patel/JbProst/Heart/ActivationMap/Ag...   \n15  /n/groups/patel/JbProst/Heart/ActivationMap/Ag...   \n16  /n/groups/patel/JbProst/Heart/ActivationMap/Ag...   \n17  /n/groups/patel/JbProst/Heart/ActivationMap/Ag...   \n\n                                              Picture  \n0   /n/groups/patel/JbProst/Heart/ActivationMap/Ag...  \n1   /n/groups/patel/JbProst/Heart/ActivationMap/Ag...  \n2   /n/groups/patel/JbProst/Heart/ActivationMap/Ag...  \n3   /n/groups/patel/JbProst/Heart/ActivationMap/Ag...  \n4   /n/groups/patel/JbProst/Heart/ActivationMap/Ag...  \n5   /n/groups/patel/JbProst/Heart/ActivationMap/Ag...  \n6   /n/groups/patel/JbProst/Heart/ActivationMap/Ag...  \n7   /n/groups/patel/JbProst/Heart/ActivationMap/Ag...  \n8   /n/groups/patel/JbProst/Heart/ActivationMap/Ag...  \n9   /n/groups/patel/JbProst/Heart/ActivationMap/Ag...  \n10  /n/groups/patel/JbProst/Heart/ActivationMap/Ag...  \n11  /n/groups/patel/JbProst/Heart/ActivationMap/Ag...  \n12  /n/groups/patel/JbProst/Heart/ActivationMap/Ag...  \n13  /n/groups/patel/JbProst/Heart/ActivationMap/Ag...  \n14  /n/groups/patel/JbProst/Heart/ActivationMap/Ag...  \n15  /n/groups/patel/JbProst/Heart/ActivationMap/Ag...  \n16  /n/groups/patel/JbProst/Heart/ActivationMap/Ag...  \n17  /n/groups/patel/JbProst/Heart/ActivationMap/Ag...  "
     },
     "execution_count": 2,
     "metadata": {},
     "output_type": "execute_result"
    }
   ],
   "source": [
    "information_raw"
   ]
  },
  {
   "cell_type": "code",
   "execution_count": 1,
   "metadata": {},
   "outputs": [],
   "source": [
    "import pandas as pd \n",
    "\n",
    "information_old = pd.read_csv(\"../../all_data/page9_AttentionMaps/Attention_maps_infos/AttentionMaps-samples_Age_Abdomen_Liver_Contrast.csv\")\n"
   ]
  },
  {
   "cell_type": "code",
   "execution_count": 8,
   "metadata": {},
   "outputs": [
    {
     "data": {
      "text/html": "<div>\n<style scoped>\n    .dataframe tbody tr th:only-of-type {\n        vertical-align: middle;\n    }\n\n    .dataframe tbody tr th {\n        vertical-align: top;\n    }\n\n    .dataframe thead th {\n        text-align: right;\n    }\n</style>\n<table border=\"1\" class=\"dataframe\">\n  <thead>\n    <tr style=\"text-align: right;\">\n      <th></th>\n      <th>Age</th>\n      <th>res</th>\n      <th>Biological_Age</th>\n      <th>aging_rate</th>\n    </tr>\n  </thead>\n  <tbody>\n    <tr>\n      <th>0</th>\n      <td>46.773440</td>\n      <td>-15.507523</td>\n      <td>62.280963</td>\n      <td>accelerated</td>\n    </tr>\n    <tr>\n      <th>1</th>\n      <td>49.166325</td>\n      <td>-13.947516</td>\n      <td>63.113841</td>\n      <td>accelerated</td>\n    </tr>\n    <tr>\n      <th>2</th>\n      <td>49.407257</td>\n      <td>-13.858612</td>\n      <td>63.265869</td>\n      <td>accelerated</td>\n    </tr>\n    <tr>\n      <th>3</th>\n      <td>50.809036</td>\n      <td>-13.524715</td>\n      <td>64.333751</td>\n      <td>accelerated</td>\n    </tr>\n    <tr>\n      <th>4</th>\n      <td>53.845310</td>\n      <td>-13.494328</td>\n      <td>67.339638</td>\n      <td>accelerated</td>\n    </tr>\n    <tr>\n      <th>...</th>\n      <td>...</td>\n      <td>...</td>\n      <td>...</td>\n      <td>...</td>\n    </tr>\n    <tr>\n      <th>175</th>\n      <td>80.065710</td>\n      <td>12.202661</td>\n      <td>67.863049</td>\n      <td>decelerated</td>\n    </tr>\n    <tr>\n      <th>176</th>\n      <td>73.812454</td>\n      <td>11.588043</td>\n      <td>62.224411</td>\n      <td>decelerated</td>\n    </tr>\n    <tr>\n      <th>177</th>\n      <td>76.210815</td>\n      <td>11.447093</td>\n      <td>64.763722</td>\n      <td>decelerated</td>\n    </tr>\n    <tr>\n      <th>178</th>\n      <td>72.963720</td>\n      <td>11.099633</td>\n      <td>61.864087</td>\n      <td>decelerated</td>\n    </tr>\n    <tr>\n      <th>179</th>\n      <td>75.778240</td>\n      <td>11.042635</td>\n      <td>64.735605</td>\n      <td>decelerated</td>\n    </tr>\n  </tbody>\n</table>\n<p>180 rows × 4 columns</p>\n</div>",
      "text/plain": "           Age        res  Biological_Age   aging_rate\n0    46.773440 -15.507523       62.280963  accelerated\n1    49.166325 -13.947516       63.113841  accelerated\n2    49.407257 -13.858612       63.265869  accelerated\n3    50.809036 -13.524715       64.333751  accelerated\n4    53.845310 -13.494328       67.339638  accelerated\n..         ...        ...             ...          ...\n175  80.065710  12.202661       67.863049  decelerated\n176  73.812454  11.588043       62.224411  decelerated\n177  76.210815  11.447093       64.763722  decelerated\n178  72.963720  11.099633       61.864087  decelerated\n179  75.778240  11.042635       64.735605  decelerated\n\n[180 rows x 4 columns]"
     },
     "execution_count": 8,
     "metadata": {},
     "output_type": "execute_result"
    }
   ],
   "source": [
    "information_old[[\"Age\", \"res\", \"Biological_Age\", \"aging_rate\"]]"
   ]
  },
  {
   "cell_type": "code",
   "execution_count": null,
   "metadata": {},
   "outputs": [],
   "source": []
  }
 ],
 "metadata": {
  "kernelspec": {
   "display_name": "Python 3.8.5 64-bit ('env_website')",
   "name": "python385jvsc74a57bd090a2d2112265369b3cee75b3d17fea5658357118066bfd7e04cfa35ff7dbfd52"
  },
  "language_info": {
   "codemirror_mode": {
    "name": "ipython",
    "version": 3
   },
   "file_extension": ".py",
   "mimetype": "text/x-python",
   "name": "python",
   "nbconvert_exporter": "python",
   "pygments_lexer": "ipython3",
   "version": "3.8.5"
  },
  "orig_nbformat": 2
 },
 "nbformat": 4,
 "nbformat_minor": 2
}