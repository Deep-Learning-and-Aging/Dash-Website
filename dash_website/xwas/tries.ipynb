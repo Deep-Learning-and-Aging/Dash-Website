{
 "metadata": {
  "language_info": {
   "codemirror_mode": {
    "name": "ipython",
    "version": 3
   },
   "file_extension": ".py",
   "mimetype": "text/x-python",
   "name": "python",
   "nbconvert_exporter": "python",
   "pygments_lexer": "ipython3",
   "version": "3.7.7-final"
  },
  "orig_nbformat": 2,
  "kernelspec": {
   "name": "python377jvsc74a57bd0c11bf2a122358a257f4887e4656fd266c9212bc31c6d2fa50cb5fb4a0c5b9dd8",
   "display_name": "Python 3.7.7 64-bit ('env_website')"
  }
 },
 "nbformat": 4,
 "nbformat_minor": 2,
 "cells": [
  {
   "cell_type": "code",
   "execution_count": 13,
   "metadata": {},
   "outputs": [
    {
     "output_type": "execute_result",
     "data": {
      "text/plain": [
       "                   dimension              category  \\\n",
       "0                        set               Alcohol   \n",
       "1            set_instances01               Alcohol   \n",
       "2          set_instances1.5x               Alcohol   \n",
       "3            set_instances23               Alcohol   \n",
       "4                    Abdomen               Alcohol   \n",
       "...                      ...                   ...   \n",
       "1843     MusculoskeletalHips  CognitiveTrailMaking   \n",
       "1844    MusculoskeletalKnees  CognitiveTrailMaking   \n",
       "1845  MusculoskeletalScalars  CognitiveTrailMaking   \n",
       "1846    MusculoskeletalSpine  CognitiveTrailMaking   \n",
       "1847        PhysicalActivity  CognitiveTrailMaking   \n",
       "\n",
       "      ('elastic_net', 'pearson')  ('elastic_net', 'spearman')  \\\n",
       "0                       0.505619                     0.320144   \n",
       "1                       0.487168                     0.207935   \n",
       "2                       0.503138                     0.340573   \n",
       "3                       0.610045                     0.610121   \n",
       "4                       1.000000                     1.000000   \n",
       "...                          ...                          ...   \n",
       "1843                    0.890584                     0.827388   \n",
       "1844                    0.837419                     0.665737   \n",
       "1845                    0.731772                     0.421674   \n",
       "1846                    0.767749                     0.842550   \n",
       "1847                    0.729586                     0.704742   \n",
       "\n",
       "      ('elastic_net', 'number_features')  ('light_gbm', 'pearson')  \\\n",
       "0                                     41                  0.865277   \n",
       "1                                     41                  0.950970   \n",
       "2                                     41                  0.898022   \n",
       "3                                     41                  0.907235   \n",
       "4                                     41                  1.000000   \n",
       "...                                  ...                       ...   \n",
       "1843                                  30                  0.968989   \n",
       "1844                                  30                  0.978516   \n",
       "1845                                  30                  0.775086   \n",
       "1846                                  30                  0.985623   \n",
       "1847                                  30                  0.969555   \n",
       "\n",
       "      ('light_gbm', 'spearman')  ('light_gbm', 'number_features')  \\\n",
       "0                      0.893658                                41   \n",
       "1                      0.871965                                41   \n",
       "2                      0.882723                                41   \n",
       "3                      0.707418                                41   \n",
       "4                      1.000000                                41   \n",
       "...                         ...                               ...   \n",
       "1843                   0.950223                                30   \n",
       "1844                   0.932871                                30   \n",
       "1845                   0.880451                                30   \n",
       "1846                   0.889688                                30   \n",
       "1847                   0.889688                                30   \n",
       "\n",
       "      ('neural_network', 'pearson')  ('neural_network', 'spearman')  \\\n",
       "0                          0.740531                        0.520906   \n",
       "1                          0.755262                        0.500958   \n",
       "2                          0.748696                        0.667422   \n",
       "3                          0.443712                        0.336383   \n",
       "4                          1.000000                        1.000000   \n",
       "...                             ...                             ...   \n",
       "1843                       0.950749                        0.596440   \n",
       "1844                       0.985495                        0.493215   \n",
       "1845                       0.148316                        0.414905   \n",
       "1846                       0.898299                        0.581758   \n",
       "1847                       0.745980                        0.632773   \n",
       "\n",
       "      ('neural_network', 'number_features')  \n",
       "0                                        41  \n",
       "1                                        41  \n",
       "2                                        41  \n",
       "3                                        41  \n",
       "4                                        41  \n",
       "...                                     ...  \n",
       "1843                                     30  \n",
       "1844                                     30  \n",
       "1845                                     30  \n",
       "1846                                     30  \n",
       "1847                                     30  \n",
       "\n",
       "[1848 rows x 11 columns]"
      ],
      "text/html": "<div>\n<style scoped>\n    .dataframe tbody tr th:only-of-type {\n        vertical-align: middle;\n    }\n\n    .dataframe tbody tr th {\n        vertical-align: top;\n    }\n\n    .dataframe thead th {\n        text-align: right;\n    }\n</style>\n<table border=\"1\" class=\"dataframe\">\n  <thead>\n    <tr style=\"text-align: right;\">\n      <th></th>\n      <th>dimension</th>\n      <th>category</th>\n      <th>('elastic_net', 'pearson')</th>\n      <th>('elastic_net', 'spearman')</th>\n      <th>('elastic_net', 'number_features')</th>\n      <th>('light_gbm', 'pearson')</th>\n      <th>('light_gbm', 'spearman')</th>\n      <th>('light_gbm', 'number_features')</th>\n      <th>('neural_network', 'pearson')</th>\n      <th>('neural_network', 'spearman')</th>\n      <th>('neural_network', 'number_features')</th>\n    </tr>\n  </thead>\n  <tbody>\n    <tr>\n      <th>0</th>\n      <td>set</td>\n      <td>Alcohol</td>\n      <td>0.505619</td>\n      <td>0.320144</td>\n      <td>41</td>\n      <td>0.865277</td>\n      <td>0.893658</td>\n      <td>41</td>\n      <td>0.740531</td>\n      <td>0.520906</td>\n      <td>41</td>\n    </tr>\n    <tr>\n      <th>1</th>\n      <td>set_instances01</td>\n      <td>Alcohol</td>\n      <td>0.487168</td>\n      <td>0.207935</td>\n      <td>41</td>\n      <td>0.950970</td>\n      <td>0.871965</td>\n      <td>41</td>\n      <td>0.755262</td>\n      <td>0.500958</td>\n      <td>41</td>\n    </tr>\n    <tr>\n      <th>2</th>\n      <td>set_instances1.5x</td>\n      <td>Alcohol</td>\n      <td>0.503138</td>\n      <td>0.340573</td>\n      <td>41</td>\n      <td>0.898022</td>\n      <td>0.882723</td>\n      <td>41</td>\n      <td>0.748696</td>\n      <td>0.667422</td>\n      <td>41</td>\n    </tr>\n    <tr>\n      <th>3</th>\n      <td>set_instances23</td>\n      <td>Alcohol</td>\n      <td>0.610045</td>\n      <td>0.610121</td>\n      <td>41</td>\n      <td>0.907235</td>\n      <td>0.707418</td>\n      <td>41</td>\n      <td>0.443712</td>\n      <td>0.336383</td>\n      <td>41</td>\n    </tr>\n    <tr>\n      <th>4</th>\n      <td>Abdomen</td>\n      <td>Alcohol</td>\n      <td>1.000000</td>\n      <td>1.000000</td>\n      <td>41</td>\n      <td>1.000000</td>\n      <td>1.000000</td>\n      <td>41</td>\n      <td>1.000000</td>\n      <td>1.000000</td>\n      <td>41</td>\n    </tr>\n    <tr>\n      <th>...</th>\n      <td>...</td>\n      <td>...</td>\n      <td>...</td>\n      <td>...</td>\n      <td>...</td>\n      <td>...</td>\n      <td>...</td>\n      <td>...</td>\n      <td>...</td>\n      <td>...</td>\n      <td>...</td>\n    </tr>\n    <tr>\n      <th>1843</th>\n      <td>MusculoskeletalHips</td>\n      <td>CognitiveTrailMaking</td>\n      <td>0.890584</td>\n      <td>0.827388</td>\n      <td>30</td>\n      <td>0.968989</td>\n      <td>0.950223</td>\n      <td>30</td>\n      <td>0.950749</td>\n      <td>0.596440</td>\n      <td>30</td>\n    </tr>\n    <tr>\n      <th>1844</th>\n      <td>MusculoskeletalKnees</td>\n      <td>CognitiveTrailMaking</td>\n      <td>0.837419</td>\n      <td>0.665737</td>\n      <td>30</td>\n      <td>0.978516</td>\n      <td>0.932871</td>\n      <td>30</td>\n      <td>0.985495</td>\n      <td>0.493215</td>\n      <td>30</td>\n    </tr>\n    <tr>\n      <th>1845</th>\n      <td>MusculoskeletalScalars</td>\n      <td>CognitiveTrailMaking</td>\n      <td>0.731772</td>\n      <td>0.421674</td>\n      <td>30</td>\n      <td>0.775086</td>\n      <td>0.880451</td>\n      <td>30</td>\n      <td>0.148316</td>\n      <td>0.414905</td>\n      <td>30</td>\n    </tr>\n    <tr>\n      <th>1846</th>\n      <td>MusculoskeletalSpine</td>\n      <td>CognitiveTrailMaking</td>\n      <td>0.767749</td>\n      <td>0.842550</td>\n      <td>30</td>\n      <td>0.985623</td>\n      <td>0.889688</td>\n      <td>30</td>\n      <td>0.898299</td>\n      <td>0.581758</td>\n      <td>30</td>\n    </tr>\n    <tr>\n      <th>1847</th>\n      <td>PhysicalActivity</td>\n      <td>CognitiveTrailMaking</td>\n      <td>0.729586</td>\n      <td>0.704742</td>\n      <td>30</td>\n      <td>0.969555</td>\n      <td>0.889688</td>\n      <td>30</td>\n      <td>0.745980</td>\n      <td>0.632773</td>\n      <td>30</td>\n    </tr>\n  </tbody>\n</table>\n<p>1848 rows × 11 columns</p>\n</div>"
     },
     "metadata": {},
     "execution_count": 13
    }
   ],
   "source": [
    "import pandas as pd\n",
    "\n",
    "data_dimension = pd.read_feather(\"../../data/xwas/multivariate_correlations/correlations/dimensions/correlations_Abdomen.feather\")\n",
    "data_dimension"
   ]
  },
  {
   "cell_type": "code",
   "execution_count": 5,
   "metadata": {},
   "outputs": [
    {
     "output_type": "execute_result",
     "data": {
      "text/plain": [
       "{'elastic_net': 'Elastic Net',\n",
       " 'light_gbm': 'Light GBM',\n",
       " 'neural_network': 'Neural Network'}"
      ]
     },
     "metadata": {},
     "execution_count": 5
    }
   ],
   "source": [
    "from dash_website import DIMENSIONS, RENAME_DIMENSIONS, ALGORITHMS_RENDERING\n",
    "\n",
    "if \"best_algorithm\" in ALGORITHMS_RENDERING.keys(): \n",
    "    ALGORITHMS_RENDERING.pop(\"best_algorithm\")\n",
    "ALGORITHMS_RENDERING"
   ]
  }
 ]
}