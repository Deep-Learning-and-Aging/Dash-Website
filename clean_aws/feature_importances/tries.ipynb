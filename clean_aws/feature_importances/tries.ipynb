{
 "cells": [
  {
   "cell_type": "code",
   "execution_count": 90,
   "metadata": {},
   "outputs": [],
   "source": [
    "import pandas as pd \n",
    "\n",
    "COLUMNS_TO_TAKE = {\n",
    "    \"id\": \"id\",\n",
    "    \"Sex\": \"sex\",\n",
    "    \"age_category\": \"age_range\",\n",
    "    \"aging_rate\": \"aging_rate\",\n",
    "    \"Age\": \"chronological_age\",\n",
    "    \"Pred\": \"biological_age\",\n",
    "}\n",
    "\n",
    "list_information = []\n",
    "\n",
    "for chamber in [3, 4]:\n",
    "    information_raw = pd.read_csv(\n",
    "        f\"../../all_data/page12_AttentionMapsVideos/AttentionMapsVideos/AttentionMaps-samples_Age_Heart_MRI_{chamber}chambersRaw.csv\"\n",
    "    )\n",
    "\n",
    "    information = information_raw[COLUMNS_TO_TAKE].rename(columns=COLUMNS_TO_TAKE)\n",
    "    information[\"chamber\"] = chamber\n",
    "    information[\"sex\"].replace({0.0: \"female\", 1.0: \"male\"}, inplace=True)\n",
    "\n",
    "    list_information.append(information)\n"
   ]
  },
  {
   "cell_type": "code",
   "execution_count": 91,
   "metadata": {},
   "outputs": [
    {
     "data": {
      "text/html": "<div>\n<style scoped>\n    .dataframe tbody tr th:only-of-type {\n        vertical-align: middle;\n    }\n\n    .dataframe tbody tr th {\n        vertical-align: top;\n    }\n\n    .dataframe thead th {\n        text-align: right;\n    }\n</style>\n<table border=\"1\" class=\"dataframe\">\n  <thead>\n    <tr style=\"text-align: right;\">\n      <th></th>\n      <th>id</th>\n      <th>sex</th>\n      <th>age_range</th>\n      <th>aging_rate</th>\n      <th>chronological_age</th>\n      <th>biological_age</th>\n      <th>chamber</th>\n    </tr>\n  </thead>\n  <tbody>\n    <tr>\n      <th>0</th>\n      <td>2897530_2</td>\n      <td>female</td>\n      <td>old</td>\n      <td>accelerated</td>\n      <td>75.0</td>\n      <td>63.370400</td>\n      <td>3</td>\n    </tr>\n    <tr>\n      <th>1</th>\n      <td>3814357_2</td>\n      <td>female</td>\n      <td>young</td>\n      <td>normal</td>\n      <td>50.0</td>\n      <td>50.027400</td>\n      <td>3</td>\n    </tr>\n    <tr>\n      <th>2</th>\n      <td>3868508_2</td>\n      <td>male</td>\n      <td>young</td>\n      <td>decelerated</td>\n      <td>50.0</td>\n      <td>61.405487</td>\n      <td>3</td>\n    </tr>\n    <tr>\n      <th>3</th>\n      <td>5068364_2</td>\n      <td>male</td>\n      <td>old</td>\n      <td>normal</td>\n      <td>75.0</td>\n      <td>74.998990</td>\n      <td>3</td>\n    </tr>\n    <tr>\n      <th>4</th>\n      <td>5807748_2</td>\n      <td>male</td>\n      <td>middle</td>\n      <td>normal</td>\n      <td>63.0</td>\n      <td>62.980232</td>\n      <td>3</td>\n    </tr>\n    <tr>\n      <th>5</th>\n      <td>1540424_2</td>\n      <td>male</td>\n      <td>old</td>\n      <td>accelerated</td>\n      <td>75.0</td>\n      <td>62.681465</td>\n      <td>3</td>\n    </tr>\n    <tr>\n      <th>6</th>\n      <td>3364330_2</td>\n      <td>male</td>\n      <td>young</td>\n      <td>accelerated</td>\n      <td>50.0</td>\n      <td>46.064790</td>\n      <td>3</td>\n    </tr>\n    <tr>\n      <th>7</th>\n      <td>3342811_2</td>\n      <td>female</td>\n      <td>middle</td>\n      <td>normal</td>\n      <td>63.0</td>\n      <td>63.001460</td>\n      <td>3</td>\n    </tr>\n    <tr>\n      <th>8</th>\n      <td>1243509_2</td>\n      <td>male</td>\n      <td>middle</td>\n      <td>decelerated</td>\n      <td>63.0</td>\n      <td>73.740470</td>\n      <td>3</td>\n    </tr>\n    <tr>\n      <th>9</th>\n      <td>4999240_2</td>\n      <td>male</td>\n      <td>old</td>\n      <td>decelerated</td>\n      <td>75.0</td>\n      <td>80.568540</td>\n      <td>3</td>\n    </tr>\n    <tr>\n      <th>10</th>\n      <td>5255033_2</td>\n      <td>female</td>\n      <td>young</td>\n      <td>accelerated</td>\n      <td>50.0</td>\n      <td>44.660492</td>\n      <td>3</td>\n    </tr>\n    <tr>\n      <th>11</th>\n      <td>5321575_2</td>\n      <td>female</td>\n      <td>middle</td>\n      <td>accelerated</td>\n      <td>63.0</td>\n      <td>54.749855</td>\n      <td>3</td>\n    </tr>\n    <tr>\n      <th>12</th>\n      <td>3877652_2</td>\n      <td>female</td>\n      <td>old</td>\n      <td>normal</td>\n      <td>75.0</td>\n      <td>75.000710</td>\n      <td>3</td>\n    </tr>\n    <tr>\n      <th>13</th>\n      <td>5364841_2</td>\n      <td>female</td>\n      <td>young</td>\n      <td>decelerated</td>\n      <td>50.0</td>\n      <td>60.917027</td>\n      <td>3</td>\n    </tr>\n    <tr>\n      <th>14</th>\n      <td>3139811_2</td>\n      <td>male</td>\n      <td>middle</td>\n      <td>accelerated</td>\n      <td>63.0</td>\n      <td>53.823627</td>\n      <td>3</td>\n    </tr>\n    <tr>\n      <th>15</th>\n      <td>5460266_2</td>\n      <td>female</td>\n      <td>middle</td>\n      <td>decelerated</td>\n      <td>63.0</td>\n      <td>75.087770</td>\n      <td>3</td>\n    </tr>\n    <tr>\n      <th>16</th>\n      <td>4715169_2</td>\n      <td>male</td>\n      <td>young</td>\n      <td>normal</td>\n      <td>50.0</td>\n      <td>49.998140</td>\n      <td>3</td>\n    </tr>\n    <tr>\n      <th>17</th>\n      <td>4493407_2</td>\n      <td>female</td>\n      <td>old</td>\n      <td>decelerated</td>\n      <td>75.0</td>\n      <td>80.045395</td>\n      <td>3</td>\n    </tr>\n    <tr>\n      <th>0</th>\n      <td>3795728_2</td>\n      <td>male</td>\n      <td>old</td>\n      <td>decelerated</td>\n      <td>75.0</td>\n      <td>79.129684</td>\n      <td>4</td>\n    </tr>\n    <tr>\n      <th>1</th>\n      <td>5154910_2</td>\n      <td>male</td>\n      <td>old</td>\n      <td>normal</td>\n      <td>75.0</td>\n      <td>74.988950</td>\n      <td>4</td>\n    </tr>\n    <tr>\n      <th>2</th>\n      <td>1129551_3</td>\n      <td>female</td>\n      <td>middle</td>\n      <td>decelerated</td>\n      <td>63.0</td>\n      <td>73.248640</td>\n      <td>4</td>\n    </tr>\n    <tr>\n      <th>3</th>\n      <td>2538507_2</td>\n      <td>female</td>\n      <td>middle</td>\n      <td>accelerated</td>\n      <td>63.0</td>\n      <td>52.817608</td>\n      <td>4</td>\n    </tr>\n    <tr>\n      <th>4</th>\n      <td>5012756_2</td>\n      <td>male</td>\n      <td>young</td>\n      <td>accelerated</td>\n      <td>50.0</td>\n      <td>45.469826</td>\n      <td>4</td>\n    </tr>\n    <tr>\n      <th>5</th>\n      <td>2182630_2</td>\n      <td>male</td>\n      <td>young</td>\n      <td>decelerated</td>\n      <td>50.0</td>\n      <td>61.553864</td>\n      <td>4</td>\n    </tr>\n    <tr>\n      <th>6</th>\n      <td>5896457_2</td>\n      <td>male</td>\n      <td>middle</td>\n      <td>decelerated</td>\n      <td>63.0</td>\n      <td>73.963670</td>\n      <td>4</td>\n    </tr>\n    <tr>\n      <th>7</th>\n      <td>5833126_2</td>\n      <td>female</td>\n      <td>young</td>\n      <td>normal</td>\n      <td>50.0</td>\n      <td>49.992180</td>\n      <td>4</td>\n    </tr>\n    <tr>\n      <th>8</th>\n      <td>4513956_2</td>\n      <td>male</td>\n      <td>middle</td>\n      <td>normal</td>\n      <td>63.0</td>\n      <td>63.002296</td>\n      <td>4</td>\n    </tr>\n    <tr>\n      <th>9</th>\n      <td>2360812_2</td>\n      <td>male</td>\n      <td>middle</td>\n      <td>accelerated</td>\n      <td>63.0</td>\n      <td>53.902428</td>\n      <td>4</td>\n    </tr>\n    <tr>\n      <th>10</th>\n      <td>4043819_2</td>\n      <td>male</td>\n      <td>old</td>\n      <td>accelerated</td>\n      <td>75.0</td>\n      <td>63.618732</td>\n      <td>4</td>\n    </tr>\n    <tr>\n      <th>11</th>\n      <td>3859718_2</td>\n      <td>female</td>\n      <td>middle</td>\n      <td>normal</td>\n      <td>63.0</td>\n      <td>63.007423</td>\n      <td>4</td>\n    </tr>\n    <tr>\n      <th>12</th>\n      <td>2353796_2</td>\n      <td>female</td>\n      <td>old</td>\n      <td>accelerated</td>\n      <td>75.0</td>\n      <td>63.064404</td>\n      <td>4</td>\n    </tr>\n    <tr>\n      <th>13</th>\n      <td>1272682_2</td>\n      <td>female</td>\n      <td>old</td>\n      <td>decelerated</td>\n      <td>75.0</td>\n      <td>78.830990</td>\n      <td>4</td>\n    </tr>\n    <tr>\n      <th>14</th>\n      <td>2299165_2</td>\n      <td>female</td>\n      <td>old</td>\n      <td>normal</td>\n      <td>75.0</td>\n      <td>74.999120</td>\n      <td>4</td>\n    </tr>\n    <tr>\n      <th>15</th>\n      <td>5255033_2</td>\n      <td>female</td>\n      <td>young</td>\n      <td>accelerated</td>\n      <td>50.0</td>\n      <td>43.423115</td>\n      <td>4</td>\n    </tr>\n    <tr>\n      <th>16</th>\n      <td>5450310_2</td>\n      <td>female</td>\n      <td>young</td>\n      <td>decelerated</td>\n      <td>50.0</td>\n      <td>60.981280</td>\n      <td>4</td>\n    </tr>\n    <tr>\n      <th>17</th>\n      <td>2644877_2</td>\n      <td>male</td>\n      <td>young</td>\n      <td>normal</td>\n      <td>50.0</td>\n      <td>49.988087</td>\n      <td>4</td>\n    </tr>\n  </tbody>\n</table>\n</div>",
      "text/plain": "           id     sex age_range   aging_rate  chronological_age  \\\n0   2897530_2  female       old  accelerated               75.0   \n1   3814357_2  female     young       normal               50.0   \n2   3868508_2    male     young  decelerated               50.0   \n3   5068364_2    male       old       normal               75.0   \n4   5807748_2    male    middle       normal               63.0   \n5   1540424_2    male       old  accelerated               75.0   \n6   3364330_2    male     young  accelerated               50.0   \n7   3342811_2  female    middle       normal               63.0   \n8   1243509_2    male    middle  decelerated               63.0   \n9   4999240_2    male       old  decelerated               75.0   \n10  5255033_2  female     young  accelerated               50.0   \n11  5321575_2  female    middle  accelerated               63.0   \n12  3877652_2  female       old       normal               75.0   \n13  5364841_2  female     young  decelerated               50.0   \n14  3139811_2    male    middle  accelerated               63.0   \n15  5460266_2  female    middle  decelerated               63.0   \n16  4715169_2    male     young       normal               50.0   \n17  4493407_2  female       old  decelerated               75.0   \n0   3795728_2    male       old  decelerated               75.0   \n1   5154910_2    male       old       normal               75.0   \n2   1129551_3  female    middle  decelerated               63.0   \n3   2538507_2  female    middle  accelerated               63.0   \n4   5012756_2    male     young  accelerated               50.0   \n5   2182630_2    male     young  decelerated               50.0   \n6   5896457_2    male    middle  decelerated               63.0   \n7   5833126_2  female     young       normal               50.0   \n8   4513956_2    male    middle       normal               63.0   \n9   2360812_2    male    middle  accelerated               63.0   \n10  4043819_2    male       old  accelerated               75.0   \n11  3859718_2  female    middle       normal               63.0   \n12  2353796_2  female       old  accelerated               75.0   \n13  1272682_2  female       old  decelerated               75.0   \n14  2299165_2  female       old       normal               75.0   \n15  5255033_2  female     young  accelerated               50.0   \n16  5450310_2  female     young  decelerated               50.0   \n17  2644877_2    male     young       normal               50.0   \n\n    biological_age  chamber  \n0        63.370400        3  \n1        50.027400        3  \n2        61.405487        3  \n3        74.998990        3  \n4        62.980232        3  \n5        62.681465        3  \n6        46.064790        3  \n7        63.001460        3  \n8        73.740470        3  \n9        80.568540        3  \n10       44.660492        3  \n11       54.749855        3  \n12       75.000710        3  \n13       60.917027        3  \n14       53.823627        3  \n15       75.087770        3  \n16       49.998140        3  \n17       80.045395        3  \n0        79.129684        4  \n1        74.988950        4  \n2        73.248640        4  \n3        52.817608        4  \n4        45.469826        4  \n5        61.553864        4  \n6        73.963670        4  \n7        49.992180        4  \n8        63.002296        4  \n9        53.902428        4  \n10       63.618732        4  \n11       63.007423        4  \n12       63.064404        4  \n13       78.830990        4  \n14       74.999120        4  \n15       43.423115        4  \n16       60.981280        4  \n17       49.988087        4  "
     },
     "execution_count": 91,
     "metadata": {},
     "output_type": "execute_result"
    }
   ],
   "source": [
    "pd.concat(list_information)"
   ]
  }
 ],
 "metadata": {
  "kernelspec": {
   "display_name": "Python 3.8.5  ('env_website': venv)",
   "name": "pythonjvsc74a57bd090a2d2112265369b3cee75b3d17fea5658357118066bfd7e04cfa35ff7dbfd52"
  },
  "language_info": {
   "codemirror_mode": {
    "name": "ipython",
    "version": 3
   },
   "file_extension": ".py",
   "mimetype": "text/x-python",
   "name": "python",
   "nbconvert_exporter": "python",
   "pygments_lexer": "ipython3",
   "version": "3.8.5"
  },
  "metadata": {
   "interpreter": {
    "hash": "90a2d2112265369b3cee75b3d17fea5658357118066bfd7e04cfa35ff7dbfd52"
   }
  },
  "orig_nbformat": 2
 },
 "nbformat": 4,
 "nbformat_minor": 2
}