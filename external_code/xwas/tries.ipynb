{
 "metadata": {
  "language_info": {
   "codemirror_mode": {
    "name": "ipython",
    "version": 3
   },
   "file_extension": ".py",
   "mimetype": "text/x-python",
   "name": "python",
   "nbconvert_exporter": "python",
   "pygments_lexer": "ipython3",
   "version": "3.7.7-final"
  },
  "orig_nbformat": 2,
  "kernelspec": {
   "name": "python377jvsc74a57bd0c11bf2a122358a257f4887e4656fd266c9212bc31c6d2fa50cb5fb4a0c5b9dd8",
   "display_name": "Python 3.7.7 64-bit ('env_website')"
  }
 },
 "nbformat": 4,
 "nbformat_minor": 2,
 "cells": [
  {
   "cell_type": "code",
   "execution_count": 54,
   "metadata": {},
   "outputs": [],
   "source": [
    "import pandas as pd \n",
    "from dash_website import DIMENSIONS\n",
    "\n",
    "warp_linear_correlations = []\n",
    "for dimension in DIMENSIONS:\n",
    "    linear_correlations_dimension = pd.read_feather(f\"../../data/xwas/univariate_results/linear_correlations_{dimension}.feather\")\n",
    "    linear_correlations_dimension[\"dimension\"] = dimension\n",
    "\n",
    "    warp_linear_correlations.append(linear_correlations_dimension)\n",
    "\n",
    "pd.concat(warp_linear_correlations).reset_index(drop=True).to_feather(\"../../data/xwas/univariate_results/linear_correlations.feather\")"
   ]
  },
  {
   "cell_type": "code",
   "execution_count": 66,
   "metadata": {},
   "outputs": [],
   "source": [
    "import pandas as pd \n",
    "from dash_website import DIMENSIONS\n",
    "\n",
    "DICT_TO_CHANGE_DIMENSIONS = {\"ImmuneSystem\": \"BloodCells\"}\n",
    "DICT_TO_CHANGE_CATEGORIES = {\n",
    "    \"HeartSize\": \"HeartFunction\",\n",
    "    \"AnthropometryImpedance\": \"Impedance\",\n",
    "    \"AnthropometryBodySize\": \"Anthropometry\",\n",
    "    # Main categories\n",
    "    \"All_Phenotypes\": \"All_ClinicalPhenotypes\"\n",
    "}\n",
    "\n",
    "\n",
    "linear_correlations = pd.read_feather(\"../../data/xwas/univariate_results/linear_correlations.feather\")\n",
    "\n",
    "linear_correlations_cleaned_dimensions = linear_correlations.set_index([\"dimension\", \"category\"]).rename(index=DICT_TO_CHANGE_DIMENSIONS, level=\"dimension\")\n",
    "linear_correlations_cleaned = linear_correlations_cleaned_dimensions.rename(index=DICT_TO_CHANGE_CATEGORIES, level=\"category\")\n",
    "linear_correlations_cleaned.reset_index().to_feather(\"../../data/xwas/univariate_results/linear_correlations.feather\")\n",
    "\n",
    "for dimension in DIMENSIONS:\n",
    "    if dimension in DICT_TO_CHANGE_DIMENSIONS.keys():\n",
    "        dimension = DICT_TO_CHANGE_DIMENSIONS[dimension]\n",
    "    linear_correlations_cleaned.loc[dimension].reset_index().to_feather(f\"../../data/xwas/univariate_results/linear_correlations_{dimension}.feather\")"
   ]
  },
  {
   "cell_type": "code",
   "execution_count": 49,
   "metadata": {},
   "outputs": [],
   "source": [
    "import pandas as pd \n",
    "from dash_website import DIMENSIONS\n",
    "\n",
    "\n",
    "DICT_TO_CHANGE_DIMENSIONS = {\"ImmuneSystem\": \"BloodCells\"}\n",
    "DICT_TO_CHANGE_CATEGORIES = {\n",
    "    \"HeartSize\": \"HeartFunction\",\n",
    "    \"AnthropometryImpedance\": \"Impedance\",\n",
    "    \"AnthropometryBodySize\": \"Anthropometry\",\n",
    "    # Main categories\n",
    "    \"All_Phenotypes\": \"All_ClinicalPhenotypes\"\n",
    "}\n",
    "\n",
    "\n",
    "summary = pd.read_feather(\"../../data/xwas/univariate_results/summary.feather\")\n",
    "summary_cleaned_dimensions = summary.set_index([\"dimension\", \"category\"]).rename(index=DICT_TO_CHANGE_DIMENSIONS, level=\"dimension\")\n",
    "summary_cleaned = summary_cleaned_dimensions.rename(index=DICT_TO_CHANGE_CATEGORIES, level=\"category\")\n",
    "summary_cleaned.reset_index().to_feather(\"../../data/xwas/univariate_results/summary.feather\")"
   ]
  },
  {
   "cell_type": "code",
   "execution_count": 1,
   "metadata": {},
   "outputs": [],
   "source": [
    "import pandas as pd \n",
    "from dash_website import DIMENSIONS, MAIN_CATEGORIES_TO_CATEGORIES\n",
    "\n",
    "DICT_TO_CHANGE_DIMENSIONS = {\"ImmuneSystem\": \"BloodCells\"}\n",
    "DICT_TO_CHANGE_CATEGORIES = {\n",
    "    \"HeartSize\": \"HeartFunction\",\n",
    "    \"AnthropometryImpedance\": \"Impedance\",\n",
    "    \"AnthropometryBodySize\": \"Anthropometry\",\n",
    "    # Main categories\n",
    "    \"All_Phenotypes\": \"All_ClinicalPhenotypes\"\n",
    "}\n",
    "\n",
    "correlations = pd.read_feather(\"../../data/xwas/univariate_correlations/correlations.feather\")\n",
    "\n",
    "correlations_cleaned_dimensions_1 = correlations.set_index([\"dimension_1\", \"dimension_2\", \"category\"]).rename(index=DICT_TO_CHANGE_DIMENSIONS, level=\"dimension_1\")\n",
    "correlations_cleaned_dimensions = correlations_cleaned_dimensions_1.rename(index=DICT_TO_CHANGE_DIMENSIONS, level=\"dimension_2\")\n",
    "correlations_cleaned = correlations_cleaned_dimensions.rename(index=DICT_TO_CHANGE_CATEGORIES, level=\"category\")\n",
    "correlations_cleaned.reset_index().to_feather(\"../../data/xwas/univariate_correlations/correlations.feather\")"
   ]
  },
  {
   "cell_type": "code",
   "execution_count": 11,
   "metadata": {},
   "outputs": [],
   "source": [
    "for dimension in DIMENSIONS:\n",
    "    if dimension in DICT_TO_CHANGE_DIMENSIONS.keys():\n",
    "        dimension = DICT_TO_CHANGE_DIMENSIONS[dimension]\n",
    "    correlations_cleaned.loc[dimension].reset_index().rename(columns={\"dimension_2\": \"dimension\"}).to_feather(f\"../../data/xwas/univariate_correlations/correlations/dimensions/correlations_{dimension}.feather\")\n",
    "\n",
    "for category in MAIN_CATEGORIES_TO_CATEGORIES[\"All\"]:\n",
    "    if category in DICT_TO_CHANGE_CATEGORIES.keys():\n",
    "        category = DICT_TO_CHANGE_CATEGORIES[category]\n",
    "    correlations_cleaned.swaplevel().swaplevel(i=0, j=1).loc[category].reset_index().to_feather(f\"../../data/xwas/univariate_correlations/correlations/categories/correlations_{category}.feather\")"
   ]
  },
  {
   "cell_type": "code",
   "execution_count": 14,
   "metadata": {},
   "outputs": [],
   "source": [
    "averages_correlations = pd.read_feather(\"../../data/xwas/univariate_correlations/averages_correlations.feather\")\n",
    "\n",
    "averages_correlations_cleaned_dimensions = averages_correlations.set_index([\"dimension\", \"category\"]).rename(index=DICT_TO_CHANGE_DIMENSIONS, level=\"dimension\")\n",
    "averages_correlations_cleaned = averages_correlations_cleaned_dimensions.rename(index=DICT_TO_CHANGE_CATEGORIES, level=\"category\")\n",
    "averages_correlations_cleaned.reset_index().to_feather(\"../../data/xwas/univariate_correlations/averages_correlations.feather\")"
   ]
  }
 ]
}