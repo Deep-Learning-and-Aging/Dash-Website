{
 "metadata": {
  "language_info": {
   "codemirror_mode": {
    "name": "ipython",
    "version": 3
   },
   "file_extension": ".py",
   "mimetype": "text/x-python",
   "name": "python",
   "nbconvert_exporter": "python",
   "pygments_lexer": "ipython3",
   "version": "3.7.7-final"
  },
  "orig_nbformat": 2,
  "kernelspec": {
   "name": "python3",
   "display_name": "Python 3.7.7 64-bit ('env_website')",
   "metadata": {
    "interpreter": {
     "hash": "c11bf2a122358a257f4887e4656fd266c9212bc31c6d2fa50cb5fb4a0c5b9dd8"
    }
   }
  }
 },
 "nbformat": 4,
 "nbformat_minor": 2,
 "cells": [
  {
   "cell_type": "code",
   "execution_count": 1,
   "metadata": {},
   "outputs": [
    {
     "output_type": "execute_result",
     "data": {
      "text/plain": [
       "item                                   total significant             \\\n",
       "observation                            total      number percentage   \n",
       "dimension       category                                              \n",
       "Abdomen         Alcohol                  NaN         NaN        NaN   \n",
       "                AnthropometryBodySize    NaN         NaN        NaN   \n",
       "                AnthropometryImpedance   NaN         NaN        NaN   \n",
       "                ArterialStiffness        NaN         NaN        NaN   \n",
       "                BloodBiochemistry        NaN         NaN        NaN   \n",
       "...                                      ...         ...        ...   \n",
       "set_instances23 All_Biomarkers           NaN         NaN        NaN   \n",
       "                All_Phenotypes           NaN         NaN        NaN   \n",
       "                All_Diseases             NaN         NaN        NaN   \n",
       "                All_Environmental        NaN         NaN        NaN   \n",
       "                All_Socioeconomics       NaN         NaN        NaN   \n",
       "\n",
       "item                                   accelerated_aging             \\\n",
       "observation                                       number percentage   \n",
       "dimension       category                                              \n",
       "Abdomen         Alcohol                              NaN        NaN   \n",
       "                AnthropometryBodySize                NaN        NaN   \n",
       "                AnthropometryImpedance               NaN        NaN   \n",
       "                ArterialStiffness                    NaN        NaN   \n",
       "                BloodBiochemistry                    NaN        NaN   \n",
       "...                                                  ...        ...   \n",
       "set_instances23 All_Biomarkers                       NaN        NaN   \n",
       "                All_Phenotypes                       NaN        NaN   \n",
       "                All_Diseases                         NaN        NaN   \n",
       "                All_Environmental                    NaN        NaN   \n",
       "                All_Socioeconomics                   NaN        NaN   \n",
       "\n",
       "item                                   decelerated_aging             \n",
       "observation                                       number percentage  \n",
       "dimension       category                                             \n",
       "Abdomen         Alcohol                              NaN        NaN  \n",
       "                AnthropometryBodySize                NaN        NaN  \n",
       "                AnthropometryImpedance               NaN        NaN  \n",
       "                ArterialStiffness                    NaN        NaN  \n",
       "                BloodBiochemistry                    NaN        NaN  \n",
       "...                                                  ...        ...  \n",
       "set_instances23 All_Biomarkers                       NaN        NaN  \n",
       "                All_Phenotypes                       NaN        NaN  \n",
       "                All_Diseases                         NaN        NaN  \n",
       "                All_Environmental                    NaN        NaN  \n",
       "                All_Socioeconomics                   NaN        NaN  \n",
       "\n",
       "[2970 rows x 7 columns]"
      ],
      "text/html": "<div>\n<style scoped>\n    .dataframe tbody tr th:only-of-type {\n        vertical-align: middle;\n    }\n\n    .dataframe tbody tr th {\n        vertical-align: top;\n    }\n\n    .dataframe thead tr th {\n        text-align: left;\n    }\n\n    .dataframe thead tr:last-of-type th {\n        text-align: right;\n    }\n</style>\n<table border=\"1\" class=\"dataframe\">\n  <thead>\n    <tr>\n      <th></th>\n      <th>item</th>\n      <th>total</th>\n      <th colspan=\"2\" halign=\"left\">significant</th>\n      <th colspan=\"2\" halign=\"left\">accelerated_aging</th>\n      <th colspan=\"2\" halign=\"left\">decelerated_aging</th>\n    </tr>\n    <tr>\n      <th></th>\n      <th>observation</th>\n      <th>total</th>\n      <th>number</th>\n      <th>percentage</th>\n      <th>number</th>\n      <th>percentage</th>\n      <th>number</th>\n      <th>percentage</th>\n    </tr>\n    <tr>\n      <th>dimension</th>\n      <th>category</th>\n      <th></th>\n      <th></th>\n      <th></th>\n      <th></th>\n      <th></th>\n      <th></th>\n      <th></th>\n    </tr>\n  </thead>\n  <tbody>\n    <tr>\n      <th rowspan=\"5\" valign=\"top\">Abdomen</th>\n      <th>Alcohol</th>\n      <td>NaN</td>\n      <td>NaN</td>\n      <td>NaN</td>\n      <td>NaN</td>\n      <td>NaN</td>\n      <td>NaN</td>\n      <td>NaN</td>\n    </tr>\n    <tr>\n      <th>AnthropometryBodySize</th>\n      <td>NaN</td>\n      <td>NaN</td>\n      <td>NaN</td>\n      <td>NaN</td>\n      <td>NaN</td>\n      <td>NaN</td>\n      <td>NaN</td>\n    </tr>\n    <tr>\n      <th>AnthropometryImpedance</th>\n      <td>NaN</td>\n      <td>NaN</td>\n      <td>NaN</td>\n      <td>NaN</td>\n      <td>NaN</td>\n      <td>NaN</td>\n      <td>NaN</td>\n    </tr>\n    <tr>\n      <th>ArterialStiffness</th>\n      <td>NaN</td>\n      <td>NaN</td>\n      <td>NaN</td>\n      <td>NaN</td>\n      <td>NaN</td>\n      <td>NaN</td>\n      <td>NaN</td>\n    </tr>\n    <tr>\n      <th>BloodBiochemistry</th>\n      <td>NaN</td>\n      <td>NaN</td>\n      <td>NaN</td>\n      <td>NaN</td>\n      <td>NaN</td>\n      <td>NaN</td>\n      <td>NaN</td>\n    </tr>\n    <tr>\n      <th>...</th>\n      <th>...</th>\n      <td>...</td>\n      <td>...</td>\n      <td>...</td>\n      <td>...</td>\n      <td>...</td>\n      <td>...</td>\n      <td>...</td>\n    </tr>\n    <tr>\n      <th rowspan=\"5\" valign=\"top\">set_instances23</th>\n      <th>All_Biomarkers</th>\n      <td>NaN</td>\n      <td>NaN</td>\n      <td>NaN</td>\n      <td>NaN</td>\n      <td>NaN</td>\n      <td>NaN</td>\n      <td>NaN</td>\n    </tr>\n    <tr>\n      <th>All_Phenotypes</th>\n      <td>NaN</td>\n      <td>NaN</td>\n      <td>NaN</td>\n      <td>NaN</td>\n      <td>NaN</td>\n      <td>NaN</td>\n      <td>NaN</td>\n    </tr>\n    <tr>\n      <th>All_Diseases</th>\n      <td>NaN</td>\n      <td>NaN</td>\n      <td>NaN</td>\n      <td>NaN</td>\n      <td>NaN</td>\n      <td>NaN</td>\n      <td>NaN</td>\n    </tr>\n    <tr>\n      <th>All_Environmental</th>\n      <td>NaN</td>\n      <td>NaN</td>\n      <td>NaN</td>\n      <td>NaN</td>\n      <td>NaN</td>\n      <td>NaN</td>\n      <td>NaN</td>\n    </tr>\n    <tr>\n      <th>All_Socioeconomics</th>\n      <td>NaN</td>\n      <td>NaN</td>\n      <td>NaN</td>\n      <td>NaN</td>\n      <td>NaN</td>\n      <td>NaN</td>\n      <td>NaN</td>\n    </tr>\n  </tbody>\n</table>\n<p>2970 rows × 7 columns</p>\n</div>"
     },
     "metadata": {},
     "execution_count": 1
    }
   ],
   "source": [
    "import pandas as pd \n",
    "from dash_website import DIMENSIONS, MAIN_CATEGORIES_TO_CATEGORIES\n",
    "\n",
    "list_indexes = []\n",
    "for dimension in DIMENSIONS:\n",
    "    for category in MAIN_CATEGORIES_TO_CATEGORIES[\"All\"] + [f\"All_{main_category}\" for main_category in MAIN_CATEGORIES_TO_CATEGORIES.keys()]:\n",
    "        list_indexes.append([dimension, category])\n",
    "indexes = pd.MultiIndex.from_tuples(list_indexes, names=[\"dimension\", \"category\"])\n",
    "\n",
    "list_columns = []\n",
    "for item in [\"total\", \"significant\", \"accelerated_aging\", \"decelerated_aging\"]:\n",
    "    if item == \"total\":\n",
    "        observations = [\"total\"]\n",
    "    else:\n",
    "        observations = [\"number\", \"percentage\"]\n",
    "    for observation in observations:\n",
    "        list_columns.append([item, observation])\n",
    "    columns = pd.MultiIndex.from_tuples(list_columns, names=[\"item\", \"observation\"])\n",
    "summary = pd.DataFrame(None, index=indexes, columns=columns)\n",
    "summary"
   ]
  },
  {
   "cell_type": "code",
   "execution_count": 2,
   "metadata": {
    "tags": []
   },
   "outputs": [],
   "source": [
    "dimension = DIMENSIONS[0]\n",
    "\n",
    "correlations_dimension = pd.read_feather(f\"../../data/xwas/univariate_results/linear_correlations_{dimension}.feather\", columns=[\"category\", \"p_value\", \"correlation\"])\n",
    "\n",
    "for group in correlations_dimension.groupby(by=[\"category\"]):\n",
    "    category = group[0]\n",
    "    summary.loc[(dimension, category), (\"total\", \"total\")] = group[1].shape[0]\n",
    "    summary.loc[(dimension, category), (\"significant\", \"number\")] = (group[1][\"p_value\"] < 0.05 / group[1].shape[0]).sum()\n",
    "    summary.loc[(dimension, category), (\"accelerated_aging\", \"number\")] = ((group[1][\"p_value\"] < 0.05 / group[1].shape[0]) & (group[1][\"correlation\"] < 0)).sum()\n",
    "    summary.loc[(dimension, category), (\"decelerated_aging\", \"number\")] = ((group[1][\"p_value\"] < 0.05 / group[1].shape[0]) & (group[1][\"correlation\"] > 0)).sum()"
   ]
  },
  {
   "cell_type": "code",
   "execution_count": 3,
   "metadata": {},
   "outputs": [],
   "source": [
    "for item in [\"significant\", \"accelerated_aging\", \"decelerated_aging\"]:\n",
    "    summary.loc[dimension, (item, \"percentage\")] = (summary.loc[dimension, (item, \"number\")] / summary.loc[dimension, (\"total\", \"total\")]).values"
   ]
  },
  {
   "cell_type": "code",
   "execution_count": 4,
   "metadata": {},
   "outputs": [],
   "source": [
    "for main_category, categories in MAIN_CATEGORIES_TO_CATEGORIES.items():\n",
    "    group = correlations_dimension.set_index(\"category\").loc[categories]\n",
    "    \n",
    "    summary.loc[(dimension, f\"All_{main_category}\"), (\"total\", \"total\")] = group.shape[0]\n",
    "    summary.loc[(dimension, f\"All_{main_category}\"), (\"significant\", \"number\")] = (group[\"p_value\"] < 0.05 / group.shape[0]).sum()\n",
    "    summary.loc[(dimension, f\"All_{main_category}\"), (\"accelerated_aging\", \"number\")] = ((group[\"p_value\"] < 0.05 / group.shape[0]) & (group[\"correlation\"] < 0)).sum()\n",
    "    summary.loc[(dimension, f\"All_{main_category}\"), (\"decelerated_aging\", \"number\")] = ((group[\"p_value\"] < 0.05 / group.shape[0]) & (group[\"correlation\"] > 0)).sum()"
   ]
  },
  {
   "cell_type": "code",
   "execution_count": 5,
   "metadata": {},
   "outputs": [],
   "source": [
    "for item in [\"significant\", \"accelerated_aging\", \"decelerated_aging\"]:\n",
    "    summary.loc[dimension, (item, \"percentage\")] = (summary.loc[dimension, (item, \"number\")] / summary.loc[dimension, (\"total\", \"total\")]).values"
   ]
  },
  {
   "cell_type": "code",
   "execution_count": 9,
   "metadata": {},
   "outputs": [
    {
     "output_type": "execute_result",
     "data": {
      "text/plain": [
       "item                                   total significant             \\\n",
       "observation                            total      number percentage   \n",
       "dimension       category                                              \n",
       "Abdomen         Alcohol                   29           7   0.241379   \n",
       "                AnthropometryBodySize      8           6       0.75   \n",
       "                AnthropometryImpedance     5           5        1.0   \n",
       "                ArterialStiffness          8           2       0.25   \n",
       "                BloodBiochemistry         28          14        0.5   \n",
       "...                                      ...         ...        ...   \n",
       "set_instances23 All_Biomarkers           NaN         NaN        NaN   \n",
       "                All_Phenotypes           NaN         NaN        NaN   \n",
       "                All_Diseases             NaN         NaN        NaN   \n",
       "                All_Environmental        NaN         NaN        NaN   \n",
       "                All_Socioeconomics       NaN         NaN        NaN   \n",
       "\n",
       "item                                   accelerated_aging             \\\n",
       "observation                                       number percentage   \n",
       "dimension       category                                              \n",
       "Abdomen         Alcohol                                5   0.172414   \n",
       "                AnthropometryBodySize                  1      0.125   \n",
       "                AnthropometryImpedance                 5        1.0   \n",
       "                ArterialStiffness                      2       0.25   \n",
       "                BloodBiochemistry                      8   0.285714   \n",
       "...                                                  ...        ...   \n",
       "set_instances23 All_Biomarkers                       NaN        NaN   \n",
       "                All_Phenotypes                       NaN        NaN   \n",
       "                All_Diseases                         NaN        NaN   \n",
       "                All_Environmental                    NaN        NaN   \n",
       "                All_Socioeconomics                   NaN        NaN   \n",
       "\n",
       "item                                   decelerated_aging             \n",
       "observation                                       number percentage  \n",
       "dimension       category                                             \n",
       "Abdomen         Alcohol                                2   0.068966  \n",
       "                AnthropometryBodySize                  5      0.625  \n",
       "                AnthropometryImpedance                 0        0.0  \n",
       "                ArterialStiffness                      0        0.0  \n",
       "                BloodBiochemistry                      6   0.214286  \n",
       "...                                                  ...        ...  \n",
       "set_instances23 All_Biomarkers                       NaN        NaN  \n",
       "                All_Phenotypes                       NaN        NaN  \n",
       "                All_Diseases                         NaN        NaN  \n",
       "                All_Environmental                    NaN        NaN  \n",
       "                All_Socioeconomics                   NaN        NaN  \n",
       "\n",
       "[2970 rows x 7 columns]"
      ],
      "text/html": "<div>\n<style scoped>\n    .dataframe tbody tr th:only-of-type {\n        vertical-align: middle;\n    }\n\n    .dataframe tbody tr th {\n        vertical-align: top;\n    }\n\n    .dataframe thead tr th {\n        text-align: left;\n    }\n\n    .dataframe thead tr:last-of-type th {\n        text-align: right;\n    }\n</style>\n<table border=\"1\" class=\"dataframe\">\n  <thead>\n    <tr>\n      <th></th>\n      <th>item</th>\n      <th>total</th>\n      <th colspan=\"2\" halign=\"left\">significant</th>\n      <th colspan=\"2\" halign=\"left\">accelerated_aging</th>\n      <th colspan=\"2\" halign=\"left\">decelerated_aging</th>\n    </tr>\n    <tr>\n      <th></th>\n      <th>observation</th>\n      <th>total</th>\n      <th>number</th>\n      <th>percentage</th>\n      <th>number</th>\n      <th>percentage</th>\n      <th>number</th>\n      <th>percentage</th>\n    </tr>\n    <tr>\n      <th>dimension</th>\n      <th>category</th>\n      <th></th>\n      <th></th>\n      <th></th>\n      <th></th>\n      <th></th>\n      <th></th>\n      <th></th>\n    </tr>\n  </thead>\n  <tbody>\n    <tr>\n      <th rowspan=\"5\" valign=\"top\">Abdomen</th>\n      <th>Alcohol</th>\n      <td>29</td>\n      <td>7</td>\n      <td>0.241379</td>\n      <td>5</td>\n      <td>0.172414</td>\n      <td>2</td>\n      <td>0.068966</td>\n    </tr>\n    <tr>\n      <th>AnthropometryBodySize</th>\n      <td>8</td>\n      <td>6</td>\n      <td>0.75</td>\n      <td>1</td>\n      <td>0.125</td>\n      <td>5</td>\n      <td>0.625</td>\n    </tr>\n    <tr>\n      <th>AnthropometryImpedance</th>\n      <td>5</td>\n      <td>5</td>\n      <td>1.0</td>\n      <td>5</td>\n      <td>1.0</td>\n      <td>0</td>\n      <td>0.0</td>\n    </tr>\n    <tr>\n      <th>ArterialStiffness</th>\n      <td>8</td>\n      <td>2</td>\n      <td>0.25</td>\n      <td>2</td>\n      <td>0.25</td>\n      <td>0</td>\n      <td>0.0</td>\n    </tr>\n    <tr>\n      <th>BloodBiochemistry</th>\n      <td>28</td>\n      <td>14</td>\n      <td>0.5</td>\n      <td>8</td>\n      <td>0.285714</td>\n      <td>6</td>\n      <td>0.214286</td>\n    </tr>\n    <tr>\n      <th>...</th>\n      <th>...</th>\n      <td>...</td>\n      <td>...</td>\n      <td>...</td>\n      <td>...</td>\n      <td>...</td>\n      <td>...</td>\n      <td>...</td>\n    </tr>\n    <tr>\n      <th rowspan=\"5\" valign=\"top\">set_instances23</th>\n      <th>All_Biomarkers</th>\n      <td>NaN</td>\n      <td>NaN</td>\n      <td>NaN</td>\n      <td>NaN</td>\n      <td>NaN</td>\n      <td>NaN</td>\n      <td>NaN</td>\n    </tr>\n    <tr>\n      <th>All_Phenotypes</th>\n      <td>NaN</td>\n      <td>NaN</td>\n      <td>NaN</td>\n      <td>NaN</td>\n      <td>NaN</td>\n      <td>NaN</td>\n      <td>NaN</td>\n    </tr>\n    <tr>\n      <th>All_Diseases</th>\n      <td>NaN</td>\n      <td>NaN</td>\n      <td>NaN</td>\n      <td>NaN</td>\n      <td>NaN</td>\n      <td>NaN</td>\n      <td>NaN</td>\n    </tr>\n    <tr>\n      <th>All_Environmental</th>\n      <td>NaN</td>\n      <td>NaN</td>\n      <td>NaN</td>\n      <td>NaN</td>\n      <td>NaN</td>\n      <td>NaN</td>\n      <td>NaN</td>\n    </tr>\n    <tr>\n      <th>All_Socioeconomics</th>\n      <td>NaN</td>\n      <td>NaN</td>\n      <td>NaN</td>\n      <td>NaN</td>\n      <td>NaN</td>\n      <td>NaN</td>\n      <td>NaN</td>\n    </tr>\n  </tbody>\n</table>\n<p>2970 rows × 7 columns</p>\n</div>"
     },
     "metadata": {},
     "execution_count": 9
    }
   ],
   "source": [
    "summary"
   ]
  },
  {
   "cell_type": "code",
   "execution_count": 7,
   "metadata": {},
   "outputs": [],
   "source": [
    "# summary.columns = map(str, summary.columns.tolist())\n",
    "# summary.reset_index().to_feather(\"../../data/xwas/univariate_results/summary.feather\")"
   ]
  },
  {
   "cell_type": "code",
   "execution_count": 8,
   "metadata": {},
   "outputs": [
    {
     "output_type": "execute_result",
     "data": {
      "text/plain": [
       "category                               total significant             \\\n",
       "variable                               total      number percentage   \n",
       "dimension       category                                              \n",
       "Abdomen         Alcohol                   29           7   0.241379   \n",
       "                AnthropometryBodySize      8           6   0.750000   \n",
       "                AnthropometryImpedance     5           5   1.000000   \n",
       "                ArterialStiffness          8           2   0.250000   \n",
       "                BloodBiochemistry         28          14   0.500000   \n",
       "...                                      ...         ...        ...   \n",
       "set_instances23 medical_diagnoses_V       85           0   0.000000   \n",
       "                medical_diagnoses_W       81           0   0.000000   \n",
       "                medical_diagnoses_X       90           4   0.044444   \n",
       "                medical_diagnoses_Y       86           0   0.000000   \n",
       "                medical_diagnoses_Z       84           1   0.011905   \n",
       "\n",
       "category                               accelerated_aging             \\\n",
       "variable                                          number percentage   \n",
       "dimension       category                                              \n",
       "Abdomen         Alcohol                                5   0.172414   \n",
       "                AnthropometryBodySize                  1   0.125000   \n",
       "                AnthropometryImpedance                 5   1.000000   \n",
       "                ArterialStiffness                      2   0.250000   \n",
       "                BloodBiochemistry                      8   0.285714   \n",
       "...                                                  ...        ...   \n",
       "set_instances23 medical_diagnoses_V                    0   0.000000   \n",
       "                medical_diagnoses_W                    0   0.000000   \n",
       "                medical_diagnoses_X                    4   0.044444   \n",
       "                medical_diagnoses_Y                    0   0.000000   \n",
       "                medical_diagnoses_Z                    1   0.011905   \n",
       "\n",
       "category                               decelerated_aging             \n",
       "variable                                          number percentage  \n",
       "dimension       category                                             \n",
       "Abdomen         Alcohol                                2   0.068966  \n",
       "                AnthropometryBodySize                  5   0.625000  \n",
       "                AnthropometryImpedance                 0   0.000000  \n",
       "                ArterialStiffness                      0   0.000000  \n",
       "                BloodBiochemistry                      6   0.214286  \n",
       "...                                                  ...        ...  \n",
       "set_instances23 medical_diagnoses_V                    0   0.000000  \n",
       "                medical_diagnoses_W                    0   0.000000  \n",
       "                medical_diagnoses_X                    0   0.000000  \n",
       "                medical_diagnoses_Y                    0   0.000000  \n",
       "                medical_diagnoses_Z                    0   0.000000  \n",
       "\n",
       "[2772 rows x 7 columns]"
      ],
      "text/html": "<div>\n<style scoped>\n    .dataframe tbody tr th:only-of-type {\n        vertical-align: middle;\n    }\n\n    .dataframe tbody tr th {\n        vertical-align: top;\n    }\n\n    .dataframe thead tr th {\n        text-align: left;\n    }\n\n    .dataframe thead tr:last-of-type th {\n        text-align: right;\n    }\n</style>\n<table border=\"1\" class=\"dataframe\">\n  <thead>\n    <tr>\n      <th></th>\n      <th>category</th>\n      <th>total</th>\n      <th colspan=\"2\" halign=\"left\">significant</th>\n      <th colspan=\"2\" halign=\"left\">accelerated_aging</th>\n      <th colspan=\"2\" halign=\"left\">decelerated_aging</th>\n    </tr>\n    <tr>\n      <th></th>\n      <th>variable</th>\n      <th>total</th>\n      <th>number</th>\n      <th>percentage</th>\n      <th>number</th>\n      <th>percentage</th>\n      <th>number</th>\n      <th>percentage</th>\n    </tr>\n    <tr>\n      <th>dimension</th>\n      <th>category</th>\n      <th></th>\n      <th></th>\n      <th></th>\n      <th></th>\n      <th></th>\n      <th></th>\n      <th></th>\n    </tr>\n  </thead>\n  <tbody>\n    <tr>\n      <th rowspan=\"5\" valign=\"top\">Abdomen</th>\n      <th>Alcohol</th>\n      <td>29</td>\n      <td>7</td>\n      <td>0.241379</td>\n      <td>5</td>\n      <td>0.172414</td>\n      <td>2</td>\n      <td>0.068966</td>\n    </tr>\n    <tr>\n      <th>AnthropometryBodySize</th>\n      <td>8</td>\n      <td>6</td>\n      <td>0.750000</td>\n      <td>1</td>\n      <td>0.125000</td>\n      <td>5</td>\n      <td>0.625000</td>\n    </tr>\n    <tr>\n      <th>AnthropometryImpedance</th>\n      <td>5</td>\n      <td>5</td>\n      <td>1.000000</td>\n      <td>5</td>\n      <td>1.000000</td>\n      <td>0</td>\n      <td>0.000000</td>\n    </tr>\n    <tr>\n      <th>ArterialStiffness</th>\n      <td>8</td>\n      <td>2</td>\n      <td>0.250000</td>\n      <td>2</td>\n      <td>0.250000</td>\n      <td>0</td>\n      <td>0.000000</td>\n    </tr>\n    <tr>\n      <th>BloodBiochemistry</th>\n      <td>28</td>\n      <td>14</td>\n      <td>0.500000</td>\n      <td>8</td>\n      <td>0.285714</td>\n      <td>6</td>\n      <td>0.214286</td>\n    </tr>\n    <tr>\n      <th>...</th>\n      <th>...</th>\n      <td>...</td>\n      <td>...</td>\n      <td>...</td>\n      <td>...</td>\n      <td>...</td>\n      <td>...</td>\n      <td>...</td>\n    </tr>\n    <tr>\n      <th rowspan=\"5\" valign=\"top\">set_instances23</th>\n      <th>medical_diagnoses_V</th>\n      <td>85</td>\n      <td>0</td>\n      <td>0.000000</td>\n      <td>0</td>\n      <td>0.000000</td>\n      <td>0</td>\n      <td>0.000000</td>\n    </tr>\n    <tr>\n      <th>medical_diagnoses_W</th>\n      <td>81</td>\n      <td>0</td>\n      <td>0.000000</td>\n      <td>0</td>\n      <td>0.000000</td>\n      <td>0</td>\n      <td>0.000000</td>\n    </tr>\n    <tr>\n      <th>medical_diagnoses_X</th>\n      <td>90</td>\n      <td>4</td>\n      <td>0.044444</td>\n      <td>4</td>\n      <td>0.044444</td>\n      <td>0</td>\n      <td>0.000000</td>\n    </tr>\n    <tr>\n      <th>medical_diagnoses_Y</th>\n      <td>86</td>\n      <td>0</td>\n      <td>0.000000</td>\n      <td>0</td>\n      <td>0.000000</td>\n      <td>0</td>\n      <td>0.000000</td>\n    </tr>\n    <tr>\n      <th>medical_diagnoses_Z</th>\n      <td>84</td>\n      <td>1</td>\n      <td>0.011905</td>\n      <td>1</td>\n      <td>0.011905</td>\n      <td>0</td>\n      <td>0.000000</td>\n    </tr>\n  </tbody>\n</table>\n<p>2772 rows × 7 columns</p>\n</div>"
     },
     "metadata": {},
     "execution_count": 8
    }
   ],
   "source": [
    "summary = pd.read_feather(\"../../data/xwas/univariate_results/summary.feather\").set_index([\"dimension\", \"category\"])\n",
    "summary.columns = pd.MultiIndex.from_tuples(\n",
    "    list(map(eval, summary.columns.tolist())), names=[\"category\", \"variable\"]\n",
    ")\n",
    "summary"
   ]
  }
 ]
}