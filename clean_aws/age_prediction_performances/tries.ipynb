{
 "cells": [
  {
   "cell_type": "code",
   "execution_count": 2,
   "metadata": {},
   "outputs": [],
   "source": [
    "import pandas as pd \n",
    "\n",
    "SAMPLE_DEFINITION_NAMING = {\n",
    "    \"instances\": \"all_samples_per_participant\",\n",
    "    \"eids\": \"average_per_participant\"\n",
    "}\n",
    "SELECTED_DIMENSIONS = {\n",
    "    \"withEnsembles\": \"all_dimensions\",\n",
    "    \"tuned\": \"without_ensemble_models\",\n",
    "    \"bestmodels\": \"custom_dimensions\",\n",
    "}\n",
    "COLUMNS_TO_TAKE = {\n",
    "    \"organ\": \"dimension\",\n",
    "    \"view\": \"subdimension\",\n",
    "    \"transformation\": \"sub_subdimension\",\n",
    "    \"architecture\": \"algorithm\",\n",
    "    \"N_all\": \"sample_size\",\n",
    "    \"RMSE_all\": \"rmse\",\n",
    "    \"RMSE_sd_all\": \"rmse_std\",\n",
    "    \"R-Squared_all\": \"r2\",\n",
    "    \"R-Squared_sd_all\": \"r2_std\",\n",
    "    \"C-Index_all\": \"c_index\",\n",
    "    \"C-Index_sd_all\": \"c_index_std\",\n",
    "    \"C-Index-difference_all\": \"c_index_difference\",\n",
    "    \"C-Index-difference_sd_all\": \"c_index_difference_std\",\n",
    "}\n",
    "DICT_TO_CHANGE_DIMENSIONS = {\"ImmuneSystem\": \"BloodCells\"}"
   ]
  },
  {
   "cell_type": "code",
   "execution_count": 3,
   "metadata": {},
   "outputs": [],
   "source": [
    "for sample_definition in [\"eids\", \"instances\"]:\n",
    "    scores_with_ci = pd.read_csv(f\"../../all_data/page2_predictions/Performances/PERFORMANCES_withEnsembles_withCI_alphabetical_{sample_definition}_Age_test.csv\")[COLUMNS_TO_TAKE].rename(columns=COLUMNS_TO_TAKE)\n",
    "    scores_with_ci.loc[(scores_with_ci[\"dimension\"] == \"Musculoskeletal\") & (scores_with_ci[\"sub_subdimension\"] == \"MRI\"), \"sub_subdimension\"] = \"DXA\"\n",
    "    scores_with_ci.replace(DICT_TO_CHANGE_DIMENSIONS, inplace=True)\n",
    "    scores_with_ci.set_index([\"dimension\", \"subdimension\", \"sub_subdimension\", \"algorithm\"], inplace=True)\n",
    "\n",
    "    for dimensions_selection in [\"withEnsembles\", \"tuned\", \"bestmodels\"]:\n",
    "        scores = pd.read_feather(f\"../../all_data/age_prediction_performances/scores_{SAMPLE_DEFINITION_NAMING[sample_definition]}_{SELECTED_DIMENSIONS[dimensions_selection]}.feather\").set_index([\"dimension\", \"subdimension\", \"sub_subdimension\", \"algorithm\"])\n",
    "\n",
    "        scores[[\"c_index\", \"c_index_std\"]] = scores_with_ci.loc[scores.index, [\"c_index\", \"c_index_std\"]]\n",
    "\n",
    "        # scores.reset_index().to_feather(f\"all_data/age_prediction_performances/scores_withCI_{SAMPLE_DEFINITION_NAMING[sample_definition]}_{SELECTED_DIMENSIONS[dimensions_selection]}.feather\")"
   ]
  },
  {
   "cell_type": "code",
   "execution_count": 6,
   "metadata": {},
   "outputs": [
    {
     "data": {
      "text/plain": "['version',\n 'target',\n 'organ',\n 'view',\n 'transformation',\n 'architecture',\n 'n_fc_layers',\n 'n_fc_nodes',\n 'optimizer',\n 'learning_rate',\n 'weight_decay',\n 'dropout_rate',\n 'data_augmentation_factor',\n 'N_all',\n 'RMSE_all',\n 'RMSE_folds_sd_all',\n 'RMSE_sd_all',\n 'RMSE_str_all',\n 'R-Squared_all',\n 'R-Squared_folds_sd_all',\n 'R-Squared_sd_all',\n 'R-Squared_str_all',\n 'N_0',\n 'RMSE_0',\n 'RMSE_sd_0',\n 'RMSE_str_0',\n 'R-Squared_0',\n 'R-Squared_sd_0',\n 'R-Squared_str_0',\n 'N_1',\n 'RMSE_1',\n 'RMSE_sd_1',\n 'RMSE_str_1',\n 'R-Squared_1',\n 'R-Squared_sd_1',\n 'R-Squared_str_1',\n 'N_2',\n 'RMSE_2',\n 'RMSE_sd_2',\n 'RMSE_str_2',\n 'R-Squared_2',\n 'R-Squared_sd_2',\n 'R-Squared_str_2',\n 'N_3',\n 'RMSE_3',\n 'RMSE_sd_3',\n 'RMSE_str_3',\n 'R-Squared_3',\n 'R-Squared_sd_3',\n 'R-Squared_str_3',\n 'N_4',\n 'RMSE_4',\n 'RMSE_sd_4',\n 'RMSE_str_4',\n 'R-Squared_4',\n 'R-Squared_sd_4',\n 'R-Squared_str_4',\n 'N_5',\n 'RMSE_5',\n 'RMSE_sd_5',\n 'RMSE_str_5',\n 'R-Squared_5',\n 'R-Squared_sd_5',\n 'R-Squared_str_5',\n 'N_6',\n 'RMSE_6',\n 'RMSE_sd_6',\n 'RMSE_str_6',\n 'R-Squared_6',\n 'R-Squared_sd_6',\n 'R-Squared_str_6',\n 'N_7',\n 'RMSE_7',\n 'RMSE_sd_7',\n 'RMSE_str_7',\n 'R-Squared_7',\n 'R-Squared_sd_7',\n 'R-Squared_str_7',\n 'N_8',\n 'RMSE_8',\n 'RMSE_sd_8',\n 'RMSE_str_8',\n 'R-Squared_8',\n 'R-Squared_sd_8',\n 'R-Squared_str_8',\n 'N_9',\n 'RMSE_9',\n 'RMSE_sd_9',\n 'RMSE_str_9',\n 'R-Squared_9',\n 'R-Squared_sd_9',\n 'R-Squared_str_9',\n 'C-Index_all',\n 'C-Index_sd_all',\n 'C-Index_str_all',\n 'C-Index-difference_all',\n 'C-Index-difference_sd_all',\n 'C-Index-difference_str_all',\n 'C-Index_0',\n 'C-Index_sd_0',\n 'C-Index_str_0',\n 'C-Index-difference_0',\n 'C-Index-difference_sd_0',\n 'C-Index-difference_str_0',\n 'C-Index_1',\n 'C-Index_sd_1',\n 'C-Index_str_1',\n 'C-Index-difference_1',\n 'C-Index-difference_sd_1',\n 'C-Index-difference_str_1',\n 'C-Index_2',\n 'C-Index_sd_2',\n 'C-Index_str_2',\n 'C-Index-difference_2',\n 'C-Index-difference_sd_2',\n 'C-Index-difference_str_2',\n 'C-Index_3',\n 'C-Index_sd_3',\n 'C-Index_str_3',\n 'C-Index-difference_3',\n 'C-Index-difference_sd_3',\n 'C-Index-difference_str_3',\n 'C-Index_4',\n 'C-Index_sd_4',\n 'C-Index_str_4',\n 'C-Index-difference_4',\n 'C-Index-difference_sd_4',\n 'C-Index-difference_str_4',\n 'C-Index_5',\n 'C-Index_sd_5',\n 'C-Index_str_5',\n 'C-Index-difference_5',\n 'C-Index-difference_sd_5',\n 'C-Index-difference_str_5',\n 'C-Index_6',\n 'C-Index_sd_6',\n 'C-Index_str_6',\n 'C-Index-difference_6',\n 'C-Index-difference_sd_6',\n 'C-Index-difference_str_6',\n 'C-Index_7',\n 'C-Index_sd_7',\n 'C-Index_str_7',\n 'C-Index-difference_7',\n 'C-Index-difference_sd_7',\n 'C-Index-difference_str_7',\n 'C-Index_8',\n 'C-Index_sd_8',\n 'C-Index_str_8',\n 'C-Index-difference_8',\n 'C-Index-difference_sd_8',\n 'C-Index-difference_str_8',\n 'C-Index_9',\n 'C-Index_sd_9',\n 'C-Index_str_9',\n 'C-Index-difference_9',\n 'C-Index-difference_sd_9',\n 'C-Index-difference_str_9']"
     },
     "execution_count": 6,
     "metadata": {},
     "output_type": "execute_result"
    }
   ],
   "source": [
    "pd.read_csv(f\"../../all_data/page2_predictions/Performances/PERFORMANCES_withEnsembles_withCI_alphabetical_{sample_definition}_Age_test.csv\").columns.to_list()"
   ]
  }
 ],
 "metadata": {
  "kernelspec": {
   "display_name": "Python 3.9.4  ('env_container': venv)",
   "name": "pythonjvsc74a57bd0827f31c7a17f115185da69808fd256ce792d94cfeb61ab0a6e35bd7e2999d502"
  },
  "language_info": {
   "codemirror_mode": {
    "name": "ipython",
    "version": 3
   },
   "file_extension": ".py",
   "mimetype": "text/x-python",
   "name": "python",
   "nbconvert_exporter": "python",
   "pygments_lexer": "ipython3",
   "version": "3.9.4"
  },
  "metadata": {
   "interpreter": {
    "hash": "827f31c7a17f115185da69808fd256ce792d94cfeb61ab0a6e35bd7e2999d502"
   }
  },
  "orig_nbformat": 2
 },
 "nbformat": 4,
 "nbformat_minor": 2
}