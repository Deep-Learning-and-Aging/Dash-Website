{
 "metadata": {
  "language_info": {
   "codemirror_mode": {
    "name": "ipython",
    "version": 3
   },
   "file_extension": ".py",
   "mimetype": "text/x-python",
   "name": "python",
   "nbconvert_exporter": "python",
   "pygments_lexer": "ipython3",
   "version": "3.7.7-final"
  },
  "orig_nbformat": 2,
  "kernelspec": {
   "name": "python377jvsc74a57bd0c11bf2a122358a257f4887e4656fd266c9212bc31c6d2fa50cb5fb4a0c5b9dd8",
   "display_name": "Python 3.7.7 64-bit ('env_website')"
  }
 },
 "nbformat": 4,
 "nbformat_minor": 2,
 "cells": [
  {
   "cell_type": "code",
   "execution_count": 1,
   "metadata": {},
   "outputs": [],
   "source": [
    "import pandas as pd \n",
    "import numpy as np\n",
    "\n",
    "DICT_TO_CHANGE_DIMENSIONS = {\n",
    "    \"ImmuneSystem\": \"BloodCells\",\n",
    "    \"\\*\": \"set\",\n",
    "    \"*instances01\": \"set_instances01\",\n",
    "    \"*instances1.5x\": \"set_instances1.5x\",\n",
    "    \"*instances23\": \"set_instances23\",\n",
    "}\n",
    "DICT_TO_CHANGE_CATEGORIES = {\n",
    "    \"HeartSize\": \"HeartFunction\",\n",
    "    \"AnthropometryImpedance\": \"Impedance\",\n",
    "    \"AnthropometryBodySize\": \"Anthropometry\",\n",
    "    \"Claudification\": \"Claudication\",\n",
    "}\n",
    "\n",
    "CAMEL_TO_SNAKE = {\"ElasticNet\": \"elastic_net\", \"LightGbm\": \"light_gbm\", \"NeuralNetwork\": \"neural_network\"}\n",
    "\n",
    "list_correlations = []\n",
    "\n",
    "for correlation_type in [\"Pearson\", \"Spearman\"]:\n",
    "    for algorithm in [\"ElasticNet\", \"LightGbm\", \"NeuralNetwork\"]:\n",
    "        correlations = pd.read_csv(f\"../data/page8_MultivariateXWASCorrelations/CorrelationsMultivariate/CorrelationsMultivariate_{correlation_type}_{algorithm}.csv\", index_col=0)\n",
    "        \n",
    "        correlations.rename(columns={\"env_dataset\": \"category\", \"organ_1\": \"dimension_1\", \"organ_2\": \"dimension_2\", \"corr\": \"correlation\", \"sample_size\": \"number_variables\"}, inplace=True)\n",
    "        correlations.replace(DICT_TO_CHANGE_DIMENSIONS, inplace=True)\n",
    "\n",
    "        correlations[\"category\"] = list(map(lambda list_category:  list_category[1] if len(list_category) > 1 else list_category[0], correlations[\"category\"].str.split(\"_\")))\n",
    "\n",
    "        correlations.replace(DICT_TO_CHANGE_CATEGORIES, inplace=True)\n",
    "\n",
    "        correlations[\"algorithm\"] = CAMEL_TO_SNAKE[algorithm]\n",
    "        correlations[\"correlation_type\"] = correlation_type.lower()\n",
    "\n",
    "        list_correlations.append(correlations)\n",
    "every_correlation = pd.concat(list_correlations).set_index([\"algorithm\", \"correlation_type\"])"
   ]
  },
  {
   "cell_type": "code",
   "execution_count": 2,
   "metadata": {},
   "outputs": [],
   "source": [
    "list_columns = []\n",
    "for algorithm in [\"elastic_net\", \"light_gbm\", \"neural_network\"]:\n",
    "    for correlation_type in [\"pearson\", \"spearman\", \"number_variables\"]:\n",
    "        list_columns.append([algorithm, correlation_type])\n",
    "columns = pd.MultiIndex.from_tuples(list_columns)\n",
    "correlations_raw = pd.DataFrame(None, index=every_correlation.set_index([\"dimension_1\", \"dimension_2\", \"category\"]).index.drop_duplicates(), columns=columns)"
   ]
  },
  {
   "cell_type": "code",
   "execution_count": 3,
   "metadata": {},
   "outputs": [
    {
     "output_type": "stream",
     "name": "stderr",
     "text": [
      "ipykernel_launcher:3: PerformanceWarning: indexing past lexsort depth may impact performance.\nipykernel_launcher:5: PerformanceWarning: indexing past lexsort depth may impact performance.\n"
     ]
    }
   ],
   "source": [
    "for algorithm in [\"elastic_net\", \"light_gbm\", \"neural_network\"]:\n",
    "    for correlation_type in [\"pearson\", \"spearman\"]:\n",
    "        correlations_raw[(algorithm, correlation_type)] = every_correlation.loc[(algorithm, correlation_type)].reset_index(drop=True).set_index([\"dimension_1\", \"dimension_2\", \"category\"])[\"correlation\"]\n",
    "\n",
    "        correlations_raw[(algorithm, \"number_variables\")] = every_correlation.loc[(algorithm, correlation_type)].reset_index(drop=True).set_index([\"dimension_1\", \"dimension_2\", \"category\"])[\"number_variables\"]"
   ]
  },
  {
   "cell_type": "code",
   "execution_count": 5,
   "metadata": {},
   "outputs": [
    {
     "output_type": "execute_result",
     "data": {
      "text/plain": [
       "            dimension_1             dimension_2              category  \\\n",
       "0                   set                     set               Alcohol   \n",
       "1                   set         set_instances01               Alcohol   \n",
       "2                   set       set_instances1.5x               Alcohol   \n",
       "3                   set         set_instances23               Alcohol   \n",
       "4                   set                 Abdomen               Alcohol   \n",
       "...                 ...                     ...                   ...   \n",
       "60979  PhysicalActivity     MusculoskeletalHips  CognitiveTrailMaking   \n",
       "60980  PhysicalActivity    MusculoskeletalKnees  CognitiveTrailMaking   \n",
       "60981  PhysicalActivity  MusculoskeletalScalars  CognitiveTrailMaking   \n",
       "60982  PhysicalActivity    MusculoskeletalSpine  CognitiveTrailMaking   \n",
       "60983  PhysicalActivity        PhysicalActivity  CognitiveTrailMaking   \n",
       "\n",
       "       ('elastic_net', 'pearson')  ('elastic_net', 'spearman')  \\\n",
       "0                        1.000000                     1.000000   \n",
       "1                        0.417034                     0.320990   \n",
       "2                        0.994724                     0.929577   \n",
       "3                        0.206256                     0.247385   \n",
       "4                        0.505619                     0.320144   \n",
       "...                           ...                          ...   \n",
       "60979                    0.710257                     0.744529   \n",
       "60980                    0.593993                     0.597667   \n",
       "60981                    0.729431                     0.398608   \n",
       "60982                    0.610758                     0.706087   \n",
       "60983                    1.000000                     1.000000   \n",
       "\n",
       "       ('elastic_net', 'number_variables')  ('light_gbm', 'pearson')  \\\n",
       "0                                       41                  1.000000   \n",
       "1                                       41                  0.813815   \n",
       "2                                       41                  0.967495   \n",
       "3                                       41                  0.809886   \n",
       "4                                       41                  0.865277   \n",
       "...                                    ...                       ...   \n",
       "60979                                   30                  0.954860   \n",
       "60980                                   30                  0.964185   \n",
       "60981                                   30                  0.886786   \n",
       "60982                                   30                  0.966147   \n",
       "60983                                   30                  1.000000   \n",
       "\n",
       "       ('light_gbm', 'spearman')  ('light_gbm', 'number_variables')  \\\n",
       "0                       1.000000                                 41   \n",
       "1                       0.812489                                 41   \n",
       "2                       0.946538                                 41   \n",
       "3                       0.649891                                 41   \n",
       "4                       0.893658                                 41   \n",
       "...                          ...                                ...   \n",
       "60979                   0.939878                                 30   \n",
       "60980                   0.885759                                 30   \n",
       "60981                   0.823686                                 30   \n",
       "60982                   0.998736                                 30   \n",
       "60983                   1.000000                                 30   \n",
       "\n",
       "       ('neural_network', 'pearson')  ('neural_network', 'spearman')  \\\n",
       "0                           1.000000                        1.000000   \n",
       "1                           0.803148                        0.594180   \n",
       "2                           0.966550                        0.907317   \n",
       "3                           0.139374                        0.520872   \n",
       "4                           0.740531                        0.520906   \n",
       "...                              ...                             ...   \n",
       "60979                       0.716040                        0.694849   \n",
       "60980                       0.711686                        0.501724   \n",
       "60981                       0.190002                        0.579375   \n",
       "60982                       0.746994                        0.597397   \n",
       "60983                       1.000000                        1.000000   \n",
       "\n",
       "       ('neural_network', 'number_variables')  \n",
       "0                                          41  \n",
       "1                                          41  \n",
       "2                                          41  \n",
       "3                                          41  \n",
       "4                                          41  \n",
       "...                                       ...  \n",
       "60979                                      30  \n",
       "60980                                      30  \n",
       "60981                                      30  \n",
       "60982                                      30  \n",
       "60983                                      30  \n",
       "\n",
       "[60984 rows x 12 columns]"
      ],
      "text/html": "<div>\n<style scoped>\n    .dataframe tbody tr th:only-of-type {\n        vertical-align: middle;\n    }\n\n    .dataframe tbody tr th {\n        vertical-align: top;\n    }\n\n    .dataframe thead th {\n        text-align: right;\n    }\n</style>\n<table border=\"1\" class=\"dataframe\">\n  <thead>\n    <tr style=\"text-align: right;\">\n      <th></th>\n      <th>dimension_1</th>\n      <th>dimension_2</th>\n      <th>category</th>\n      <th>('elastic_net', 'pearson')</th>\n      <th>('elastic_net', 'spearman')</th>\n      <th>('elastic_net', 'number_variables')</th>\n      <th>('light_gbm', 'pearson')</th>\n      <th>('light_gbm', 'spearman')</th>\n      <th>('light_gbm', 'number_variables')</th>\n      <th>('neural_network', 'pearson')</th>\n      <th>('neural_network', 'spearman')</th>\n      <th>('neural_network', 'number_variables')</th>\n    </tr>\n  </thead>\n  <tbody>\n    <tr>\n      <th>0</th>\n      <td>set</td>\n      <td>set</td>\n      <td>Alcohol</td>\n      <td>1.000000</td>\n      <td>1.000000</td>\n      <td>41</td>\n      <td>1.000000</td>\n      <td>1.000000</td>\n      <td>41</td>\n      <td>1.000000</td>\n      <td>1.000000</td>\n      <td>41</td>\n    </tr>\n    <tr>\n      <th>1</th>\n      <td>set</td>\n      <td>set_instances01</td>\n      <td>Alcohol</td>\n      <td>0.417034</td>\n      <td>0.320990</td>\n      <td>41</td>\n      <td>0.813815</td>\n      <td>0.812489</td>\n      <td>41</td>\n      <td>0.803148</td>\n      <td>0.594180</td>\n      <td>41</td>\n    </tr>\n    <tr>\n      <th>2</th>\n      <td>set</td>\n      <td>set_instances1.5x</td>\n      <td>Alcohol</td>\n      <td>0.994724</td>\n      <td>0.929577</td>\n      <td>41</td>\n      <td>0.967495</td>\n      <td>0.946538</td>\n      <td>41</td>\n      <td>0.966550</td>\n      <td>0.907317</td>\n      <td>41</td>\n    </tr>\n    <tr>\n      <th>3</th>\n      <td>set</td>\n      <td>set_instances23</td>\n      <td>Alcohol</td>\n      <td>0.206256</td>\n      <td>0.247385</td>\n      <td>41</td>\n      <td>0.809886</td>\n      <td>0.649891</td>\n      <td>41</td>\n      <td>0.139374</td>\n      <td>0.520872</td>\n      <td>41</td>\n    </tr>\n    <tr>\n      <th>4</th>\n      <td>set</td>\n      <td>Abdomen</td>\n      <td>Alcohol</td>\n      <td>0.505619</td>\n      <td>0.320144</td>\n      <td>41</td>\n      <td>0.865277</td>\n      <td>0.893658</td>\n      <td>41</td>\n      <td>0.740531</td>\n      <td>0.520906</td>\n      <td>41</td>\n    </tr>\n    <tr>\n      <th>...</th>\n      <td>...</td>\n      <td>...</td>\n      <td>...</td>\n      <td>...</td>\n      <td>...</td>\n      <td>...</td>\n      <td>...</td>\n      <td>...</td>\n      <td>...</td>\n      <td>...</td>\n      <td>...</td>\n      <td>...</td>\n    </tr>\n    <tr>\n      <th>60979</th>\n      <td>PhysicalActivity</td>\n      <td>MusculoskeletalHips</td>\n      <td>CognitiveTrailMaking</td>\n      <td>0.710257</td>\n      <td>0.744529</td>\n      <td>30</td>\n      <td>0.954860</td>\n      <td>0.939878</td>\n      <td>30</td>\n      <td>0.716040</td>\n      <td>0.694849</td>\n      <td>30</td>\n    </tr>\n    <tr>\n      <th>60980</th>\n      <td>PhysicalActivity</td>\n      <td>MusculoskeletalKnees</td>\n      <td>CognitiveTrailMaking</td>\n      <td>0.593993</td>\n      <td>0.597667</td>\n      <td>30</td>\n      <td>0.964185</td>\n      <td>0.885759</td>\n      <td>30</td>\n      <td>0.711686</td>\n      <td>0.501724</td>\n      <td>30</td>\n    </tr>\n    <tr>\n      <th>60981</th>\n      <td>PhysicalActivity</td>\n      <td>MusculoskeletalScalars</td>\n      <td>CognitiveTrailMaking</td>\n      <td>0.729431</td>\n      <td>0.398608</td>\n      <td>30</td>\n      <td>0.886786</td>\n      <td>0.823686</td>\n      <td>30</td>\n      <td>0.190002</td>\n      <td>0.579375</td>\n      <td>30</td>\n    </tr>\n    <tr>\n      <th>60982</th>\n      <td>PhysicalActivity</td>\n      <td>MusculoskeletalSpine</td>\n      <td>CognitiveTrailMaking</td>\n      <td>0.610758</td>\n      <td>0.706087</td>\n      <td>30</td>\n      <td>0.966147</td>\n      <td>0.998736</td>\n      <td>30</td>\n      <td>0.746994</td>\n      <td>0.597397</td>\n      <td>30</td>\n    </tr>\n    <tr>\n      <th>60983</th>\n      <td>PhysicalActivity</td>\n      <td>PhysicalActivity</td>\n      <td>CognitiveTrailMaking</td>\n      <td>1.000000</td>\n      <td>1.000000</td>\n      <td>30</td>\n      <td>1.000000</td>\n      <td>1.000000</td>\n      <td>30</td>\n      <td>1.000000</td>\n      <td>1.000000</td>\n      <td>30</td>\n    </tr>\n  </tbody>\n</table>\n<p>60984 rows × 12 columns</p>\n</div>"
     },
     "metadata": {},
     "execution_count": 5
    }
   ],
   "source": [
    "correlations_raw.columns = map(str, correlations_raw.columns.tolist())\n",
    "correlations_raw.reset_index()# .to_feather(\"../data/xwas/multivariate_correlations/correlations.feather\")"
   ]
  }
 ]
}