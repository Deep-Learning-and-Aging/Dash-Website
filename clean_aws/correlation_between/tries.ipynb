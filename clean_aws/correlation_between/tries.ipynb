{
 "cells": [
  {
   "cell_type": "code",
   "execution_count": 1,
   "metadata": {},
   "outputs": [],
   "source": [
    "import pandas as pd \n",
    "\n",
    "DATA_TYPE_NAMING = {\"instances\": \"all_samples_per_participant\", \"eids\": \"average_per_participant\", \"*\": \"all_possible_samples\"}\n",
    "COLUMNS_TO_TAKE = {\n",
    "    \"organ\": \"dimension\",\n",
    "    \"view\": \"subdimension\",\n",
    "    \"transformation\": \"sub_subdimension\",\n",
    "    \"architecture\": \"algorithm\",\n",
    "    \"R-Squared_all\": \"r2\",\n",
    "    \"R-Squared_sd_all\": \"r2_std\",\n",
    "}\n",
    "\n",
    "data_type = \"eids\""
   ]
  },
  {
   "cell_type": "code",
   "execution_count": 2,
   "metadata": {},
   "outputs": [],
   "source": [
    "correlations_raw_ = pd.read_csv(f\"../../all_data/page4_correlations/ResidualsCorrelations/ResidualsCorrelations_{data_type}_Age_test.csv\")\n",
    "correlations_std_raw_ = pd.read_csv(f\"../../all_data/page4_correlations/ResidualsCorrelations/ResidualsCorrelations_sd_{data_type}_Age_test.csv\")\n",
    "\n",
    "correlations_raw = correlations_raw_.melt(id_vars=[\"Unnamed: 0\"], value_vars=correlations_raw_.columns.drop(\"Unnamed: 0\"))\n",
    "correlations_raw.rename(columns={\"Unnamed: 0\": \"dimensions_1\", \"variable\": \"dimensions_2\", \"value\": \"correlation\"}, inplace=True)\n",
    "\n",
    "correlations_std_raw = correlations_std_raw_.melt(id_vars=[\"Unnamed: 0\"], value_vars=correlations_std_raw_.columns.drop(\"Unnamed: 0\"))\n",
    "correlations_std_raw.rename(columns={\"Unnamed: 0\": \"dimensions_1\", \"variable\": \"dimensions_2\", \"value\": \"correlation\"}, inplace=True)"
   ]
  },
  {
   "cell_type": "code",
   "execution_count": 3,
   "metadata": {},
   "outputs": [],
   "source": [
    "correlations = pd.DataFrame(None, columns=[\"dimension_1\", \"subdimension_1\", \"sub_subdimension_1\", \"algorithm_1\", \"r2_1\", \"r2_std_1\", \"dimension_2\", \"subdimension_2\", \"sub_subdimension_2\", \"algorithm_2\", \"r2_2\", \"r2_std_2\", \"correlation\", \"correlation_std\"])"
   ]
  },
  {
   "cell_type": "code",
   "execution_count": 4,
   "metadata": {},
   "outputs": [],
   "source": [
    "for dimension_index in [\"1\", \"2\"]:\n",
    "    split_residual = correlations_raw[f\"dimensions_{dimension_index}\"].str.split(\"_\")\n",
    "\n",
    "    correlations[f\"dimension_{dimension_index}\"] = split_residual.apply(lambda list_information: list_information[0])\n",
    "    correlations[f\"subdimension_{dimension_index}\"] = split_residual.apply(lambda list_information: list_information[1])\n",
    "    correlations[f\"sub_subdimension_{dimension_index}\"] = split_residual.apply(lambda list_information: list_information[2])\n",
    "    correlations[f\"algorithm_{dimension_index}\"] = split_residual.apply(lambda list_information: list_information[3])\n",
    "\n",
    "correlations[\"correlation\"] = correlations_raw[\"correlation\"]\n",
    "correlations[\"correlation_std\"] = correlations_std_raw[\"correlation\"]"
   ]
  },
  {
   "cell_type": "code",
   "execution_count": 5,
   "metadata": {},
   "outputs": [],
   "source": [
    "scores_raw = pd.read_csv(\"../../all_data/page2_predictions/Performances/PERFORMANCES_withEnsembles_alphabetical_instances_Age_test.csv\")[COLUMNS_TO_TAKE].rename(columns=COLUMNS_TO_TAKE)\n",
    "scores_raw.set_index([\"dimension\", \"subdimension\", \"sub_subdimension\", \"algorithm\"], inplace=True)\n",
    "\n",
    "correlations.set_index([\"dimension_1\", \"subdimension_1\", \"sub_subdimension_1\", \"algorithm_1\"], inplace=True)\n",
    "correlations[[\"r2_1\", \"r2_std_1\"]] = scores_raw[[\"r2\", \"r2_std\"]]\n",
    "\n",
    "correlations.reset_index(inplace=True)\n",
    "correlations.set_index([\"dimension_2\", \"subdimension_2\", \"sub_subdimension_2\", \"algorithm_2\"], inplace=True)\n",
    "correlations[[\"r2_2\", \"r2_std_2\"]] = scores_raw[[\"r2\", \"r2_std\"]]"
   ]
  },
  {
   "cell_type": "code",
   "execution_count": 6,
   "metadata": {},
   "outputs": [
    {
     "data": {
      "text/html": "<div>\n<style scoped>\n    .dataframe tbody tr th:only-of-type {\n        vertical-align: middle;\n    }\n\n    .dataframe tbody tr th {\n        vertical-align: top;\n    }\n\n    .dataframe thead th {\n        text-align: right;\n    }\n</style>\n<table border=\"1\" class=\"dataframe\">\n  <thead>\n    <tr style=\"text-align: right;\">\n      <th></th>\n      <th>dimension_2</th>\n      <th>subdimension_2</th>\n      <th>sub_subdimension_2</th>\n      <th>algorithm_2</th>\n      <th>dimension_1</th>\n      <th>subdimension_1</th>\n      <th>sub_subdimension_1</th>\n      <th>algorithm_1</th>\n      <th>r2_1</th>\n      <th>r2_std_1</th>\n      <th>r2_2</th>\n      <th>r2_std_2</th>\n      <th>correlation</th>\n      <th>correlation_std</th>\n    </tr>\n  </thead>\n  <tbody>\n    <tr>\n      <th>0</th>\n      <td>*</td>\n      <td>*</td>\n      <td>*</td>\n      <td>*</td>\n      <td>*</td>\n      <td>*</td>\n      <td>*</td>\n      <td>*</td>\n      <td>0.660751</td>\n      <td>0.001829</td>\n      <td>0.660751</td>\n      <td>0.001829</td>\n      <td>1.000000</td>\n      <td>0.000000e+00</td>\n    </tr>\n    <tr>\n      <th>1</th>\n      <td>*</td>\n      <td>*</td>\n      <td>*</td>\n      <td>*</td>\n      <td>*instances01</td>\n      <td>*</td>\n      <td>*</td>\n      <td>*</td>\n      <td>0.869851</td>\n      <td>0.003602</td>\n      <td>0.660751</td>\n      <td>0.001829</td>\n      <td>0.536236</td>\n      <td>1.022476e-01</td>\n    </tr>\n    <tr>\n      <th>2</th>\n      <td>*</td>\n      <td>*</td>\n      <td>*</td>\n      <td>*</td>\n      <td>*instances1.5x</td>\n      <td>*</td>\n      <td>*</td>\n      <td>*</td>\n      <td>0.635053</td>\n      <td>0.001931</td>\n      <td>0.660751</td>\n      <td>0.001829</td>\n      <td>0.374114</td>\n      <td>5.152108e-02</td>\n    </tr>\n    <tr>\n      <th>3</th>\n      <td>*</td>\n      <td>*</td>\n      <td>*</td>\n      <td>*</td>\n      <td>*instances23</td>\n      <td>*</td>\n      <td>*</td>\n      <td>*</td>\n      <td>0.900849</td>\n      <td>0.003993</td>\n      <td>0.660751</td>\n      <td>0.001829</td>\n      <td>0.722623</td>\n      <td>2.353698e-02</td>\n    </tr>\n    <tr>\n      <th>4</th>\n      <td>*</td>\n      <td>*</td>\n      <td>*</td>\n      <td>*</td>\n      <td>Abdomen</td>\n      <td>*</td>\n      <td>*</td>\n      <td>*</td>\n      <td>0.763341</td>\n      <td>0.002007</td>\n      <td>0.660751</td>\n      <td>0.001829</td>\n      <td>0.438220</td>\n      <td>3.954655e-02</td>\n    </tr>\n    <tr>\n      <th>...</th>\n      <td>...</td>\n      <td>...</td>\n      <td>...</td>\n      <td>...</td>\n      <td>...</td>\n      <td>...</td>\n      <td>...</td>\n      <td>...</td>\n      <td>...</td>\n      <td>...</td>\n      <td>...</td>\n      <td>...</td>\n      <td>...</td>\n      <td>...</td>\n    </tr>\n    <tr>\n      <th>109556</th>\n      <td>PhysicalActivity</td>\n      <td>Walking</td>\n      <td>3D</td>\n      <td>1DCNN</td>\n      <td>PhysicalActivity</td>\n      <td>FullWeek</td>\n      <td>TimeSeriesFeatures</td>\n      <td>*</td>\n      <td>0.417744</td>\n      <td>0.002605</td>\n      <td>0.322997</td>\n      <td>0.001503</td>\n      <td>0.165672</td>\n      <td>2.222576e-03</td>\n    </tr>\n    <tr>\n      <th>109557</th>\n      <td>PhysicalActivity</td>\n      <td>Walking</td>\n      <td>3D</td>\n      <td>1DCNN</td>\n      <td>PhysicalActivity</td>\n      <td>FullWeek</td>\n      <td>TimeSeriesFeatures</td>\n      <td>1DCNN</td>\n      <td>0.417744</td>\n      <td>0.002625</td>\n      <td>0.322997</td>\n      <td>0.001503</td>\n      <td>0.165672</td>\n      <td>2.222576e-03</td>\n    </tr>\n    <tr>\n      <th>109558</th>\n      <td>PhysicalActivity</td>\n      <td>Walking</td>\n      <td>3D</td>\n      <td>1DCNN</td>\n      <td>PhysicalActivity</td>\n      <td>Walking</td>\n      <td>*</td>\n      <td>*</td>\n      <td>0.396758</td>\n      <td>0.002419</td>\n      <td>0.322997</td>\n      <td>0.001503</td>\n      <td>0.981527</td>\n      <td>9.526594e-05</td>\n    </tr>\n    <tr>\n      <th>109559</th>\n      <td>PhysicalActivity</td>\n      <td>Walking</td>\n      <td>3D</td>\n      <td>1DCNN</td>\n      <td>PhysicalActivity</td>\n      <td>Walking</td>\n      <td>3D</td>\n      <td>*</td>\n      <td>0.322997</td>\n      <td>0.001549</td>\n      <td>0.322997</td>\n      <td>0.001503</td>\n      <td>1.000000</td>\n      <td>1.570092e-16</td>\n    </tr>\n    <tr>\n      <th>109560</th>\n      <td>PhysicalActivity</td>\n      <td>Walking</td>\n      <td>3D</td>\n      <td>1DCNN</td>\n      <td>PhysicalActivity</td>\n      <td>Walking</td>\n      <td>3D</td>\n      <td>1DCNN</td>\n      <td>0.322997</td>\n      <td>0.001503</td>\n      <td>0.322997</td>\n      <td>0.001503</td>\n      <td>1.000000</td>\n      <td>0.000000e+00</td>\n    </tr>\n  </tbody>\n</table>\n<p>109561 rows × 14 columns</p>\n</div>",
      "text/plain": "             dimension_2 subdimension_2 sub_subdimension_2 algorithm_2  \\\n0                      *              *                  *           *   \n1                      *              *                  *           *   \n2                      *              *                  *           *   \n3                      *              *                  *           *   \n4                      *              *                  *           *   \n...                  ...            ...                ...         ...   \n109556  PhysicalActivity        Walking                 3D       1DCNN   \n109557  PhysicalActivity        Walking                 3D       1DCNN   \n109558  PhysicalActivity        Walking                 3D       1DCNN   \n109559  PhysicalActivity        Walking                 3D       1DCNN   \n109560  PhysicalActivity        Walking                 3D       1DCNN   \n\n             dimension_1 subdimension_1  sub_subdimension_1 algorithm_1  \\\n0                      *              *                   *           *   \n1           *instances01              *                   *           *   \n2         *instances1.5x              *                   *           *   \n3           *instances23              *                   *           *   \n4                Abdomen              *                   *           *   \n...                  ...            ...                 ...         ...   \n109556  PhysicalActivity       FullWeek  TimeSeriesFeatures           *   \n109557  PhysicalActivity       FullWeek  TimeSeriesFeatures       1DCNN   \n109558  PhysicalActivity        Walking                   *           *   \n109559  PhysicalActivity        Walking                  3D           *   \n109560  PhysicalActivity        Walking                  3D       1DCNN   \n\n            r2_1  r2_std_1      r2_2  r2_std_2  correlation  correlation_std  \n0       0.660751  0.001829  0.660751  0.001829     1.000000     0.000000e+00  \n1       0.869851  0.003602  0.660751  0.001829     0.536236     1.022476e-01  \n2       0.635053  0.001931  0.660751  0.001829     0.374114     5.152108e-02  \n3       0.900849  0.003993  0.660751  0.001829     0.722623     2.353698e-02  \n4       0.763341  0.002007  0.660751  0.001829     0.438220     3.954655e-02  \n...          ...       ...       ...       ...          ...              ...  \n109556  0.417744  0.002605  0.322997  0.001503     0.165672     2.222576e-03  \n109557  0.417744  0.002625  0.322997  0.001503     0.165672     2.222576e-03  \n109558  0.396758  0.002419  0.322997  0.001503     0.981527     9.526594e-05  \n109559  0.322997  0.001549  0.322997  0.001503     1.000000     1.570092e-16  \n109560  0.322997  0.001503  0.322997  0.001503     1.000000     0.000000e+00  \n\n[109561 rows x 14 columns]"
     },
     "execution_count": 6,
     "metadata": {},
     "output_type": "execute_result"
    }
   ],
   "source": [
    "correlations.reset_index()"
   ]
  }
 ],
 "metadata": {
  "kernelspec": {
   "display_name": "Python 3.8.5  ('env_website': venv)",
   "name": "pythonjvsc74a57bd090a2d2112265369b3cee75b3d17fea5658357118066bfd7e04cfa35ff7dbfd52"
  },
  "language_info": {
   "codemirror_mode": {
    "name": "ipython",
    "version": 3
   },
   "file_extension": ".py",
   "mimetype": "text/x-python",
   "name": "python",
   "nbconvert_exporter": "python",
   "pygments_lexer": "ipython3",
   "version": "3.8.5"
  },
  "metadata": {
   "interpreter": {
    "hash": "90a2d2112265369b3cee75b3d17fea5658357118066bfd7e04cfa35ff7dbfd52"
   }
  },
  "orig_nbformat": 2
 },
 "nbformat": 4,
 "nbformat_minor": 2
}