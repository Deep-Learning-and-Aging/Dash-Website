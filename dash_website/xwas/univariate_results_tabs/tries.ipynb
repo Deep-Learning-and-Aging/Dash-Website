{
 "cells": [
  {
   "cell_type": "code",
   "execution_count": 35,
   "metadata": {},
   "outputs": [],
   "source": [
    "from tqdm import tqdm\n",
    "import pandas as pd\n",
    "\n",
    "from dash_website.utils.aws_loader import load_feather, upload_file\n",
    "\n",
    "\n",
    "summary = load_feather(\"xwas/univariate_results/summary.feather\")\n",
    "summary[\"category\"] = summary[\"category\"].replace({\"HearingHearingTest\": \"Hearing\", \"LungsSpirometry\": \"Lungs\", \"BloodCellsBloodCount\": \"BloodCells\"})\n",
    "\n",
    "# RENAME_DIMENSIONS = {\"Hearing\": \"HearingHearingTest\", \"Lungs\": \"LungsSpirometry\", \"BloodCells\": \"BloodCellsBloodCount\", \"All_aging_dimensions\": \"All aging dimensions\"}\n",
    "\n",
    "summary.to_feather(\"tmp.feather\")\n",
    "\n",
    "# upload_file(\"tmp.feather\", \"xwas/univariate_results/summary.feather\")"
   ]
  },
  {
   "cell_type": "code",
   "execution_count": 34,
   "metadata": {},
   "outputs": [],
   "source": [
    "summary[\"category\"] = summary[\"category\"].replace({\"HearingHearingTest\": \"Hearing\", \"LungsSpirometry\": \"Lungs\", \"BloodCellsBloodCount\": \"BloodCells\"})"
   ]
  }
 ],
 "metadata": {
  "kernelspec": {
   "display_name": "Python 3.9.5 64-bit ('env_container': venv)",
   "name": "pythonjvsc74a57bd0827f31c7a17f115185da69808fd256ce792d94cfeb61ab0a6e35bd7e2999d502"
  },
  "language_info": {
   "codemirror_mode": {
    "name": "ipython",
    "version": 3
   },
   "file_extension": ".py",
   "mimetype": "text/x-python",
   "name": "python",
   "nbconvert_exporter": "python",
   "pygments_lexer": "ipython3",
   "version": "3.9.5"
  },
  "metadata": {
   "interpreter": {
    "hash": "827f31c7a17f115185da69808fd256ce792d94cfeb61ab0a6e35bd7e2999d502"
   }
  },
  "orig_nbformat": 2
 },
 "nbformat": 4,
 "nbformat_minor": 2
}