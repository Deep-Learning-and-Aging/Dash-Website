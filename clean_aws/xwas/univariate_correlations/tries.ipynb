{
 "cells": [
  {
   "cell_type": "code",
   "execution_count": 12,
   "metadata": {},
   "outputs": [
    {
     "data": {
      "text/html": "<div>\n<style scoped>\n    .dataframe tbody tr th:only-of-type {\n        vertical-align: middle;\n    }\n\n    .dataframe tbody tr th {\n        vertical-align: top;\n    }\n\n    .dataframe thead th {\n        text-align: right;\n    }\n</style>\n<table border=\"1\" class=\"dataframe\">\n  <thead>\n    <tr style=\"text-align: right;\">\n      <th></th>\n      <th>correlation</th>\n      <th>squeezed_dimension_1</th>\n      <th>squeezed_dimension_2</th>\n    </tr>\n  </thead>\n  <tbody>\n    <tr>\n      <th>0</th>\n      <td>NaN</td>\n      <td>*</td>\n      <td>*</td>\n    </tr>\n    <tr>\n      <th>1</th>\n      <td>NaN</td>\n      <td>*instances01</td>\n      <td>*</td>\n    </tr>\n    <tr>\n      <th>2</th>\n      <td>NaN</td>\n      <td>*instances1.5x</td>\n      <td>*</td>\n    </tr>\n    <tr>\n      <th>3</th>\n      <td>NaN</td>\n      <td>*instances23</td>\n      <td>*</td>\n    </tr>\n    <tr>\n      <th>4</th>\n      <td>NaN</td>\n      <td>Brain</td>\n      <td>*</td>\n    </tr>\n    <tr>\n      <th>...</th>\n      <td>...</td>\n      <td>...</td>\n      <td>...</td>\n    </tr>\n    <tr>\n      <th>1019</th>\n      <td>NaN</td>\n      <td>PhysicalActivity</td>\n      <td>BloodCells</td>\n    </tr>\n    <tr>\n      <th>1020</th>\n      <td>0.094461</td>\n      <td>Biochemistry</td>\n      <td>BloodCells</td>\n    </tr>\n    <tr>\n      <th>1021</th>\n      <td>-0.030999</td>\n      <td>BiochemistryUrine</td>\n      <td>BloodCells</td>\n    </tr>\n    <tr>\n      <th>1022</th>\n      <td>0.084629</td>\n      <td>BiochemistryBlood</td>\n      <td>BloodCells</td>\n    </tr>\n    <tr>\n      <th>1023</th>\n      <td>NaN</td>\n      <td>BloodCells</td>\n      <td>BloodCells</td>\n    </tr>\n  </tbody>\n</table>\n<p>1024 rows × 3 columns</p>\n</div>",
      "text/plain": "      correlation squeezed_dimension_1 squeezed_dimension_2\n0             NaN                    *                    *\n1             NaN         *instances01                    *\n2             NaN       *instances1.5x                    *\n3             NaN         *instances23                    *\n4             NaN                Brain                    *\n...           ...                  ...                  ...\n1019          NaN     PhysicalActivity           BloodCells\n1020     0.094461         Biochemistry           BloodCells\n1021    -0.030999    BiochemistryUrine           BloodCells\n1022     0.084629    BiochemistryBlood           BloodCells\n1023          NaN           BloodCells           BloodCells\n\n[1024 rows x 3 columns]"
     },
     "execution_count": 12,
     "metadata": {},
     "output_type": "execute_result"
    }
   ],
   "source": [
    "import pandas as pd\n",
    "\n",
    "\n",
    "if __name__ == \"__main__\":\n",
    "    squeezed_dimensions = pd.read_feather(\"../../../all_data/xwas/squeezed_dimensions_participant_and_time_of_examination.feather\").set_index([\"dimension\", \"subdimension\"])\n",
    "    \n",
    "    genetics = pd.read_feather(\"../../../all_data/genetics/correlations/correlations.feather\")[\n",
    "        [\"dimension_1\", \"subdimension_1\", \"dimension_2\", \"subdimension_2\", \"correlation\"]\n",
    "    ]\n",
    "\n",
    "    for index_dimension in [1, 2]:\n",
    "        genetics.set_index([f\"dimension_{index_dimension}\", f\"subdimension_{index_dimension}\"], inplace=True)\n",
    "        genetics[f\"squeezed_dimension_{index_dimension}\"] = squeezed_dimensions[\"squeezed_dimensions\"]\n",
    "        genetics.reset_index(drop=True, inplace=True)\n",
    "\n",
    "genetics"
   ]
  },
  {
   "cell_type": "code",
   "execution_count": null,
   "metadata": {},
   "outputs": [],
   "source": [
    "all_dimensions = genetics[\"squeezed_dimension_1\"].drop_duplicates().to_list() + [\"EyesALl\"]"
   ]
  },
  {
   "cell_type": "code",
   "execution_count": 10,
   "metadata": {},
   "outputs": [],
   "source": [
    "genetics.set_index([\"squeezed_dimension_1\"], inplace=True)\n",
    "genetics.loc[\"EyesAll\"] = 1\n",
    "\n",
    "genetics.reset_index(inplace=True)"
   ]
  }
 ],
 "metadata": {
  "kernelspec": {
   "display_name": "Python 3.9.4  ('env_container': venv)",
   "name": "pythonjvsc74a57bd0827f31c7a17f115185da69808fd256ce792d94cfeb61ab0a6e35bd7e2999d502"
  },
  "language_info": {
   "codemirror_mode": {
    "name": "ipython",
    "version": 3
   },
   "file_extension": ".py",
   "mimetype": "text/x-python",
   "name": "python",
   "nbconvert_exporter": "python",
   "pygments_lexer": "ipython3",
   "version": "3.9.4"
  },
  "metadata": {
   "interpreter": {
    "hash": "827f31c7a17f115185da69808fd256ce792d94cfeb61ab0a6e35bd7e2999d502"
   }
  },
  "orig_nbformat": 2
 },
 "nbformat": 4,
 "nbformat_minor": 2
}