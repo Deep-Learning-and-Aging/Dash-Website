{
 "cells": [
  {
   "cell_type": "code",
   "execution_count": 45,
   "metadata": {},
   "outputs": [],
   "source": [
    "import pandas as pd\n",
    "\n",
    "COLUMNS_TO_TAKE = {\n",
    "    \"organ\": \"dimension\",\n",
    "    \"view\": \"subdimension\",\n",
    "    \"transformation\": \"sub_subdimension\",\n",
    "    \"architecture\": \"algorithm\",\n",
    "    \"N_all\": \"sample_size\",\n",
    "    \"RMSE_all\": \"rmse\",\n",
    "    \"RMSE_sd_all\": \"rmse_std\",\n",
    "    \"R-Squared_all\": \"r2\",\n",
    "    \"R-Squared_sd_all\": \"r2_std\",\n",
    "}\n",
    "\n",
    "DATA_TYPE_NAMING = {\"instances\": \"all_samples\", \"eids\": \"average_per_participant\"}\n",
    "ALGORITHMS_NAMING = {\"ElasticNet\": \"elastic_net\", \"LightGBM\": \"ligth_gbm\", \"NeuralNetwork\": \"neural_network\"}\n",
    "\n",
    "\n",
    "for data_type in [\"instances\"]:  #[\"eids\", \"instances\"]:\n",
    "    scores_raw = pd.read_csv(\n",
    "        f\"../../all_data/page2_predictions/Performances/PERFORMANCES_tuned_alphabetical_{data_type}_Age_test.csv\"\n",
    "    )\n",
    "    scores_ = scores_raw[COLUMNS_TO_TAKE.keys()].rename(columns=COLUMNS_TO_TAKE)\n",
    "    scores = scores_.replace(ALGORITHMS_NAMING).replace({\"ImmuneSystem\": \"BloodCells\"}).reset_index(drop=True)\n",
    "    scores.loc[(scores[\"dimension\"] == \"Musculoskeletal\") & (scores[\"sub_subdimension\"] == \"MRI\"), \"sub_subdimension\"] = \"DXA\""
   ]
  },
  {
   "cell_type": "code",
   "execution_count": 48,
   "metadata": {},
   "outputs": [
    {
     "data": {
      "text/html": "<div>\n<style scoped>\n    .dataframe tbody tr th:only-of-type {\n        vertical-align: middle;\n    }\n\n    .dataframe tbody tr th {\n        vertical-align: top;\n    }\n\n    .dataframe thead th {\n        text-align: right;\n    }\n</style>\n<table border=\"1\" class=\"dataframe\">\n  <thead>\n    <tr style=\"text-align: right;\">\n      <th></th>\n      <th>dimension</th>\n      <th>subdimension</th>\n      <th>sub_subdimension</th>\n      <th>algorithm</th>\n      <th>sample_size</th>\n      <th>rmse</th>\n      <th>rmse_std</th>\n      <th>r2</th>\n      <th>r2_std</th>\n    </tr>\n  </thead>\n  <tbody>\n    <tr>\n      <th>156</th>\n      <td>Musculoskeletal</td>\n      <td>FullBody</td>\n      <td>Figure</td>\n      <td>InceptionResNetV2</td>\n      <td>42164</td>\n      <td>3.401060</td>\n      <td>0.012459</td>\n      <td>0.797196</td>\n      <td>0.001718</td>\n    </tr>\n    <tr>\n      <th>157</th>\n      <td>Musculoskeletal</td>\n      <td>FullBody</td>\n      <td>Figure</td>\n      <td>InceptionV3</td>\n      <td>42164</td>\n      <td>3.463083</td>\n      <td>0.012336</td>\n      <td>0.789732</td>\n      <td>0.001803</td>\n    </tr>\n    <tr>\n      <th>158</th>\n      <td>Musculoskeletal</td>\n      <td>FullBody</td>\n      <td>Flesh</td>\n      <td>InceptionResNetV2</td>\n      <td>42165</td>\n      <td>3.491831</td>\n      <td>0.012854</td>\n      <td>0.786221</td>\n      <td>0.001768</td>\n    </tr>\n    <tr>\n      <th>159</th>\n      <td>Musculoskeletal</td>\n      <td>FullBody</td>\n      <td>Flesh</td>\n      <td>InceptionV3</td>\n      <td>42165</td>\n      <td>3.587206</td>\n      <td>0.013521</td>\n      <td>0.774384</td>\n      <td>0.001973</td>\n    </tr>\n    <tr>\n      <th>160</th>\n      <td>Musculoskeletal</td>\n      <td>FullBody</td>\n      <td>Mixed</td>\n      <td>InceptionResNetV2</td>\n      <td>42164</td>\n      <td>3.294960</td>\n      <td>0.011919</td>\n      <td>0.809652</td>\n      <td>0.001645</td>\n    </tr>\n    <tr>\n      <th>161</th>\n      <td>Musculoskeletal</td>\n      <td>FullBody</td>\n      <td>Mixed</td>\n      <td>InceptionV3</td>\n      <td>42164</td>\n      <td>3.376518</td>\n      <td>0.012569</td>\n      <td>0.800112</td>\n      <td>0.001781</td>\n    </tr>\n    <tr>\n      <th>162</th>\n      <td>Musculoskeletal</td>\n      <td>FullBody</td>\n      <td>Skeleton</td>\n      <td>InceptionResNetV2</td>\n      <td>42164</td>\n      <td>3.596605</td>\n      <td>0.012375</td>\n      <td>0.773205</td>\n      <td>0.001810</td>\n    </tr>\n    <tr>\n      <th>163</th>\n      <td>Musculoskeletal</td>\n      <td>FullBody</td>\n      <td>Skeleton</td>\n      <td>InceptionV3</td>\n      <td>42164</td>\n      <td>3.648985</td>\n      <td>0.013319</td>\n      <td>0.766551</td>\n      <td>0.001961</td>\n    </tr>\n    <tr>\n      <th>164</th>\n      <td>Musculoskeletal</td>\n      <td>Hips</td>\n      <td>DXA</td>\n      <td>InceptionResNetV2</td>\n      <td>42146</td>\n      <td>4.457411</td>\n      <td>0.015046</td>\n      <td>0.651699</td>\n      <td>0.002498</td>\n    </tr>\n    <tr>\n      <th>165</th>\n      <td>Musculoskeletal</td>\n      <td>Hips</td>\n      <td>DXA</td>\n      <td>InceptionV3</td>\n      <td>42146</td>\n      <td>4.329807</td>\n      <td>0.014607</td>\n      <td>0.671355</td>\n      <td>0.002476</td>\n    </tr>\n    <tr>\n      <th>166</th>\n      <td>Musculoskeletal</td>\n      <td>Knees</td>\n      <td>DXA</td>\n      <td>InceptionResNetV2</td>\n      <td>39809</td>\n      <td>4.466957</td>\n      <td>0.016572</td>\n      <td>0.648941</td>\n      <td>0.002648</td>\n    </tr>\n    <tr>\n      <th>167</th>\n      <td>Musculoskeletal</td>\n      <td>Knees</td>\n      <td>DXA</td>\n      <td>InceptionV3</td>\n      <td>39809</td>\n      <td>4.412376</td>\n      <td>0.016573</td>\n      <td>0.657468</td>\n      <td>0.002783</td>\n    </tr>\n    <tr>\n      <th>168</th>\n      <td>Musculoskeletal</td>\n      <td>Scalars</td>\n      <td>AllScalars</td>\n      <td>elastic_net</td>\n      <td>486642</td>\n      <td>7.350813</td>\n      <td>0.006561</td>\n      <td>0.205165</td>\n      <td>0.000990</td>\n    </tr>\n    <tr>\n      <th>169</th>\n      <td>Musculoskeletal</td>\n      <td>Scalars</td>\n      <td>AllScalars</td>\n      <td>ligth_gbm</td>\n      <td>486642</td>\n      <td>7.130282</td>\n      <td>0.006649</td>\n      <td>0.252141</td>\n      <td>0.001060</td>\n    </tr>\n    <tr>\n      <th>170</th>\n      <td>Musculoskeletal</td>\n      <td>Scalars</td>\n      <td>AllScalars</td>\n      <td>neural_network</td>\n      <td>486642</td>\n      <td>7.131765</td>\n      <td>0.006680</td>\n      <td>0.251830</td>\n      <td>0.001085</td>\n    </tr>\n    <tr>\n      <th>171</th>\n      <td>Musculoskeletal</td>\n      <td>Scalars</td>\n      <td>Anthropometry</td>\n      <td>elastic_net</td>\n      <td>565714</td>\n      <td>7.784303</td>\n      <td>0.006072</td>\n      <td>0.131686</td>\n      <td>0.000822</td>\n    </tr>\n    <tr>\n      <th>172</th>\n      <td>Musculoskeletal</td>\n      <td>Scalars</td>\n      <td>Anthropometry</td>\n      <td>ligth_gbm</td>\n      <td>565714</td>\n      <td>7.698719</td>\n      <td>0.005981</td>\n      <td>0.150675</td>\n      <td>0.000878</td>\n    </tr>\n    <tr>\n      <th>173</th>\n      <td>Musculoskeletal</td>\n      <td>Scalars</td>\n      <td>Anthropometry</td>\n      <td>neural_network</td>\n      <td>565714</td>\n      <td>7.716104</td>\n      <td>0.006208</td>\n      <td>0.146835</td>\n      <td>0.000882</td>\n    </tr>\n    <tr>\n      <th>174</th>\n      <td>Musculoskeletal</td>\n      <td>Scalars</td>\n      <td>HandGripStrength</td>\n      <td>elastic_net</td>\n      <td>568286</td>\n      <td>7.853055</td>\n      <td>0.006250</td>\n      <td>0.116952</td>\n      <td>0.000806</td>\n    </tr>\n    <tr>\n      <th>175</th>\n      <td>Musculoskeletal</td>\n      <td>Scalars</td>\n      <td>HandGripStrength</td>\n      <td>ligth_gbm</td>\n      <td>568286</td>\n      <td>7.790741</td>\n      <td>0.006557</td>\n      <td>0.130910</td>\n      <td>0.000863</td>\n    </tr>\n    <tr>\n      <th>176</th>\n      <td>Musculoskeletal</td>\n      <td>Scalars</td>\n      <td>HandGripStrength</td>\n      <td>neural_network</td>\n      <td>568286</td>\n      <td>7.796929</td>\n      <td>0.006281</td>\n      <td>0.129529</td>\n      <td>0.000883</td>\n    </tr>\n    <tr>\n      <th>177</th>\n      <td>Musculoskeletal</td>\n      <td>Scalars</td>\n      <td>HeelBoneDensitometry</td>\n      <td>elastic_net</td>\n      <td>495664</td>\n      <td>8.104541</td>\n      <td>0.006511</td>\n      <td>0.034587</td>\n      <td>0.000522</td>\n    </tr>\n    <tr>\n      <th>178</th>\n      <td>Musculoskeletal</td>\n      <td>Scalars</td>\n      <td>HeelBoneDensitometry</td>\n      <td>ligth_gbm</td>\n      <td>495664</td>\n      <td>8.044125</td>\n      <td>0.006378</td>\n      <td>0.048926</td>\n      <td>0.000588</td>\n    </tr>\n    <tr>\n      <th>179</th>\n      <td>Musculoskeletal</td>\n      <td>Scalars</td>\n      <td>HeelBoneDensitometry</td>\n      <td>neural_network</td>\n      <td>495664</td>\n      <td>8.048557</td>\n      <td>0.006273</td>\n      <td>0.047878</td>\n      <td>0.000603</td>\n    </tr>\n    <tr>\n      <th>180</th>\n      <td>Musculoskeletal</td>\n      <td>Scalars</td>\n      <td>Impedance</td>\n      <td>elastic_net</td>\n      <td>561408</td>\n      <td>8.266762</td>\n      <td>0.006296</td>\n      <td>0.019715</td>\n      <td>0.000362</td>\n    </tr>\n    <tr>\n      <th>181</th>\n      <td>Musculoskeletal</td>\n      <td>Scalars</td>\n      <td>Impedance</td>\n      <td>ligth_gbm</td>\n      <td>561408</td>\n      <td>8.173086</td>\n      <td>0.006304</td>\n      <td>0.041806</td>\n      <td>0.000523</td>\n    </tr>\n    <tr>\n      <th>182</th>\n      <td>Musculoskeletal</td>\n      <td>Scalars</td>\n      <td>Impedance</td>\n      <td>neural_network</td>\n      <td>561408</td>\n      <td>8.175931</td>\n      <td>0.006273</td>\n      <td>0.041139</td>\n      <td>0.000541</td>\n    </tr>\n    <tr>\n      <th>183</th>\n      <td>Musculoskeletal</td>\n      <td>Spine</td>\n      <td>Coronal</td>\n      <td>InceptionResNetV2</td>\n      <td>41058</td>\n      <td>4.716191</td>\n      <td>0.017439</td>\n      <td>0.610344</td>\n      <td>0.003066</td>\n    </tr>\n    <tr>\n      <th>184</th>\n      <td>Musculoskeletal</td>\n      <td>Spine</td>\n      <td>Coronal</td>\n      <td>InceptionV3</td>\n      <td>41058</td>\n      <td>4.779186</td>\n      <td>0.018140</td>\n      <td>0.599865</td>\n      <td>0.003131</td>\n    </tr>\n    <tr>\n      <th>185</th>\n      <td>Musculoskeletal</td>\n      <td>Spine</td>\n      <td>Sagittal</td>\n      <td>InceptionResNetV2</td>\n      <td>40976</td>\n      <td>4.252679</td>\n      <td>0.014499</td>\n      <td>0.683022</td>\n      <td>0.002495</td>\n    </tr>\n    <tr>\n      <th>186</th>\n      <td>Musculoskeletal</td>\n      <td>Spine</td>\n      <td>Sagittal</td>\n      <td>InceptionV3</td>\n      <td>40976</td>\n      <td>4.317340</td>\n      <td>0.014891</td>\n      <td>0.673309</td>\n      <td>0.002681</td>\n    </tr>\n  </tbody>\n</table>\n</div>",
      "text/plain": "           dimension subdimension      sub_subdimension          algorithm  \\\n156  Musculoskeletal     FullBody                Figure  InceptionResNetV2   \n157  Musculoskeletal     FullBody                Figure        InceptionV3   \n158  Musculoskeletal     FullBody                 Flesh  InceptionResNetV2   \n159  Musculoskeletal     FullBody                 Flesh        InceptionV3   \n160  Musculoskeletal     FullBody                 Mixed  InceptionResNetV2   \n161  Musculoskeletal     FullBody                 Mixed        InceptionV3   \n162  Musculoskeletal     FullBody              Skeleton  InceptionResNetV2   \n163  Musculoskeletal     FullBody              Skeleton        InceptionV3   \n164  Musculoskeletal         Hips                   DXA  InceptionResNetV2   \n165  Musculoskeletal         Hips                   DXA        InceptionV3   \n166  Musculoskeletal        Knees                   DXA  InceptionResNetV2   \n167  Musculoskeletal        Knees                   DXA        InceptionV3   \n168  Musculoskeletal      Scalars            AllScalars        elastic_net   \n169  Musculoskeletal      Scalars            AllScalars          ligth_gbm   \n170  Musculoskeletal      Scalars            AllScalars     neural_network   \n171  Musculoskeletal      Scalars         Anthropometry        elastic_net   \n172  Musculoskeletal      Scalars         Anthropometry          ligth_gbm   \n173  Musculoskeletal      Scalars         Anthropometry     neural_network   \n174  Musculoskeletal      Scalars      HandGripStrength        elastic_net   \n175  Musculoskeletal      Scalars      HandGripStrength          ligth_gbm   \n176  Musculoskeletal      Scalars      HandGripStrength     neural_network   \n177  Musculoskeletal      Scalars  HeelBoneDensitometry        elastic_net   \n178  Musculoskeletal      Scalars  HeelBoneDensitometry          ligth_gbm   \n179  Musculoskeletal      Scalars  HeelBoneDensitometry     neural_network   \n180  Musculoskeletal      Scalars             Impedance        elastic_net   \n181  Musculoskeletal      Scalars             Impedance          ligth_gbm   \n182  Musculoskeletal      Scalars             Impedance     neural_network   \n183  Musculoskeletal        Spine               Coronal  InceptionResNetV2   \n184  Musculoskeletal        Spine               Coronal        InceptionV3   \n185  Musculoskeletal        Spine              Sagittal  InceptionResNetV2   \n186  Musculoskeletal        Spine              Sagittal        InceptionV3   \n\n     sample_size      rmse  rmse_std        r2    r2_std  \n156        42164  3.401060  0.012459  0.797196  0.001718  \n157        42164  3.463083  0.012336  0.789732  0.001803  \n158        42165  3.491831  0.012854  0.786221  0.001768  \n159        42165  3.587206  0.013521  0.774384  0.001973  \n160        42164  3.294960  0.011919  0.809652  0.001645  \n161        42164  3.376518  0.012569  0.800112  0.001781  \n162        42164  3.596605  0.012375  0.773205  0.001810  \n163        42164  3.648985  0.013319  0.766551  0.001961  \n164        42146  4.457411  0.015046  0.651699  0.002498  \n165        42146  4.329807  0.014607  0.671355  0.002476  \n166        39809  4.466957  0.016572  0.648941  0.002648  \n167        39809  4.412376  0.016573  0.657468  0.002783  \n168       486642  7.350813  0.006561  0.205165  0.000990  \n169       486642  7.130282  0.006649  0.252141  0.001060  \n170       486642  7.131765  0.006680  0.251830  0.001085  \n171       565714  7.784303  0.006072  0.131686  0.000822  \n172       565714  7.698719  0.005981  0.150675  0.000878  \n173       565714  7.716104  0.006208  0.146835  0.000882  \n174       568286  7.853055  0.006250  0.116952  0.000806  \n175       568286  7.790741  0.006557  0.130910  0.000863  \n176       568286  7.796929  0.006281  0.129529  0.000883  \n177       495664  8.104541  0.006511  0.034587  0.000522  \n178       495664  8.044125  0.006378  0.048926  0.000588  \n179       495664  8.048557  0.006273  0.047878  0.000603  \n180       561408  8.266762  0.006296  0.019715  0.000362  \n181       561408  8.173086  0.006304  0.041806  0.000523  \n182       561408  8.175931  0.006273  0.041139  0.000541  \n183        41058  4.716191  0.017439  0.610344  0.003066  \n184        41058  4.779186  0.018140  0.599865  0.003131  \n185        40976  4.252679  0.014499  0.683022  0.002495  \n186        40976  4.317340  0.014891  0.673309  0.002681  "
     },
     "execution_count": 48,
     "metadata": {},
     "output_type": "execute_result"
    }
   ],
   "source": [
    "scores[scores[\"dimension\"] == \"Musculoskeletal\"]"
   ]
  }
 ],
 "metadata": {
  "kernelspec": {
   "display_name": "Python 3.8.5  ('env_website': venv)",
   "name": "pythonjvsc74a57bd090a2d2112265369b3cee75b3d17fea5658357118066bfd7e04cfa35ff7dbfd52"
  },
  "language_info": {
   "codemirror_mode": {
    "name": "ipython",
    "version": 3
   },
   "file_extension": ".py",
   "mimetype": "text/x-python",
   "name": "python",
   "nbconvert_exporter": "python",
   "pygments_lexer": "ipython3",
   "version": "3.8.5"
  },
  "metadata": {
   "interpreter": {
    "hash": "90a2d2112265369b3cee75b3d17fea5658357118066bfd7e04cfa35ff7dbfd52"
   }
  },
  "orig_nbformat": 2
 },
 "nbformat": 4,
 "nbformat_minor": 2
}