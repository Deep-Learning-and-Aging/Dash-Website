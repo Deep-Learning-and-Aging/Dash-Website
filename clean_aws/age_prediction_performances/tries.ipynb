{
 "cells": [
  {
   "cell_type": "code",
   "execution_count": 31,
   "metadata": {},
   "outputs": [
    {
     "name": "stdout",
     "output_type": "stream",
     "text": [
      "Series([], Name: sub_subdimension, dtype: object)\n"
     ]
    }
   ],
   "source": [
    "import pandas as pd \n",
    "\n",
    "SAMPLE_DEFINITION_NAMING = {\n",
    "    \"instances\": \"all_samples_per_participant\",\n",
    "    \"eids\": \"average_per_participant\",\n",
    "    \"*\": \"all_samples_when_possible_otherwise_average\",\n",
    "}\n",
    "COLUMNS_TO_TAKE = {\n",
    "    \"organ\": \"dimension\",\n",
    "    \"view\": \"subdimension\",\n",
    "    \"transformation\": \"sub_subdimension\",\n",
    "    \"architecture\": \"algorithm\",\n",
    "    \"N_all\": \"sample_size\",\n",
    "    \"RMSE_all\": \"rmse\",\n",
    "    \"RMSE_sd_all\": \"rmse_std\",\n",
    "    \"R-Squared_all\": \"r2\",\n",
    "    \"R-Squared_sd_all\": \"r2_std\",\n",
    "}\n",
    "DICT_TO_CHANGE_DIMENSIONS = {\"ImmuneSystem\": \"BloodCells\"}\n",
    "\n",
    "sample_definition = \"eids\"\n",
    "\n",
    "scores = pd.read_csv(f\"../../all_data/page2_predictions/Performances/PERFORMANCES_bestmodels_alphabetical_{sample_definition}_Age_test.csv\")[COLUMNS_TO_TAKE].rename(columns=COLUMNS_TO_TAKE)\n",
    "scores.loc[(scores[\"dimension\"] == \"Musculoskeletal\") & (scores[\"sub_subdimension\"] == \"MRI\"), \"sub_subdimension\"] = \"DXA\"\n",
    "scores.replace(DICT_TO_CHANGE_DIMENSIONS, inplace=True)"
   ]
  },
  {
   "cell_type": "code",
   "execution_count": 30,
   "metadata": {},
   "outputs": [
    {
     "data": {
      "text/html": "<div>\n<style scoped>\n    .dataframe tbody tr th:only-of-type {\n        vertical-align: middle;\n    }\n\n    .dataframe tbody tr th {\n        vertical-align: top;\n    }\n\n    .dataframe thead th {\n        text-align: right;\n    }\n</style>\n<table border=\"1\" class=\"dataframe\">\n  <thead>\n    <tr style=\"text-align: right;\">\n      <th></th>\n      <th>dimension</th>\n      <th>subdimension</th>\n      <th>sub_subdimension</th>\n      <th>algorithm</th>\n      <th>sample_size</th>\n      <th>rmse</th>\n      <th>rmse_std</th>\n      <th>r2</th>\n      <th>r2_std</th>\n    </tr>\n  </thead>\n  <tbody>\n    <tr>\n      <th>0</th>\n      <td>*</td>\n      <td>*</td>\n      <td>*</td>\n      <td>*</td>\n      <td>216</td>\n      <td>2.397540</td>\n      <td>0.099647</td>\n      <td>0.885043</td>\n      <td>0.012154</td>\n    </tr>\n    <tr>\n      <th>1</th>\n      <td>*instances01</td>\n      <td>*</td>\n      <td>*</td>\n      <td>*</td>\n      <td>247</td>\n      <td>3.304633</td>\n      <td>0.143605</td>\n      <td>0.804912</td>\n      <td>0.020429</td>\n    </tr>\n    <tr>\n      <th>2</th>\n      <td>*instances1.5x</td>\n      <td>*</td>\n      <td>*</td>\n      <td>*</td>\n      <td>77317</td>\n      <td>4.742648</td>\n      <td>0.012778</td>\n      <td>0.627445</td>\n      <td>0.002007</td>\n    </tr>\n    <tr>\n      <th>3</th>\n      <td>*instances23</td>\n      <td>*</td>\n      <td>*</td>\n      <td>*</td>\n      <td>2401</td>\n      <td>2.245283</td>\n      <td>0.033900</td>\n      <td>0.904079</td>\n      <td>0.003515</td>\n    </tr>\n    <tr>\n      <th>4</th>\n      <td>Abdomen</td>\n      <td>*</td>\n      <td>*</td>\n      <td>*</td>\n      <td>34445</td>\n      <td>3.703101</td>\n      <td>0.014326</td>\n      <td>0.758434</td>\n      <td>0.002114</td>\n    </tr>\n    <tr>\n      <th>5</th>\n      <td>Abdomen</td>\n      <td>Liver</td>\n      <td>*</td>\n      <td>*</td>\n      <td>43139</td>\n      <td>4.076547</td>\n      <td>0.015039</td>\n      <td>0.707760</td>\n      <td>0.002221</td>\n    </tr>\n    <tr>\n      <th>6</th>\n      <td>Abdomen</td>\n      <td>Pancreas</td>\n      <td>*</td>\n      <td>*</td>\n      <td>34524</td>\n      <td>4.139197</td>\n      <td>0.015693</td>\n      <td>0.698286</td>\n      <td>0.002643</td>\n    </tr>\n    <tr>\n      <th>7</th>\n      <td>Arterial</td>\n      <td>*</td>\n      <td>*</td>\n      <td>*</td>\n      <td>8009</td>\n      <td>4.237365</td>\n      <td>0.032807</td>\n      <td>0.679971</td>\n      <td>0.005380</td>\n    </tr>\n    <tr>\n      <th>8</th>\n      <td>Arterial</td>\n      <td>Carotids</td>\n      <td>*</td>\n      <td>*</td>\n      <td>8357</td>\n      <td>4.471869</td>\n      <td>0.034983</td>\n      <td>0.644509</td>\n      <td>0.005954</td>\n    </tr>\n    <tr>\n      <th>9</th>\n      <td>Arterial</td>\n      <td>PulseWaveAnalysis</td>\n      <td>*</td>\n      <td>*</td>\n      <td>206535</td>\n      <td>6.302494</td>\n      <td>0.009276</td>\n      <td>0.389648</td>\n      <td>0.001714</td>\n    </tr>\n    <tr>\n      <th>10</th>\n      <td>Biochemistry</td>\n      <td>*</td>\n      <td>*</td>\n      <td>*</td>\n      <td>73992</td>\n      <td>5.800623</td>\n      <td>0.015306</td>\n      <td>0.503069</td>\n      <td>0.002554</td>\n    </tr>\n    <tr>\n      <th>11</th>\n      <td>Biochemistry</td>\n      <td>Blood</td>\n      <td>*</td>\n      <td>*</td>\n      <td>241155</td>\n      <td>5.906254</td>\n      <td>0.008654</td>\n      <td>0.483325</td>\n      <td>0.001433</td>\n    </tr>\n    <tr>\n      <th>12</th>\n      <td>Biochemistry</td>\n      <td>Urine</td>\n      <td>Scalars</td>\n      <td>*</td>\n      <td>155603</td>\n      <td>7.710235</td>\n      <td>0.011288</td>\n      <td>0.095710</td>\n      <td>0.001460</td>\n    </tr>\n    <tr>\n      <th>13</th>\n      <td>Brain</td>\n      <td>*</td>\n      <td>*</td>\n      <td>*</td>\n      <td>24159</td>\n      <td>3.569740</td>\n      <td>0.018172</td>\n      <td>0.762216</td>\n      <td>0.002541</td>\n    </tr>\n    <tr>\n      <th>14</th>\n      <td>Brain</td>\n      <td>Cognitive</td>\n      <td>*</td>\n      <td>*</td>\n      <td>31720</td>\n      <td>5.895552</td>\n      <td>0.022201</td>\n      <td>0.379992</td>\n      <td>0.004175</td>\n    </tr>\n    <tr>\n      <th>15</th>\n      <td>Brain</td>\n      <td>MRI</td>\n      <td>*</td>\n      <td>*</td>\n      <td>37402</td>\n      <td>3.732657</td>\n      <td>0.014733</td>\n      <td>0.748139</td>\n      <td>0.002194</td>\n    </tr>\n    <tr>\n      <th>16</th>\n      <td>Eyes</td>\n      <td>*</td>\n      <td>*</td>\n      <td>*</td>\n      <td>57230</td>\n      <td>3.355524</td>\n      <td>0.010900</td>\n      <td>0.826578</td>\n      <td>0.001279</td>\n    </tr>\n    <tr>\n      <th>17</th>\n      <td>Eyes</td>\n      <td>All</td>\n      <td>*</td>\n      <td>*</td>\n      <td>91360</td>\n      <td>6.554845</td>\n      <td>0.014305</td>\n      <td>0.340339</td>\n      <td>0.002412</td>\n    </tr>\n    <tr>\n      <th>18</th>\n      <td>Eyes</td>\n      <td>Fundus</td>\n      <td>Raw</td>\n      <td>*</td>\n      <td>82365</td>\n      <td>3.987789</td>\n      <td>0.011721</td>\n      <td>0.752974</td>\n      <td>0.001565</td>\n    </tr>\n    <tr>\n      <th>19</th>\n      <td>Eyes</td>\n      <td>OCT</td>\n      <td>Raw</td>\n      <td>*</td>\n      <td>85364</td>\n      <td>4.465675</td>\n      <td>0.011873</td>\n      <td>0.689199</td>\n      <td>0.001804</td>\n    </tr>\n    <tr>\n      <th>20</th>\n      <td>Hearing</td>\n      <td>*</td>\n      <td>*</td>\n      <td>*</td>\n      <td>201277</td>\n      <td>6.970513</td>\n      <td>0.010234</td>\n      <td>0.250206</td>\n      <td>0.001896</td>\n    </tr>\n    <tr>\n      <th>21</th>\n      <td>Heart</td>\n      <td>*</td>\n      <td>*</td>\n      <td>*</td>\n      <td>16709</td>\n      <td>2.824735</td>\n      <td>0.016087</td>\n      <td>0.856494</td>\n      <td>0.001900</td>\n    </tr>\n    <tr>\n      <th>22</th>\n      <td>Heart</td>\n      <td>ECG</td>\n      <td>*</td>\n      <td>*</td>\n      <td>21793</td>\n      <td>5.905205</td>\n      <td>0.025331</td>\n      <td>0.376650</td>\n      <td>0.005077</td>\n    </tr>\n    <tr>\n      <th>23</th>\n      <td>Heart</td>\n      <td>MRI</td>\n      <td>*</td>\n      <td>*</td>\n      <td>34091</td>\n      <td>2.878554</td>\n      <td>0.011696</td>\n      <td>0.851128</td>\n      <td>0.001416</td>\n    </tr>\n    <tr>\n      <th>24</th>\n      <td>BloodCells</td>\n      <td>BloodCount</td>\n      <td>Scalars</td>\n      <td>*</td>\n      <td>471001</td>\n      <td>7.595317</td>\n      <td>0.006230</td>\n      <td>0.116740</td>\n      <td>0.000867</td>\n    </tr>\n    <tr>\n      <th>25</th>\n      <td>Lungs</td>\n      <td>*</td>\n      <td>*</td>\n      <td>*</td>\n      <td>381162</td>\n      <td>6.999896</td>\n      <td>0.007042</td>\n      <td>0.242624</td>\n      <td>0.001186</td>\n    </tr>\n    <tr>\n      <th>26</th>\n      <td>Musculoskeletal</td>\n      <td>*</td>\n      <td>*</td>\n      <td>*</td>\n      <td>37367</td>\n      <td>2.664528</td>\n      <td>0.009906</td>\n      <td>0.872301</td>\n      <td>0.001104</td>\n    </tr>\n    <tr>\n      <th>27</th>\n      <td>Musculoskeletal</td>\n      <td>FullBody</td>\n      <td>*</td>\n      <td>*</td>\n      <td>41092</td>\n      <td>2.861159</td>\n      <td>0.010396</td>\n      <td>0.853533</td>\n      <td>0.001274</td>\n    </tr>\n    <tr>\n      <th>28</th>\n      <td>Musculoskeletal</td>\n      <td>Hips</td>\n      <td>*</td>\n      <td>*</td>\n      <td>41076</td>\n      <td>4.208769</td>\n      <td>0.015196</td>\n      <td>0.683108</td>\n      <td>0.002588</td>\n    </tr>\n    <tr>\n      <th>29</th>\n      <td>Musculoskeletal</td>\n      <td>Knees</td>\n      <td>*</td>\n      <td>*</td>\n      <td>38910</td>\n      <td>4.206794</td>\n      <td>0.015687</td>\n      <td>0.682830</td>\n      <td>0.002667</td>\n    </tr>\n    <tr>\n      <th>30</th>\n      <td>Musculoskeletal</td>\n      <td>Scalars</td>\n      <td>*</td>\n      <td>*</td>\n      <td>441571</td>\n      <td>7.004382</td>\n      <td>0.006598</td>\n      <td>0.246785</td>\n      <td>0.001106</td>\n    </tr>\n    <tr>\n      <th>31</th>\n      <td>Musculoskeletal</td>\n      <td>Spine</td>\n      <td>*</td>\n      <td>*</td>\n      <td>40059</td>\n      <td>3.816403</td>\n      <td>0.013553</td>\n      <td>0.739486</td>\n      <td>0.002178</td>\n    </tr>\n    <tr>\n      <th>32</th>\n      <td>PhysicalActivity</td>\n      <td>*</td>\n      <td>*</td>\n      <td>*</td>\n      <td>77317</td>\n      <td>4.756229</td>\n      <td>0.012816</td>\n      <td>0.625308</td>\n      <td>0.002016</td>\n    </tr>\n  </tbody>\n</table>\n</div>",
      "text/plain": "           dimension       subdimension sub_subdimension algorithm  \\\n0                  *                  *                *         *   \n1       *instances01                  *                *         *   \n2     *instances1.5x                  *                *         *   \n3       *instances23                  *                *         *   \n4            Abdomen                  *                *         *   \n5            Abdomen              Liver                *         *   \n6            Abdomen           Pancreas                *         *   \n7           Arterial                  *                *         *   \n8           Arterial           Carotids                *         *   \n9           Arterial  PulseWaveAnalysis                *         *   \n10      Biochemistry                  *                *         *   \n11      Biochemistry              Blood                *         *   \n12      Biochemistry              Urine          Scalars         *   \n13             Brain                  *                *         *   \n14             Brain          Cognitive                *         *   \n15             Brain                MRI                *         *   \n16              Eyes                  *                *         *   \n17              Eyes                All                *         *   \n18              Eyes             Fundus              Raw         *   \n19              Eyes                OCT              Raw         *   \n20           Hearing                  *                *         *   \n21             Heart                  *                *         *   \n22             Heart                ECG                *         *   \n23             Heart                MRI                *         *   \n24        BloodCells         BloodCount          Scalars         *   \n25             Lungs                  *                *         *   \n26   Musculoskeletal                  *                *         *   \n27   Musculoskeletal           FullBody                *         *   \n28   Musculoskeletal               Hips                *         *   \n29   Musculoskeletal              Knees                *         *   \n30   Musculoskeletal            Scalars                *         *   \n31   Musculoskeletal              Spine                *         *   \n32  PhysicalActivity                  *                *         *   \n\n    sample_size      rmse  rmse_std        r2    r2_std  \n0           216  2.397540  0.099647  0.885043  0.012154  \n1           247  3.304633  0.143605  0.804912  0.020429  \n2         77317  4.742648  0.012778  0.627445  0.002007  \n3          2401  2.245283  0.033900  0.904079  0.003515  \n4         34445  3.703101  0.014326  0.758434  0.002114  \n5         43139  4.076547  0.015039  0.707760  0.002221  \n6         34524  4.139197  0.015693  0.698286  0.002643  \n7          8009  4.237365  0.032807  0.679971  0.005380  \n8          8357  4.471869  0.034983  0.644509  0.005954  \n9        206535  6.302494  0.009276  0.389648  0.001714  \n10        73992  5.800623  0.015306  0.503069  0.002554  \n11       241155  5.906254  0.008654  0.483325  0.001433  \n12       155603  7.710235  0.011288  0.095710  0.001460  \n13        24159  3.569740  0.018172  0.762216  0.002541  \n14        31720  5.895552  0.022201  0.379992  0.004175  \n15        37402  3.732657  0.014733  0.748139  0.002194  \n16        57230  3.355524  0.010900  0.826578  0.001279  \n17        91360  6.554845  0.014305  0.340339  0.002412  \n18        82365  3.987789  0.011721  0.752974  0.001565  \n19        85364  4.465675  0.011873  0.689199  0.001804  \n20       201277  6.970513  0.010234  0.250206  0.001896  \n21        16709  2.824735  0.016087  0.856494  0.001900  \n22        21793  5.905205  0.025331  0.376650  0.005077  \n23        34091  2.878554  0.011696  0.851128  0.001416  \n24       471001  7.595317  0.006230  0.116740  0.000867  \n25       381162  6.999896  0.007042  0.242624  0.001186  \n26        37367  2.664528  0.009906  0.872301  0.001104  \n27        41092  2.861159  0.010396  0.853533  0.001274  \n28        41076  4.208769  0.015196  0.683108  0.002588  \n29        38910  4.206794  0.015687  0.682830  0.002667  \n30       441571  7.004382  0.006598  0.246785  0.001106  \n31        40059  3.816403  0.013553  0.739486  0.002178  \n32        77317  4.756229  0.012816  0.625308  0.002016  "
     },
     "execution_count": 30,
     "metadata": {},
     "output_type": "execute_result"
    }
   ],
   "source": [
    "scores"
   ]
  }
 ],
 "metadata": {
  "kernelspec": {
   "display_name": "Python 3.9.4  ('env_container': venv)",
   "name": "pythonjvsc74a57bd0827f31c7a17f115185da69808fd256ce792d94cfeb61ab0a6e35bd7e2999d502"
  },
  "language_info": {
   "codemirror_mode": {
    "name": "ipython",
    "version": 3
   },
   "file_extension": ".py",
   "mimetype": "text/x-python",
   "name": "python",
   "nbconvert_exporter": "python",
   "pygments_lexer": "ipython3",
   "version": "3.9.4"
  },
  "metadata": {
   "interpreter": {
    "hash": "827f31c7a17f115185da69808fd256ce792d94cfeb61ab0a6e35bd7e2999d502"
   }
  },
  "orig_nbformat": 2
 },
 "nbformat": 4,
 "nbformat_minor": 2
}