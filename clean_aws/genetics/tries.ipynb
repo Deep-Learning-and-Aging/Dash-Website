{
 "cells": [
  {
   "cell_type": "code",
   "execution_count": 34,
   "metadata": {},
   "outputs": [],
   "source": [
    "import pandas as pd\n",
    "\n",
    "COLUMNS_TO_TAKE = {\"SNP\": \"SNP\", \"CHR\": \"chromosome\", \"Gene\": \"Gene\", \"Gene_type\": \"Gene_type\", \"P_BOLT_LMM_INF\": \"p_value\", \"BETA\": \"size_effect\", \"organ\": \"dimension\"}\n",
    "DIMENSIONS_VOLCANO = ['Lungs',\n",
    " 'MusculoskeletalScalars',\n",
    " 'ImmuneSystem',\n",
    " 'ArterialPulseWaveAnalysis',\n",
    " 'BiochemistryBlood',\n",
    " 'EyesOCT',\n",
    " 'EyesFundus',\n",
    " 'BrainMRI',\n",
    " 'Eyes',\n",
    " 'MusculoskeletalSpine',\n",
    " 'Musculoskeletal',\n",
    " 'MusculoskeletalFullBody',\n",
    " 'BiochemistryUrine',\n",
    " 'Abdomen',\n",
    " 'AbdomenLiver',\n",
    " 'Biochemistry',\n",
    " 'HeartMRI',\n",
    " 'Heart',\n",
    " 'Hearing',\n",
    " '*instances1.5x',\n",
    " 'PhysicalActivity',\n",
    " 'BrainCognitive',\n",
    " 'MusculoskeletalKnees',\n",
    " 'MusculoskeletalHips',\n",
    " 'Brain']\n",
    "\n",
    "size_effects = pd.read_csv(\"../../all_data/page10_GWASResults/Volcano/GWAS_hits_Age_All_withGenes.csv\")[COLUMNS_TO_TAKE].rename(columns=COLUMNS_TO_TAKE)\n",
    "size_effects.replace({\"*instances1\": \"*instances1.5x\"}, inplace=True)\n",
    "size_effects.drop(index=size_effects[size_effects[\"dimension\"] == \"withGenes\"].index, inplace=True)\n",
    "size_effects.reset_index(drop=True).to_feather(\"../../all_data/genetics/gwas/size_effects.feather\")"
   ]
  }
 ],
 "metadata": {
  "kernelspec": {
   "display_name": "Python 3.9.4  ('env_container': venv)",
   "name": "pythonjvsc74a57bd0827f31c7a17f115185da69808fd256ce792d94cfeb61ab0a6e35bd7e2999d502"
  },
  "language_info": {
   "codemirror_mode": {
    "name": "ipython",
    "version": 3
   },
   "file_extension": ".py",
   "mimetype": "text/x-python",
   "name": "python",
   "nbconvert_exporter": "python",
   "pygments_lexer": "ipython3",
   "version": "3.9.4"
  },
  "metadata": {
   "interpreter": {
    "hash": "827f31c7a17f115185da69808fd256ce792d94cfeb61ab0a6e35bd7e2999d502"
   }
  },
  "orig_nbformat": 2
 },
 "nbformat": 4,
 "nbformat_minor": 2
}