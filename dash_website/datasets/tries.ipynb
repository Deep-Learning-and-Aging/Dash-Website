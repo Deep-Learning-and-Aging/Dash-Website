{
 "cells": [
  {
   "cell_type": "code",
   "execution_count": 1,
   "metadata": {},
   "outputs": [],
   "source": [
    "columns_to_take = [\n",
    "    \"id\",\n",
    "    \"sex\",\n",
    "    \"age_category\",\n",
    "    \"aging_rate\",\n",
    "    \"sample\",\n",
    "    \"Age\",\n",
    "    \"Biological_Age\",\n",
    "    \"Ethnicity.White\",\n",
    "    \"Ethnicity.British\",\n",
    "    \"Ethnicity.Irish\",\n",
    "    \"Ethnicity.White_Other\",\n",
    "    \"Ethnicity.Mixed\",\n",
    "    \"Ethnicity.White_and_Black_Caribbean\",\n",
    "    \"Ethnicity.White_and_Black_African\",\n",
    "    \"Ethnicity.White_and_Asian\",\n",
    "    \"Ethnicity.Mixed_Other\",\n",
    "    \"Ethnicity.Asian\",\n",
    "    \"Ethnicity.Indian\",\n",
    "    \"Ethnicity.Pakistani\",\n",
    "    \"Ethnicity.Bangladeshi\",\n",
    "    \"Ethnicity.Asian_Other\",\n",
    "    \"Ethnicity.Black\",\n",
    "    \"Ethnicity.Caribbean\",\n",
    "    \"Ethnicity.African\",\n",
    "    \"Ethnicity.Black_Other\",\n",
    "    \"Ethnicity.Chinese\",\n",
    "    \"Ethnicity.Other\",\n",
    "    \"Ethnicity.Other_ethnicity\",\n",
    "    \"Ethnicity.Do_not_know\",\n",
    "    \"Ethnicity.Prefer_not_to_answer\",\n",
    "    \"Ethnicity.NA\",\n",
    "]"
   ]
  },
  {
   "cell_type": "code",
   "execution_count": 5,
   "metadata": {},
   "outputs": [],
   "source": [
    "import pandas as pd \n",
    "from dash_website.datasets import TREE_DIMENSIONS\n",
    "\n",
    "list_information = []\n",
    "\n",
    "for DIMENSION in list(TREE_DIMENSIONS.keys()):\n",
    "    for SUBDIMENSION in list(TREE_DIMENSIONS[DIMENSION].keys()):\n",
    "        for SUB_SUBDIMENSION in TREE_DIMENSIONS[DIMENSION][SUBDIMENSION]:\n",
    "            if DIMENSION == \"Musculoskeletal\" and SUB_SUBDIMENSION == \"DXA\":\n",
    "                SUB_SUBDIMENSION_OLD = \"MRI\"\n",
    "            else:\n",
    "                SUB_SUBDIMENSION_OLD = SUB_SUBDIMENSION\n",
    "            information_raw = pd.read_csv(f\"../../all_data/page9_AttentionMaps/Attention_maps_infos/AttentionMaps-samples_Age_{DIMENSION}_{SUBDIMENSION}_{SUB_SUBDIMENSION_OLD}.csv\", usecols=columns_to_take)[columns_to_take].set_index(\"id\")\n",
    "\n",
    "            information = pd.DataFrame(\n",
    "                None,\n",
    "                columns=[\"dimension\", \"subdimension\", \"sub_subdimension\", \"sex\", \"age_group\", \"aging_rate\", \"sample\", \"chronological_age\", \"biological_age\", \"ethnicity\"],\n",
    "                index=information_raw.index,\n",
    "            )\n",
    "            information[\"dimension\"] = DIMENSION\n",
    "            information[\"subdimension\"] = SUBDIMENSION\n",
    "            information[\"sub_subdimension\"] = SUB_SUBDIMENSION\n",
    "            information[\"sex\"] = information_raw[\"sex\"].str.lower()\n",
    "            information[\"age_group\"] = information_raw[\"age_category\"]\n",
    "            information[\"aging_rate\"] = information_raw[\"aging_rate\"]\n",
    "            information[\"sample\"] = information_raw[\"sample\"]\n",
    "            information[\"chronological_age\"] = information_raw[\"Age\"].astype(int)\n",
    "            information[\"biological_age\"] = information_raw[\"Biological_Age\"]\n",
    "\n",
    "            for id_participant in information_raw.index:\n",
    "                ethnicities = information_raw.loc[\n",
    "                    id_participant, information_raw.columns[information_raw.columns.str.startswith(\"Ethnicity\")]\n",
    "                ]\n",
    "\n",
    "                information.loc[id_participant, \"ethnicity\"] = \" \".join(\n",
    "                    list(map(lambda list_ethni: list_ethni.split(\".\")[1], ethnicities[ethnicities == 1].index))\n",
    "                )\n",
    "                \n",
    "            list_information.append(information.reset_index())"
   ]
  },
  {
   "cell_type": "code",
   "execution_count": 5,
   "metadata": {},
   "outputs": [],
   "source": [
    "import pandas as pd \n",
    "\n",
    "information = pd.read_feather(\"../../all_data/datasets/images/information.feather\").set_index([\"dimension\", \"subdimension\", \"sub_subdimension\", \"sex\", \"age_group\", \"aging_rate\", \"sample\"])\n",
    "\n",
    "dimension, subdimension, sub_subdimension, sex, age_range, sample = \"Abdomen\", \"Liver\", \"Raw\", \"male\", \"young\", \"0\""
   ]
  },
  {
   "cell_type": "code",
   "execution_count": 15,
   "metadata": {},
   "outputs": [
    {
     "data": {
      "text/plain": "id                         4736225_2\nchronological_age                 46\nbiological_age             46.887457\nethnicity            Asian Pakistani\nName: (Abdomen, Liver, Raw, male, young, normal, 0), dtype: object"
     },
     "execution_count": 15,
     "metadata": {},
     "output_type": "execute_result"
    }
   ],
   "source": [
    "information.loc[dimension, subdimension, sub_subdimension, sex, age_range, \"normal\", int(sample)]"
   ]
  }
 ],
 "metadata": {
  "kernelspec": {
   "display_name": "Python 3.8.5 64-bit ('env_website')",
   "name": "python385jvsc74a57bd090a2d2112265369b3cee75b3d17fea5658357118066bfd7e04cfa35ff7dbfd52"
  },
  "language_info": {
   "codemirror_mode": {
    "name": "ipython",
    "version": 3
   },
   "file_extension": ".py",
   "mimetype": "text/x-python",
   "name": "python",
   "nbconvert_exporter": "python",
   "pygments_lexer": "ipython3",
   "version": "3.8.5"
  },
  "orig_nbformat": 2
 },
 "nbformat": 4,
 "nbformat_minor": 2
}