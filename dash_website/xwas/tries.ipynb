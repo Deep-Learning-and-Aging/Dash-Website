{
 "metadata": {
  "language_info": {
   "codemirror_mode": {
    "name": "ipython",
    "version": 3
   },
   "file_extension": ".py",
   "mimetype": "text/x-python",
   "name": "python",
   "nbconvert_exporter": "python",
   "pygments_lexer": "ipython3",
   "version": "3.7.7-final"
  },
  "orig_nbformat": 2,
  "kernelspec": {
   "name": "python377jvsc74a57bd0c11bf2a122358a257f4887e4656fd266c9212bc31c6d2fa50cb5fb4a0c5b9dd8",
   "display_name": "Python 3.7.7 64-bit ('env_website')"
  }
 },
 "nbformat": 4,
 "nbformat_minor": 2,
 "cells": [
  {
   "cell_type": "code",
   "execution_count": 13,
   "metadata": {},
   "outputs": [],
   "source": [
    "import pandas as pd \n",
    "import numpy as np\n",
    "from dash_website import RENAME_DIMENSIONS, MAIN_CATEGORIES_TO_CATEGORIES, ALGORITHMS_RENDERING\n",
    "\n",
    "main_category = \"Diseases\"\n",
    "dimension = \"Heart\"\n",
    "algorithm = \"elastic_net\"\n",
    "\n",
    "data_scores = pd.read_feather(\"../../data/xwas/multivariate_results/scores.feather\").to_dict()"
   ]
  },
  {
   "cell_type": "code",
   "execution_count": 46,
   "metadata": {},
   "outputs": [
    {
     "output_type": "stream",
     "name": "stderr",
     "text": [
      "ipykernel_launcher:5: PerformanceWarning:\n\nindexing past lexsort depth may impact performance.\n\n"
     ]
    }
   ],
   "source": [
    "if algorithm == \"best_algorithm\":\n",
    "    every_score_every_dimension = pd.DataFrame(data_scores).groupby(by=[\"category\", \"dimension\"]).apply(lambda score_category_dimension: score_category_dimension.iloc[score_category_dimension[\"r2\"].argmax()]).reset_index(drop=True)\n",
    "    every_score = every_score_every_dimension.set_index(\"dimension\").loc[dimension].reset_index()\n",
    "else:\n",
    "    every_score = pd.DataFrame(data_scores).set_index([\"algorithm\", \"dimension\"]).loc[(algorithm, dimension)].reset_index()\n",
    "\n",
    "scores = every_score.loc[every_score[\"category\"].isin(MAIN_CATEGORIES_TO_CATEGORIES[main_category])].sort_values(by=[\"r2\"], ascending=False)"
   ]
  },
  {
   "cell_type": "code",
   "execution_count": 47,
   "metadata": {},
   "outputs": [
    {
     "output_type": "execute_result",
     "data": {
      "text/plain": [
       "      algorithm dimension             category       std        r2  \\\n",
       "51  elastic_net     Heart  medical_diagnoses_I  0.003464  0.014312   \n",
       "68  elastic_net     Heart  medical_diagnoses_Z  0.005006  0.008296   \n",
       "48  elastic_net     Heart  medical_diagnoses_F  0.005951  0.006234   \n",
       "47  elastic_net     Heart  medical_diagnoses_E  0.003436  0.005677   \n",
       "52  elastic_net     Heart  medical_diagnoses_J  0.003281  0.004374   \n",
       "53  elastic_net     Heart  medical_diagnoses_K  0.004017  0.004289   \n",
       "66  elastic_net     Heart  medical_diagnoses_X  0.003868  0.004183   \n",
       "57  elastic_net     Heart  medical_diagnoses_O  0.002624  0.004071   \n",
       "45  elastic_net     Heart  medical_diagnoses_C  0.003108  0.003606   \n",
       "60  elastic_net     Heart  medical_diagnoses_R  0.002924  0.003518   \n",
       "55  elastic_net     Heart  medical_diagnoses_M  0.002745  0.003501   \n",
       "50  elastic_net     Heart  medical_diagnoses_H  0.003343  0.003487   \n",
       "62  elastic_net     Heart  medical_diagnoses_T  0.003356  0.003469   \n",
       "43  elastic_net     Heart  medical_diagnoses_A  0.003702  0.003292   \n",
       "56  elastic_net     Heart  medical_diagnoses_N  0.003000  0.003147   \n",
       "67  elastic_net     Heart  medical_diagnoses_Y  0.002997  0.003117   \n",
       "65  elastic_net     Heart  medical_diagnoses_W  0.002847  0.002967   \n",
       "58  elastic_net     Heart  medical_diagnoses_P  0.002958  0.002951   \n",
       "59  elastic_net     Heart  medical_diagnoses_Q  0.002626  0.002835   \n",
       "49  elastic_net     Heart  medical_diagnoses_G  0.002642  0.002805   \n",
       "54  elastic_net     Heart  medical_diagnoses_L  0.003510  0.002776   \n",
       "63  elastic_net     Heart  medical_diagnoses_U  0.002919  0.002718   \n",
       "61  elastic_net     Heart  medical_diagnoses_S  0.002757  0.002627   \n",
       "44  elastic_net     Heart  medical_diagnoses_B  0.014352  0.002364   \n",
       "64  elastic_net     Heart  medical_diagnoses_V  0.002957  0.002328   \n",
       "46  elastic_net     Heart  medical_diagnoses_D  0.002094  0.002236   \n",
       "\n",
       "    sample_size  \n",
       "51        16708  \n",
       "68        16708  \n",
       "48        16708  \n",
       "47        16708  \n",
       "52        16708  \n",
       "53        16708  \n",
       "66        16708  \n",
       "57        16708  \n",
       "45        16708  \n",
       "60        16708  \n",
       "55        16708  \n",
       "50        16708  \n",
       "62        16708  \n",
       "43        16708  \n",
       "56        16708  \n",
       "67        16708  \n",
       "65        16708  \n",
       "58        16708  \n",
       "59        16708  \n",
       "49        16708  \n",
       "54        16708  \n",
       "63        16708  \n",
       "61        16708  \n",
       "44         2613  \n",
       "64        16708  \n",
       "46        16708  "
      ],
      "text/html": "<div>\n<style scoped>\n    .dataframe tbody tr th:only-of-type {\n        vertical-align: middle;\n    }\n\n    .dataframe tbody tr th {\n        vertical-align: top;\n    }\n\n    .dataframe thead th {\n        text-align: right;\n    }\n</style>\n<table border=\"1\" class=\"dataframe\">\n  <thead>\n    <tr style=\"text-align: right;\">\n      <th></th>\n      <th>algorithm</th>\n      <th>dimension</th>\n      <th>category</th>\n      <th>std</th>\n      <th>r2</th>\n      <th>sample_size</th>\n    </tr>\n  </thead>\n  <tbody>\n    <tr>\n      <th>51</th>\n      <td>elastic_net</td>\n      <td>Heart</td>\n      <td>medical_diagnoses_I</td>\n      <td>0.003464</td>\n      <td>0.014312</td>\n      <td>16708</td>\n    </tr>\n    <tr>\n      <th>68</th>\n      <td>elastic_net</td>\n      <td>Heart</td>\n      <td>medical_diagnoses_Z</td>\n      <td>0.005006</td>\n      <td>0.008296</td>\n      <td>16708</td>\n    </tr>\n    <tr>\n      <th>48</th>\n      <td>elastic_net</td>\n      <td>Heart</td>\n      <td>medical_diagnoses_F</td>\n      <td>0.005951</td>\n      <td>0.006234</td>\n      <td>16708</td>\n    </tr>\n    <tr>\n      <th>47</th>\n      <td>elastic_net</td>\n      <td>Heart</td>\n      <td>medical_diagnoses_E</td>\n      <td>0.003436</td>\n      <td>0.005677</td>\n      <td>16708</td>\n    </tr>\n    <tr>\n      <th>52</th>\n      <td>elastic_net</td>\n      <td>Heart</td>\n      <td>medical_diagnoses_J</td>\n      <td>0.003281</td>\n      <td>0.004374</td>\n      <td>16708</td>\n    </tr>\n    <tr>\n      <th>53</th>\n      <td>elastic_net</td>\n      <td>Heart</td>\n      <td>medical_diagnoses_K</td>\n      <td>0.004017</td>\n      <td>0.004289</td>\n      <td>16708</td>\n    </tr>\n    <tr>\n      <th>66</th>\n      <td>elastic_net</td>\n      <td>Heart</td>\n      <td>medical_diagnoses_X</td>\n      <td>0.003868</td>\n      <td>0.004183</td>\n      <td>16708</td>\n    </tr>\n    <tr>\n      <th>57</th>\n      <td>elastic_net</td>\n      <td>Heart</td>\n      <td>medical_diagnoses_O</td>\n      <td>0.002624</td>\n      <td>0.004071</td>\n      <td>16708</td>\n    </tr>\n    <tr>\n      <th>45</th>\n      <td>elastic_net</td>\n      <td>Heart</td>\n      <td>medical_diagnoses_C</td>\n      <td>0.003108</td>\n      <td>0.003606</td>\n      <td>16708</td>\n    </tr>\n    <tr>\n      <th>60</th>\n      <td>elastic_net</td>\n      <td>Heart</td>\n      <td>medical_diagnoses_R</td>\n      <td>0.002924</td>\n      <td>0.003518</td>\n      <td>16708</td>\n    </tr>\n    <tr>\n      <th>55</th>\n      <td>elastic_net</td>\n      <td>Heart</td>\n      <td>medical_diagnoses_M</td>\n      <td>0.002745</td>\n      <td>0.003501</td>\n      <td>16708</td>\n    </tr>\n    <tr>\n      <th>50</th>\n      <td>elastic_net</td>\n      <td>Heart</td>\n      <td>medical_diagnoses_H</td>\n      <td>0.003343</td>\n      <td>0.003487</td>\n      <td>16708</td>\n    </tr>\n    <tr>\n      <th>62</th>\n      <td>elastic_net</td>\n      <td>Heart</td>\n      <td>medical_diagnoses_T</td>\n      <td>0.003356</td>\n      <td>0.003469</td>\n      <td>16708</td>\n    </tr>\n    <tr>\n      <th>43</th>\n      <td>elastic_net</td>\n      <td>Heart</td>\n      <td>medical_diagnoses_A</td>\n      <td>0.003702</td>\n      <td>0.003292</td>\n      <td>16708</td>\n    </tr>\n    <tr>\n      <th>56</th>\n      <td>elastic_net</td>\n      <td>Heart</td>\n      <td>medical_diagnoses_N</td>\n      <td>0.003000</td>\n      <td>0.003147</td>\n      <td>16708</td>\n    </tr>\n    <tr>\n      <th>67</th>\n      <td>elastic_net</td>\n      <td>Heart</td>\n      <td>medical_diagnoses_Y</td>\n      <td>0.002997</td>\n      <td>0.003117</td>\n      <td>16708</td>\n    </tr>\n    <tr>\n      <th>65</th>\n      <td>elastic_net</td>\n      <td>Heart</td>\n      <td>medical_diagnoses_W</td>\n      <td>0.002847</td>\n      <td>0.002967</td>\n      <td>16708</td>\n    </tr>\n    <tr>\n      <th>58</th>\n      <td>elastic_net</td>\n      <td>Heart</td>\n      <td>medical_diagnoses_P</td>\n      <td>0.002958</td>\n      <td>0.002951</td>\n      <td>16708</td>\n    </tr>\n    <tr>\n      <th>59</th>\n      <td>elastic_net</td>\n      <td>Heart</td>\n      <td>medical_diagnoses_Q</td>\n      <td>0.002626</td>\n      <td>0.002835</td>\n      <td>16708</td>\n    </tr>\n    <tr>\n      <th>49</th>\n      <td>elastic_net</td>\n      <td>Heart</td>\n      <td>medical_diagnoses_G</td>\n      <td>0.002642</td>\n      <td>0.002805</td>\n      <td>16708</td>\n    </tr>\n    <tr>\n      <th>54</th>\n      <td>elastic_net</td>\n      <td>Heart</td>\n      <td>medical_diagnoses_L</td>\n      <td>0.003510</td>\n      <td>0.002776</td>\n      <td>16708</td>\n    </tr>\n    <tr>\n      <th>63</th>\n      <td>elastic_net</td>\n      <td>Heart</td>\n      <td>medical_diagnoses_U</td>\n      <td>0.002919</td>\n      <td>0.002718</td>\n      <td>16708</td>\n    </tr>\n    <tr>\n      <th>61</th>\n      <td>elastic_net</td>\n      <td>Heart</td>\n      <td>medical_diagnoses_S</td>\n      <td>0.002757</td>\n      <td>0.002627</td>\n      <td>16708</td>\n    </tr>\n    <tr>\n      <th>44</th>\n      <td>elastic_net</td>\n      <td>Heart</td>\n      <td>medical_diagnoses_B</td>\n      <td>0.014352</td>\n      <td>0.002364</td>\n      <td>2613</td>\n    </tr>\n    <tr>\n      <th>64</th>\n      <td>elastic_net</td>\n      <td>Heart</td>\n      <td>medical_diagnoses_V</td>\n      <td>0.002957</td>\n      <td>0.002328</td>\n      <td>16708</td>\n    </tr>\n    <tr>\n      <th>46</th>\n      <td>elastic_net</td>\n      <td>Heart</td>\n      <td>medical_diagnoses_D</td>\n      <td>0.002094</td>\n      <td>0.002236</td>\n      <td>16708</td>\n    </tr>\n  </tbody>\n</table>\n</div>"
     },
     "metadata": {},
     "execution_count": 47
    }
   ],
   "source": [
    "scores.sort_values(by=[\"r2\"], ascending=False)"
   ]
  },
  {
   "cell_type": "code",
   "execution_count": 48,
   "metadata": {},
   "outputs": [
    {
     "output_type": "display_data",
     "data": {
      "application/vnd.plotly.v1+json": {
       "config": {
        "plotlyServerURL": "https://plot.ly"
       },
       "data": [
        {
         "customdata": [
          [
           0.0034644040441326,
           "elastic_net"
          ],
          [
           0.005005751484924,
           "elastic_net"
          ],
          [
           0.0059505359476413,
           "elastic_net"
          ],
          [
           0.0034361250517052,
           "elastic_net"
          ],
          [
           0.0032809657756341,
           "elastic_net"
          ],
          [
           0.0040171170402051,
           "elastic_net"
          ],
          [
           0.0038681930492882,
           "elastic_net"
          ],
          [
           0.0026241700400173,
           "elastic_net"
          ],
          [
           0.003108076626144,
           "elastic_net"
          ],
          [
           0.0029238065193712,
           "elastic_net"
          ],
          [
           0.0027447900230148,
           "elastic_net"
          ],
          [
           0.0033426713887043,
           "elastic_net"
          ],
          [
           0.0033556090057614,
           "elastic_net"
          ],
          [
           0.0037022199864894,
           "elastic_net"
          ],
          [
           0.0030001574044289,
           "elastic_net"
          ],
          [
           0.0029969675863139,
           "elastic_net"
          ],
          [
           0.0028474333162334,
           "elastic_net"
          ],
          [
           0.0029583489986555,
           "elastic_net"
          ],
          [
           0.002625953425852,
           "elastic_net"
          ],
          [
           0.0026424935942094,
           "elastic_net"
          ],
          [
           0.0035097029719246,
           "elastic_net"
          ],
          [
           0.002918875562078,
           "elastic_net"
          ],
          [
           0.002756716627537,
           "elastic_net"
          ],
          [
           0.014352317588155,
           "elastic_net"
          ],
          [
           0.002956555216963,
           "elastic_net"
          ],
          [
           0.0020941643170241,
           "elastic_net"
          ]
         ],
         "error_y": {
          "array": [
           0.0034644040441326,
           0.005005751484924,
           0.0059505359476413,
           0.0034361250517052,
           0.0032809657756341,
           0.0040171170402051,
           0.0038681930492882,
           0.0026241700400173,
           0.003108076626144,
           0.0029238065193712,
           0.0027447900230148,
           0.0033426713887043,
           0.0033556090057614,
           0.0037022199864894,
           0.0030001574044289,
           0.0029969675863139,
           0.0028474333162334,
           0.0029583489986555,
           0.002625953425852,
           0.0026424935942094,
           0.0035097029719246,
           0.002918875562078,
           0.002756716627537,
           0.014352317588155,
           0.002956555216963,
           0.0020941643170241
          ],
          "type": "data"
         },
         "hovertemplate": "X subcategory: %{x} <br>r²: %{y:.3f} +- %{customdata[0]:.3f} <br><extra>%{customdata[1]}</extra>",
         "marker": {
          "color": "indianred"
         },
         "name": "Correlations",
         "type": "bar",
         "x": [
          "medical_diagnoses_I",
          "medical_diagnoses_Z",
          "medical_diagnoses_F",
          "medical_diagnoses_E",
          "medical_diagnoses_J",
          "medical_diagnoses_K",
          "medical_diagnoses_X",
          "medical_diagnoses_O",
          "medical_diagnoses_C",
          "medical_diagnoses_R",
          "medical_diagnoses_M",
          "medical_diagnoses_H",
          "medical_diagnoses_T",
          "medical_diagnoses_A",
          "medical_diagnoses_N",
          "medical_diagnoses_Y",
          "medical_diagnoses_W",
          "medical_diagnoses_P",
          "medical_diagnoses_Q",
          "medical_diagnoses_G",
          "medical_diagnoses_L",
          "medical_diagnoses_U",
          "medical_diagnoses_S",
          "medical_diagnoses_B",
          "medical_diagnoses_V",
          "medical_diagnoses_D"
         ],
         "y": [
          0.0143122550683405,
          0.0082959442263423,
          0.006234359654115,
          0.0056768876923218,
          0.0043742626552756,
          0.0042885446237862,
          0.004182512325748,
          0.004071427998698,
          0.0036059300621418,
          0.0035179970827794,
          0.0035008647249032,
          0.003487172677595,
          0.0034692410678789,
          0.0032919197814775,
          0.0031467717799156,
          0.003116923889805,
          0.0029668247164001,
          0.0029506515049912,
          0.0028353590939137,
          0.0028051523730143,
          0.0027755258824496,
          0.0027177980658057,
          0.0026272588173075,
          0.0023635218821157,
          0.0023278211814726,
          0.0022362536579214
         ]
        }
       ],
       "layout": {
        "height": 800,
        "template": {
         "data": {
          "bar": [
           {
            "error_x": {
             "color": "#2a3f5f"
            },
            "error_y": {
             "color": "#2a3f5f"
            },
            "marker": {
             "line": {
              "color": "#E5ECF6",
              "width": 0.5
             }
            },
            "type": "bar"
           }
          ],
          "barpolar": [
           {
            "marker": {
             "line": {
              "color": "#E5ECF6",
              "width": 0.5
             }
            },
            "type": "barpolar"
           }
          ],
          "carpet": [
           {
            "aaxis": {
             "endlinecolor": "#2a3f5f",
             "gridcolor": "white",
             "linecolor": "white",
             "minorgridcolor": "white",
             "startlinecolor": "#2a3f5f"
            },
            "baxis": {
             "endlinecolor": "#2a3f5f",
             "gridcolor": "white",
             "linecolor": "white",
             "minorgridcolor": "white",
             "startlinecolor": "#2a3f5f"
            },
            "type": "carpet"
           }
          ],
          "choropleth": [
           {
            "colorbar": {
             "outlinewidth": 0,
             "ticks": ""
            },
            "type": "choropleth"
           }
          ],
          "contour": [
           {
            "colorbar": {
             "outlinewidth": 0,
             "ticks": ""
            },
            "colorscale": [
             [
              0,
              "#0d0887"
             ],
             [
              0.1111111111111111,
              "#46039f"
             ],
             [
              0.2222222222222222,
              "#7201a8"
             ],
             [
              0.3333333333333333,
              "#9c179e"
             ],
             [
              0.4444444444444444,
              "#bd3786"
             ],
             [
              0.5555555555555556,
              "#d8576b"
             ],
             [
              0.6666666666666666,
              "#ed7953"
             ],
             [
              0.7777777777777778,
              "#fb9f3a"
             ],
             [
              0.8888888888888888,
              "#fdca26"
             ],
             [
              1,
              "#f0f921"
             ]
            ],
            "type": "contour"
           }
          ],
          "contourcarpet": [
           {
            "colorbar": {
             "outlinewidth": 0,
             "ticks": ""
            },
            "type": "contourcarpet"
           }
          ],
          "heatmap": [
           {
            "colorbar": {
             "outlinewidth": 0,
             "ticks": ""
            },
            "colorscale": [
             [
              0,
              "#0d0887"
             ],
             [
              0.1111111111111111,
              "#46039f"
             ],
             [
              0.2222222222222222,
              "#7201a8"
             ],
             [
              0.3333333333333333,
              "#9c179e"
             ],
             [
              0.4444444444444444,
              "#bd3786"
             ],
             [
              0.5555555555555556,
              "#d8576b"
             ],
             [
              0.6666666666666666,
              "#ed7953"
             ],
             [
              0.7777777777777778,
              "#fb9f3a"
             ],
             [
              0.8888888888888888,
              "#fdca26"
             ],
             [
              1,
              "#f0f921"
             ]
            ],
            "type": "heatmap"
           }
          ],
          "heatmapgl": [
           {
            "colorbar": {
             "outlinewidth": 0,
             "ticks": ""
            },
            "colorscale": [
             [
              0,
              "#0d0887"
             ],
             [
              0.1111111111111111,
              "#46039f"
             ],
             [
              0.2222222222222222,
              "#7201a8"
             ],
             [
              0.3333333333333333,
              "#9c179e"
             ],
             [
              0.4444444444444444,
              "#bd3786"
             ],
             [
              0.5555555555555556,
              "#d8576b"
             ],
             [
              0.6666666666666666,
              "#ed7953"
             ],
             [
              0.7777777777777778,
              "#fb9f3a"
             ],
             [
              0.8888888888888888,
              "#fdca26"
             ],
             [
              1,
              "#f0f921"
             ]
            ],
            "type": "heatmapgl"
           }
          ],
          "histogram": [
           {
            "marker": {
             "colorbar": {
              "outlinewidth": 0,
              "ticks": ""
             }
            },
            "type": "histogram"
           }
          ],
          "histogram2d": [
           {
            "colorbar": {
             "outlinewidth": 0,
             "ticks": ""
            },
            "colorscale": [
             [
              0,
              "#0d0887"
             ],
             [
              0.1111111111111111,
              "#46039f"
             ],
             [
              0.2222222222222222,
              "#7201a8"
             ],
             [
              0.3333333333333333,
              "#9c179e"
             ],
             [
              0.4444444444444444,
              "#bd3786"
             ],
             [
              0.5555555555555556,
              "#d8576b"
             ],
             [
              0.6666666666666666,
              "#ed7953"
             ],
             [
              0.7777777777777778,
              "#fb9f3a"
             ],
             [
              0.8888888888888888,
              "#fdca26"
             ],
             [
              1,
              "#f0f921"
             ]
            ],
            "type": "histogram2d"
           }
          ],
          "histogram2dcontour": [
           {
            "colorbar": {
             "outlinewidth": 0,
             "ticks": ""
            },
            "colorscale": [
             [
              0,
              "#0d0887"
             ],
             [
              0.1111111111111111,
              "#46039f"
             ],
             [
              0.2222222222222222,
              "#7201a8"
             ],
             [
              0.3333333333333333,
              "#9c179e"
             ],
             [
              0.4444444444444444,
              "#bd3786"
             ],
             [
              0.5555555555555556,
              "#d8576b"
             ],
             [
              0.6666666666666666,
              "#ed7953"
             ],
             [
              0.7777777777777778,
              "#fb9f3a"
             ],
             [
              0.8888888888888888,
              "#fdca26"
             ],
             [
              1,
              "#f0f921"
             ]
            ],
            "type": "histogram2dcontour"
           }
          ],
          "mesh3d": [
           {
            "colorbar": {
             "outlinewidth": 0,
             "ticks": ""
            },
            "type": "mesh3d"
           }
          ],
          "parcoords": [
           {
            "line": {
             "colorbar": {
              "outlinewidth": 0,
              "ticks": ""
             }
            },
            "type": "parcoords"
           }
          ],
          "pie": [
           {
            "automargin": true,
            "type": "pie"
           }
          ],
          "scatter": [
           {
            "marker": {
             "colorbar": {
              "outlinewidth": 0,
              "ticks": ""
             }
            },
            "type": "scatter"
           }
          ],
          "scatter3d": [
           {
            "line": {
             "colorbar": {
              "outlinewidth": 0,
              "ticks": ""
             }
            },
            "marker": {
             "colorbar": {
              "outlinewidth": 0,
              "ticks": ""
             }
            },
            "type": "scatter3d"
           }
          ],
          "scattercarpet": [
           {
            "marker": {
             "colorbar": {
              "outlinewidth": 0,
              "ticks": ""
             }
            },
            "type": "scattercarpet"
           }
          ],
          "scattergeo": [
           {
            "marker": {
             "colorbar": {
              "outlinewidth": 0,
              "ticks": ""
             }
            },
            "type": "scattergeo"
           }
          ],
          "scattergl": [
           {
            "marker": {
             "colorbar": {
              "outlinewidth": 0,
              "ticks": ""
             }
            },
            "type": "scattergl"
           }
          ],
          "scattermapbox": [
           {
            "marker": {
             "colorbar": {
              "outlinewidth": 0,
              "ticks": ""
             }
            },
            "type": "scattermapbox"
           }
          ],
          "scatterpolar": [
           {
            "marker": {
             "colorbar": {
              "outlinewidth": 0,
              "ticks": ""
             }
            },
            "type": "scatterpolar"
           }
          ],
          "scatterpolargl": [
           {
            "marker": {
             "colorbar": {
              "outlinewidth": 0,
              "ticks": ""
             }
            },
            "type": "scatterpolargl"
           }
          ],
          "scatterternary": [
           {
            "marker": {
             "colorbar": {
              "outlinewidth": 0,
              "ticks": ""
             }
            },
            "type": "scatterternary"
           }
          ],
          "surface": [
           {
            "colorbar": {
             "outlinewidth": 0,
             "ticks": ""
            },
            "colorscale": [
             [
              0,
              "#0d0887"
             ],
             [
              0.1111111111111111,
              "#46039f"
             ],
             [
              0.2222222222222222,
              "#7201a8"
             ],
             [
              0.3333333333333333,
              "#9c179e"
             ],
             [
              0.4444444444444444,
              "#bd3786"
             ],
             [
              0.5555555555555556,
              "#d8576b"
             ],
             [
              0.6666666666666666,
              "#ed7953"
             ],
             [
              0.7777777777777778,
              "#fb9f3a"
             ],
             [
              0.8888888888888888,
              "#fdca26"
             ],
             [
              1,
              "#f0f921"
             ]
            ],
            "type": "surface"
           }
          ],
          "table": [
           {
            "cells": {
             "fill": {
              "color": "#EBF0F8"
             },
             "line": {
              "color": "white"
             }
            },
            "header": {
             "fill": {
              "color": "#C8D4E3"
             },
             "line": {
              "color": "white"
             }
            },
            "type": "table"
           }
          ]
         },
         "layout": {
          "annotationdefaults": {
           "arrowcolor": "#2a3f5f",
           "arrowhead": 0,
           "arrowwidth": 1
          },
          "autotypenumbers": "strict",
          "coloraxis": {
           "colorbar": {
            "outlinewidth": 0,
            "ticks": ""
           }
          },
          "colorscale": {
           "diverging": [
            [
             0,
             "#8e0152"
            ],
            [
             0.1,
             "#c51b7d"
            ],
            [
             0.2,
             "#de77ae"
            ],
            [
             0.3,
             "#f1b6da"
            ],
            [
             0.4,
             "#fde0ef"
            ],
            [
             0.5,
             "#f7f7f7"
            ],
            [
             0.6,
             "#e6f5d0"
            ],
            [
             0.7,
             "#b8e186"
            ],
            [
             0.8,
             "#7fbc41"
            ],
            [
             0.9,
             "#4d9221"
            ],
            [
             1,
             "#276419"
            ]
           ],
           "sequential": [
            [
             0,
             "#0d0887"
            ],
            [
             0.1111111111111111,
             "#46039f"
            ],
            [
             0.2222222222222222,
             "#7201a8"
            ],
            [
             0.3333333333333333,
             "#9c179e"
            ],
            [
             0.4444444444444444,
             "#bd3786"
            ],
            [
             0.5555555555555556,
             "#d8576b"
            ],
            [
             0.6666666666666666,
             "#ed7953"
            ],
            [
             0.7777777777777778,
             "#fb9f3a"
            ],
            [
             0.8888888888888888,
             "#fdca26"
            ],
            [
             1,
             "#f0f921"
            ]
           ],
           "sequentialminus": [
            [
             0,
             "#0d0887"
            ],
            [
             0.1111111111111111,
             "#46039f"
            ],
            [
             0.2222222222222222,
             "#7201a8"
            ],
            [
             0.3333333333333333,
             "#9c179e"
            ],
            [
             0.4444444444444444,
             "#bd3786"
            ],
            [
             0.5555555555555556,
             "#d8576b"
            ],
            [
             0.6666666666666666,
             "#ed7953"
            ],
            [
             0.7777777777777778,
             "#fb9f3a"
            ],
            [
             0.8888888888888888,
             "#fdca26"
            ],
            [
             1,
             "#f0f921"
            ]
           ]
          },
          "colorway": [
           "#636efa",
           "#EF553B",
           "#00cc96",
           "#ab63fa",
           "#FFA15A",
           "#19d3f3",
           "#FF6692",
           "#B6E880",
           "#FF97FF",
           "#FECB52"
          ],
          "font": {
           "color": "#2a3f5f"
          },
          "geo": {
           "bgcolor": "white",
           "lakecolor": "white",
           "landcolor": "#E5ECF6",
           "showlakes": true,
           "showland": true,
           "subunitcolor": "white"
          },
          "hoverlabel": {
           "align": "left"
          },
          "hovermode": "closest",
          "mapbox": {
           "style": "light"
          },
          "paper_bgcolor": "white",
          "plot_bgcolor": "#E5ECF6",
          "polar": {
           "angularaxis": {
            "gridcolor": "white",
            "linecolor": "white",
            "ticks": ""
           },
           "bgcolor": "#E5ECF6",
           "radialaxis": {
            "gridcolor": "white",
            "linecolor": "white",
            "ticks": ""
           }
          },
          "scene": {
           "xaxis": {
            "backgroundcolor": "#E5ECF6",
            "gridcolor": "white",
            "gridwidth": 2,
            "linecolor": "white",
            "showbackground": true,
            "ticks": "",
            "zerolinecolor": "white"
           },
           "yaxis": {
            "backgroundcolor": "#E5ECF6",
            "gridcolor": "white",
            "gridwidth": 2,
            "linecolor": "white",
            "showbackground": true,
            "ticks": "",
            "zerolinecolor": "white"
           },
           "zaxis": {
            "backgroundcolor": "#E5ECF6",
            "gridcolor": "white",
            "gridwidth": 2,
            "linecolor": "white",
            "showbackground": true,
            "ticks": "",
            "zerolinecolor": "white"
           }
          },
          "shapedefaults": {
           "line": {
            "color": "#2a3f5f"
           }
          },
          "ternary": {
           "aaxis": {
            "gridcolor": "white",
            "linecolor": "white",
            "ticks": ""
           },
           "baxis": {
            "gridcolor": "white",
            "linecolor": "white",
            "ticks": ""
           },
           "bgcolor": "#E5ECF6",
           "caxis": {
            "gridcolor": "white",
            "linecolor": "white",
            "ticks": ""
           }
          },
          "title": {
           "x": 0.05
          },
          "xaxis": {
           "automargin": true,
           "gridcolor": "white",
           "linecolor": "white",
           "ticks": "",
           "title": {
            "standoff": 15
           },
           "zerolinecolor": "white",
           "zerolinewidth": 2
          },
          "yaxis": {
           "automargin": true,
           "gridcolor": "white",
           "linecolor": "white",
           "ticks": "",
           "title": {
            "standoff": 15
           },
           "zerolinecolor": "white",
           "zerolinewidth": 2
          }
         }
        },
        "title": {
         "text": "Average r² = 0.004 +- 0.002"
        },
        "width": 2000,
        "xaxis": {
         "showgrid": false,
         "tickangle": 90,
         "title": {
          "text": "X subcategory"
         }
        },
        "yaxis": {
         "title": {
          "text": "r²"
         }
        }
       }
      }
     },
     "metadata": {}
    }
   ],
   "source": [
    "import plotly.graph_objs as go\n",
    "\n",
    "hovertemplate = \"X subcategory: %{x} <br>r²: %{y:.3f} +- %{customdata[0]:.3f} <br><extra>%{customdata[1]}</extra>\"\n",
    "\n",
    "bars = go.Bar(\n",
    "    x=scores[\"category\"],\n",
    "    y=scores[\"r2\"],\n",
    "    error_y={\n",
    "        \"array\": scores[\"std\"],\n",
    "        \"type\": \"data\",\n",
    "    },\n",
    "    name=\"Correlations\",\n",
    "    marker_color=\"indianred\",\n",
    "    hovertemplate=hovertemplate,\n",
    "    customdata=scores[[\"std\", \"algorithm\"]]\n",
    ")\n",
    "\n",
    "fig = go.Figure(bars)\n",
    "\n",
    "fig.update_layout(\n",
    "    {\n",
    "        \"width\": 2000,\n",
    "        \"height\": 800,\n",
    "        \"title\": f\"Average r² = {scores['r2'].mean().round(3)} +- {scores['r2'].std().round(3)}\",\n",
    "        \"xaxis\": {\"title\": \"X subcategory\", \"tickangle\": 90, \"showgrid\": False},\n",
    "        \"yaxis\": {\"title\": \"r²\"},\n",
    "    }\n",
    ")\n",
    "\n",
    "fig.show()"
   ]
  },
  {
   "cell_type": "code",
   "execution_count": 49,
   "metadata": {},
   "outputs": [
    {
     "output_type": "error",
     "ename": "NameError",
     "evalue": "name 'r2_2d' is not defined",
     "traceback": [
      "\u001b[1;31m---------------------------------------------------------------------------\u001b[0m",
      "\u001b[1;31mNameError\u001b[0m                                 Traceback (most recent call last)",
      "\u001b[1;32m<ipython-input-49-e3c48e2c6f7b>\u001b[0m in \u001b[0;36m<module>\u001b[1;34m\u001b[0m\n\u001b[0;32m      6\u001b[0m \u001b[1;33m\u001b[0m\u001b[0m\n\u001b[0;32m      7\u001b[0m heatmap = go.Heatmap(\n\u001b[1;32m----> 8\u001b[1;33m     \u001b[0mx\u001b[0m\u001b[1;33m=\u001b[0m\u001b[0mr2_2d\u001b[0m\u001b[1;33m.\u001b[0m\u001b[0mcolumns\u001b[0m\u001b[1;33m,\u001b[0m\u001b[1;33m\u001b[0m\u001b[1;33m\u001b[0m\u001b[0m\n\u001b[0m\u001b[0;32m      9\u001b[0m     \u001b[0my\u001b[0m\u001b[1;33m=\u001b[0m\u001b[0mr2_2d\u001b[0m\u001b[1;33m.\u001b[0m\u001b[0mindex\u001b[0m\u001b[1;33m,\u001b[0m\u001b[1;33m\u001b[0m\u001b[1;33m\u001b[0m\u001b[0m\n\u001b[0;32m     10\u001b[0m     \u001b[0mz\u001b[0m\u001b[1;33m=\u001b[0m\u001b[0mr2_2d\u001b[0m\u001b[1;33m,\u001b[0m\u001b[1;33m\u001b[0m\u001b[1;33m\u001b[0m\u001b[0m\n",
      "\u001b[1;31mNameError\u001b[0m: name 'r2_2d' is not defined"
     ]
    }
   ],
   "source": [
    "from dash_website.utils.graphs.colorscale import get_colorscale\n",
    "import plotly.graph_objs as go\n",
    "\n",
    "\n",
    "hovertemplate = \"Aging dimension: %{x} <br>X subcategory: %{y} <br>r²: %{z:.3f} <br>Standard deviation: %{customdata[0]:.3f} <br>Sample size: %{customdata[1]} <br>Algorithm: %{customdata[2]} <br><extra></extra>\"\n",
    "\n",
    "heatmap = go.Heatmap(\n",
    "    x=r2_2d.columns,\n",
    "    y=r2_2d.index,\n",
    "    z=r2_2d,\n",
    "    colorscale=get_colorscale(r2_2d),\n",
    "    customdata=customdata,\n",
    "    hovertemplate=hovertemplate,\n",
    ")\n",
    "\n",
    "fig = go.Figure(heatmap)\n",
    "\n",
    "fig.update_layout(\n",
    "    {\n",
    "        \"width\": 1000,\n",
    "        \"height\": int(1000 * max(1, r2_2d.shape[0] / r2_2d.shape[1])),\n",
    "        \"xaxis\": {\"title\":\"Aging dimension\", \"tickangle\": 90, \"showgrid\": False},\n",
    "        \"yaxis\": {\"title\": \"X subcategory\",  \"showgrid\": False},\n",
    "    }\n",
    ")\n",
    "\n",
    "fig.show()"
   ]
  },
  {
   "cell_type": "code",
   "execution_count": 47,
   "metadata": {},
   "outputs": [],
   "source": [
    "percentages = pd.DataFrame(None, columns=[\"percentage\", \"max_percentage\"], index=list(ALGORITHMS_RENDERING.keys())[1:])\n",
    "percentages.index.name = \"algorithm\"\n",
    "for algorithm in list(ALGORITHMS_RENDERING.keys())[1:]:\n",
    "    percentages.loc[algorithm, \"percentage\"] = (algorithm_2d == ALGORITHMS_RENDERING[algorithm]).sum().sum()\n",
    "    percentages.loc[algorithm, \"max_percentage\"] = r2_2d.values[algorithm_2d == ALGORITHMS_RENDERING[algorithm]].max()\n",
    "\n",
    "\n",
    "percentages.reset_index(inplace=True)\n",
    "percentages.replace(ALGORITHMS_RENDERING, inplace=True)"
   ]
  },
  {
   "cell_type": "code",
   "execution_count": 63,
   "metadata": {},
   "outputs": [
    {
     "output_type": "display_data",
     "data": {
      "application/vnd.plotly.v1+json": {
       "config": {
        "plotlyServerURL": "https://plot.ly"
       },
       "data": [
        {
         "customdata": [
          0.2146557852375025,
          0.2270257995797311,
          0.0361143088099764
         ],
         "hovertemplate": "Algorithm: %{label} <br>Number of best algorithm: %{value} <br>Max percentage: %{customdata:.3f} <br><extra></extra>",
         "labels": [
          "Elastic Net",
          "Light GBM",
          "Neural Network"
         ],
         "type": "pie",
         "values": [
          36,
          797,
          25
         ]
        }
       ],
       "layout": {
        "template": {
         "data": {
          "bar": [
           {
            "error_x": {
             "color": "#2a3f5f"
            },
            "error_y": {
             "color": "#2a3f5f"
            },
            "marker": {
             "line": {
              "color": "#E5ECF6",
              "width": 0.5
             }
            },
            "type": "bar"
           }
          ],
          "barpolar": [
           {
            "marker": {
             "line": {
              "color": "#E5ECF6",
              "width": 0.5
             }
            },
            "type": "barpolar"
           }
          ],
          "carpet": [
           {
            "aaxis": {
             "endlinecolor": "#2a3f5f",
             "gridcolor": "white",
             "linecolor": "white",
             "minorgridcolor": "white",
             "startlinecolor": "#2a3f5f"
            },
            "baxis": {
             "endlinecolor": "#2a3f5f",
             "gridcolor": "white",
             "linecolor": "white",
             "minorgridcolor": "white",
             "startlinecolor": "#2a3f5f"
            },
            "type": "carpet"
           }
          ],
          "choropleth": [
           {
            "colorbar": {
             "outlinewidth": 0,
             "ticks": ""
            },
            "type": "choropleth"
           }
          ],
          "contour": [
           {
            "colorbar": {
             "outlinewidth": 0,
             "ticks": ""
            },
            "colorscale": [
             [
              0,
              "#0d0887"
             ],
             [
              0.1111111111111111,
              "#46039f"
             ],
             [
              0.2222222222222222,
              "#7201a8"
             ],
             [
              0.3333333333333333,
              "#9c179e"
             ],
             [
              0.4444444444444444,
              "#bd3786"
             ],
             [
              0.5555555555555556,
              "#d8576b"
             ],
             [
              0.6666666666666666,
              "#ed7953"
             ],
             [
              0.7777777777777778,
              "#fb9f3a"
             ],
             [
              0.8888888888888888,
              "#fdca26"
             ],
             [
              1,
              "#f0f921"
             ]
            ],
            "type": "contour"
           }
          ],
          "contourcarpet": [
           {
            "colorbar": {
             "outlinewidth": 0,
             "ticks": ""
            },
            "type": "contourcarpet"
           }
          ],
          "heatmap": [
           {
            "colorbar": {
             "outlinewidth": 0,
             "ticks": ""
            },
            "colorscale": [
             [
              0,
              "#0d0887"
             ],
             [
              0.1111111111111111,
              "#46039f"
             ],
             [
              0.2222222222222222,
              "#7201a8"
             ],
             [
              0.3333333333333333,
              "#9c179e"
             ],
             [
              0.4444444444444444,
              "#bd3786"
             ],
             [
              0.5555555555555556,
              "#d8576b"
             ],
             [
              0.6666666666666666,
              "#ed7953"
             ],
             [
              0.7777777777777778,
              "#fb9f3a"
             ],
             [
              0.8888888888888888,
              "#fdca26"
             ],
             [
              1,
              "#f0f921"
             ]
            ],
            "type": "heatmap"
           }
          ],
          "heatmapgl": [
           {
            "colorbar": {
             "outlinewidth": 0,
             "ticks": ""
            },
            "colorscale": [
             [
              0,
              "#0d0887"
             ],
             [
              0.1111111111111111,
              "#46039f"
             ],
             [
              0.2222222222222222,
              "#7201a8"
             ],
             [
              0.3333333333333333,
              "#9c179e"
             ],
             [
              0.4444444444444444,
              "#bd3786"
             ],
             [
              0.5555555555555556,
              "#d8576b"
             ],
             [
              0.6666666666666666,
              "#ed7953"
             ],
             [
              0.7777777777777778,
              "#fb9f3a"
             ],
             [
              0.8888888888888888,
              "#fdca26"
             ],
             [
              1,
              "#f0f921"
             ]
            ],
            "type": "heatmapgl"
           }
          ],
          "histogram": [
           {
            "marker": {
             "colorbar": {
              "outlinewidth": 0,
              "ticks": ""
             }
            },
            "type": "histogram"
           }
          ],
          "histogram2d": [
           {
            "colorbar": {
             "outlinewidth": 0,
             "ticks": ""
            },
            "colorscale": [
             [
              0,
              "#0d0887"
             ],
             [
              0.1111111111111111,
              "#46039f"
             ],
             [
              0.2222222222222222,
              "#7201a8"
             ],
             [
              0.3333333333333333,
              "#9c179e"
             ],
             [
              0.4444444444444444,
              "#bd3786"
             ],
             [
              0.5555555555555556,
              "#d8576b"
             ],
             [
              0.6666666666666666,
              "#ed7953"
             ],
             [
              0.7777777777777778,
              "#fb9f3a"
             ],
             [
              0.8888888888888888,
              "#fdca26"
             ],
             [
              1,
              "#f0f921"
             ]
            ],
            "type": "histogram2d"
           }
          ],
          "histogram2dcontour": [
           {
            "colorbar": {
             "outlinewidth": 0,
             "ticks": ""
            },
            "colorscale": [
             [
              0,
              "#0d0887"
             ],
             [
              0.1111111111111111,
              "#46039f"
             ],
             [
              0.2222222222222222,
              "#7201a8"
             ],
             [
              0.3333333333333333,
              "#9c179e"
             ],
             [
              0.4444444444444444,
              "#bd3786"
             ],
             [
              0.5555555555555556,
              "#d8576b"
             ],
             [
              0.6666666666666666,
              "#ed7953"
             ],
             [
              0.7777777777777778,
              "#fb9f3a"
             ],
             [
              0.8888888888888888,
              "#fdca26"
             ],
             [
              1,
              "#f0f921"
             ]
            ],
            "type": "histogram2dcontour"
           }
          ],
          "mesh3d": [
           {
            "colorbar": {
             "outlinewidth": 0,
             "ticks": ""
            },
            "type": "mesh3d"
           }
          ],
          "parcoords": [
           {
            "line": {
             "colorbar": {
              "outlinewidth": 0,
              "ticks": ""
             }
            },
            "type": "parcoords"
           }
          ],
          "pie": [
           {
            "automargin": true,
            "type": "pie"
           }
          ],
          "scatter": [
           {
            "marker": {
             "colorbar": {
              "outlinewidth": 0,
              "ticks": ""
             }
            },
            "type": "scatter"
           }
          ],
          "scatter3d": [
           {
            "line": {
             "colorbar": {
              "outlinewidth": 0,
              "ticks": ""
             }
            },
            "marker": {
             "colorbar": {
              "outlinewidth": 0,
              "ticks": ""
             }
            },
            "type": "scatter3d"
           }
          ],
          "scattercarpet": [
           {
            "marker": {
             "colorbar": {
              "outlinewidth": 0,
              "ticks": ""
             }
            },
            "type": "scattercarpet"
           }
          ],
          "scattergeo": [
           {
            "marker": {
             "colorbar": {
              "outlinewidth": 0,
              "ticks": ""
             }
            },
            "type": "scattergeo"
           }
          ],
          "scattergl": [
           {
            "marker": {
             "colorbar": {
              "outlinewidth": 0,
              "ticks": ""
             }
            },
            "type": "scattergl"
           }
          ],
          "scattermapbox": [
           {
            "marker": {
             "colorbar": {
              "outlinewidth": 0,
              "ticks": ""
             }
            },
            "type": "scattermapbox"
           }
          ],
          "scatterpolar": [
           {
            "marker": {
             "colorbar": {
              "outlinewidth": 0,
              "ticks": ""
             }
            },
            "type": "scatterpolar"
           }
          ],
          "scatterpolargl": [
           {
            "marker": {
             "colorbar": {
              "outlinewidth": 0,
              "ticks": ""
             }
            },
            "type": "scatterpolargl"
           }
          ],
          "scatterternary": [
           {
            "marker": {
             "colorbar": {
              "outlinewidth": 0,
              "ticks": ""
             }
            },
            "type": "scatterternary"
           }
          ],
          "surface": [
           {
            "colorbar": {
             "outlinewidth": 0,
             "ticks": ""
            },
            "colorscale": [
             [
              0,
              "#0d0887"
             ],
             [
              0.1111111111111111,
              "#46039f"
             ],
             [
              0.2222222222222222,
              "#7201a8"
             ],
             [
              0.3333333333333333,
              "#9c179e"
             ],
             [
              0.4444444444444444,
              "#bd3786"
             ],
             [
              0.5555555555555556,
              "#d8576b"
             ],
             [
              0.6666666666666666,
              "#ed7953"
             ],
             [
              0.7777777777777778,
              "#fb9f3a"
             ],
             [
              0.8888888888888888,
              "#fdca26"
             ],
             [
              1,
              "#f0f921"
             ]
            ],
            "type": "surface"
           }
          ],
          "table": [
           {
            "cells": {
             "fill": {
              "color": "#EBF0F8"
             },
             "line": {
              "color": "white"
             }
            },
            "header": {
             "fill": {
              "color": "#C8D4E3"
             },
             "line": {
              "color": "white"
             }
            },
            "type": "table"
           }
          ]
         },
         "layout": {
          "annotationdefaults": {
           "arrowcolor": "#2a3f5f",
           "arrowhead": 0,
           "arrowwidth": 1
          },
          "autotypenumbers": "strict",
          "coloraxis": {
           "colorbar": {
            "outlinewidth": 0,
            "ticks": ""
           }
          },
          "colorscale": {
           "diverging": [
            [
             0,
             "#8e0152"
            ],
            [
             0.1,
             "#c51b7d"
            ],
            [
             0.2,
             "#de77ae"
            ],
            [
             0.3,
             "#f1b6da"
            ],
            [
             0.4,
             "#fde0ef"
            ],
            [
             0.5,
             "#f7f7f7"
            ],
            [
             0.6,
             "#e6f5d0"
            ],
            [
             0.7,
             "#b8e186"
            ],
            [
             0.8,
             "#7fbc41"
            ],
            [
             0.9,
             "#4d9221"
            ],
            [
             1,
             "#276419"
            ]
           ],
           "sequential": [
            [
             0,
             "#0d0887"
            ],
            [
             0.1111111111111111,
             "#46039f"
            ],
            [
             0.2222222222222222,
             "#7201a8"
            ],
            [
             0.3333333333333333,
             "#9c179e"
            ],
            [
             0.4444444444444444,
             "#bd3786"
            ],
            [
             0.5555555555555556,
             "#d8576b"
            ],
            [
             0.6666666666666666,
             "#ed7953"
            ],
            [
             0.7777777777777778,
             "#fb9f3a"
            ],
            [
             0.8888888888888888,
             "#fdca26"
            ],
            [
             1,
             "#f0f921"
            ]
           ],
           "sequentialminus": [
            [
             0,
             "#0d0887"
            ],
            [
             0.1111111111111111,
             "#46039f"
            ],
            [
             0.2222222222222222,
             "#7201a8"
            ],
            [
             0.3333333333333333,
             "#9c179e"
            ],
            [
             0.4444444444444444,
             "#bd3786"
            ],
            [
             0.5555555555555556,
             "#d8576b"
            ],
            [
             0.6666666666666666,
             "#ed7953"
            ],
            [
             0.7777777777777778,
             "#fb9f3a"
            ],
            [
             0.8888888888888888,
             "#fdca26"
            ],
            [
             1,
             "#f0f921"
            ]
           ]
          },
          "colorway": [
           "#636efa",
           "#EF553B",
           "#00cc96",
           "#ab63fa",
           "#FFA15A",
           "#19d3f3",
           "#FF6692",
           "#B6E880",
           "#FF97FF",
           "#FECB52"
          ],
          "font": {
           "color": "#2a3f5f"
          },
          "geo": {
           "bgcolor": "white",
           "lakecolor": "white",
           "landcolor": "#E5ECF6",
           "showlakes": true,
           "showland": true,
           "subunitcolor": "white"
          },
          "hoverlabel": {
           "align": "left"
          },
          "hovermode": "closest",
          "mapbox": {
           "style": "light"
          },
          "paper_bgcolor": "white",
          "plot_bgcolor": "#E5ECF6",
          "polar": {
           "angularaxis": {
            "gridcolor": "white",
            "linecolor": "white",
            "ticks": ""
           },
           "bgcolor": "#E5ECF6",
           "radialaxis": {
            "gridcolor": "white",
            "linecolor": "white",
            "ticks": ""
           }
          },
          "scene": {
           "xaxis": {
            "backgroundcolor": "#E5ECF6",
            "gridcolor": "white",
            "gridwidth": 2,
            "linecolor": "white",
            "showbackground": true,
            "ticks": "",
            "zerolinecolor": "white"
           },
           "yaxis": {
            "backgroundcolor": "#E5ECF6",
            "gridcolor": "white",
            "gridwidth": 2,
            "linecolor": "white",
            "showbackground": true,
            "ticks": "",
            "zerolinecolor": "white"
           },
           "zaxis": {
            "backgroundcolor": "#E5ECF6",
            "gridcolor": "white",
            "gridwidth": 2,
            "linecolor": "white",
            "showbackground": true,
            "ticks": "",
            "zerolinecolor": "white"
           }
          },
          "shapedefaults": {
           "line": {
            "color": "#2a3f5f"
           }
          },
          "ternary": {
           "aaxis": {
            "gridcolor": "white",
            "linecolor": "white",
            "ticks": ""
           },
           "baxis": {
            "gridcolor": "white",
            "linecolor": "white",
            "ticks": ""
           },
           "bgcolor": "#E5ECF6",
           "caxis": {
            "gridcolor": "white",
            "linecolor": "white",
            "ticks": ""
           }
          },
          "title": {
           "x": 0.05
          },
          "xaxis": {
           "automargin": true,
           "gridcolor": "white",
           "linecolor": "white",
           "ticks": "",
           "title": {
            "standoff": 15
           },
           "zerolinecolor": "white",
           "zerolinewidth": 2
          },
          "yaxis": {
           "automargin": true,
           "gridcolor": "white",
           "linecolor": "white",
           "ticks": "",
           "title": {
            "standoff": 15
           },
           "zerolinecolor": "white",
           "zerolinewidth": 2
          }
         }
        },
        "title": {
         "text": "Composition of the best algorithm"
        }
       }
      }
     },
     "metadata": {}
    }
   ],
   "source": [
    "import plotly.graph_objects as go\n",
    "\n",
    "hovertemplate = \"Algorithm: %{label} <br>Number of best algorithm: %{value} <br>Max percentage: %{customdata:.3f} <br><extra></extra>\"\n",
    "\n",
    "pie_chart = go.Pie(labels=percentages[\"algorithm\"], values=percentages[\"percentage\"], customdata=percentages[\"max_percentage\"], hovertemplate=hovertemplate)\n",
    "\n",
    "fig_pie_chart = go.Figure(pie_chart)\n",
    "\n",
    "fig_pie_chart.update_layout(title=\"Composition of the best algorithm\")\n",
    "fig_pie_chart.show()"
   ]
  }
 ]
}