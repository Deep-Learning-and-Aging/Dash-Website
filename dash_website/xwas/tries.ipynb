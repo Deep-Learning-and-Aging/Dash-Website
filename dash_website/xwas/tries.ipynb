{
 "cells": [
  {
   "cell_type": "code",
   "execution_count": 1,
   "metadata": {},
   "outputs": [],
   "source": [
    "import pandas as pd\n",
    "from dash_website import RENAME_DIMENSIONS\n",
    "from dash_website.utils import BLUE_WHITE_RED\n",
    "\n",
    "\n",
    "subset_method = \"union\"\n",
    "correlation_type = \"pearson\"\n",
    "dimension = \"*\"\n",
    "\n",
    "data_dimension = pd.read_feather(f\"../../all_data/xwas/univariate_correlations/correlations/dimensions/correlations_{RENAME_DIMENSIONS.get(dimension, dimension)}.feather\").to_dict()"
   ]
  }
 ],
 "metadata": {
  "kernelspec": {
   "display_name": "Python 3.9.4  ('env_container': venv)",
   "name": "pythonjvsc74a57bd0827f31c7a17f115185da69808fd256ce792d94cfeb61ab0a6e35bd7e2999d502"
  },
  "language_info": {
   "name": "python",
   "version": ""
  },
  "metadata": {
   "interpreter": {
    "hash": "827f31c7a17f115185da69808fd256ce792d94cfeb61ab0a6e35bd7e2999d502"
   }
  },
  "orig_nbformat": 2
 },
 "nbformat": 4,
 "nbformat_minor": 2
}