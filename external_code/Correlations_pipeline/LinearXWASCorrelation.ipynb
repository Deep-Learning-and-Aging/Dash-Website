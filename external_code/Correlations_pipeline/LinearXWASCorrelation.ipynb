{
 "metadata": {
  "language_info": {
   "codemirror_mode": {
    "name": "ipython",
    "version": 3
   },
   "file_extension": ".py",
   "mimetype": "text/x-python",
   "name": "python",
   "nbconvert_exporter": "python",
   "pygments_lexer": "ipython3",
   "version": "3.7.7-final"
  },
  "orig_nbformat": 2,
  "kernelspec": {
   "name": "python3",
   "display_name": "Python 3.7.7 64-bit ('env_website')",
   "metadata": {
    "interpreter": {
     "hash": "c11bf2a122358a257f4887e4656fd266c9212bc31c6d2fa50cb5fb4a0c5b9dd8"
    }
   }
  }
 },
 "nbformat": 4,
 "nbformat_minor": 2,
 "cells": [
  {
   "cell_type": "code",
   "execution_count": 1,
   "metadata": {},
   "outputs": [],
   "source": [
    "import pandas as pd\n",
    "import numpy as np\n",
    "from dash_website import DIMENSIONS, MAIN_CATEGORIES_TO_CATEGORIES\n",
    "\n",
    "list_indexes = []\n",
    "for dimension_1 in DIMENSIONS:\n",
    "    for dimension_2 in DIMENSIONS:\n",
    "        for category in MAIN_CATEGORIES_TO_CATEGORIES[\"All\"] + [\"Phenotypic\", \"Genetics\"] + [f\"All_{main_category}\" for main_category in MAIN_CATEGORIES_TO_CATEGORIES.keys()]:\n",
    "            list_indexes.append([dimension_1, dimension_2, category])\n",
    "indexes = pd.MultiIndex.from_tuples(list_indexes, names=[\"dimension_1\", \"dimension_2\", \"category\"])\n",
    "\n",
    "list_columns = []\n",
    "for method in [\"all\", \"union\", \"intersection\"]:\n",
    "    for correlation_type in [\"pearson\", \"spearman\", \"number_variables\"]:\n",
    "        list_columns.append([method, correlation_type])\n",
    "columns = pd.MultiIndex.from_tuples(list_columns, names=[\"method\", \"correlation_type\"])\n",
    "correlations = pd.DataFrame(None, index=indexes, columns=columns)\n",
    "\n",
    "phenotypic = pd.read_feather(\"../../data/xwas/univariate_correlations/phenotypic.feather\").set_index([\"dimension_1\", \"dimension_2\"])\n",
    "genetics = pd.read_feather(\"../../data/xwas/univariate_correlations/genetics.feather\").set_index([\"dimension_1\", \"dimension_2\"])"
   ]
  },
  {
   "cell_type": "code",
   "execution_count": 2,
   "metadata": {},
   "outputs": [],
   "source": [
    "dimension_1, dimension_2 = \"Abdomen\", \"EyesAll\""
   ]
  },
  {
   "cell_type": "code",
   "execution_count": 3,
   "metadata": {},
   "outputs": [],
   "source": [
    "def load_correlation(key_in_aws):\n",
    "    correlation_dimension = pd.read_feather(key_in_aws)\n",
    "    correlation_dimension.drop(index=correlation_dimension.index[correlation_dimension[\"sample_size\"] < 10], inplace=True)\n",
    "\n",
    "    return correlation_dimension.set_index([\"category\", \"variable\"])"
   ]
  },
  {
   "cell_type": "code",
   "execution_count": 4,
   "metadata": {},
   "outputs": [],
   "source": [
    "correlation_dimension_1 = load_correlation(f\"../../data/xwas/univariate_results/linear_correlations_{dimension_1}.feather\")\n",
    "correlation_dimension_2 = load_correlation(f\"../../data/xwas/univariate_results/linear_correlations_{dimension_2}.feather\")"
   ]
  },
  {
   "cell_type": "code",
   "execution_count": 5,
   "metadata": {
    "tags": []
   },
   "outputs": [
    {
     "output_type": "stream",
     "name": "stderr",
     "text": [
      "c:\\Dossier\\HMS\\Dash-Website\\env_website\\lib\\site-packages\\numpy\\lib\\function_base.py:2634: RuntimeWarning: Degrees of freedom <= 0 for slice\n  c = cov(x, y, rowvar, dtype=dtype)\nc:\\Dossier\\HMS\\Dash-Website\\env_website\\lib\\site-packages\\numpy\\lib\\function_base.py:2493: RuntimeWarning: divide by zero encountered in true_divide\n  c *= np.true_divide(1, fact)\nc:\\Dossier\\HMS\\Dash-Website\\env_website\\lib\\site-packages\\numpy\\lib\\function_base.py:2634: RuntimeWarning: Degrees of freedom <= 0 for slice\n  c = cov(x, y, rowvar, dtype=dtype)\nc:\\Dossier\\HMS\\Dash-Website\\env_website\\lib\\site-packages\\numpy\\lib\\function_base.py:2493: RuntimeWarning: divide by zero encountered in true_divide\n  c *= np.true_divide(1, fact)\n"
     ]
    }
   ],
   "source": [
    "for category in MAIN_CATEGORIES_TO_CATEGORIES[\"All\"] + [f\"All_{main_category}\" for main_category in MAIN_CATEGORIES_TO_CATEGORIES.keys()]:\n",
    "    if \"All\" in category:\n",
    "        categories = MAIN_CATEGORIES_TO_CATEGORIES[category.split(\"_\")[1]]\n",
    "    else:\n",
    "        categories = [category]\n",
    "\n",
    "    correlations_1 = correlation_dimension_1.loc[categories]\n",
    "    correlations_2 = correlation_dimension_2.loc[categories]\n",
    "\n",
    "    indexes = {}\n",
    "\n",
    "    indexes[\"all\"] = correlations_1.index.intersection(correlations_2.index)\n",
    "\n",
    "    indexes[\"union\"] = correlations_1.index[\n",
    "        correlations_1[\"p_value\"] < 0.05 / correlations_1.shape[0]\n",
    "    ].union(correlations_2.index[correlations_2[\"p_value\"] < 0.05 / correlations_2.shape[0]])\n",
    "    if (~indexes[\"union\"].isin(correlations_1.index)).sum() > 0:\n",
    "        correlations_to_add = pd.DataFrame(None, index=indexes[\"union\"][~indexes[\"union\"].isin(correlations_1.index)], columns=[\"p_value\", \"correlation\", \"sample_size\"])\n",
    "        correlations_to_add[\"correlation\"] = 0\n",
    "\n",
    "        correlations_1 = correlations_1.append(correlations_to_add)\n",
    "    if (~indexes[\"union\"].isin(correlations_2.index)).sum() > 0:\n",
    "        correlations_to_add = pd.DataFrame(None, index=indexes[\"union\"][~indexes[\"union\"].isin(correlations_2.index)], columns=[\"p_value\", \"correlation\", \"sample_size\"])\n",
    "        correlations_to_add[\"correlation\"] = 0\n",
    "\n",
    "        correlations_2 = correlations_2.append(correlations_to_add)\n",
    "\n",
    "    indexes[\"intersection\"] = correlations_1.index[correlations_1[\"p_value\"] < 0.05 / correlations_1.shape[0]].intersection(correlations_2.index[correlations_2[\"p_value\"] < 0.05 / correlations_2.shape[0]])\n",
    "\n",
    "    for method in [\"all\", \"union\", \"intersection\"]:\n",
    "        for correlation_type in [\"pearson\", \"spearman\"]:\n",
    "            if len(indexes[method]) <= 1:\n",
    "                correlations.loc[(dimension_1, dimension_2, category), (method, correlation_type)] = 0\n",
    "            else:\n",
    "                correlations.loc[(dimension_1, dimension_2, category), (method, correlation_type)] = correlations_1.loc[indexes[method], \"correlation\"].corr(correlations_2.loc[indexes[method], \"correlation\"], method=correlation_type)\n",
    "            correlations.loc[(dimension_1, dimension_2, category), (method, \"number_variables\")] = len(indexes[method])\n",
    "\n",
    "for method in [\"all\", \"union\", \"intersection\"]:\n",
    "    for correlation_type in [\"pearson\", \"spearman\"]:\n",
    "        correlations.loc[(dimension_1, dimension_2, \"Phenotypic\"), (method, correlation_type)] = phenotypic.loc[(dimension_1, dimension_2), \"correlation\"]\n",
    "        correlations.loc[(dimension_1, dimension_2, \"Genetics\"), (method, correlation_type)] = genetics.loc[(dimension_1, dimension_2), \"correlation\"]"
   ]
  },
  {
   "cell_type": "code",
   "execution_count": 6,
   "metadata": {},
   "outputs": [
    {
     "output_type": "execute_result",
     "data": {
      "text/plain": [
       "method                       all                                union  \\\n",
       "correlation_type         pearson  spearman number_variables   pearson   \n",
       "category                                                                \n",
       "Alcohol                 0.245172  0.201478               29 -0.200475   \n",
       "AnthropometryBodySize  -0.498217 -0.619048                8 -0.498217   \n",
       "AnthropometryImpedance -0.585731      -0.7                5 -0.585731   \n",
       "ArterialStiffness       0.612142   0.47619                8  0.362174   \n",
       "BloodBiochemistry       0.077582  0.015873               28  0.053816   \n",
       "...                          ...       ...              ...       ...   \n",
       "All_Biomarkers          0.444471  0.661951             3115  0.420716   \n",
       "All_Phenotypes          0.110952  0.340091              182  0.250916   \n",
       "All_Diseases            0.362978  0.277877             2073 -0.029624   \n",
       "All_Environmental       0.378952  0.481816              263  0.433484   \n",
       "All_Socioeconomics      0.642517  0.749437               88  0.819856   \n",
       "\n",
       "method                                            intersection            \\\n",
       "correlation_type        spearman number_variables      pearson  spearman   \n",
       "category                                                                   \n",
       "Alcohol                -0.244755               12    -0.771148      -1.0   \n",
       "AnthropometryBodySize  -0.619048                8    -0.779553      -0.8   \n",
       "AnthropometryImpedance      -0.7                5    -0.585731      -0.7   \n",
       "ArterialStiffness       0.085714                6         -1.0      -1.0   \n",
       "BloodBiochemistry      -0.045614               19     0.015564  0.033333   \n",
       "...                          ...              ...          ...       ...   \n",
       "All_Biomarkers          0.644366              679     0.633293  0.250494   \n",
       "All_Phenotypes          0.312096               80     0.744237  0.433162   \n",
       "All_Diseases           -0.325477               62     0.863583  0.757576   \n",
       "All_Environmental       0.538802              114     0.670108     0.595   \n",
       "All_Socioeconomics      0.874603               38     0.897566  0.690909   \n",
       "\n",
       "method                                   \n",
       "correlation_type       number_variables  \n",
       "category                                 \n",
       "Alcohol                               4  \n",
       "AnthropometryBodySize                 4  \n",
       "AnthropometryImpedance                5  \n",
       "ArterialStiffness                     2  \n",
       "BloodBiochemistry                     9  \n",
       "...                                 ...  \n",
       "All_Biomarkers                       73  \n",
       "All_Phenotypes                       26  \n",
       "All_Diseases                         10  \n",
       "All_Environmental                    49  \n",
       "All_Socioeconomics                   11  \n",
       "\n",
       "[92 rows x 9 columns]"
      ],
      "text/html": "<div>\n<style scoped>\n    .dataframe tbody tr th:only-of-type {\n        vertical-align: middle;\n    }\n\n    .dataframe tbody tr th {\n        vertical-align: top;\n    }\n\n    .dataframe thead tr th {\n        text-align: left;\n    }\n\n    .dataframe thead tr:last-of-type th {\n        text-align: right;\n    }\n</style>\n<table border=\"1\" class=\"dataframe\">\n  <thead>\n    <tr>\n      <th>method</th>\n      <th colspan=\"3\" halign=\"left\">all</th>\n      <th colspan=\"3\" halign=\"left\">union</th>\n      <th colspan=\"3\" halign=\"left\">intersection</th>\n    </tr>\n    <tr>\n      <th>correlation_type</th>\n      <th>pearson</th>\n      <th>spearman</th>\n      <th>number_variables</th>\n      <th>pearson</th>\n      <th>spearman</th>\n      <th>number_variables</th>\n      <th>pearson</th>\n      <th>spearman</th>\n      <th>number_variables</th>\n    </tr>\n    <tr>\n      <th>category</th>\n      <th></th>\n      <th></th>\n      <th></th>\n      <th></th>\n      <th></th>\n      <th></th>\n      <th></th>\n      <th></th>\n      <th></th>\n    </tr>\n  </thead>\n  <tbody>\n    <tr>\n      <th>Alcohol</th>\n      <td>0.245172</td>\n      <td>0.201478</td>\n      <td>29</td>\n      <td>-0.200475</td>\n      <td>-0.244755</td>\n      <td>12</td>\n      <td>-0.771148</td>\n      <td>-1.0</td>\n      <td>4</td>\n    </tr>\n    <tr>\n      <th>AnthropometryBodySize</th>\n      <td>-0.498217</td>\n      <td>-0.619048</td>\n      <td>8</td>\n      <td>-0.498217</td>\n      <td>-0.619048</td>\n      <td>8</td>\n      <td>-0.779553</td>\n      <td>-0.8</td>\n      <td>4</td>\n    </tr>\n    <tr>\n      <th>AnthropometryImpedance</th>\n      <td>-0.585731</td>\n      <td>-0.7</td>\n      <td>5</td>\n      <td>-0.585731</td>\n      <td>-0.7</td>\n      <td>5</td>\n      <td>-0.585731</td>\n      <td>-0.7</td>\n      <td>5</td>\n    </tr>\n    <tr>\n      <th>ArterialStiffness</th>\n      <td>0.612142</td>\n      <td>0.47619</td>\n      <td>8</td>\n      <td>0.362174</td>\n      <td>0.085714</td>\n      <td>6</td>\n      <td>-1.0</td>\n      <td>-1.0</td>\n      <td>2</td>\n    </tr>\n    <tr>\n      <th>BloodBiochemistry</th>\n      <td>0.077582</td>\n      <td>0.015873</td>\n      <td>28</td>\n      <td>0.053816</td>\n      <td>-0.045614</td>\n      <td>19</td>\n      <td>0.015564</td>\n      <td>0.033333</td>\n      <td>9</td>\n    </tr>\n    <tr>\n      <th>...</th>\n      <td>...</td>\n      <td>...</td>\n      <td>...</td>\n      <td>...</td>\n      <td>...</td>\n      <td>...</td>\n      <td>...</td>\n      <td>...</td>\n      <td>...</td>\n    </tr>\n    <tr>\n      <th>All_Biomarkers</th>\n      <td>0.444471</td>\n      <td>0.661951</td>\n      <td>3115</td>\n      <td>0.420716</td>\n      <td>0.644366</td>\n      <td>679</td>\n      <td>0.633293</td>\n      <td>0.250494</td>\n      <td>73</td>\n    </tr>\n    <tr>\n      <th>All_Phenotypes</th>\n      <td>0.110952</td>\n      <td>0.340091</td>\n      <td>182</td>\n      <td>0.250916</td>\n      <td>0.312096</td>\n      <td>80</td>\n      <td>0.744237</td>\n      <td>0.433162</td>\n      <td>26</td>\n    </tr>\n    <tr>\n      <th>All_Diseases</th>\n      <td>0.362978</td>\n      <td>0.277877</td>\n      <td>2073</td>\n      <td>-0.029624</td>\n      <td>-0.325477</td>\n      <td>62</td>\n      <td>0.863583</td>\n      <td>0.757576</td>\n      <td>10</td>\n    </tr>\n    <tr>\n      <th>All_Environmental</th>\n      <td>0.378952</td>\n      <td>0.481816</td>\n      <td>263</td>\n      <td>0.433484</td>\n      <td>0.538802</td>\n      <td>114</td>\n      <td>0.670108</td>\n      <td>0.595</td>\n      <td>49</td>\n    </tr>\n    <tr>\n      <th>All_Socioeconomics</th>\n      <td>0.642517</td>\n      <td>0.749437</td>\n      <td>88</td>\n      <td>0.819856</td>\n      <td>0.874603</td>\n      <td>38</td>\n      <td>0.897566</td>\n      <td>0.690909</td>\n      <td>11</td>\n    </tr>\n  </tbody>\n</table>\n<p>92 rows × 9 columns</p>\n</div>"
     },
     "metadata": {},
     "execution_count": 6
    }
   ],
   "source": [
    "correlations.loc[(dimension_1, dimension_2)]"
   ]
  },
  {
   "cell_type": "code",
   "execution_count": 29,
   "metadata": {},
   "outputs": [
    {
     "output_type": "execute_result",
     "data": {
      "text/plain": [
       "            dimension_1      dimension_2                category  \\\n",
       "0               Abdomen          Abdomen                 Alcohol   \n",
       "1               Abdomen          Abdomen   AnthropometryBodySize   \n",
       "2               Abdomen          Abdomen  AnthropometryImpedance   \n",
       "3               Abdomen          Abdomen       ArterialStiffness   \n",
       "4               Abdomen          Abdomen       BloodBiochemistry   \n",
       "...                 ...              ...                     ...   \n",
       "100183  set_instances23  set_instances23          All_Biomarkers   \n",
       "100184  set_instances23  set_instances23          All_Phenotypes   \n",
       "100185  set_instances23  set_instances23            All_Diseases   \n",
       "100186  set_instances23  set_instances23       All_Environmental   \n",
       "100187  set_instances23  set_instances23      All_Socioeconomics   \n",
       "\n",
       "       ('all', 'pearson') ('all', 'spearman') ('all', 'number_variables')  \\\n",
       "0                     NaN                 NaN                         NaN   \n",
       "1                     NaN                 NaN                         NaN   \n",
       "2                     NaN                 NaN                         NaN   \n",
       "3                     NaN                 NaN                         NaN   \n",
       "4                     NaN                 NaN                         NaN   \n",
       "...                   ...                 ...                         ...   \n",
       "100183                NaN                 NaN                         NaN   \n",
       "100184                NaN                 NaN                         NaN   \n",
       "100185                NaN                 NaN                         NaN   \n",
       "100186                NaN                 NaN                         NaN   \n",
       "100187                NaN                 NaN                         NaN   \n",
       "\n",
       "       ('union', 'pearson') ('union', 'spearman')  \\\n",
       "0                       NaN                   NaN   \n",
       "1                       NaN                   NaN   \n",
       "2                       NaN                   NaN   \n",
       "3                       NaN                   NaN   \n",
       "4                       NaN                   NaN   \n",
       "...                     ...                   ...   \n",
       "100183                  NaN                   NaN   \n",
       "100184                  NaN                   NaN   \n",
       "100185                  NaN                   NaN   \n",
       "100186                  NaN                   NaN   \n",
       "100187                  NaN                   NaN   \n",
       "\n",
       "       ('union', 'number_variables') ('intersection', 'pearson')  \\\n",
       "0                                NaN                         NaN   \n",
       "1                                NaN                         NaN   \n",
       "2                                NaN                         NaN   \n",
       "3                                NaN                         NaN   \n",
       "4                                NaN                         NaN   \n",
       "...                              ...                         ...   \n",
       "100183                           NaN                         NaN   \n",
       "100184                           NaN                         NaN   \n",
       "100185                           NaN                         NaN   \n",
       "100186                           NaN                         NaN   \n",
       "100187                           NaN                         NaN   \n",
       "\n",
       "       ('intersection', 'spearman') ('intersection', 'number_variables')  \n",
       "0                               NaN                                  NaN  \n",
       "1                               NaN                                  NaN  \n",
       "2                               NaN                                  NaN  \n",
       "3                               NaN                                  NaN  \n",
       "4                               NaN                                  NaN  \n",
       "...                             ...                                  ...  \n",
       "100183                          NaN                                  NaN  \n",
       "100184                          NaN                                  NaN  \n",
       "100185                          NaN                                  NaN  \n",
       "100186                          NaN                                  NaN  \n",
       "100187                          NaN                                  NaN  \n",
       "\n",
       "[100188 rows x 12 columns]"
      ],
      "text/html": "<div>\n<style scoped>\n    .dataframe tbody tr th:only-of-type {\n        vertical-align: middle;\n    }\n\n    .dataframe tbody tr th {\n        vertical-align: top;\n    }\n\n    .dataframe thead th {\n        text-align: right;\n    }\n</style>\n<table border=\"1\" class=\"dataframe\">\n  <thead>\n    <tr style=\"text-align: right;\">\n      <th></th>\n      <th>dimension_1</th>\n      <th>dimension_2</th>\n      <th>category</th>\n      <th>('all', 'pearson')</th>\n      <th>('all', 'spearman')</th>\n      <th>('all', 'number_variables')</th>\n      <th>('union', 'pearson')</th>\n      <th>('union', 'spearman')</th>\n      <th>('union', 'number_variables')</th>\n      <th>('intersection', 'pearson')</th>\n      <th>('intersection', 'spearman')</th>\n      <th>('intersection', 'number_variables')</th>\n    </tr>\n  </thead>\n  <tbody>\n    <tr>\n      <th>0</th>\n      <td>Abdomen</td>\n      <td>Abdomen</td>\n      <td>Alcohol</td>\n      <td>NaN</td>\n      <td>NaN</td>\n      <td>NaN</td>\n      <td>NaN</td>\n      <td>NaN</td>\n      <td>NaN</td>\n      <td>NaN</td>\n      <td>NaN</td>\n      <td>NaN</td>\n    </tr>\n    <tr>\n      <th>1</th>\n      <td>Abdomen</td>\n      <td>Abdomen</td>\n      <td>AnthropometryBodySize</td>\n      <td>NaN</td>\n      <td>NaN</td>\n      <td>NaN</td>\n      <td>NaN</td>\n      <td>NaN</td>\n      <td>NaN</td>\n      <td>NaN</td>\n      <td>NaN</td>\n      <td>NaN</td>\n    </tr>\n    <tr>\n      <th>2</th>\n      <td>Abdomen</td>\n      <td>Abdomen</td>\n      <td>AnthropometryImpedance</td>\n      <td>NaN</td>\n      <td>NaN</td>\n      <td>NaN</td>\n      <td>NaN</td>\n      <td>NaN</td>\n      <td>NaN</td>\n      <td>NaN</td>\n      <td>NaN</td>\n      <td>NaN</td>\n    </tr>\n    <tr>\n      <th>3</th>\n      <td>Abdomen</td>\n      <td>Abdomen</td>\n      <td>ArterialStiffness</td>\n      <td>NaN</td>\n      <td>NaN</td>\n      <td>NaN</td>\n      <td>NaN</td>\n      <td>NaN</td>\n      <td>NaN</td>\n      <td>NaN</td>\n      <td>NaN</td>\n      <td>NaN</td>\n    </tr>\n    <tr>\n      <th>4</th>\n      <td>Abdomen</td>\n      <td>Abdomen</td>\n      <td>BloodBiochemistry</td>\n      <td>NaN</td>\n      <td>NaN</td>\n      <td>NaN</td>\n      <td>NaN</td>\n      <td>NaN</td>\n      <td>NaN</td>\n      <td>NaN</td>\n      <td>NaN</td>\n      <td>NaN</td>\n    </tr>\n    <tr>\n      <th>...</th>\n      <td>...</td>\n      <td>...</td>\n      <td>...</td>\n      <td>...</td>\n      <td>...</td>\n      <td>...</td>\n      <td>...</td>\n      <td>...</td>\n      <td>...</td>\n      <td>...</td>\n      <td>...</td>\n      <td>...</td>\n    </tr>\n    <tr>\n      <th>100183</th>\n      <td>set_instances23</td>\n      <td>set_instances23</td>\n      <td>All_Biomarkers</td>\n      <td>NaN</td>\n      <td>NaN</td>\n      <td>NaN</td>\n      <td>NaN</td>\n      <td>NaN</td>\n      <td>NaN</td>\n      <td>NaN</td>\n      <td>NaN</td>\n      <td>NaN</td>\n    </tr>\n    <tr>\n      <th>100184</th>\n      <td>set_instances23</td>\n      <td>set_instances23</td>\n      <td>All_Phenotypes</td>\n      <td>NaN</td>\n      <td>NaN</td>\n      <td>NaN</td>\n      <td>NaN</td>\n      <td>NaN</td>\n      <td>NaN</td>\n      <td>NaN</td>\n      <td>NaN</td>\n      <td>NaN</td>\n    </tr>\n    <tr>\n      <th>100185</th>\n      <td>set_instances23</td>\n      <td>set_instances23</td>\n      <td>All_Diseases</td>\n      <td>NaN</td>\n      <td>NaN</td>\n      <td>NaN</td>\n      <td>NaN</td>\n      <td>NaN</td>\n      <td>NaN</td>\n      <td>NaN</td>\n      <td>NaN</td>\n      <td>NaN</td>\n    </tr>\n    <tr>\n      <th>100186</th>\n      <td>set_instances23</td>\n      <td>set_instances23</td>\n      <td>All_Environmental</td>\n      <td>NaN</td>\n      <td>NaN</td>\n      <td>NaN</td>\n      <td>NaN</td>\n      <td>NaN</td>\n      <td>NaN</td>\n      <td>NaN</td>\n      <td>NaN</td>\n      <td>NaN</td>\n    </tr>\n    <tr>\n      <th>100187</th>\n      <td>set_instances23</td>\n      <td>set_instances23</td>\n      <td>All_Socioeconomics</td>\n      <td>NaN</td>\n      <td>NaN</td>\n      <td>NaN</td>\n      <td>NaN</td>\n      <td>NaN</td>\n      <td>NaN</td>\n      <td>NaN</td>\n      <td>NaN</td>\n      <td>NaN</td>\n    </tr>\n  </tbody>\n</table>\n<p>100188 rows × 12 columns</p>\n</div>"
     },
     "metadata": {},
     "execution_count": 29
    }
   ],
   "source": [
    "correlations.columns = map(str, correlations.columns.tolist())\n",
    "d = correlations.reset_index()\n",
    "d"
   ]
  },
  {
   "cell_type": "code",
   "execution_count": 1,
   "metadata": {},
   "outputs": [
    {
     "output_type": "error",
     "ename": "NameError",
     "evalue": "name 'd' is not defined",
     "traceback": [
      "\u001b[1;31m---------------------------------------------------------------------------\u001b[0m",
      "\u001b[1;31mNameError\u001b[0m                                 Traceback (most recent call last)",
      "\u001b[1;32m<ipython-input-1-2e5cc4da77c8>\u001b[0m in \u001b[0;36m<module>\u001b[1;34m\u001b[0m\n\u001b[1;32m----> 1\u001b[1;33m \u001b[0mcorrelations\u001b[0m \u001b[1;33m=\u001b[0m \u001b[0md\u001b[0m\u001b[1;33m.\u001b[0m\u001b[0mset_index\u001b[0m\u001b[1;33m(\u001b[0m\u001b[1;33m[\u001b[0m\u001b[1;34m\"dimension_1\"\u001b[0m\u001b[1;33m,\u001b[0m \u001b[1;34m\"dimension_2\"\u001b[0m\u001b[1;33m,\u001b[0m \u001b[1;34m\"category\"\u001b[0m\u001b[1;33m]\u001b[0m\u001b[1;33m)\u001b[0m\u001b[1;33m\u001b[0m\u001b[1;33m\u001b[0m\u001b[0m\n\u001b[0m\u001b[0;32m      2\u001b[0m correlations.columns = pd.MultiIndex.from_tuples(\n\u001b[0;32m      3\u001b[0m     \u001b[0mlist\u001b[0m\u001b[1;33m(\u001b[0m\u001b[0mmap\u001b[0m\u001b[1;33m(\u001b[0m\u001b[0meval\u001b[0m\u001b[1;33m,\u001b[0m \u001b[0mcorrelations\u001b[0m\u001b[1;33m.\u001b[0m\u001b[0mcolumns\u001b[0m\u001b[1;33m.\u001b[0m\u001b[0mtolist\u001b[0m\u001b[1;33m(\u001b[0m\u001b[1;33m)\u001b[0m\u001b[1;33m)\u001b[0m\u001b[1;33m)\u001b[0m\u001b[1;33m,\u001b[0m \u001b[0mnames\u001b[0m\u001b[1;33m=\u001b[0m\u001b[1;33m[\u001b[0m\u001b[1;34m\"category\"\u001b[0m\u001b[1;33m,\u001b[0m \u001b[1;34m\"variable\"\u001b[0m\u001b[1;33m]\u001b[0m\u001b[1;33m\u001b[0m\u001b[1;33m\u001b[0m\u001b[0m\n\u001b[0;32m      4\u001b[0m )\n\u001b[0;32m      5\u001b[0m \u001b[0mcorrelations\u001b[0m\u001b[1;33m\u001b[0m\u001b[1;33m\u001b[0m\u001b[0m\n",
      "\u001b[1;31mNameError\u001b[0m: name 'd' is not defined"
     ]
    }
   ],
   "source": [
    "correlations = d.set_index([\"dimension_1\", \"dimension_2\", \"category\"])\n",
    "correlations.columns = pd.MultiIndex.from_tuples(\n",
    "    list(map(eval, correlations.columns.tolist())), names=[\"category\", \"variable\"]\n",
    ")\n",
    "correlations"
   ]
  },
  {
   "cell_type": "code",
   "execution_count": 46,
   "metadata": {},
   "outputs": [
    {
     "output_type": "execute_result",
     "data": {
      "text/plain": [
       "['Abdomen',\n",
       " 'AbdomenLiver',\n",
       " 'AbdomenPancreas',\n",
       " 'Arterial',\n",
       " 'ArterialCarotids',\n",
       " 'ArterialPulseWaveAnalysis',\n",
       " 'Biochemistry',\n",
       " 'BiochemistryBlood',\n",
       " 'BiochemistryUrine',\n",
       " 'Brain',\n",
       " 'BrainCognitive',\n",
       " 'BrainMRI',\n",
       " 'Eyes',\n",
       " 'EyesAll',\n",
       " 'EyesFundus',\n",
       " 'EyesOCT',\n",
       " 'Hearing',\n",
       " 'Heart',\n",
       " 'HeartECG',\n",
       " 'HeartMRI',\n",
       " 'ImmuneSystem',\n",
       " 'Lungs',\n",
       " 'Musculoskeletal',\n",
       " 'MusculoskeletalFullBody',\n",
       " 'MusculoskeletalHips',\n",
       " 'MusculoskeletalKnees',\n",
       " 'MusculoskeletalScalars',\n",
       " 'MusculoskeletalSpine',\n",
       " 'PhysicalActivity',\n",
       " 'set',\n",
       " 'set_instances01',\n",
       " 'set_instances1.5x',\n",
       " 'set_instances23']"
      ]
     },
     "metadata": {},
     "execution_count": 46
    }
   ],
   "source": [
    "sorted(phenotypic.index.get_level_values(0).drop_duplicates())"
   ]
  },
  {
   "cell_type": "code",
   "execution_count": null,
   "metadata": {},
   "outputs": [],
   "source": []
  }
 ]
}