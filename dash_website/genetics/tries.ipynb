{
 "cells": [
  {
   "cell_type": "code",
   "execution_count": 13,
   "metadata": {},
   "outputs": [],
   "source": [
    "from dash_website.utils.aws_loader import load_feather, upload_file\n",
    "\n",
    "correlations = load_feather(\"genetics/correlations/correlations.feather\").set_index([\"dimension_1\", \"subdimension_1\"])\n",
    "correlations.drop(index=[(\"*\", \"*\")], inplace=True)\n",
    "correlations.reset_index(inplace=True)\n",
    "correlations.set_index([\"dimension_2\", \"subdimension_2\"], inplace=True)\n",
    "correlations.drop(index=[(\"*\", \"*\")], inplace=True)\n",
    "correlations.reset_index(inplace=True)\n",
    "\n",
    "correlations.to_feather(\"tmp.feather\")"
   ]
  },
  {
   "cell_type": "code",
   "execution_count": 14,
   "metadata": {},
   "outputs": [],
   "source": [
    "# upload_file(\"tmp.feather\", \"genetics/correlations/correlations.feather\")"
   ]
  }
 ],
 "metadata": {
  "kernelspec": {
   "display_name": "Python 3.9.5 64-bit ('env_container': venv)",
   "name": "pythonjvsc74a57bd0827f31c7a17f115185da69808fd256ce792d94cfeb61ab0a6e35bd7e2999d502"
  },
  "language_info": {
   "codemirror_mode": {
    "name": "ipython",
    "version": 3
   },
   "file_extension": ".py",
   "mimetype": "text/x-python",
   "name": "python",
   "nbconvert_exporter": "python",
   "pygments_lexer": "ipython3",
   "version": "3.9.5"
  },
  "metadata": {
   "interpreter": {
    "hash": "827f31c7a17f115185da69808fd256ce792d94cfeb61ab0a6e35bd7e2999d502"
   }
  },
  "orig_nbformat": 2
 },
 "nbformat": 4,
 "nbformat_minor": 2
}