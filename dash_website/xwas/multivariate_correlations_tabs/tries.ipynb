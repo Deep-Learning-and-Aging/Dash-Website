{
 "cells": [
  {
   "cell_type": "code",
   "execution_count": 6,
   "metadata": {},
   "outputs": [],
   "source": [
    "from dash_website import DIMENSIONS_SUBDIMENSIONS, RENAME_DIMENSIONS\n",
    "from dash_website.utils.aws_loader import load_feather, upload_file\n",
    "from tqdm import tqdm\n",
    "import pandas as pd\n",
    "\n",
    "correlations = load_feather(\"xwas/multivariate_correlations/averages_correlations.feather\")\n",
    "\n",
    "correlations[\"dimension\"] = correlations[\"dimension\"].replace({\"Lungs\": \"LungsSpirometry\", \"Hearing\": \"HearingHearingTest\", \"BloodCells\": \"BloodCellsBloodCount\"})\n",
    "correlations.to_feather(\"tmp.feather\")\n",
    "# upload_file(\"tmp.feather\", \"xwas/multivariate_correlations/averages_correlations.feather\")"
   ]
  }
 ],
 "metadata": {
  "kernelspec": {
   "display_name": "Python 3.9.4  ('env_container': venv)",
   "name": "pythonjvsc74a57bd0827f31c7a17f115185da69808fd256ce792d94cfeb61ab0a6e35bd7e2999d502"
  },
  "language_info": {
   "codemirror_mode": {
    "name": "ipython",
    "version": 3
   },
   "file_extension": ".py",
   "mimetype": "text/x-python",
   "name": "python",
   "nbconvert_exporter": "python",
   "pygments_lexer": "ipython3",
   "version": "3.9.5"
  },
  "metadata": {
   "interpreter": {
    "hash": "827f31c7a17f115185da69808fd256ce792d94cfeb61ab0a6e35bd7e2999d502"
   }
  },
  "orig_nbformat": 2
 },
 "nbformat": 4,
 "nbformat_minor": 2
}