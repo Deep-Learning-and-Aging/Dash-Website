{
 "cells": [
  {
   "cell_type": "code",
   "execution_count": 4,
   "metadata": {},
   "outputs": [],
   "source": [
    "from dash_website.utils.aws_loader import load_feather, upload_file\n",
    "from dash_website.correlation_between import SAMPLE_DEFINITION\n",
    "\n",
    "\n",
    "for sample_definition in SAMPLE_DEFINITION:\n",
    "    correlations = load_feather(\n",
    "        f\"correlation_between_accelerated_aging_dimensions/custom_dimensions_{sample_definition}.feather\"\n",
    "    ).drop(\n",
    "        columns=[\n",
    "            \"r2_1\",\n",
    "            \"r2_std_1\",\n",
    "            \"r2_2\",\n",
    "            \"r2_std_2\",\n",
    "        ]\n",
    "    )\n",
    "    for number in [1, 2]:\n",
    "        for dimension, subdimension in [\n",
    "            (\"Hearing\", \"HearingTest\"),\n",
    "            (\"BloodCells\", \"BloodCount\"),\n",
    "            (\"Lungs\", \"Spirometry\"),\n",
    "        ]:\n",
    "            correlations.loc[correlations[f\"dimension_{number}\"] == dimension, f\"subdimension_{number}\"] = subdimension\n",
    "    correlations.to_feather(\"tmp.feather\")\n",
    "    # upload_file(\"tmp.feather\", f\"correlation_between_accelerated_aging_dimensions/custom_dimensions_{sample_definition}.feather\")\n"
   ]
  }
 ],
 "metadata": {
  "kernelspec": {
   "display_name": "Python 3.9.4  ('env_container': venv)",
   "name": "pythonjvsc74a57bd0827f31c7a17f115185da69808fd256ce792d94cfeb61ab0a6e35bd7e2999d502"
  },
  "language_info": {
   "codemirror_mode": {
    "name": "ipython",
    "version": 3
   },
   "file_extension": ".py",
   "mimetype": "text/x-python",
   "name": "python",
   "nbconvert_exporter": "python",
   "pygments_lexer": "ipython3",
   "version": "3.9.5"
  },
  "metadata": {
   "interpreter": {
    "hash": "827f31c7a17f115185da69808fd256ce792d94cfeb61ab0a6e35bd7e2999d502"
   }
  },
  "orig_nbformat": 2
 },
 "nbformat": 4,
 "nbformat_minor": 2
}