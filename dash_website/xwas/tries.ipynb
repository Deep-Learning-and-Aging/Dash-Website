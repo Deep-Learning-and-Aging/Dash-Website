{
 "metadata": {
  "language_info": {
   "codemirror_mode": {
    "name": "ipython",
    "version": 3
   },
   "file_extension": ".py",
   "mimetype": "text/x-python",
   "name": "python",
   "nbconvert_exporter": "python",
   "pygments_lexer": "ipython3",
   "version": "3.7.7-final"
  },
  "orig_nbformat": 2,
  "kernelspec": {
   "name": "python377jvsc74a57bd0c11bf2a122358a257f4887e4656fd266c9212bc31c6d2fa50cb5fb4a0c5b9dd8",
   "display_name": "Python 3.7.7 64-bit ('env_website': venv)"
  }
 },
 "nbformat": 4,
 "nbformat_minor": 2,
 "cells": [
  {
   "cell_type": "code",
   "execution_count": 61,
   "metadata": {},
   "outputs": [
    {
     "output_type": "execute_result",
     "data": {
      "text/plain": [
       "                       category                dimension       std        r2  \\\n",
       "0     Clusters_HandGripStrength                       \\*  0.013150  0.069580   \n",
       "1     Clusters_HandGripStrength             *instances01  0.034026  0.057859   \n",
       "2     Clusters_HandGripStrength           *instances1.5x  0.018984  0.069503   \n",
       "3     Clusters_HandGripStrength             *instances23  0.035655  0.016081   \n",
       "4     Clusters_HandGripStrength                  Abdomen  0.005387  0.021373   \n",
       "...                         ...                      ...       ...       ...   \n",
       "2272        medical_diagnoses_Z      MusculoskeletalHips  0.015131  0.024697   \n",
       "2273        medical_diagnoses_Z     MusculoskeletalKnees  0.009602  0.023231   \n",
       "2274        medical_diagnoses_Z  MusculoskeletalFullBody  0.008037  0.030279   \n",
       "2275        medical_diagnoses_Z   MusculoskeletalScalars  0.004268  0.067414   \n",
       "2276        medical_diagnoses_Z         PhysicalActivity  0.017208  0.073708   \n",
       "\n",
       "      sample_size       subset  \n",
       "0           80343   Biomarkers  \n",
       "1            4404   Biomarkers  \n",
       "2           73983   Biomarkers  \n",
       "3            1956   Biomarkers  \n",
       "4           36654   Biomarkers  \n",
       "...           ...          ...  \n",
       "2272        42146  Pathologies  \n",
       "2273        39809  Pathologies  \n",
       "2274        42164  Pathologies  \n",
       "2275       486642  Pathologies  \n",
       "2276        77269  Pathologies  \n",
       "\n",
       "[2277 rows x 6 columns]"
      ],
      "text/html": "<div>\n<style scoped>\n    .dataframe tbody tr th:only-of-type {\n        vertical-align: middle;\n    }\n\n    .dataframe tbody tr th {\n        vertical-align: top;\n    }\n\n    .dataframe thead th {\n        text-align: right;\n    }\n</style>\n<table border=\"1\" class=\"dataframe\">\n  <thead>\n    <tr style=\"text-align: right;\">\n      <th></th>\n      <th>category</th>\n      <th>dimension</th>\n      <th>std</th>\n      <th>r2</th>\n      <th>sample_size</th>\n      <th>subset</th>\n    </tr>\n  </thead>\n  <tbody>\n    <tr>\n      <th>0</th>\n      <td>Clusters_HandGripStrength</td>\n      <td>\\*</td>\n      <td>0.013150</td>\n      <td>0.069580</td>\n      <td>80343</td>\n      <td>Biomarkers</td>\n    </tr>\n    <tr>\n      <th>1</th>\n      <td>Clusters_HandGripStrength</td>\n      <td>*instances01</td>\n      <td>0.034026</td>\n      <td>0.057859</td>\n      <td>4404</td>\n      <td>Biomarkers</td>\n    </tr>\n    <tr>\n      <th>2</th>\n      <td>Clusters_HandGripStrength</td>\n      <td>*instances1.5x</td>\n      <td>0.018984</td>\n      <td>0.069503</td>\n      <td>73983</td>\n      <td>Biomarkers</td>\n    </tr>\n    <tr>\n      <th>3</th>\n      <td>Clusters_HandGripStrength</td>\n      <td>*instances23</td>\n      <td>0.035655</td>\n      <td>0.016081</td>\n      <td>1956</td>\n      <td>Biomarkers</td>\n    </tr>\n    <tr>\n      <th>4</th>\n      <td>Clusters_HandGripStrength</td>\n      <td>Abdomen</td>\n      <td>0.005387</td>\n      <td>0.021373</td>\n      <td>36654</td>\n      <td>Biomarkers</td>\n    </tr>\n    <tr>\n      <th>...</th>\n      <td>...</td>\n      <td>...</td>\n      <td>...</td>\n      <td>...</td>\n      <td>...</td>\n      <td>...</td>\n    </tr>\n    <tr>\n      <th>2272</th>\n      <td>medical_diagnoses_Z</td>\n      <td>MusculoskeletalHips</td>\n      <td>0.015131</td>\n      <td>0.024697</td>\n      <td>42146</td>\n      <td>Pathologies</td>\n    </tr>\n    <tr>\n      <th>2273</th>\n      <td>medical_diagnoses_Z</td>\n      <td>MusculoskeletalKnees</td>\n      <td>0.009602</td>\n      <td>0.023231</td>\n      <td>39809</td>\n      <td>Pathologies</td>\n    </tr>\n    <tr>\n      <th>2274</th>\n      <td>medical_diagnoses_Z</td>\n      <td>MusculoskeletalFullBody</td>\n      <td>0.008037</td>\n      <td>0.030279</td>\n      <td>42164</td>\n      <td>Pathologies</td>\n    </tr>\n    <tr>\n      <th>2275</th>\n      <td>medical_diagnoses_Z</td>\n      <td>MusculoskeletalScalars</td>\n      <td>0.004268</td>\n      <td>0.067414</td>\n      <td>486642</td>\n      <td>Pathologies</td>\n    </tr>\n    <tr>\n      <th>2276</th>\n      <td>medical_diagnoses_Z</td>\n      <td>PhysicalActivity</td>\n      <td>0.017208</td>\n      <td>0.073708</td>\n      <td>77269</td>\n      <td>Pathologies</td>\n    </tr>\n  </tbody>\n</table>\n<p>2277 rows × 6 columns</p>\n</div>"
     },
     "metadata": {},
     "execution_count": 61
    }
   ],
   "source": [
    "import pandas as pd \n",
    "\n",
    "algorithm = \"ElasticNet\"\n",
    "algorithm = \"LightGBM\"\n",
    "\n",
    "scores = pd.read_csv(\n",
    "    f\"../../data/page7_MultivariateXWASResults/Scores/Scores_{algorithm}_test.csv\",\n",
    "    index_col=0,\n",
    ")\n",
    "scores.rename(columns={\"env_dataset\": \"category\", \"organ\": \"dimension\"}, inplace=True)\n",
    "scores"
   ]
  },
  {
   "cell_type": "code",
   "execution_count": null,
   "metadata": {},
   "outputs": [],
   "source": [
    "DICT_TO_CHANGE_DIMENSIONS = {\"ImmuneSystem\": \"BloodCells\", \"\\*\" : \"set\", \"*instances01\": \"set_instances01\", \"*instances1.5x\", \"*instances23\": \"set_instances23\"}\n",
    "DICT_TO_CHANGE_CATEGORIES = {\n",
    "    \"HeartSize\": \"HeartFunction\",\n",
    "    \"AnthropometryImpedance\": \"Impedance\",\n",
    "    \"AnthropometryBodySize\": \"Anthropometry\",\n",
    "    \"Claudification\": \"Claudication\"\n",
    "}\n",
    "DICT_TO_CHANGE_MAIN_CATEGORIES = {\"Pathologies\": \"Diseases\"}\n",
    "\n"
   ]
  },
  {
   "cell_type": "code",
   "execution_count": 58,
   "metadata": {},
   "outputs": [
    {
     "output_type": "stream",
     "name": "stdout",
     "text": [
      "26\n"
     ]
    }
   ],
   "source": [
    "print(scores.loc[\"Pathologies\", \"category\"].drop_duplicates().shape[0])\n",
    "for cat in scores.loc[\"Pathologies\", \"category\"].drop_duplicates():\n",
    "    if cat not in MAIN_CATEGORIES_TO_CATEGORIES[\"Diseases\"]:\n",
    "        print(cat)"
   ]
  },
  {
   "cell_type": "code",
   "execution_count": 51,
   "metadata": {},
   "outputs": [
    {
     "output_type": "execute_result",
     "data": {
      "text/plain": [
       "dict_keys(['All', 'Biomarkers', 'ClinicalPhenotypes', 'Diseases', 'Environmental', 'Socioeconomics'])"
      ]
     },
     "metadata": {},
     "execution_count": 51
    }
   ],
   "source": [
    "from dash_website import MAIN_CATEGORIES_TO_CATEGORIES\n",
    "\n",
    "MAIN_CATEGORIES_TO_CATEGORIES.keys()"
   ]
  }
 ]
}