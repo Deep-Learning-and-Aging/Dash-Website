{
 "metadata": {
  "language_info": {
   "codemirror_mode": {
    "name": "ipython",
    "version": 3
   },
   "file_extension": ".py",
   "mimetype": "text/x-python",
   "name": "python",
   "nbconvert_exporter": "python",
   "pygments_lexer": "ipython3",
   "version": "3.7.7-final"
  },
  "orig_nbformat": 2,
  "kernelspec": {
   "name": "python3",
   "display_name": "Python 3.7.7 64-bit ('env_website')",
   "metadata": {
    "interpreter": {
     "hash": "c11bf2a122358a257f4887e4656fd266c9212bc31c6d2fa50cb5fb4a0c5b9dd8"
    }
   }
  }
 },
 "nbformat": 4,
 "nbformat_minor": 2,
 "cells": [
  {
   "cell_type": "code",
   "execution_count": 3,
   "metadata": {
    "tags": []
   },
   "outputs": [
    {
     "output_type": "execute_result",
     "data": {
      "text/plain": [
       "        env_dataset       organ_1                  organ_2      corr  \\\n",
       "0           Alcohol  *instances01             *instances01  1.000000   \n",
       "1           Alcohol  *instances01           *instances1.5x  1.000000   \n",
       "2           Alcohol  *instances01             *instances23       NaN   \n",
       "3           Alcohol  *instances01                  Abdomen       NaN   \n",
       "4           Alcohol  *instances01             AbdomenLiver  1.000000   \n",
       "...             ...           ...                      ...       ...   \n",
       "96916  All_Diseases            \\*     MusculoskeletalKnees -0.485714   \n",
       "96917  All_Diseases            \\*  MusculoskeletalFullBody  0.190769   \n",
       "96918  All_Diseases            \\*   MusculoskeletalScalars  0.686697   \n",
       "96919  All_Diseases            \\*         PhysicalActivity  0.984152   \n",
       "96920  All_Diseases            \\*                       \\*  1.000000   \n",
       "\n",
       "       sample_size  \n",
       "0                2  \n",
       "1                2  \n",
       "2                1  \n",
       "3                1  \n",
       "4                2  \n",
       "...            ...  \n",
       "96916            6  \n",
       "96917           25  \n",
       "96918          224  \n",
       "96919          235  \n",
       "96920          239  \n",
       "\n",
       "[96921 rows x 5 columns]"
      ],
      "text/html": "<div>\n<style scoped>\n    .dataframe tbody tr th:only-of-type {\n        vertical-align: middle;\n    }\n\n    .dataframe tbody tr th {\n        vertical-align: top;\n    }\n\n    .dataframe thead th {\n        text-align: right;\n    }\n</style>\n<table border=\"1\" class=\"dataframe\">\n  <thead>\n    <tr style=\"text-align: right;\">\n      <th></th>\n      <th>env_dataset</th>\n      <th>organ_1</th>\n      <th>organ_2</th>\n      <th>corr</th>\n      <th>sample_size</th>\n    </tr>\n  </thead>\n  <tbody>\n    <tr>\n      <th>0</th>\n      <td>Alcohol</td>\n      <td>*instances01</td>\n      <td>*instances01</td>\n      <td>1.000000</td>\n      <td>2</td>\n    </tr>\n    <tr>\n      <th>1</th>\n      <td>Alcohol</td>\n      <td>*instances01</td>\n      <td>*instances1.5x</td>\n      <td>1.000000</td>\n      <td>2</td>\n    </tr>\n    <tr>\n      <th>2</th>\n      <td>Alcohol</td>\n      <td>*instances01</td>\n      <td>*instances23</td>\n      <td>NaN</td>\n      <td>1</td>\n    </tr>\n    <tr>\n      <th>3</th>\n      <td>Alcohol</td>\n      <td>*instances01</td>\n      <td>Abdomen</td>\n      <td>NaN</td>\n      <td>1</td>\n    </tr>\n    <tr>\n      <th>4</th>\n      <td>Alcohol</td>\n      <td>*instances01</td>\n      <td>AbdomenLiver</td>\n      <td>1.000000</td>\n      <td>2</td>\n    </tr>\n    <tr>\n      <th>...</th>\n      <td>...</td>\n      <td>...</td>\n      <td>...</td>\n      <td>...</td>\n      <td>...</td>\n    </tr>\n    <tr>\n      <th>96916</th>\n      <td>All_Diseases</td>\n      <td>\\*</td>\n      <td>MusculoskeletalKnees</td>\n      <td>-0.485714</td>\n      <td>6</td>\n    </tr>\n    <tr>\n      <th>96917</th>\n      <td>All_Diseases</td>\n      <td>\\*</td>\n      <td>MusculoskeletalFullBody</td>\n      <td>0.190769</td>\n      <td>25</td>\n    </tr>\n    <tr>\n      <th>96918</th>\n      <td>All_Diseases</td>\n      <td>\\*</td>\n      <td>MusculoskeletalScalars</td>\n      <td>0.686697</td>\n      <td>224</td>\n    </tr>\n    <tr>\n      <th>96919</th>\n      <td>All_Diseases</td>\n      <td>\\*</td>\n      <td>PhysicalActivity</td>\n      <td>0.984152</td>\n      <td>235</td>\n    </tr>\n    <tr>\n      <th>96920</th>\n      <td>All_Diseases</td>\n      <td>\\*</td>\n      <td>\\*</td>\n      <td>1.000000</td>\n      <td>239</td>\n    </tr>\n  </tbody>\n</table>\n<p>96921 rows × 5 columns</p>\n</div>"
     },
     "metadata": {},
     "execution_count": 3
    }
   ],
   "source": [
    "import pandas as pd \n",
    "import numpy as np\n",
    "from dash_website import (\n",
    "    DIMENSIONS,\n",
    "    ALL_BIOMARKERS,\n",
    "    ALL_ENVIRONMENTAL,\n",
    "    ALL_SOCIOECONOMICS,\n",
    "    ALL_PHENOTYPES,\n",
    "    ALL_DISEASES,\n",
    "    ALL_CATEGORIES,\n",
    "    CATEGORIES,\n",
    ")\n",
    "\n",
    "missing_correlations = []\n",
    "\n",
    "pd.read_csv(f\"../../data/page6_LinearXWASCorrelations/correlations/Correlations_Intersection_Spearman.csv\", index_col=[0])"
   ]
  },
  {
   "cell_type": "code",
   "execution_count": 17,
   "metadata": {},
   "outputs": [
    {
     "output_type": "execute_result",
     "data": {
      "text/plain": [
       "'\"Alcohol\" \"AnthropometryBodySize\" \"AnthropometryImpedance\" \"ArterialStiffness\" \"BloodBiochemistry\" \"BloodCount\" \"BloodPressure\" \"BoneDensitometryOfHeel\" \"BrainGreyMatterVolumes\" \"BrainSubcorticalVolumes\" \"BraindMRIWeightedMeans\" \"Breathing\" \"CancerScreening\" \"CarotidUltrasound\" \"ChestPain\" \"Claudication\" \"CognitiveFluidIntelligence\" \"CognitiveMatrixPatternCompletion\" \"CognitiveNumericMemory\" \"CognitivePairedAssociativeLearning\" \"CognitivePairsMatching\" \"CognitiveProspectiveMemory\" \"CognitiveReactionTime\" \"CognitiveSymbolDigitSubstitution\" \"CognitiveTowerRearranging\" \"CognitiveTrailMaking\" \"Diet\" \"ECGAtRest\" \"EarlyLifeFactors\" \"Education\" \"ElectronicDevices\" \"Employment\" \"EyeAcuity\" \"EyeAutorefraction\" \"EyeIntraocularPressure\" \"Eyesight\" \"FamilyHistory\" \"GeneralHealth\" \"GeneralPain\" \"HandGripStrength\" \"Hearing\" \"HearingTest\" \"HeartPWA\" \"HeartSize\" \"Household\" \"Medication\" \"MentalHealth\" \"Mouth\" \"OtherSociodemographics\" \"PhysicalActivity\" \"SexualFactors\" \"Sleep\" \"Smoking\" \"SocialSupport\" \"Spirometry\" \"SunExposure\" \"UrineBiochemistry\" \"medical_diagnoses_A\" \"medical_diagnoses_B\" \"medical_diagnoses_C\" \"medical_diagnoses_D\" \"medical_diagnoses_E\" \"medical_diagnoses_F\" \"medical_diagnoses_G\" \"medical_diagnoses_H\" \"medical_diagnoses_I\" \"medical_diagnoses_J\" \"medical_diagnoses_K\" \"medical_diagnoses_L\" \"medical_diagnoses_M\" \"medical_diagnoses_N\" \"medical_diagnoses_O\" \"medical_diagnoses_P\" \"medical_diagnoses_Q\" \"medical_diagnoses_R\" \"medical_diagnoses_S\" \"medical_diagnoses_T\" \"medical_diagnoses_U\" \"medical_diagnoses_V\" \"medical_diagnoses_W\" \"medical_diagnoses_X\" \"medical_diagnoses_Y\" \"medical_diagnoses_Z\" '"
      ]
     },
     "metadata": {},
     "execution_count": 17
    }
   ],
   "source": [
    "string = \"\"\n",
    "for d in ALL_CATEGORIES:\n",
    "    string += f'\"{d}\" '\n",
    "string"
   ]
  }
 ]
}