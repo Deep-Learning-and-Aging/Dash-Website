{
 "cells": [
  {
   "cell_type": "code",
   "execution_count": 1,
   "metadata": {},
   "outputs": [],
   "source": [
    "DIMENSIONS_TO_NAME = {('Brain', 'MRI', 'GreyMatterVolumes'): 'BrainGreyMatterVolumes',\n",
    " ('Brain', 'MRI', 'SubcorticalVolumes'): 'BrainSubcorticalVolumes',\n",
    " ('Brain', 'MRI', 'dMRIWeightedMeans'): 'BraindMRIWeightedMeans',\n",
    " ('Brain', 'MRI', 'AllScalars'): 'BrainMRIAllBiomarkers',\n",
    " ('Brain', 'Cognitive', 'ReactionTime'): 'CognitiveReactionTime',\n",
    " ('Brain',\n",
    "  'Cognitive',\n",
    "  'MatrixPatternCompletion'): 'CognitiveMatrixPatternCompletion',\n",
    " ('Brain', 'Cognitive', 'TowerRearranging'): 'CognitiveTowerRearranging',\n",
    " ('Brain',\n",
    "  'Cognitive',\n",
    "  'SymbolDigitSubstitution'): 'CognitiveSymbolDigitSubstitution',\n",
    " ('Brain',\n",
    "  'Cognitive',\n",
    "  'PairedAssociativeLearning'): 'CognitivePairedAssociativeLearning',\n",
    " ('Brain', 'Cognitive', 'ProspectiveMemory'): 'CognitiveProspectiveMemory',\n",
    " ('Brain', 'Cognitive', 'NumericMemory'): 'CognitiveNumericMemory',\n",
    " ('Brain', 'Cognitive', 'FluidIntelligence'): 'CognitiveFluidIntelligence',\n",
    " ('Brain', 'Cognitive', 'TrailMaking'): 'CognitiveTrailMaking',\n",
    " ('Brain', 'Cognitive', 'PairsMatching'): 'CognitivePairsMatching',\n",
    " ('Brain', 'Cognitive', 'AllScalars'): 'CognitiveAllBiomarkers',\n",
    " ('Brain', 'All', 'Scalars'): 'BrainAndCognitive',\n",
    " ('Eyes', 'Autorefraction', 'Scalars'): 'EyeAutorefraction',\n",
    " ('Eyes', 'Acuity', 'Scalars'): 'EyeAcuity',\n",
    " ('Eyes', 'IntraocularPressure', 'Scalars'): 'EyeIntraocularPressure',\n",
    " ('Eyes', 'All', 'Scalars'): 'EyesAllBiomarkers',\n",
    " ('Hearing', 'HearingTest', 'Scalars'): 'HearingTest',\n",
    " ('Lungs', 'Spirometry', 'Scalars'): 'Spirometry',\n",
    " ('Arterial', 'BloodPressure', 'Scalars'): 'BloodPressure',\n",
    " ('Arterial', 'Carotids', 'Scalars'): 'CarotidUltrasound',\n",
    " ('Arterial', 'PWA', 'Scalars'): 'ArterialStiffness',\n",
    " ('Arterial', 'All', 'Scalars'): 'VascularAllBiomarkers',\n",
    " ('Heart', 'All', 'Scalars'): 'HeartAllBiomarkers',\n",
    " ('Heart', 'MRI', 'Size'): 'HeartSize',\n",
    " ('Heart', 'MRI', 'PWA'): 'HeartPWA',\n",
    " ('Heart', 'MRI', 'AllScalars'): 'HeartMRIAll',\n",
    " ('Heart', 'ECG', 'Scalars'): 'ECGAtRest',\n",
    " ('Musculoskeletal', 'Scalars', 'Impedance'): 'AnthropometryImpedance',\n",
    " ('Musculoskeletal', 'Scalars', 'Anthropometry'): 'AnthropometryBodySize',\n",
    " ('Musculoskeletal',\n",
    "  'Scalars',\n",
    "  'HeelBoneDensitometry'): 'BoneDensitometryOfHeel',\n",
    " ('Musculoskeletal', 'Scalars', 'HandGripStrength'): 'HandGripStrength',\n",
    " ('Musculoskeletal', 'Scalars', 'AllScalars'): 'MusculoskeletalAllBiomarkers',\n",
    " ('Biochemistry', 'Blood', 'Scalars'): 'BloodBiochemestry',\n",
    " ('Biochemistry', 'Urine', 'Scalars'): 'UrineBiochemestry',\n",
    " ('Biochemistry', 'All', 'Scalars'): 'Biochemistry',\n",
    " ('ImmuneSystem', 'BloodCount', 'Scalars'): 'BloodCount',\n",
    " ('PhysicalActivity', 'FullWeek', 'Scalars'): 'PhysicalActivity',\n",
    " ('Demographics', 'All', 'Scalars'): 'Demographics'}"
   ]
  },
  {
   "cell_type": "code",
   "execution_count": 2,
   "metadata": {},
   "outputs": [],
   "source": [
    "import pandas as pd \n",
    "\n",
    "DIMENSIONS = 'Musculoskeletal'\n",
    "SUBDIMENSION = 'Scalars'\n",
    "SUB_SUBDIMENSION = 'Anthropometry'\n",
    "NAME = DIMENSIONS_TO_NAME[(DIMENSIONS, SUBDIMENSION, SUB_SUBDIMENSION)]\n",
    "\n",
    "raw_scalars = pd.read_csv(f\"../../all_data/page1_biomarkers/BiomarkerDatasets/{NAME}_ethnicity.csv\").set_index(\"id\")"
   ]
  },
  {
   "cell_type": "code",
   "execution_count": 3,
   "metadata": {},
   "outputs": [],
   "source": [
    "RENAME_COLUMNS = {\"Sex\": \"sex\", \"Age when attended assessment centre\": \"chronological_age\"}\n",
    "\n",
    "for feature in raw_scalars.columns[raw_scalars.columns.str.contains(\".0\")]:\n",
    "    RENAME_COLUMNS[feature] = feature.replace(\".0\", \"\")"
   ]
  },
  {
   "cell_type": "code",
   "execution_count": 4,
   "metadata": {},
   "outputs": [],
   "source": [
    "scalars = pd.DataFrame(None, index=raw_scalars.index, columns=list(RENAME_COLUMNS.keys()) + [\"ethnicity\"])\n",
    "\n",
    "scalars[list(RENAME_COLUMNS.keys())] = raw_scalars[list(RENAME_COLUMNS.keys())]\n",
    "\n",
    "columns_ethinicities = raw_scalars.columns[~(raw_scalars.columns.isin(list(RENAME_COLUMNS.keys()) + [\"eid\"]) | raw_scalars.columns.str.contains(\"_r\"))]\n",
    "scalars[columns_ethinicities] = raw_scalars[columns_ethinicities]"
   ]
  },
  {
   "cell_type": "code",
   "execution_count": 5,
   "metadata": {},
   "outputs": [],
   "source": [
    "scalars.rename(columns=RENAME_COLUMNS).reset_index().to_feather(\"try.feather\")"
   ]
  },
  {
   "cell_type": "code",
   "execution_count": 6,
   "metadata": {},
   "outputs": [
    {
     "data": {
      "text/html": "<div>\n<style scoped>\n    .dataframe tbody tr th:only-of-type {\n        vertical-align: middle;\n    }\n\n    .dataframe tbody tr th {\n        vertical-align: top;\n    }\n\n    .dataframe thead th {\n        text-align: right;\n    }\n</style>\n<table border=\"1\" class=\"dataframe\">\n  <thead>\n    <tr style=\"text-align: right;\">\n      <th></th>\n      <th>id</th>\n      <th>sex</th>\n      <th>chronological_age</th>\n      <th>Waist circumference</th>\n      <th>Weight</th>\n      <th>Body mass index (BMI)</th>\n      <th>Hip circumference</th>\n      <th>Standing height</th>\n      <th>Sitting height</th>\n      <th>Seated height</th>\n      <th>...</th>\n      <th>Pakistani</th>\n      <th>Bangladeshi</th>\n      <th>Asian_Other</th>\n      <th>Black</th>\n      <th>Caribbean</th>\n      <th>African</th>\n      <th>Black_Other</th>\n      <th>Chinese</th>\n      <th>Other_ethnicity</th>\n      <th>Other</th>\n    </tr>\n  </thead>\n  <tbody>\n    <tr>\n      <th>0</th>\n      <td>3050147_0</td>\n      <td>1.0</td>\n      <td>60.830137</td>\n      <td>88.0</td>\n      <td>83.2</td>\n      <td>23.5401</td>\n      <td>100.0</td>\n      <td>188.0</td>\n      <td>93.0</td>\n      <td>143.0</td>\n      <td>...</td>\n      <td>0</td>\n      <td>0</td>\n      <td>0</td>\n      <td>0</td>\n      <td>0</td>\n      <td>0</td>\n      <td>0</td>\n      <td>0</td>\n      <td>0</td>\n      <td>0</td>\n    </tr>\n    <tr>\n      <th>1</th>\n      <td>1838829_0</td>\n      <td>0.0</td>\n      <td>51.668493</td>\n      <td>70.0</td>\n      <td>64.2</td>\n      <td>24.1635</td>\n      <td>98.0</td>\n      <td>163.0</td>\n      <td>88.0</td>\n      <td>138.0</td>\n      <td>...</td>\n      <td>0</td>\n      <td>0</td>\n      <td>0</td>\n      <td>0</td>\n      <td>0</td>\n      <td>0</td>\n      <td>0</td>\n      <td>0</td>\n      <td>0</td>\n      <td>0</td>\n    </tr>\n    <tr>\n      <th>2</th>\n      <td>5102879_0</td>\n      <td>1.0</td>\n      <td>61.356164</td>\n      <td>97.0</td>\n      <td>92.8</td>\n      <td>28.0159</td>\n      <td>108.0</td>\n      <td>182.0</td>\n      <td>94.0</td>\n      <td>144.0</td>\n      <td>...</td>\n      <td>0</td>\n      <td>0</td>\n      <td>0</td>\n      <td>0</td>\n      <td>0</td>\n      <td>0</td>\n      <td>0</td>\n      <td>0</td>\n      <td>0</td>\n      <td>0</td>\n    </tr>\n    <tr>\n      <th>3</th>\n      <td>3443854_0</td>\n      <td>1.0</td>\n      <td>59.572603</td>\n      <td>114.0</td>\n      <td>99.0</td>\n      <td>31.6001</td>\n      <td>113.0</td>\n      <td>177.0</td>\n      <td>92.0</td>\n      <td>142.0</td>\n      <td>...</td>\n      <td>0</td>\n      <td>0</td>\n      <td>0</td>\n      <td>0</td>\n      <td>0</td>\n      <td>0</td>\n      <td>0</td>\n      <td>0</td>\n      <td>0</td>\n      <td>0</td>\n    </tr>\n    <tr>\n      <th>4</th>\n      <td>4594487_0</td>\n      <td>0.0</td>\n      <td>51.249315</td>\n      <td>77.0</td>\n      <td>63.4</td>\n      <td>25.0781</td>\n      <td>102.0</td>\n      <td>159.0</td>\n      <td>86.0</td>\n      <td>126.0</td>\n      <td>...</td>\n      <td>0</td>\n      <td>0</td>\n      <td>0</td>\n      <td>0</td>\n      <td>0</td>\n      <td>0</td>\n      <td>0</td>\n      <td>0</td>\n      <td>0</td>\n      <td>0</td>\n    </tr>\n    <tr>\n      <th>...</th>\n      <td>...</td>\n      <td>...</td>\n      <td>...</td>\n      <td>...</td>\n      <td>...</td>\n      <td>...</td>\n      <td>...</td>\n      <td>...</td>\n      <td>...</td>\n      <td>...</td>\n      <td>...</td>\n      <td>...</td>\n      <td>...</td>\n      <td>...</td>\n      <td>...</td>\n      <td>...</td>\n      <td>...</td>\n      <td>...</td>\n      <td>...</td>\n      <td>...</td>\n      <td>...</td>\n    </tr>\n    <tr>\n      <th>7917</th>\n      <td>5744648_0</td>\n      <td>1.0</td>\n      <td>56.767123</td>\n      <td>101.0</td>\n      <td>96.9</td>\n      <td>32.7542</td>\n      <td>111.0</td>\n      <td>172.0</td>\n      <td>91.0</td>\n      <td>141.0</td>\n      <td>...</td>\n      <td>0</td>\n      <td>0</td>\n      <td>0</td>\n      <td>0</td>\n      <td>0</td>\n      <td>0</td>\n      <td>0</td>\n      <td>0</td>\n      <td>0</td>\n      <td>0</td>\n    </tr>\n    <tr>\n      <th>7918</th>\n      <td>4519062_0</td>\n      <td>0.0</td>\n      <td>44.320548</td>\n      <td>88.0</td>\n      <td>82.3</td>\n      <td>30.5993</td>\n      <td>107.0</td>\n      <td>164.0</td>\n      <td>88.0</td>\n      <td>138.0</td>\n      <td>...</td>\n      <td>0</td>\n      <td>0</td>\n      <td>0</td>\n      <td>0</td>\n      <td>0</td>\n      <td>0</td>\n      <td>0</td>\n      <td>0</td>\n      <td>0</td>\n      <td>0</td>\n    </tr>\n    <tr>\n      <th>7919</th>\n      <td>1311708_0</td>\n      <td>0.0</td>\n      <td>61.931507</td>\n      <td>89.0</td>\n      <td>71.4</td>\n      <td>29.7190</td>\n      <td>106.0</td>\n      <td>155.0</td>\n      <td>86.0</td>\n      <td>136.0</td>\n      <td>...</td>\n      <td>0</td>\n      <td>0</td>\n      <td>0</td>\n      <td>0</td>\n      <td>0</td>\n      <td>0</td>\n      <td>0</td>\n      <td>0</td>\n      <td>0</td>\n      <td>0</td>\n    </tr>\n    <tr>\n      <th>7920</th>\n      <td>2463081_0</td>\n      <td>1.0</td>\n      <td>49.024658</td>\n      <td>100.0</td>\n      <td>87.0</td>\n      <td>31.5721</td>\n      <td>113.0</td>\n      <td>166.0</td>\n      <td>91.0</td>\n      <td>141.0</td>\n      <td>...</td>\n      <td>0</td>\n      <td>0</td>\n      <td>0</td>\n      <td>0</td>\n      <td>0</td>\n      <td>0</td>\n      <td>0</td>\n      <td>0</td>\n      <td>0</td>\n      <td>0</td>\n    </tr>\n    <tr>\n      <th>7921</th>\n      <td>3585047_0</td>\n      <td>1.0</td>\n      <td>58.208219</td>\n      <td>88.0</td>\n      <td>84.6</td>\n      <td>25.2620</td>\n      <td>102.0</td>\n      <td>183.0</td>\n      <td>93.0</td>\n      <td>143.0</td>\n      <td>...</td>\n      <td>0</td>\n      <td>0</td>\n      <td>0</td>\n      <td>0</td>\n      <td>0</td>\n      <td>0</td>\n      <td>0</td>\n      <td>0</td>\n      <td>0</td>\n      <td>0</td>\n    </tr>\n  </tbody>\n</table>\n<p>7922 rows × 36 columns</p>\n</div>",
      "text/plain": "             id  sex  chronological_age  Waist circumference  Weight  \\\n0     3050147_0  1.0          60.830137                 88.0    83.2   \n1     1838829_0  0.0          51.668493                 70.0    64.2   \n2     5102879_0  1.0          61.356164                 97.0    92.8   \n3     3443854_0  1.0          59.572603                114.0    99.0   \n4     4594487_0  0.0          51.249315                 77.0    63.4   \n...         ...  ...                ...                  ...     ...   \n7917  5744648_0  1.0          56.767123                101.0    96.9   \n7918  4519062_0  0.0          44.320548                 88.0    82.3   \n7919  1311708_0  0.0          61.931507                 89.0    71.4   \n7920  2463081_0  1.0          49.024658                100.0    87.0   \n7921  3585047_0  1.0          58.208219                 88.0    84.6   \n\n      Body mass index (BMI)  Hip circumference  Standing height  \\\n0                   23.5401              100.0            188.0   \n1                   24.1635               98.0            163.0   \n2                   28.0159              108.0            182.0   \n3                   31.6001              113.0            177.0   \n4                   25.0781              102.0            159.0   \n...                     ...                ...              ...   \n7917                32.7542              111.0            172.0   \n7918                30.5993              107.0            164.0   \n7919                29.7190              106.0            155.0   \n7920                31.5721              113.0            166.0   \n7921                25.2620              102.0            183.0   \n\n      Sitting height  Seated height  ...  Pakistani Bangladeshi  Asian_Other  \\\n0               93.0          143.0  ...          0           0            0   \n1               88.0          138.0  ...          0           0            0   \n2               94.0          144.0  ...          0           0            0   \n3               92.0          142.0  ...          0           0            0   \n4               86.0          126.0  ...          0           0            0   \n...              ...            ...  ...        ...         ...          ...   \n7917            91.0          141.0  ...          0           0            0   \n7918            88.0          138.0  ...          0           0            0   \n7919            86.0          136.0  ...          0           0            0   \n7920            91.0          141.0  ...          0           0            0   \n7921            93.0          143.0  ...          0           0            0   \n\n      Black  Caribbean  African  Black_Other  Chinese  Other_ethnicity  Other  \n0         0          0        0            0        0                0      0  \n1         0          0        0            0        0                0      0  \n2         0          0        0            0        0                0      0  \n3         0          0        0            0        0                0      0  \n4         0          0        0            0        0                0      0  \n...     ...        ...      ...          ...      ...              ...    ...  \n7917      0          0        0            0        0                0      0  \n7918      0          0        0            0        0                0      0  \n7919      0          0        0            0        0                0      0  \n7920      0          0        0            0        0                0      0  \n7921      0          0        0            0        0                0      0  \n\n[7922 rows x 36 columns]"
     },
     "execution_count": 6,
     "metadata": {},
     "output_type": "execute_result"
    }
   ],
   "source": [
    "pd.read_feather(\"try.feather\")"
   ]
  }
 ],
 "metadata": {
  "kernelspec": {
   "display_name": "Python 3",
   "language": "python",
   "name": "python3"
  },
  "language_info": {
   "codemirror_mode": {
    "name": "ipython",
    "version": 3
   },
   "file_extension": ".py",
   "mimetype": "text/x-python",
   "name": "python",
   "nbconvert_exporter": "python",
   "pygments_lexer": "ipython3",
   "version": "3.8.5"
  },
  "orig_nbformat": 2
 },
 "nbformat": 4,
 "nbformat_minor": 2
}