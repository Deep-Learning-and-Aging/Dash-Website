{
 "metadata": {
  "language_info": {
   "codemirror_mode": {
    "name": "ipython",
    "version": 3
   },
   "file_extension": ".py",
   "mimetype": "text/x-python",
   "name": "python",
   "nbconvert_exporter": "python",
   "pygments_lexer": "ipython3",
   "version": "3.7.7-final"
  },
  "orig_nbformat": 2,
  "kernelspec": {
   "name": "python377jvsc74a57bd0c11bf2a122358a257f4887e4656fd266c9212bc31c6d2fa50cb5fb4a0c5b9dd8",
   "display_name": "Python 3.7.7 64-bit ('env_website')"
  }
 },
 "nbformat": 4,
 "nbformat_minor": 2,
 "cells": [
  {
   "cell_type": "code",
   "execution_count": 1,
   "metadata": {},
   "outputs": [
    {
     "output_type": "error",
     "ename": "SyntaxError",
     "evalue": "f-string: mismatched '(', '{', or '[' (<ipython-input-1-786b761571ec>, line 37)",
     "traceback": [
      "\u001b[1;36m  File \u001b[1;32m\"<ipython-input-1-786b761571ec>\"\u001b[1;36m, line \u001b[1;32m37\u001b[0m\n\u001b[1;33m    category = f\"medical_diagnoses_{object_.split(\"/\")[-1][11:-4].split('_')[-3]}\"\u001b[0m\n\u001b[1;37m              ^\u001b[0m\n\u001b[1;31mSyntaxError\u001b[0m\u001b[1;31m:\u001b[0m f-string: mismatched '(', '{', or '['\n"
     ]
    }
   ],
   "source": [
    "import pandas as pd\r\n",
    "from dash_website import DIMENSIONS, ALL_CATEGORIES\r\n",
    "\r\n",
    "\r\n",
    "\r\n",
    "if __name__ == \"__main__\":\r\n",
    "    list_indexes = []\r\n",
    "    for category in ALL_CATEGORIES:\r\n",
    "        for dimension in DIMENSIONS:\r\n",
    "            for algorithm in [\"ElasticNet\", \"LightGbm\", \"NeuralNetwork\", \"Correlation\"]:\r\n",
    "                list_indexes.append([category, dimension, algorithm])\r\n",
    "\r\n",
    "    indexes = pd.MultiIndex.from_tuples(list_indexes, names=[\"category\", \"dimension\", \"algorithm\"])\r\n",
    "    features = pd.Series(False, index=indexes, name=\"Exists\")\r\n",
    "\r\n",
    "    for object_ in list_objects:\r\n",
    "        algorithm = object_.split(\"/\")[-1][11:-4].split(\"_\")[-1]  # [: -4] for ., c, s, v\r\n",
    "        dimension = object_.split(\"/\")[-1][11:-4].split(\"_\")[-2]\r\n",
    "\r\n",
    "        if \"medical\" in object_:\r\n",
    "            category = f\"medical_diagnoses_{object_.split(\"/\")[-1][11:-4].split('_')[-3]}\"\r\n",
    "        else:\r\n",
    "            category = object_.split(\"/\")[-1][11:-4].split('_')[-3]\r\n",
    "\r\n",
    "        features.loc[(DICT_TO_CHANGE_CATEGORIES.get(category, category), DICT_TO_CHANGE_DIMENSIONS.get(dimension, dimension), algorithm)] = True\r\n",
    "\r\n",
    "    if (~features).sum() == 0:\r\n",
    "        print(\"\\n\\n Every file is in AWS S3 for Linear XWAS Results ! \\n\\n\")\r\n",
    "    else:\r\n",
    "        correlations[features == False].to_excel(\"missing_in_aws.xlsx\")"
   ]
  },
  {
   "cell_type": "code",
   "execution_count": 41,
   "metadata": {},
   "outputs": [
    {
     "output_type": "error",
     "ename": "OSError",
     "evalue": "[Errno 22] Invalid argument: '../../data/page18_MultivariateXWASFeatures/FeatureImp_Clusters_Alcohol_\\\\*_ElasticNet.csv'",
     "traceback": [
      "\u001b[1;31m---------------------------------------------------------------------------\u001b[0m",
      "\u001b[1;31mOSError\u001b[0m                                   Traceback (most recent call last)",
      "\u001b[1;32m<ipython-input-41-e54cc4d9a076>\u001b[0m in \u001b[0;36m<module>\u001b[1;34m\u001b[0m\n\u001b[0;32m     30\u001b[0m     \u001b[1;32mfor\u001b[0m \u001b[0mdimension\u001b[0m \u001b[1;32min\u001b[0m \u001b[0mDIMENSIONS\u001b[0m\u001b[1;33m:\u001b[0m\u001b[1;33m\u001b[0m\u001b[1;33m\u001b[0m\u001b[0m\n\u001b[0;32m     31\u001b[0m         \u001b[1;32mfor\u001b[0m \u001b[0malgorithm\u001b[0m \u001b[1;32min\u001b[0m \u001b[1;33m[\u001b[0m\u001b[1;34m\"elastic_net\"\u001b[0m\u001b[1;33m,\u001b[0m \u001b[1;34m\"light_gbm\"\u001b[0m\u001b[1;33m,\u001b[0m \u001b[1;34m\"neural_network\"\u001b[0m\u001b[1;33m,\u001b[0m \u001b[1;34m\"correlation\"\u001b[0m\u001b[1;33m]\u001b[0m\u001b[1;33m:\u001b[0m\u001b[1;33m\u001b[0m\u001b[1;33m\u001b[0m\u001b[0m\n\u001b[1;32m---> 32\u001b[1;33m             \u001b[0mfeatures\u001b[0m \u001b[1;33m=\u001b[0m \u001b[0mpd\u001b[0m\u001b[1;33m.\u001b[0m\u001b[0mread_csv\u001b[0m\u001b[1;33m(\u001b[0m\u001b[1;34mf\"../../data/page18_MultivariateXWASFeatures/FeatureImp_Clusters_{DICT_TO_FORMER_CATEGORIES.get(category, category)}_{DICT_TO_FORMER_DIMENSIONS.get(dimension, dimension)}_{DICT_TO_FORMER_ALGORITHM.get(algorithm, algorithm)}.csv\"\u001b[0m\u001b[1;33m)\u001b[0m\u001b[1;33m.\u001b[0m\u001b[0mrename\u001b[0m\u001b[1;33m(\u001b[0m\u001b[0mcolumns\u001b[0m\u001b[1;33m=\u001b[0m\u001b[1;33m{\u001b[0m\u001b[1;34m\"features\"\u001b[0m\u001b[1;33m:\u001b[0m \u001b[1;34m\"variable\"\u001b[0m\u001b[1;33m,\u001b[0m \u001b[1;34m\"weight\"\u001b[0m\u001b[1;33m:\u001b[0m \u001b[1;34m\"feature_importance\"\u001b[0m\u001b[1;33m}\u001b[0m\u001b[1;33m)\u001b[0m\u001b[1;33m\u001b[0m\u001b[1;33m\u001b[0m\u001b[0m\n\u001b[0m\u001b[0;32m     33\u001b[0m \u001b[1;33m\u001b[0m\u001b[0m\n\u001b[0;32m     34\u001b[0m             \u001b[0mfeatures\u001b[0m\u001b[1;33m[\u001b[0m\u001b[1;34m\"variable\"\u001b[0m\u001b[1;33m]\u001b[0m \u001b[1;33m=\u001b[0m \u001b[0mfeatures\u001b[0m\u001b[1;33m[\u001b[0m\u001b[1;34m\"variable\"\u001b[0m\u001b[1;33m]\u001b[0m\u001b[1;33m.\u001b[0m\u001b[0mapply\u001b[0m\u001b[1;33m(\u001b[0m\u001b[1;32mlambda\u001b[0m \u001b[0mvariable\u001b[0m\u001b[1;33m:\u001b[0m \u001b[0mvariable\u001b[0m\u001b[1;33m.\u001b[0m\u001b[0msplit\u001b[0m\u001b[1;33m(\u001b[0m\u001b[1;34m\".0\"\u001b[0m\u001b[1;33m)\u001b[0m\u001b[1;33m[\u001b[0m\u001b[1;36m0\u001b[0m\u001b[1;33m]\u001b[0m\u001b[1;33m)\u001b[0m\u001b[1;33m\u001b[0m\u001b[1;33m\u001b[0m\u001b[0m\n",
      "\u001b[1;32mc:\\Dossier\\HMS\\Dash-Website\\env_website\\lib\\site-packages\\pandas\\io\\parsers.py\u001b[0m in \u001b[0;36mread_csv\u001b[1;34m(filepath_or_buffer, sep, delimiter, header, names, index_col, usecols, squeeze, prefix, mangle_dupe_cols, dtype, engine, converters, true_values, false_values, skipinitialspace, skiprows, skipfooter, nrows, na_values, keep_default_na, na_filter, verbose, skip_blank_lines, parse_dates, infer_datetime_format, keep_date_col, date_parser, dayfirst, cache_dates, iterator, chunksize, compression, thousands, decimal, lineterminator, quotechar, quoting, doublequote, escapechar, comment, encoding, dialect, error_bad_lines, warn_bad_lines, delim_whitespace, low_memory, memory_map, float_precision, storage_options)\u001b[0m\n\u001b[0;32m    608\u001b[0m     \u001b[0mkwds\u001b[0m\u001b[1;33m.\u001b[0m\u001b[0mupdate\u001b[0m\u001b[1;33m(\u001b[0m\u001b[0mkwds_defaults\u001b[0m\u001b[1;33m)\u001b[0m\u001b[1;33m\u001b[0m\u001b[1;33m\u001b[0m\u001b[0m\n\u001b[0;32m    609\u001b[0m \u001b[1;33m\u001b[0m\u001b[0m\n\u001b[1;32m--> 610\u001b[1;33m     \u001b[1;32mreturn\u001b[0m \u001b[0m_read\u001b[0m\u001b[1;33m(\u001b[0m\u001b[0mfilepath_or_buffer\u001b[0m\u001b[1;33m,\u001b[0m \u001b[0mkwds\u001b[0m\u001b[1;33m)\u001b[0m\u001b[1;33m\u001b[0m\u001b[1;33m\u001b[0m\u001b[0m\n\u001b[0m\u001b[0;32m    611\u001b[0m \u001b[1;33m\u001b[0m\u001b[0m\n\u001b[0;32m    612\u001b[0m \u001b[1;33m\u001b[0m\u001b[0m\n",
      "\u001b[1;32mc:\\Dossier\\HMS\\Dash-Website\\env_website\\lib\\site-packages\\pandas\\io\\parsers.py\u001b[0m in \u001b[0;36m_read\u001b[1;34m(filepath_or_buffer, kwds)\u001b[0m\n\u001b[0;32m    460\u001b[0m \u001b[1;33m\u001b[0m\u001b[0m\n\u001b[0;32m    461\u001b[0m     \u001b[1;31m# Create the parser.\u001b[0m\u001b[1;33m\u001b[0m\u001b[1;33m\u001b[0m\u001b[1;33m\u001b[0m\u001b[0m\n\u001b[1;32m--> 462\u001b[1;33m     \u001b[0mparser\u001b[0m \u001b[1;33m=\u001b[0m \u001b[0mTextFileReader\u001b[0m\u001b[1;33m(\u001b[0m\u001b[0mfilepath_or_buffer\u001b[0m\u001b[1;33m,\u001b[0m \u001b[1;33m**\u001b[0m\u001b[0mkwds\u001b[0m\u001b[1;33m)\u001b[0m\u001b[1;33m\u001b[0m\u001b[1;33m\u001b[0m\u001b[0m\n\u001b[0m\u001b[0;32m    463\u001b[0m \u001b[1;33m\u001b[0m\u001b[0m\n\u001b[0;32m    464\u001b[0m     \u001b[1;32mif\u001b[0m \u001b[0mchunksize\u001b[0m \u001b[1;32mor\u001b[0m \u001b[0miterator\u001b[0m\u001b[1;33m:\u001b[0m\u001b[1;33m\u001b[0m\u001b[1;33m\u001b[0m\u001b[0m\n",
      "\u001b[1;32mc:\\Dossier\\HMS\\Dash-Website\\env_website\\lib\\site-packages\\pandas\\io\\parsers.py\u001b[0m in \u001b[0;36m__init__\u001b[1;34m(self, f, engine, **kwds)\u001b[0m\n\u001b[0;32m    817\u001b[0m             \u001b[0mself\u001b[0m\u001b[1;33m.\u001b[0m\u001b[0moptions\u001b[0m\u001b[1;33m[\u001b[0m\u001b[1;34m\"has_index_names\"\u001b[0m\u001b[1;33m]\u001b[0m \u001b[1;33m=\u001b[0m \u001b[0mkwds\u001b[0m\u001b[1;33m[\u001b[0m\u001b[1;34m\"has_index_names\"\u001b[0m\u001b[1;33m]\u001b[0m\u001b[1;33m\u001b[0m\u001b[1;33m\u001b[0m\u001b[0m\n\u001b[0;32m    818\u001b[0m \u001b[1;33m\u001b[0m\u001b[0m\n\u001b[1;32m--> 819\u001b[1;33m         \u001b[0mself\u001b[0m\u001b[1;33m.\u001b[0m\u001b[0m_engine\u001b[0m \u001b[1;33m=\u001b[0m \u001b[0mself\u001b[0m\u001b[1;33m.\u001b[0m\u001b[0m_make_engine\u001b[0m\u001b[1;33m(\u001b[0m\u001b[0mself\u001b[0m\u001b[1;33m.\u001b[0m\u001b[0mengine\u001b[0m\u001b[1;33m)\u001b[0m\u001b[1;33m\u001b[0m\u001b[1;33m\u001b[0m\u001b[0m\n\u001b[0m\u001b[0;32m    820\u001b[0m \u001b[1;33m\u001b[0m\u001b[0m\n\u001b[0;32m    821\u001b[0m     \u001b[1;32mdef\u001b[0m \u001b[0mclose\u001b[0m\u001b[1;33m(\u001b[0m\u001b[0mself\u001b[0m\u001b[1;33m)\u001b[0m\u001b[1;33m:\u001b[0m\u001b[1;33m\u001b[0m\u001b[1;33m\u001b[0m\u001b[0m\n",
      "\u001b[1;32mc:\\Dossier\\HMS\\Dash-Website\\env_website\\lib\\site-packages\\pandas\\io\\parsers.py\u001b[0m in \u001b[0;36m_make_engine\u001b[1;34m(self, engine)\u001b[0m\n\u001b[0;32m   1048\u001b[0m             )\n\u001b[0;32m   1049\u001b[0m         \u001b[1;31m# error: Too many arguments for \"ParserBase\"\u001b[0m\u001b[1;33m\u001b[0m\u001b[1;33m\u001b[0m\u001b[1;33m\u001b[0m\u001b[0m\n\u001b[1;32m-> 1050\u001b[1;33m         \u001b[1;32mreturn\u001b[0m \u001b[0mmapping\u001b[0m\u001b[1;33m[\u001b[0m\u001b[0mengine\u001b[0m\u001b[1;33m]\u001b[0m\u001b[1;33m(\u001b[0m\u001b[0mself\u001b[0m\u001b[1;33m.\u001b[0m\u001b[0mf\u001b[0m\u001b[1;33m,\u001b[0m \u001b[1;33m**\u001b[0m\u001b[0mself\u001b[0m\u001b[1;33m.\u001b[0m\u001b[0moptions\u001b[0m\u001b[1;33m)\u001b[0m  \u001b[1;31m# type: ignore[call-arg]\u001b[0m\u001b[1;33m\u001b[0m\u001b[1;33m\u001b[0m\u001b[0m\n\u001b[0m\u001b[0;32m   1051\u001b[0m \u001b[1;33m\u001b[0m\u001b[0m\n\u001b[0;32m   1052\u001b[0m     \u001b[1;32mdef\u001b[0m \u001b[0m_failover_to_python\u001b[0m\u001b[1;33m(\u001b[0m\u001b[0mself\u001b[0m\u001b[1;33m)\u001b[0m\u001b[1;33m:\u001b[0m\u001b[1;33m\u001b[0m\u001b[1;33m\u001b[0m\u001b[0m\n",
      "\u001b[1;32mc:\\Dossier\\HMS\\Dash-Website\\env_website\\lib\\site-packages\\pandas\\io\\parsers.py\u001b[0m in \u001b[0;36m__init__\u001b[1;34m(self, src, **kwds)\u001b[0m\n\u001b[0;32m   1865\u001b[0m \u001b[1;33m\u001b[0m\u001b[0m\n\u001b[0;32m   1866\u001b[0m         \u001b[1;31m# open handles\u001b[0m\u001b[1;33m\u001b[0m\u001b[1;33m\u001b[0m\u001b[1;33m\u001b[0m\u001b[0m\n\u001b[1;32m-> 1867\u001b[1;33m         \u001b[0mself\u001b[0m\u001b[1;33m.\u001b[0m\u001b[0m_open_handles\u001b[0m\u001b[1;33m(\u001b[0m\u001b[0msrc\u001b[0m\u001b[1;33m,\u001b[0m \u001b[0mkwds\u001b[0m\u001b[1;33m)\u001b[0m\u001b[1;33m\u001b[0m\u001b[1;33m\u001b[0m\u001b[0m\n\u001b[0m\u001b[0;32m   1868\u001b[0m         \u001b[1;32massert\u001b[0m \u001b[0mself\u001b[0m\u001b[1;33m.\u001b[0m\u001b[0mhandles\u001b[0m \u001b[1;32mis\u001b[0m \u001b[1;32mnot\u001b[0m \u001b[1;32mNone\u001b[0m\u001b[1;33m\u001b[0m\u001b[1;33m\u001b[0m\u001b[0m\n\u001b[0;32m   1869\u001b[0m         \u001b[1;32mfor\u001b[0m \u001b[0mkey\u001b[0m \u001b[1;32min\u001b[0m \u001b[1;33m(\u001b[0m\u001b[1;34m\"storage_options\"\u001b[0m\u001b[1;33m,\u001b[0m \u001b[1;34m\"encoding\"\u001b[0m\u001b[1;33m,\u001b[0m \u001b[1;34m\"memory_map\"\u001b[0m\u001b[1;33m,\u001b[0m \u001b[1;34m\"compression\"\u001b[0m\u001b[1;33m)\u001b[0m\u001b[1;33m:\u001b[0m\u001b[1;33m\u001b[0m\u001b[1;33m\u001b[0m\u001b[0m\n",
      "\u001b[1;32mc:\\Dossier\\HMS\\Dash-Website\\env_website\\lib\\site-packages\\pandas\\io\\parsers.py\u001b[0m in \u001b[0;36m_open_handles\u001b[1;34m(self, src, kwds)\u001b[0m\n\u001b[0;32m   1366\u001b[0m             \u001b[0mcompression\u001b[0m\u001b[1;33m=\u001b[0m\u001b[0mkwds\u001b[0m\u001b[1;33m.\u001b[0m\u001b[0mget\u001b[0m\u001b[1;33m(\u001b[0m\u001b[1;34m\"compression\"\u001b[0m\u001b[1;33m,\u001b[0m \u001b[1;32mNone\u001b[0m\u001b[1;33m)\u001b[0m\u001b[1;33m,\u001b[0m\u001b[1;33m\u001b[0m\u001b[1;33m\u001b[0m\u001b[0m\n\u001b[0;32m   1367\u001b[0m             \u001b[0mmemory_map\u001b[0m\u001b[1;33m=\u001b[0m\u001b[0mkwds\u001b[0m\u001b[1;33m.\u001b[0m\u001b[0mget\u001b[0m\u001b[1;33m(\u001b[0m\u001b[1;34m\"memory_map\"\u001b[0m\u001b[1;33m,\u001b[0m \u001b[1;32mFalse\u001b[0m\u001b[1;33m)\u001b[0m\u001b[1;33m,\u001b[0m\u001b[1;33m\u001b[0m\u001b[1;33m\u001b[0m\u001b[0m\n\u001b[1;32m-> 1368\u001b[1;33m             \u001b[0mstorage_options\u001b[0m\u001b[1;33m=\u001b[0m\u001b[0mkwds\u001b[0m\u001b[1;33m.\u001b[0m\u001b[0mget\u001b[0m\u001b[1;33m(\u001b[0m\u001b[1;34m\"storage_options\"\u001b[0m\u001b[1;33m,\u001b[0m \u001b[1;32mNone\u001b[0m\u001b[1;33m)\u001b[0m\u001b[1;33m,\u001b[0m\u001b[1;33m\u001b[0m\u001b[1;33m\u001b[0m\u001b[0m\n\u001b[0m\u001b[0;32m   1369\u001b[0m         )\n\u001b[0;32m   1370\u001b[0m \u001b[1;33m\u001b[0m\u001b[0m\n",
      "\u001b[1;32mc:\\Dossier\\HMS\\Dash-Website\\env_website\\lib\\site-packages\\pandas\\io\\common.py\u001b[0m in \u001b[0;36mget_handle\u001b[1;34m(path_or_buf, mode, encoding, compression, memory_map, is_text, errors, storage_options)\u001b[0m\n\u001b[0;32m    645\u001b[0m                 \u001b[0mencoding\u001b[0m\u001b[1;33m=\u001b[0m\u001b[0mioargs\u001b[0m\u001b[1;33m.\u001b[0m\u001b[0mencoding\u001b[0m\u001b[1;33m,\u001b[0m\u001b[1;33m\u001b[0m\u001b[1;33m\u001b[0m\u001b[0m\n\u001b[0;32m    646\u001b[0m                 \u001b[0merrors\u001b[0m\u001b[1;33m=\u001b[0m\u001b[0merrors\u001b[0m\u001b[1;33m,\u001b[0m\u001b[1;33m\u001b[0m\u001b[1;33m\u001b[0m\u001b[0m\n\u001b[1;32m--> 647\u001b[1;33m                 \u001b[0mnewline\u001b[0m\u001b[1;33m=\u001b[0m\u001b[1;34m\"\"\u001b[0m\u001b[1;33m,\u001b[0m\u001b[1;33m\u001b[0m\u001b[1;33m\u001b[0m\u001b[0m\n\u001b[0m\u001b[0;32m    648\u001b[0m             )\n\u001b[0;32m    649\u001b[0m         \u001b[1;32melse\u001b[0m\u001b[1;33m:\u001b[0m\u001b[1;33m\u001b[0m\u001b[1;33m\u001b[0m\u001b[0m\n",
      "\u001b[1;31mOSError\u001b[0m: [Errno 22] Invalid argument: '../../data/page18_MultivariateXWASFeatures/FeatureImp_Clusters_Alcohol_\\\\*_ElasticNet.csv'"
     ]
    }
   ],
   "source": [
    "import pandas as pd\n",
    "from dash_website import DIMENSIONS, ALL_CATEGORIES\n",
    "\n",
    "DICT_TO_CHANGE_DIMENSIONS = {\n",
    "    \"ImmuneSystem\": \"BloodCells\",\n",
    "    \"\\*\": \"set\",\n",
    "    \"*instances01\": \"set_instances01\",\n",
    "    \"*instances1.5x\": \"set_instances1.5x\",\n",
    "    \"*instances23\": \"set_instances23\",\n",
    "}\n",
    "DICT_TO_FORMER_DIMENSIONS = {value: key for key, value in DICT_TO_CHANGE_DIMENSIONS.items()}\n",
    "DICT_TO_CHANGE_CATEGORIES = {\n",
    "    \"HeartSize\": \"HeartFunction\",\n",
    "    \"AnthropometryImpedance\": \"Impedance\",\n",
    "    \"AnthropometryBodySize\": \"Anthropometry\",\n",
    "    \"Claudification\": \"Claudication\",\n",
    "}\n",
    "DICT_TO_FORMER_CATEGORIES = {value: key for key, value in DICT_TO_CHANGE_CATEGORIES.items()}\n",
    "\n",
    "DICT_TO_FORMER_ALGORITHM = {\n",
    "    \"elastic_net\": \"ElasticNet\",\n",
    "    \"light_gbm\": \"LightGbm\",\n",
    "    \"neural_network\": \"NeuralNetwork\",\n",
    "    \"correlation\": \"Correlation\",\n",
    "}\n",
    "\n",
    "\n",
    "list_features = []\n",
    "for category in pd.Index(ALL_CATEGORIES).drop([\"Genetics\", \"Phenotypic\", \"PhysicalActivity\"]):\n",
    "    for dimension in DIMENSIONS:\n",
    "        for algorithm in [\"elastic_net\", \"light_gbm\", \"neural_network\", \"correlation\"]:\n",
    "            features = pd.read_csv(f\"../../data/page18_MultivariateXWASFeatures/FeatureImp_Clusters_{DICT_TO_FORMER_CATEGORIES.get(category, category)}_{DICT_TO_FORMER_DIMENSIONS.get(dimension, dimension)}_{DICT_TO_FORMER_ALGORITHM.get(algorithm, algorithm)}.csv\").rename(columns={\"features\": \"variable\", \"weight\": \"feature_importance\"})\n",
    "\n",
    "            features[\"variable\"] = features[\"variable\"].apply(lambda variable: variable.split(\".0\")[0])\n",
    "            features[\"category\"] = category\n",
    "            features[\"dimension\"] = dimension\n",
    "            features[\"algorithm\"] = algorithm\n",
    "\n",
    "            list_features.append(features)"
   ]
  },
  {
   "cell_type": "code",
   "execution_count": 46,
   "metadata": {},
   "outputs": [],
   "source": [
    "pd.concat(list_features).reset_index(drop=True).to_feather(\"../../data/xwas/multivariate_feature_importances/feature_importances.feather\")"
   ]
  },
  {
   "cell_type": "code",
   "execution_count": 5,
   "metadata": {},
   "outputs": [
    {
     "output_type": "execute_result",
     "data": {
      "text/plain": [
       "              dimension             category  \\\n",
       "0               Abdomen              Alcohol   \n",
       "1               Abdomen              Alcohol   \n",
       "2               Abdomen              Alcohol   \n",
       "3               Abdomen              Alcohol   \n",
       "4               Abdomen              Alcohol   \n",
       "...                 ...                  ...   \n",
       "192141  set_instances23  medical_diagnoses_Z   \n",
       "192142  set_instances23  medical_diagnoses_Z   \n",
       "192143  set_instances23  medical_diagnoses_Z   \n",
       "192144  set_instances23  medical_diagnoses_Z   \n",
       "192145  set_instances23  medical_diagnoses_Z   \n",
       "\n",
       "                                                 variable       p_value  \\\n",
       "0                               Alcohol intake frequency.  8.471062e-15   \n",
       "1                          Average weekly red wine intake  1.261667e-16   \n",
       "2         Average weekly champagne plus white wine intake  2.510791e-16   \n",
       "3                   Average weekly beer plus cider intake  1.640160e-15   \n",
       "4                           Average weekly spirits intake  2.763600e-13   \n",
       "...                                                   ...           ...   \n",
       "192141  Z95 Presence of cardiac and vascular implants ...  2.814760e-02   \n",
       "192142          Z96 Presence of other functional implants  6.031841e-01   \n",
       "192143                      Z97 Presence of other devices  3.509818e-01   \n",
       "192144                      Z98 Other postsurgical states  4.554518e-01   \n",
       "192145  Z99 Dependence on enabling machines and device...  2.256190e-01   \n",
       "\n",
       "        correlation  sample_size  \n",
       "0          0.040497      36693.0  \n",
       "1         -0.043196      36686.0  \n",
       "2         -0.042765      36688.0  \n",
       "3         -0.041572      36688.0  \n",
       "4         -0.038129      36685.0  \n",
       "...             ...          ...  \n",
       "192141    -0.049637       1956.0  \n",
       "192142    -0.011761       1956.0  \n",
       "192143     0.021100       1956.0  \n",
       "192144     0.016885       1956.0  \n",
       "192145    -0.027410       1956.0  \n",
       "\n",
       "[192146 rows x 6 columns]"
      ],
      "text/html": "<div>\n<style scoped>\n    .dataframe tbody tr th:only-of-type {\n        vertical-align: middle;\n    }\n\n    .dataframe tbody tr th {\n        vertical-align: top;\n    }\n\n    .dataframe thead th {\n        text-align: right;\n    }\n</style>\n<table border=\"1\" class=\"dataframe\">\n  <thead>\n    <tr style=\"text-align: right;\">\n      <th></th>\n      <th>dimension</th>\n      <th>category</th>\n      <th>variable</th>\n      <th>p_value</th>\n      <th>correlation</th>\n      <th>sample_size</th>\n    </tr>\n  </thead>\n  <tbody>\n    <tr>\n      <th>0</th>\n      <td>Abdomen</td>\n      <td>Alcohol</td>\n      <td>Alcohol intake frequency.</td>\n      <td>8.471062e-15</td>\n      <td>0.040497</td>\n      <td>36693.0</td>\n    </tr>\n    <tr>\n      <th>1</th>\n      <td>Abdomen</td>\n      <td>Alcohol</td>\n      <td>Average weekly red wine intake</td>\n      <td>1.261667e-16</td>\n      <td>-0.043196</td>\n      <td>36686.0</td>\n    </tr>\n    <tr>\n      <th>2</th>\n      <td>Abdomen</td>\n      <td>Alcohol</td>\n      <td>Average weekly champagne plus white wine intake</td>\n      <td>2.510791e-16</td>\n      <td>-0.042765</td>\n      <td>36688.0</td>\n    </tr>\n    <tr>\n      <th>3</th>\n      <td>Abdomen</td>\n      <td>Alcohol</td>\n      <td>Average weekly beer plus cider intake</td>\n      <td>1.640160e-15</td>\n      <td>-0.041572</td>\n      <td>36688.0</td>\n    </tr>\n    <tr>\n      <th>4</th>\n      <td>Abdomen</td>\n      <td>Alcohol</td>\n      <td>Average weekly spirits intake</td>\n      <td>2.763600e-13</td>\n      <td>-0.038129</td>\n      <td>36685.0</td>\n    </tr>\n    <tr>\n      <th>...</th>\n      <td>...</td>\n      <td>...</td>\n      <td>...</td>\n      <td>...</td>\n      <td>...</td>\n      <td>...</td>\n    </tr>\n    <tr>\n      <th>192141</th>\n      <td>set_instances23</td>\n      <td>medical_diagnoses_Z</td>\n      <td>Z95 Presence of cardiac and vascular implants ...</td>\n      <td>2.814760e-02</td>\n      <td>-0.049637</td>\n      <td>1956.0</td>\n    </tr>\n    <tr>\n      <th>192142</th>\n      <td>set_instances23</td>\n      <td>medical_diagnoses_Z</td>\n      <td>Z96 Presence of other functional implants</td>\n      <td>6.031841e-01</td>\n      <td>-0.011761</td>\n      <td>1956.0</td>\n    </tr>\n    <tr>\n      <th>192143</th>\n      <td>set_instances23</td>\n      <td>medical_diagnoses_Z</td>\n      <td>Z97 Presence of other devices</td>\n      <td>3.509818e-01</td>\n      <td>0.021100</td>\n      <td>1956.0</td>\n    </tr>\n    <tr>\n      <th>192144</th>\n      <td>set_instances23</td>\n      <td>medical_diagnoses_Z</td>\n      <td>Z98 Other postsurgical states</td>\n      <td>4.554518e-01</td>\n      <td>0.016885</td>\n      <td>1956.0</td>\n    </tr>\n    <tr>\n      <th>192145</th>\n      <td>set_instances23</td>\n      <td>medical_diagnoses_Z</td>\n      <td>Z99 Dependence on enabling machines and device...</td>\n      <td>2.256190e-01</td>\n      <td>-0.027410</td>\n      <td>1956.0</td>\n    </tr>\n  </tbody>\n</table>\n<p>192146 rows × 6 columns</p>\n</div>"
     },
     "metadata": {},
     "execution_count": 5
    }
   ],
   "source": [
    "pd.read_feather(\"../../data/xwas/univariate_results/linear_correlations.feather\")"
   ]
  }
 ]
}