{
 "cells": [
  {
   "cell_type": "code",
   "execution_count": 25,
   "metadata": {},
   "outputs": [],
   "source": [
    "from dash_website.utils.aws_loader import load_csv, upload_file\n",
    "import numpy as np\n",
    "\n",
    "\n",
    "SAMPLE_DEFINITION_NAMING = {\n",
    "    \"instances\": \"all_samples_per_participant\",\n",
    "    \"eids\": \"average_per_participant\",\n",
    "}\n",
    "COLUMNS_TO_TAKE = {\n",
    "    \"organ\": \"dimension\",\n",
    "    \"view\": \"subdimension\",\n",
    "    \"transformation\": \"sub_subdimension\",\n",
    "    \"architecture\": \"algorithm\",\n",
    "    \"N_all\": \"sample_size\",\n",
    "    \"R-Squared_str_all\": \"r2_and_std\",\n",
    "    \"C-Index_str_all\": \"c_index_and_std\",\n",
    "    \"RMSE_str_all\": \"rmse_and_std\",\n",
    "    \"C-Index-difference_str_all\": \"c_index_difference_and_std\"\n",
    "}\n",
    "DICT_TO_CHANGE_DIMENSIONS = {\"ImmuneSystem\": \"BloodCells\"}\n",
    "\n",
    "\n",
    "if __name__ == \"__main__\":\n",
    "    for sample_definition in [\"instances\", \"eids\"]:\n",
    "        scores = load_csv(\n",
    "            f\"page2_predictions/Performances/PERFORMANCES_withEnsembles_withCI_alphabetical_{sample_definition}_Age_test.csv\"\n",
    "        )[COLUMNS_TO_TAKE].rename(columns=COLUMNS_TO_TAKE)\n",
    "\n",
    "        for metric in [\"r2\", \"rmse\", \"c_index\", \"c_index_difference\"]:\n",
    "            scores[metric] = scores[f\"{metric}_and_std\"].str.split(\"+\", expand=True)[0].astype(np.float32)\n",
    "            scores[f\"{metric}_std\"] = scores[f\"{metric}_and_std\"].str.split(\"+\", expand=True)[1].str.split(\"-\", expand=True)[1].astype(np.float32)\n",
    "        \n",
    "            scores.drop(columns=f\"{metric}_and_std\", inplace=True)\n",
    "\n",
    "        scores.loc[\n",
    "            (scores[\"dimension\"] == \"Musculoskeletal\") & (scores[\"sub_subdimension\"] == \"MRI\"), \"sub_subdimension\"\n",
    "        ] = \"DXA\"\n",
    "        scores.replace(DICT_TO_CHANGE_DIMENSIONS)# .to_feather(\n",
    "        #     f\"all_data/age_prediction_performances/scores_{SAMPLE_DEFINITION_NAMING[sample_definition]}.feather\"\n",
    "        # )\n",
    "        # upload_file(f\"all_data/age_prediction_performances/scores_{SAMPLE_DEFINITION_NAMING[sample_definition]}.feather\", f\"age_prediction_performances/scores_{SAMPLE_DEFINITION_NAMING[sample_definition]}.feather\")"
   ]
  },
  {
   "cell_type": "code",
   "execution_count": 23,
   "metadata": {},
   "outputs": [],
   "source": [
    "from dash_website.age_prediction_performances import CUSTOM_DIMENSIONS\n",
    "scores.set_index(\n",
    "        [\"dimension\", \"subdimension\", \"sub_subdimension\"], drop=False\n",
    "    , inplace=True)\n",
    "scores.drop(index=scores.index[~scores.index.isin(CUSTOM_DIMENSIONS)], inplace=True)\n",
    "scores.replace(\"1DCNN\", \"*\", inplace=True)  # since it is the only one that is different\n",
    "scores.drop(index=scores.index[scores[\"algorithm\"] != \"*\"], inplace=True)\n"
   ]
  },
  {
   "cell_type": "code",
   "execution_count": 27,
   "metadata": {},
   "outputs": [],
   "source": [
    "scores.set_index(\n",
    "        [\"dimension\", \"subdimension\", \"sub_subdimension\"], drop=False\n",
    "    , inplace=True)"
   ]
  },
  {
   "cell_type": "code",
   "execution_count": 29,
   "metadata": {},
   "outputs": [
    {
     "data": {
      "text/html": "<div>\n<style scoped>\n    .dataframe tbody tr th:only-of-type {\n        vertical-align: middle;\n    }\n\n    .dataframe tbody tr th {\n        vertical-align: top;\n    }\n\n    .dataframe thead th {\n        text-align: right;\n    }\n</style>\n<table border=\"1\" class=\"dataframe\">\n  <thead>\n    <tr style=\"text-align: right;\">\n      <th></th>\n      <th>dimension</th>\n      <th>subdimension</th>\n      <th>sub_subdimension</th>\n      <th>algorithm</th>\n      <th>sample_size</th>\n      <th>r2</th>\n      <th>r2_std</th>\n      <th>rmse</th>\n      <th>rmse_std</th>\n      <th>c_index</th>\n      <th>c_index_std</th>\n      <th>c_index_difference</th>\n      <th>c_index_difference_std</th>\n    </tr>\n    <tr>\n      <th>sub_subdimension</th>\n      <th></th>\n      <th></th>\n      <th></th>\n      <th></th>\n      <th></th>\n      <th></th>\n      <th></th>\n      <th></th>\n      <th></th>\n      <th></th>\n      <th></th>\n      <th></th>\n      <th></th>\n    </tr>\n  </thead>\n  <tbody>\n    <tr>\n      <th>*</th>\n      <td>Heart</td>\n      <td>ECG</td>\n      <td>*</td>\n      <td>*</td>\n      <td>21793</td>\n      <td>0.377</td>\n      <td>0.018</td>\n      <td>5.905</td>\n      <td>0.089</td>\n      <td>0.715</td>\n      <td>0.134</td>\n      <td>-0.002</td>\n      <td>0.040</td>\n    </tr>\n    <tr>\n      <th>Scalars</th>\n      <td>Heart</td>\n      <td>ECG</td>\n      <td>Scalars</td>\n      <td>*</td>\n      <td>21800</td>\n      <td>0.111</td>\n      <td>0.016</td>\n      <td>7.053</td>\n      <td>0.065</td>\n      <td>0.743</td>\n      <td>0.120</td>\n      <td>0.026</td>\n      <td>0.050</td>\n    </tr>\n    <tr>\n      <th>Scalars</th>\n      <td>Heart</td>\n      <td>ECG</td>\n      <td>Scalars</td>\n      <td>ElasticNet</td>\n      <td>21800</td>\n      <td>0.087</td>\n      <td>0.016</td>\n      <td>7.145</td>\n      <td>0.051</td>\n      <td>0.749</td>\n      <td>0.119</td>\n      <td>0.032</td>\n      <td>0.049</td>\n    </tr>\n    <tr>\n      <th>Scalars</th>\n      <td>Heart</td>\n      <td>ECG</td>\n      <td>Scalars</td>\n      <td>LightGBM</td>\n      <td>21800</td>\n      <td>0.108</td>\n      <td>0.020</td>\n      <td>7.065</td>\n      <td>0.080</td>\n      <td>0.740</td>\n      <td>0.121</td>\n      <td>0.023</td>\n      <td>0.059</td>\n    </tr>\n    <tr>\n      <th>Scalars</th>\n      <td>Heart</td>\n      <td>ECG</td>\n      <td>Scalars</td>\n      <td>NeuralNetwork</td>\n      <td>21800</td>\n      <td>0.094</td>\n      <td>0.014</td>\n      <td>7.118</td>\n      <td>0.052</td>\n      <td>0.752</td>\n      <td>0.122</td>\n      <td>0.035</td>\n      <td>0.051</td>\n    </tr>\n    <tr>\n      <th>TimeSeries</th>\n      <td>Heart</td>\n      <td>ECG</td>\n      <td>TimeSeries</td>\n      <td>*</td>\n      <td>42357</td>\n      <td>0.355</td>\n      <td>0.015</td>\n      <td>6.085</td>\n      <td>0.067</td>\n      <td>0.717</td>\n      <td>0.083</td>\n      <td>0.021</td>\n      <td>0.045</td>\n    </tr>\n    <tr>\n      <th>TimeSeries</th>\n      <td>Heart</td>\n      <td>ECG</td>\n      <td>TimeSeries</td>\n      <td>1DCNN</td>\n      <td>42357</td>\n      <td>0.355</td>\n      <td>0.015</td>\n      <td>6.085</td>\n      <td>0.067</td>\n      <td>0.717</td>\n      <td>0.083</td>\n      <td>0.021</td>\n      <td>0.045</td>\n    </tr>\n  </tbody>\n</table>\n</div>",
      "text/plain": "                 dimension subdimension sub_subdimension      algorithm  \\\nsub_subdimension                                                          \n*                    Heart          ECG                *              *   \nScalars              Heart          ECG          Scalars              *   \nScalars              Heart          ECG          Scalars     ElasticNet   \nScalars              Heart          ECG          Scalars       LightGBM   \nScalars              Heart          ECG          Scalars  NeuralNetwork   \nTimeSeries           Heart          ECG       TimeSeries              *   \nTimeSeries           Heart          ECG       TimeSeries          1DCNN   \n\n                  sample_size     r2  r2_std   rmse  rmse_std  c_index  \\\nsub_subdimension                                                         \n*                       21793  0.377   0.018  5.905     0.089    0.715   \nScalars                 21800  0.111   0.016  7.053     0.065    0.743   \nScalars                 21800  0.087   0.016  7.145     0.051    0.749   \nScalars                 21800  0.108   0.020  7.065     0.080    0.740   \nScalars                 21800  0.094   0.014  7.118     0.052    0.752   \nTimeSeries              42357  0.355   0.015  6.085     0.067    0.717   \nTimeSeries              42357  0.355   0.015  6.085     0.067    0.717   \n\n                  c_index_std  c_index_difference  c_index_difference_std  \nsub_subdimension                                                           \n*                       0.134              -0.002                   0.040  \nScalars                 0.120               0.026                   0.050  \nScalars                 0.119               0.032                   0.049  \nScalars                 0.121               0.023                   0.059  \nScalars                 0.122               0.035                   0.051  \nTimeSeries              0.083               0.021                   0.045  \nTimeSeries              0.083               0.021                   0.045  "
     },
     "execution_count": 29,
     "metadata": {},
     "output_type": "execute_result"
    }
   ],
   "source": [
    "scores.loc[(\"Heart\", \"ECG\")]"
   ]
  }
 ],
 "metadata": {
  "kernelspec": {
   "display_name": "Python 3.9.5 64-bit ('env_container': venv)",
   "name": "pythonjvsc74a57bd0827f31c7a17f115185da69808fd256ce792d94cfeb61ab0a6e35bd7e2999d502"
  },
  "language_info": {
   "codemirror_mode": {
    "name": "ipython",
    "version": 3
   },
   "file_extension": ".py",
   "mimetype": "text/x-python",
   "name": "python",
   "nbconvert_exporter": "python",
   "pygments_lexer": "ipython3",
   "version": "3.9.5"
  },
  "metadata": {
   "interpreter": {
    "hash": "827f31c7a17f115185da69808fd256ce792d94cfeb61ab0a6e35bd7e2999d502"
   }
  },
  "orig_nbformat": 2
 },
 "nbformat": 4,
 "nbformat_minor": 2
}