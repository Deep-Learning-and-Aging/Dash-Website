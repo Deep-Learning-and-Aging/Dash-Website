{
 "cells": [
  {
   "cell_type": "code",
   "execution_count": 1,
   "metadata": {},
   "outputs": [],
   "source": [
    "import pandas as pd\n",
    "\n",
    "DATA_TYPE_NAMING = {\n",
    "    \"instances\": \"all_samples_per_participant\",\n",
    "    \"eids\": \"average_per_participant\",\n",
    "    \"*\": \"all_samples_when_possible_otherwise_average\",\n",
    "}\n",
    "COLUMNS_TO_TAKE = {\n",
    "    \"organ\": \"dimension\",\n",
    "    \"view\": \"subdimension\",\n",
    "    \"R-Squared_all\": \"r2\",\n",
    "    \"R-Squared_sd_all\": \"r2_std\",\n",
    "}\n",
    "DICT_TO_CHANGE_DIMENSIONS = {\"ImmuneSystem\": \"BloodCells\"}\n",
    "\n",
    "\n",
    "for data_type in [\"instances\", \"eids\"]:\n",
    "    correlations_raw_ = pd.read_csv(\n",
    "        f\"page4_correlations/ResidualsCorrelations/ResidualsCorrelations_{data_type}_Age_test.csv\"\n",
    "    )\n",
    "    correlations_std_raw_ = pd.read_csv(\n",
    "        f\"page4_correlations/ResidualsCorrelations/ResidualsCorrelations_sd_{data_type}_Age_test.csv\"\n",
    "    )\n",
    "\n",
    "    correlations_raw = correlations_raw_.melt(\n",
    "        id_vars=[\"Unnamed: 0\"], value_vars=correlations_raw_.columns.drop(\"Unnamed: 0\")\n",
    "    )\n",
    "    correlations_raw.rename(\n",
    "        columns={\"Unnamed: 0\": \"dimensions_1\", \"variable\": \"dimensions_2\", \"value\": \"correlation\"}, inplace=True\n",
    "    )\n",
    "\n",
    "    correlations_std_raw = correlations_std_raw_.melt(\n",
    "        id_vars=[\"Unnamed: 0\"], value_vars=correlations_std_raw_.columns.drop(\"Unnamed: 0\")\n",
    "    )\n",
    "    correlations_std_raw.rename(\n",
    "        columns={\"Unnamed: 0\": \"dimensions_1\", \"variable\": \"dimensions_2\", \"value\": \"correlation\"}, inplace=True\n",
    "    )\n",
    "\n",
    "    correlations = pd.DataFrame(\n",
    "        None,\n",
    "        columns=[\n",
    "            \"dimension_1\",\n",
    "            \"subdimension_1\",\n",
    "            \"sub_subdimension_1\",\n",
    "            \"algorithm_1\",\n",
    "            \"r2_1\",\n",
    "            \"r2_std_1\",\n",
    "            \"dimension_2\",\n",
    "            \"subdimension_2\",\n",
    "            \"sub_subdimension_2\",\n",
    "            \"algorithm_2\",\n",
    "            \"r2_2\",\n",
    "            \"r2_std_2\",\n",
    "            \"correlation\",\n",
    "            \"correlation_std\",\n",
    "        ],\n",
    "    )\n",
    "\n",
    "    for dimension_index in [\"1\", \"2\"]:\n",
    "        split_residual = correlations_raw[f\"dimensions_{dimension_index}\"].str.split(\"_\")\n",
    "\n",
    "        correlations[f\"dimension_{dimension_index}\"] = split_residual.apply(\n",
    "            lambda list_information: list_information[0]\n",
    "        )\n",
    "        correlations[f\"subdimension_{dimension_index}\"] = split_residual.apply(\n",
    "            lambda list_information: list_information[1]\n",
    "        )\n",
    "        correlations[f\"sub_subdimension_{dimension_index}\"] = split_residual.apply(\n",
    "            lambda list_information: list_information[2]\n",
    "        )\n",
    "        correlations[f\"algorithm_{dimension_index}\"] = split_residual.apply(\n",
    "            lambda list_information: list_information[3]\n",
    "        )\n",
    "\n",
    "    correlations[\"correlation\"] = correlations_raw[\"correlation\"]\n",
    "    correlations[\"correlation_std\"] = correlations_std_raw[\"correlation\"]\n",
    "\n",
    "    scores_raw = pd.read_csv(\n",
    "        f\"page2_predictions/Performances/PERFORMANCES_withEnsembles_alphabetical_{data_type}_Age_test.csv\"\n",
    "    )[COLUMNS_TO_TAKE].rename(columns=COLUMNS_TO_TAKE)\n",
    "    scores_raw.set_index([\"dimension\", \"subdimension\", \"sub_subdimension\", \"algorithm\"], inplace=True)\n",
    "\n",
    "    correlations.set_index([\"dimension_1\", \"subdimension_1\", \"sub_subdimension_1\", \"algorithm_1\"], inplace=True)\n",
    "    correlations[[\"r2_1\", \"r2_std_1\"]] = scores_raw[[\"r2\", \"r2_std\"]]\n",
    "\n",
    "    correlations.reset_index(inplace=True)\n",
    "    correlations.set_index([\"dimension_2\", \"subdimension_2\", \"sub_subdimension_2\", \"algorithm_2\"], inplace=True)\n",
    "    correlations[[\"r2_2\", \"r2_std_2\"]] = scores_raw[[\"r2\", \"r2_std\"]]\n",
    "\n",
    "    correlations.reset_index(inplace=True)\n",
    "\n",
    "    correlations.loc[\n",
    "        (correlations[\"dimension_1\"] == \"Musculoskeletal\") & (correlations[\"sub_subdimension_1\"] == \"MRI\"),\n",
    "        \"sub_subdimension_1\",\n",
    "    ] = \"DXA\"\n",
    "    correlations.loc[\n",
    "        (correlations[\"dimension_2\"] == \"Musculoskeletal\") & (correlations[\"sub_subdimension_2\"] == \"MRI\"),\n",
    "        \"sub_subdimension_2\",\n",
    "    ] = \"DXA\"\n",
    "\n",
    "    correlations.replace({\"ImmuneSystem\": \"BloodCells\"}).to_feather(\n",
    "        f\"all_data/correlation_between_accelerated_aging_dimensions/all_dimensions_{DATA_TYPE_NAMING[data_type]}.feather\"\n",
    "    )\n"
   ]
  },
  {
   "cell_type": "code",
   "execution_count": 30,
   "metadata": {},
   "outputs": [
    {
     "data": {
      "text/html": "<div>\n<style scoped>\n    .dataframe tbody tr th:only-of-type {\n        vertical-align: middle;\n    }\n\n    .dataframe tbody tr th {\n        vertical-align: top;\n    }\n\n    .dataframe thead th {\n        text-align: right;\n    }\n</style>\n<table border=\"1\" class=\"dataframe\">\n  <thead>\n    <tr style=\"text-align: right;\">\n      <th></th>\n      <th>r2</th>\n      <th>r2_std</th>\n    </tr>\n    <tr>\n      <th>subdimension</th>\n      <th></th>\n      <th></th>\n    </tr>\n  </thead>\n  <tbody>\n    <tr>\n      <th>*</th>\n      <td>0.314345</td>\n      <td>0.001659</td>\n    </tr>\n    <tr>\n      <th>HearingTest</th>\n      <td>0.314335</td>\n      <td>0.001657</td>\n    </tr>\n    <tr>\n      <th>HearingTest</th>\n      <td>0.314416</td>\n      <td>0.001653</td>\n    </tr>\n    <tr>\n      <th>HearingTest</th>\n      <td>0.255066</td>\n      <td>0.002363</td>\n    </tr>\n    <tr>\n      <th>HearingTest</th>\n      <td>0.311409</td>\n      <td>0.001718</td>\n    </tr>\n    <tr>\n      <th>HearingTest</th>\n      <td>0.309865</td>\n      <td>0.001655</td>\n    </tr>\n  </tbody>\n</table>\n</div>",
      "text/plain": "                    r2    r2_std\nsubdimension                    \n*             0.314345  0.001659\nHearingTest   0.314335  0.001657\nHearingTest   0.314416  0.001653\nHearingTest   0.255066  0.002363\nHearingTest   0.311409  0.001718\nHearingTest   0.309865  0.001655"
     },
     "execution_count": 30,
     "metadata": {},
     "output_type": "execute_result"
    }
   ],
   "source": [
    "scores_raw = pd.read_csv(\n",
    "        f\"../../all_data/page2_predictions/Performances/PERFORMANCES_withEnsembles_alphabetical_instances_Age_test.csv\"\n",
    "    )[COLUMNS_TO_TAKE].rename(columns=COLUMNS_TO_TAKE)\n",
    "scores_raw.set_index([\"dimension\", \"subdimension\"]).loc[\"Hearing\"]"
   ]
  },
  {
   "cell_type": "code",
   "execution_count": 6,
   "metadata": {},
   "outputs": [
    {
     "data": {
      "text/html": "<div>\n<style scoped>\n    .dataframe tbody tr th:only-of-type {\n        vertical-align: middle;\n    }\n\n    .dataframe tbody tr th {\n        vertical-align: top;\n    }\n\n    .dataframe thead th {\n        text-align: right;\n    }\n</style>\n<table border=\"1\" class=\"dataframe\">\n  <thead>\n    <tr style=\"text-align: right;\">\n      <th></th>\n      <th>dimension</th>\n      <th>subdimension</th>\n      <th>r2</th>\n      <th>r2_std</th>\n    </tr>\n  </thead>\n  <tbody>\n    <tr>\n      <th>0</th>\n      <td>*</td>\n      <td>*</td>\n      <td>0.660751</td>\n      <td>0.001829</td>\n    </tr>\n    <tr>\n      <th>1</th>\n      <td>*instances01</td>\n      <td>*</td>\n      <td>0.869851</td>\n      <td>0.003602</td>\n    </tr>\n    <tr>\n      <th>2</th>\n      <td>*instances1.5x</td>\n      <td>*</td>\n      <td>0.635053</td>\n      <td>0.001931</td>\n    </tr>\n    <tr>\n      <th>3</th>\n      <td>*instances23</td>\n      <td>*</td>\n      <td>0.900849</td>\n      <td>0.003993</td>\n    </tr>\n    <tr>\n      <th>4</th>\n      <td>Abdomen</td>\n      <td>*</td>\n      <td>0.763341</td>\n      <td>0.002007</td>\n    </tr>\n    <tr>\n      <th>5</th>\n      <td>Abdomen</td>\n      <td>Liver</td>\n      <td>0.714937</td>\n      <td>0.002142</td>\n    </tr>\n    <tr>\n      <th>6</th>\n      <td>Abdomen</td>\n      <td>Pancreas</td>\n      <td>0.702804</td>\n      <td>0.002529</td>\n    </tr>\n    <tr>\n      <th>7</th>\n      <td>Arterial</td>\n      <td>*</td>\n      <td>0.671142</td>\n      <td>0.006004</td>\n    </tr>\n    <tr>\n      <th>8</th>\n      <td>Arterial</td>\n      <td>Carotids</td>\n      <td>0.648211</td>\n      <td>0.005648</td>\n    </tr>\n    <tr>\n      <th>9</th>\n      <td>Arterial</td>\n      <td>PulseWaveAnalysis</td>\n      <td>0.412802</td>\n      <td>0.001641</td>\n    </tr>\n    <tr>\n      <th>10</th>\n      <td>Biochemistry</td>\n      <td>*</td>\n      <td>0.507093</td>\n      <td>0.002615</td>\n    </tr>\n    <tr>\n      <th>11</th>\n      <td>Biochemistry</td>\n      <td>Blood</td>\n      <td>0.485563</td>\n      <td>0.001488</td>\n    </tr>\n    <tr>\n      <th>12</th>\n      <td>Biochemistry</td>\n      <td>Urine</td>\n      <td>0.104010</td>\n      <td>0.001485</td>\n    </tr>\n    <tr>\n      <th>13</th>\n      <td>Brain</td>\n      <td>*</td>\n      <td>0.763918</td>\n      <td>0.002534</td>\n    </tr>\n    <tr>\n      <th>14</th>\n      <td>Brain</td>\n      <td>Cognitive</td>\n      <td>0.379313</td>\n      <td>0.003964</td>\n    </tr>\n    <tr>\n      <th>15</th>\n      <td>Brain</td>\n      <td>MRI</td>\n      <td>0.753348</td>\n      <td>0.002210</td>\n    </tr>\n    <tr>\n      <th>16</th>\n      <td>Eyes</td>\n      <td>*</td>\n      <td>0.835619</td>\n      <td>0.001290</td>\n    </tr>\n    <tr>\n      <th>17</th>\n      <td>Eyes</td>\n      <td>All</td>\n      <td>0.359178</td>\n      <td>0.002453</td>\n    </tr>\n    <tr>\n      <th>18</th>\n      <td>Eyes</td>\n      <td>Fundus</td>\n      <td>0.766458</td>\n      <td>0.001525</td>\n    </tr>\n    <tr>\n      <th>19</th>\n      <td>Eyes</td>\n      <td>OCT</td>\n      <td>0.708086</td>\n      <td>0.001670</td>\n    </tr>\n    <tr>\n      <th>20</th>\n      <td>Hearing</td>\n      <td>HearingTest</td>\n      <td>0.314416</td>\n      <td>0.001653</td>\n    </tr>\n    <tr>\n      <th>21</th>\n      <td>Heart</td>\n      <td>*</td>\n      <td>0.856385</td>\n      <td>0.001892</td>\n    </tr>\n    <tr>\n      <th>22</th>\n      <td>Heart</td>\n      <td>ECG</td>\n      <td>0.375990</td>\n      <td>0.003780</td>\n    </tr>\n    <tr>\n      <th>23</th>\n      <td>Heart</td>\n      <td>MRI</td>\n      <td>0.853191</td>\n      <td>0.001420</td>\n    </tr>\n    <tr>\n      <th>24</th>\n      <td>ImmuneSystem</td>\n      <td>*</td>\n      <td>0.124663</td>\n      <td>0.000862</td>\n    </tr>\n    <tr>\n      <th>25</th>\n      <td>Lungs</td>\n      <td>Spirometry</td>\n      <td>0.256392</td>\n      <td>0.001133</td>\n    </tr>\n    <tr>\n      <th>26</th>\n      <td>Musculoskeletal</td>\n      <td>*</td>\n      <td>0.876383</td>\n      <td>0.001295</td>\n    </tr>\n    <tr>\n      <th>27</th>\n      <td>Musculoskeletal</td>\n      <td>FullBody</td>\n      <td>0.857106</td>\n      <td>0.001225</td>\n    </tr>\n    <tr>\n      <th>28</th>\n      <td>Musculoskeletal</td>\n      <td>Hips</td>\n      <td>0.690419</td>\n      <td>0.002571</td>\n    </tr>\n    <tr>\n      <th>29</th>\n      <td>Musculoskeletal</td>\n      <td>Knees</td>\n      <td>0.690152</td>\n      <td>0.002681</td>\n    </tr>\n    <tr>\n      <th>30</th>\n      <td>Musculoskeletal</td>\n      <td>Scalars</td>\n      <td>0.259435</td>\n      <td>0.001057</td>\n    </tr>\n    <tr>\n      <th>31</th>\n      <td>Musculoskeletal</td>\n      <td>Spine</td>\n      <td>0.746145</td>\n      <td>0.002024</td>\n    </tr>\n    <tr>\n      <th>32</th>\n      <td>PhysicalActivity</td>\n      <td>*</td>\n      <td>0.635326</td>\n      <td>0.001947</td>\n    </tr>\n  </tbody>\n</table>\n</div>",
      "text/plain": "           dimension       subdimension        r2    r2_std\n0                  *                  *  0.660751  0.001829\n1       *instances01                  *  0.869851  0.003602\n2     *instances1.5x                  *  0.635053  0.001931\n3       *instances23                  *  0.900849  0.003993\n4            Abdomen                  *  0.763341  0.002007\n5            Abdomen              Liver  0.714937  0.002142\n6            Abdomen           Pancreas  0.702804  0.002529\n7           Arterial                  *  0.671142  0.006004\n8           Arterial           Carotids  0.648211  0.005648\n9           Arterial  PulseWaveAnalysis  0.412802  0.001641\n10      Biochemistry                  *  0.507093  0.002615\n11      Biochemistry              Blood  0.485563  0.001488\n12      Biochemistry              Urine  0.104010  0.001485\n13             Brain                  *  0.763918  0.002534\n14             Brain          Cognitive  0.379313  0.003964\n15             Brain                MRI  0.753348  0.002210\n16              Eyes                  *  0.835619  0.001290\n17              Eyes                All  0.359178  0.002453\n18              Eyes             Fundus  0.766458  0.001525\n19              Eyes                OCT  0.708086  0.001670\n20           Hearing        HearingTest  0.314416  0.001653\n21             Heart                  *  0.856385  0.001892\n22             Heart                ECG  0.375990  0.003780\n23             Heart                MRI  0.853191  0.001420\n24      ImmuneSystem                  *  0.124663  0.000862\n25             Lungs         Spirometry  0.256392  0.001133\n26   Musculoskeletal                  *  0.876383  0.001295\n27   Musculoskeletal           FullBody  0.857106  0.001225\n28   Musculoskeletal               Hips  0.690419  0.002571\n29   Musculoskeletal              Knees  0.690152  0.002681\n30   Musculoskeletal            Scalars  0.259435  0.001057\n31   Musculoskeletal              Spine  0.746145  0.002024\n32  PhysicalActivity                  *  0.635326  0.001947"
     },
     "execution_count": 6,
     "metadata": {},
     "output_type": "execute_result"
    }
   ],
   "source": [
    "import pandas as pd \n",
    "\n",
    "COLUMNS_TO_TAKE = {\n",
    "    \"organ\": \"dimension\",\n",
    "    \"view\": \"subdimension\",\n",
    "    \"R-Squared_all\": \"r2\",\n",
    "    \"R-Squared_sd_all\": \"r2_std\",\n",
    "}\n",
    "\n",
    "\n",
    "scores_raw = pd.read_csv(\n",
    "        f\"../../all_data/page2_predictions/Performances/PERFORMANCES_bestmodels_alphabetical_instances_Age_test.csv\"\n",
    "    )[COLUMNS_TO_TAKE].rename(columns=COLUMNS_TO_TAKE)\n",
    "# .set_index([\"dimension\", \"subdimension\"], inplace=True)\n",
    "scores_raw"
   ]
  },
  {
   "cell_type": "code",
   "execution_count": 9,
   "metadata": {},
   "outputs": [],
   "source": [
    "squeeze_dimensions = scores_raw[\"dimension\"] + scores_raw[\"subdimension\"].replace(\"*\", \"\")"
   ]
  },
  {
   "cell_type": "code",
   "execution_count": 32,
   "metadata": {},
   "outputs": [
    {
     "data": {
      "text/plain": "20    Hearing\n25      Lungs\nName: dimensions_1, dtype: object"
     },
     "execution_count": 32,
     "metadata": {},
     "output_type": "execute_result"
    }
   ],
   "source": [
    "correlations_raw[\"dimensions_1\"][~correlations_raw[\"dimensions_1\"].isin(squeeze_dimensions)].drop_duplicates()"
   ]
  },
  {
   "cell_type": "code",
   "execution_count": 17,
   "metadata": {},
   "outputs": [
    {
     "data": {
      "text/html": "<div>\n<style scoped>\n    .dataframe tbody tr th:only-of-type {\n        vertical-align: middle;\n    }\n\n    .dataframe tbody tr th {\n        vertical-align: top;\n    }\n\n    .dataframe thead th {\n        text-align: right;\n    }\n</style>\n<table border=\"1\" class=\"dataframe\">\n  <thead>\n    <tr style=\"text-align: right;\">\n      <th></th>\n      <th>dimensions_2</th>\n      <th>correlation</th>\n    </tr>\n    <tr>\n      <th>dimensions_1</th>\n      <th></th>\n      <th></th>\n    </tr>\n  </thead>\n  <tbody>\n    <tr>\n      <th>*</th>\n      <td>*</td>\n      <td>1.000000</td>\n    </tr>\n    <tr>\n      <th>*instances01</th>\n      <td>*</td>\n      <td>0.838413</td>\n    </tr>\n    <tr>\n      <th>*instances1.5x</th>\n      <td>*</td>\n      <td>0.998501</td>\n    </tr>\n    <tr>\n      <th>*instances23</th>\n      <td>*</td>\n      <td>0.774242</td>\n    </tr>\n    <tr>\n      <th>Abdomen</th>\n      <td>*</td>\n      <td>0.375136</td>\n    </tr>\n    <tr>\n      <th>...</th>\n      <td>...</td>\n      <td>...</td>\n    </tr>\n    <tr>\n      <th>MusculoskeletalHips</th>\n      <td>PhysicalActivity</td>\n      <td>NaN</td>\n    </tr>\n    <tr>\n      <th>MusculoskeletalKnees</th>\n      <td>PhysicalActivity</td>\n      <td>NaN</td>\n    </tr>\n    <tr>\n      <th>MusculoskeletalFullBody</th>\n      <td>PhysicalActivity</td>\n      <td>NaN</td>\n    </tr>\n    <tr>\n      <th>MusculoskeletalScalars</th>\n      <td>PhysicalActivity</td>\n      <td>NaN</td>\n    </tr>\n    <tr>\n      <th>PhysicalActivity</th>\n      <td>PhysicalActivity</td>\n      <td>1.000000</td>\n    </tr>\n  </tbody>\n</table>\n<p>1089 rows × 2 columns</p>\n</div>",
      "text/plain": "                             dimensions_2  correlation\ndimensions_1                                          \n*                                       *     1.000000\n*instances01                            *     0.838413\n*instances1.5x                          *     0.998501\n*instances23                            *     0.774242\nAbdomen                                 *     0.375136\n...                                   ...          ...\nMusculoskeletalHips      PhysicalActivity          NaN\nMusculoskeletalKnees     PhysicalActivity          NaN\nMusculoskeletalFullBody  PhysicalActivity          NaN\nMusculoskeletalScalars   PhysicalActivity          NaN\nPhysicalActivity         PhysicalActivity     1.000000\n\n[1089 rows x 2 columns]"
     },
     "execution_count": 17,
     "metadata": {},
     "output_type": "execute_result"
    }
   ],
   "source": [
    "correlations_raw_ = pd.read_csv(\"../../all_data/page4_correlations/ResidualsCorrelations/ResidualsCorrelations_bestmodels_instances_Age_test.csv\")\n",
    "correlations_raw = correlations_raw_.melt(id_vars=[\"Unnamed: 0\"], value_vars=correlations_raw_.columns.drop(\"Unnamed: 0\"))\n",
    "correlations_raw.rename(columns={\"Unnamed: 0\": \"dimensions_1\", \"variable\": \"dimensions_2\", \"value\": \"correlation\"}, inplace=True)\n",
    "correlations_raw.set_index(\"dimensions_1\")"
   ]
  },
  {
   "cell_type": "code",
   "execution_count": 33,
   "metadata": {},
   "outputs": [
    {
     "data": {
      "text/html": "<div>\n<style scoped>\n    .dataframe tbody tr th:only-of-type {\n        vertical-align: middle;\n    }\n\n    .dataframe tbody tr th {\n        vertical-align: top;\n    }\n\n    .dataframe thead th {\n        text-align: right;\n    }\n</style>\n<table border=\"1\" class=\"dataframe\">\n  <thead>\n    <tr style=\"text-align: right;\">\n      <th></th>\n      <th>dimension</th>\n      <th>subdimension</th>\n    </tr>\n  </thead>\n  <tbody>\n    <tr>\n      <th>0</th>\n      <td>*</td>\n      <td>*</td>\n    </tr>\n    <tr>\n      <th>1</th>\n      <td>*instances01</td>\n      <td>*</td>\n    </tr>\n    <tr>\n      <th>2</th>\n      <td>*instances1.5x</td>\n      <td>*</td>\n    </tr>\n    <tr>\n      <th>3</th>\n      <td>*instances23</td>\n      <td>*</td>\n    </tr>\n    <tr>\n      <th>4</th>\n      <td>Abdomen</td>\n      <td>*</td>\n    </tr>\n    <tr>\n      <th>5</th>\n      <td>Abdomen</td>\n      <td>Liver</td>\n    </tr>\n    <tr>\n      <th>6</th>\n      <td>Abdomen</td>\n      <td>Pancreas</td>\n    </tr>\n    <tr>\n      <th>7</th>\n      <td>Arterial</td>\n      <td>*</td>\n    </tr>\n    <tr>\n      <th>8</th>\n      <td>Arterial</td>\n      <td>PulseWaveAnalysis</td>\n    </tr>\n    <tr>\n      <th>9</th>\n      <td>Arterial</td>\n      <td>Carotids</td>\n    </tr>\n    <tr>\n      <th>10</th>\n      <td>Biochemistry</td>\n      <td>*</td>\n    </tr>\n    <tr>\n      <th>11</th>\n      <td>Biochemistry</td>\n      <td>Urine</td>\n    </tr>\n    <tr>\n      <th>12</th>\n      <td>Biochemistry</td>\n      <td>Blood</td>\n    </tr>\n    <tr>\n      <th>13</th>\n      <td>Brain</td>\n      <td>*</td>\n    </tr>\n    <tr>\n      <th>14</th>\n      <td>Brain</td>\n      <td>Cognitive</td>\n    </tr>\n    <tr>\n      <th>15</th>\n      <td>Brain</td>\n      <td>MRI</td>\n    </tr>\n    <tr>\n      <th>16</th>\n      <td>Eyes</td>\n      <td>*</td>\n    </tr>\n    <tr>\n      <th>17</th>\n      <td>Eyes</td>\n      <td>All</td>\n    </tr>\n    <tr>\n      <th>18</th>\n      <td>Eyes</td>\n      <td>Fundus</td>\n    </tr>\n    <tr>\n      <th>19</th>\n      <td>Eyes</td>\n      <td>OCT</td>\n    </tr>\n    <tr>\n      <th>20</th>\n      <td>Hearing</td>\n      <td>*</td>\n    </tr>\n    <tr>\n      <th>21</th>\n      <td>Heart</td>\n      <td>*</td>\n    </tr>\n    <tr>\n      <th>22</th>\n      <td>Heart</td>\n      <td>ECG</td>\n    </tr>\n    <tr>\n      <th>23</th>\n      <td>Heart</td>\n      <td>MRI</td>\n    </tr>\n    <tr>\n      <th>24</th>\n      <td>ImmuneSystem</td>\n      <td>*</td>\n    </tr>\n    <tr>\n      <th>25</th>\n      <td>Lungs</td>\n      <td>*</td>\n    </tr>\n    <tr>\n      <th>26</th>\n      <td>Musculoskeletal</td>\n      <td>*</td>\n    </tr>\n    <tr>\n      <th>27</th>\n      <td>Musculoskeletal</td>\n      <td>Spine</td>\n    </tr>\n    <tr>\n      <th>28</th>\n      <td>Musculoskeletal</td>\n      <td>Hips</td>\n    </tr>\n    <tr>\n      <th>29</th>\n      <td>Musculoskeletal</td>\n      <td>Knees</td>\n    </tr>\n    <tr>\n      <th>30</th>\n      <td>Musculoskeletal</td>\n      <td>FullBody</td>\n    </tr>\n    <tr>\n      <th>31</th>\n      <td>Musculoskeletal</td>\n      <td>Scalars</td>\n    </tr>\n    <tr>\n      <th>32</th>\n      <td>PhysicalActivity</td>\n      <td>*</td>\n    </tr>\n  </tbody>\n</table>\n</div>",
      "text/plain": "           dimension       subdimension\n0                  *                  *\n1       *instances01                  *\n2     *instances1.5x                  *\n3       *instances23                  *\n4            Abdomen                  *\n5            Abdomen              Liver\n6            Abdomen           Pancreas\n7           Arterial                  *\n8           Arterial  PulseWaveAnalysis\n9           Arterial           Carotids\n10      Biochemistry                  *\n11      Biochemistry              Urine\n12      Biochemistry              Blood\n13             Brain                  *\n14             Brain          Cognitive\n15             Brain                MRI\n16              Eyes                  *\n17              Eyes                All\n18              Eyes             Fundus\n19              Eyes                OCT\n20           Hearing                  *\n21             Heart                  *\n22             Heart                ECG\n23             Heart                MRI\n24      ImmuneSystem                  *\n25             Lungs                  *\n26   Musculoskeletal                  *\n27   Musculoskeletal              Spine\n28   Musculoskeletal               Hips\n29   Musculoskeletal              Knees\n30   Musculoskeletal           FullBody\n31   Musculoskeletal            Scalars\n32  PhysicalActivity                  *"
     },
     "execution_count": 33,
     "metadata": {},
     "output_type": "execute_result"
    }
   ],
   "source": [
    "correlations_raw[\"dimensions_1\"].drop_duplicates().to_list()\n",
    "\n",
    "CUSTOM_SUBDIMENSION = {'Abdomen':['*', 'Liver','Pancreas'], 'Arterial': ['*', 'PulseWaveAnalysis', 'Carotids'], 'Biochemistry' : ['*', 'Urine', 'Blood'], 'Brain': ['*', 'Cognitive','MRI'], 'Eyes':['*', 'All','Fundus','OCT'], 'Heart':['*', 'ECG','MRI'], 'Musculoskeletal':['*', 'Spine','Hips','Knees','FullBody','Scalars']}\n",
    "CUSTOM_DIMENSION = ['*','*instances01','*instances1.5x','*instances23','Abdomen','Arterial','Biochemistry','Brain','Eyes','Hearing','Heart','ImmuneSystem','Lungs','Musculoskeletal','PhysicalActivity']\n",
    "\n",
    "data_custom_dimensions = []\n",
    "for dimension in CUSTOM_DIMENSION:\n",
    "    for subdimension in CUSTOM_SUBDIMENSION.get(dimension, [\"*\"]):\n",
    "        data_custom_dimensions.append([dimension, subdimension])\n",
    "\n",
    "pd.DataFrame(data_custom_dimensions, columns=[\"dimension\", \"subdimension\"])"
   ]
  }
 ],
 "metadata": {
  "kernelspec": {
   "display_name": "Python 3.8.5  ('env_website': venv)",
   "name": "pythonjvsc74a57bd090a2d2112265369b3cee75b3d17fea5658357118066bfd7e04cfa35ff7dbfd52"
  },
  "language_info": {
   "codemirror_mode": {
    "name": "ipython",
    "version": 3
   },
   "file_extension": ".py",
   "mimetype": "text/x-python",
   "name": "python",
   "nbconvert_exporter": "python",
   "pygments_lexer": "ipython3",
   "version": "3.8.5"
  },
  "metadata": {
   "interpreter": {
    "hash": "90a2d2112265369b3cee75b3d17fea5658357118066bfd7e04cfa35ff7dbfd52"
   }
  },
  "orig_nbformat": 2
 },
 "nbformat": 4,
 "nbformat_minor": 2
}