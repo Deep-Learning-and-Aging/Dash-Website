{
 "metadata": {
  "language_info": {
   "codemirror_mode": {
    "name": "ipython",
    "version": 3
   },
   "file_extension": ".py",
   "mimetype": "text/x-python",
   "name": "python",
   "nbconvert_exporter": "python",
   "pygments_lexer": "ipython3",
   "version": "3.7.7-final"
  },
  "orig_nbformat": 2,
  "kernelspec": {
   "name": "python377jvsc74a57bd0c11bf2a122358a257f4887e4656fd266c9212bc31c6d2fa50cb5fb4a0c5b9dd8",
   "display_name": "Python 3.7.7 64-bit ('env_website')"
  }
 },
 "nbformat": 4,
 "nbformat_minor": 2,
 "cells": [
  {
   "cell_type": "code",
   "execution_count": 2,
   "metadata": {},
   "outputs": [],
   "source": [
    "import pandas as pd \n",
    "\n",
    "information = pd.read_feather(\"../../data/datasets/videos/information.feather\")"
   ]
  },
  {
   "cell_type": "code",
   "execution_count": 3,
   "metadata": {},
   "outputs": [
    {
     "output_type": "execute_result",
     "data": {
      "text/plain": [
       "[51, 'Mixed']"
      ]
     },
     "metadata": {},
     "execution_count": 3
    }
   ],
   "source": [
    "chamber_type, sex, age_group, sample = 3, \"male\", \"young\", 0\n",
    "\n",
    "information.set_index([\"chamber\", \"sex\", \"age_group\", \"sample\"]).loc[(chamber_type, sex, age_group, sample), [\"chronological_age\", \"ethnicity\"]].tolist()"
   ]
  }
 ]
}