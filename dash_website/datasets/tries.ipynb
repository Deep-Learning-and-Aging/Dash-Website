{
 "cells": [
  {
   "cell_type": "code",
   "execution_count": 1,
   "metadata": {},
   "outputs": [],
   "source": [
    "DIMENSIONS_TO_NAME = {('Brain', 'MRI', 'GreyMatterVolumes'): 'BrainGreyMatterVolumes',\n",
    " ('Brain', 'MRI', 'SubcorticalVolumes'): 'BrainSubcorticalVolumes',\n",
    " ('Brain', 'MRI', 'dMRIWeightedMeans'): 'BraindMRIWeightedMeans',\n",
    " ('Brain', 'MRI', 'AllScalars'): 'BrainMRIAllBiomarkers',\n",
    " ('Brain', 'Cognitive', 'ReactionTime'): 'CognitiveReactionTime',\n",
    " ('Brain',\n",
    "  'Cognitive',\n",
    "  'MatrixPatternCompletion'): 'CognitiveMatrixPatternCompletion',\n",
    " ('Brain', 'Cognitive', 'TowerRearranging'): 'CognitiveTowerRearranging',\n",
    " ('Brain',\n",
    "  'Cognitive',\n",
    "  'SymbolDigitSubstitution'): 'CognitiveSymbolDigitSubstitution',\n",
    " ('Brain',\n",
    "  'Cognitive',\n",
    "  'PairedAssociativeLearning'): 'CognitivePairedAssociativeLearning',\n",
    " ('Brain', 'Cognitive', 'ProspectiveMemory'): 'CognitiveProspectiveMemory',\n",
    " ('Brain', 'Cognitive', 'NumericMemory'): 'CognitiveNumericMemory',\n",
    " ('Brain', 'Cognitive', 'FluidIntelligence'): 'CognitiveFluidIntelligence',\n",
    " ('Brain', 'Cognitive', 'TrailMaking'): 'CognitiveTrailMaking',\n",
    " ('Brain', 'Cognitive', 'PairsMatching'): 'CognitivePairsMatching',\n",
    " ('Brain', 'Cognitive', 'AllScalars'): 'CognitiveAllBiomarkers',\n",
    " ('Brain', 'All', 'Scalars'): 'BrainAndCognitive',\n",
    " ('Eyes', 'Autorefraction', 'Scalars'): 'EyeAutorefraction',\n",
    " ('Eyes', 'Acuity', 'Scalars'): 'EyeAcuity',\n",
    " ('Eyes', 'IntraocularPressure', 'Scalars'): 'EyeIntraocularPressure',\n",
    " ('Eyes', 'All', 'Scalars'): 'EyesAllBiomarkers',\n",
    " ('Hearing', 'HearingTest', 'Scalars'): 'HearingTest',\n",
    " ('Lungs', 'Spirometry', 'Scalars'): 'Spirometry',\n",
    " ('Arterial', 'BloodPressure', 'Scalars'): 'BloodPressure',\n",
    " ('Arterial', 'Carotids', 'Scalars'): 'CarotidUltrasound',\n",
    " ('Arterial', 'PWA', 'Scalars'): 'ArterialStiffness',\n",
    " ('Arterial', 'All', 'Scalars'): 'VascularAllBiomarkers',\n",
    " ('Heart', 'All', 'Scalars'): 'HeartAllBiomarkers',\n",
    " ('Heart', 'MRI', 'Size'): 'HeartSize',\n",
    " ('Heart', 'MRI', 'PWA'): 'HeartPWA',\n",
    " ('Heart', 'MRI', 'AllScalars'): 'HeartMRIAll',\n",
    " ('Heart', 'ECG', 'Scalars'): 'ECGAtRest',\n",
    " ('Musculoskeletal', 'Scalars', 'Impedance'): 'AnthropometryImpedance',\n",
    " ('Musculoskeletal', 'Scalars', 'Anthropometry'): 'AnthropometryBodySize',\n",
    " ('Musculoskeletal',\n",
    "  'Scalars',\n",
    "  'HeelBoneDensitometry'): 'BoneDensitometryOfHeel',\n",
    " ('Musculoskeletal', 'Scalars', 'HandGripStrength'): 'HandGripStrength',\n",
    " ('Musculoskeletal', 'Scalars', 'AllScalars'): 'MusculoskeletalAllBiomarkers',\n",
    " ('Biochemistry', 'Blood', 'Scalars'): 'BloodBiochemestry',\n",
    " ('Biochemistry', 'Urine', 'Scalars'): 'UrineBiochemestry',\n",
    " ('Biochemistry', 'All', 'Scalars'): 'Biochemistry',\n",
    " ('ImmuneSystem', 'BloodCount', 'Scalars'): 'BloodCount',\n",
    " ('PhysicalActivity', 'FullWeek', 'Scalars'): 'PhysicalActivity',\n",
    " ('Demographics', 'All', 'Scalars'): 'Demographics'}"
   ]
  },
  {
   "cell_type": "code",
   "execution_count": 2,
   "metadata": {},
   "outputs": [],
   "source": [
    "import pandas as pd \n",
    "\n",
    "DIMENSIONS = \"Arterial\"\n",
    "SUBDIMENSION = 'All'\n",
    "SUB_SUBDIMENSION = 'Scalars'\n",
    "NAME = DIMENSIONS_TO_NAME[(DIMENSIONS, SUBDIMENSION, SUB_SUBDIMENSION)]\n",
    "\n",
    "raw_scalars = pd.read_csv(f\"../../all_data/page1_biomarkers/BiomarkerDatasets/{NAME}_ethnicity.csv\").set_index(\"id\")"
   ]
  },
  {
   "cell_type": "code",
   "execution_count": 4,
   "metadata": {},
   "outputs": [],
   "source": [
    "RENAME_COLUMNS = {\"Sex\": \"sex\", \"Age when attended assessment centre\": \"chronological_age\"}\n",
    "\n",
    "for feature in raw_scalars.columns[raw_scalars.columns.str.contains(\".0\")]:\n",
    "    RENAME_COLUMNS[feature] = feature.replace(\".0\", \"\")"
   ]
  },
  {
   "cell_type": "code",
   "execution_count": 5,
   "metadata": {},
   "outputs": [],
   "source": [
    "scalars = pd.DataFrame(None, index=raw_scalars.index, columns=list(RENAME_COLUMNS.keys()) + [\"ethnicity\"])\n",
    "\n",
    "scalars[list(RENAME_COLUMNS.keys())] = raw_scalars[list(RENAME_COLUMNS.keys())].round(3)\n",
    "\n",
    "columns_ethinicities = raw_scalars.columns[~(raw_scalars.columns.isin(list(RENAME_COLUMNS.keys()) + [\"eid\"]) | raw_scalars.columns.str.contains(\"_r\"))]\n",
    "scalars[columns_ethinicities] = raw_scalars[columns_ethinicities]"
   ]
  },
  {
   "cell_type": "code",
   "execution_count": 20,
   "metadata": {},
   "outputs": [],
   "source": [
    "change_second_pulse_rate = scalars.rename(columns=RENAME_COLUMNS).columns.tolist()\n",
    "change_second_pulse_rate[scalars.rename(columns=RENAME_COLUMNS).columns.duplicated().argmax()] = \"Pulse rate.0\"\n",
    "\n",
    "scalars.columns = change_second_pulse_rate"
   ]
  },
  {
   "cell_type": "code",
   "execution_count": 22,
   "metadata": {},
   "outputs": [],
   "source": [
    "scalars.reset_index().to_feather(\"try.feather\")"
   ]
  },
  {
   "cell_type": "code",
   "execution_count": 23,
   "metadata": {},
   "outputs": [
    {
     "data": {
      "text/html": "<div>\n<style scoped>\n    .dataframe tbody tr th:only-of-type {\n        vertical-align: middle;\n    }\n\n    .dataframe tbody tr th {\n        vertical-align: top;\n    }\n\n    .dataframe thead th {\n        text-align: right;\n    }\n</style>\n<table border=\"1\" class=\"dataframe\">\n  <thead>\n    <tr style=\"text-align: right;\">\n      <th></th>\n      <th>index</th>\n      <th>sex</th>\n      <th>chronological_age</th>\n      <th>Minimum carotid IMT (intima-medial thickness) at 120 degrees</th>\n      <th>Mean carotid IMT (intima-medial thickness) at 120 degrees</th>\n      <th>Maximum carotid IMT (intima-medial thickness) at 120 degrees</th>\n      <th>Minimum carotid IMT (intima-medial thickness) at 150 degrees</th>\n      <th>Mean carotid IMT (intima-medial thickness) at 150 degrees</th>\n      <th>Maximum carotid IMT (intima-medial thickness) at 150 degrees</th>\n      <th>Minimum carotid IMT (intima-medial thickness) at 210 degrees</th>\n      <th>...</th>\n      <th>Black</th>\n      <th>Caribbean</th>\n      <th>African</th>\n      <th>Black_Other</th>\n      <th>Chinese</th>\n      <th>Other_ethnicity</th>\n      <th>Other</th>\n      <th>Diastolic blood pressure</th>\n      <th>Pulse rate.0</th>\n      <th>Systolic blood pressure</th>\n    </tr>\n  </thead>\n  <tbody>\n    <tr>\n      <th>0</th>\n      <td>0</td>\n      <td>0.0</td>\n      <td>60.441</td>\n      <td>500.0</td>\n      <td>554.0</td>\n      <td>616.0</td>\n      <td>500.0</td>\n      <td>551.0</td>\n      <td>577.0</td>\n      <td>462.0</td>\n      <td>...</td>\n      <td>0</td>\n      <td>0</td>\n      <td>0</td>\n      <td>0</td>\n      <td>0</td>\n      <td>0</td>\n      <td>0</td>\n      <td>66.0</td>\n      <td>59.0</td>\n      <td>112.0</td>\n    </tr>\n    <tr>\n      <th>1</th>\n      <td>1</td>\n      <td>0.0</td>\n      <td>64.488</td>\n      <td>423.0</td>\n      <td>500.0</td>\n      <td>577.0</td>\n      <td>423.0</td>\n      <td>466.0</td>\n      <td>500.0</td>\n      <td>500.0</td>\n      <td>...</td>\n      <td>0</td>\n      <td>0</td>\n      <td>0</td>\n      <td>0</td>\n      <td>0</td>\n      <td>0</td>\n      <td>0</td>\n      <td>89.0</td>\n      <td>100.5</td>\n      <td>145.0</td>\n    </tr>\n    <tr>\n      <th>2</th>\n      <td>2</td>\n      <td>1.0</td>\n      <td>60.934</td>\n      <td>577.0</td>\n      <td>686.0</td>\n      <td>808.0</td>\n      <td>577.0</td>\n      <td>715.0</td>\n      <td>808.0</td>\n      <td>616.0</td>\n      <td>...</td>\n      <td>0</td>\n      <td>0</td>\n      <td>0</td>\n      <td>0</td>\n      <td>0</td>\n      <td>0</td>\n      <td>0</td>\n      <td>70.5</td>\n      <td>71.5</td>\n      <td>123.0</td>\n    </tr>\n    <tr>\n      <th>3</th>\n      <td>3</td>\n      <td>0.0</td>\n      <td>49.030</td>\n      <td>577.0</td>\n      <td>649.0</td>\n      <td>693.0</td>\n      <td>539.0</td>\n      <td>577.0</td>\n      <td>654.0</td>\n      <td>500.0</td>\n      <td>...</td>\n      <td>0</td>\n      <td>0</td>\n      <td>0</td>\n      <td>0</td>\n      <td>0</td>\n      <td>0</td>\n      <td>0</td>\n      <td>74.5</td>\n      <td>55.5</td>\n      <td>114.5</td>\n    </tr>\n    <tr>\n      <th>4</th>\n      <td>4</td>\n      <td>1.0</td>\n      <td>64.915</td>\n      <td>616.0</td>\n      <td>734.0</td>\n      <td>847.0</td>\n      <td>539.0</td>\n      <td>714.0</td>\n      <td>808.0</td>\n      <td>654.0</td>\n      <td>...</td>\n      <td>0</td>\n      <td>0</td>\n      <td>0</td>\n      <td>0</td>\n      <td>0</td>\n      <td>0</td>\n      <td>0</td>\n      <td>94.0</td>\n      <td>60.0</td>\n      <td>162.5</td>\n    </tr>\n    <tr>\n      <th>...</th>\n      <td>...</td>\n      <td>...</td>\n      <td>...</td>\n      <td>...</td>\n      <td>...</td>\n      <td>...</td>\n      <td>...</td>\n      <td>...</td>\n      <td>...</td>\n      <td>...</td>\n      <td>...</td>\n      <td>...</td>\n      <td>...</td>\n      <td>...</td>\n      <td>...</td>\n      <td>...</td>\n      <td>...</td>\n      <td>...</td>\n      <td>...</td>\n      <td>...</td>\n      <td>...</td>\n    </tr>\n    <tr>\n      <th>521</th>\n      <td>521</td>\n      <td>1.0</td>\n      <td>71.156</td>\n      <td>731.0</td>\n      <td>785.0</td>\n      <td>885.0</td>\n      <td>730.0</td>\n      <td>806.0</td>\n      <td>950.0</td>\n      <td>600.0</td>\n      <td>...</td>\n      <td>0</td>\n      <td>0</td>\n      <td>0</td>\n      <td>0</td>\n      <td>0</td>\n      <td>0</td>\n      <td>0</td>\n      <td>70.5</td>\n      <td>67.0</td>\n      <td>156.5</td>\n    </tr>\n    <tr>\n      <th>522</th>\n      <td>522</td>\n      <td>1.0</td>\n      <td>72.145</td>\n      <td>654.0</td>\n      <td>780.0</td>\n      <td>962.0</td>\n      <td>654.0</td>\n      <td>714.0</td>\n      <td>770.0</td>\n      <td>1039.0</td>\n      <td>...</td>\n      <td>0</td>\n      <td>0</td>\n      <td>0</td>\n      <td>0</td>\n      <td>0</td>\n      <td>0</td>\n      <td>0</td>\n      <td>95.0</td>\n      <td>83.0</td>\n      <td>162.5</td>\n    </tr>\n    <tr>\n      <th>523</th>\n      <td>523</td>\n      <td>0.0</td>\n      <td>71.849</td>\n      <td>808.0</td>\n      <td>871.0</td>\n      <td>924.0</td>\n      <td>654.0</td>\n      <td>794.0</td>\n      <td>885.0</td>\n      <td>693.0</td>\n      <td>...</td>\n      <td>0</td>\n      <td>0</td>\n      <td>0</td>\n      <td>0</td>\n      <td>0</td>\n      <td>0</td>\n      <td>0</td>\n      <td>76.0</td>\n      <td>58.0</td>\n      <td>133.5</td>\n    </tr>\n    <tr>\n      <th>524</th>\n      <td>524</td>\n      <td>1.0</td>\n      <td>58.641</td>\n      <td>500.0</td>\n      <td>595.0</td>\n      <td>847.0</td>\n      <td>385.0</td>\n      <td>452.0</td>\n      <td>577.0</td>\n      <td>539.0</td>\n      <td>...</td>\n      <td>0</td>\n      <td>0</td>\n      <td>0</td>\n      <td>0</td>\n      <td>0</td>\n      <td>0</td>\n      <td>0</td>\n      <td>71.5</td>\n      <td>60.0</td>\n      <td>142.0</td>\n    </tr>\n    <tr>\n      <th>525</th>\n      <td>525</td>\n      <td>1.0</td>\n      <td>51.699</td>\n      <td>539.0</td>\n      <td>596.0</td>\n      <td>731.0</td>\n      <td>500.0</td>\n      <td>586.0</td>\n      <td>654.0</td>\n      <td>731.0</td>\n      <td>...</td>\n      <td>0</td>\n      <td>0</td>\n      <td>0</td>\n      <td>0</td>\n      <td>0</td>\n      <td>0</td>\n      <td>0</td>\n      <td>82.0</td>\n      <td>56.0</td>\n      <td>132.0</td>\n    </tr>\n  </tbody>\n</table>\n<p>526 rows × 52 columns</p>\n</div>",
      "text/plain": "     index  sex  chronological_age  \\\n0        0  0.0             60.441   \n1        1  0.0             64.488   \n2        2  1.0             60.934   \n3        3  0.0             49.030   \n4        4  1.0             64.915   \n..     ...  ...                ...   \n521    521  1.0             71.156   \n522    522  1.0             72.145   \n523    523  0.0             71.849   \n524    524  1.0             58.641   \n525    525  1.0             51.699   \n\n     Minimum carotid IMT (intima-medial thickness) at 120 degrees   \\\n0                                                500.0               \n1                                                423.0               \n2                                                577.0               \n3                                                577.0               \n4                                                616.0               \n..                                                 ...               \n521                                              731.0               \n522                                              654.0               \n523                                              808.0               \n524                                              500.0               \n525                                              539.0               \n\n     Mean carotid IMT (intima-medial thickness) at 120 degrees   \\\n0                                                554.0            \n1                                                500.0            \n2                                                686.0            \n3                                                649.0            \n4                                                734.0            \n..                                                 ...            \n521                                              785.0            \n522                                              780.0            \n523                                              871.0            \n524                                              595.0            \n525                                              596.0            \n\n     Maximum carotid IMT (intima-medial thickness) at 120 degrees   \\\n0                                                616.0               \n1                                                577.0               \n2                                                808.0               \n3                                                693.0               \n4                                                847.0               \n..                                                 ...               \n521                                              885.0               \n522                                              962.0               \n523                                              924.0               \n524                                              847.0               \n525                                              731.0               \n\n     Minimum carotid IMT (intima-medial thickness) at 150 degrees   \\\n0                                                500.0               \n1                                                423.0               \n2                                                577.0               \n3                                                539.0               \n4                                                539.0               \n..                                                 ...               \n521                                              730.0               \n522                                              654.0               \n523                                              654.0               \n524                                              385.0               \n525                                              500.0               \n\n     Mean carotid IMT (intima-medial thickness) at 150 degrees   \\\n0                                                551.0            \n1                                                466.0            \n2                                                715.0            \n3                                                577.0            \n4                                                714.0            \n..                                                 ...            \n521                                              806.0            \n522                                              714.0            \n523                                              794.0            \n524                                              452.0            \n525                                              586.0            \n\n     Maximum carotid IMT (intima-medial thickness) at 150 degrees   \\\n0                                                577.0               \n1                                                500.0               \n2                                                808.0               \n3                                                654.0               \n4                                                808.0               \n..                                                 ...               \n521                                              950.0               \n522                                              770.0               \n523                                              885.0               \n524                                              577.0               \n525                                              654.0               \n\n     Minimum carotid IMT (intima-medial thickness) at 210 degrees   ...  \\\n0                                                462.0              ...   \n1                                                500.0              ...   \n2                                                616.0              ...   \n3                                                500.0              ...   \n4                                                654.0              ...   \n..                                                 ...              ...   \n521                                              600.0              ...   \n522                                             1039.0              ...   \n523                                              693.0              ...   \n524                                              539.0              ...   \n525                                              731.0              ...   \n\n     Black  Caribbean  African  Black_Other  Chinese  Other_ethnicity  Other  \\\n0        0          0        0            0        0                0      0   \n1        0          0        0            0        0                0      0   \n2        0          0        0            0        0                0      0   \n3        0          0        0            0        0                0      0   \n4        0          0        0            0        0                0      0   \n..     ...        ...      ...          ...      ...              ...    ...   \n521      0          0        0            0        0                0      0   \n522      0          0        0            0        0                0      0   \n523      0          0        0            0        0                0      0   \n524      0          0        0            0        0                0      0   \n525      0          0        0            0        0                0      0   \n\n     Diastolic blood pressure  Pulse rate.0  Systolic blood pressure  \n0                        66.0          59.0                    112.0  \n1                        89.0         100.5                    145.0  \n2                        70.5          71.5                    123.0  \n3                        74.5          55.5                    114.5  \n4                        94.0          60.0                    162.5  \n..                        ...           ...                      ...  \n521                      70.5          67.0                    156.5  \n522                      95.0          83.0                    162.5  \n523                      76.0          58.0                    133.5  \n524                      71.5          60.0                    142.0  \n525                      82.0          56.0                    132.0  \n\n[526 rows x 52 columns]"
     },
     "execution_count": 23,
     "metadata": {},
     "output_type": "execute_result"
    }
   ],
   "source": [
    "pd.read_feather(\"try.feather\")"
   ]
  },
  {
   "cell_type": "code",
   "execution_count": 16,
   "metadata": {},
   "outputs": [],
   "source": [
    "list_columns = ['id', 'sex', 'chronological_age', 'Minimum carotid IMT (intima-medial thickness) at 120 degrees ', 'Mean carotid IMT (intima-medial thickness) at 120 degrees ', 'Maximum carotid IMT (intima-medial thickness) at 120 degrees ', 'Minimum carotid IMT (intima-medial thickness) at 150 degrees ', 'Mean carotid IMT (intima-medial thickness) at 150 degrees ', 'Maximum carotid IMT (intima-medial thickness) at 150 degrees ', 'Minimum carotid IMT (intima-medial thickness) at 210 degrees ', 'Mean carotid IMT (intima-medial thickness) at 210 degrees ', 'Maximum carotid IMT (intima-medial thickness) at 210 degrees ', 'Minimum carotid IMT (intima-medial thickness) at 240 degrees ', 'Mean carotid IMT (intima-medial thickness) at 240 degrees ', 'Maximum carotid IMT (intima-medial thickness) at 240 degrees ', 'Pulse rate', 'Pulse wave reflection index', 'Pulse wave peak to peak time', 'Position of the pulse wave peak', 'Position of pulse wave notch', 'Position of the shoulder on the pulse waveform', 'Absence of notch position in the pulse waveform', 'Pulse wave Arterial Stiffness index', 'ethnicity', 'Do_not_know', 'Prefer_not_to_answer', 'NA', 'White', 'British', 'Irish', 'White_Other', 'Mixed', 'White_and_Black_Caribbean', 'White_and_Black_African', 'White_and_Asian', 'Mixed_Other', 'Asian', 'Indian', 'Pakistani', 'Bangladeshi', 'Asian_Other', 'Black', 'Caribbean', 'African', 'Black_Other', 'Chinese', 'Other_ethnicity', 'Other', 'Diastolic blood pressure', 'Pulse rate', 'Systolic blood pressure']"
   ]
  },
  {
   "cell_type": "code",
   "execution_count": 21,
   "metadata": {},
   "outputs": [],
   "source": [
    "index_columns = pd.Index(list_columns)"
   ]
  },
  {
   "cell_type": "code",
   "execution_count": 24,
   "metadata": {},
   "outputs": [
    {
     "data": {
      "text/plain": "Index(['Pulse rate'], dtype='object')"
     },
     "execution_count": 24,
     "metadata": {},
     "output_type": "execute_result"
    }
   ],
   "source": [
    "index_columns[index_columns.duplicated()]"
   ]
  }
 ],
 "metadata": {
  "kernelspec": {
   "display_name": "Python 3",
   "language": "python",
   "name": "python3"
  },
  "language_info": {
   "codemirror_mode": {
    "name": "ipython",
    "version": 3
   },
   "file_extension": ".py",
   "mimetype": "text/x-python",
   "name": "python",
   "nbconvert_exporter": "python",
   "pygments_lexer": "ipython3",
   "version": "3.8.5"
  },
  "orig_nbformat": 2
 },
 "nbformat": 4,
 "nbformat_minor": 2
}