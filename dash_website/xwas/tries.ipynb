{
 "cells": [
  {
   "cell_type": "code",
   "execution_count": 4,
   "metadata": {},
   "outputs": [],
   "source": [
    "from dash_website.utils.aws_loader import load_feather, upload_file\n",
    "from dash_website import MAIN_CATEGORIES_TO_CATEGORIES, RENAME_DIMENSIONS\n",
    "from dash_website.xwas import MULTIVARIATE_CATEGORIES_TO_REMOVE\n",
    "\n",
    "\n",
    "for dimension_subdimension, new_dimension_subdimension in [(\"Lungs\", \"LungsSpirometry\"), (\"Hearing\", \"HearingHearingTest\"), (\"BloodCells\", \"BloodCellsBloodCount\")]:\n",
    "    for category in MAIN_CATEGORIES_TO_CATEGORIES[\"All\"]:\n",
    "        if category in MULTIVARIATE_CATEGORIES_TO_REMOVE:\n",
    "            continue\n",
    "        correlations = load_feather(\n",
    "                f\"xwas/multivariate_feature_importances/dimension_category/features_{RENAME_DIMENSIONS.get(dimension_subdimension, dimension_subdimension)}_{category}.feather\"\n",
    "            )\n",
    "        correlations.to_feather(\"tmp.feather\")\n",
    "        # upload_file(\"tmp.feather\", f\"xwas/multivariate_feature_importances/dimension_category/features_{RENAME_DIMENSIONS.get(new_dimension_subdimension, new_dimension_subdimension)}_{category}.feather\")\n"
   ]
  }
 ],
 "metadata": {
  "kernelspec": {
   "display_name": "Python 3.9.4  ('env_container': venv)",
   "name": "pythonjvsc74a57bd0827f31c7a17f115185da69808fd256ce792d94cfeb61ab0a6e35bd7e2999d502"
  },
  "language_info": {
   "codemirror_mode": {
    "name": "ipython",
    "version": 3
   },
   "file_extension": ".py",
   "mimetype": "text/x-python",
   "name": "python",
   "nbconvert_exporter": "python",
   "pygments_lexer": "ipython3",
   "version": "3.9.5"
  },
  "metadata": {
   "interpreter": {
    "hash": "827f31c7a17f115185da69808fd256ce792d94cfeb61ab0a6e35bd7e2999d502"
   }
  },
  "orig_nbformat": 2
 },
 "nbformat": 4,
 "nbformat_minor": 2
}