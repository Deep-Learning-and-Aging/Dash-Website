{
 "cells": [
  {
   "cell_type": "code",
   "execution_count": 6,
   "metadata": {},
   "outputs": [],
   "source": [
    "from dash_website.utils.aws_loader import load_feather, upload_file\n",
    "from dash_website import MAIN_CATEGORIES_TO_CATEGORIES\n",
    "\n",
    "for category in MAIN_CATEGORIES_TO_CATEGORIES[\"All\"][39:]:\n",
    "    if category in [\"Genetics\", \"Phenotypic\", \"PhysicalActivity\"]:\n",
    "        continue\n",
    "    \n",
    "    correlations = load_feather(\n",
    "        f\"xwas/multivariate_correlations/correlations/categories/correlations_{category}.feather\"\n",
    "    ).drop(columns=[\"r2_1\", \"r2_std_1\", \"r2_2\", \"r2_std_2\"])\n",
    "\n",
    "    for dimension, subdimension in [\n",
    "        (\"Lungs\", \"Spirometry\"),\n",
    "        (\"Hearing\", \"HearingTest\"),\n",
    "        (\"BloodCells\", \"BloodCount\"),\n",
    "    ]:\n",
    "        for i in [1, 2]:\n",
    "            correlations.loc[correlations[f\"dimension_{i}\"] == dimension, f\"subdimension_{i}\"] = subdimension\n",
    "\n",
    "    correlations.to_feather(\"tmp.feather\")\n",
    "    # upload_file(\"tmp.feather\", f\"xwas/multivariate_correlations/correlations/categories/correlations_{category}.feather\")"
   ]
  }
 ],
 "metadata": {
  "kernelspec": {
   "display_name": "Python 3.9.4  ('env_container': venv)",
   "name": "pythonjvsc74a57bd0827f31c7a17f115185da69808fd256ce792d94cfeb61ab0a6e35bd7e2999d502"
  },
  "language_info": {
   "codemirror_mode": {
    "name": "ipython",
    "version": 3
   },
   "file_extension": ".py",
   "mimetype": "text/x-python",
   "name": "python",
   "nbconvert_exporter": "python",
   "pygments_lexer": "ipython3",
   "version": "3.9.5"
  },
  "metadata": {
   "interpreter": {
    "hash": "827f31c7a17f115185da69808fd256ce792d94cfeb61ab0a6e35bd7e2999d502"
   }
  },
  "orig_nbformat": 2
 },
 "nbformat": 4,
 "nbformat_minor": 2
}