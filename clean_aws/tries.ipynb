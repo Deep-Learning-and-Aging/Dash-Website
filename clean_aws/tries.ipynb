{
 "cells": [
  {
   "cell_type": "code",
   "execution_count": 1,
   "metadata": {},
   "outputs": [],
   "source": [
    "TREE_CHOICES = {\n",
    "    \"Abdomen\": {\"Liver\": [\"Raw\", \"Contrast\"], \"Pancreas\": [\"Raw\", \"Contrast\"]},\n",
    "    \"Arterial\": {\"Carotids\": [\"CIMT120\", \"CIMT150\", \"LongAxis\", \"Mixed\", \"ShortAxis\"]},\n",
    "    \"Brain\": {\n",
    "        \"MRI\": [\n",
    "            \"SagittalRaw\",\n",
    "            \"SagittalReference\",\n",
    "            \"CoronalRaw\",\n",
    "            \"CoronalReference\",\n",
    "            \"TransverseRaw\",\n",
    "            \"TransverseReference\",\n",
    "        ]\n",
    "    },\n",
    "    \"Eyes\": {\"Fundus\": [\"Raw\"], \"OCT\": [\"Raw\"]},\n",
    "    \"Heart\": {\n",
    "        \"MRI\": [\n",
    "            \"2chambersRaw\",\n",
    "            \"2chambersContrast\",\n",
    "            \"3chambersRaw\",\n",
    "            \"3chambersContrast\",\n",
    "            \"4chambersRaw\",\n",
    "            \"4chambersContrast\",\n",
    "        ]\n",
    "    },\n",
    "    \"Musculoskeletal\": {\n",
    "        \"FullBody\": [\"Figure\", \"Flesh\", \"Mixed\", \"Skeleton\"],\n",
    "        \"Knees\": [\"DXA\"],\n",
    "        \"Hips\": [\"DXA\"],\n",
    "        \"Spine\": [\"Coronal\", \"Sagittal\"],\n",
    "    },\n",
    "    \"PhysicalActivity\": {\n",
    "        \"FullWeek\": [\n",
    "            \"GramianAngularField1minDifference\",\n",
    "            \"GramianAngularField1minSummation\",\n",
    "            \"MarkovTransitionField1min\",\n",
    "            \"RecurrencePlots1min\",\n",
    "        ]\n",
    "    },\n",
    "}"
   ]
  },
  {
   "cell_type": "code",
   "execution_count": 7,
   "metadata": {},
   "outputs": [
    {
     "data": {
      "text/plain": "'\"Abdomen\" \"Arterial\" \"Brain\" \"Eyes\" \"Heart\" \"Musculoskeletal\" \"PhysicalActivity\" '"
     },
     "execution_count": 7,
     "metadata": {},
     "output_type": "execute_result"
    }
   ],
   "source": [
    "dims = \"\"\n",
    "for dim in TREE_CHOICES.keys():\n",
    "    dims += f'\"{dim}\" '\n",
    "dims"
   ]
  },
  {
   "cell_type": "code",
   "execution_count": 38,
   "metadata": {},
   "outputs": [],
   "source": [
    "import pandas as pd \n",
    "import numpy as np\n",
    "\n",
    "a = np.load(\"../all_data/page15_AttentionMapsTimeSeries/img/Age/Arterial/PulseWaveAnalysis/TimeSeries/Female/middle/normal/Saliency_Age_Arterial_PulseWaveAnalysis_TimeSeries_Female_middle_normal_0.npy\")"
   ]
  },
  {
   "cell_type": "code",
   "execution_count": 36,
   "metadata": {},
   "outputs": [
    {
     "data": {
      "text/plain": "array([-1.00603622e-04,  1.04627767e-02,  3.17907445e-02,  6.17706237e-02,\n        9.91951710e-02,  1.42957746e-01,  1.94366197e-01,  2.56237425e-01,\n        3.27867203e-01,  4.00603622e-01,  4.70422535e-01,  5.38732394e-01,\n        6.04225352e-01,  6.63279678e-01,  7.15593561e-01,  7.61368209e-01,\n        8.02112676e-01,  8.36519115e-01,  8.65995976e-01,  8.89939638e-01,\n        9.09255533e-01,  9.25855131e-01,  9.40342052e-01,  9.54929577e-01,\n        9.68008048e-01,  9.79778672e-01,  9.89637827e-01,  9.96780684e-01,\n        1.00000000e+00,  9.98692153e-01,  9.92454728e-01,  9.80482897e-01,\n        9.64285714e-01,  9.44466801e-01,  9.23742455e-01,  9.05633803e-01,\n        8.90241449e-01,  8.73541247e-01,  8.53923541e-01,  8.31891348e-01,\n        8.11468813e-01,  7.93058350e-01,  7.75855131e-01,  7.58350101e-01,\n        7.40845070e-01,  7.25955734e-01,  7.14185111e-01,  7.05331992e-01,\n        6.97987928e-01,  6.88933602e-01,  6.78772636e-01,  6.67203219e-01,\n        6.54527163e-01,  6.43360161e-01,  6.33199195e-01,  6.23038229e-01,\n        6.10261569e-01,  5.93963783e-01,  5.77464789e-01,  5.60965795e-01,\n        5.46177062e-01,  5.29678068e-01,  5.10865191e-01,  4.89235412e-01,\n        4.65794769e-01,  4.44064386e-01,  4.25553320e-01,  4.09959759e-01,\n        3.96478873e-01,  3.81891348e-01,  3.64084507e-01,  3.44366197e-01,\n        3.23138833e-01,  3.05935614e-01,  2.92756539e-01,  2.80885312e-01,\n        2.66096579e-01,  2.46378270e-01,  2.27162978e-01,  2.12173038e-01,\n        2.00402414e-01,  1.92957746e-01,  1.87525151e-01,  1.84104628e-01,\n        1.78672032e-01,  1.68812877e-01,  1.56438632e-01,  1.42857143e-01,\n        1.30382294e-01,  1.16800805e-01,  1.03521127e-01,  9.02414487e-02,\n        7.63581489e-02,  6.33802817e-02,  5.05030181e-02,  3.85311871e-02,\n        2.51509054e-02,  1.22736419e-02,  2.81690141e-03, -1.00603622e-04])"
     },
     "execution_count": 36,
     "metadata": {},
     "output_type": "execute_result"
    }
   ],
   "source": [
    "np.load(\"../all_data/try.npy\")[0][0]"
   ]
  },
  {
   "cell_type": "code",
   "execution_count": 40,
   "metadata": {},
   "outputs": [],
   "source": [
    "data = pd.read_csv(\"../all_data/page9_AttentionMaps/Attention_maps_infos/AttentionMaps-samples_Age_Arterial_PulseWaveAnalysis_TimeSeries.csv\")"
   ]
  },
  {
   "cell_type": "code",
   "execution_count": 45,
   "metadata": {},
   "outputs": [
    {
     "data": {
      "text/plain": "'../figures/Attention_Maps/Age/Arterial/PulseWaveAnalysis/TimeSeries/Female/middle/accelerated/imagetypeplaceholder_Age_Arterial_PulseWaveAnalysis_TimeSeries_Female_middle_accelerated_0'"
     },
     "execution_count": 45,
     "metadata": {},
     "output_type": "execute_result"
    }
   ],
   "source": [
    "data.sort_values(by=[\"Sex\", \"age_category\", \"aging_rate\", \"sample\"]).iloc[0][\"save_title\"]"
   ]
  }
 ],
 "metadata": {
  "kernelspec": {
   "display_name": "Python 3",
   "language": "python",
   "name": "python3"
  },
  "language_info": {
   "codemirror_mode": {
    "name": "ipython",
    "version": 3
   },
   "file_extension": ".py",
   "mimetype": "text/x-python",
   "name": "python",
   "nbconvert_exporter": "python",
   "pygments_lexer": "ipython3",
   "version": "3.8.5"
  },
  "orig_nbformat": 2
 },
 "nbformat": 4,
 "nbformat_minor": 2
}