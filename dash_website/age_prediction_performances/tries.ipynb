{
 "cells": [
  {
   "cell_type": "code",
   "execution_count": 4,
   "metadata": {},
   "outputs": [],
   "source": [
    "import pandas as pd \n",
    "\n",
    "sample_definition = \"all_samples_per_participant\"\n",
    "dimensions_selection = \"all_dimensions\"\n",
    "dimension = \"all\"\n",
    "score = \"r2\"\n",
    "\n",
    "data_scores = pd.read_feather(f\"../../all_data/age_prediction_performances/scores_{sample_definition}_{dimensions_selection}.feather\").to_dict()"
   ]
  },
  {
   "cell_type": "code",
   "execution_count": 5,
   "metadata": {},
   "outputs": [
    {
     "data": {
      "text/html": "<div>\n<style scoped>\n    .dataframe tbody tr th:only-of-type {\n        vertical-align: middle;\n    }\n\n    .dataframe tbody tr th {\n        vertical-align: top;\n    }\n\n    .dataframe thead th {\n        text-align: right;\n    }\n</style>\n<table border=\"1\" class=\"dataframe\">\n  <thead>\n    <tr style=\"text-align: right;\">\n      <th></th>\n      <th>dimension</th>\n      <th>subdimension</th>\n      <th>sub_subdimension</th>\n      <th>algorithm</th>\n      <th>sample_size</th>\n      <th>rmse</th>\n      <th>rmse_std</th>\n      <th>r2</th>\n      <th>r2_std</th>\n    </tr>\n  </thead>\n  <tbody>\n    <tr>\n      <th>0</th>\n      <td>*</td>\n      <td>*</td>\n      <td>*</td>\n      <td>*</td>\n      <td>83629</td>\n      <td>4.592113</td>\n      <td>0.012090</td>\n      <td>0.660751</td>\n      <td>0.001829</td>\n    </tr>\n    <tr>\n      <th>1</th>\n      <td>*instances01</td>\n      <td>*</td>\n      <td>*</td>\n      <td>*</td>\n      <td>4404</td>\n      <td>3.015260</td>\n      <td>0.035237</td>\n      <td>0.869851</td>\n      <td>0.003602</td>\n    </tr>\n    <tr>\n      <th>2</th>\n      <td>*instances1.5x</td>\n      <td>*</td>\n      <td>*</td>\n      <td>*</td>\n      <td>77269</td>\n      <td>4.709071</td>\n      <td>0.012408</td>\n      <td>0.635053</td>\n      <td>0.001931</td>\n    </tr>\n    <tr>\n      <th>3</th>\n      <td>*instances23</td>\n      <td>*</td>\n      <td>*</td>\n      <td>*</td>\n      <td>1956</td>\n      <td>2.263247</td>\n      <td>0.041027</td>\n      <td>0.900849</td>\n      <td>0.003993</td>\n    </tr>\n    <tr>\n      <th>4</th>\n      <td>Abdomen</td>\n      <td>*</td>\n      <td>*</td>\n      <td>*</td>\n      <td>36700</td>\n      <td>3.700446</td>\n      <td>0.014485</td>\n      <td>0.763341</td>\n      <td>0.002007</td>\n    </tr>\n    <tr>\n      <th>...</th>\n      <td>...</td>\n      <td>...</td>\n      <td>...</td>\n      <td>...</td>\n      <td>...</td>\n      <td>...</td>\n      <td>...</td>\n      <td>...</td>\n      <td>...</td>\n    </tr>\n    <tr>\n      <th>326</th>\n      <td>PhysicalActivity</td>\n      <td>FullWeek</td>\n      <td>TimeSeriesFeatures</td>\n      <td>*</td>\n      <td>98222</td>\n      <td>6.112644</td>\n      <td>0.014212</td>\n      <td>0.417744</td>\n      <td>0.002605</td>\n    </tr>\n    <tr>\n      <th>327</th>\n      <td>PhysicalActivity</td>\n      <td>FullWeek</td>\n      <td>TimeSeriesFeatures</td>\n      <td>1DCNN</td>\n      <td>98222</td>\n      <td>6.112644</td>\n      <td>0.014489</td>\n      <td>0.417744</td>\n      <td>0.002625</td>\n    </tr>\n    <tr>\n      <th>328</th>\n      <td>PhysicalActivity</td>\n      <td>Walking</td>\n      <td>*</td>\n      <td>*</td>\n      <td>98215</td>\n      <td>6.224478</td>\n      <td>0.012967</td>\n      <td>0.396758</td>\n      <td>0.002419</td>\n    </tr>\n    <tr>\n      <th>329</th>\n      <td>PhysicalActivity</td>\n      <td>Walking</td>\n      <td>3D</td>\n      <td>*</td>\n      <td>98215</td>\n      <td>6.594051</td>\n      <td>0.012083</td>\n      <td>0.322997</td>\n      <td>0.001549</td>\n    </tr>\n    <tr>\n      <th>330</th>\n      <td>PhysicalActivity</td>\n      <td>Walking</td>\n      <td>3D</td>\n      <td>1DCNN</td>\n      <td>98215</td>\n      <td>6.594051</td>\n      <td>0.011923</td>\n      <td>0.322997</td>\n      <td>0.001503</td>\n    </tr>\n  </tbody>\n</table>\n<p>331 rows × 9 columns</p>\n</div>",
      "text/plain": "            dimension subdimension    sub_subdimension algorithm  sample_size  \\\n0                   *            *                   *         *        83629   \n1        *instances01            *                   *         *         4404   \n2      *instances1.5x            *                   *         *        77269   \n3        *instances23            *                   *         *         1956   \n4             Abdomen            *                   *         *        36700   \n..                ...          ...                 ...       ...          ...   \n326  PhysicalActivity     FullWeek  TimeSeriesFeatures         *        98222   \n327  PhysicalActivity     FullWeek  TimeSeriesFeatures     1DCNN        98222   \n328  PhysicalActivity      Walking                   *         *        98215   \n329  PhysicalActivity      Walking                  3D         *        98215   \n330  PhysicalActivity      Walking                  3D     1DCNN        98215   \n\n         rmse  rmse_std        r2    r2_std  \n0    4.592113  0.012090  0.660751  0.001829  \n1    3.015260  0.035237  0.869851  0.003602  \n2    4.709071  0.012408  0.635053  0.001931  \n3    2.263247  0.041027  0.900849  0.003993  \n4    3.700446  0.014485  0.763341  0.002007  \n..        ...       ...       ...       ...  \n326  6.112644  0.014212  0.417744  0.002605  \n327  6.112644  0.014489  0.417744  0.002625  \n328  6.224478  0.012967  0.396758  0.002419  \n329  6.594051  0.012083  0.322997  0.001549  \n330  6.594051  0.011923  0.322997  0.001503  \n\n[331 rows x 9 columns]"
     },
     "execution_count": 5,
     "metadata": {},
     "output_type": "execute_result"
    }
   ],
   "source": [
    "pd.DataFrame(data_scores)"
   ]
  }
 ],
 "metadata": {
  "kernelspec": {
   "display_name": "Python 3.9.4  ('env_container': venv)",
   "name": "pythonjvsc74a57bd0827f31c7a17f115185da69808fd256ce792d94cfeb61ab0a6e35bd7e2999d502"
  },
  "language_info": {
   "codemirror_mode": {
    "name": "ipython",
    "version": 3
   },
   "file_extension": ".py",
   "mimetype": "text/x-python",
   "name": "python",
   "nbconvert_exporter": "python",
   "pygments_lexer": "ipython3",
   "version": "3.9.4"
  },
  "metadata": {
   "interpreter": {
    "hash": "827f31c7a17f115185da69808fd256ce792d94cfeb61ab0a6e35bd7e2999d502"
   }
  },
  "orig_nbformat": 2
 },
 "nbformat": 4,
 "nbformat_minor": 2
}