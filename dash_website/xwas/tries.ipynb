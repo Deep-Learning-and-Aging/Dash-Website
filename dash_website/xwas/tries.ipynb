{
 "metadata": {
  "language_info": {
   "codemirror_mode": {
    "name": "ipython",
    "version": 3
   },
   "file_extension": ".py",
   "mimetype": "text/x-python",
   "name": "python",
   "nbconvert_exporter": "python",
   "pygments_lexer": "ipython3",
   "version": "3.7.7-final"
  },
  "orig_nbformat": 2,
  "kernelspec": {
   "name": "python377jvsc74a57bd0c11bf2a122358a257f4887e4656fd266c9212bc31c6d2fa50cb5fb4a0c5b9dd8",
   "display_name": "Python 3.7.7 64-bit ('env_website')"
  }
 },
 "nbformat": 4,
 "nbformat_minor": 2,
 "cells": [
  {
   "cell_type": "code",
   "execution_count": 46,
   "metadata": {},
   "outputs": [],
   "source": [
    "import pandas as pd\n",
    "import numpy as np  \n",
    "from dash_website import ALGORITHMS_RENDERING\n",
    "from dash_website.xwas import BAR_PLOT_TABLE_COLUMNS, FEATURES_CORRELATIONS_TABLE_COLUMNS\n",
    "\n",
    "category = \"Alcohol\"\n",
    "dimension = \"Abdomen\"\n",
    "\n",
    "data_features = pd.read_feather(f\"../../data/xwas/multivariate_feature_importances/dimension_category/features_{dimension}_{category}.feather\").to_dict()\n",
    "data_scores = pd.read_feather(f\"../../data/xwas/multivariate_results/scores.feather\", columns=[\"category\", \"dimension\", \"r2\", \"std\", \"algorithm\"]).to_dict()"
   ]
  },
  {
   "cell_type": "code",
   "execution_count": 47,
   "metadata": {},
   "outputs": [
    {
     "output_type": "execute_result",
     "data": {
      "text/plain": [
       "'Abdomen'"
      ]
     },
     "metadata": {},
     "execution_count": 47
    }
   ],
   "source": [
    "dimension"
   ]
  },
  {
   "cell_type": "code",
   "execution_count": 20,
   "metadata": {
    "tags": []
   },
   "outputs": [
    {
     "output_type": "execute_result",
     "data": {
      "text/plain": [
       "\"We don't have the scores for the moment, they are going to be uploaded soon.\""
      ]
     },
     "metadata": {},
     "execution_count": 20
    }
   ],
   "source": [
    "import plotly.graph_objects as go\n",
    "\n",
    "scores_raw = pd.DataFrame(data_scores).set_index([\"dimension\", \"category\"])\n",
    "if (dimension, category) in scores_raw.index:\n",
    "    scores = scores_raw.loc[dimension, category]\n",
    "    best_algorithm = scores.iloc[scores[\"r2\"].argmax()][\"algorithm\"]\n",
    "\n",
    "    scores_algorithm = scores.reset_index().set_index(\"algorithm\").round(3)\n",
    "    title = f\"R² : Elastic Net {scores_algorithm.loc['elastic_net', 'r2']} +- {scores_algorithm.loc['elastic_net', 'std']}, \"\n",
    "    title += f\"Light GBM {scores_algorithm.loc['light_gbm', 'r2']} +- {scores_algorithm.loc['light_gbm', 'std']}, Neural Network {scores_algorithm.loc['neural_network', 'r2']} +- {scores_algorithm.loc['neural_network', 'std']}\"\n",
    "else:\n",
    "    scores = None\n",
    "    best_algorithm = \"light_gbm\"\n",
    "    title = \"We don't have the scores for the moment, they are going to be uploaded soon.\"\n",
    "\n",
    "features = pd.DataFrame(data_features).set_index([\"algorithm\", \"variable\"])\n",
    "sorted_variables = (features.loc[best_algorithm].abs() / features.loc[best_algorithm].abs().sum()).sort_values(by=[\"feature_importance\"], ascending=False).index\n",
    "\n",
    "algorithms = features.index.get_level_values(\"algorithm\").drop_duplicates()\n",
    "\n",
    "table_features = pd.DataFrame(None, columns=BAR_PLOT_TABLE_COLUMNS.keys())\n",
    "table_features[\"variable\"] = sorted_variables\n",
    "\n",
    "for algorithm in algorithms:\n",
    "    sorted_algorithm_variable = [[algorithm, variable] for variable in sorted_variables]\n",
    "   \n",
    "    percentage_importance = (features.loc[sorted_algorithm_variable].abs() / features.loc[sorted_algorithm_variable].abs().sum())[\"feature_importance\"]\n",
    "\n",
    "    table_features[f\"feature_{algorithm}\"] = features.loc[sorted_algorithm_variable].values\n",
    "    table_features[f\"percentage_{algorithm}\"] = percentage_importance.values\n",
    "title"
   ]
  },
  {
   "cell_type": "code",
   "execution_count": 17,
   "metadata": {},
   "outputs": [
    {
     "output_type": "display_data",
     "data": {
      "application/vnd.plotly.v1+json": {
       "config": {
        "plotlyServerURL": "https://plot.ly"
       },
       "data": [
        {
         "customdata": [
          0.1638801680892486,
          0.4154705557247328,
          -0.2722752490190035,
          0.139882325414851,
          0.1113883132998667,
          -0.0912311090520961,
          0.1568842563423758,
          -0.0451919641134109,
          -0.068890882765779,
          0.01062846975112,
          -0.3173431643145408,
          0.0012106013816333,
          0.0619690006781409,
          -0.0203442356787785,
          -0.4950320615614973,
          -0.054163022599923,
          0.3848828456946604,
          -0.0743631010177933,
          -0.1307336398204942,
          -0.0196314655814451,
          0.0155697207040743,
          0.038466503539984,
          0.0251853010870897,
          -0.0105257103522929,
          -0.030162712642611,
          0.0543201499704191,
          0.0542743923421192,
          -0.0014596762431324,
          0.070079223698459,
          0.0320804859180139,
          0.0757905552690399,
          0.0247006589227733,
          0.0223510444125853,
          -0.003081594281078,
          0.0666944079131776,
          0.0190428143845478,
          0.0416773421897052,
          0.0254751092632887,
          0.0210606307960159,
          0.0479841686126605,
          -0.0103678935519289,
          -0.0110535044915543
         ],
         "hovertemplate": "Variable: %{y} <br>Percentage of overall feature importance: %{x:.3f} <br>Feature importance: %{customdata:.3f} <br><extra></extra>",
         "name": "Elastic Net",
         "orientation": "h",
         "type": "bar",
         "x": [
          0.04385575001725153,
          0.11118351319648075,
          0.07286321094300678,
          0.03743371981339822,
          0.029808475789833724,
          0.024414233638120286,
          0.04198358354164407,
          0.012093760361943243,
          0.01843579591276973,
          0.0028442704074918396,
          0.08492377476866358,
          0.00032396739753486027,
          0.016583440414092016,
          0.0054442933798717116,
          0.13247486010962903,
          0.014494493183747254,
          0.10299797750708309,
          0.019900208834103098,
          0.03498545244163157,
          0.005253549938655554,
          0.004166591888436711,
          0.010293968958883036,
          0.006739804342787231,
          0.002816771103827286,
          0.008071802713651986,
          0.01453654182673859,
          0.014524296689749167,
          0.00039062198416877963,
          0.01875380622168337,
          0.008585015424722868,
          0.020282207934626605,
          0.006610109909019597,
          0.005981332749481938,
          0.0008246612754994787,
          0.017848000249767928,
          0.005096021788425535,
          0.011153217144979697,
          0.006817359516647055,
          0.005636006907758947,
          0.012840978429534236,
          0.002774537963441948,
          0.002958013379216049
         ],
         "y": [
          "Age when attended assessment centre",
          "Creatinine",
          "Cystatin C",
          "Alanine aminotransferase",
          "Triglycerides",
          "Vitamin D",
          "IGF-1",
          "Urate",
          "Gamma glutamyltransferase",
          "Total bilirubin",
          "Cholesterol",
          "C-reactive protein",
          "Aspartate aminotransferase",
          "Urea",
          "Sex",
          "Alkaline phosphatase",
          "LDL direct",
          "Ethnicity.White",
          "Apolipoprotein B",
          "Ethnicity.Irish",
          "Ethnicity.Other",
          "Ethnicity.British",
          "Ethnicity.Asian_Other",
          "Ethnicity.Prefer_not_to_answer",
          "Ethnicity.Do_not_know",
          "Ethnicity.Other_ethnicity",
          "Ethnicity.Chinese",
          "Ethnicity.Black_Other",
          "Ethnicity.African",
          "Ethnicity.Caribbean",
          "Ethnicity.Black",
          "Ethnicity.White_Other",
          "Ethnicity.Bangladeshi",
          "Ethnicity.Pakistani",
          "Ethnicity.Indian",
          "Ethnicity.Asian",
          "Ethnicity.Mixed_Other",
          "Ethnicity.White_and_Asian",
          "Ethnicity.White_and_Black_African",
          "Ethnicity.White_and_Black_Caribbean",
          "Ethnicity.Mixed",
          "Ethnicity.NA"
         ]
        },
        {
         "customdata": [
          0.1353754940711462,
          0.0928853754940711,
          0.0790513833992094,
          0.0701581027667984,
          0.0622529644268774,
          0.0602766798418972,
          0.0592885375494071,
          0.0553359683794466,
          0.0484189723320158,
          0.0464426877470355,
          0.0405138339920948,
          0.0395256916996047,
          0.0385375494071146,
          0.0355731225296442,
          0.033596837944664,
          0.0296442687747035,
          0.0217391304347826,
          0.0207509881422924,
          0.0197628458498023,
          0.0079051383399209,
          0.0019762845849802,
          0.0009881422924901,
          0,
          0,
          0,
          0,
          0,
          0,
          0,
          0,
          0,
          0,
          0,
          0,
          0,
          0,
          0,
          0,
          0,
          0,
          0,
          0
         ],
         "hovertemplate": "Variable: %{y} <br>Percentage of overall feature importance: %{x:.3f} <br>Feature importance: %{customdata:.3f} <br><extra></extra>",
         "name": "Light GBM",
         "orientation": "h",
         "type": "bar",
         "x": [
          0.13537549407114632,
          0.09288537549407118,
          0.07905138339920947,
          0.07015810276679846,
          0.06225296442687746,
          0.06027667984189725,
          0.059288537549407154,
          0.05533596837944665,
          0.04841897233201584,
          0.04644268774703554,
          0.040513833992094836,
          0.03952569169960474,
          0.03853754940711464,
          0.03557312252964424,
          0.033596837944664025,
          0.02964426877470353,
          0.021739130434782622,
          0.02075098814229242,
          0.019762845849802316,
          0.007905138339920906,
          0.001976284584980202,
          0.000988142292490101,
          0,
          0,
          0,
          0,
          0,
          0,
          0,
          0,
          0,
          0,
          0,
          0,
          0,
          0,
          0,
          0,
          0,
          0,
          0,
          0
         ],
         "y": [
          "Age when attended assessment centre",
          "Creatinine",
          "Cystatin C",
          "Alanine aminotransferase",
          "Triglycerides",
          "Vitamin D",
          "IGF-1",
          "Urate",
          "Gamma glutamyltransferase",
          "Total bilirubin",
          "Cholesterol",
          "C-reactive protein",
          "Aspartate aminotransferase",
          "Urea",
          "Sex",
          "Alkaline phosphatase",
          "LDL direct",
          "Ethnicity.White",
          "Apolipoprotein B",
          "Ethnicity.Irish",
          "Ethnicity.Other",
          "Ethnicity.British",
          "Ethnicity.Asian_Other",
          "Ethnicity.Prefer_not_to_answer",
          "Ethnicity.Do_not_know",
          "Ethnicity.Other_ethnicity",
          "Ethnicity.Chinese",
          "Ethnicity.Black_Other",
          "Ethnicity.African",
          "Ethnicity.Caribbean",
          "Ethnicity.Black",
          "Ethnicity.White_Other",
          "Ethnicity.Bangladeshi",
          "Ethnicity.Pakistani",
          "Ethnicity.Indian",
          "Ethnicity.Asian",
          "Ethnicity.Mixed_Other",
          "Ethnicity.White_and_Asian",
          "Ethnicity.White_and_Black_African",
          "Ethnicity.White_and_Black_Caribbean",
          "Ethnicity.Mixed",
          "Ethnicity.NA"
         ]
        },
        {
         "customdata": [
          0.0282795576696613,
          0.043031562373126,
          0.022059676656014,
          0.0144895301023024,
          0.0049136978483914,
          0.0052063914372658,
          0.0106638768650563,
          0.0069933941366236,
          0.0097091660809198,
          0.0033532678460206,
          0.0183520507451389,
          0.0042607942991618,
          0.0059943178884508,
          0.0055565948531776,
          0.0490447589323816,
          0.0047892700805683,
          0.0304610931856645,
          0.0024717299151002,
          0.0047351015836731,
          0.0013949891620745,
          0.0001595619838641,
          0.0002645760357038,
          0.0001569667986867,
          0.0005918571783029,
          0.000035716808691410584,
          0.0009925022823502,
          0.0001138674207733,
          0.00006162418414179527,
          0.0015961719517307,
          0.0001337920278317,
          0.0025667935940104,
          0.0011510065175122,
          0.0002713854285356,
          0.0001040214946232,
          0.0006898308875764,
          0.0005958537577633,
          0.0004051917036214,
          0.0003254215303022,
          0.00006858907431139816,
          0.0005546807397598,
          0.0004306169143852,
          0.00004307171222439621
         ],
         "hovertemplate": "Variable: %{y} <br>Percentage of overall feature importance: %{x:.3f} <br>Feature importance: %{customdata:.3f} <br><extra></extra>",
         "name": "Neural Network",
         "orientation": "h",
         "type": "bar",
         "x": [
          0.09850967131890188,
          0.14989714886039934,
          0.07684319260468894,
          0.05047316738883913,
          0.01711648978600271,
          0.01813606546586207,
          0.03714679759962877,
          0.02436095238297896,
          0.03382113576826308,
          0.011680851490478341,
          0.06392796195928244,
          0.014842150321826689,
          0.02088074685856197,
          0.019355972219680873,
          0.17084365812152938,
          0.016683055195038505,
          0.10610888305913842,
          0.008610081684086474,
          0.01649436338849339,
          0.004859337810534969,
          0.0005558219392627677,
          0.0009216303387941761,
          0.0005467818106361581,
          0.002061689110678713,
          0.0001244167651365211,
          0.003457305618413838,
          0.0003966484315397437,
          0.00021466312153871974,
          0.005560142636252366,
          0.0004660542728689714,
          0.00894122872228276,
          0.004009442971156582,
          0.0009453503367367725,
          0.000362350902554095,
          0.0024029730165716343,
          0.002075610888863605,
          0.001411454238823251,
          0.0011335809550004087,
          0.00023892478253760793,
          0.0019321878368445385,
          0.0015000210115009842,
          0.00015003700778953578
         ],
         "y": [
          "Age when attended assessment centre",
          "Creatinine",
          "Cystatin C",
          "Alanine aminotransferase",
          "Triglycerides",
          "Vitamin D",
          "IGF-1",
          "Urate",
          "Gamma glutamyltransferase",
          "Total bilirubin",
          "Cholesterol",
          "C-reactive protein",
          "Aspartate aminotransferase",
          "Urea",
          "Sex",
          "Alkaline phosphatase",
          "LDL direct",
          "Ethnicity.White",
          "Apolipoprotein B",
          "Ethnicity.Irish",
          "Ethnicity.Other",
          "Ethnicity.British",
          "Ethnicity.Asian_Other",
          "Ethnicity.Prefer_not_to_answer",
          "Ethnicity.Do_not_know",
          "Ethnicity.Other_ethnicity",
          "Ethnicity.Chinese",
          "Ethnicity.Black_Other",
          "Ethnicity.African",
          "Ethnicity.Caribbean",
          "Ethnicity.Black",
          "Ethnicity.White_Other",
          "Ethnicity.Bangladeshi",
          "Ethnicity.Pakistani",
          "Ethnicity.Indian",
          "Ethnicity.Asian",
          "Ethnicity.Mixed_Other",
          "Ethnicity.White_and_Asian",
          "Ethnicity.White_and_Black_African",
          "Ethnicity.White_and_Black_Caribbean",
          "Ethnicity.Mixed",
          "Ethnicity.NA"
         ]
        },
        {
         "customdata": [
          -0.0046882470004945,
          0.0039079379604604,
          -0.0438921143248534,
          0.0276167182729297,
          0.0164741955724374,
          -0.0235845422281859,
          0.0377257132880848,
          -0.035475946355096,
          -0.0169219717422631,
          -0.0097028179146586,
          0.0113071958355132,
          -0.0148831384390358,
          0.0258635942504169,
          0.0019183140112218,
          -0.0643685437765642,
          -0.0080659284493611,
          0.0119302521501731,
          -0.075565566707976,
          0.0060564247049888,
          -0.0180415989553855,
          0.020173826717213,
          -0.036156478009951,
          0.0146730156432239,
          0.0003564190363412,
          -0.007933974653196,
          0.0263575591637753,
          0.0266635241792284,
          0.0010205449137617,
          0.0444808533854635,
          0.0372332048223015,
          0.0574803887820624,
          0.00007377869582919007,
          0.008992525725025,
          0.0053207919720767,
          0.0341392246221637,
          0.0368618903714794,
          0.0159034259071665,
          0.0115371435714864,
          0.0082050403897039,
          0.0177635048175205,
          0.0260266172769794,
          -0.0020923204670506
         ],
         "hovertemplate": "Variable: %{y} <br>Percentage of overall feature importance: %{x:.3f} <br>Feature importance: %{customdata:.3f} <br><extra></extra>",
         "name": "Correlation",
         "orientation": "h",
         "type": "bar",
         "x": [
          0.005224041316117465,
          0.0043545549891282655,
          0.048908305953291334,
          0.030772883181740155,
          0.018356942010763273,
          0.02627989161167592,
          0.04203718039518167,
          0.03953029980456247,
          0.018855892089821726,
          0.010811700335668075,
          0.012599433905236195,
          0.016584051589179964,
          0.028819404125513187,
          0.0021375477125784303,
          0.07172487544099515,
          0.008987739653620049,
          0.013293695945975067,
          0.08420154537861581,
          0.006748580627999943,
          0.02010347542307698,
          0.022479383928320974,
          0.04028860573031964,
          0.016349914998965393,
          0.00039715223440676424,
          0.00884070557394969,
          0.02936982160902557,
          0.02971075370621348,
          0.0011371774554289316,
          0.04956432880718853,
          0.041488385808736414,
          0.064049510580888,
          0.00008221046272099127,
          0.010020232705065402,
          0.005928876420901666,
          0.03804081139658099,
          0.04107463584373638,
          0.01772094217691339,
          0.012855661120471434,
          0.00914274994293275,
          0.019793599414875282,
          0.029001058169370344,
          0.0023314404222468717
         ],
         "y": [
          "Age when attended assessment centre",
          "Creatinine",
          "Cystatin C",
          "Alanine aminotransferase",
          "Triglycerides",
          "Vitamin D",
          "IGF-1",
          "Urate",
          "Gamma glutamyltransferase",
          "Total bilirubin",
          "Cholesterol",
          "C-reactive protein",
          "Aspartate aminotransferase",
          "Urea",
          "Sex",
          "Alkaline phosphatase",
          "LDL direct",
          "Ethnicity.White",
          "Apolipoprotein B",
          "Ethnicity.Irish",
          "Ethnicity.Other",
          "Ethnicity.British",
          "Ethnicity.Asian_Other",
          "Ethnicity.Prefer_not_to_answer",
          "Ethnicity.Do_not_know",
          "Ethnicity.Other_ethnicity",
          "Ethnicity.Chinese",
          "Ethnicity.Black_Other",
          "Ethnicity.African",
          "Ethnicity.Caribbean",
          "Ethnicity.Black",
          "Ethnicity.White_Other",
          "Ethnicity.Bangladeshi",
          "Ethnicity.Pakistani",
          "Ethnicity.Indian",
          "Ethnicity.Asian",
          "Ethnicity.Mixed_Other",
          "Ethnicity.White_and_Asian",
          "Ethnicity.White_and_Black_African",
          "Ethnicity.White_and_Black_Caribbean",
          "Ethnicity.Mixed",
          "Ethnicity.NA"
         ]
        }
       ],
       "layout": {
        "height": 800,
        "template": {
         "data": {
          "bar": [
           {
            "error_x": {
             "color": "#2a3f5f"
            },
            "error_y": {
             "color": "#2a3f5f"
            },
            "marker": {
             "line": {
              "color": "#E5ECF6",
              "width": 0.5
             }
            },
            "type": "bar"
           }
          ],
          "barpolar": [
           {
            "marker": {
             "line": {
              "color": "#E5ECF6",
              "width": 0.5
             }
            },
            "type": "barpolar"
           }
          ],
          "carpet": [
           {
            "aaxis": {
             "endlinecolor": "#2a3f5f",
             "gridcolor": "white",
             "linecolor": "white",
             "minorgridcolor": "white",
             "startlinecolor": "#2a3f5f"
            },
            "baxis": {
             "endlinecolor": "#2a3f5f",
             "gridcolor": "white",
             "linecolor": "white",
             "minorgridcolor": "white",
             "startlinecolor": "#2a3f5f"
            },
            "type": "carpet"
           }
          ],
          "choropleth": [
           {
            "colorbar": {
             "outlinewidth": 0,
             "ticks": ""
            },
            "type": "choropleth"
           }
          ],
          "contour": [
           {
            "colorbar": {
             "outlinewidth": 0,
             "ticks": ""
            },
            "colorscale": [
             [
              0,
              "#0d0887"
             ],
             [
              0.1111111111111111,
              "#46039f"
             ],
             [
              0.2222222222222222,
              "#7201a8"
             ],
             [
              0.3333333333333333,
              "#9c179e"
             ],
             [
              0.4444444444444444,
              "#bd3786"
             ],
             [
              0.5555555555555556,
              "#d8576b"
             ],
             [
              0.6666666666666666,
              "#ed7953"
             ],
             [
              0.7777777777777778,
              "#fb9f3a"
             ],
             [
              0.8888888888888888,
              "#fdca26"
             ],
             [
              1,
              "#f0f921"
             ]
            ],
            "type": "contour"
           }
          ],
          "contourcarpet": [
           {
            "colorbar": {
             "outlinewidth": 0,
             "ticks": ""
            },
            "type": "contourcarpet"
           }
          ],
          "heatmap": [
           {
            "colorbar": {
             "outlinewidth": 0,
             "ticks": ""
            },
            "colorscale": [
             [
              0,
              "#0d0887"
             ],
             [
              0.1111111111111111,
              "#46039f"
             ],
             [
              0.2222222222222222,
              "#7201a8"
             ],
             [
              0.3333333333333333,
              "#9c179e"
             ],
             [
              0.4444444444444444,
              "#bd3786"
             ],
             [
              0.5555555555555556,
              "#d8576b"
             ],
             [
              0.6666666666666666,
              "#ed7953"
             ],
             [
              0.7777777777777778,
              "#fb9f3a"
             ],
             [
              0.8888888888888888,
              "#fdca26"
             ],
             [
              1,
              "#f0f921"
             ]
            ],
            "type": "heatmap"
           }
          ],
          "heatmapgl": [
           {
            "colorbar": {
             "outlinewidth": 0,
             "ticks": ""
            },
            "colorscale": [
             [
              0,
              "#0d0887"
             ],
             [
              0.1111111111111111,
              "#46039f"
             ],
             [
              0.2222222222222222,
              "#7201a8"
             ],
             [
              0.3333333333333333,
              "#9c179e"
             ],
             [
              0.4444444444444444,
              "#bd3786"
             ],
             [
              0.5555555555555556,
              "#d8576b"
             ],
             [
              0.6666666666666666,
              "#ed7953"
             ],
             [
              0.7777777777777778,
              "#fb9f3a"
             ],
             [
              0.8888888888888888,
              "#fdca26"
             ],
             [
              1,
              "#f0f921"
             ]
            ],
            "type": "heatmapgl"
           }
          ],
          "histogram": [
           {
            "marker": {
             "colorbar": {
              "outlinewidth": 0,
              "ticks": ""
             }
            },
            "type": "histogram"
           }
          ],
          "histogram2d": [
           {
            "colorbar": {
             "outlinewidth": 0,
             "ticks": ""
            },
            "colorscale": [
             [
              0,
              "#0d0887"
             ],
             [
              0.1111111111111111,
              "#46039f"
             ],
             [
              0.2222222222222222,
              "#7201a8"
             ],
             [
              0.3333333333333333,
              "#9c179e"
             ],
             [
              0.4444444444444444,
              "#bd3786"
             ],
             [
              0.5555555555555556,
              "#d8576b"
             ],
             [
              0.6666666666666666,
              "#ed7953"
             ],
             [
              0.7777777777777778,
              "#fb9f3a"
             ],
             [
              0.8888888888888888,
              "#fdca26"
             ],
             [
              1,
              "#f0f921"
             ]
            ],
            "type": "histogram2d"
           }
          ],
          "histogram2dcontour": [
           {
            "colorbar": {
             "outlinewidth": 0,
             "ticks": ""
            },
            "colorscale": [
             [
              0,
              "#0d0887"
             ],
             [
              0.1111111111111111,
              "#46039f"
             ],
             [
              0.2222222222222222,
              "#7201a8"
             ],
             [
              0.3333333333333333,
              "#9c179e"
             ],
             [
              0.4444444444444444,
              "#bd3786"
             ],
             [
              0.5555555555555556,
              "#d8576b"
             ],
             [
              0.6666666666666666,
              "#ed7953"
             ],
             [
              0.7777777777777778,
              "#fb9f3a"
             ],
             [
              0.8888888888888888,
              "#fdca26"
             ],
             [
              1,
              "#f0f921"
             ]
            ],
            "type": "histogram2dcontour"
           }
          ],
          "mesh3d": [
           {
            "colorbar": {
             "outlinewidth": 0,
             "ticks": ""
            },
            "type": "mesh3d"
           }
          ],
          "parcoords": [
           {
            "line": {
             "colorbar": {
              "outlinewidth": 0,
              "ticks": ""
             }
            },
            "type": "parcoords"
           }
          ],
          "pie": [
           {
            "automargin": true,
            "type": "pie"
           }
          ],
          "scatter": [
           {
            "marker": {
             "colorbar": {
              "outlinewidth": 0,
              "ticks": ""
             }
            },
            "type": "scatter"
           }
          ],
          "scatter3d": [
           {
            "line": {
             "colorbar": {
              "outlinewidth": 0,
              "ticks": ""
             }
            },
            "marker": {
             "colorbar": {
              "outlinewidth": 0,
              "ticks": ""
             }
            },
            "type": "scatter3d"
           }
          ],
          "scattercarpet": [
           {
            "marker": {
             "colorbar": {
              "outlinewidth": 0,
              "ticks": ""
             }
            },
            "type": "scattercarpet"
           }
          ],
          "scattergeo": [
           {
            "marker": {
             "colorbar": {
              "outlinewidth": 0,
              "ticks": ""
             }
            },
            "type": "scattergeo"
           }
          ],
          "scattergl": [
           {
            "marker": {
             "colorbar": {
              "outlinewidth": 0,
              "ticks": ""
             }
            },
            "type": "scattergl"
           }
          ],
          "scattermapbox": [
           {
            "marker": {
             "colorbar": {
              "outlinewidth": 0,
              "ticks": ""
             }
            },
            "type": "scattermapbox"
           }
          ],
          "scatterpolar": [
           {
            "marker": {
             "colorbar": {
              "outlinewidth": 0,
              "ticks": ""
             }
            },
            "type": "scatterpolar"
           }
          ],
          "scatterpolargl": [
           {
            "marker": {
             "colorbar": {
              "outlinewidth": 0,
              "ticks": ""
             }
            },
            "type": "scatterpolargl"
           }
          ],
          "scatterternary": [
           {
            "marker": {
             "colorbar": {
              "outlinewidth": 0,
              "ticks": ""
             }
            },
            "type": "scatterternary"
           }
          ],
          "surface": [
           {
            "colorbar": {
             "outlinewidth": 0,
             "ticks": ""
            },
            "colorscale": [
             [
              0,
              "#0d0887"
             ],
             [
              0.1111111111111111,
              "#46039f"
             ],
             [
              0.2222222222222222,
              "#7201a8"
             ],
             [
              0.3333333333333333,
              "#9c179e"
             ],
             [
              0.4444444444444444,
              "#bd3786"
             ],
             [
              0.5555555555555556,
              "#d8576b"
             ],
             [
              0.6666666666666666,
              "#ed7953"
             ],
             [
              0.7777777777777778,
              "#fb9f3a"
             ],
             [
              0.8888888888888888,
              "#fdca26"
             ],
             [
              1,
              "#f0f921"
             ]
            ],
            "type": "surface"
           }
          ],
          "table": [
           {
            "cells": {
             "fill": {
              "color": "#EBF0F8"
             },
             "line": {
              "color": "white"
             }
            },
            "header": {
             "fill": {
              "color": "#C8D4E3"
             },
             "line": {
              "color": "white"
             }
            },
            "type": "table"
           }
          ]
         },
         "layout": {
          "annotationdefaults": {
           "arrowcolor": "#2a3f5f",
           "arrowhead": 0,
           "arrowwidth": 1
          },
          "autotypenumbers": "strict",
          "coloraxis": {
           "colorbar": {
            "outlinewidth": 0,
            "ticks": ""
           }
          },
          "colorscale": {
           "diverging": [
            [
             0,
             "#8e0152"
            ],
            [
             0.1,
             "#c51b7d"
            ],
            [
             0.2,
             "#de77ae"
            ],
            [
             0.3,
             "#f1b6da"
            ],
            [
             0.4,
             "#fde0ef"
            ],
            [
             0.5,
             "#f7f7f7"
            ],
            [
             0.6,
             "#e6f5d0"
            ],
            [
             0.7,
             "#b8e186"
            ],
            [
             0.8,
             "#7fbc41"
            ],
            [
             0.9,
             "#4d9221"
            ],
            [
             1,
             "#276419"
            ]
           ],
           "sequential": [
            [
             0,
             "#0d0887"
            ],
            [
             0.1111111111111111,
             "#46039f"
            ],
            [
             0.2222222222222222,
             "#7201a8"
            ],
            [
             0.3333333333333333,
             "#9c179e"
            ],
            [
             0.4444444444444444,
             "#bd3786"
            ],
            [
             0.5555555555555556,
             "#d8576b"
            ],
            [
             0.6666666666666666,
             "#ed7953"
            ],
            [
             0.7777777777777778,
             "#fb9f3a"
            ],
            [
             0.8888888888888888,
             "#fdca26"
            ],
            [
             1,
             "#f0f921"
            ]
           ],
           "sequentialminus": [
            [
             0,
             "#0d0887"
            ],
            [
             0.1111111111111111,
             "#46039f"
            ],
            [
             0.2222222222222222,
             "#7201a8"
            ],
            [
             0.3333333333333333,
             "#9c179e"
            ],
            [
             0.4444444444444444,
             "#bd3786"
            ],
            [
             0.5555555555555556,
             "#d8576b"
            ],
            [
             0.6666666666666666,
             "#ed7953"
            ],
            [
             0.7777777777777778,
             "#fb9f3a"
            ],
            [
             0.8888888888888888,
             "#fdca26"
            ],
            [
             1,
             "#f0f921"
            ]
           ]
          },
          "colorway": [
           "#636efa",
           "#EF553B",
           "#00cc96",
           "#ab63fa",
           "#FFA15A",
           "#19d3f3",
           "#FF6692",
           "#B6E880",
           "#FF97FF",
           "#FECB52"
          ],
          "font": {
           "color": "#2a3f5f"
          },
          "geo": {
           "bgcolor": "white",
           "lakecolor": "white",
           "landcolor": "#E5ECF6",
           "showlakes": true,
           "showland": true,
           "subunitcolor": "white"
          },
          "hoverlabel": {
           "align": "left"
          },
          "hovermode": "closest",
          "mapbox": {
           "style": "light"
          },
          "paper_bgcolor": "white",
          "plot_bgcolor": "#E5ECF6",
          "polar": {
           "angularaxis": {
            "gridcolor": "white",
            "linecolor": "white",
            "ticks": ""
           },
           "bgcolor": "#E5ECF6",
           "radialaxis": {
            "gridcolor": "white",
            "linecolor": "white",
            "ticks": ""
           }
          },
          "scene": {
           "xaxis": {
            "backgroundcolor": "#E5ECF6",
            "gridcolor": "white",
            "gridwidth": 2,
            "linecolor": "white",
            "showbackground": true,
            "ticks": "",
            "zerolinecolor": "white"
           },
           "yaxis": {
            "backgroundcolor": "#E5ECF6",
            "gridcolor": "white",
            "gridwidth": 2,
            "linecolor": "white",
            "showbackground": true,
            "ticks": "",
            "zerolinecolor": "white"
           },
           "zaxis": {
            "backgroundcolor": "#E5ECF6",
            "gridcolor": "white",
            "gridwidth": 2,
            "linecolor": "white",
            "showbackground": true,
            "ticks": "",
            "zerolinecolor": "white"
           }
          },
          "shapedefaults": {
           "line": {
            "color": "#2a3f5f"
           }
          },
          "ternary": {
           "aaxis": {
            "gridcolor": "white",
            "linecolor": "white",
            "ticks": ""
           },
           "baxis": {
            "gridcolor": "white",
            "linecolor": "white",
            "ticks": ""
           },
           "bgcolor": "#E5ECF6",
           "caxis": {
            "gridcolor": "white",
            "linecolor": "white",
            "ticks": ""
           }
          },
          "title": {
           "x": 0.05
          },
          "xaxis": {
           "automargin": true,
           "gridcolor": "white",
           "linecolor": "white",
           "ticks": "",
           "title": {
            "standoff": 15
           },
           "zerolinecolor": "white",
           "zerolinewidth": 2
          },
          "yaxis": {
           "automargin": true,
           "gridcolor": "white",
           "linecolor": "white",
           "ticks": "",
           "title": {
            "standoff": 15
           },
           "zerolinecolor": "white",
           "zerolinewidth": 2
          }
         }
        },
        "width": 1000,
        "xaxis": {
         "showgrid": false,
         "title": {
          "text": "Percentage of overall feature importance"
         }
        },
        "yaxis": {
         "showgrid": false,
         "title": {
          "text": "Variables"
         }
        }
       }
      }
     },
     "metadata": {}
    }
   ],
   "source": [
    "bars = []\n",
    "hovertemplate = \"Variable: %{y} <br>Percentage of overall feature importance: %{x:.3f} <br>Feature importance: %{customdata:.3f} <br><extra></extra>\"\n",
    "\n",
    "for algorithm in algorithms:\n",
    "    bars.append(go.Bar(name=ALGORITHMS_RENDERING[algorithm], x=table_features[f\"percentage_{algorithm}\"], y=sorted_variables, orientation=\"h\", customdata=table_features[f\"feature_{algorithm}\"], hovertemplate=hovertemplate))\n",
    "\n",
    "\n",
    "fig = go.Figure(bars)\n",
    "\n",
    "fig.update_layout(\n",
    "    {\n",
    "        \"width\": 1000,\n",
    "        \"height\": 800,\n",
    "        \"xaxis\": {\"title\": \"Percentage of overall feature importance\", \"showgrid\": False},\n",
    "        \"yaxis\": {\"title\": \"Variables\", \"showgrid\": False},\n",
    "    }\n",
    ")\n",
    "\n",
    "fig.show()"
   ]
  },
  {
   "cell_type": "code",
   "execution_count": 23,
   "metadata": {},
   "outputs": [
    {
     "output_type": "execute_result",
     "data": {
      "text/plain": [
       "                              Percentage Correlation  Percentage Elastic Net  \\\n",
       "0     Percentage Correlation                   1.000                   0.344   \n",
       "1     Percentage Elastic Net                   0.344                   1.000   \n",
       "2       Percentage Light GBM                   0.163                   0.073   \n",
       "3  Percentage Neural Network                   0.297                   0.620   \n",
       "\n",
       "   Percentage Light GBM  Percentage Neural Network  \n",
       "0                 0.163                      0.297  \n",
       "1                 0.073                      0.620  \n",
       "2                 1.000                      0.052  \n",
       "3                 0.052                      1.000  "
      ],
      "text/html": "<div>\n<style scoped>\n    .dataframe tbody tr th:only-of-type {\n        vertical-align: middle;\n    }\n\n    .dataframe tbody tr th {\n        vertical-align: top;\n    }\n\n    .dataframe thead th {\n        text-align: right;\n    }\n</style>\n<table border=\"1\" class=\"dataframe\">\n  <thead>\n    <tr style=\"text-align: right;\">\n      <th></th>\n      <th></th>\n      <th>Percentage Correlation</th>\n      <th>Percentage Elastic Net</th>\n      <th>Percentage Light GBM</th>\n      <th>Percentage Neural Network</th>\n    </tr>\n  </thead>\n  <tbody>\n    <tr>\n      <th>0</th>\n      <td>Percentage Correlation</td>\n      <td>1.000</td>\n      <td>0.344</td>\n      <td>0.163</td>\n      <td>0.297</td>\n    </tr>\n    <tr>\n      <th>1</th>\n      <td>Percentage Elastic Net</td>\n      <td>0.344</td>\n      <td>1.000</td>\n      <td>0.073</td>\n      <td>0.620</td>\n    </tr>\n    <tr>\n      <th>2</th>\n      <td>Percentage Light GBM</td>\n      <td>0.163</td>\n      <td>0.073</td>\n      <td>1.000</td>\n      <td>0.052</td>\n    </tr>\n    <tr>\n      <th>3</th>\n      <td>Percentage Neural Network</td>\n      <td>0.297</td>\n      <td>0.620</td>\n      <td>0.052</td>\n      <td>1.000</td>\n    </tr>\n  </tbody>\n</table>\n</div>"
     },
     "metadata": {},
     "execution_count": 23
    }
   ],
   "source": [
    "table_correlations = table_features[[f\"percentage_{'correlation'}\", f\"percentage_{'elastic_net'}\", f\"percentage_{'light_gbm'}\", f\"percentage_{'neural_network'}\"]]\n",
    "\n",
    "table_correlations.corr(method=\"spearman\").round(3).rename(index=FEATURES_CORRELATIONS_TABLE_COLUMNS).reset_index().rename(columns=FEATURES_CORRELATIONS_TABLE_COLUMNS)"
   ]
  },
  {
   "cell_type": "code",
   "execution_count": 24,
   "metadata": {},
   "outputs": [
    {
     "output_type": "execute_result",
     "data": {
      "text/plain": [
       "                            r2       std       algorithm\n",
       "dimension category                                      \n",
       "HeartECG  BloodCount  0.033416  0.028906     elastic_net\n",
       "          BloodCount  0.031667  0.029463       light_gbm\n",
       "          BloodCount  0.029556  0.028107  neural_network"
      ],
      "text/html": "<div>\n<style scoped>\n    .dataframe tbody tr th:only-of-type {\n        vertical-align: middle;\n    }\n\n    .dataframe tbody tr th {\n        vertical-align: top;\n    }\n\n    .dataframe thead th {\n        text-align: right;\n    }\n</style>\n<table border=\"1\" class=\"dataframe\">\n  <thead>\n    <tr style=\"text-align: right;\">\n      <th></th>\n      <th></th>\n      <th>r2</th>\n      <th>std</th>\n      <th>algorithm</th>\n    </tr>\n    <tr>\n      <th>dimension</th>\n      <th>category</th>\n      <th></th>\n      <th></th>\n      <th></th>\n    </tr>\n  </thead>\n  <tbody>\n    <tr>\n      <th rowspan=\"3\" valign=\"top\">HeartECG</th>\n      <th>BloodCount</th>\n      <td>0.033416</td>\n      <td>0.028906</td>\n      <td>elastic_net</td>\n    </tr>\n    <tr>\n      <th>BloodCount</th>\n      <td>0.031667</td>\n      <td>0.029463</td>\n      <td>light_gbm</td>\n    </tr>\n    <tr>\n      <th>BloodCount</th>\n      <td>0.029556</td>\n      <td>0.028107</td>\n      <td>neural_network</td>\n    </tr>\n  </tbody>\n</table>\n</div>"
     },
     "metadata": {},
     "execution_count": 24
    }
   ],
   "source": [
    "scores"
   ]
  },
  {
   "cell_type": "code",
   "execution_count": 26,
   "metadata": {},
   "outputs": [
    {
     "output_type": "execute_result",
     "data": {
      "text/plain": [
       "'R² : Elastic Net 0.033 +- 0.029, Light GBM 0.032 +- 0.029, Neural Network 0.03 +- 0.028'"
      ]
     },
     "metadata": {},
     "execution_count": 26
    }
   ],
   "source": [
    "scores_algorithm = scores.reset_index().set_index(\"algorithm\").round(3)\n",
    "f\"R² : Elastic Net {scores_algorithm.loc['elastic_net', 'r2']} +- {scores_algorithm.loc['elastic_net', 'std']}, Light GBM {scores_algorithm.loc['light_gbm', 'r2']} +- {scores_algorithm.loc['light_gbm', 'std']}, Neural Network {scores_algorithm.loc['neural_network', 'r2']} +- {scores_algorithm.loc['neural_network', 'std']}\""
   ]
  },
  {
   "cell_type": "code",
   "execution_count": 28,
   "metadata": {},
   "outputs": [
    {
     "output_type": "execute_result",
     "data": {
      "text/plain": [
       "                            r2       std       algorithm\n",
       "dimension category                                      \n",
       "HeartECG  BloodCount  0.033416  0.028906     elastic_net\n",
       "          BloodCount  0.031667  0.029463       light_gbm\n",
       "          BloodCount  0.029556  0.028107  neural_network"
      ],
      "text/html": "<div>\n<style scoped>\n    .dataframe tbody tr th:only-of-type {\n        vertical-align: middle;\n    }\n\n    .dataframe tbody tr th {\n        vertical-align: top;\n    }\n\n    .dataframe thead th {\n        text-align: right;\n    }\n</style>\n<table border=\"1\" class=\"dataframe\">\n  <thead>\n    <tr style=\"text-align: right;\">\n      <th></th>\n      <th></th>\n      <th>r2</th>\n      <th>std</th>\n      <th>algorithm</th>\n    </tr>\n    <tr>\n      <th>dimension</th>\n      <th>category</th>\n      <th></th>\n      <th></th>\n      <th></th>\n    </tr>\n  </thead>\n  <tbody>\n    <tr>\n      <th rowspan=\"3\" valign=\"top\">HeartECG</th>\n      <th>BloodCount</th>\n      <td>0.033416</td>\n      <td>0.028906</td>\n      <td>elastic_net</td>\n    </tr>\n    <tr>\n      <th>BloodCount</th>\n      <td>0.031667</td>\n      <td>0.029463</td>\n      <td>light_gbm</td>\n    </tr>\n    <tr>\n      <th>BloodCount</th>\n      <td>0.029556</td>\n      <td>0.028107</td>\n      <td>neural_network</td>\n    </tr>\n  </tbody>\n</table>\n</div>"
     },
     "metadata": {},
     "execution_count": 28
    }
   ],
   "source": [
    "scores[dimension, category]"
   ]
  },
  {
   "cell_type": "code",
   "execution_count": 60,
   "metadata": {},
   "outputs": [],
   "source": [
    "def split_if_necessary(category):\n",
    "    if \"medical_diagnoses\" in category:\n",
    "        return category\n",
    "    else:\n",
    "        return category.split(\"_\")[1]\n",
    "category_scores = pd.read_csv(\"../../Scores_ElasticNet_test.csv\")[\"env_dataset\"].drop_duplicates().apply(split_if_necessary).tolist()"
   ]
  },
  {
   "cell_type": "code",
   "execution_count": 66,
   "metadata": {},
   "outputs": [
    {
     "output_type": "stream",
     "name": "stdout",
     "text": [
      "HeartSize\nAnthropometryImpedance\nAnthropometryBodySize\nClaudification\n"
     ]
    }
   ],
   "source": [
    "from dash_website import MAIN_CATEGORIES_TO_CATEGORIES\n",
    "\n",
    "missing_cats = []\n",
    "for cat in MAIN_CATEGORIES_TO_CATEGORIES[\"All\"]:\n",
    "    if cat not in category_scores:\n",
    "        missing_cats.append(cat)\n",
    "\n",
    "for cat in category_scores:\n",
    "    if cat not in MAIN_CATEGORIES_TO_CATEGORIES[\"All\"]:\n",
    "        print(cat)"
   ]
  },
  {
   "cell_type": "code",
   "execution_count": 68,
   "metadata": {},
   "outputs": [
    {
     "output_type": "execute_result",
     "data": {
      "text/plain": [
       "['Anthropometry',\n",
       " 'BloodBiochemistry',\n",
       " 'Claudication',\n",
       " 'CognitiveFluidIntelligence',\n",
       " 'CognitiveMatrixPatternCompletion',\n",
       " 'CognitiveNumericMemory',\n",
       " 'CognitivePairedAssociativeLearning',\n",
       " 'CognitivePairsMatching',\n",
       " 'CognitiveProspectiveMemory',\n",
       " 'CognitiveReactionTime',\n",
       " 'CognitiveSymbolDigitSubstitution',\n",
       " 'CognitiveTowerRearranging',\n",
       " 'CognitiveTrailMaking',\n",
       " 'Genetics',\n",
       " 'HeartFunction',\n",
       " 'Impedance',\n",
       " 'Phenotypic',\n",
       " 'PhysicalActivity',\n",
       " 'PhysicalActivityQuestionnaire',\n",
       " 'Smoking',\n",
       " 'UrineBiochemistry']"
      ]
     },
     "metadata": {},
     "execution_count": 68
    }
   ],
   "source": [
    "missing_cats"
   ]
  },
  {
   "cell_type": "code",
   "execution_count": null,
   "metadata": {},
   "outputs": [],
   "source": [
    "\n",
    "['BloodBiochemistry',\n",
    " 'CognitiveFluidIntelligence',\n",
    " 'CognitiveMatrixPatternCompletion',\n",
    " 'CognitiveNumericMemory',\n",
    " 'CognitivePairedAssociativeLearning',\n",
    " 'CognitivePairsMatching',\n",
    " 'CognitiveProspectiveMemory',\n",
    " 'CognitiveReactionTime',\n",
    " 'CognitiveSymbolDigitSubstitution',\n",
    " 'CognitiveTowerRearranging',\n",
    " 'CognitiveTrailMaking',\n",
    " 'PhysicalActivityQuestionnaire',\n",
    " 'Smoking',\n",
    " 'UrineBiochemistry']"
   ]
  }
 ]
}