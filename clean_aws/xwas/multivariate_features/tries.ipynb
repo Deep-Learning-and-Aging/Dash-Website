{
 "cells": [
  {
   "cell_type": "code",
   "execution_count": 63,
   "metadata": {},
   "outputs": [
    {
     "data": {
      "text/html": "<div>\n<style scoped>\n    .dataframe tbody tr th:only-of-type {\n        vertical-align: middle;\n    }\n\n    .dataframe tbody tr th {\n        vertical-align: top;\n    }\n\n    .dataframe thead th {\n        text-align: right;\n    }\n</style>\n<table border=\"1\" class=\"dataframe\">\n  <thead>\n    <tr style=\"text-align: right;\">\n      <th></th>\n      <th>env_dataset</th>\n      <th>organ</th>\n      <th>std</th>\n      <th>r2</th>\n      <th>sample_size</th>\n      <th>subset</th>\n    </tr>\n  </thead>\n  <tbody>\n    <tr>\n      <th>0</th>\n      <td>Clusters_BloodBiochemistry</td>\n      <td>\\*</td>\n      <td>0.015237</td>\n      <td>0.053557</td>\n      <td>51741</td>\n      <td>Biomarkers</td>\n    </tr>\n    <tr>\n      <th>1</th>\n      <td>Clusters_BloodBiochemistry</td>\n      <td>*instances01</td>\n      <td>0.051611</td>\n      <td>0.114347</td>\n      <td>4404</td>\n      <td>Biomarkers</td>\n    </tr>\n    <tr>\n      <th>2</th>\n      <td>Clusters_BloodBiochemistry</td>\n      <td>*instances1.5x</td>\n      <td>0.018526</td>\n      <td>0.067659</td>\n      <td>46158</td>\n      <td>Biomarkers</td>\n    </tr>\n    <tr>\n      <th>3</th>\n      <td>Clusters_BloodBiochemistry</td>\n      <td>*instances23</td>\n      <td>0.047081</td>\n      <td>-0.002581</td>\n      <td>1620</td>\n      <td>Biomarkers</td>\n    </tr>\n    <tr>\n      <th>4</th>\n      <td>Clusters_BloodBiochemistry</td>\n      <td>Abdomen</td>\n      <td>0.005339</td>\n      <td>0.031990</td>\n      <td>31749</td>\n      <td>Biomarkers</td>\n    </tr>\n    <tr>\n      <th>...</th>\n      <td>...</td>\n      <td>...</td>\n      <td>...</td>\n      <td>...</td>\n      <td>...</td>\n      <td>...</td>\n    </tr>\n    <tr>\n      <th>2733</th>\n      <td>medical_diagnoses_Z</td>\n      <td>MusculoskeletalHips</td>\n      <td>0.012997</td>\n      <td>0.020127</td>\n      <td>42146</td>\n      <td>Pathologies</td>\n    </tr>\n    <tr>\n      <th>2734</th>\n      <td>medical_diagnoses_Z</td>\n      <td>MusculoskeletalKnees</td>\n      <td>0.007758</td>\n      <td>0.014189</td>\n      <td>39809</td>\n      <td>Pathologies</td>\n    </tr>\n    <tr>\n      <th>2735</th>\n      <td>medical_diagnoses_Z</td>\n      <td>MusculoskeletalFullBody</td>\n      <td>0.006136</td>\n      <td>0.022943</td>\n      <td>42164</td>\n      <td>Pathologies</td>\n    </tr>\n    <tr>\n      <th>2736</th>\n      <td>medical_diagnoses_Z</td>\n      <td>MusculoskeletalScalars</td>\n      <td>0.004127</td>\n      <td>0.064822</td>\n      <td>486642</td>\n      <td>Pathologies</td>\n    </tr>\n    <tr>\n      <th>2737</th>\n      <td>medical_diagnoses_Z</td>\n      <td>PhysicalActivity</td>\n      <td>0.012948</td>\n      <td>0.064513</td>\n      <td>77269</td>\n      <td>Pathologies</td>\n    </tr>\n  </tbody>\n</table>\n<p>2738 rows × 6 columns</p>\n</div>",
      "text/plain": "                     env_dataset                    organ       std        r2  \\\n0     Clusters_BloodBiochemistry                       \\*  0.015237  0.053557   \n1     Clusters_BloodBiochemistry             *instances01  0.051611  0.114347   \n2     Clusters_BloodBiochemistry           *instances1.5x  0.018526  0.067659   \n3     Clusters_BloodBiochemistry             *instances23  0.047081 -0.002581   \n4     Clusters_BloodBiochemistry                  Abdomen  0.005339  0.031990   \n...                          ...                      ...       ...       ...   \n2733         medical_diagnoses_Z      MusculoskeletalHips  0.012997  0.020127   \n2734         medical_diagnoses_Z     MusculoskeletalKnees  0.007758  0.014189   \n2735         medical_diagnoses_Z  MusculoskeletalFullBody  0.006136  0.022943   \n2736         medical_diagnoses_Z   MusculoskeletalScalars  0.004127  0.064822   \n2737         medical_diagnoses_Z         PhysicalActivity  0.012948  0.064513   \n\n      sample_size       subset  \n0           51741   Biomarkers  \n1            4404   Biomarkers  \n2           46158   Biomarkers  \n3            1620   Biomarkers  \n4           31749   Biomarkers  \n...           ...          ...  \n2733        42146  Pathologies  \n2734        39809  Pathologies  \n2735        42164  Pathologies  \n2736       486642  Pathologies  \n2737        77269  Pathologies  \n\n[2738 rows x 6 columns]"
     },
     "execution_count": 63,
     "metadata": {},
     "output_type": "execute_result"
    }
   ],
   "source": [
    "import pandas as pd \n",
    "\n",
    "CAMEL_TO_SNAKE = {\"ElasticNet\": \"elastic_net\", \"LightGbm\": \"light_gbm\", \"NeuralNetwork\": \"neural_network\"}\n",
    "\n",
    "for algorithm in CAMEL_TO_SNAKE.keys():\n",
    "    missing_scores = pd.read_csv(f\"../../../all_data/page7_MultivariateXWASResults/Scores/ScoresMissing_{algorithm}_test.csv\")\n",
    "    old_scores = pd.read_csv(f\"../../../all_data/page7_MultivariateXWASResults/Scores/Old_Scores_{algorithm}_test.csv\")\n",
    "\n",
    "pd.concat((missing_scores, old_scores), ignore_index=True).drop(columns=\"Unnamed: 0\")"
   ]
  },
  {
   "cell_type": "code",
   "execution_count": 69,
   "metadata": {},
   "outputs": [
    {
     "data": {
      "text/html": "<div>\n<style scoped>\n    .dataframe tbody tr th:only-of-type {\n        vertical-align: middle;\n    }\n\n    .dataframe tbody tr th {\n        vertical-align: top;\n    }\n\n    .dataframe thead th {\n        text-align: right;\n    }\n</style>\n<table border=\"1\" class=\"dataframe\">\n  <thead>\n    <tr style=\"text-align: right;\">\n      <th></th>\n      <th>Unnamed: 0</th>\n      <th>env_dataset</th>\n      <th>organ</th>\n      <th>std</th>\n      <th>r2</th>\n      <th>sample_size</th>\n      <th>subset</th>\n    </tr>\n  </thead>\n  <tbody>\n    <tr>\n      <th>0</th>\n      <td>0</td>\n      <td>Clusters_BloodBiochemistry</td>\n      <td>\\*</td>\n      <td>0.015237</td>\n      <td>0.053557</td>\n      <td>51741</td>\n      <td>Biomarkers</td>\n    </tr>\n    <tr>\n      <th>1</th>\n      <td>1</td>\n      <td>Clusters_BloodBiochemistry</td>\n      <td>*instances01</td>\n      <td>0.051611</td>\n      <td>0.114347</td>\n      <td>4404</td>\n      <td>Biomarkers</td>\n    </tr>\n    <tr>\n      <th>2</th>\n      <td>2</td>\n      <td>Clusters_BloodBiochemistry</td>\n      <td>*instances1.5x</td>\n      <td>0.018526</td>\n      <td>0.067659</td>\n      <td>46158</td>\n      <td>Biomarkers</td>\n    </tr>\n    <tr>\n      <th>3</th>\n      <td>3</td>\n      <td>Clusters_BloodBiochemistry</td>\n      <td>*instances23</td>\n      <td>0.047081</td>\n      <td>-0.002581</td>\n      <td>1620</td>\n      <td>Biomarkers</td>\n    </tr>\n    <tr>\n      <th>4</th>\n      <td>4</td>\n      <td>Clusters_BloodBiochemistry</td>\n      <td>Abdomen</td>\n      <td>0.005339</td>\n      <td>0.031990</td>\n      <td>31749</td>\n      <td>Biomarkers</td>\n    </tr>\n    <tr>\n      <th>...</th>\n      <td>...</td>\n      <td>...</td>\n      <td>...</td>\n      <td>...</td>\n      <td>...</td>\n      <td>...</td>\n      <td>...</td>\n    </tr>\n    <tr>\n      <th>457</th>\n      <td>457</td>\n      <td>Clusters_UrineBiochemistry</td>\n      <td>MusculoskeletalHips</td>\n      <td>0.015513</td>\n      <td>0.021290</td>\n      <td>39801</td>\n      <td>Biomarkers</td>\n    </tr>\n    <tr>\n      <th>458</th>\n      <td>458</td>\n      <td>Clusters_UrineBiochemistry</td>\n      <td>MusculoskeletalKnees</td>\n      <td>0.008757</td>\n      <td>0.019792</td>\n      <td>37559</td>\n      <td>Biomarkers</td>\n    </tr>\n    <tr>\n      <th>459</th>\n      <td>459</td>\n      <td>Clusters_UrineBiochemistry</td>\n      <td>MusculoskeletalFullBody</td>\n      <td>0.007825</td>\n      <td>0.026343</td>\n      <td>39816</td>\n      <td>Biomarkers</td>\n    </tr>\n    <tr>\n      <th>460</th>\n      <td>460</td>\n      <td>Clusters_UrineBiochemistry</td>\n      <td>MusculoskeletalScalars</td>\n      <td>0.003954</td>\n      <td>0.062807</td>\n      <td>470446</td>\n      <td>Biomarkers</td>\n    </tr>\n    <tr>\n      <th>461</th>\n      <td>461</td>\n      <td>Clusters_UrineBiochemistry</td>\n      <td>PhysicalActivity</td>\n      <td>0.012006</td>\n      <td>0.058101</td>\n      <td>72116</td>\n      <td>Biomarkers</td>\n    </tr>\n  </tbody>\n</table>\n<p>462 rows × 7 columns</p>\n</div>",
      "text/plain": "     Unnamed: 0                 env_dataset                    organ  \\\n0             0  Clusters_BloodBiochemistry                       \\*   \n1             1  Clusters_BloodBiochemistry             *instances01   \n2             2  Clusters_BloodBiochemistry           *instances1.5x   \n3             3  Clusters_BloodBiochemistry             *instances23   \n4             4  Clusters_BloodBiochemistry                  Abdomen   \n..          ...                         ...                      ...   \n457         457  Clusters_UrineBiochemistry      MusculoskeletalHips   \n458         458  Clusters_UrineBiochemistry     MusculoskeletalKnees   \n459         459  Clusters_UrineBiochemistry  MusculoskeletalFullBody   \n460         460  Clusters_UrineBiochemistry   MusculoskeletalScalars   \n461         461  Clusters_UrineBiochemistry         PhysicalActivity   \n\n          std        r2  sample_size      subset  \n0    0.015237  0.053557        51741  Biomarkers  \n1    0.051611  0.114347         4404  Biomarkers  \n2    0.018526  0.067659        46158  Biomarkers  \n3    0.047081 -0.002581         1620  Biomarkers  \n4    0.005339  0.031990        31749  Biomarkers  \n..        ...       ...          ...         ...  \n457  0.015513  0.021290        39801  Biomarkers  \n458  0.008757  0.019792        37559  Biomarkers  \n459  0.007825  0.026343        39816  Biomarkers  \n460  0.003954  0.062807       470446  Biomarkers  \n461  0.012006  0.058101        72116  Biomarkers  \n\n[462 rows x 7 columns]"
     },
     "execution_count": 69,
     "metadata": {},
     "output_type": "execute_result"
    }
   ],
   "source": [
    "missing_scores"
   ]
  },
  {
   "cell_type": "code",
   "execution_count": 72,
   "metadata": {},
   "outputs": [
    {
     "ename": "KeyError",
     "evalue": "'Clusters_BloodBiochemistry'",
     "output_type": "error",
     "traceback": [
      "\u001b[0;31m---------------------------------------------------------------------------\u001b[0m",
      "\u001b[0;31mKeyError\u001b[0m                                  Traceback (most recent call last)",
      "\u001b[0;32m/workspaces/Dash-Website/env_container/lib/python3.9/site-packages/pandas/core/indexes/base.py\u001b[0m in \u001b[0;36mget_loc\u001b[0;34m(self, key, method, tolerance)\u001b[0m\n\u001b[1;32m   3079\u001b[0m             \u001b[0;32mtry\u001b[0m\u001b[0;34m:\u001b[0m\u001b[0;34m\u001b[0m\u001b[0;34m\u001b[0m\u001b[0m\n\u001b[0;32m-> 3080\u001b[0;31m                 \u001b[0;32mreturn\u001b[0m \u001b[0mself\u001b[0m\u001b[0;34m.\u001b[0m\u001b[0m_engine\u001b[0m\u001b[0;34m.\u001b[0m\u001b[0mget_loc\u001b[0m\u001b[0;34m(\u001b[0m\u001b[0mcasted_key\u001b[0m\u001b[0;34m)\u001b[0m\u001b[0;34m\u001b[0m\u001b[0;34m\u001b[0m\u001b[0m\n\u001b[0m\u001b[1;32m   3081\u001b[0m             \u001b[0;32mexcept\u001b[0m \u001b[0mKeyError\u001b[0m \u001b[0;32mas\u001b[0m \u001b[0merr\u001b[0m\u001b[0;34m:\u001b[0m\u001b[0;34m\u001b[0m\u001b[0;34m\u001b[0m\u001b[0m\n",
      "\u001b[0;32mpandas/_libs/index.pyx\u001b[0m in \u001b[0;36mpandas._libs.index.IndexEngine.get_loc\u001b[0;34m()\u001b[0m\n",
      "\u001b[0;32mpandas/_libs/index.pyx\u001b[0m in \u001b[0;36mpandas._libs.index.IndexEngine.get_loc\u001b[0;34m()\u001b[0m\n",
      "\u001b[0;32mpandas/_libs/hashtable_class_helper.pxi\u001b[0m in \u001b[0;36mpandas._libs.hashtable.PyObjectHashTable.get_item\u001b[0;34m()\u001b[0m\n",
      "\u001b[0;32mpandas/_libs/hashtable_class_helper.pxi\u001b[0m in \u001b[0;36mpandas._libs.hashtable.PyObjectHashTable.get_item\u001b[0;34m()\u001b[0m\n",
      "\u001b[0;31mKeyError\u001b[0m: 'Clusters_BloodBiochemistry'",
      "\nThe above exception was the direct cause of the following exception:\n",
      "\u001b[0;31mKeyError\u001b[0m                                  Traceback (most recent call last)",
      "\u001b[0;32m<ipython-input-72-269162b4f1df>\u001b[0m in \u001b[0;36m<module>\u001b[0;34m\u001b[0m\n\u001b[0;32m----> 1\u001b[0;31m \u001b[0mold_scores\u001b[0m\u001b[0;34m.\u001b[0m\u001b[0mset_index\u001b[0m\u001b[0;34m(\u001b[0m\u001b[0;34m\"env_dataset\"\u001b[0m\u001b[0;34m)\u001b[0m\u001b[0;34m[\u001b[0m\u001b[0;34m\"Clusters_BloodBiochemistry\"\u001b[0m\u001b[0;34m]\u001b[0m\u001b[0;34m\u001b[0m\u001b[0;34m\u001b[0m\u001b[0m\n\u001b[0m",
      "\u001b[0;32m/workspaces/Dash-Website/env_container/lib/python3.9/site-packages/pandas/core/frame.py\u001b[0m in \u001b[0;36m__getitem__\u001b[0;34m(self, key)\u001b[0m\n\u001b[1;32m   3022\u001b[0m             \u001b[0;32mif\u001b[0m \u001b[0mself\u001b[0m\u001b[0;34m.\u001b[0m\u001b[0mcolumns\u001b[0m\u001b[0;34m.\u001b[0m\u001b[0mnlevels\u001b[0m \u001b[0;34m>\u001b[0m \u001b[0;36m1\u001b[0m\u001b[0;34m:\u001b[0m\u001b[0;34m\u001b[0m\u001b[0;34m\u001b[0m\u001b[0m\n\u001b[1;32m   3023\u001b[0m                 \u001b[0;32mreturn\u001b[0m \u001b[0mself\u001b[0m\u001b[0;34m.\u001b[0m\u001b[0m_getitem_multilevel\u001b[0m\u001b[0;34m(\u001b[0m\u001b[0mkey\u001b[0m\u001b[0;34m)\u001b[0m\u001b[0;34m\u001b[0m\u001b[0;34m\u001b[0m\u001b[0m\n\u001b[0;32m-> 3024\u001b[0;31m             \u001b[0mindexer\u001b[0m \u001b[0;34m=\u001b[0m \u001b[0mself\u001b[0m\u001b[0;34m.\u001b[0m\u001b[0mcolumns\u001b[0m\u001b[0;34m.\u001b[0m\u001b[0mget_loc\u001b[0m\u001b[0;34m(\u001b[0m\u001b[0mkey\u001b[0m\u001b[0;34m)\u001b[0m\u001b[0;34m\u001b[0m\u001b[0;34m\u001b[0m\u001b[0m\n\u001b[0m\u001b[1;32m   3025\u001b[0m             \u001b[0;32mif\u001b[0m \u001b[0mis_integer\u001b[0m\u001b[0;34m(\u001b[0m\u001b[0mindexer\u001b[0m\u001b[0;34m)\u001b[0m\u001b[0;34m:\u001b[0m\u001b[0;34m\u001b[0m\u001b[0;34m\u001b[0m\u001b[0m\n\u001b[1;32m   3026\u001b[0m                 \u001b[0mindexer\u001b[0m \u001b[0;34m=\u001b[0m \u001b[0;34m[\u001b[0m\u001b[0mindexer\u001b[0m\u001b[0;34m]\u001b[0m\u001b[0;34m\u001b[0m\u001b[0;34m\u001b[0m\u001b[0m\n",
      "\u001b[0;32m/workspaces/Dash-Website/env_container/lib/python3.9/site-packages/pandas/core/indexes/base.py\u001b[0m in \u001b[0;36mget_loc\u001b[0;34m(self, key, method, tolerance)\u001b[0m\n\u001b[1;32m   3080\u001b[0m                 \u001b[0;32mreturn\u001b[0m \u001b[0mself\u001b[0m\u001b[0;34m.\u001b[0m\u001b[0m_engine\u001b[0m\u001b[0;34m.\u001b[0m\u001b[0mget_loc\u001b[0m\u001b[0;34m(\u001b[0m\u001b[0mcasted_key\u001b[0m\u001b[0;34m)\u001b[0m\u001b[0;34m\u001b[0m\u001b[0;34m\u001b[0m\u001b[0m\n\u001b[1;32m   3081\u001b[0m             \u001b[0;32mexcept\u001b[0m \u001b[0mKeyError\u001b[0m \u001b[0;32mas\u001b[0m \u001b[0merr\u001b[0m\u001b[0;34m:\u001b[0m\u001b[0;34m\u001b[0m\u001b[0;34m\u001b[0m\u001b[0m\n\u001b[0;32m-> 3082\u001b[0;31m                 \u001b[0;32mraise\u001b[0m \u001b[0mKeyError\u001b[0m\u001b[0;34m(\u001b[0m\u001b[0mkey\u001b[0m\u001b[0;34m)\u001b[0m \u001b[0;32mfrom\u001b[0m \u001b[0merr\u001b[0m\u001b[0;34m\u001b[0m\u001b[0;34m\u001b[0m\u001b[0m\n\u001b[0m\u001b[1;32m   3083\u001b[0m \u001b[0;34m\u001b[0m\u001b[0m\n\u001b[1;32m   3084\u001b[0m         \u001b[0;32mif\u001b[0m \u001b[0mtolerance\u001b[0m \u001b[0;32mis\u001b[0m \u001b[0;32mnot\u001b[0m \u001b[0;32mNone\u001b[0m\u001b[0;34m:\u001b[0m\u001b[0;34m\u001b[0m\u001b[0;34m\u001b[0m\u001b[0m\n",
      "\u001b[0;31mKeyError\u001b[0m: 'Clusters_BloodBiochemistry'"
     ]
    }
   ],
   "source": [
    "old_scores.set_index(\"env_dataset\")[\"Clusters_BloodBiochemistry\"]"
   ]
  }
 ],
 "metadata": {
  "kernelspec": {
   "display_name": "Python 3.9.4  ('env_container': venv)",
   "name": "pythonjvsc74a57bd0827f31c7a17f115185da69808fd256ce792d94cfeb61ab0a6e35bd7e2999d502"
  },
  "language_info": {
   "codemirror_mode": {
    "name": "ipython",
    "version": 3
   },
   "file_extension": ".py",
   "mimetype": "text/x-python",
   "name": "python",
   "nbconvert_exporter": "python",
   "pygments_lexer": "ipython3",
   "version": "3.9.4"
  },
  "metadata": {
   "interpreter": {
    "hash": "827f31c7a17f115185da69808fd256ce792d94cfeb61ab0a6e35bd7e2999d502"
   }
  },
  "orig_nbformat": 2
 },
 "nbformat": 4,
 "nbformat_minor": 2
}